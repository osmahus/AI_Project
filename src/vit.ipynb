{
 "cells": [
  {
   "cell_type": "code",
   "execution_count": 1,
   "metadata": {},
   "outputs": [
    {
     "data": {
      "text/plain": [
       "<torch._C.Generator at 0x7f9f9c61fd50>"
      ]
     },
     "execution_count": 1,
     "metadata": {},
     "output_type": "execute_result"
    }
   ],
   "source": [
    "import os\n",
    "import cv2\n",
    "\n",
    "import numpy as np\n",
    "import pandas as pd\n",
    "from tqdm import tqdm, trange\n",
    "\n",
    "import matplotlib.pyplot as plt\n",
    "from mpl_toolkits.axes_grid1 import ImageGrid\n",
    "\n",
    "import torch\n",
    "import torch.nn as nn\n",
    "\n",
    "\n",
    "# The cross-entropy loss penalizes the model more when it is more confident in the incorrect class\n",
    "# which makes intuitive sense.\n",
    "from torch.nn import CrossEntropyLoss\n",
    "\n",
    "# Adam is an optimization algorithm that can be used instead of the classical SGD procedure\n",
    "# to update network weights iterative based in training data.\n",
    "from torch.optim import Adam\n",
    "from torch.utils.data import Dataset, DataLoader\n",
    "\n",
    "import torch.multiprocessing as mp\n",
    "\n",
    "from torchvision import transforms, datasets, models\n",
    "from torchvision.io import read_image\n",
    "\n",
    "np.random.seed(0)\n",
    "torch.manual_seed(0)"
   ]
  },
  {
   "cell_type": "code",
   "execution_count": 2,
   "metadata": {},
   "outputs": [
    {
     "name": "stdout",
     "output_type": "stream",
     "text": [
      "Torch is using device: cuda:0\n"
     ]
    },
    {
     "data": {
      "text/plain": [
       "'NVIDIA GeForce RTX 3070 Ti Laptop GPU'"
      ]
     },
     "execution_count": 2,
     "metadata": {},
     "output_type": "execute_result"
    }
   ],
   "source": [
    "# torch.cuda.current_device()\n",
    "# torch.cuda.get_device_name(0)\n",
    "# torch.cuda.device_count()\n",
    "device = torch.device('cuda:0' if torch.cuda.is_available() else 'cpu')\n",
    "print('Torch is using device:', device)\n",
    "torch.cuda.get_device_name(device)"
   ]
  },
  {
   "cell_type": "code",
   "execution_count": 3,
   "metadata": {},
   "outputs": [],
   "source": [
    "def remove_fname_space(path):\n",
    "    for filename in os.listdir(path):\n",
    "        my_source = path + \"/\" + filename\n",
    "        my_dest = path + \"/\" + filename.strip().replace(\" \", \"\")\n",
    "        os.rename(my_source, my_dest)"
   ]
  },
  {
   "cell_type": "code",
   "execution_count": 4,
   "metadata": {},
   "outputs": [],
   "source": [
    "path_tr_real = '../../data/CIFAK/train/REAL'\n",
    "# remove_fname_space(path_tr_real)"
   ]
  },
  {
   "cell_type": "code",
   "execution_count": 5,
   "metadata": {},
   "outputs": [],
   "source": [
    "fname_tr_real = os.listdir(path_tr_real)\n",
    "fname_tr_real.sort()\n",
    "labels_lst=[1]*len(fname_tr_real)\n",
    "# print(len(labels_lst))\n",
    "# print(len(fname_tr_real))\n",
    "tr_dict={'Image_name':fname_tr_real,'True?':labels_lst}\n",
    "tr_df=pd.DataFrame(tr_dict)\n",
    "tr_df.to_csv(path_tr_real+\"/tr_annotation.csv\")\n",
    "\n",
    "fpath_tr_real = []\n",
    "for i, file in enumerate(fname_tr_real):\n",
    "    fpath_tr_real.append(path_tr_real+\"/\"+file)"
   ]
  },
  {
   "cell_type": "code",
   "execution_count": 6,
   "metadata": {},
   "outputs": [
    {
     "data": {
      "text/plain": [
       "5"
      ]
     },
     "execution_count": 6,
     "metadata": {},
     "output_type": "execute_result"
    }
   ],
   "source": [
    "img_size = cv2.imread(fpath_tr_real[0]).shape[0]\n",
    "\n",
    "horizontal_slides= 6\n",
    "total_img_slices = horizontal_slides**2\n",
    "num_loader_images = 16\n",
    "\n",
    "slice_width = img_size//horizontal_slides\n",
    "slice_width"
   ]
  },
  {
   "cell_type": "code",
   "execution_count": 7,
   "metadata": {},
   "outputs": [],
   "source": [
    "class SliceImage:\n",
    "    def __init__(self, slice_width):\n",
    "        self.slice_width = slice_width\n",
    "\n",
    "    def slice(self, img):\n",
    "        # img: is a tensor of the shape (Color_Channels x Rows (Hight) x Columns (Width))\n",
    "        #\n",
    "        # Make a slice every \"slice_width\" as we are moving across dimension 1 (as we are moving\n",
    "        # vertically across rows)\n",
    "        img = img.unfold(1, self.slice_width, self.slice_width)\n",
    "        # Make a slice every slice_width as we are moving across dimension 2,\n",
    "        # Note that previous operation has added new dimension at the beginning\n",
    "        # refers to no. of vertical slices, hence 2 here still refers to the rows.\n",
    "        img = img.unfold(2, self.slice_width, self.slice_width)\n",
    "        return img\n",
    "\n",
    "    def plot(self, img):\n",
    "        img = self.slice(img).permute(1, 2, 0, 3, 4)\n",
    "        print(img.size())\n",
    "\n",
    "        fig = plt.figure(figsize=(2, 2))\n",
    "        grid = ImageGrid(fig, 111, nrows_ncols=(\n",
    "            img.size(0), img.size(1)), axes_pad=0.1)\n",
    "\n",
    "        for i, ax in enumerate(grid):\n",
    "            i_b4 = str(np.base_repr(i, img.size(0))).zfill(2)\n",
    "            row = int(i_b4[0])\n",
    "            column = int(i_b4[1])\n",
    "            patch = img[row][column].permute(1, 2, 0).numpy()\n",
    "            ax.imshow(patch)\n",
    "            ax.axis('off')\n",
    "\n",
    "    def __call__(self, img):\n",
    "        img = self.slice(img)\n",
    "        channels = img.size(0)\n",
    "\n",
    "        return img.reshape(-1, self.slice_width * self.slice_width * channels)\n",
    "\n",
    "    plt.show()"
   ]
  },
  {
   "cell_type": "markdown",
   "metadata": {},
   "source": [
    "Start by slicing each image [3,32,23] ==> [16,3,8,8]"
   ]
  },
  {
   "cell_type": "code",
   "execution_count": 8,
   "metadata": {},
   "outputs": [],
   "source": [
    "# Custom Dataset Class\n",
    "class Images_Dataset(Dataset):\n",
    "    def __init__(self, images, annotations_file, transform=None):\n",
    "        self.images = images\n",
    "        self.labels = pd.read_csv(annotations_file)\n",
    "        self.transform = transform\n",
    "\n",
    "    def __getitem__(self, index):\n",
    "        img = read_image(self.images[index])\n",
    "\n",
    "        # img.to(device)\n",
    "\n",
    "        labels = self.labels.iloc[index, 2]\n",
    "\n",
    "        if self.transform:\n",
    "            img_t = self.transform(img)\n",
    "\n",
    "        return img, img_t, labels\n",
    "\n",
    "    def __len__(self):\n",
    "        # To return the length of the dataset\n",
    "        return len(self.images)"
   ]
  },
  {
   "cell_type": "code",
   "execution_count": 9,
   "metadata": {},
   "outputs": [],
   "source": [
    "# Define the transforms on the input data (x) tensor\n",
    "data_transform = transforms.Compose([\n",
    "    transforms.ToPILImage(),\n",
    "    # transforms.Resize((32, 32)),\n",
    "    # transforms.CenterCrop(224),\n",
    "    transforms.ToTensor(),\n",
    "    transforms.Normalize(mean=[0.5, 0.5, 0.5], std=[0.5, 0.5, 0.5]),\n",
    "    SliceImage(slice_width=slice_width)\n",
    "])"
   ]
  },
  {
   "cell_type": "code",
   "execution_count": 10,
   "metadata": {},
   "outputs": [],
   "source": [
    "# Define the dataset object and configure the Data Loader\n",
    "tr_annotation_file = path_tr_real+\"/tr_annotation.csv\"\n",
    "\n",
    "Im_tr_dataset = Images_Dataset(fpath_tr_real, tr_annotation_file, data_transform)\n",
    "\n",
    "Im_tr_loader = DataLoader(dataset=Im_tr_dataset,\n",
    "                          batch_size=num_loader_images,\n",
    "                          # Drops the last mini batch if less than the batch size (could enhance the model accuracy)\n",
    "                          drop_last=True,\n",
    "                          shuffle=True,\n",
    "                          num_workers=4)  # increase number of processor cores loading the data and getting it ready for model training inside the GPU"
   ]
  },
  {
   "cell_type": "code",
   "execution_count": 11,
   "metadata": {},
   "outputs": [
    {
     "name": "stdout",
     "output_type": "stream",
     "text": [
      "torch.Size([3, 32, 32])\n"
     ]
    },
    {
     "data": {
      "text/plain": [
       "(-0.5, 31.5, 31.5, -0.5)"
      ]
     },
     "execution_count": 11,
     "metadata": {},
     "output_type": "execute_result"
    },
    {
     "data": {
      "image/png": "[encoded data removed]",
      "text/plain": [
       "<Figure size 200x200 with 1 Axes>"
      ]
     },
     "metadata": {},
     "output_type": "display_data"
    }
   ],
   "source": [
    "tr_img, tr_img_t, tr_labels = next(iter(Im_tr_loader))\n",
    "\n",
    "img_sample = tr_img[0]\n",
    "print(img_sample.size())\n",
    "fig = plt.figure(figsize=(2, 2))\n",
    "plt.imshow(img_sample.permute(1, 2, 0))\n",
    "plt.axis('off')"
   ]
  },
  {
   "cell_type": "code",
   "execution_count": 12,
   "metadata": {},
   "outputs": [
    {
     "name": "stdout",
     "output_type": "stream",
     "text": [
      "torch.Size([6, 6, 3, 5, 5])\n"
     ]
    },
    {
     "data": {
      "image/png": "[encoded data removed]",
      "text/plain": [
       "<Figure size 200x200 with 72 Axes>"
      ]
     },
     "metadata": {},
     "output_type": "display_data"
    }
   ],
   "source": [
    "slice=SliceImage(slice_width)\n",
    "slice.plot(img_sample)\n"
   ]
  },
  {
   "cell_type": "code",
   "execution_count": 13,
   "metadata": {},
   "outputs": [],
   "source": [
    "# num_img_slices = 2\n",
    "# num_loader_patches = 4\n",
    "# flattened_size = 8\n",
    "# hidden_size = 5\n",
    "\n",
    "# inp = torch.rand(num_loader_patches, num_img_slices, flattened_size)\n",
    "# print(\"image: \", inp.size())\n",
    "# print(\"\")\n",
    "\n",
    "# projection = nn.Linear(flattened_size, hidden_size)\n",
    "# res = projection(inp)\n",
    "\n",
    "# print(\"image embedding: \", res.size())\n",
    "\n",
    "# class_token = nn.Parameter(torch.rand(1, hidden_size)\n",
    "#                            ).repeat(res.size(0), 1, 1)\n",
    "# print(\"cls embedding: \", class_token.size())\n",
    "# print(\"\")\n",
    "\n",
    "# res = torch.concat([class_token, res], dim=1)\n",
    "# print(\"cls embedding + image embedding: \", res.size())\n",
    "\n",
    "# position = nn.Parameter(torch.rand(\n",
    "#     1, num_img_slices + 1, hidden_size)).repeat(res.size(0), 1, 1)\n",
    "# print(\"Position embedding: \", position.size())\n",
    "# print(\"\")\n",
    "# final=res+position\n",
    "# print(\"cls embedding + image embedding + Position embedding: \", final.size())"
   ]
  },
  {
   "cell_type": "code",
   "execution_count": 14,
   "metadata": {},
   "outputs": [],
   "source": [
    "class ImageEmbedding(nn.Module):\n",
    "\n",
    "    def __init__(self, slice_input_size, slice_embed_size, img_slices, dropout_ratio=0.2):\n",
    "        super().__init__()\n",
    "\n",
    "        self.img_to_embed = nn.Linear(slice_input_size, slice_embed_size)\n",
    "        self.cls_to_embed = nn.Parameter(torch.rand(1, slice_embed_size))\n",
    "        self.pos_to_embed = nn.Parameter(torch.rand(1, img_slices + 1, slice_embed_size))\n",
    "\n",
    "        self.dropout = nn.Dropout(dropout_ratio)\n",
    "\n",
    "    def forward(self, flattened_img):\n",
    "        # the input is a batch of images each has been sliced to patches and each slice\n",
    "        # has been flattened. i.e. the shape of the input is:\n",
    "        # [no. of images ,no. of slices per image, size of the flattened image slice]\n",
    "        # \n",
    "        img_embedding = self.embed(flattened_img)\n",
    "\n",
    "        cls_embedding = self.cls_to_embed.repeat(img_embedding.size(0), 1, 1)\n",
    "        img_embedding = torch.concat([cls_embedding, img_embedding], dim=1)\n",
    "\n",
    "        position_embedding = self.pos_to_embed.repeat(\n",
    "            img_embedding.size(0), 1, 1)\n",
    "\n",
    "        img_and_pos_embedding = img_embedding + position_embedding\n",
    "        return self.dropout(img_and_pos_embedding)"
   ]
  },
  {
   "cell_type": "code",
   "execution_count": 15,
   "metadata": {},
   "outputs": [],
   "source": [
    "class AttentionHead(nn.Module):  \n",
    "  \n",
    "    def __init__(self, size): # size is hidden size \n",
    "        super(AttentionHead, self).__init__()  \n",
    "  \n",
    "        self.query = nn.Linear(size, size)  \n",
    "        self.key = nn.Linear(size, size)  \n",
    "        self.value = nn.Linear(size, size)  \n",
    "  \n",
    "    def forward(self, input_tensor):  \n",
    "        q, k, v = self.query(input_tensor), self.key(input_tensor), self.value(input_tensor)  \n",
    "  \n",
    "        scale = q.size(1) ** 0.5  \n",
    "        scores = torch.bmm(q, k.transpose(1, 2)) / scale  \n",
    "  \n",
    "        scores = F.softmax(scores, dim=-1)  \n",
    "   \n",
    "        output = torch.bmm(scores, v)  \n",
    "        return output"
   ]
  },
  {
   "cell_type": "code",
   "execution_count": 16,
   "metadata": {},
   "outputs": [],
   "source": [
    "class MultiHeadAttention(nn.Module):\n",
    "\n",
    "    def __init__(self, size, num_heads):\n",
    "        super().__init__()\n",
    "\n",
    "        self.heads = nn.ModuleList([AttentionHead(size)\n",
    "                                   for _ in range(num_heads)])\n",
    "        self.linear = nn.Linear(size * num_heads, size)\n",
    "\n",
    "    def forward(self, input_tensor):\n",
    "        s = [head(input_tensor) for head in self.heads]\n",
    "        s = torch.cat(s, dim=-1)\n",
    "\n",
    "        output = self.linear(s)\n",
    "        return output"
   ]
  },
  {
   "cell_type": "code",
   "execution_count": 17,
   "metadata": {},
   "outputs": [],
   "source": [
    "class Encoder(nn.Module):  \n",
    "  \n",
    "    def __init__(self, size: int, num_heads: int, dropout: float = 0.1):  \n",
    "        super().__init__()  \n",
    "  \n",
    "        self.attention = MultiHeadAttention(size, num_heads)  \n",
    "        self.feed_forward = nn.Sequential(  \n",
    "            nn.Linear(size, 4 * size),  \n",
    "            nn.Dropout(dropout),  \n",
    "            nn.GELU(),  \n",
    "            nn.Linear(4 * size, size),  \n",
    "            nn.Dropout(dropout)  \n",
    "        )  \n",
    "        self.norm_attention = nn.LayerNorm(size)  \n",
    "        self.norm_feed_forward = nn.LayerNorm(size)  \n",
    "  \n",
    "    def forward(self, input_tensor):  \n",
    "        attn = input_tensor + self.attention(self.norm_attention(input_tensor))  \n",
    "        output = attn + self.feed_forward(self.norm_feed_forward(attn))  \n",
    "        return output"
   ]
  },
  {
   "cell_type": "code",
   "execution_count": 18,
   "metadata": {},
   "outputs": [],
   "source": [
    "class ViT(nn.Module):\n",
    "    def __init__(self,\n",
    "                 slice_input_size,\n",
    "                 slice_embed_size,\n",
    "                 img_slices,\n",
    "                 num_classes,\n",
    "                 num_heads,\n",
    "                 num_encoders,\n",
    "                 emb_dropout=0.1,\n",
    "                 enc_dropout=0.1,\n",
    "                 lr=1e-4, min_lr=4e-5,\n",
    "                 weight_decay=0.1,\n",
    "                 epochs=200):\n",
    "        super().__init__()\n",
    "\n",
    "        self.embedding = ImageEmbedding(\n",
    "            slice_input_size=slice_input_size,\n",
    "            slice_embed_size=slice_embed_size,\n",
    "            img_slices=img_slices,\n",
    "            dropout_ratio=emb_dropout)\n",
    "        self.encoders = nn.Sequential(\n",
    "            *[Encoder(slice_embed_size, num_heads, dropout=enc_dropout) for _ in range(num_encoders)],)\n",
    "        self.mlp_head = nn.Linear(slice_embed_size, num_classes)\n",
    "\n",
    "        self.lr = lr\n",
    "        self.min_lr = min_lr\n",
    "        self.weight_decay = weight_decay\n",
    "        self.epochs = epochs\n",
    "\n",
    "    def forward(self, flattened_img):\n",
    "        emb = self.embedding(flattened_img)\n",
    "        attn = self.encoders(emb)\n",
    "        output = self.mlp_head(attn[:, 0, :])\n",
    "\n",
    "        return output"
   ]
  },
  {
   "cell_type": "code",
   "execution_count": 19,
   "metadata": {},
   "outputs": [],
   "source": [
    "# a1= torch.tensor([[[1,2],[3,4],[5,6]]])\n",
    "# print(a1.size())\n",
    "# a2= torch.tensor([[[10,20],[30,40]]])\n",
    "# torch.bmm(a1,a2)"
   ]
  }
 ],
 "metadata": {
  "kernelspec": {
   "display_name": "pytVenv",
   "language": "python",
   "name": "python3"
  },
  "language_info": {
   "codemirror_mode": {
    "name": "ipython",
    "version": 3
   },
   "file_extension": ".py",
   "mimetype": "text/x-python",
   "name": "python",
   "nbconvert_exporter": "python",
   "pygments_lexer": "ipython3",
   "version": "3.11.0rc1"
  }
 },
 "nbformat": 4,
 "nbformat_minor": 2
}
