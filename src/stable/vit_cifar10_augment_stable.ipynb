{
 "cells": [
  {
   "cell_type": "code",
   "execution_count": 1,
   "metadata": {},
   "outputs": [],
   "source": [
    "import os\n",
    "import cv2\n",
    "\n",
    "# from dataset_process import dataset_to_df, search_df\n",
    "# from engine import train_fn, eval_fn\n",
    "\n",
    "import numpy as np\n",
    "# import pandas as pd\n",
    "\n",
    "from tqdm import tqdm\n",
    "\n",
    "import matplotlib.pyplot as plt\n",
    "from mpl_toolkits.axes_grid1 import ImageGrid\n",
    "\n",
    "import torch\n",
    "# from torch import Tensor\n",
    "import torch.nn as nn\n",
    "# import torch.nn.functional as F\n",
    "\n",
    "# The cross-entropy loss penalizes the model more when it is more confident in the incorrect class\n",
    "from torch.nn import CrossEntropyLoss\n",
    "\n",
    "# Adam is an optimization algorithm that can be used instead of the classical SGD procedure\n",
    "# to update network weights iterative based in training data.\n",
    "from torch.optim import Adam, lr_scheduler\n",
    "from torch.utils.data import Dataset, DataLoader, random_split\n",
    "\n",
    "import torchvision\n",
    "from torchvision import transforms\n",
    "from torchvision.io import read_image\n",
    "\n",
    "# import albumentations as alb\n",
    "\n",
    "from torchinfo import summary\n",
    "\n",
    "from einops import rearrange, repeat\n",
    "from einops.layers.torch import Rearrange\n",
    "\n",
    "# from typing import Optional, Tuple\n",
    "# import timm\n",
    "# import wandb\n",
    "# import time\n",
    "# from utils import progress_bar\n",
    "# import csv"
   ]
  },
  {
   "cell_type": "code",
   "execution_count": 2,
   "metadata": {},
   "outputs": [
    {
     "name": "stdout",
     "output_type": "stream",
     "text": [
      "torch version: 2.2.1+cu121\n",
      "GPU Card: NVIDIA GeForce RTX 3070 Ti Laptop GPU\n",
      "Torch is using device: cuda:0\n",
      "CPU Count: 20\n"
     ]
    }
   ],
   "source": [
    "print(f\"torch version: {torch.__version__}\")\n",
    "print(f\"GPU Card: {torch.cuda.get_device_name(0)}\")\n",
    "device = torch.device('cuda:0' if torch.cuda.is_available() else 'cpu')\n",
    "print('Torch is using device:', device)\n",
    "torch.cuda.get_device_name(device)\n",
    "\n",
    "NUM_WORKERS = os.cpu_count()\n",
    "print(\"CPU Count:\", NUM_WORKERS)"
   ]
  },
  {
   "cell_type": "code",
   "execution_count": 3,
   "metadata": {},
   "outputs": [],
   "source": [
    "start_from_model = False\n",
    "model_state_path = \"../../../weights/vit_cifar10/checkpoint/\"\n",
    "model_file_name = \"\""
   ]
  },
  {
   "cell_type": "code",
   "execution_count": 4,
   "metadata": {},
   "outputs": [
    {
     "name": "stdout",
     "output_type": "stream",
     "text": [
      "Flattened dimension size(of a patch): 192\n",
      "Embedding Size: 192\n",
      "Output MLP size: 512\n"
     ]
    }
   ],
   "source": [
    "img_size = 32\n",
    "patch_size = 8\n",
    "trans_img_resize = 32\n",
    "image_patch_flat_size = 3*patch_size**2\n",
    "embed_size = image_patch_flat_size\n",
    "mlp_dim = 512\n",
    "train_batch_size = 512\n",
    "valid_batch_size = 100\n",
    "num_classes = 10\n",
    "encoder_depth = 6\n",
    "attention_heads = 12\n",
    "\n",
    "print(f'Flattened dimension size(of a patch): {image_patch_flat_size}')\n",
    "print(f'Embedding Size: {embed_size}')\n",
    "print(f'Output MLP size: {mlp_dim}')"
   ]
  },
  {
   "cell_type": "code",
   "execution_count": 5,
   "metadata": {},
   "outputs": [],
   "source": [
    "# https://github.com/lucidrains/vit-pytorch/blob/main/vit_pytorch/vit.py\n",
    "\n",
    "# helpers\n",
    "\n",
    "def pair(t):\n",
    "    return t if isinstance(t, tuple) else (t, t)\n",
    "\n",
    "# classes\n",
    "\n",
    "class PreNorm(nn.Module):\n",
    "    def __init__(self, dim, fn):\n",
    "        super().__init__()\n",
    "        self.norm = nn.LayerNorm(dim)\n",
    "        self.fn = fn\n",
    "    def forward(self, x, **kwargs):\n",
    "        return self.fn(self.norm(x), **kwargs)\n",
    "\n",
    "class FeedForward(nn.Module):\n",
    "    def __init__(self, dim, hidden_dim, dropout = 0.):\n",
    "        super().__init__()\n",
    "        self.model = nn.Sequential(\n",
    "            nn.Linear(dim, hidden_dim),\n",
    "            nn.GELU(),\n",
    "            nn.Dropout(dropout),\n",
    "            nn.Linear(hidden_dim, dim),\n",
    "            nn.Dropout(dropout)\n",
    "        )\n",
    "    def forward(self, x):\n",
    "        return self.model(x)\n",
    "\n",
    "class Attention(nn.Module):\n",
    "    def __init__(self, dim, heads = 8, dim_head = 64, dropout = 0.):\n",
    "        super().__init__()\n",
    "        inner_dim = dim_head *  heads\n",
    "        project_out = not (heads == 1 and dim_head == dim)\n",
    "\n",
    "        self.heads = heads\n",
    "        self.scale = dim_head ** -0.5\n",
    "\n",
    "        self.attend = nn.Softmax(dim = -1)\n",
    "        self.to_qkv = nn.Linear(dim, inner_dim * 3, bias = False)\n",
    "\n",
    "        self.to_out = nn.Sequential(\n",
    "            nn.Linear(inner_dim, dim),\n",
    "            nn.Dropout(dropout)\n",
    "        ) if project_out else nn.Identity()\n",
    "\n",
    "    def forward(self, x):\n",
    "        qkv = self.to_qkv(x).chunk(3, dim = -1)\n",
    "        q, k, v = map(lambda t: rearrange(t, 'b n (h d) -> b h n d', h = self.heads), qkv)\n",
    "\n",
    "        dots = torch.matmul(q, k.transpose(-1, -2)) * self.scale\n",
    "\n",
    "        attn = self.attend(dots)\n",
    "\n",
    "        out = torch.matmul(attn, v)\n",
    "        out = rearrange(out, 'b h n d -> b n (h d)')\n",
    "        return self.to_out(out)\n",
    "\n",
    "class Transformer(nn.Module):\n",
    "    def __init__(self, dim, depth, heads, dim_head, mlp_dim, dropout = 0.):\n",
    "        super().__init__()\n",
    "        self.layers = nn.ModuleList([])\n",
    "        for _ in range(depth):\n",
    "            self.layers.append(nn.ModuleList([\n",
    "                PreNorm(dim, Attention(dim, heads = heads, dim_head = dim_head, dropout = dropout)),\n",
    "                PreNorm(dim, FeedForward(dim, mlp_dim, dropout = dropout))\n",
    "            ]))\n",
    "    def forward(self, x):\n",
    "        for attn, ff in self.layers:\n",
    "            x = attn(x) + x\n",
    "            x = ff(x) + x\n",
    "        return x\n",
    "\n",
    "class ViT(nn.Module):\n",
    "    def __init__(self, *, image_size, patch_size, num_classes, dim, depth, heads, mlp_dim, pool = 'cls', channels = 3, dim_head = 64, emb_dropout = 0., dropout = 0.):\n",
    "        super().__init__()\n",
    "        image_height, image_width = pair(image_size)\n",
    "        patch_height, patch_width = pair(patch_size)\n",
    "\n",
    "        assert image_height % patch_height == 0 and image_width % patch_width == 0, 'Image dimensions must be divisible by the patch size.'\n",
    "\n",
    "        num_patches = (image_height // patch_height) * (image_width // patch_width)\n",
    "        patch_dim = channels * patch_height * patch_width\n",
    "        assert pool in {'cls', 'mean'}, 'pool type must be either cls (cls token) or mean (mean pooling)'\n",
    "\n",
    "        self.to_patch_embedding = nn.Sequential(\n",
    "            Rearrange('b c (h p1) (w p2) -> b (h w) (p1 p2 c)', p1 = patch_height, p2 = patch_width),\n",
    "            nn.Linear(patch_dim, dim),\n",
    "        )\n",
    "\n",
    "        self.pos_embedding = nn.Parameter(torch.randn(1, num_patches + 1, dim))\n",
    "        self.cls_token = nn.Parameter(torch.randn(1, 1, dim))\n",
    "        self.dropout = nn.Dropout(emb_dropout)\n",
    "\n",
    "        self.transformer = Transformer(dim, depth, heads, dim_head, mlp_dim, dropout)\n",
    "\n",
    "        self.pool = pool\n",
    "        self.to_latent = nn.Identity()\n",
    "\n",
    "        self.mlp_head = nn.Sequential(\n",
    "            nn.LayerNorm(dim),\n",
    "            nn.Linear(dim, num_classes)\n",
    "        )\n",
    "\n",
    "    def forward(self, img):\n",
    "        x = self.to_patch_embedding(img)\n",
    "        b, n, _ = x.shape\n",
    "\n",
    "        cls_tokens = repeat(self.cls_token, '() n d -> b n d', b = b)\n",
    "        x = torch.cat((cls_tokens, x), dim=1)\n",
    "        x += self.pos_embedding[:, :(n + 1)]\n",
    "        x = self.dropout(x)\n",
    "\n",
    "        x = self.transformer(x)\n",
    "\n",
    "        x = x.mean(dim = 1) if self.pool == 'mean' else x[:, 0]\n",
    "\n",
    "        x = self.to_latent(x)\n",
    "        return self.mlp_head(x)"
   ]
  },
  {
   "cell_type": "code",
   "execution_count": 6,
   "metadata": {},
   "outputs": [],
   "source": [
    "norm_mean = [0.4913997551666284, 0.48215855929893703, 0.4465309133731618]\n",
    "norm_std = [0.24703225141799082, 0.24348516474564, 0.26158783926049628]"
   ]
  },
  {
   "cell_type": "code",
   "execution_count": 7,
   "metadata": {},
   "outputs": [],
   "source": [
    "transform_train = transforms.Compose([\n",
    "    transforms.RandAugment(2, 14),\n",
    "    transforms.RandomCrop(32, padding=4),\n",
    "    transforms.Resize(trans_img_resize),\n",
    "    transforms.RandomHorizontalFlip(),\n",
    "    transforms.ToTensor(),\n",
    "    transforms.Normalize(norm_mean, norm_std),\n",
    "])\n",
    "\n",
    "transform_valid = transforms.Compose([\n",
    "    transforms.Resize(trans_img_resize),\n",
    "    transforms.ToTensor(),\n",
    "    transforms.Normalize(norm_mean, norm_std),\n",
    "])"
   ]
  },
  {
   "cell_type": "code",
   "execution_count": 8,
   "metadata": {},
   "outputs": [
    {
     "name": "stdout",
     "output_type": "stream",
     "text": [
      "Files already downloaded and verified\n",
      "Files already downloaded and verified\n"
     ]
    }
   ],
   "source": [
    "# Prepare dataset\n",
    "train_set = torchvision.datasets.CIFAR10(root='../../../data/CIFAR10', train=True, download=True, transform=transform_train)\n",
    "train_loader = torch.utils.data.DataLoader(train_set, batch_size=train_batch_size, shuffle=True, num_workers=NUM_WORKERS )\n",
    "\n",
    "valid_set = torchvision.datasets.CIFAR10(root='../../../data/CIFAR10', train=False, download=True, transform=transform_valid)\n",
    "valid_loader = torch.utils.data.DataLoader(valid_set, batch_size=valid_batch_size, shuffle=False, num_workers=NUM_WORKERS )"
   ]
  },
  {
   "cell_type": "code",
   "execution_count": 9,
   "metadata": {},
   "outputs": [
    {
     "name": "stdout",
     "output_type": "stream",
     "text": [
      "Batch of Images Shape: torch.Size([512, 3, 32, 32])\n",
      "Batch of Images Shape: torch.Size([512])\n",
      "tensor([1, 4, 0, 4, 2, 1, 9, 1, 7, 0, 2, 8, 4, 3, 4, 3, 5, 3, 3, 7, 9, 1, 0, 8,\n",
      "        8, 7, 7, 7, 6, 4, 1, 0, 8, 1, 4, 6, 5, 1, 6, 4, 8, 0, 5, 0, 6, 1, 8, 1,\n",
      "        7, 8, 7, 0, 4, 7, 8, 8, 9, 3, 7, 2, 7, 4, 1, 4, 0, 0, 5, 0, 4, 8, 9, 2,\n",
      "        0, 8, 2, 5, 3, 1, 9, 8, 8, 2, 0, 6, 7, 8, 7, 9, 5, 7, 4, 1, 8, 6, 7, 2,\n",
      "        3, 2, 3, 3, 7, 0, 6, 8, 5, 6, 0, 4, 9, 6, 6, 8, 0, 0, 7, 4, 2, 9, 2, 4,\n",
      "        2, 6, 7, 3, 4, 7, 4, 1, 4, 2, 0, 8, 5, 9, 5, 7, 5, 2, 4, 6, 4, 9, 8, 5,\n",
      "        0, 2, 1, 8, 3, 1, 0, 9, 5, 4, 8, 7, 6, 8, 7, 6, 8, 1, 8, 6, 2, 4, 0, 0,\n",
      "        0, 3, 5, 6, 9, 3, 2, 6, 2, 7, 6, 2, 2, 4, 2, 7, 0, 4, 9, 9, 8, 0, 1, 7,\n",
      "        6, 4, 8, 5, 0, 0, 4, 4, 7, 0, 9, 1, 7, 5, 5, 1, 5, 9, 3, 4, 7, 4, 5, 3,\n",
      "        7, 1, 0, 0, 9, 7, 7, 3, 2, 7, 4, 0, 5, 7, 8, 0, 6, 3, 3, 8, 3, 6, 3, 1,\n",
      "        5, 2, 8, 2, 8, 8, 7, 0, 9, 0, 9, 8, 5, 4, 4, 2, 4, 2, 4, 6, 8, 8, 0, 0,\n",
      "        3, 3, 9, 3, 8, 3, 1, 4, 7, 7, 8, 9, 5, 9, 0, 2, 8, 0, 7, 7, 4, 2, 6, 9,\n",
      "        6, 6, 3, 7, 0, 7, 5, 5, 6, 9, 2, 6, 8, 9, 5, 1, 8, 2, 9, 8, 2, 1, 2, 1,\n",
      "        3, 0, 4, 4, 3, 2, 5, 9, 4, 3, 7, 7, 6, 4, 6, 9, 7, 2, 9, 5, 3, 2, 5, 5,\n",
      "        0, 4, 1, 5, 2, 4, 0, 3, 8, 6, 6, 2, 6, 0, 7, 8, 5, 7, 2, 3, 2, 5, 8, 6,\n",
      "        9, 1, 6, 2, 8, 1, 1, 7, 7, 3, 9, 3, 0, 1, 0, 5, 2, 8, 2, 7, 6, 7, 3, 6,\n",
      "        1, 7, 1, 5, 0, 5, 6, 8, 9, 5, 6, 0, 2, 0, 1, 5, 2, 0, 9, 8, 7, 8, 6, 2,\n",
      "        5, 1, 9, 7, 6, 5, 3, 6, 1, 2, 6, 5, 4, 7, 2, 4, 8, 7, 5, 8, 0, 2, 4, 5,\n",
      "        7, 9, 8, 2, 4, 3, 5, 7, 1, 9, 1, 4, 1, 5, 9, 0, 7, 0, 5, 2, 8, 7, 4, 8,\n",
      "        9, 9, 3, 6, 2, 8, 6, 0, 7, 7, 6, 5, 9, 6, 8, 3, 8, 1, 4, 8, 0, 5, 2, 8,\n",
      "        6, 5, 1, 1, 5, 9, 8, 7, 2, 1, 4, 2, 5, 2, 5, 0, 6, 2, 0, 9, 0, 1, 7, 3,\n",
      "        5, 7, 4, 0, 8, 7, 5, 8])\n"
     ]
    }
   ],
   "source": [
    "sample_img_batch,label = next(iter(train_loader))\n",
    "\n",
    "print(f\"Batch of Images Shape: {sample_img_batch.size()}\")\n",
    "print(f\"Batch of Images Shape: {label.size()}\")\n",
    "print(label)"
   ]
  },
  {
   "cell_type": "code",
   "execution_count": 10,
   "metadata": {},
   "outputs": [],
   "source": [
    "class SliceImage:\n",
    "    def __init__(self, slice_width):\n",
    "        self.slice_width = slice_width\n",
    "\n",
    "    def slice(self, img):\n",
    "        # c: color channels\n",
    "\n",
    "        # h: desired slice height (pixels)\n",
    "        # w: desired slice width (pixels)\n",
    "\n",
    "        # row: No. of vertical slices\n",
    "        # col: No. of horizontal slices\n",
    "\n",
    "        # b: Batch of Images\n",
    "\n",
    "        sliced_Img = rearrange(\n",
    "            img, 'c (row h) (col w) -> row col c h w', h=self.slice_width, w=self.slice_width)\n",
    "\n",
    "        return sliced_Img\n",
    "\n",
    "    def __call__(self, img):\n",
    "        sliced_img = self.slice(img)\n",
    "        sliced_flattened_img = rearrange(\n",
    "            sliced_img, 'row col c h w -> (row col) (c h w)')\n",
    "\n",
    "        return sliced_flattened_img\n",
    "\n",
    "    plt.show()"
   ]
  },
  {
   "cell_type": "code",
   "execution_count": 11,
   "metadata": {},
   "outputs": [],
   "source": [
    "def img_data(train_loader, index):\n",
    "\n",
    "    img, label = train_loader.dataset[index]\n",
    "\n",
    "    channels, img_H, img_W = img.size()\n",
    "    \n",
    "    batch = train_loader.batch_size\n",
    "\n",
    "    return img, label, channels, img_H, batch"
   ]
  },
  {
   "cell_type": "code",
   "execution_count": 12,
   "metadata": {},
   "outputs": [],
   "source": [
    "def img_plot(img, slice_width):\n",
    "    slice = SliceImage(slice_width)\n",
    "    sliced_img = slice.slice(img)\n",
    "    print(\"Sliced Image Shape: \", sliced_img.shape)\n",
    "\n",
    "    fig = plt.figure(layout=\"constrained\", figsize=(8, 4))\n",
    "    subfigs = fig.subfigures(3, 1, height_ratios=[1., 1.5, 1.], hspace=0.05, squeeze='True')\n",
    "\n",
    "    axs0 = subfigs[0].subplots(1, 1)\n",
    "    img_a = rearrange(img, \"c h w -> h w c\").numpy()\n",
    "    \n",
    "    axs0.imshow(img_a)\n",
    "    axs0.axis('off')\n",
    "    # subfigs[0].suptitle('Input Image', fontsize=10)\n",
    "\n",
    "    grid1 = ImageGrid(subfigs[1], 111, nrows_ncols=(sliced_img.size(0), sliced_img.size(1)), axes_pad=0.03)\n",
    "\n",
    "    for i, ax in enumerate(grid1):\n",
    "        i_b4 = str(np.base_repr(i, sliced_img.size(0))).zfill(2)\n",
    "        row = int(i_b4[0])\n",
    "        column = int(i_b4[1])\n",
    "        patch = rearrange(sliced_img[row][column], \"c h w -> h w c\").numpy()\n",
    "        \n",
    "        ax.imshow(patch)\n",
    "        ax.axis('off')\n",
    "    # subfigs[1].suptitle('Slices', fontsize=10)\n",
    "\n",
    "    grid2 = ImageGrid(subfigs[2], 111, nrows_ncols=(1, sliced_img.size(0)*sliced_img.size(1)), axes_pad=0.03)\n",
    "\n",
    "    for i, ax in enumerate(grid2):\n",
    "        i_b4 = str(np.base_repr(i, sliced_img.size(0))).zfill(2)\n",
    "        row = int(i_b4[0])\n",
    "        column = int(i_b4[1])\n",
    "        patch = sliced_img[row][column].permute(1, 2, 0).numpy()\n",
    "        \n",
    "        ax.imshow(patch)\n",
    "        ax.axis('off')\n",
    "    # subfigs[2].suptitle('Position', fontsize=10)"
   ]
  },
  {
   "cell_type": "code",
   "execution_count": 13,
   "metadata": {},
   "outputs": [
    {
     "name": "stderr",
     "output_type": "stream",
     "text": [
      "Clipping input data to the valid range for imshow with RGB data ([0..1] for floats or [0..255] for integers).\n",
      "Clipping input data to the valid range for imshow with RGB data ([0..1] for floats or [0..255] for integers).\n",
      "Clipping input data to the valid range for imshow with RGB data ([0..1] for floats or [0..255] for integers).\n",
      "Clipping input data to the valid range for imshow with RGB data ([0..1] for floats or [0..255] for integers).\n"
     ]
    },
    {
     "name": "stdout",
     "output_type": "stream",
     "text": [
      "Input Image Shape: torch.Size([3, 32, 32])\n",
      "Sliced Image Shape:  torch.Size([4, 4, 3, 8, 8])\n"
     ]
    },
    {
     "name": "stderr",
     "output_type": "stream",
     "text": [
      "Clipping input data to the valid range for imshow with RGB data ([0..1] for floats or [0..255] for integers).\n",
      "Clipping input data to the valid range for imshow with RGB data ([0..1] for floats or [0..255] for integers).\n",
      "Clipping input data to the valid range for imshow with RGB data ([0..1] for floats or [0..255] for integers).\n",
      "Clipping input data to the valid range for imshow with RGB data ([0..1] for floats or [0..255] for integers).\n",
      "Clipping input data to the valid range for imshow with RGB data ([0..1] for floats or [0..255] for integers).\n",
      "Clipping input data to the valid range for imshow with RGB data ([0..1] for floats or [0..255] for integers).\n",
      "Clipping input data to the valid range for imshow with RGB data ([0..1] for floats or [0..255] for integers).\n",
      "Clipping input data to the valid range for imshow with RGB data ([0..1] for floats or [0..255] for integers).\n",
      "Clipping input data to the valid range for imshow with RGB data ([0..1] for floats or [0..255] for integers).\n",
      "Clipping input data to the valid range for imshow with RGB data ([0..1] for floats or [0..255] for integers).\n",
      "Clipping input data to the valid range for imshow with RGB data ([0..1] for floats or [0..255] for integers).\n",
      "Clipping input data to the valid range for imshow with RGB data ([0..1] for floats or [0..255] for integers).\n",
      "Clipping input data to the valid range for imshow with RGB data ([0..1] for floats or [0..255] for integers).\n",
      "Clipping input data to the valid range for imshow with RGB data ([0..1] for floats or [0..255] for integers).\n",
      "Clipping input data to the valid range for imshow with RGB data ([0..1] for floats or [0..255] for integers).\n",
      "Clipping input data to the valid range for imshow with RGB data ([0..1] for floats or [0..255] for integers).\n",
      "Clipping input data to the valid range for imshow with RGB data ([0..1] for floats or [0..255] for integers).\n",
      "Clipping input data to the valid range for imshow with RGB data ([0..1] for floats or [0..255] for integers).\n",
      "Clipping input data to the valid range for imshow with RGB data ([0..1] for floats or [0..255] for integers).\n",
      "Clipping input data to the valid range for imshow with RGB data ([0..1] for floats or [0..255] for integers).\n",
      "Clipping input data to the valid range for imshow with RGB data ([0..1] for floats or [0..255] for integers).\n",
      "Clipping input data to the valid range for imshow with RGB data ([0..1] for floats or [0..255] for integers).\n",
      "Clipping input data to the valid range for imshow with RGB data ([0..1] for floats or [0..255] for integers).\n",
      "Clipping input data to the valid range for imshow with RGB data ([0..1] for floats or [0..255] for integers).\n",
      "Clipping input data to the valid range for imshow with RGB data ([0..1] for floats or [0..255] for integers).\n",
      "Clipping input data to the valid range for imshow with RGB data ([0..1] for floats or [0..255] for integers).\n",
      "Clipping input data to the valid range for imshow with RGB data ([0..1] for floats or [0..255] for integers).\n",
      "Clipping input data to the valid range for imshow with RGB data ([0..1] for floats or [0..255] for integers).\n",
      "Clipping input data to the valid range for imshow with RGB data ([0..1] for floats or [0..255] for integers).\n"
     ]
    },
    {
     "name": "stdout",
     "output_type": "stream",
     "text": [
      "\n",
      "slice_embed 192\n"
     ]
    },
    {
     "data": {
      "image/png": "[encoded data removed]",
      "text/plain": [
       "<Figure size 800x400 with 65 Axes>"
      ]
     },
     "metadata": {},
     "output_type": "display_data"
    }
   ],
   "source": [
    "sample_img, _ = train_set[100]\n",
    "sample_img_tr, sample_img_label, ch, img_size, batch_size = img_data(train_loader, 2)\n",
    "print(f\"Input Image Shape: {sample_img_tr.size()}\")\n",
    "img_plot(sample_img, patch_size)\n",
    "\n",
    "print(\"\")\n",
    "\n",
    "slice_embed = embed_size\n",
    "print(\"slice_embed\", slice_embed)"
   ]
  },
  {
   "cell_type": "code",
   "execution_count": 14,
   "metadata": {},
   "outputs": [],
   "source": [
    "model = ViT(\n",
    "    image_size=img_size,\n",
    "    patch_size=patch_size,\n",
    "    num_classes=num_classes,\n",
    "    dim=slice_embed,\n",
    "    depth=encoder_depth,\n",
    "    heads=attention_heads,\n",
    "    mlp_dim=mlp_dim,\n",
    "    emb_dropout=0.1,\n",
    "    dropout=0.1\n",
    ")\n"
   ]
  },
  {
   "cell_type": "code",
   "execution_count": 15,
   "metadata": {},
   "outputs": [
    {
     "name": "stdout",
     "output_type": "stream",
     "text": [
      "Input Shape:  torch.Size([512, 3, 32, 32])\n",
      "Output Shape:  torch.Size([512, 10])\n"
     ]
    },
    {
     "data": {
      "text/plain": [
       "==================================================================================================================================\n",
       "Layer (type (var_name))                            Input Shape          Output Shape         Param #              Trainable\n",
       "==================================================================================================================================\n",
       "ViT (ViT)                                          [512, 3, 32, 32]     [512, 10]            3,456                True\n",
       "├─Sequential (to_patch_embedding)                  [512, 3, 32, 32]     [512, 16, 192]       --                   True\n",
       "│    └─Rearrange (0)                               [512, 3, 32, 32]     [512, 16, 192]       --                   --\n",
       "│    └─Linear (1)                                  [512, 16, 192]       [512, 16, 192]       37,056               True\n",
       "├─Dropout (dropout)                                [512, 17, 192]       [512, 17, 192]       --                   --\n",
       "├─Transformer (transformer)                        [512, 17, 192]       [512, 17, 192]       --                   True\n",
       "│    └─ModuleList (layers)                         --                   --                   --                   True\n",
       "│    │    └─ModuleList (0)                         --                   --                   788,096              True\n",
       "│    │    └─ModuleList (1)                         --                   --                   788,096              True\n",
       "│    │    └─ModuleList (2)                         --                   --                   788,096              True\n",
       "│    │    └─ModuleList (3)                         --                   --                   788,096              True\n",
       "│    │    └─ModuleList (4)                         --                   --                   788,096              True\n",
       "│    │    └─ModuleList (5)                         --                   --                   788,096              True\n",
       "├─Identity (to_latent)                             [512, 192]           [512, 192]           --                   --\n",
       "├─Sequential (mlp_head)                            [512, 192]           [512, 10]            --                   True\n",
       "│    └─LayerNorm (0)                               [512, 192]           [512, 192]           384                  True\n",
       "│    └─Linear (1)                                  [512, 192]           [512, 10]            1,930                True\n",
       "==================================================================================================================================\n",
       "Total params: 4,771,402\n",
       "Trainable params: 4,771,402\n",
       "Non-trainable params: 0\n",
       "Total mult-adds (Units.GIGABYTES): 2.44\n",
       "==================================================================================================================================\n",
       "Input size (MB): 6.29\n",
       "Forward/backward pass size (MB): 1510.78\n",
       "Params size (MB): 19.07\n",
       "Estimated Total Size (MB): 1536.14\n",
       "=================================================================================================================================="
      ]
     },
     "execution_count": 15,
     "metadata": {},
     "output_type": "execute_result"
    }
   ],
   "source": [
    "vit_output = model(sample_img_batch)\n",
    "\n",
    "print(\"Input Shape: \", sample_img_batch.size())\n",
    "print(\"Output Shape: \", vit_output.size())\n",
    "\n",
    "summary(model=model,\n",
    "        input_size=sample_img_batch.size(),\n",
    "        col_names=[\"input_size\", \"output_size\", \"num_params\", \"trainable\"],\n",
    "        col_width=20,\n",
    "        row_settings=[\"var_names\"])"
   ]
  },
  {
   "cell_type": "code",
   "execution_count": 16,
   "metadata": {},
   "outputs": [],
   "source": [
    "n_epochs = 100         # Number of epochs\n",
    "base_lr = 10e-3         # Base LR\n",
    "weight_decay = 0.03     # Weight decay for ViT-Base (on ImageNet-21k)"
   ]
  },
  {
   "cell_type": "code",
   "execution_count": 17,
   "metadata": {},
   "outputs": [],
   "source": [
    "if start_from_model:\n",
    "    checkpoint = torch.load(model_state_path+model_file_name)\n",
    "    model.load_state_dict(checkpoint['model'])\n",
    "    \n",
    "    start_epoch = checkpoint['epoch']\n",
    "    best_acc = checkpoint['best_acc']\n",
    "    list_tr_loss = checkpoint['list_tr_loss']\n",
    "    list_tr_acc = checkpoint['list_tr_acc']\n",
    "    list_val_loss = checkpoint['list_val_loss']\n",
    "    list_val_acc = checkpoint['list_val_acc']\n",
    "else:\n",
    "    start_epoch = 0  \n",
    "    best_acc = 0\n",
    "\n",
    "    list_tr_loss = []\n",
    "    list_tr_acc = []\n",
    "    list_val_loss = []\n",
    "    list_val_acc = []"
   ]
  },
  {
   "cell_type": "code",
   "execution_count": 18,
   "metadata": {},
   "outputs": [],
   "source": [
    "criterion = CrossEntropyLoss()\n",
    "optimizer = Adam(model.parameters(), lr=base_lr)\n",
    "# optimizer = optim.SGD(model.parameters(), lr=base_lr)  \n",
    "    \n",
    "# use cosine scheduling\n",
    "scheduler = lr_scheduler.CosineAnnealingLR(optimizer, n_epochs)"
   ]
  },
  {
   "cell_type": "code",
   "execution_count": 19,
   "metadata": {},
   "outputs": [
    {
     "name": "stdout",
     "output_type": "stream",
     "text": [
      "\n",
      " epoch: 1/100\n"
     ]
    },
    {
     "name": "stderr",
     "output_type": "stream",
     "text": [
      "Train--Epoch [1/100]: 100%|██████████| 98/98 [00:09<00:00, 10.85it/s, acc=10.8, loss=2.38]\n",
      "Valid--Epoch [1/100]: 100%|██████████| 100/100 [00:01<00:00, 93.69it/s, acc=11.9, loss=2.28]\n"
     ]
    },
    {
     "name": "stdout",
     "output_type": "stream",
     "text": [
      "Saving..\n",
      "\n",
      " epoch: 2/100\n"
     ]
    },
    {
     "name": "stderr",
     "output_type": "stream",
     "text": [
      "Train--Epoch [2/100]: 100%|██████████| 98/98 [00:08<00:00, 11.00it/s, acc=14.1, loss=2.26]\n",
      "Valid--Epoch [2/100]: 100%|██████████| 100/100 [00:01<00:00, 94.80it/s, acc=18.9, loss=2.11]\n"
     ]
    },
    {
     "name": "stdout",
     "output_type": "stream",
     "text": [
      "Saving..\n",
      "\n",
      " epoch: 3/100\n"
     ]
    },
    {
     "name": "stderr",
     "output_type": "stream",
     "text": [
      "Train--Epoch [3/100]: 100%|██████████| 98/98 [00:08<00:00, 11.14it/s, acc=16.1, loss=2.2] \n",
      "Valid--Epoch [3/100]: 100%|██████████| 100/100 [00:01<00:00, 96.04it/s, acc=21.2, loss=2.08]\n"
     ]
    },
    {
     "name": "stdout",
     "output_type": "stream",
     "text": [
      "Saving..\n",
      "\n",
      " epoch: 4/100\n"
     ]
    },
    {
     "name": "stderr",
     "output_type": "stream",
     "text": [
      "Train--Epoch [4/100]: 100%|██████████| 98/98 [00:08<00:00, 10.99it/s, acc=17, loss=2.18]  \n",
      "Valid--Epoch [4/100]: 100%|██████████| 100/100 [00:01<00:00, 98.42it/s, acc=20.9, loss=2.08]"
     ]
    },
    {
     "name": "stdout",
     "output_type": "stream",
     "text": [
      "\n",
      " epoch: 5/100\n"
     ]
    },
    {
     "name": "stderr",
     "output_type": "stream",
     "text": [
      "\n",
      "Train--Epoch [5/100]: 100%|██████████| 98/98 [00:08<00:00, 11.06it/s, acc=17.3, loss=2.18]\n",
      "Valid--Epoch [5/100]: 100%|██████████| 100/100 [00:01<00:00, 99.32it/s, acc=21.7, loss=2.07]\n"
     ]
    },
    {
     "name": "stdout",
     "output_type": "stream",
     "text": [
      "Saving..\n",
      "\n",
      " epoch: 6/100\n"
     ]
    },
    {
     "name": "stderr",
     "output_type": "stream",
     "text": [
      "Train--Epoch [6/100]: 100%|██████████| 98/98 [00:08<00:00, 10.98it/s, acc=17.8, loss=2.17]\n",
      "Valid--Epoch [6/100]: 100%|██████████| 100/100 [00:01<00:00, 97.26it/s, acc=24.3, loss=2.04]\n"
     ]
    },
    {
     "name": "stdout",
     "output_type": "stream",
     "text": [
      "Saving..\n",
      "\n",
      " epoch: 7/100\n"
     ]
    },
    {
     "name": "stderr",
     "output_type": "stream",
     "text": [
      "Train--Epoch [7/100]: 100%|██████████| 98/98 [00:08<00:00, 10.93it/s, acc=17.9, loss=2.17]\n",
      "Valid--Epoch [7/100]: 100%|██████████| 100/100 [00:01<00:00, 96.06it/s, acc=23, loss=2.04]  \n"
     ]
    },
    {
     "name": "stdout",
     "output_type": "stream",
     "text": [
      "\n",
      " epoch: 8/100\n"
     ]
    },
    {
     "name": "stderr",
     "output_type": "stream",
     "text": [
      "Train--Epoch [8/100]: 100%|██████████| 98/98 [00:09<00:00, 10.85it/s, acc=18.4, loss=2.15]\n",
      "Valid--Epoch [8/100]: 100%|██████████| 100/100 [00:01<00:00, 97.93it/s, acc=22.7, loss=2.03]"
     ]
    },
    {
     "name": "stdout",
     "output_type": "stream",
     "text": [
      "\n",
      " epoch: 9/100\n"
     ]
    },
    {
     "name": "stderr",
     "output_type": "stream",
     "text": [
      "\n",
      "Train--Epoch [9/100]: 100%|██████████| 98/98 [00:09<00:00, 10.87it/s, acc=18.3, loss=2.16]\n",
      "Valid--Epoch [9/100]: 100%|██████████| 100/100 [00:00<00:00, 100.33it/s, acc=24, loss=2.02] \n"
     ]
    },
    {
     "name": "stdout",
     "output_type": "stream",
     "text": [
      "\n",
      " epoch: 10/100\n"
     ]
    },
    {
     "name": "stderr",
     "output_type": "stream",
     "text": [
      "Train--Epoch [10/100]: 100%|██████████| 98/98 [00:08<00:00, 10.92it/s, acc=19.3, loss=2.14]\n",
      "Valid--Epoch [10/100]: 100%|██████████| 100/100 [00:01<00:00, 97.01it/s, acc=24.3, loss=2.01]\n"
     ]
    },
    {
     "name": "stdout",
     "output_type": "stream",
     "text": [
      "\n",
      " epoch: 11/100\n"
     ]
    },
    {
     "name": "stderr",
     "output_type": "stream",
     "text": [
      "Train--Epoch [11/100]: 100%|██████████| 98/98 [00:09<00:00, 10.85it/s, acc=19.4, loss=2.14]\n",
      "Valid--Epoch [11/100]: 100%|██████████| 100/100 [00:01<00:00, 97.66it/s, acc=22.6, loss=2.03]"
     ]
    },
    {
     "name": "stdout",
     "output_type": "stream",
     "text": [
      "\n",
      " epoch: 12/100\n"
     ]
    },
    {
     "name": "stderr",
     "output_type": "stream",
     "text": [
      "\n",
      "Train--Epoch [12/100]: 100%|██████████| 98/98 [00:08<00:00, 10.89it/s, acc=19.4, loss=2.14]\n",
      "Valid--Epoch [12/100]: 100%|██████████| 100/100 [00:01<00:00, 95.85it/s, acc=24.9, loss=2]   \n"
     ]
    },
    {
     "name": "stdout",
     "output_type": "stream",
     "text": [
      "Saving..\n",
      "\n",
      " epoch: 13/100\n"
     ]
    },
    {
     "name": "stderr",
     "output_type": "stream",
     "text": [
      "Train--Epoch [13/100]: 100%|██████████| 98/98 [00:08<00:00, 10.95it/s, acc=19.5, loss=2.14]\n",
      "Valid--Epoch [13/100]: 100%|██████████| 100/100 [00:01<00:00, 97.41it/s, acc=24.7, loss=2.01]"
     ]
    },
    {
     "name": "stdout",
     "output_type": "stream",
     "text": [
      "\n",
      " epoch: 14/100\n"
     ]
    },
    {
     "name": "stderr",
     "output_type": "stream",
     "text": [
      "\n",
      "Train--Epoch [14/100]: 100%|██████████| 98/98 [00:09<00:00, 10.80it/s, acc=18.3, loss=2.16]\n",
      "Valid--Epoch [14/100]: 100%|██████████| 100/100 [00:01<00:00, 92.96it/s, acc=23.1, loss=2.03]"
     ]
    },
    {
     "name": "stdout",
     "output_type": "stream",
     "text": [
      "\n",
      " epoch: 15/100\n"
     ]
    },
    {
     "name": "stderr",
     "output_type": "stream",
     "text": [
      "\n",
      "Train--Epoch [15/100]: 100%|██████████| 98/98 [00:08<00:00, 10.95it/s, acc=18.6, loss=2.15]\n",
      "Valid--Epoch [15/100]: 100%|██████████| 100/100 [00:01<00:00, 94.75it/s, acc=24.3, loss=2.02]"
     ]
    },
    {
     "name": "stdout",
     "output_type": "stream",
     "text": [
      "\n",
      " epoch: 16/100\n"
     ]
    },
    {
     "name": "stderr",
     "output_type": "stream",
     "text": [
      "\n",
      "Train--Epoch [16/100]: 100%|██████████| 98/98 [00:09<00:00, 10.83it/s, acc=19, loss=2.15]  \n",
      "Valid--Epoch [16/100]: 100%|██████████| 100/100 [00:01<00:00, 78.51it/s, acc=25, loss=2.01] \n"
     ]
    },
    {
     "name": "stdout",
     "output_type": "stream",
     "text": [
      "Saving..\n",
      "\n",
      " epoch: 17/100\n"
     ]
    },
    {
     "name": "stderr",
     "output_type": "stream",
     "text": [
      "Train--Epoch [17/100]: 100%|██████████| 98/98 [00:09<00:00, 10.40it/s, acc=18.9, loss=2.14]\n",
      "Valid--Epoch [17/100]: 100%|██████████| 100/100 [00:01<00:00, 96.08it/s, acc=23.6, loss=2.02]"
     ]
    },
    {
     "name": "stdout",
     "output_type": "stream",
     "text": [
      "\n",
      " epoch: 18/100\n"
     ]
    },
    {
     "name": "stderr",
     "output_type": "stream",
     "text": [
      "\n",
      "Train--Epoch [18/100]: 100%|██████████| 98/98 [00:09<00:00, 10.83it/s, acc=18.8, loss=2.15]\n",
      "Valid--Epoch [18/100]: 100%|██████████| 100/100 [00:01<00:00, 94.05it/s, acc=23.2, loss=2]   "
     ]
    },
    {
     "name": "stdout",
     "output_type": "stream",
     "text": [
      "\n",
      " epoch: 19/100\n"
     ]
    },
    {
     "name": "stderr",
     "output_type": "stream",
     "text": [
      "\n",
      "Train--Epoch [19/100]: 100%|██████████| 98/98 [00:09<00:00, 10.72it/s, acc=19, loss=2.14]  \n",
      "Valid--Epoch [19/100]: 100%|██████████| 100/100 [00:01<00:00, 94.00it/s, acc=23.5, loss=2.04]"
     ]
    },
    {
     "name": "stdout",
     "output_type": "stream",
     "text": [
      "\n",
      " epoch: 20/100\n"
     ]
    },
    {
     "name": "stderr",
     "output_type": "stream",
     "text": [
      "\n",
      "Train--Epoch [20/100]: 100%|██████████| 98/98 [00:09<00:00, 10.59it/s, acc=18.2, loss=2.17]\n",
      "Valid--Epoch [20/100]: 100%|██████████| 100/100 [00:01<00:00, 91.59it/s, acc=24.6, loss=2.04] "
     ]
    },
    {
     "name": "stdout",
     "output_type": "stream",
     "text": [
      "\n",
      " epoch: 21/100\n"
     ]
    },
    {
     "name": "stderr",
     "output_type": "stream",
     "text": [
      "\n",
      "Train--Epoch [21/100]: 100%|██████████| 98/98 [00:09<00:00, 10.45it/s, acc=17.6, loss=2.18]\n",
      "Valid--Epoch [21/100]: 100%|██████████| 100/100 [00:01<00:00, 90.82it/s, acc=22.1, loss=2.06]"
     ]
    },
    {
     "name": "stdout",
     "output_type": "stream",
     "text": [
      "\n",
      " epoch: 22/100\n"
     ]
    },
    {
     "name": "stderr",
     "output_type": "stream",
     "text": [
      "\n",
      "Train--Epoch [22/100]: 100%|██████████| 98/98 [00:09<00:00, 10.60it/s, acc=17.5, loss=2.18]\n",
      "Valid--Epoch [22/100]: 100%|██████████| 100/100 [00:01<00:00, 87.31it/s, acc=22.1, loss=2.07]"
     ]
    },
    {
     "name": "stdout",
     "output_type": "stream",
     "text": [
      "\n",
      " epoch: 23/100\n"
     ]
    },
    {
     "name": "stderr",
     "output_type": "stream",
     "text": [
      "\n",
      "Train--Epoch [23/100]: 100%|██████████| 98/98 [00:09<00:00, 10.67it/s, acc=17.7, loss=2.17]\n",
      "Valid--Epoch [23/100]: 100%|██████████| 100/100 [00:01<00:00, 93.95it/s, acc=24.1, loss=2.03]"
     ]
    },
    {
     "name": "stdout",
     "output_type": "stream",
     "text": [
      "\n",
      " epoch: 24/100\n"
     ]
    },
    {
     "name": "stderr",
     "output_type": "stream",
     "text": [
      "\n",
      "Train--Epoch [24/100]: 100%|██████████| 98/98 [00:09<00:00, 10.46it/s, acc=18.7, loss=2.16]\n",
      "Valid--Epoch [24/100]: 100%|██████████| 100/100 [00:01<00:00, 97.43it/s, acc=25.2, loss=2.01]\n"
     ]
    },
    {
     "name": "stdout",
     "output_type": "stream",
     "text": [
      "Saving..\n",
      "\n",
      " epoch: 25/100\n"
     ]
    },
    {
     "name": "stderr",
     "output_type": "stream",
     "text": [
      "Train--Epoch [25/100]: 100%|██████████| 98/98 [00:09<00:00, 10.68it/s, acc=19.2, loss=2.15]\n",
      "Valid--Epoch [25/100]: 100%|██████████| 100/100 [00:01<00:00, 92.65it/s, acc=24.3, loss=2.02]"
     ]
    },
    {
     "name": "stdout",
     "output_type": "stream",
     "text": [
      "\n",
      " epoch: 26/100\n"
     ]
    },
    {
     "name": "stderr",
     "output_type": "stream",
     "text": [
      "\n",
      "Train--Epoch [26/100]: 100%|██████████| 98/98 [00:09<00:00, 10.65it/s, acc=19.6, loss=2.14]\n",
      "Valid--Epoch [26/100]: 100%|██████████| 100/100 [00:01<00:00, 93.41it/s, acc=25, loss=2]    "
     ]
    },
    {
     "name": "stdout",
     "output_type": "stream",
     "text": [
      "\n",
      " epoch: 27/100\n"
     ]
    },
    {
     "name": "stderr",
     "output_type": "stream",
     "text": [
      "\n",
      "Train--Epoch [27/100]: 100%|██████████| 98/98 [00:09<00:00, 10.59it/s, acc=19.7, loss=2.14]\n",
      "Valid--Epoch [27/100]: 100%|██████████| 100/100 [00:01<00:00, 95.05it/s, acc=25.5, loss=2]   \n"
     ]
    },
    {
     "name": "stdout",
     "output_type": "stream",
     "text": [
      "Saving..\n",
      "\n",
      " epoch: 28/100\n"
     ]
    },
    {
     "name": "stderr",
     "output_type": "stream",
     "text": [
      "Train--Epoch [28/100]: 100%|██████████| 98/98 [00:09<00:00, 10.40it/s, acc=19.7, loss=2.14]\n",
      "Valid--Epoch [28/100]: 100%|██████████| 100/100 [00:01<00:00, 87.28it/s, acc=17.9, loss=2.17]\n"
     ]
    },
    {
     "name": "stdout",
     "output_type": "stream",
     "text": [
      "\n",
      " epoch: 29/100\n"
     ]
    },
    {
     "name": "stderr",
     "output_type": "stream",
     "text": [
      "Train--Epoch [29/100]: 100%|██████████| 98/98 [00:09<00:00, 10.61it/s, acc=16.9, loss=2.19]\n",
      "Valid--Epoch [29/100]: 100%|██████████| 100/100 [00:01<00:00, 94.62it/s, acc=23.8, loss=2.04]"
     ]
    },
    {
     "name": "stdout",
     "output_type": "stream",
     "text": [
      "\n",
      " epoch: 30/100\n"
     ]
    },
    {
     "name": "stderr",
     "output_type": "stream",
     "text": [
      "\n",
      "Train--Epoch [30/100]: 100%|██████████| 98/98 [00:09<00:00, 10.78it/s, acc=18.4, loss=2.16]\n",
      "Valid--Epoch [30/100]: 100%|██████████| 100/100 [00:01<00:00, 94.76it/s, acc=24.1, loss=2.01]"
     ]
    },
    {
     "name": "stdout",
     "output_type": "stream",
     "text": [
      "\n",
      " epoch: 31/100\n"
     ]
    },
    {
     "name": "stderr",
     "output_type": "stream",
     "text": [
      "\n",
      "Train--Epoch [31/100]: 100%|██████████| 98/98 [00:09<00:00, 10.66it/s, acc=19, loss=2.15]  \n",
      "Valid--Epoch [31/100]: 100%|██████████| 100/100 [00:01<00:00, 97.87it/s, acc=24.3, loss=2.02]\n"
     ]
    },
    {
     "name": "stdout",
     "output_type": "stream",
     "text": [
      "\n",
      " epoch: 32/100\n"
     ]
    },
    {
     "name": "stderr",
     "output_type": "stream",
     "text": [
      "Train--Epoch [32/100]: 100%|██████████| 98/98 [00:09<00:00, 10.63it/s, acc=19.2, loss=2.15]\n",
      "Valid--Epoch [32/100]: 100%|██████████| 100/100 [00:01<00:00, 97.28it/s, acc=24.9, loss=2.01]"
     ]
    },
    {
     "name": "stdout",
     "output_type": "stream",
     "text": [
      "\n",
      " epoch: 33/100\n"
     ]
    },
    {
     "name": "stderr",
     "output_type": "stream",
     "text": [
      "\n",
      "Train--Epoch [33/100]: 100%|██████████| 98/98 [00:09<00:00, 10.55it/s, acc=19.5, loss=2.15]\n",
      "Valid--Epoch [33/100]: 100%|██████████| 100/100 [00:01<00:00, 91.15it/s, acc=23.8, loss=2.04]"
     ]
    },
    {
     "name": "stdout",
     "output_type": "stream",
     "text": [
      "\n",
      " epoch: 34/100\n"
     ]
    },
    {
     "name": "stderr",
     "output_type": "stream",
     "text": [
      "\n",
      "Train--Epoch [34/100]: 100%|██████████| 98/98 [00:09<00:00, 10.45it/s, acc=18.7, loss=2.16]\n",
      "Valid--Epoch [34/100]: 100%|██████████| 100/100 [00:01<00:00, 94.83it/s, acc=25.4, loss=2.01]"
     ]
    },
    {
     "name": "stdout",
     "output_type": "stream",
     "text": [
      "\n",
      " epoch: 35/100\n"
     ]
    },
    {
     "name": "stderr",
     "output_type": "stream",
     "text": [
      "\n",
      "Train--Epoch [35/100]: 100%|██████████| 98/98 [00:09<00:00, 10.66it/s, acc=19, loss=2.15]  \n",
      "Valid--Epoch [35/100]: 100%|██████████| 100/100 [00:01<00:00, 93.79it/s, acc=23.9, loss=2.02]"
     ]
    },
    {
     "name": "stdout",
     "output_type": "stream",
     "text": [
      "\n",
      " epoch: 36/100\n"
     ]
    },
    {
     "name": "stderr",
     "output_type": "stream",
     "text": [
      "\n",
      "Train--Epoch [36/100]: 100%|██████████| 98/98 [00:09<00:00, 10.67it/s, acc=19.7, loss=2.14]\n",
      "Valid--Epoch [36/100]: 100%|██████████| 100/100 [00:01<00:00, 97.03it/s, acc=24.9, loss=2]   "
     ]
    },
    {
     "name": "stdout",
     "output_type": "stream",
     "text": [
      "\n",
      " epoch: 37/100\n"
     ]
    },
    {
     "name": "stderr",
     "output_type": "stream",
     "text": [
      "\n",
      "Train--Epoch [37/100]: 100%|██████████| 98/98 [00:09<00:00, 10.87it/s, acc=19.7, loss=2.14]\n",
      "Valid--Epoch [37/100]: 100%|██████████| 100/100 [00:01<00:00, 96.88it/s, acc=24, loss=2.02]  \n"
     ]
    },
    {
     "name": "stdout",
     "output_type": "stream",
     "text": [
      "\n",
      " epoch: 38/100\n"
     ]
    },
    {
     "name": "stderr",
     "output_type": "stream",
     "text": [
      "Train--Epoch [38/100]: 100%|██████████| 98/98 [00:09<00:00, 10.71it/s, acc=19.5, loss=2.14]\n",
      "Valid--Epoch [38/100]: 100%|██████████| 100/100 [00:01<00:00, 96.19it/s, acc=25, loss=1.99]  "
     ]
    },
    {
     "name": "stdout",
     "output_type": "stream",
     "text": [
      "\n",
      " epoch: 39/100\n"
     ]
    },
    {
     "name": "stderr",
     "output_type": "stream",
     "text": [
      "\n",
      "Train--Epoch [39/100]: 100%|██████████| 98/98 [00:09<00:00, 10.64it/s, acc=19.5, loss=2.14]\n",
      "Valid--Epoch [39/100]: 100%|██████████| 100/100 [00:01<00:00, 93.24it/s, acc=23.8, loss=2.02]"
     ]
    },
    {
     "name": "stdout",
     "output_type": "stream",
     "text": [
      "\n",
      " epoch: 40/100\n"
     ]
    },
    {
     "name": "stderr",
     "output_type": "stream",
     "text": [
      "\n",
      "Train--Epoch [40/100]: 100%|██████████| 98/98 [00:09<00:00, 10.81it/s, acc=19.4, loss=2.14]\n",
      "Valid--Epoch [40/100]: 100%|██████████| 100/100 [00:01<00:00, 94.83it/s, acc=24.2, loss=2.01]"
     ]
    },
    {
     "name": "stdout",
     "output_type": "stream",
     "text": [
      "\n",
      " epoch: 41/100\n"
     ]
    },
    {
     "name": "stderr",
     "output_type": "stream",
     "text": [
      "\n",
      "Train--Epoch [41/100]: 100%|██████████| 98/98 [00:09<00:00, 10.84it/s, acc=19.6, loss=2.14]\n",
      "Valid--Epoch [41/100]: 100%|██████████| 100/100 [00:01<00:00, 95.83it/s, acc=25.9, loss=1.99]\n"
     ]
    },
    {
     "name": "stdout",
     "output_type": "stream",
     "text": [
      "Saving..\n",
      "\n",
      " epoch: 42/100\n"
     ]
    },
    {
     "name": "stderr",
     "output_type": "stream",
     "text": [
      "Train--Epoch [42/100]: 100%|██████████| 98/98 [00:09<00:00, 10.78it/s, acc=19.6, loss=2.14]\n",
      "Valid--Epoch [42/100]: 100%|██████████| 100/100 [00:01<00:00, 98.00it/s, acc=24.8, loss=2.01]"
     ]
    },
    {
     "name": "stdout",
     "output_type": "stream",
     "text": [
      "\n",
      " epoch: 43/100\n"
     ]
    },
    {
     "name": "stderr",
     "output_type": "stream",
     "text": [
      "\n",
      "Train--Epoch [43/100]: 100%|██████████| 98/98 [00:09<00:00, 10.84it/s, acc=19.6, loss=2.13]\n",
      "Valid--Epoch [43/100]: 100%|██████████| 100/100 [00:01<00:00, 98.21it/s, acc=26.2, loss=1.99]\n"
     ]
    },
    {
     "name": "stdout",
     "output_type": "stream",
     "text": [
      "Saving..\n",
      "\n",
      " epoch: 44/100\n"
     ]
    },
    {
     "name": "stderr",
     "output_type": "stream",
     "text": [
      "Train--Epoch [44/100]: 100%|██████████| 98/98 [00:09<00:00, 10.82it/s, acc=20.4, loss=2.13]\n",
      "Valid--Epoch [44/100]: 100%|██████████| 100/100 [00:01<00:00, 96.19it/s, acc=25.9, loss=1.99]\n"
     ]
    },
    {
     "name": "stdout",
     "output_type": "stream",
     "text": [
      "\n",
      " epoch: 45/100\n"
     ]
    },
    {
     "name": "stderr",
     "output_type": "stream",
     "text": [
      "Train--Epoch [45/100]: 100%|██████████| 98/98 [00:09<00:00, 10.64it/s, acc=19.7, loss=2.13]\n",
      "Valid--Epoch [45/100]: 100%|██████████| 100/100 [00:01<00:00, 87.58it/s, acc=25, loss=2]    "
     ]
    },
    {
     "name": "stdout",
     "output_type": "stream",
     "text": [
      "\n",
      " epoch: 46/100\n"
     ]
    },
    {
     "name": "stderr",
     "output_type": "stream",
     "text": [
      "\n",
      "Train--Epoch [46/100]: 100%|██████████| 98/98 [00:09<00:00, 10.16it/s, acc=20, loss=2.13]  \n",
      "Valid--Epoch [46/100]: 100%|██████████| 100/100 [00:01<00:00, 91.91it/s, acc=24.8, loss=2]  \n"
     ]
    },
    {
     "name": "stdout",
     "output_type": "stream",
     "text": [
      "\n",
      " epoch: 47/100\n"
     ]
    },
    {
     "name": "stderr",
     "output_type": "stream",
     "text": [
      "Train--Epoch [47/100]: 100%|██████████| 98/98 [00:09<00:00, 10.37it/s, acc=19.9, loss=2.13]\n",
      "Valid--Epoch [47/100]: 100%|██████████| 100/100 [00:01<00:00, 85.54it/s, acc=24.9, loss=2]  "
     ]
    },
    {
     "name": "stdout",
     "output_type": "stream",
     "text": [
      "\n",
      " epoch: 48/100\n"
     ]
    },
    {
     "name": "stderr",
     "output_type": "stream",
     "text": [
      "\n",
      "Train--Epoch [48/100]: 100%|██████████| 98/98 [00:09<00:00, 10.27it/s, acc=20, loss=2.13]  \n",
      "Valid--Epoch [48/100]: 100%|██████████| 100/100 [00:01<00:00, 93.00it/s, acc=25.5, loss=2]   \n"
     ]
    },
    {
     "name": "stdout",
     "output_type": "stream",
     "text": [
      "\n",
      " epoch: 49/100\n"
     ]
    },
    {
     "name": "stderr",
     "output_type": "stream",
     "text": [
      "Train--Epoch [49/100]: 100%|██████████| 98/98 [00:09<00:00, 10.37it/s, acc=20.4, loss=2.13]\n",
      "Valid--Epoch [49/100]: 100%|██████████| 100/100 [00:01<00:00, 93.57it/s, acc=25.3, loss=1.99]"
     ]
    },
    {
     "name": "stdout",
     "output_type": "stream",
     "text": [
      "\n",
      " epoch: 50/100\n"
     ]
    },
    {
     "name": "stderr",
     "output_type": "stream",
     "text": [
      "\n",
      "Train--Epoch [50/100]: 100%|██████████| 98/98 [00:09<00:00, 10.52it/s, acc=20.2, loss=2.13]\n",
      "Valid--Epoch [50/100]: 100%|██████████| 100/100 [00:01<00:00, 96.89it/s, acc=25.4, loss=1.98]\n"
     ]
    },
    {
     "name": "stdout",
     "output_type": "stream",
     "text": [
      "\n",
      " epoch: 51/100\n"
     ]
    },
    {
     "name": "stderr",
     "output_type": "stream",
     "text": [
      "Train--Epoch [51/100]: 100%|██████████| 98/98 [00:09<00:00, 10.45it/s, acc=20.4, loss=2.13]\n",
      "Valid--Epoch [51/100]: 100%|██████████| 100/100 [00:01<00:00, 94.41it/s, acc=25.4, loss=2]   "
     ]
    },
    {
     "name": "stdout",
     "output_type": "stream",
     "text": [
      "\n",
      " epoch: 52/100\n"
     ]
    },
    {
     "name": "stderr",
     "output_type": "stream",
     "text": [
      "\n",
      "Train--Epoch [52/100]: 100%|██████████| 98/98 [00:09<00:00, 10.35it/s, acc=20.8, loss=2.12]\n",
      "Valid--Epoch [52/100]: 100%|██████████| 100/100 [00:01<00:00, 92.96it/s, acc=25.4, loss=1.99]"
     ]
    },
    {
     "name": "stdout",
     "output_type": "stream",
     "text": [
      "\n",
      " epoch: 53/100\n"
     ]
    },
    {
     "name": "stderr",
     "output_type": "stream",
     "text": [
      "\n",
      "Train--Epoch [53/100]: 100%|██████████| 98/98 [00:09<00:00, 10.20it/s, acc=20.6, loss=2.12]\n",
      "Valid--Epoch [53/100]: 100%|██████████| 100/100 [00:01<00:00, 97.10it/s, acc=25.6, loss=1.99]"
     ]
    },
    {
     "name": "stdout",
     "output_type": "stream",
     "text": [
      "\n",
      " epoch: 54/100\n"
     ]
    },
    {
     "name": "stderr",
     "output_type": "stream",
     "text": [
      "\n",
      "Train--Epoch [54/100]: 100%|██████████| 98/98 [00:09<00:00, 10.11it/s, acc=20.4, loss=2.12]\n",
      "Valid--Epoch [54/100]: 100%|██████████| 100/100 [00:01<00:00, 94.36it/s, acc=25.7, loss=1.98]"
     ]
    },
    {
     "name": "stdout",
     "output_type": "stream",
     "text": [
      "\n",
      " epoch: 55/100\n"
     ]
    },
    {
     "name": "stderr",
     "output_type": "stream",
     "text": [
      "\n",
      "Train--Epoch [55/100]: 100%|██████████| 98/98 [00:09<00:00, 10.20it/s, acc=20.7, loss=2.12]\n",
      "Valid--Epoch [55/100]: 100%|██████████| 100/100 [00:01<00:00, 93.81it/s, acc=25.8, loss=1.98]"
     ]
    },
    {
     "name": "stdout",
     "output_type": "stream",
     "text": [
      "\n",
      " epoch: 56/100\n"
     ]
    },
    {
     "name": "stderr",
     "output_type": "stream",
     "text": [
      "\n",
      "Train--Epoch [56/100]: 100%|██████████| 98/98 [00:09<00:00, 10.43it/s, acc=20.6, loss=2.11]\n",
      "Valid--Epoch [56/100]: 100%|██████████| 100/100 [00:01<00:00, 93.03it/s, acc=26.1, loss=1.99]"
     ]
    },
    {
     "name": "stdout",
     "output_type": "stream",
     "text": [
      "\n",
      " epoch: 57/100\n"
     ]
    },
    {
     "name": "stderr",
     "output_type": "stream",
     "text": [
      "\n",
      "Train--Epoch [57/100]: 100%|██████████| 98/98 [00:09<00:00, 10.41it/s, acc=20.7, loss=2.12]\n",
      "Valid--Epoch [57/100]: 100%|██████████| 100/100 [00:01<00:00, 93.40it/s, acc=26.1, loss=1.98]\n"
     ]
    },
    {
     "name": "stdout",
     "output_type": "stream",
     "text": [
      "\n",
      " epoch: 58/100\n"
     ]
    },
    {
     "name": "stderr",
     "output_type": "stream",
     "text": [
      "Train--Epoch [58/100]: 100%|██████████| 98/98 [00:09<00:00, 10.34it/s, acc=20.7, loss=2.12]\n",
      "Valid--Epoch [58/100]: 100%|██████████| 100/100 [00:01<00:00, 94.89it/s, acc=25.1, loss=1.98]\n"
     ]
    },
    {
     "name": "stdout",
     "output_type": "stream",
     "text": [
      "\n",
      " epoch: 59/100\n"
     ]
    },
    {
     "name": "stderr",
     "output_type": "stream",
     "text": [
      "Train--Epoch [59/100]: 100%|██████████| 98/98 [00:09<00:00, 10.48it/s, acc=20.8, loss=2.12]\n",
      "Valid--Epoch [59/100]: 100%|██████████| 100/100 [00:01<00:00, 94.21it/s, acc=24.7, loss=1.99]"
     ]
    },
    {
     "name": "stdout",
     "output_type": "stream",
     "text": [
      "\n",
      " epoch: 60/100\n"
     ]
    },
    {
     "name": "stderr",
     "output_type": "stream",
     "text": [
      "\n",
      "Train--Epoch [60/100]: 100%|██████████| 98/98 [00:09<00:00, 10.58it/s, acc=20.7, loss=2.11]\n",
      "Valid--Epoch [60/100]: 100%|██████████| 100/100 [00:01<00:00, 91.48it/s, acc=26.1, loss=1.97]\n"
     ]
    },
    {
     "name": "stdout",
     "output_type": "stream",
     "text": [
      "\n",
      " epoch: 61/100\n"
     ]
    },
    {
     "name": "stderr",
     "output_type": "stream",
     "text": [
      "Train--Epoch [61/100]: 100%|██████████| 98/98 [00:09<00:00, 10.27it/s, acc=21.1, loss=2.11]\n",
      "Valid--Epoch [61/100]: 100%|██████████| 100/100 [00:01<00:00, 90.74it/s, acc=26.5, loss=1.96]\n"
     ]
    },
    {
     "name": "stdout",
     "output_type": "stream",
     "text": [
      "Saving..\n",
      "\n",
      " epoch: 62/100\n"
     ]
    },
    {
     "name": "stderr",
     "output_type": "stream",
     "text": [
      "Train--Epoch [62/100]: 100%|██████████| 98/98 [00:09<00:00, 10.36it/s, acc=21.1, loss=2.11]\n",
      "Valid--Epoch [62/100]: 100%|██████████| 100/100 [00:01<00:00, 90.49it/s, acc=26.2, loss=1.97]"
     ]
    },
    {
     "name": "stdout",
     "output_type": "stream",
     "text": [
      "\n",
      " epoch: 63/100\n"
     ]
    },
    {
     "name": "stderr",
     "output_type": "stream",
     "text": [
      "\n",
      "Train--Epoch [63/100]: 100%|██████████| 98/98 [00:09<00:00, 10.31it/s, acc=21.1, loss=2.11]\n",
      "Valid--Epoch [63/100]: 100%|██████████| 100/100 [00:01<00:00, 93.30it/s, acc=26.9, loss=1.96]\n"
     ]
    },
    {
     "name": "stdout",
     "output_type": "stream",
     "text": [
      "Saving..\n",
      "\n",
      " epoch: 64/100\n"
     ]
    },
    {
     "name": "stderr",
     "output_type": "stream",
     "text": [
      "Train--Epoch [64/100]: 100%|██████████| 98/98 [00:09<00:00, 10.19it/s, acc=21.5, loss=2.1] \n",
      "Valid--Epoch [64/100]: 100%|██████████| 100/100 [00:01<00:00, 88.54it/s, acc=26.2, loss=1.97]"
     ]
    },
    {
     "name": "stdout",
     "output_type": "stream",
     "text": [
      "\n",
      " epoch: 65/100\n"
     ]
    },
    {
     "name": "stderr",
     "output_type": "stream",
     "text": [
      "\n",
      "Train--Epoch [65/100]: 100%|██████████| 98/98 [00:09<00:00, 10.49it/s, acc=21.5, loss=2.1] \n",
      "Valid--Epoch [65/100]: 100%|██████████| 100/100 [00:01<00:00, 90.98it/s, acc=26.9, loss=1.96]"
     ]
    },
    {
     "name": "stdout",
     "output_type": "stream",
     "text": [
      "\n",
      " epoch: 66/100\n"
     ]
    },
    {
     "name": "stderr",
     "output_type": "stream",
     "text": [
      "\n",
      "Train--Epoch [66/100]: 100%|██████████| 98/98 [00:09<00:00, 10.36it/s, acc=21.3, loss=2.1] \n",
      "Valid--Epoch [66/100]: 100%|██████████| 100/100 [00:01<00:00, 96.32it/s, acc=26.8, loss=1.96]"
     ]
    },
    {
     "name": "stdout",
     "output_type": "stream",
     "text": [
      "\n",
      " epoch: 67/100\n"
     ]
    },
    {
     "name": "stderr",
     "output_type": "stream",
     "text": [
      "\n",
      "Train--Epoch [67/100]: 100%|██████████| 98/98 [00:09<00:00, 10.58it/s, acc=21.3, loss=2.1] \n",
      "Valid--Epoch [67/100]: 100%|██████████| 100/100 [00:01<00:00, 96.08it/s, acc=26.3, loss=1.96]"
     ]
    },
    {
     "name": "stdout",
     "output_type": "stream",
     "text": [
      "\n",
      " epoch: 68/100\n"
     ]
    },
    {
     "name": "stderr",
     "output_type": "stream",
     "text": [
      "\n",
      "Train--Epoch [68/100]: 100%|██████████| 98/98 [00:09<00:00, 10.62it/s, acc=21.9, loss=2.1] \n",
      "Valid--Epoch [68/100]: 100%|██████████| 100/100 [00:01<00:00, 98.34it/s, acc=26.8, loss=1.96]\n"
     ]
    },
    {
     "name": "stdout",
     "output_type": "stream",
     "text": [
      "\n",
      " epoch: 69/100\n"
     ]
    },
    {
     "name": "stderr",
     "output_type": "stream",
     "text": [
      "Train--Epoch [69/100]: 100%|██████████| 98/98 [00:09<00:00, 10.35it/s, acc=21.7, loss=2.1]\n",
      "Valid--Epoch [69/100]: 100%|██████████| 100/100 [00:01<00:00, 93.42it/s, acc=27.3, loss=1.96] \n"
     ]
    },
    {
     "name": "stdout",
     "output_type": "stream",
     "text": [
      "Saving..\n",
      "\n",
      " epoch: 70/100\n"
     ]
    },
    {
     "name": "stderr",
     "output_type": "stream",
     "text": [
      "Train--Epoch [70/100]: 100%|██████████| 98/98 [00:09<00:00, 10.50it/s, acc=21.4, loss=2.1] \n",
      "Valid--Epoch [70/100]: 100%|██████████| 100/100 [00:01<00:00, 94.16it/s, acc=26.3, loss=1.97]"
     ]
    },
    {
     "name": "stdout",
     "output_type": "stream",
     "text": [
      "\n",
      " epoch: 71/100\n"
     ]
    },
    {
     "name": "stderr",
     "output_type": "stream",
     "text": [
      "\n",
      "Train--Epoch [71/100]: 100%|██████████| 98/98 [00:09<00:00, 10.45it/s, acc=21.5, loss=2.09]\n",
      "Valid--Epoch [71/100]: 100%|██████████| 100/100 [00:01<00:00, 94.03it/s, acc=27.1, loss=1.96]"
     ]
    },
    {
     "name": "stdout",
     "output_type": "stream",
     "text": [
      "\n",
      " epoch: 72/100\n"
     ]
    },
    {
     "name": "stderr",
     "output_type": "stream",
     "text": [
      "\n",
      "Train--Epoch [72/100]: 100%|██████████| 98/98 [00:09<00:00, 10.34it/s, acc=21.4, loss=2.1] \n",
      "Valid--Epoch [72/100]: 100%|██████████| 100/100 [00:01<00:00, 93.11it/s, acc=26.7, loss=1.96]"
     ]
    },
    {
     "name": "stdout",
     "output_type": "stream",
     "text": [
      "\n",
      " epoch: 73/100\n"
     ]
    },
    {
     "name": "stderr",
     "output_type": "stream",
     "text": [
      "\n",
      "Train--Epoch [73/100]: 100%|██████████| 98/98 [00:09<00:00, 10.37it/s, acc=21.8, loss=2.09]\n",
      "Valid--Epoch [73/100]: 100%|██████████| 100/100 [00:01<00:00, 95.06it/s, acc=27, loss=1.96]  "
     ]
    },
    {
     "name": "stdout",
     "output_type": "stream",
     "text": [
      "\n",
      " epoch: 74/100\n"
     ]
    },
    {
     "name": "stderr",
     "output_type": "stream",
     "text": [
      "\n",
      "Train--Epoch [74/100]: 100%|██████████| 98/98 [00:09<00:00, 10.58it/s, acc=21.7, loss=2.09]\n",
      "Valid--Epoch [74/100]: 100%|██████████| 100/100 [00:01<00:00, 94.22it/s, acc=27.1, loss=1.96]"
     ]
    },
    {
     "name": "stdout",
     "output_type": "stream",
     "text": [
      "\n",
      " epoch: 75/100\n"
     ]
    },
    {
     "name": "stderr",
     "output_type": "stream",
     "text": [
      "\n",
      "Train--Epoch [75/100]: 100%|██████████| 98/98 [00:09<00:00, 10.52it/s, acc=21.7, loss=2.09]\n",
      "Valid--Epoch [75/100]: 100%|██████████| 100/100 [00:01<00:00, 93.20it/s, acc=26.7, loss=1.96]"
     ]
    },
    {
     "name": "stdout",
     "output_type": "stream",
     "text": [
      "\n",
      " epoch: 76/100\n"
     ]
    },
    {
     "name": "stderr",
     "output_type": "stream",
     "text": [
      "\n",
      "Train--Epoch [76/100]: 100%|██████████| 98/98 [00:09<00:00, 10.50it/s, acc=21.7, loss=2.09]\n",
      "Valid--Epoch [76/100]: 100%|██████████| 100/100 [00:01<00:00, 95.39it/s, acc=27.3, loss=1.95]"
     ]
    },
    {
     "name": "stdout",
     "output_type": "stream",
     "text": [
      "\n",
      " epoch: 77/100\n"
     ]
    },
    {
     "name": "stderr",
     "output_type": "stream",
     "text": [
      "\n",
      "Train--Epoch [77/100]: 100%|██████████| 98/98 [00:09<00:00, 10.62it/s, acc=21.9, loss=2.09]\n",
      "Valid--Epoch [77/100]: 100%|██████████| 100/100 [00:01<00:00, 95.48it/s, acc=26.5, loss=1.96]"
     ]
    },
    {
     "name": "stdout",
     "output_type": "stream",
     "text": [
      "\n",
      " epoch: 78/100\n"
     ]
    },
    {
     "name": "stderr",
     "output_type": "stream",
     "text": [
      "\n",
      "Train--Epoch [78/100]: 100%|██████████| 98/98 [00:09<00:00, 10.50it/s, acc=22, loss=2.09]  \n",
      "Valid--Epoch [78/100]: 100%|██████████| 100/100 [00:01<00:00, 95.43it/s, acc=26.7, loss=1.96]"
     ]
    },
    {
     "name": "stdout",
     "output_type": "stream",
     "text": [
      "\n",
      " epoch: 79/100\n"
     ]
    },
    {
     "name": "stderr",
     "output_type": "stream",
     "text": [
      "\n",
      "Train--Epoch [79/100]: 100%|██████████| 98/98 [00:09<00:00, 10.60it/s, acc=22, loss=2.09]  \n",
      "Valid--Epoch [79/100]: 100%|██████████| 100/100 [00:01<00:00, 93.98it/s, acc=27.2, loss=1.95]"
     ]
    },
    {
     "name": "stdout",
     "output_type": "stream",
     "text": [
      "\n",
      " epoch: 80/100\n"
     ]
    },
    {
     "name": "stderr",
     "output_type": "stream",
     "text": [
      "\n",
      "Train--Epoch [80/100]: 100%|██████████| 98/98 [00:09<00:00, 10.61it/s, acc=22, loss=2.09]  \n",
      "Valid--Epoch [80/100]: 100%|██████████| 100/100 [00:01<00:00, 90.15it/s, acc=26.5, loss=1.96]"
     ]
    },
    {
     "name": "stdout",
     "output_type": "stream",
     "text": [
      "\n",
      " epoch: 81/100\n"
     ]
    },
    {
     "name": "stderr",
     "output_type": "stream",
     "text": [
      "\n",
      "Train--Epoch [81/100]: 100%|██████████| 98/98 [00:09<00:00, 10.36it/s, acc=22, loss=2.09]  \n",
      "Valid--Epoch [81/100]: 100%|██████████| 100/100 [00:01<00:00, 87.97it/s, acc=26.6, loss=1.96]"
     ]
    },
    {
     "name": "stdout",
     "output_type": "stream",
     "text": [
      "\n",
      " epoch: 82/100\n"
     ]
    },
    {
     "name": "stderr",
     "output_type": "stream",
     "text": [
      "\n",
      "Train--Epoch [82/100]: 100%|██████████| 98/98 [00:09<00:00, 10.32it/s, acc=22.1, loss=2.08]\n",
      "Valid--Epoch [82/100]: 100%|██████████| 100/100 [00:01<00:00, 92.97it/s, acc=26.7, loss=1.96]\n"
     ]
    },
    {
     "name": "stdout",
     "output_type": "stream",
     "text": [
      "\n",
      " epoch: 83/100\n"
     ]
    },
    {
     "name": "stderr",
     "output_type": "stream",
     "text": [
      "Train--Epoch [83/100]: 100%|██████████| 98/98 [00:09<00:00, 10.27it/s, acc=22, loss=2.08]  \n",
      "Valid--Epoch [83/100]: 100%|██████████| 100/100 [00:01<00:00, 85.01it/s, acc=26.4, loss=1.96]\n"
     ]
    },
    {
     "name": "stdout",
     "output_type": "stream",
     "text": [
      "\n",
      " epoch: 84/100\n"
     ]
    },
    {
     "name": "stderr",
     "output_type": "stream",
     "text": [
      "Train--Epoch [84/100]: 100%|██████████| 98/98 [00:09<00:00, 10.30it/s, acc=22.2, loss=2.09]\n",
      "Valid--Epoch [84/100]: 100%|██████████| 100/100 [00:01<00:00, 90.04it/s, acc=26.6, loss=1.96]"
     ]
    },
    {
     "name": "stdout",
     "output_type": "stream",
     "text": [
      "\n",
      " epoch: 85/100\n"
     ]
    },
    {
     "name": "stderr",
     "output_type": "stream",
     "text": [
      "\n",
      "Train--Epoch [85/100]: 100%|██████████| 98/98 [00:09<00:00, 10.21it/s, acc=22.3, loss=2.08]\n",
      "Valid--Epoch [85/100]: 100%|██████████| 100/100 [00:01<00:00, 99.52it/s, acc=26.7, loss=1.95]"
     ]
    },
    {
     "name": "stdout",
     "output_type": "stream",
     "text": [
      "\n",
      " epoch: 86/100\n"
     ]
    },
    {
     "name": "stderr",
     "output_type": "stream",
     "text": [
      "\n",
      "Train--Epoch [86/100]: 100%|██████████| 98/98 [00:09<00:00, 10.67it/s, acc=22.1, loss=2.09]\n",
      "Valid--Epoch [86/100]: 100%|██████████| 100/100 [00:01<00:00, 98.27it/s, acc=26.8, loss=1.95]\n"
     ]
    },
    {
     "name": "stdout",
     "output_type": "stream",
     "text": [
      "\n",
      " epoch: 87/100\n"
     ]
    },
    {
     "name": "stderr",
     "output_type": "stream",
     "text": [
      "Train--Epoch [87/100]: 100%|██████████| 98/98 [00:09<00:00, 10.41it/s, acc=22, loss=2.09]  \n",
      "Valid--Epoch [87/100]: 100%|██████████| 100/100 [00:01<00:00, 92.47it/s, acc=26.7, loss=1.95]\n"
     ]
    },
    {
     "name": "stdout",
     "output_type": "stream",
     "text": [
      "\n",
      " epoch: 88/100\n"
     ]
    },
    {
     "name": "stderr",
     "output_type": "stream",
     "text": [
      "Train--Epoch [88/100]: 100%|██████████| 98/98 [00:09<00:00, 10.29it/s, acc=21.8, loss=2.09]\n",
      "Valid--Epoch [88/100]: 100%|██████████| 100/100 [00:01<00:00, 93.03it/s, acc=26.6, loss=1.95]"
     ]
    },
    {
     "name": "stdout",
     "output_type": "stream",
     "text": [
      "\n",
      " epoch: 89/100\n"
     ]
    },
    {
     "name": "stderr",
     "output_type": "stream",
     "text": [
      "\n",
      "Train--Epoch [89/100]: 100%|██████████| 98/98 [00:09<00:00, 10.53it/s, acc=22.1, loss=2.09]\n",
      "Valid--Epoch [89/100]: 100%|██████████| 100/100 [00:01<00:00, 96.52it/s, acc=27.1, loss=1.95]\n"
     ]
    },
    {
     "name": "stdout",
     "output_type": "stream",
     "text": [
      "\n",
      " epoch: 90/100\n"
     ]
    },
    {
     "name": "stderr",
     "output_type": "stream",
     "text": [
      "Train--Epoch [90/100]: 100%|██████████| 98/98 [00:09<00:00, 10.62it/s, acc=22.1, loss=2.08]\n",
      "Valid--Epoch [90/100]: 100%|██████████| 100/100 [00:01<00:00, 93.18it/s, acc=26.7, loss=1.95]\n"
     ]
    },
    {
     "name": "stdout",
     "output_type": "stream",
     "text": [
      "\n",
      " epoch: 91/100\n"
     ]
    },
    {
     "name": "stderr",
     "output_type": "stream",
     "text": [
      "Train--Epoch [91/100]: 100%|██████████| 98/98 [00:09<00:00, 10.54it/s, acc=22, loss=2.09]  \n",
      "Valid--Epoch [91/100]: 100%|██████████| 100/100 [00:01<00:00, 92.01it/s, acc=27.2, loss=1.95]"
     ]
    },
    {
     "name": "stdout",
     "output_type": "stream",
     "text": [
      "\n",
      " epoch: 92/100\n"
     ]
    },
    {
     "name": "stderr",
     "output_type": "stream",
     "text": [
      "\n",
      "Train--Epoch [92/100]: 100%|██████████| 98/98 [00:09<00:00, 10.59it/s, acc=22, loss=2.08]  \n",
      "Valid--Epoch [92/100]: 100%|██████████| 100/100 [00:01<00:00, 92.04it/s, acc=26.9, loss=1.95]"
     ]
    },
    {
     "name": "stdout",
     "output_type": "stream",
     "text": [
      "\n",
      " epoch: 93/100\n"
     ]
    },
    {
     "name": "stderr",
     "output_type": "stream",
     "text": [
      "\n",
      "Train--Epoch [93/100]: 100%|██████████| 98/98 [00:09<00:00, 10.60it/s, acc=22, loss=2.08]  \n",
      "Valid--Epoch [93/100]: 100%|██████████| 100/100 [00:01<00:00, 96.93it/s, acc=26.9, loss=1.95]"
     ]
    },
    {
     "name": "stdout",
     "output_type": "stream",
     "text": [
      "\n",
      " epoch: 94/100\n"
     ]
    },
    {
     "name": "stderr",
     "output_type": "stream",
     "text": [
      "\n",
      "Train--Epoch [94/100]: 100%|██████████| 98/98 [00:09<00:00, 10.60it/s, acc=22.1, loss=2.08]\n",
      "Valid--Epoch [94/100]: 100%|██████████| 100/100 [00:01<00:00, 95.60it/s, acc=26.7, loss=1.95]"
     ]
    },
    {
     "name": "stdout",
     "output_type": "stream",
     "text": [
      "\n",
      " epoch: 95/100\n"
     ]
    },
    {
     "name": "stderr",
     "output_type": "stream",
     "text": [
      "\n",
      "Train--Epoch [95/100]: 100%|██████████| 98/98 [00:09<00:00, 10.41it/s, acc=22.1, loss=2.08]\n",
      "Valid--Epoch [95/100]: 100%|██████████| 100/100 [00:01<00:00, 90.90it/s, acc=27, loss=1.95] "
     ]
    },
    {
     "name": "stdout",
     "output_type": "stream",
     "text": [
      "\n",
      " epoch: 96/100\n"
     ]
    },
    {
     "name": "stderr",
     "output_type": "stream",
     "text": [
      "\n",
      "Train--Epoch [96/100]: 100%|██████████| 98/98 [00:09<00:00, 10.34it/s, acc=22.5, loss=2.08]\n",
      "Valid--Epoch [96/100]: 100%|██████████| 100/100 [00:01<00:00, 96.40it/s, acc=27, loss=1.95]  "
     ]
    },
    {
     "name": "stdout",
     "output_type": "stream",
     "text": [
      "\n",
      " epoch: 97/100\n"
     ]
    },
    {
     "name": "stderr",
     "output_type": "stream",
     "text": [
      "\n",
      "Train--Epoch [97/100]: 100%|██████████| 98/98 [00:09<00:00, 10.43it/s, acc=22.4, loss=2.08]\n",
      "Valid--Epoch [97/100]: 100%|██████████| 100/100 [00:01<00:00, 95.93it/s, acc=27.1, loss=1.95]"
     ]
    },
    {
     "name": "stdout",
     "output_type": "stream",
     "text": [
      "\n",
      " epoch: 98/100\n"
     ]
    },
    {
     "name": "stderr",
     "output_type": "stream",
     "text": [
      "\n",
      "Train--Epoch [98/100]: 100%|██████████| 98/98 [00:09<00:00, 10.38it/s, acc=22.2, loss=2.09]\n",
      "Valid--Epoch [98/100]: 100%|██████████| 100/100 [00:01<00:00, 93.74it/s, acc=27, loss=1.95]  "
     ]
    },
    {
     "name": "stdout",
     "output_type": "stream",
     "text": [
      "\n",
      " epoch: 99/100\n"
     ]
    },
    {
     "name": "stderr",
     "output_type": "stream",
     "text": [
      "\n",
      "Train--Epoch [99/100]: 100%|██████████| 98/98 [00:09<00:00, 10.53it/s, acc=22.5, loss=2.08]\n",
      "Valid--Epoch [99/100]: 100%|██████████| 100/100 [00:01<00:00, 87.44it/s, acc=26.9, loss=1.95]"
     ]
    },
    {
     "name": "stdout",
     "output_type": "stream",
     "text": [
      "\n",
      " epoch: 100/100\n"
     ]
    },
    {
     "name": "stderr",
     "output_type": "stream",
     "text": [
      "\n",
      "Train--Epoch [100/100]: 100%|██████████| 98/98 [00:09<00:00, 10.34it/s, acc=22.3, loss=2.08]\n",
      "Valid--Epoch [100/100]: 100%|██████████| 100/100 [00:01<00:00, 95.45it/s, acc=26.9, loss=1.95]\n"
     ]
    }
   ],
   "source": [
    "model.to(device)\n",
    "for epoch in range(start_epoch, n_epochs):\n",
    "\n",
    "    print(f'\\n epoch: {epoch+1}/{n_epochs}')\n",
    "\n",
    "    ##########################################################\n",
    "    model.train(True)\n",
    "    tr_loss = 0\n",
    "    correct = 0\n",
    "    total = 0\n",
    "\n",
    "    loop1 = tqdm(enumerate(train_loader), total=len(train_loader))\n",
    "    for batch_idx, (inputs, targets) in loop1:\n",
    "        inputs, targets = inputs.to(device), targets.to(device)\n",
    "\n",
    "        outputs = model(inputs)\n",
    "        loss = criterion(outputs, targets)\n",
    "\n",
    "        # Zero gradients for every batch\n",
    "        optimizer.zero_grad()\n",
    "        # Backward path (Gradient)\n",
    "        loss.backward()\n",
    "        # Optimizer(Adam) Step\n",
    "        optimizer.step()\n",
    "\n",
    "        tr_loss += loss.item()\n",
    "        _, predicted = outputs.max(1)\n",
    "        total += targets.size(0)\n",
    "        correct += predicted.eq(targets).sum().item()\n",
    "\n",
    "        avg_tr_loss = tr_loss/(batch_idx+1)\n",
    "        avg_tr_accuracy = 100.*correct/total\n",
    "\n",
    "        loop1.set_description(f\"Train--Epoch [{epoch+1}/{n_epochs}]\")\n",
    "        loop1.set_postfix(loss=avg_tr_loss, acc=avg_tr_accuracy)\n",
    "\n",
    "    ##########################################################\n",
    "    list_tr_loss.append(avg_tr_loss)\n",
    "    list_tr_acc.append(avg_tr_accuracy)\n",
    "\n",
    "    ##########################################################\n",
    "    model.eval()\n",
    "    val_loss = 0\n",
    "    correct = 0\n",
    "    total = 0\n",
    "    with torch.no_grad():\n",
    "\n",
    "        loop2 = tqdm(enumerate(valid_loader), total=len(valid_loader))\n",
    "        for batch_idx, (inputs, targets) in loop2:\n",
    "            inputs, targets = inputs.to(device), targets.to(device)\n",
    "\n",
    "            outputs = model(inputs)\n",
    "            loss = criterion(outputs, targets)\n",
    "\n",
    "            val_loss += loss.item()\n",
    "            _, predicted = outputs.max(1)\n",
    "            total += targets.size(0)\n",
    "            correct += predicted.eq(targets).sum().item()\n",
    "\n",
    "            avg_val_loss = val_loss/(batch_idx+1)\n",
    "            avg_val_accuracy = 100.*correct/total\n",
    "\n",
    "            loop2.set_description(f\"Valid--Epoch [{epoch+1}/{n_epochs}]\")\n",
    "            loop2.set_postfix(loss=avg_val_loss, acc=avg_val_accuracy)\n",
    "\n",
    "    list_val_loss.append(avg_val_loss)\n",
    "    list_val_acc.append(avg_val_accuracy)\n",
    "\n",
    "    # Save checkpoint.\n",
    "    if avg_val_accuracy > best_acc:\n",
    "        best_acc = avg_val_accuracy\n",
    "\n",
    "        print('Saving..')\n",
    "        state = {\"model\": model.state_dict(),\n",
    "                 \"optimizer\": optimizer.state_dict(),\n",
    "                 \"epoch\": epoch,\n",
    "                 \"list_tr_loss\": list_tr_loss,\n",
    "                 \"list_tr_acc\": list_tr_acc,\n",
    "                 \"list_val_loss\": list_val_loss,\n",
    "                 \"list_val_acc\": list_val_acc\n",
    "                 }\n",
    "        torch.save(state, model_state_path +\n",
    "                   f'vit_patch{patch_size}_cifar10_epoch_{epoch}')\n",
    "\n",
    "    ##########################################################\n",
    "\n",
    "    scheduler.step()  # step cosine scheduling"
   ]
  },
  {
   "cell_type": "code",
   "execution_count": 20,
   "metadata": {},
   "outputs": [
    {
     "data": {
      "image/png": "[encoded data removed]",
      "text/plain": [
       "<Figure size 640x480 with 2 Axes>"
      ]
     },
     "metadata": {},
     "output_type": "display_data"
    }
   ],
   "source": [
    "fig, axs = plt.subplots(2, 1)\n",
    "\n",
    "axs[0].plot(range(len(list_tr_loss )), list_tr_loss , label='Train Loss')\n",
    "axs[0].plot(range(len(list_val_loss)), list_val_loss, label='Validation Loss')\n",
    "axs[0].set_ylim([0,5])\n",
    "\n",
    "axs[1].plot(range(len(list_tr_acc)), list_tr_acc, label='Train Accuracy')\n",
    "axs[1].plot(range(len(list_val_acc)), list_val_acc, label='Validation Accuracy')\n",
    "axs[1].set_ylim([0,80])\n",
    "\n",
    "axs[0].legend()\n",
    "axs[1].legend()\n",
    "plt.show()"
   ]
  }
 ],
 "metadata": {
  "kernelspec": {
   "display_name": "timmvenv11",
   "language": "python",
   "name": "python3"
  },
  "language_info": {
   "codemirror_mode": {
    "name": "ipython",
    "version": 3
   },
   "file_extension": ".py",
   "mimetype": "text/x-python",
   "name": "python",
   "nbconvert_exporter": "python",
   "pygments_lexer": "ipython3",
   "version": "3.11.0rc1"
  }
 },
 "nbformat": 4,
 "nbformat_minor": 2
}
