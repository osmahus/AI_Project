{
 "cells": [
  {
   "cell_type": "code",
   "execution_count": 28,
   "metadata": {},
   "outputs": [],
   "source": [
    "import os\n",
    "import cv2\n",
    "\n",
    "from helpers.dataset_process import dataset_to_df, search_df\n",
    "# from engine import train_fn, eval_fn\n",
    "\n",
    "import numpy as np\n",
    "# import pandas as pd\n",
    "\n",
    "from tqdm import tqdm\n",
    "\n",
    "import matplotlib.pyplot as plt\n",
    "from mpl_toolkits.axes_grid1 import ImageGrid\n",
    "\n",
    "import torch\n",
    "# from torch import Tensor\n",
    "import torch.nn as nn\n",
    "# import torch.nn.functional as F\n",
    "\n",
    "# The cross-entropy loss penalizes the model more when it is more confident in the incorrect class\n",
    "from torch.nn import CrossEntropyLoss\n",
    "\n",
    "# Adam is an optimization algorithm that can be used instead of the classical SGD procedure\n",
    "# to update network weights iterative based in training data.\n",
    "from torch.optim import Adam, lr_scheduler\n",
    "from torch.utils.data import Dataset, DataLoader, random_split\n",
    "\n",
    "import torchvision\n",
    "from torchvision import transforms\n",
    "from torchvision.transforms import v2\n",
    "# from torchvision.transforms.autoaugment import AutoAugment,AutoAugmentPolicy\n",
    "from torchvision.io import read_image\n",
    "\n",
    "# import albumentations as alb\n",
    "\n",
    "from torchinfo import summary\n",
    "\n",
    "from einops import rearrange, repeat\n",
    "from einops.layers.torch import Rearrange\n",
    "\n",
    "# from typing import Optional, Tuple\n",
    "# import timm\n",
    "# import wandb\n",
    "# import time\n",
    "# from utils import progress_bar\n",
    "# import csv"
   ]
  },
  {
   "cell_type": "code",
   "execution_count": 29,
   "metadata": {},
   "outputs": [
    {
     "name": "stdout",
     "output_type": "stream",
     "text": [
      "torch version: 2.2.1+cu121\n",
      "GPU Card: NVIDIA GeForce RTX 3070 Ti Laptop GPU\n",
      "Torch is using device: cuda:0\n",
      "CPU Count: 20\n"
     ]
    }
   ],
   "source": [
    "print(f\"torch version: {torch.__version__}\")\n",
    "print(f\"GPU Card: {torch.cuda.get_device_name(0)}\")\n",
    "device = torch.device('cuda:0' if torch.cuda.is_available() else 'cpu')\n",
    "print('Torch is using device:', device)\n",
    "torch.cuda.get_device_name(device)\n",
    "\n",
    "NUM_WORKERS = os.cpu_count()\n",
    "print(\"CPU Count:\", NUM_WORKERS)"
   ]
  },
  {
   "cell_type": "code",
   "execution_count": 30,
   "metadata": {},
   "outputs": [],
   "source": [
    "start_from_model = False\n",
    "model_state_path = \"../../../weights/vit_cifak/checkpoint/\"\n",
    "model_file_name = \"vit_patch8_cifak_epoch_97\""
   ]
  },
  {
   "cell_type": "code",
   "execution_count": 31,
   "metadata": {},
   "outputs": [],
   "source": [
    "# https://github.com/lucidrains/vit-pytorch/blob/main/vit_pytorch/vit.py\n",
    "\n",
    "# helpers\n",
    "\n",
    "def pair(t):\n",
    "    return t if isinstance(t, tuple) else (t, t)\n",
    "\n",
    "# classes\n",
    "\n",
    "class PreNorm(nn.Module):\n",
    "    def __init__(self, dim, fn):\n",
    "        super().__init__()\n",
    "        self.norm = nn.LayerNorm(dim)\n",
    "        self.fn = fn\n",
    "    def forward(self, x, **kwargs):\n",
    "        return self.fn(self.norm(x), **kwargs)\n",
    "\n",
    "class FeedForward(nn.Module):\n",
    "    def __init__(self, dim, hidden_dim, dropout = 0.):\n",
    "        super().__init__()\n",
    "        self.model = nn.Sequential(\n",
    "            nn.Linear(dim, hidden_dim),\n",
    "            nn.GELU(),\n",
    "            nn.Dropout(dropout),\n",
    "            nn.Linear(hidden_dim, dim),\n",
    "            nn.Dropout(dropout)\n",
    "        )\n",
    "    def forward(self, x):\n",
    "        return self.model(x)\n",
    "\n",
    "class Attention(nn.Module):\n",
    "    def __init__(self, dim, heads = 8, dim_head = 64, dropout = 0.):\n",
    "        super().__init__()\n",
    "        inner_dim = dim_head *  heads\n",
    "        project_out = not (heads == 1 and dim_head == dim)\n",
    "\n",
    "        self.heads = heads\n",
    "        self.scale = dim_head ** -0.5\n",
    "\n",
    "        self.attend = nn.Softmax(dim = -1)\n",
    "        self.to_qkv = nn.Linear(dim, inner_dim * 3, bias = False)\n",
    "\n",
    "        self.to_out = nn.Sequential(\n",
    "            nn.Linear(inner_dim, dim),\n",
    "            nn.Dropout(dropout)\n",
    "        ) if project_out else nn.Identity()\n",
    "\n",
    "    def forward(self, x):\n",
    "        qkv = self.to_qkv(x).chunk(3, dim = -1)\n",
    "        q, k, v = map(lambda t: rearrange(t, 'b n (h d) -> b h n d', h = self.heads), qkv)\n",
    "\n",
    "        dots = torch.matmul(q, k.transpose(-1, -2)) * self.scale\n",
    "\n",
    "        attn = self.attend(dots)\n",
    "\n",
    "        out = torch.matmul(attn, v)\n",
    "        out = rearrange(out, 'b h n d -> b n (h d)')\n",
    "        return self.to_out(out)\n",
    "\n",
    "class Transformer(nn.Module):\n",
    "    def __init__(self, dim, depth, heads, dim_head, mlp_dim, dropout = 0.):\n",
    "        super().__init__()\n",
    "        self.layers = nn.ModuleList([])\n",
    "        for _ in range(depth):\n",
    "            self.layers.append(nn.ModuleList([\n",
    "                PreNorm(dim, Attention(dim, heads = heads, dim_head = dim_head, dropout = dropout)),\n",
    "                PreNorm(dim, FeedForward(dim, mlp_dim, dropout = dropout))\n",
    "            ]))\n",
    "    def forward(self, x):\n",
    "        for attn, ff in self.layers:\n",
    "            x = attn(x) + x\n",
    "            x = ff(x) + x\n",
    "        return x\n",
    "\n",
    "class ViT(nn.Module):\n",
    "    def __init__(self, *, image_size, patch_size, num_classes, dim, depth, heads, mlp_dim, pool = 'cls', channels = 3, dim_head = 64, emb_dropout = 0., dropout = 0.):\n",
    "        super().__init__()\n",
    "        image_height, image_width = pair(image_size)\n",
    "        patch_height, patch_width = pair(patch_size)\n",
    "\n",
    "        assert image_height % patch_height == 0 and image_width % patch_width == 0, 'Image dimensions must be divisible by the patch size.'\n",
    "\n",
    "        num_patches = (image_height // patch_height) * (image_width // patch_width)\n",
    "        patch_dim = channels * patch_height * patch_width\n",
    "        assert pool in {'cls', 'mean'}, 'pool type must be either cls (cls token) or mean (mean pooling)'\n",
    "\n",
    "        self.to_patch_embedding = nn.Sequential(\n",
    "            Rearrange('b c (h p1) (w p2) -> b (h w) (p1 p2 c)', p1 = patch_height, p2 = patch_width),\n",
    "            nn.Linear(patch_dim, dim),\n",
    "        )\n",
    "\n",
    "        self.pos_embedding = nn.Parameter(torch.randn(1, num_patches + 1, dim))\n",
    "        self.cls_token = nn.Parameter(torch.randn(1, 1, dim))\n",
    "        self.dropout = nn.Dropout(emb_dropout)\n",
    "\n",
    "        self.transformer = Transformer(dim, depth, heads, dim_head, mlp_dim, dropout)\n",
    "\n",
    "        self.pool = pool\n",
    "        self.to_latent = nn.Identity()\n",
    "\n",
    "        self.mlp_head = nn.Sequential(\n",
    "            nn.LayerNorm(dim),\n",
    "            nn.Linear(dim, num_classes)\n",
    "        )\n",
    "\n",
    "    def forward(self, img):\n",
    "        x = self.to_patch_embedding(img)\n",
    "        b, n, _ = x.shape\n",
    "\n",
    "        cls_tokens = repeat(self.cls_token, '() n d -> b n d', b = b)\n",
    "        x = torch.cat((cls_tokens, x), dim=1)\n",
    "        x += self.pos_embedding[:, :(n + 1)]\n",
    "        x = self.dropout(x)\n",
    "\n",
    "        x = self.transformer(x)\n",
    "\n",
    "        x = x.mean(dim = 1) if self.pool == 'mean' else x[:, 0]\n",
    "\n",
    "        x = self.to_latent(x)\n",
    "        return self.mlp_head(x)"
   ]
  },
  {
   "cell_type": "code",
   "execution_count": 32,
   "metadata": {},
   "outputs": [],
   "source": [
    "path = '../../../data/CIFAK'\n",
    "relative_paths = [\"/train/REAL\", \"/train/FAKE\", \"/test/REAL\", \"/test/FAKE\"]\n",
    "paths_classes = [\"REAL\", \"FAKE\", \"REAL\", \"FAKE\"]"
   ]
  },
  {
   "cell_type": "code",
   "execution_count": 33,
   "metadata": {},
   "outputs": [
    {
     "data": {
      "text/html": [
       "<div>\n",
       "<style scoped>\n",
       "    .dataframe tbody tr th:only-of-type {\n",
       "        vertical-align: middle;\n",
       "    }\n",
       "\n",
       "    .dataframe tbody tr th {\n",
       "        vertical-align: top;\n",
       "    }\n",
       "\n",
       "    .dataframe thead th {\n",
       "        text-align: right;\n",
       "    }\n",
       "</style>\n",
       "<table border=\"1\" class=\"dataframe\">\n",
       "  <thead>\n",
       "    <tr style=\"text-align: right;\">\n",
       "      <th></th>\n",
       "      <th>REAL</th>\n",
       "      <th>FAKE</th>\n",
       "      <th>Total</th>\n",
       "    </tr>\n",
       "  </thead>\n",
       "  <tbody>\n",
       "    <tr>\n",
       "      <th>Training</th>\n",
       "      <td>48000</td>\n",
       "      <td>48000</td>\n",
       "      <td>96000</td>\n",
       "    </tr>\n",
       "    <tr>\n",
       "      <th>Validation</th>\n",
       "      <td>11400</td>\n",
       "      <td>11400</td>\n",
       "      <td>22800</td>\n",
       "    </tr>\n",
       "    <tr>\n",
       "      <th>Testing</th>\n",
       "      <td>600</td>\n",
       "      <td>600</td>\n",
       "      <td>1200</td>\n",
       "    </tr>\n",
       "    <tr>\n",
       "      <th>Row_Total</th>\n",
       "      <td>60000</td>\n",
       "      <td>60000</td>\n",
       "      <td>120000</td>\n",
       "    </tr>\n",
       "  </tbody>\n",
       "</table>\n",
       "</div>"
      ],
      "text/plain": [
       "             REAL   FAKE   Total\n",
       "Training    48000  48000   96000\n",
       "Validation  11400  11400   22800\n",
       "Testing       600    600    1200\n",
       "Row_Total   60000  60000  120000"
      ]
     },
     "execution_count": 33,
     "metadata": {},
     "output_type": "execute_result"
    }
   ],
   "source": [
    "df_all, df_train, df_val, df_test, classes_stats = dataset_to_df(path, relative_paths, paths_classes, 0.8, 0.19, 0.01)\n",
    "\n",
    "classes_stats"
   ]
  },
  {
   "cell_type": "code",
   "execution_count": 34,
   "metadata": {},
   "outputs": [
    {
     "name": "stdout",
     "output_type": "stream",
     "text": [
      "Flattened dimension size(of a patch): 192\n",
      "Embedding Size: 192\n",
      "Output MLP size: 512\n"
     ]
    }
   ],
   "source": [
    "img_size = 32\n",
    "patch_size = 8\n",
    "trans_img_resize = 32\n",
    "image_patch_flat_size = 3*patch_size**2\n",
    "embed_size = image_patch_flat_size\n",
    "mlp_dim = 512\n",
    "train_batch_size = 64\n",
    "valid_batch_size = 32\n",
    "num_classes = 2\n",
    "encoder_depth = 6\n",
    "attention_heads = 12\n",
    "\n",
    "print(f'Flattened dimension size(of a patch): {image_patch_flat_size}')\n",
    "print(f'Embedding Size: {embed_size}')\n",
    "print(f'Output MLP size: {mlp_dim}')"
   ]
  },
  {
   "cell_type": "code",
   "execution_count": 35,
   "metadata": {},
   "outputs": [],
   "source": [
    "norm_mean = [0.4913997551666284, 0.48215855929893703, 0.4465309133731618]\n",
    "norm_std = [0.24703225141799082, 0.24348516474564, 0.26158783926049628]"
   ]
  },
  {
   "cell_type": "code",
   "execution_count": 36,
   "metadata": {},
   "outputs": [],
   "source": [
    "# Custom Dataset Class\n",
    "class Images_Dataset(Dataset):\n",
    "    def __init__(self, annotations_df, transform=None):\n",
    "        \n",
    "        self.annotation = annotations_df\n",
    "        self.transform = transform\n",
    "\n",
    "    def __getitem__(self, index):\n",
    "        \n",
    "        img = read_image(self.annotation.iloc[index, 0])\n",
    "        labels = torch.tensor(self.annotation.iloc[index, 3],dtype=torch.int64)\n",
    "\n",
    "        if self.transform:\n",
    "            img_t = self.transform(img)\n",
    "\n",
    "        return img_t, labels\n",
    "\n",
    "    def __len__(self):\n",
    "        # To return the length of the dataset\n",
    "        return self.annotation.shape[0]"
   ]
  },
  {
   "cell_type": "code",
   "execution_count": 37,
   "metadata": {},
   "outputs": [],
   "source": [
    "transform_train = transforms.Compose([\n",
    "    # v2.ToPILImage(),\n",
    "    # v2.AutoAugment(v2.AutoAugmentPolicy.CIFAR10),\n",
    "    # transforms.RandAugment(2, 14),\n",
    "    v2.RandomCrop(32, padding=4),\n",
    "    v2.RandomHorizontalFlip(p=0.5),\n",
    "    v2.RandomAffine(degrees=(0, 180), translate=(0.1, 0.3), scale=(0.5, 0.75)),\n",
    "    # v2.RandomPerspective(distortion_scale=0.6, p=1.0),\n",
    "    v2.ToImage(), \n",
    "    v2.ToDtype(torch.float32, scale=True),\n",
    "    # v2.ToTensor(),\n",
    "    v2.Normalize(norm_mean, norm_std),\n",
    "])\n",
    "\n",
    "transform_valid = transforms.Compose([\n",
    "    v2.Resize(trans_img_resize),\n",
    "    v2.ToImage(), \n",
    "    v2.ToDtype(torch.float32, scale=True),\n",
    "    v2.Normalize(norm_mean, norm_std),\n",
    "])"
   ]
  },
  {
   "cell_type": "code",
   "execution_count": 38,
   "metadata": {},
   "outputs": [],
   "source": [
    "# Define the dataset object and configure the Data Loader\n",
    "\n",
    "train_set  = Images_Dataset(df_train, transform_train)\n",
    "\n",
    "train_loader = DataLoader(dataset=train_set,\n",
    "                          batch_size=train_batch_size,\n",
    "                          # Drops the last mini batch if less than the batch size (could enhance the model accuracy)\n",
    "                          drop_last=True,\n",
    "                          shuffle=True,\n",
    "                          pin_memory=True,\n",
    "                          num_workers=NUM_WORKERS)\n",
    "\n",
    "\n",
    "valid_set  = Images_Dataset(df_val, transform_valid)\n",
    "\n",
    "valid_loader= DataLoader(dataset=valid_set ,\n",
    "                          batch_size=valid_batch_size,\n",
    "                          # Drops the last mini batch if less than the batch size (could enhance the model accuracy)\n",
    "                          drop_last=True,\n",
    "                          shuffle=False,\n",
    "                          pin_memory=True,\n",
    "                          num_workers=NUM_WORKERS)"
   ]
  },
  {
   "cell_type": "code",
   "execution_count": 39,
   "metadata": {},
   "outputs": [
    {
     "name": "stdout",
     "output_type": "stream",
     "text": [
      "First and Last Elements in the Whole dataset\n"
     ]
    },
    {
     "data": {
      "text/html": [
       "<div>\n",
       "<style scoped>\n",
       "    .dataframe tbody tr th:only-of-type {\n",
       "        vertical-align: middle;\n",
       "    }\n",
       "\n",
       "    .dataframe tbody tr th {\n",
       "        vertical-align: top;\n",
       "    }\n",
       "\n",
       "    .dataframe thead th {\n",
       "        text-align: right;\n",
       "    }\n",
       "</style>\n",
       "<table border=\"1\" class=\"dataframe\">\n",
       "  <thead>\n",
       "    <tr style=\"text-align: right;\">\n",
       "      <th></th>\n",
       "      <th>Image_path</th>\n",
       "      <th>Image_size</th>\n",
       "      <th>Class</th>\n",
       "      <th>Class_Codes</th>\n",
       "      <th>Class_Onehot</th>\n",
       "    </tr>\n",
       "  </thead>\n",
       "  <tbody>\n",
       "    <tr>\n",
       "      <th>0</th>\n",
       "      <td>../../../data/CIFAK//train/REAL/0000(10).jpg</td>\n",
       "      <td>(3, 32, 32)</td>\n",
       "      <td>REAL</td>\n",
       "      <td>1</td>\n",
       "      <td>[1, 0]</td>\n",
       "    </tr>\n",
       "    <tr>\n",
       "      <th>119999</th>\n",
       "      <td>../../../data/CIFAK//test/FAKE/999.jpg</td>\n",
       "      <td>(3, 32, 32)</td>\n",
       "      <td>FAKE</td>\n",
       "      <td>0</td>\n",
       "      <td>[0, 1]</td>\n",
       "    </tr>\n",
       "  </tbody>\n",
       "</table>\n",
       "</div>"
      ],
      "text/plain": [
       "                                          Image_path   Image_size Class  \\\n",
       "0       ../../../data/CIFAK//train/REAL/0000(10).jpg  (3, 32, 32)  REAL   \n",
       "119999        ../../../data/CIFAK//test/FAKE/999.jpg  (3, 32, 32)  FAKE   \n",
       "\n",
       "        Class_Codes Class_Onehot  \n",
       "0                 1       [1, 0]  \n",
       "119999            0       [0, 1]  "
      ]
     },
     "execution_count": 39,
     "metadata": {},
     "output_type": "execute_result"
    }
   ],
   "source": [
    "print(\"First and Last Elements in the Whole dataset\")\n",
    "df_all.iloc[[0,-1]]"
   ]
  },
  {
   "cell_type": "code",
   "execution_count": 40,
   "metadata": {},
   "outputs": [
    {
     "name": "stdout",
     "output_type": "stream",
     "text": [
      "96000\n"
     ]
    }
   ],
   "source": [
    "print(len(train_loader)*train_loader.batch_size)\n"
   ]
  },
  {
   "cell_type": "code",
   "execution_count": 41,
   "metadata": {},
   "outputs": [
    {
     "name": "stdout",
     "output_type": "stream",
     "text": [
      "Batch of Images Shape: torch.Size([64, 3, 32, 32])\n",
      "Batch of Images Shape: torch.Size([64])\n",
      "tensor([1, 1, 0, 1, 1, 0, 1, 1, 0, 1, 1, 0, 1, 0, 0, 1, 1, 1, 1, 1, 1, 1, 1, 1,\n",
      "        1, 0, 1, 1, 1, 1, 1, 1, 1, 0, 1, 1, 1, 0, 0, 1, 0, 1, 0, 0, 0, 0, 1, 1,\n",
      "        1, 0, 0, 1, 1, 0, 0, 1, 0, 1, 0, 0, 0, 0, 0, 1])\n"
     ]
    }
   ],
   "source": [
    "sample_img_batch,label = next(iter(train_loader))\n",
    "\n",
    "print(f\"Batch of Images Shape: {sample_img_batch.size()}\")\n",
    "print(f\"Batch of Images Shape: {label.size()}\")\n",
    "print(label)"
   ]
  },
  {
   "cell_type": "code",
   "execution_count": 42,
   "metadata": {},
   "outputs": [],
   "source": [
    "class SliceImage:\n",
    "    def __init__(self, slice_width):\n",
    "        self.slice_width = slice_width\n",
    "\n",
    "    def slice(self, img):\n",
    "        # c: color channels\n",
    "\n",
    "        # h: desired slice height (pixels)\n",
    "        # w: desired slice width (pixels)\n",
    "\n",
    "        # row: No. of vertical slices\n",
    "        # col: No. of horizontal slices\n",
    "\n",
    "        # b: Batch of Images\n",
    "\n",
    "        sliced_Img = rearrange(\n",
    "            img, 'c (row h) (col w) -> row col c h w', h=self.slice_width, w=self.slice_width)\n",
    "\n",
    "        return sliced_Img\n",
    "\n",
    "    def __call__(self, img):\n",
    "        sliced_img = self.slice(img)\n",
    "        sliced_flattened_img = rearrange(\n",
    "            sliced_img, 'row col c h w -> (row col) (c h w)')\n",
    "\n",
    "        return sliced_flattened_img\n",
    "\n",
    "    plt.show()"
   ]
  },
  {
   "cell_type": "code",
   "execution_count": 43,
   "metadata": {},
   "outputs": [],
   "source": [
    "def img_data(train_loader, index):\n",
    "\n",
    "    img, label = train_loader.dataset[index]\n",
    "\n",
    "    channels, img_H, img_W = img.size()\n",
    "    \n",
    "    batch = train_loader.batch_size\n",
    "\n",
    "    return img, label, channels, img_H, batch"
   ]
  },
  {
   "cell_type": "code",
   "execution_count": 44,
   "metadata": {},
   "outputs": [],
   "source": [
    "def img_plot(img, slice_width):\n",
    "    slice = SliceImage(slice_width)\n",
    "    sliced_img = slice.slice(img)\n",
    "    print(\"Sliced Image Shape: \", sliced_img.shape)\n",
    "\n",
    "    fig = plt.figure(layout=\"constrained\", figsize=(8, 4))\n",
    "    subfigs = fig.subfigures(3, 1, height_ratios=[1., 1.5, 1.], hspace=0.05, squeeze='True')\n",
    "\n",
    "    axs0 = subfigs[0].subplots(1, 1)\n",
    "    img_a = rearrange(img, \"c h w -> h w c\").numpy()\n",
    "    \n",
    "    axs0.imshow(img_a)\n",
    "    axs0.axis('off')\n",
    "    # subfigs[0].suptitle('Input Image', fontsize=10)\n",
    "\n",
    "    grid1 = ImageGrid(subfigs[1], 111, nrows_ncols=(sliced_img.size(0), sliced_img.size(1)), axes_pad=0.03)\n",
    "\n",
    "    for i, ax in enumerate(grid1):\n",
    "        i_b4 = str(np.base_repr(i, sliced_img.size(0))).zfill(2)\n",
    "        row = int(i_b4[0])\n",
    "        column = int(i_b4[1])\n",
    "        patch = rearrange(sliced_img[row][column], \"c h w -> h w c\").numpy()\n",
    "        \n",
    "        ax.imshow(patch)\n",
    "        ax.axis('off')\n",
    "    # subfigs[1].suptitle('Slices', fontsize=10)\n",
    "\n",
    "    grid2 = ImageGrid(subfigs[2], 111, nrows_ncols=(1, sliced_img.size(0)*sliced_img.size(1)), axes_pad=0.03)\n",
    "\n",
    "    for i, ax in enumerate(grid2):\n",
    "        i_b4 = str(np.base_repr(i, sliced_img.size(0))).zfill(2)\n",
    "        row = int(i_b4[0])\n",
    "        column = int(i_b4[1])\n",
    "        patch = sliced_img[row][column].permute(1, 2, 0).numpy()\n",
    "        \n",
    "        ax.imshow(patch)\n",
    "        ax.axis('off')\n",
    "    # subfigs[2].suptitle('Position', fontsize=10)"
   ]
  },
  {
   "cell_type": "code",
   "execution_count": 45,
   "metadata": {},
   "outputs": [
    {
     "name": "stderr",
     "output_type": "stream",
     "text": [
      "Clipping input data to the valid range for imshow with RGB data ([0..1] for floats or [0..255] for integers).\n"
     ]
    },
    {
     "name": "stdout",
     "output_type": "stream",
     "text": [
      "Input Image Shape: torch.Size([3, 32, 32])\n",
      "Sliced Image Shape:  torch.Size([4, 4, 3, 8, 8])\n"
     ]
    },
    {
     "name": "stderr",
     "output_type": "stream",
     "text": [
      "Clipping input data to the valid range for imshow with RGB data ([0..1] for floats or [0..255] for integers).\n",
      "Clipping input data to the valid range for imshow with RGB data ([0..1] for floats or [0..255] for integers).\n",
      "Clipping input data to the valid range for imshow with RGB data ([0..1] for floats or [0..255] for integers).\n",
      "Clipping input data to the valid range for imshow with RGB data ([0..1] for floats or [0..255] for integers).\n",
      "Clipping input data to the valid range for imshow with RGB data ([0..1] for floats or [0..255] for integers).\n",
      "Clipping input data to the valid range for imshow with RGB data ([0..1] for floats or [0..255] for integers).\n",
      "Clipping input data to the valid range for imshow with RGB data ([0..1] for floats or [0..255] for integers).\n",
      "Clipping input data to the valid range for imshow with RGB data ([0..1] for floats or [0..255] for integers).\n",
      "Clipping input data to the valid range for imshow with RGB data ([0..1] for floats or [0..255] for integers).\n",
      "Clipping input data to the valid range for imshow with RGB data ([0..1] for floats or [0..255] for integers).\n",
      "Clipping input data to the valid range for imshow with RGB data ([0..1] for floats or [0..255] for integers).\n",
      "Clipping input data to the valid range for imshow with RGB data ([0..1] for floats or [0..255] for integers).\n",
      "Clipping input data to the valid range for imshow with RGB data ([0..1] for floats or [0..255] for integers).\n",
      "Clipping input data to the valid range for imshow with RGB data ([0..1] for floats or [0..255] for integers).\n",
      "Clipping input data to the valid range for imshow with RGB data ([0..1] for floats or [0..255] for integers).\n",
      "Clipping input data to the valid range for imshow with RGB data ([0..1] for floats or [0..255] for integers).\n",
      "Clipping input data to the valid range for imshow with RGB data ([0..1] for floats or [0..255] for integers).\n",
      "Clipping input data to the valid range for imshow with RGB data ([0..1] for floats or [0..255] for integers).\n",
      "Clipping input data to the valid range for imshow with RGB data ([0..1] for floats or [0..255] for integers).\n",
      "Clipping input data to the valid range for imshow with RGB data ([0..1] for floats or [0..255] for integers).\n",
      "Clipping input data to the valid range for imshow with RGB data ([0..1] for floats or [0..255] for integers).\n",
      "Clipping input data to the valid range for imshow with RGB data ([0..1] for floats or [0..255] for integers).\n",
      "Clipping input data to the valid range for imshow with RGB data ([0..1] for floats or [0..255] for integers).\n",
      "Clipping input data to the valid range for imshow with RGB data ([0..1] for floats or [0..255] for integers).\n",
      "Clipping input data to the valid range for imshow with RGB data ([0..1] for floats or [0..255] for integers).\n",
      "Clipping input data to the valid range for imshow with RGB data ([0..1] for floats or [0..255] for integers).\n",
      "Clipping input data to the valid range for imshow with RGB data ([0..1] for floats or [0..255] for integers).\n",
      "Clipping input data to the valid range for imshow with RGB data ([0..1] for floats or [0..255] for integers).\n",
      "Clipping input data to the valid range for imshow with RGB data ([0..1] for floats or [0..255] for integers).\n",
      "Clipping input data to the valid range for imshow with RGB data ([0..1] for floats or [0..255] for integers).\n",
      "Clipping input data to the valid range for imshow with RGB data ([0..1] for floats or [0..255] for integers).\n",
      "Clipping input data to the valid range for imshow with RGB data ([0..1] for floats or [0..255] for integers).\n"
     ]
    },
    {
     "name": "stdout",
     "output_type": "stream",
     "text": [
      "\n",
      "slice_embed 192\n"
     ]
    },
    {
     "data": {
      "image/png": "[encoded data removed]",
      "text/plain": [
       "<Figure size 800x400 with 65 Axes>"
      ]
     },
     "metadata": {},
     "output_type": "display_data"
    }
   ],
   "source": [
    "sample_img, _ = train_set[100]\n",
    "sample_img_tr, sample_img_label, ch, img_size, batch_size = img_data(train_loader, 2)\n",
    "print(f\"Input Image Shape: {sample_img_tr.size()}\")\n",
    "img_plot(sample_img, patch_size)\n",
    "\n",
    "print(\"\")\n",
    "\n",
    "slice_embed = embed_size\n",
    "print(\"slice_embed\", slice_embed)"
   ]
  },
  {
   "cell_type": "code",
   "execution_count": 46,
   "metadata": {},
   "outputs": [],
   "source": [
    "model = ViT(\n",
    "    image_size=img_size,\n",
    "    patch_size=patch_size,\n",
    "    num_classes=num_classes,\n",
    "    dim=slice_embed,\n",
    "    depth=encoder_depth,\n",
    "    heads=attention_heads,\n",
    "    mlp_dim=mlp_dim,\n",
    "    emb_dropout=0.1,\n",
    "    dropout=0.1\n",
    ")\n"
   ]
  },
  {
   "cell_type": "code",
   "execution_count": 47,
   "metadata": {},
   "outputs": [
    {
     "name": "stdout",
     "output_type": "stream",
     "text": [
      "Input Shape:  torch.Size([64, 3, 32, 32])\n",
      "Output Shape:  torch.Size([64, 2])\n"
     ]
    },
    {
     "data": {
      "text/plain": [
       "==================================================================================================================================\n",
       "Layer (type (var_name))                            Input Shape          Output Shape         Param #              Trainable\n",
       "==================================================================================================================================\n",
       "ViT (ViT)                                          [64, 3, 32, 32]      [64, 2]              3,456                True\n",
       "├─Sequential (to_patch_embedding)                  [64, 3, 32, 32]      [64, 16, 192]        --                   True\n",
       "│    └─Rearrange (0)                               [64, 3, 32, 32]      [64, 16, 192]        --                   --\n",
       "│    └─Linear (1)                                  [64, 16, 192]        [64, 16, 192]        37,056               True\n",
       "├─Dropout (dropout)                                [64, 17, 192]        [64, 17, 192]        --                   --\n",
       "├─Transformer (transformer)                        [64, 17, 192]        [64, 17, 192]        --                   True\n",
       "│    └─ModuleList (layers)                         --                   --                   --                   True\n",
       "│    │    └─ModuleList (0)                         --                   --                   788,096              True\n",
       "│    │    └─ModuleList (1)                         --                   --                   788,096              True\n",
       "│    │    └─ModuleList (2)                         --                   --                   788,096              True\n",
       "│    │    └─ModuleList (3)                         --                   --                   788,096              True\n",
       "│    │    └─ModuleList (4)                         --                   --                   788,096              True\n",
       "│    │    └─ModuleList (5)                         --                   --                   788,096              True\n",
       "├─Identity (to_latent)                             [64, 192]            [64, 192]            --                   --\n",
       "├─Sequential (mlp_head)                            [64, 192]            [64, 2]              --                   True\n",
       "│    └─LayerNorm (0)                               [64, 192]            [64, 192]            384                  True\n",
       "│    └─Linear (1)                                  [64, 192]            [64, 2]              386                  True\n",
       "==================================================================================================================================\n",
       "Total params: 4,769,858\n",
       "Trainable params: 4,769,858\n",
       "Non-trainable params: 0\n",
       "Total mult-adds (Units.MEGABYTES): 305.05\n",
       "==================================================================================================================================\n",
       "Input size (MB): 0.79\n",
       "Forward/backward pass size (MB): 188.84\n",
       "Params size (MB): 19.07\n",
       "Estimated Total Size (MB): 208.70\n",
       "=================================================================================================================================="
      ]
     },
     "execution_count": 47,
     "metadata": {},
     "output_type": "execute_result"
    }
   ],
   "source": [
    "vit_output = model(sample_img_batch)\n",
    "\n",
    "print(\"Input Shape: \", sample_img_batch.size())\n",
    "print(\"Output Shape: \", vit_output.size())\n",
    "\n",
    "summary(model=model,\n",
    "        input_size=sample_img_batch.size(),\n",
    "        col_names=[\"input_size\", \"output_size\", \"num_params\", \"trainable\"],\n",
    "        col_width=20,\n",
    "        row_settings=[\"var_names\"])"
   ]
  },
  {
   "cell_type": "code",
   "execution_count": 48,
   "metadata": {},
   "outputs": [],
   "source": [
    "n_epochs = 500         # Number of epochs\n",
    "base_lr = 10e-3         # Base LR\n",
    "# weight_decay = 0.03     # Weight decay for ViT-Base (on ImageNet-21k)"
   ]
  },
  {
   "cell_type": "code",
   "execution_count": 49,
   "metadata": {},
   "outputs": [],
   "source": [
    "criterion = CrossEntropyLoss()\n",
    "optimizer = Adam(model.parameters(), lr=base_lr)\n",
    "# optimizer = optim.SGD(model.parameters(), lr=base_lr)  \n",
    "    \n",
    "# use cosine scheduling\n",
    "scheduler = lr_scheduler.CosineAnnealingLR(optimizer, n_epochs)"
   ]
  },
  {
   "cell_type": "code",
   "execution_count": 50,
   "metadata": {},
   "outputs": [],
   "source": [
    "if start_from_model:\n",
    "    checkpoint = torch.load(model_state_path+model_file_name)\n",
    "    model.load_state_dict(checkpoint['model'])\n",
    "    \n",
    "    start_epoch = checkpoint['epoch']\n",
    "    best_acc = checkpoint['best_acc']\n",
    "    list_tr_loss = checkpoint['list_tr_loss']\n",
    "    list_tr_acc = checkpoint['list_tr_acc']\n",
    "    list_val_loss = checkpoint['list_val_loss']\n",
    "    list_val_acc = checkpoint['list_val_acc']\n",
    "else:\n",
    "    start_epoch = 0  \n",
    "    best_acc = 0\n",
    "\n",
    "    list_tr_loss = []\n",
    "    list_tr_acc = []\n",
    "    list_val_loss = []\n",
    "    list_val_acc = []"
   ]
  },
  {
   "cell_type": "code",
   "execution_count": 51,
   "metadata": {},
   "outputs": [],
   "source": [
    "        # print(\"targets size\",targets.size())\n",
    "        # print(\"target\",targets[0])\n",
    "        # print(\"target type\",targets[0].type())\n",
    "        # print(\"outputs size\",outputs.size())\n",
    "        # print(\"outputs\",outputs[0])"
   ]
  },
  {
   "cell_type": "code",
   "execution_count": 25,
   "metadata": {},
   "outputs": [
    {
     "name": "stdout",
     "output_type": "stream",
     "text": [
      "\n",
      " epoch: 1/500\n"
     ]
    },
    {
     "name": "stderr",
     "output_type": "stream",
     "text": [
      "Train--Epoch [1/500]: 100%|██████████| 1500/1500 [00:26<00:00, 57.45it/s, acc=53.2, loss=0.697]\n",
      "Valid--Epoch [1/500]: 100%|██████████| 712/712 [00:04<00:00, 152.10it/s, acc=49.6, loss=0.816]\n"
     ]
    },
    {
     "name": "stdout",
     "output_type": "stream",
     "text": [
      "Saving..\n",
      "\n",
      " epoch: 2/500\n"
     ]
    },
    {
     "name": "stderr",
     "output_type": "stream",
     "text": [
      "Train--Epoch [2/500]: 100%|██████████| 1500/1500 [00:26<00:00, 57.10it/s, acc=53.4, loss=0.688]\n",
      "Valid--Epoch [2/500]: 100%|██████████| 712/712 [00:04<00:00, 150.55it/s, acc=52.4, loss=0.692]\n"
     ]
    },
    {
     "name": "stdout",
     "output_type": "stream",
     "text": [
      "Saving..\n",
      "\n",
      " epoch: 3/500\n"
     ]
    },
    {
     "name": "stderr",
     "output_type": "stream",
     "text": [
      "Train--Epoch [3/500]: 100%|██████████| 1500/1500 [00:26<00:00, 56.27it/s, acc=54.3, loss=0.685]\n",
      "Valid--Epoch [3/500]: 100%|██████████| 712/712 [00:04<00:00, 153.35it/s, acc=51.6, loss=0.75] \n"
     ]
    },
    {
     "name": "stdout",
     "output_type": "stream",
     "text": [
      "\n",
      " epoch: 4/500\n"
     ]
    },
    {
     "name": "stderr",
     "output_type": "stream",
     "text": [
      "Train--Epoch [4/500]: 100%|██████████| 1500/1500 [00:27<00:00, 55.36it/s, acc=54.4, loss=0.684]\n",
      "Valid--Epoch [4/500]: 100%|██████████| 712/712 [00:04<00:00, 151.49it/s, acc=52.7, loss=0.933]\n"
     ]
    },
    {
     "name": "stdout",
     "output_type": "stream",
     "text": [
      "Saving..\n",
      "\n",
      " epoch: 5/500\n"
     ]
    },
    {
     "name": "stderr",
     "output_type": "stream",
     "text": [
      "Train--Epoch [5/500]: 100%|██████████| 1500/1500 [00:27<00:00, 53.88it/s, acc=54.7, loss=0.683]\n",
      "Valid--Epoch [5/500]: 100%|██████████| 712/712 [00:04<00:00, 146.45it/s, acc=54.9, loss=0.743]\n"
     ]
    },
    {
     "name": "stdout",
     "output_type": "stream",
     "text": [
      "Saving..\n",
      "\n",
      " epoch: 6/500\n"
     ]
    },
    {
     "name": "stderr",
     "output_type": "stream",
     "text": [
      "Train--Epoch [6/500]: 100%|██████████| 1500/1500 [00:28<00:00, 53.05it/s, acc=54.4, loss=0.685]\n",
      "Valid--Epoch [6/500]: 100%|██████████| 712/712 [00:04<00:00, 144.12it/s, acc=53, loss=0.726]  "
     ]
    },
    {
     "name": "stdout",
     "output_type": "stream",
     "text": [
      "\n",
      " epoch: 7/500\n"
     ]
    },
    {
     "name": "stderr",
     "output_type": "stream",
     "text": [
      "\n",
      "Train--Epoch [7/500]: 100%|██████████| 1500/1500 [00:28<00:00, 52.44it/s, acc=54.5, loss=0.685]\n",
      "Valid--Epoch [7/500]: 100%|██████████| 712/712 [00:04<00:00, 145.44it/s, acc=52.8, loss=0.765]"
     ]
    },
    {
     "name": "stdout",
     "output_type": "stream",
     "text": [
      "\n",
      " epoch: 8/500\n"
     ]
    },
    {
     "name": "stderr",
     "output_type": "stream",
     "text": [
      "\n",
      "Train--Epoch [8/500]: 100%|██████████| 1500/1500 [00:28<00:00, 52.23it/s, acc=54.7, loss=0.684]\n",
      "Valid--Epoch [8/500]: 100%|██████████| 712/712 [00:05<00:00, 141.65it/s, acc=53, loss=0.835]  "
     ]
    },
    {
     "name": "stdout",
     "output_type": "stream",
     "text": [
      "\n",
      " epoch: 9/500\n"
     ]
    },
    {
     "name": "stderr",
     "output_type": "stream",
     "text": [
      "\n",
      "Train--Epoch [9/500]: 100%|██████████| 1500/1500 [00:28<00:00, 52.06it/s, acc=54.8, loss=0.682]\n",
      "Valid--Epoch [9/500]: 100%|██████████| 712/712 [00:04<00:00, 142.41it/s, acc=54.8, loss=0.742]\n"
     ]
    },
    {
     "name": "stdout",
     "output_type": "stream",
     "text": [
      "\n",
      " epoch: 10/500\n"
     ]
    },
    {
     "name": "stderr",
     "output_type": "stream",
     "text": [
      "Train--Epoch [10/500]: 100%|██████████| 1500/1500 [00:29<00:00, 51.65it/s, acc=55.7, loss=0.679]\n",
      "Valid--Epoch [10/500]: 100%|██████████| 712/712 [00:04<00:00, 143.00it/s, acc=56.6, loss=0.696]\n"
     ]
    },
    {
     "name": "stdout",
     "output_type": "stream",
     "text": [
      "Saving..\n",
      "\n",
      " epoch: 11/500\n"
     ]
    },
    {
     "name": "stderr",
     "output_type": "stream",
     "text": [
      "Train--Epoch [11/500]: 100%|██████████| 1500/1500 [00:30<00:00, 48.45it/s, acc=56.5, loss=0.677]\n",
      "Valid--Epoch [11/500]: 100%|██████████| 712/712 [00:05<00:00, 134.73it/s, acc=55.9, loss=0.692]\n"
     ]
    },
    {
     "name": "stdout",
     "output_type": "stream",
     "text": [
      "\n",
      " epoch: 12/500\n"
     ]
    },
    {
     "name": "stderr",
     "output_type": "stream",
     "text": [
      "Train--Epoch [12/500]: 100%|██████████| 1500/1500 [00:31<00:00, 47.89it/s, acc=56.4, loss=0.677]\n",
      "Valid--Epoch [12/500]: 100%|██████████| 712/712 [00:05<00:00, 135.05it/s, acc=54.9, loss=0.701]\n"
     ]
    },
    {
     "name": "stdout",
     "output_type": "stream",
     "text": [
      "\n",
      " epoch: 13/500\n"
     ]
    },
    {
     "name": "stderr",
     "output_type": "stream",
     "text": [
      "Train--Epoch [13/500]: 100%|██████████| 1500/1500 [00:31<00:00, 47.11it/s, acc=56.7, loss=0.675]\n",
      "Valid--Epoch [13/500]: 100%|██████████| 712/712 [00:05<00:00, 131.66it/s, acc=55.8, loss=0.715]"
     ]
    },
    {
     "name": "stdout",
     "output_type": "stream",
     "text": [
      "\n",
      " epoch: 14/500\n"
     ]
    },
    {
     "name": "stderr",
     "output_type": "stream",
     "text": [
      "\n",
      "Train--Epoch [14/500]: 100%|██████████| 1500/1500 [00:32<00:00, 46.08it/s, acc=56.2, loss=0.678]\n",
      "Valid--Epoch [14/500]: 100%|██████████| 712/712 [00:05<00:00, 129.11it/s, acc=56.5, loss=0.719]\n"
     ]
    },
    {
     "name": "stdout",
     "output_type": "stream",
     "text": [
      "\n",
      " epoch: 15/500\n"
     ]
    },
    {
     "name": "stderr",
     "output_type": "stream",
     "text": [
      "Train--Epoch [15/500]: 100%|██████████| 1500/1500 [00:32<00:00, 46.58it/s, acc=56.9, loss=0.674]\n",
      "Valid--Epoch [15/500]: 100%|██████████| 712/712 [00:05<00:00, 130.00it/s, acc=57.1, loss=0.723]\n"
     ]
    },
    {
     "name": "stdout",
     "output_type": "stream",
     "text": [
      "Saving..\n",
      "\n",
      " epoch: 16/500\n"
     ]
    },
    {
     "name": "stderr",
     "output_type": "stream",
     "text": [
      "Train--Epoch [16/500]: 100%|██████████| 1500/1500 [00:32<00:00, 46.87it/s, acc=56.7, loss=0.673]\n",
      "Valid--Epoch [16/500]: 100%|██████████| 712/712 [00:05<00:00, 130.79it/s, acc=57, loss=0.702]  "
     ]
    },
    {
     "name": "stdout",
     "output_type": "stream",
     "text": [
      "\n",
      " epoch: 17/500\n"
     ]
    },
    {
     "name": "stderr",
     "output_type": "stream",
     "text": [
      "\n",
      "Train--Epoch [17/500]: 100%|██████████| 1500/1500 [00:33<00:00, 44.74it/s, acc=56.4, loss=0.674]\n",
      "Valid--Epoch [17/500]: 100%|██████████| 712/712 [00:05<00:00, 125.39it/s, acc=55.7, loss=0.727]"
     ]
    },
    {
     "name": "stdout",
     "output_type": "stream",
     "text": [
      "\n",
      " epoch: 18/500\n"
     ]
    },
    {
     "name": "stderr",
     "output_type": "stream",
     "text": [
      "\n",
      "Train--Epoch [18/500]: 100%|██████████| 1500/1500 [00:32<00:00, 45.93it/s, acc=56.4, loss=0.676]\n",
      "Valid--Epoch [18/500]: 100%|██████████| 712/712 [00:05<00:00, 126.99it/s, acc=57.3, loss=0.736]\n"
     ]
    },
    {
     "name": "stdout",
     "output_type": "stream",
     "text": [
      "Saving..\n",
      "\n",
      " epoch: 19/500\n"
     ]
    },
    {
     "name": "stderr",
     "output_type": "stream",
     "text": [
      "Train--Epoch [19/500]: 100%|██████████| 1500/1500 [00:32<00:00, 46.21it/s, acc=56.8, loss=0.673]\n",
      "Valid--Epoch [19/500]: 100%|██████████| 712/712 [00:05<00:00, 129.56it/s, acc=57.4, loss=0.693]\n"
     ]
    },
    {
     "name": "stdout",
     "output_type": "stream",
     "text": [
      "Saving..\n",
      "\n",
      " epoch: 20/500\n"
     ]
    },
    {
     "name": "stderr",
     "output_type": "stream",
     "text": [
      "Train--Epoch [20/500]: 100%|██████████| 1500/1500 [00:32<00:00, 46.18it/s, acc=56.5, loss=0.674]\n",
      "Valid--Epoch [20/500]: 100%|██████████| 712/712 [00:05<00:00, 128.38it/s, acc=56.4, loss=0.716]\n"
     ]
    },
    {
     "name": "stdout",
     "output_type": "stream",
     "text": [
      "\n",
      " epoch: 21/500\n"
     ]
    },
    {
     "name": "stderr",
     "output_type": "stream",
     "text": [
      "Train--Epoch [21/500]: 100%|██████████| 1500/1500 [00:32<00:00, 46.05it/s, acc=57, loss=0.672]  \n",
      "Valid--Epoch [21/500]: 100%|██████████| 712/712 [00:05<00:00, 125.43it/s, acc=56.4, loss=0.716]\n"
     ]
    },
    {
     "name": "stdout",
     "output_type": "stream",
     "text": [
      "\n",
      " epoch: 22/500\n"
     ]
    },
    {
     "name": "stderr",
     "output_type": "stream",
     "text": [
      "Train--Epoch [22/500]: 100%|██████████| 1500/1500 [00:34<00:00, 44.05it/s, acc=56.6, loss=0.675]\n",
      "Valid--Epoch [22/500]: 100%|██████████| 712/712 [00:05<00:00, 125.27it/s, acc=56.2, loss=0.726]"
     ]
    },
    {
     "name": "stdout",
     "output_type": "stream",
     "text": [
      "\n",
      " epoch: 23/500\n"
     ]
    },
    {
     "name": "stderr",
     "output_type": "stream",
     "text": [
      "\n",
      "Train--Epoch [23/500]: 100%|██████████| 1500/1500 [00:32<00:00, 45.50it/s, acc=56.9, loss=0.672]\n",
      "Valid--Epoch [23/500]: 100%|██████████| 712/712 [00:05<00:00, 127.33it/s, acc=55.2, loss=0.702]"
     ]
    },
    {
     "name": "stdout",
     "output_type": "stream",
     "text": [
      "\n",
      " epoch: 24/500\n"
     ]
    },
    {
     "name": "stderr",
     "output_type": "stream",
     "text": [
      "\n",
      "Train--Epoch [24/500]: 100%|██████████| 1500/1500 [00:32<00:00, 45.58it/s, acc=56.7, loss=0.673]\n",
      "Valid--Epoch [24/500]: 100%|██████████| 712/712 [00:05<00:00, 122.98it/s, acc=55.7, loss=0.721]\n"
     ]
    },
    {
     "name": "stdout",
     "output_type": "stream",
     "text": [
      "\n",
      " epoch: 25/500\n"
     ]
    },
    {
     "name": "stderr",
     "output_type": "stream",
     "text": [
      "Train--Epoch [25/500]: 100%|██████████| 1500/1500 [00:32<00:00, 46.01it/s, acc=56.5, loss=0.672]\n",
      "Valid--Epoch [25/500]: 100%|██████████| 712/712 [00:05<00:00, 125.30it/s, acc=56.4, loss=0.745]\n"
     ]
    },
    {
     "name": "stdout",
     "output_type": "stream",
     "text": [
      "\n",
      " epoch: 26/500\n"
     ]
    },
    {
     "name": "stderr",
     "output_type": "stream",
     "text": [
      "Train--Epoch [26/500]: 100%|██████████| 1500/1500 [00:32<00:00, 46.02it/s, acc=56.5, loss=0.675]\n",
      "Valid--Epoch [26/500]: 100%|██████████| 712/712 [00:05<00:00, 127.77it/s, acc=54.9, loss=0.742]"
     ]
    },
    {
     "name": "stdout",
     "output_type": "stream",
     "text": [
      "\n",
      " epoch: 27/500\n"
     ]
    },
    {
     "name": "stderr",
     "output_type": "stream",
     "text": [
      "\n",
      "Train--Epoch [27/500]: 100%|██████████| 1500/1500 [00:32<00:00, 46.00it/s, acc=56.6, loss=0.671]\n",
      "Valid--Epoch [27/500]: 100%|██████████| 712/712 [00:05<00:00, 126.29it/s, acc=56.5, loss=0.773]\n"
     ]
    },
    {
     "name": "stdout",
     "output_type": "stream",
     "text": [
      "\n",
      " epoch: 28/500\n"
     ]
    },
    {
     "name": "stderr",
     "output_type": "stream",
     "text": [
      "Train--Epoch [28/500]: 100%|██████████| 1500/1500 [00:34<00:00, 43.85it/s, acc=56.2, loss=0.674]\n",
      "Valid--Epoch [28/500]: 100%|██████████| 712/712 [00:05<00:00, 126.74it/s, acc=55.6, loss=0.758]\n"
     ]
    },
    {
     "name": "stdout",
     "output_type": "stream",
     "text": [
      "\n",
      " epoch: 29/500\n"
     ]
    },
    {
     "name": "stderr",
     "output_type": "stream",
     "text": [
      "Train--Epoch [29/500]: 100%|██████████| 1500/1500 [00:32<00:00, 45.50it/s, acc=56.4, loss=0.674]\n",
      "Valid--Epoch [29/500]: 100%|██████████| 712/712 [00:05<00:00, 128.04it/s, acc=54.5, loss=0.766]\n"
     ]
    },
    {
     "name": "stdout",
     "output_type": "stream",
     "text": [
      "\n",
      " epoch: 30/500\n"
     ]
    },
    {
     "name": "stderr",
     "output_type": "stream",
     "text": [
      "Train--Epoch [30/500]: 100%|██████████| 1500/1500 [00:32<00:00, 45.75it/s, acc=56.8, loss=0.671]\n",
      "Valid--Epoch [30/500]: 100%|██████████| 712/712 [00:05<00:00, 126.97it/s, acc=55.9, loss=0.734]"
     ]
    },
    {
     "name": "stdout",
     "output_type": "stream",
     "text": [
      "\n",
      " epoch: 31/500\n"
     ]
    },
    {
     "name": "stderr",
     "output_type": "stream",
     "text": [
      "\n",
      "Train--Epoch [31/500]: 100%|██████████| 1500/1500 [00:32<00:00, 45.86it/s, acc=57.1, loss=0.671]\n",
      "Valid--Epoch [31/500]: 100%|██████████| 712/712 [00:05<00:00, 125.64it/s, acc=56.7, loss=0.705]"
     ]
    },
    {
     "name": "stdout",
     "output_type": "stream",
     "text": [
      "\n",
      " epoch: 32/500\n"
     ]
    },
    {
     "name": "stderr",
     "output_type": "stream",
     "text": [
      "\n",
      "Train--Epoch [32/500]: 100%|██████████| 1500/1500 [00:32<00:00, 45.66it/s, acc=56, loss=0.677]  \n",
      "Valid--Epoch [32/500]: 100%|██████████| 712/712 [00:05<00:00, 126.56it/s, acc=57.6, loss=0.756]\n"
     ]
    },
    {
     "name": "stdout",
     "output_type": "stream",
     "text": [
      "Saving..\n",
      "\n",
      " epoch: 33/500\n"
     ]
    },
    {
     "name": "stderr",
     "output_type": "stream",
     "text": [
      "Train--Epoch [33/500]: 100%|██████████| 1500/1500 [00:32<00:00, 45.76it/s, acc=56.5, loss=0.675]\n",
      "Valid--Epoch [33/500]: 100%|██████████| 712/712 [00:05<00:00, 128.13it/s, acc=56.6, loss=0.713]"
     ]
    },
    {
     "name": "stdout",
     "output_type": "stream",
     "text": [
      "\n",
      " epoch: 34/500\n"
     ]
    },
    {
     "name": "stderr",
     "output_type": "stream",
     "text": [
      "\n",
      "Train--Epoch [34/500]: 100%|██████████| 1500/1500 [00:32<00:00, 45.58it/s, acc=55.9, loss=0.676]\n",
      "Valid--Epoch [34/500]: 100%|██████████| 712/712 [00:05<00:00, 128.95it/s, acc=56.3, loss=0.752]"
     ]
    },
    {
     "name": "stdout",
     "output_type": "stream",
     "text": [
      "\n",
      " epoch: 35/500\n"
     ]
    },
    {
     "name": "stderr",
     "output_type": "stream",
     "text": [
      "\n",
      "Train--Epoch [35/500]: 100%|██████████| 1500/1500 [00:32<00:00, 45.67it/s, acc=56.4, loss=0.674]\n",
      "Valid--Epoch [35/500]: 100%|██████████| 712/712 [00:05<00:00, 126.47it/s, acc=56.7, loss=0.727]\n"
     ]
    },
    {
     "name": "stdout",
     "output_type": "stream",
     "text": [
      "\n",
      " epoch: 36/500\n"
     ]
    },
    {
     "name": "stderr",
     "output_type": "stream",
     "text": [
      "Train--Epoch [36/500]: 100%|██████████| 1500/1500 [00:32<00:00, 45.87it/s, acc=56.5, loss=0.674]\n",
      "Valid--Epoch [36/500]: 100%|██████████| 712/712 [00:05<00:00, 125.24it/s, acc=56.5, loss=0.726]"
     ]
    },
    {
     "name": "stdout",
     "output_type": "stream",
     "text": [
      "\n",
      " epoch: 37/500\n"
     ]
    },
    {
     "name": "stderr",
     "output_type": "stream",
     "text": [
      "\n",
      "Train--Epoch [37/500]: 100%|██████████| 1500/1500 [00:32<00:00, 45.69it/s, acc=57, loss=0.671]  \n",
      "Valid--Epoch [37/500]: 100%|██████████| 712/712 [00:05<00:00, 126.43it/s, acc=57.1, loss=0.698]\n"
     ]
    },
    {
     "name": "stdout",
     "output_type": "stream",
     "text": [
      "\n",
      " epoch: 38/500\n"
     ]
    },
    {
     "name": "stderr",
     "output_type": "stream",
     "text": [
      "Train--Epoch [38/500]: 100%|██████████| 1500/1500 [00:32<00:00, 45.67it/s, acc=56.8, loss=0.673]\n",
      "Valid--Epoch [38/500]: 100%|██████████| 712/712 [00:05<00:00, 126.37it/s, acc=57.4, loss=0.698]\n"
     ]
    },
    {
     "name": "stdout",
     "output_type": "stream",
     "text": [
      "\n",
      " epoch: 39/500\n"
     ]
    },
    {
     "name": "stderr",
     "output_type": "stream",
     "text": [
      "Train--Epoch [39/500]: 100%|██████████| 1500/1500 [00:32<00:00, 45.83it/s, acc=57.1, loss=0.67] \n",
      "Valid--Epoch [39/500]: 100%|██████████| 712/712 [00:05<00:00, 127.64it/s, acc=56.5, loss=0.727]\n"
     ]
    },
    {
     "name": "stdout",
     "output_type": "stream",
     "text": [
      "\n",
      " epoch: 40/500\n"
     ]
    },
    {
     "name": "stderr",
     "output_type": "stream",
     "text": [
      "Train--Epoch [40/500]: 100%|██████████| 1500/1500 [00:33<00:00, 44.90it/s, acc=57.1, loss=0.669]\n",
      "Valid--Epoch [40/500]: 100%|██████████| 712/712 [00:05<00:00, 128.12it/s, acc=57.4, loss=0.722]\n"
     ]
    },
    {
     "name": "stdout",
     "output_type": "stream",
     "text": [
      "\n",
      " epoch: 41/500\n"
     ]
    },
    {
     "name": "stderr",
     "output_type": "stream",
     "text": [
      "Train--Epoch [41/500]: 100%|██████████| 1500/1500 [00:32<00:00, 45.70it/s, acc=57, loss=0.671]  \n",
      "Valid--Epoch [41/500]: 100%|██████████| 712/712 [00:05<00:00, 126.12it/s, acc=56.8, loss=0.699]"
     ]
    },
    {
     "name": "stdout",
     "output_type": "stream",
     "text": [
      "\n",
      " epoch: 42/500\n"
     ]
    },
    {
     "name": "stderr",
     "output_type": "stream",
     "text": [
      "\n",
      "Train--Epoch [42/500]: 100%|██████████| 1500/1500 [00:32<00:00, 45.57it/s, acc=57.5, loss=0.668]\n",
      "Valid--Epoch [42/500]: 100%|██████████| 712/712 [00:05<00:00, 126.28it/s, acc=57.9, loss=0.724]\n"
     ]
    },
    {
     "name": "stdout",
     "output_type": "stream",
     "text": [
      "Saving..\n",
      "\n",
      " epoch: 43/500\n"
     ]
    },
    {
     "name": "stderr",
     "output_type": "stream",
     "text": [
      "Train--Epoch [43/500]: 100%|██████████| 1500/1500 [00:32<00:00, 45.78it/s, acc=57.4, loss=0.669]\n",
      "Valid--Epoch [43/500]: 100%|██████████| 712/712 [00:05<00:00, 126.78it/s, acc=57.2, loss=0.752]"
     ]
    },
    {
     "name": "stdout",
     "output_type": "stream",
     "text": [
      "\n",
      " epoch: 44/500\n"
     ]
    },
    {
     "name": "stderr",
     "output_type": "stream",
     "text": [
      "\n",
      "Train--Epoch [44/500]: 100%|██████████| 1500/1500 [00:33<00:00, 45.44it/s, acc=57.6, loss=0.667]\n",
      "Valid--Epoch [44/500]: 100%|██████████| 712/712 [00:05<00:00, 127.02it/s, acc=58.3, loss=0.73] \n"
     ]
    },
    {
     "name": "stdout",
     "output_type": "stream",
     "text": [
      "Saving..\n",
      "\n",
      " epoch: 45/500\n"
     ]
    },
    {
     "name": "stderr",
     "output_type": "stream",
     "text": [
      "Train--Epoch [45/500]: 100%|██████████| 1500/1500 [00:32<00:00, 45.68it/s, acc=56.9, loss=0.671]\n",
      "Valid--Epoch [45/500]: 100%|██████████| 712/712 [00:05<00:00, 123.66it/s, acc=55, loss=0.699]  "
     ]
    },
    {
     "name": "stdout",
     "output_type": "stream",
     "text": [
      "\n",
      " epoch: 46/500\n"
     ]
    },
    {
     "name": "stderr",
     "output_type": "stream",
     "text": [
      "\n",
      "Train--Epoch [46/500]: 100%|██████████| 1500/1500 [00:32<00:00, 45.73it/s, acc=55.6, loss=0.678]\n",
      "Valid--Epoch [46/500]: 100%|██████████| 712/712 [00:05<00:00, 128.56it/s, acc=57.4, loss=0.676]"
     ]
    },
    {
     "name": "stdout",
     "output_type": "stream",
     "text": [
      "\n",
      " epoch: 47/500\n"
     ]
    },
    {
     "name": "stderr",
     "output_type": "stream",
     "text": [
      "\n",
      "Train--Epoch [47/500]: 100%|██████████| 1500/1500 [00:32<00:00, 45.63it/s, acc=56.9, loss=0.671]\n",
      "Valid--Epoch [47/500]: 100%|██████████| 712/712 [00:05<00:00, 126.86it/s, acc=57.8, loss=0.714]"
     ]
    },
    {
     "name": "stdout",
     "output_type": "stream",
     "text": [
      "\n",
      " epoch: 48/500\n"
     ]
    },
    {
     "name": "stderr",
     "output_type": "stream",
     "text": [
      "\n",
      "Train--Epoch [48/500]: 100%|██████████| 1500/1500 [00:32<00:00, 45.66it/s, acc=57.3, loss=0.67] \n",
      "Valid--Epoch [48/500]: 100%|██████████| 712/712 [00:05<00:00, 127.43it/s, acc=57.1, loss=0.72] "
     ]
    },
    {
     "name": "stdout",
     "output_type": "stream",
     "text": [
      "\n",
      " epoch: 49/500\n"
     ]
    },
    {
     "name": "stderr",
     "output_type": "stream",
     "text": [
      "\n",
      "Train--Epoch [49/500]: 100%|██████████| 1500/1500 [00:32<00:00, 45.60it/s, acc=57.2, loss=0.671]\n",
      "Valid--Epoch [49/500]: 100%|██████████| 712/712 [00:05<00:00, 124.09it/s, acc=57.4, loss=0.729]"
     ]
    },
    {
     "name": "stdout",
     "output_type": "stream",
     "text": [
      "\n",
      " epoch: 50/500\n"
     ]
    },
    {
     "name": "stderr",
     "output_type": "stream",
     "text": [
      "\n",
      "Train--Epoch [50/500]: 100%|██████████| 1500/1500 [00:32<00:00, 45.68it/s, acc=57.3, loss=0.669]\n",
      "Valid--Epoch [50/500]: 100%|██████████| 712/712 [00:05<00:00, 127.26it/s, acc=56.9, loss=0.758]"
     ]
    },
    {
     "name": "stdout",
     "output_type": "stream",
     "text": [
      "\n",
      " epoch: 51/500\n"
     ]
    },
    {
     "name": "stderr",
     "output_type": "stream",
     "text": [
      "\n",
      "Train--Epoch [51/500]: 100%|██████████| 1500/1500 [00:32<00:00, 45.57it/s, acc=57.6, loss=0.668]\n",
      "Valid--Epoch [51/500]: 100%|██████████| 712/712 [00:05<00:00, 126.40it/s, acc=57.3, loss=0.748]"
     ]
    },
    {
     "name": "stdout",
     "output_type": "stream",
     "text": [
      "\n",
      " epoch: 52/500\n"
     ]
    },
    {
     "name": "stderr",
     "output_type": "stream",
     "text": [
      "\n",
      "Train--Epoch [52/500]: 100%|██████████| 1500/1500 [00:33<00:00, 45.45it/s, acc=57.4, loss=0.668]\n",
      "Valid--Epoch [52/500]: 100%|██████████| 712/712 [00:05<00:00, 127.24it/s, acc=57.5, loss=0.777]"
     ]
    },
    {
     "name": "stdout",
     "output_type": "stream",
     "text": [
      "\n",
      " epoch: 53/500\n"
     ]
    },
    {
     "name": "stderr",
     "output_type": "stream",
     "text": [
      "\n",
      "Train--Epoch [53/500]: 100%|██████████| 1500/1500 [00:32<00:00, 45.70it/s, acc=57.2, loss=0.67] \n",
      "Valid--Epoch [53/500]: 100%|██████████| 712/712 [00:05<00:00, 125.22it/s, acc=52.1, loss=0.77] \n"
     ]
    },
    {
     "name": "stdout",
     "output_type": "stream",
     "text": [
      "\n",
      " epoch: 54/500\n"
     ]
    },
    {
     "name": "stderr",
     "output_type": "stream",
     "text": [
      "Train--Epoch [54/500]: 100%|██████████| 1500/1500 [00:32<00:00, 45.54it/s, acc=57.2, loss=0.67] \n",
      "Valid--Epoch [54/500]: 100%|██████████| 712/712 [00:05<00:00, 126.13it/s, acc=57, loss=0.775]  "
     ]
    },
    {
     "name": "stdout",
     "output_type": "stream",
     "text": [
      "\n",
      " epoch: 55/500\n"
     ]
    },
    {
     "name": "stderr",
     "output_type": "stream",
     "text": [
      "\n",
      "Train--Epoch [55/500]: 100%|██████████| 1500/1500 [00:32<00:00, 45.67it/s, acc=57.1, loss=0.671]\n",
      "Valid--Epoch [55/500]: 100%|██████████| 712/712 [00:05<00:00, 126.73it/s, acc=57.1, loss=0.747]\n"
     ]
    },
    {
     "name": "stdout",
     "output_type": "stream",
     "text": [
      "\n",
      " epoch: 56/500\n"
     ]
    },
    {
     "name": "stderr",
     "output_type": "stream",
     "text": [
      "Train--Epoch [56/500]: 100%|██████████| 1500/1500 [00:32<00:00, 45.70it/s, acc=57.3, loss=0.668]\n",
      "Valid--Epoch [56/500]: 100%|██████████| 712/712 [00:05<00:00, 126.72it/s, acc=56.8, loss=0.723]\n"
     ]
    },
    {
     "name": "stdout",
     "output_type": "stream",
     "text": [
      "\n",
      " epoch: 57/500\n"
     ]
    },
    {
     "name": "stderr",
     "output_type": "stream",
     "text": [
      "Train--Epoch [57/500]: 100%|██████████| 1500/1500 [00:32<00:00, 45.77it/s, acc=57.2, loss=0.669]\n",
      "Valid--Epoch [57/500]: 100%|██████████| 712/712 [00:05<00:00, 128.21it/s, acc=58.1, loss=0.761]"
     ]
    },
    {
     "name": "stdout",
     "output_type": "stream",
     "text": [
      "\n",
      " epoch: 58/500\n"
     ]
    },
    {
     "name": "stderr",
     "output_type": "stream",
     "text": [
      "\n",
      "Train--Epoch [58/500]: 100%|██████████| 1500/1500 [00:32<00:00, 46.06it/s, acc=57.2, loss=0.67] \n",
      "Valid--Epoch [58/500]: 100%|██████████| 712/712 [00:05<00:00, 128.04it/s, acc=58.3, loss=0.745]\n"
     ]
    },
    {
     "name": "stdout",
     "output_type": "stream",
     "text": [
      "Saving..\n",
      "\n",
      " epoch: 59/500\n"
     ]
    },
    {
     "name": "stderr",
     "output_type": "stream",
     "text": [
      "Train--Epoch [59/500]: 100%|██████████| 1500/1500 [00:32<00:00, 45.69it/s, acc=57.6, loss=0.669]\n",
      "Valid--Epoch [59/500]: 100%|██████████| 712/712 [00:05<00:00, 127.39it/s, acc=57.9, loss=0.732]"
     ]
    },
    {
     "name": "stdout",
     "output_type": "stream",
     "text": [
      "\n",
      " epoch: 60/500\n"
     ]
    },
    {
     "name": "stderr",
     "output_type": "stream",
     "text": [
      "\n",
      "Train--Epoch [60/500]: 100%|██████████| 1500/1500 [00:32<00:00, 45.71it/s, acc=57, loss=0.671]  \n",
      "Valid--Epoch [60/500]: 100%|██████████| 712/712 [00:05<00:00, 127.18it/s, acc=57.9, loss=0.718]"
     ]
    },
    {
     "name": "stdout",
     "output_type": "stream",
     "text": [
      "\n",
      " epoch: 61/500\n"
     ]
    },
    {
     "name": "stderr",
     "output_type": "stream",
     "text": [
      "\n",
      "Train--Epoch [61/500]: 100%|██████████| 1500/1500 [00:33<00:00, 45.25it/s, acc=57.4, loss=0.669]\n",
      "Valid--Epoch [61/500]: 100%|██████████| 712/712 [00:05<00:00, 127.61it/s, acc=57.7, loss=0.744]"
     ]
    },
    {
     "name": "stdout",
     "output_type": "stream",
     "text": [
      "\n",
      " epoch: 62/500\n"
     ]
    },
    {
     "name": "stderr",
     "output_type": "stream",
     "text": [
      "\n",
      "Train--Epoch [62/500]: 100%|██████████| 1500/1500 [00:33<00:00, 45.33it/s, acc=57.4, loss=0.668]\n",
      "Valid--Epoch [62/500]: 100%|██████████| 712/712 [00:05<00:00, 127.27it/s, acc=57.9, loss=0.744]\n"
     ]
    },
    {
     "name": "stdout",
     "output_type": "stream",
     "text": [
      "\n",
      " epoch: 63/500\n"
     ]
    },
    {
     "name": "stderr",
     "output_type": "stream",
     "text": [
      "Train--Epoch [63/500]: 100%|██████████| 1500/1500 [00:33<00:00, 44.92it/s, acc=57.7, loss=0.668]\n",
      "Valid--Epoch [63/500]: 100%|██████████| 712/712 [00:05<00:00, 127.59it/s, acc=57.1, loss=0.723]\n"
     ]
    },
    {
     "name": "stdout",
     "output_type": "stream",
     "text": [
      "\n",
      " epoch: 64/500\n"
     ]
    },
    {
     "name": "stderr",
     "output_type": "stream",
     "text": [
      "Train--Epoch [64/500]: 100%|██████████| 1500/1500 [00:33<00:00, 45.38it/s, acc=57.4, loss=0.668]\n",
      "Valid--Epoch [64/500]: 100%|██████████| 712/712 [00:05<00:00, 126.82it/s, acc=57.2, loss=0.748]"
     ]
    },
    {
     "name": "stdout",
     "output_type": "stream",
     "text": [
      "\n",
      " epoch: 65/500\n"
     ]
    },
    {
     "name": "stderr",
     "output_type": "stream",
     "text": [
      "\n",
      "Train--Epoch [65/500]: 100%|██████████| 1500/1500 [00:33<00:00, 45.36it/s, acc=57.3, loss=0.669]\n",
      "Valid--Epoch [65/500]: 100%|██████████| 712/712 [00:05<00:00, 127.25it/s, acc=57.7, loss=0.741]"
     ]
    },
    {
     "name": "stdout",
     "output_type": "stream",
     "text": [
      "\n",
      " epoch: 66/500\n"
     ]
    },
    {
     "name": "stderr",
     "output_type": "stream",
     "text": [
      "\n",
      "Train--Epoch [66/500]: 100%|██████████| 1500/1500 [00:33<00:00, 45.30it/s, acc=57.5, loss=0.668]\n",
      "Valid--Epoch [66/500]: 100%|██████████| 712/712 [00:05<00:00, 125.07it/s, acc=58.2, loss=0.721]"
     ]
    },
    {
     "name": "stdout",
     "output_type": "stream",
     "text": [
      "\n",
      " epoch: 67/500\n"
     ]
    },
    {
     "name": "stderr",
     "output_type": "stream",
     "text": [
      "\n",
      "Train--Epoch [67/500]: 100%|██████████| 1500/1500 [00:33<00:00, 45.35it/s, acc=57.4, loss=0.669]\n",
      "Valid--Epoch [67/500]: 100%|██████████| 712/712 [00:05<00:00, 126.14it/s, acc=57.5, loss=0.754]"
     ]
    },
    {
     "name": "stdout",
     "output_type": "stream",
     "text": [
      "\n",
      " epoch: 68/500\n"
     ]
    },
    {
     "name": "stderr",
     "output_type": "stream",
     "text": [
      "\n",
      "Train--Epoch [68/500]: 100%|██████████| 1500/1500 [00:33<00:00, 45.32it/s, acc=56.9, loss=0.67] \n",
      "Valid--Epoch [68/500]: 100%|██████████| 712/712 [00:05<00:00, 126.82it/s, acc=57, loss=0.76]   "
     ]
    },
    {
     "name": "stdout",
     "output_type": "stream",
     "text": [
      "\n",
      " epoch: 69/500\n"
     ]
    },
    {
     "name": "stderr",
     "output_type": "stream",
     "text": [
      "\n",
      "Train--Epoch [69/500]: 100%|██████████| 1500/1500 [00:33<00:00, 45.30it/s, acc=57.3, loss=0.669]\n",
      "Valid--Epoch [69/500]: 100%|██████████| 712/712 [00:05<00:00, 125.70it/s, acc=56.8, loss=0.718]"
     ]
    },
    {
     "name": "stdout",
     "output_type": "stream",
     "text": [
      "\n",
      " epoch: 70/500\n"
     ]
    },
    {
     "name": "stderr",
     "output_type": "stream",
     "text": [
      "\n",
      "Train--Epoch [70/500]: 100%|██████████| 1500/1500 [00:34<00:00, 43.33it/s, acc=57.6, loss=0.666]\n",
      "Valid--Epoch [70/500]: 100%|██████████| 712/712 [00:05<00:00, 126.27it/s, acc=58.5, loss=0.721]\n"
     ]
    },
    {
     "name": "stdout",
     "output_type": "stream",
     "text": [
      "Saving..\n",
      "\n",
      " epoch: 71/500\n"
     ]
    },
    {
     "name": "stderr",
     "output_type": "stream",
     "text": [
      "Train--Epoch [71/500]: 100%|██████████| 1500/1500 [00:33<00:00, 45.05it/s, acc=57.6, loss=0.668]\n",
      "Valid--Epoch [71/500]: 100%|██████████| 712/712 [00:05<00:00, 125.72it/s, acc=57.5, loss=0.751]"
     ]
    },
    {
     "name": "stdout",
     "output_type": "stream",
     "text": [
      "\n",
      " epoch: 72/500\n"
     ]
    },
    {
     "name": "stderr",
     "output_type": "stream",
     "text": [
      "\n",
      "Train--Epoch [72/500]: 100%|██████████| 1500/1500 [00:33<00:00, 45.41it/s, acc=57.7, loss=0.668]\n",
      "Valid--Epoch [72/500]: 100%|██████████| 712/712 [00:05<00:00, 125.63it/s, acc=57.1, loss=0.795]"
     ]
    },
    {
     "name": "stdout",
     "output_type": "stream",
     "text": [
      "\n",
      " epoch: 73/500\n"
     ]
    },
    {
     "name": "stderr",
     "output_type": "stream",
     "text": [
      "\n",
      "Train--Epoch [73/500]: 100%|██████████| 1500/1500 [00:33<00:00, 45.20it/s, acc=57.1, loss=0.67] \n",
      "Valid--Epoch [73/500]: 100%|██████████| 712/712 [00:05<00:00, 125.89it/s, acc=57.8, loss=0.738]"
     ]
    },
    {
     "name": "stdout",
     "output_type": "stream",
     "text": [
      "\n",
      " epoch: 74/500\n"
     ]
    },
    {
     "name": "stderr",
     "output_type": "stream",
     "text": [
      "\n",
      "Train--Epoch [74/500]: 100%|██████████| 1500/1500 [00:33<00:00, 45.02it/s, acc=57.4, loss=0.667]\n",
      "Valid--Epoch [74/500]: 100%|██████████| 712/712 [00:05<00:00, 126.01it/s, acc=56.8, loss=0.792]"
     ]
    },
    {
     "name": "stdout",
     "output_type": "stream",
     "text": [
      "\n",
      " epoch: 75/500\n"
     ]
    },
    {
     "name": "stderr",
     "output_type": "stream",
     "text": [
      "\n",
      "Train--Epoch [75/500]: 100%|██████████| 1500/1500 [00:33<00:00, 45.11it/s, acc=57.5, loss=0.668]\n",
      "Valid--Epoch [75/500]: 100%|██████████| 712/712 [00:05<00:00, 123.43it/s, acc=57.9, loss=0.728]"
     ]
    },
    {
     "name": "stdout",
     "output_type": "stream",
     "text": [
      "\n",
      " epoch: 76/500\n"
     ]
    },
    {
     "name": "stderr",
     "output_type": "stream",
     "text": [
      "\n",
      "Train--Epoch [76/500]: 100%|██████████| 1500/1500 [00:33<00:00, 44.94it/s, acc=57.5, loss=0.669]\n",
      "Valid--Epoch [76/500]: 100%|██████████| 712/712 [00:05<00:00, 125.50it/s, acc=58.7, loss=0.69] \n"
     ]
    },
    {
     "name": "stdout",
     "output_type": "stream",
     "text": [
      "Saving..\n",
      "\n",
      " epoch: 77/500\n"
     ]
    },
    {
     "name": "stderr",
     "output_type": "stream",
     "text": [
      "Train--Epoch [77/500]: 100%|██████████| 1500/1500 [00:33<00:00, 45.36it/s, acc=57.4, loss=0.668]\n",
      "Valid--Epoch [77/500]: 100%|██████████| 712/712 [00:05<00:00, 125.59it/s, acc=58, loss=0.733]  "
     ]
    },
    {
     "name": "stdout",
     "output_type": "stream",
     "text": [
      "\n",
      " epoch: 78/500\n"
     ]
    },
    {
     "name": "stderr",
     "output_type": "stream",
     "text": [
      "\n",
      "Train--Epoch [78/500]: 100%|██████████| 1500/1500 [00:33<00:00, 45.21it/s, acc=57.4, loss=0.668]\n",
      "Valid--Epoch [78/500]: 100%|██████████| 712/712 [00:05<00:00, 127.53it/s, acc=58, loss=0.737]  \n"
     ]
    },
    {
     "name": "stdout",
     "output_type": "stream",
     "text": [
      "\n",
      " epoch: 79/500\n"
     ]
    },
    {
     "name": "stderr",
     "output_type": "stream",
     "text": [
      "Train--Epoch [79/500]: 100%|██████████| 1500/1500 [00:33<00:00, 45.24it/s, acc=57.6, loss=0.666]\n",
      "Valid--Epoch [79/500]: 100%|██████████| 712/712 [00:05<00:00, 125.11it/s, acc=58.7, loss=0.764]\n"
     ]
    },
    {
     "name": "stdout",
     "output_type": "stream",
     "text": [
      "Saving..\n",
      "\n",
      " epoch: 80/500\n"
     ]
    },
    {
     "name": "stderr",
     "output_type": "stream",
     "text": [
      "Train--Epoch [80/500]: 100%|██████████| 1500/1500 [00:33<00:00, 44.96it/s, acc=57.8, loss=0.666]\n",
      "Valid--Epoch [80/500]: 100%|██████████| 712/712 [00:05<00:00, 125.56it/s, acc=58.6, loss=0.759]\n"
     ]
    },
    {
     "name": "stdout",
     "output_type": "stream",
     "text": [
      "\n",
      " epoch: 81/500\n"
     ]
    },
    {
     "name": "stderr",
     "output_type": "stream",
     "text": [
      "Train--Epoch [81/500]: 100%|██████████| 1500/1500 [00:33<00:00, 44.83it/s, acc=57.9, loss=0.667]\n",
      "Valid--Epoch [81/500]: 100%|██████████| 712/712 [00:05<00:00, 124.38it/s, acc=57.8, loss=0.818]\n"
     ]
    },
    {
     "name": "stdout",
     "output_type": "stream",
     "text": [
      "\n",
      " epoch: 82/500\n"
     ]
    },
    {
     "name": "stderr",
     "output_type": "stream",
     "text": [
      "Train--Epoch [82/500]: 100%|██████████| 1500/1500 [00:33<00:00, 44.78it/s, acc=57.8, loss=0.666]\n",
      "Valid--Epoch [82/500]: 100%|██████████| 712/712 [00:05<00:00, 124.34it/s, acc=58.9, loss=0.71] \n"
     ]
    },
    {
     "name": "stdout",
     "output_type": "stream",
     "text": [
      "Saving..\n",
      "\n",
      " epoch: 83/500\n"
     ]
    },
    {
     "name": "stderr",
     "output_type": "stream",
     "text": [
      "Train--Epoch [83/500]: 100%|██████████| 1500/1500 [00:33<00:00, 44.95it/s, acc=56.4, loss=0.674]\n",
      "Valid--Epoch [83/500]: 100%|██████████| 712/712 [00:05<00:00, 124.04it/s, acc=54.2, loss=0.749]"
     ]
    },
    {
     "name": "stdout",
     "output_type": "stream",
     "text": [
      "\n",
      " epoch: 84/500\n"
     ]
    },
    {
     "name": "stderr",
     "output_type": "stream",
     "text": [
      "\n",
      "Train--Epoch [84/500]: 100%|██████████| 1500/1500 [00:33<00:00, 44.60it/s, acc=55.2, loss=0.68] \n",
      "Valid--Epoch [84/500]: 100%|██████████| 712/712 [00:05<00:00, 124.54it/s, acc=55.3, loss=0.756]\n"
     ]
    },
    {
     "name": "stdout",
     "output_type": "stream",
     "text": [
      "\n",
      " epoch: 85/500\n"
     ]
    },
    {
     "name": "stderr",
     "output_type": "stream",
     "text": [
      "Train--Epoch [85/500]: 100%|██████████| 1500/1500 [00:33<00:00, 44.78it/s, acc=56.4, loss=0.673]\n",
      "Valid--Epoch [85/500]: 100%|██████████| 712/712 [00:05<00:00, 124.61it/s, acc=57.2, loss=0.738]"
     ]
    },
    {
     "name": "stdout",
     "output_type": "stream",
     "text": [
      "\n",
      " epoch: 86/500\n"
     ]
    },
    {
     "name": "stderr",
     "output_type": "stream",
     "text": [
      "\n",
      "Train--Epoch [86/500]: 100%|██████████| 1500/1500 [00:34<00:00, 43.34it/s, acc=56.9, loss=0.67]\n",
      "Valid--Epoch [86/500]: 100%|██████████| 712/712 [00:06<00:00, 117.80it/s, acc=58, loss=0.689]  "
     ]
    },
    {
     "name": "stdout",
     "output_type": "stream",
     "text": [
      "\n",
      " epoch: 87/500\n"
     ]
    },
    {
     "name": "stderr",
     "output_type": "stream",
     "text": [
      "\n",
      "Train--Epoch [87/500]: 100%|██████████| 1500/1500 [00:36<00:00, 40.81it/s, acc=57.2, loss=0.669]\n",
      "Valid--Epoch [87/500]: 100%|██████████| 712/712 [00:05<00:00, 118.96it/s, acc=58.1, loss=0.705]"
     ]
    },
    {
     "name": "stdout",
     "output_type": "stream",
     "text": [
      "\n",
      " epoch: 88/500\n"
     ]
    },
    {
     "name": "stderr",
     "output_type": "stream",
     "text": [
      "\n",
      "Train--Epoch [88/500]: 100%|██████████| 1500/1500 [00:35<00:00, 42.84it/s, acc=57, loss=0.67]  \n",
      "Valid--Epoch [88/500]: 100%|██████████| 712/712 [00:06<00:00, 114.00it/s, acc=54.4, loss=0.752]"
     ]
    },
    {
     "name": "stdout",
     "output_type": "stream",
     "text": [
      "\n",
      " epoch: 89/500\n"
     ]
    },
    {
     "name": "stderr",
     "output_type": "stream",
     "text": [
      "\n",
      "Train--Epoch [89/500]: 100%|██████████| 1500/1500 [00:35<00:00, 42.67it/s, acc=57.1, loss=0.67] \n",
      "Valid--Epoch [89/500]: 100%|██████████| 712/712 [00:06<00:00, 118.38it/s, acc=57.5, loss=0.728]"
     ]
    },
    {
     "name": "stdout",
     "output_type": "stream",
     "text": [
      "\n",
      " epoch: 90/500\n"
     ]
    },
    {
     "name": "stderr",
     "output_type": "stream",
     "text": [
      "\n",
      "Train--Epoch [90/500]: 100%|██████████| 1500/1500 [00:34<00:00, 42.94it/s, acc=57.4, loss=0.668]\n",
      "Valid--Epoch [90/500]: 100%|██████████| 712/712 [00:06<00:00, 114.20it/s, acc=58.4, loss=0.726]"
     ]
    },
    {
     "name": "stdout",
     "output_type": "stream",
     "text": [
      "\n",
      " epoch: 91/500\n"
     ]
    },
    {
     "name": "stderr",
     "output_type": "stream",
     "text": [
      "\n",
      "Train--Epoch [91/500]: 100%|██████████| 1500/1500 [00:34<00:00, 43.78it/s, acc=56.9, loss=0.671]\n",
      "Valid--Epoch [91/500]: 100%|██████████| 712/712 [00:05<00:00, 119.68it/s, acc=57.7, loss=0.711]"
     ]
    },
    {
     "name": "stdout",
     "output_type": "stream",
     "text": [
      "\n",
      " epoch: 92/500\n"
     ]
    },
    {
     "name": "stderr",
     "output_type": "stream",
     "text": [
      "\n",
      "Train--Epoch [92/500]: 100%|██████████| 1500/1500 [00:33<00:00, 44.29it/s, acc=56.9, loss=0.67] \n",
      "Valid--Epoch [92/500]: 100%|██████████| 712/712 [00:05<00:00, 123.48it/s, acc=57.6, loss=0.705]\n"
     ]
    },
    {
     "name": "stdout",
     "output_type": "stream",
     "text": [
      "\n",
      " epoch: 93/500\n"
     ]
    },
    {
     "name": "stderr",
     "output_type": "stream",
     "text": [
      "Train--Epoch [93/500]: 100%|██████████| 1500/1500 [00:33<00:00, 44.73it/s, acc=57.1, loss=0.67] \n",
      "Valid--Epoch [93/500]: 100%|██████████| 712/712 [00:05<00:00, 126.02it/s, acc=58.3, loss=0.706]"
     ]
    },
    {
     "name": "stdout",
     "output_type": "stream",
     "text": [
      "\n",
      " epoch: 94/500\n"
     ]
    },
    {
     "name": "stderr",
     "output_type": "stream",
     "text": [
      "\n",
      "Train--Epoch [94/500]: 100%|██████████| 1500/1500 [00:33<00:00, 44.62it/s, acc=57, loss=0.669] \n",
      "Valid--Epoch [94/500]: 100%|██████████| 712/712 [00:05<00:00, 123.54it/s, acc=58, loss=0.748]  "
     ]
    },
    {
     "name": "stdout",
     "output_type": "stream",
     "text": [
      "\n",
      " epoch: 95/500\n"
     ]
    },
    {
     "name": "stderr",
     "output_type": "stream",
     "text": [
      "\n",
      "Train--Epoch [95/500]: 100%|██████████| 1500/1500 [00:33<00:00, 44.95it/s, acc=57.2, loss=0.669]\n",
      "Valid--Epoch [95/500]: 100%|██████████| 712/712 [00:05<00:00, 124.14it/s, acc=56.3, loss=0.75] \n"
     ]
    },
    {
     "name": "stdout",
     "output_type": "stream",
     "text": [
      "\n",
      " epoch: 96/500\n"
     ]
    },
    {
     "name": "stderr",
     "output_type": "stream",
     "text": [
      "Train--Epoch [96/500]: 100%|██████████| 1500/1500 [00:33<00:00, 45.13it/s, acc=57.3, loss=0.668]\n",
      "Valid--Epoch [96/500]: 100%|██████████| 712/712 [00:05<00:00, 125.56it/s, acc=58.7, loss=0.713]"
     ]
    },
    {
     "name": "stdout",
     "output_type": "stream",
     "text": [
      "\n",
      " epoch: 97/500\n"
     ]
    },
    {
     "name": "stderr",
     "output_type": "stream",
     "text": [
      "\n",
      "Train--Epoch [97/500]: 100%|██████████| 1500/1500 [00:33<00:00, 44.86it/s, acc=57.1, loss=0.668]\n",
      "Valid--Epoch [97/500]: 100%|██████████| 712/712 [00:05<00:00, 126.12it/s, acc=58.9, loss=0.737]\n"
     ]
    },
    {
     "name": "stdout",
     "output_type": "stream",
     "text": [
      "Saving..\n",
      "\n",
      " epoch: 98/500\n"
     ]
    },
    {
     "name": "stderr",
     "output_type": "stream",
     "text": [
      "Train--Epoch [98/500]: 100%|██████████| 1500/1500 [00:33<00:00, 44.54it/s, acc=57.2, loss=0.668]\n",
      "Valid--Epoch [98/500]: 100%|██████████| 712/712 [00:05<00:00, 124.69it/s, acc=59.4, loss=0.726]\n"
     ]
    },
    {
     "name": "stdout",
     "output_type": "stream",
     "text": [
      "Saving..\n",
      "\n",
      " epoch: 99/500\n"
     ]
    },
    {
     "name": "stderr",
     "output_type": "stream",
     "text": [
      "Train--Epoch [99/500]: 100%|██████████| 1500/1500 [00:33<00:00, 45.03it/s, acc=57.3, loss=0.668]\n",
      "Valid--Epoch [99/500]: 100%|██████████| 712/712 [00:05<00:00, 126.56it/s, acc=59.2, loss=0.756]"
     ]
    },
    {
     "name": "stdout",
     "output_type": "stream",
     "text": [
      "\n",
      " epoch: 100/500\n"
     ]
    },
    {
     "name": "stderr",
     "output_type": "stream",
     "text": [
      "\n",
      "Train--Epoch [100/500]: 100%|██████████| 1500/1500 [00:34<00:00, 43.65it/s, acc=57.4, loss=0.666]\n",
      "Valid--Epoch [100/500]: 100%|██████████| 712/712 [00:06<00:00, 113.87it/s, acc=58.7, loss=0.785]"
     ]
    },
    {
     "name": "stdout",
     "output_type": "stream",
     "text": [
      "\n",
      " epoch: 101/500\n"
     ]
    },
    {
     "name": "stderr",
     "output_type": "stream",
     "text": [
      "\n",
      "Train--Epoch [101/500]: 100%|██████████| 1500/1500 [00:34<00:00, 43.51it/s, acc=57.5, loss=0.667]\n",
      "Valid--Epoch [101/500]: 100%|██████████| 712/712 [00:05<00:00, 126.04it/s, acc=59.3, loss=0.719]"
     ]
    },
    {
     "name": "stdout",
     "output_type": "stream",
     "text": [
      "\n",
      " epoch: 102/500\n"
     ]
    },
    {
     "name": "stderr",
     "output_type": "stream",
     "text": [
      "\n",
      "Train--Epoch [102/500]: 100%|██████████| 1500/1500 [00:33<00:00, 44.54it/s, acc=57.5, loss=0.669]\n",
      "Valid--Epoch [102/500]: 100%|██████████| 712/712 [00:05<00:00, 124.85it/s, acc=58.8, loss=0.719]"
     ]
    },
    {
     "name": "stdout",
     "output_type": "stream",
     "text": [
      "\n",
      " epoch: 103/500\n"
     ]
    },
    {
     "name": "stderr",
     "output_type": "stream",
     "text": [
      "\n",
      "Train--Epoch [103/500]: 100%|██████████| 1500/1500 [00:33<00:00, 44.83it/s, acc=57.5, loss=0.667]\n",
      "Valid--Epoch [103/500]: 100%|██████████| 712/712 [00:05<00:00, 123.84it/s, acc=58.7, loss=0.72] \n"
     ]
    },
    {
     "name": "stdout",
     "output_type": "stream",
     "text": [
      "\n",
      " epoch: 104/500\n"
     ]
    },
    {
     "name": "stderr",
     "output_type": "stream",
     "text": [
      "Train--Epoch [104/500]: 100%|██████████| 1500/1500 [00:33<00:00, 44.68it/s, acc=57.4, loss=0.668]\n",
      "Valid--Epoch [104/500]: 100%|██████████| 712/712 [00:05<00:00, 123.46it/s, acc=58.4, loss=0.717]\n"
     ]
    },
    {
     "name": "stdout",
     "output_type": "stream",
     "text": [
      "\n",
      " epoch: 105/500\n"
     ]
    },
    {
     "name": "stderr",
     "output_type": "stream",
     "text": [
      "Train--Epoch [105/500]: 100%|██████████| 1500/1500 [00:33<00:00, 44.71it/s, acc=57.4, loss=0.668]\n",
      "Valid--Epoch [105/500]: 100%|██████████| 712/712 [00:05<00:00, 124.46it/s, acc=58.4, loss=0.789]"
     ]
    },
    {
     "name": "stdout",
     "output_type": "stream",
     "text": [
      "\n",
      " epoch: 106/500\n"
     ]
    },
    {
     "name": "stderr",
     "output_type": "stream",
     "text": [
      "\n",
      "Train--Epoch [106/500]: 100%|██████████| 1500/1500 [00:33<00:00, 44.66it/s, acc=57.2, loss=0.669]\n",
      "Valid--Epoch [106/500]: 100%|██████████| 712/712 [00:05<00:00, 124.69it/s, acc=58.7, loss=0.731]"
     ]
    },
    {
     "name": "stdout",
     "output_type": "stream",
     "text": [
      "\n",
      " epoch: 107/500\n"
     ]
    },
    {
     "name": "stderr",
     "output_type": "stream",
     "text": [
      "\n",
      "Train--Epoch [107/500]: 100%|██████████| 1500/1500 [00:33<00:00, 44.67it/s, acc=57.5, loss=0.667]\n",
      "Valid--Epoch [107/500]: 100%|██████████| 712/712 [00:05<00:00, 124.79it/s, acc=58.9, loss=0.766]"
     ]
    },
    {
     "name": "stdout",
     "output_type": "stream",
     "text": [
      "\n",
      " epoch: 108/500\n"
     ]
    },
    {
     "name": "stderr",
     "output_type": "stream",
     "text": [
      "\n",
      "Train--Epoch [108/500]: 100%|██████████| 1500/1500 [00:34<00:00, 43.91it/s, acc=57.5, loss=0.667]\n",
      "Valid--Epoch [108/500]: 100%|██████████| 712/712 [00:05<00:00, 125.36it/s, acc=58.3, loss=0.784]\n"
     ]
    },
    {
     "name": "stdout",
     "output_type": "stream",
     "text": [
      "\n",
      " epoch: 109/500\n"
     ]
    },
    {
     "name": "stderr",
     "output_type": "stream",
     "text": [
      "Train--Epoch [109/500]: 100%|██████████| 1500/1500 [00:33<00:00, 44.48it/s, acc=57.8, loss=0.666]\n",
      "Valid--Epoch [109/500]: 100%|██████████| 712/712 [00:05<00:00, 124.70it/s, acc=58.5, loss=0.702]\n"
     ]
    },
    {
     "name": "stdout",
     "output_type": "stream",
     "text": [
      "\n",
      " epoch: 110/500\n"
     ]
    },
    {
     "name": "stderr",
     "output_type": "stream",
     "text": [
      "Train--Epoch [110/500]: 100%|██████████| 1500/1500 [00:33<00:00, 44.61it/s, acc=57.7, loss=0.667]\n",
      "Valid--Epoch [110/500]: 100%|██████████| 712/712 [00:05<00:00, 124.62it/s, acc=59.2, loss=0.735]"
     ]
    },
    {
     "name": "stdout",
     "output_type": "stream",
     "text": [
      "\n",
      " epoch: 111/500\n"
     ]
    },
    {
     "name": "stderr",
     "output_type": "stream",
     "text": [
      "\n",
      "Train--Epoch [111/500]: 100%|██████████| 1500/1500 [00:33<00:00, 44.70it/s, acc=57.8, loss=0.666]\n",
      "Valid--Epoch [111/500]: 100%|██████████| 712/712 [00:05<00:00, 122.82it/s, acc=59, loss=0.706]  "
     ]
    },
    {
     "name": "stdout",
     "output_type": "stream",
     "text": [
      "\n",
      " epoch: 112/500\n"
     ]
    },
    {
     "name": "stderr",
     "output_type": "stream",
     "text": [
      "\n",
      "Train--Epoch [112/500]: 100%|██████████| 1500/1500 [00:33<00:00, 44.41it/s, acc=58, loss=0.665]  \n",
      "Valid--Epoch [112/500]: 100%|██████████| 712/712 [00:05<00:00, 124.32it/s, acc=59.1, loss=0.694]\n"
     ]
    },
    {
     "name": "stdout",
     "output_type": "stream",
     "text": [
      "\n",
      " epoch: 113/500\n"
     ]
    },
    {
     "name": "stderr",
     "output_type": "stream",
     "text": [
      "Train--Epoch [113/500]: 100%|██████████| 1500/1500 [00:33<00:00, 44.64it/s, acc=58.3, loss=0.665]\n",
      "Valid--Epoch [113/500]: 100%|██████████| 712/712 [00:05<00:00, 123.07it/s, acc=59, loss=0.784]  "
     ]
    },
    {
     "name": "stdout",
     "output_type": "stream",
     "text": [
      "\n",
      " epoch: 114/500\n"
     ]
    },
    {
     "name": "stderr",
     "output_type": "stream",
     "text": [
      "\n",
      "Train--Epoch [114/500]: 100%|██████████| 1500/1500 [00:33<00:00, 44.54it/s, acc=58, loss=0.665]  \n",
      "Valid--Epoch [114/500]: 100%|██████████| 712/712 [00:05<00:00, 125.37it/s, acc=57.8, loss=0.786]"
     ]
    },
    {
     "name": "stdout",
     "output_type": "stream",
     "text": [
      "\n",
      " epoch: 115/500\n"
     ]
    },
    {
     "name": "stderr",
     "output_type": "stream",
     "text": [
      "\n",
      "Train--Epoch [115/500]: 100%|██████████| 1500/1500 [00:33<00:00, 44.83it/s, acc=58.1, loss=0.663]\n",
      "Valid--Epoch [115/500]: 100%|██████████| 712/712 [00:05<00:00, 123.49it/s, acc=58.9, loss=0.747]"
     ]
    },
    {
     "name": "stdout",
     "output_type": "stream",
     "text": [
      "\n",
      " epoch: 116/500\n"
     ]
    },
    {
     "name": "stderr",
     "output_type": "stream",
     "text": [
      "\n",
      "Train--Epoch [116/500]: 100%|██████████| 1500/1500 [00:34<00:00, 43.22it/s, acc=58.2, loss=0.663]\n",
      "Valid--Epoch [116/500]: 100%|██████████| 712/712 [00:05<00:00, 124.69it/s, acc=58.2, loss=0.772]"
     ]
    },
    {
     "name": "stdout",
     "output_type": "stream",
     "text": [
      "\n",
      " epoch: 117/500\n"
     ]
    },
    {
     "name": "stderr",
     "output_type": "stream",
     "text": [
      "\n",
      "Train--Epoch [117/500]: 100%|██████████| 1500/1500 [00:33<00:00, 44.29it/s, acc=58, loss=0.662]  \n",
      "Valid--Epoch [117/500]: 100%|██████████| 712/712 [00:05<00:00, 123.06it/s, acc=58.7, loss=0.731]"
     ]
    },
    {
     "name": "stdout",
     "output_type": "stream",
     "text": [
      "\n",
      " epoch: 118/500\n"
     ]
    },
    {
     "name": "stderr",
     "output_type": "stream",
     "text": [
      "\n",
      "Train--Epoch [118/500]: 100%|██████████| 1500/1500 [00:33<00:00, 44.31it/s, acc=58.3, loss=0.663]\n",
      "Valid--Epoch [118/500]: 100%|██████████| 712/712 [00:05<00:00, 121.49it/s, acc=58.8, loss=0.786]\n"
     ]
    },
    {
     "name": "stdout",
     "output_type": "stream",
     "text": [
      "\n",
      " epoch: 119/500\n"
     ]
    },
    {
     "name": "stderr",
     "output_type": "stream",
     "text": [
      "Train--Epoch [119/500]: 100%|██████████| 1500/1500 [00:33<00:00, 44.35it/s, acc=58.4, loss=0.661]\n",
      "Valid--Epoch [119/500]: 100%|██████████| 712/712 [00:05<00:00, 123.19it/s, acc=59, loss=0.774]  "
     ]
    },
    {
     "name": "stdout",
     "output_type": "stream",
     "text": [
      "\n",
      " epoch: 120/500\n"
     ]
    },
    {
     "name": "stderr",
     "output_type": "stream",
     "text": [
      "\n",
      "Train--Epoch [120/500]: 100%|██████████| 1500/1500 [00:33<00:00, 44.53it/s, acc=58.1, loss=0.664]\n",
      "Valid--Epoch [120/500]: 100%|██████████| 712/712 [00:05<00:00, 123.22it/s, acc=58.9, loss=0.768]\n"
     ]
    },
    {
     "name": "stdout",
     "output_type": "stream",
     "text": [
      "\n",
      " epoch: 121/500\n"
     ]
    },
    {
     "name": "stderr",
     "output_type": "stream",
     "text": [
      "Train--Epoch [121/500]: 100%|██████████| 1500/1500 [00:33<00:00, 44.44it/s, acc=58.2, loss=0.661]\n",
      "Valid--Epoch [121/500]: 100%|██████████| 712/712 [00:05<00:00, 122.04it/s, acc=58.4, loss=0.751]\n"
     ]
    },
    {
     "name": "stdout",
     "output_type": "stream",
     "text": [
      "\n",
      " epoch: 122/500\n"
     ]
    },
    {
     "name": "stderr",
     "output_type": "stream",
     "text": [
      "Train--Epoch [122/500]: 100%|██████████| 1500/1500 [00:33<00:00, 44.31it/s, acc=58.3, loss=0.662]\n",
      "Valid--Epoch [122/500]: 100%|██████████| 712/712 [00:05<00:00, 125.53it/s, acc=57.5, loss=0.781]"
     ]
    },
    {
     "name": "stdout",
     "output_type": "stream",
     "text": [
      "\n",
      " epoch: 123/500\n"
     ]
    },
    {
     "name": "stderr",
     "output_type": "stream",
     "text": [
      "\n",
      "Train--Epoch [123/500]: 100%|██████████| 1500/1500 [00:33<00:00, 44.51it/s, acc=57.8, loss=0.663]\n",
      "Valid--Epoch [123/500]: 100%|██████████| 712/712 [00:05<00:00, 123.03it/s, acc=57.7, loss=0.77] \n"
     ]
    },
    {
     "name": "stdout",
     "output_type": "stream",
     "text": [
      "\n",
      " epoch: 124/500\n"
     ]
    },
    {
     "name": "stderr",
     "output_type": "stream",
     "text": [
      "Train--Epoch [124/500]: 100%|██████████| 1500/1500 [00:33<00:00, 44.26it/s, acc=58.1, loss=0.663]\n",
      "Valid--Epoch [124/500]: 100%|██████████| 712/712 [00:05<00:00, 123.91it/s, acc=57.9, loss=0.78] "
     ]
    },
    {
     "name": "stdout",
     "output_type": "stream",
     "text": [
      "\n",
      " epoch: 125/500\n"
     ]
    },
    {
     "name": "stderr",
     "output_type": "stream",
     "text": [
      "\n",
      "Train--Epoch [125/500]: 100%|██████████| 1500/1500 [00:33<00:00, 44.32it/s, acc=58, loss=0.663]  \n",
      "Valid--Epoch [125/500]: 100%|██████████| 712/712 [00:05<00:00, 124.53it/s, acc=57.5, loss=0.809]\n"
     ]
    },
    {
     "name": "stdout",
     "output_type": "stream",
     "text": [
      "\n",
      " epoch: 126/500\n"
     ]
    },
    {
     "name": "stderr",
     "output_type": "stream",
     "text": [
      "Train--Epoch [126/500]: 100%|██████████| 1500/1500 [00:33<00:00, 44.44it/s, acc=57.8, loss=0.665]\n",
      "Valid--Epoch [126/500]: 100%|██████████| 712/712 [00:05<00:00, 123.94it/s, acc=57.8, loss=0.78] "
     ]
    },
    {
     "name": "stdout",
     "output_type": "stream",
     "text": [
      "\n",
      " epoch: 127/500\n"
     ]
    },
    {
     "name": "stderr",
     "output_type": "stream",
     "text": [
      "\n",
      "Train--Epoch [127/500]: 100%|██████████| 1500/1500 [00:34<00:00, 43.85it/s, acc=57.9, loss=0.665]\n",
      "Valid--Epoch [127/500]: 100%|██████████| 712/712 [00:05<00:00, 122.68it/s, acc=57.7, loss=0.781]"
     ]
    },
    {
     "name": "stdout",
     "output_type": "stream",
     "text": [
      "\n",
      " epoch: 128/500\n"
     ]
    },
    {
     "name": "stderr",
     "output_type": "stream",
     "text": [
      "\n",
      "Train--Epoch [128/500]: 100%|██████████| 1500/1500 [00:34<00:00, 43.24it/s, acc=58.1, loss=0.663]\n",
      "Valid--Epoch [128/500]: 100%|██████████| 712/712 [00:05<00:00, 120.26it/s, acc=57.3, loss=0.796]"
     ]
    },
    {
     "name": "stdout",
     "output_type": "stream",
     "text": [
      "\n",
      " epoch: 129/500\n"
     ]
    },
    {
     "name": "stderr",
     "output_type": "stream",
     "text": [
      "\n",
      "Train--Epoch [129/500]: 100%|██████████| 1500/1500 [00:34<00:00, 43.88it/s, acc=57.5, loss=0.665]\n",
      "Valid--Epoch [129/500]: 100%|██████████| 712/712 [00:05<00:00, 121.73it/s, acc=57.4, loss=0.779]\n"
     ]
    },
    {
     "name": "stdout",
     "output_type": "stream",
     "text": [
      "\n",
      " epoch: 130/500\n"
     ]
    },
    {
     "name": "stderr",
     "output_type": "stream",
     "text": [
      "Train--Epoch [130/500]: 100%|██████████| 1500/1500 [00:34<00:00, 43.13it/s, acc=57.7, loss=0.664]\n",
      "Valid--Epoch [130/500]: 100%|██████████| 712/712 [00:05<00:00, 122.88it/s, acc=57.4, loss=0.778]"
     ]
    },
    {
     "name": "stdout",
     "output_type": "stream",
     "text": [
      "\n",
      " epoch: 131/500\n"
     ]
    },
    {
     "name": "stderr",
     "output_type": "stream",
     "text": [
      "\n",
      "Train--Epoch [131/500]: 100%|██████████| 1500/1500 [00:34<00:00, 42.90it/s, acc=57.2, loss=0.665]\n",
      "Valid--Epoch [131/500]: 100%|██████████| 712/712 [00:05<00:00, 120.46it/s, acc=58, loss=0.77]   "
     ]
    },
    {
     "name": "stdout",
     "output_type": "stream",
     "text": [
      "\n",
      " epoch: 132/500\n"
     ]
    },
    {
     "name": "stderr",
     "output_type": "stream",
     "text": [
      "\n",
      "Train--Epoch [132/500]: 100%|██████████| 1500/1500 [00:34<00:00, 43.65it/s, acc=57.4, loss=0.666]\n",
      "Valid--Epoch [132/500]: 100%|██████████| 712/712 [00:05<00:00, 121.33it/s, acc=57.8, loss=0.797]\n"
     ]
    },
    {
     "name": "stdout",
     "output_type": "stream",
     "text": [
      "\n",
      " epoch: 133/500\n"
     ]
    },
    {
     "name": "stderr",
     "output_type": "stream",
     "text": [
      "Train--Epoch [133/500]: 100%|██████████| 1500/1500 [00:34<00:00, 44.00it/s, acc=57.7, loss=0.663]\n",
      "Valid--Epoch [133/500]: 100%|██████████| 712/712 [00:05<00:00, 121.28it/s, acc=57, loss=0.845]  "
     ]
    },
    {
     "name": "stdout",
     "output_type": "stream",
     "text": [
      "\n",
      " epoch: 134/500\n"
     ]
    },
    {
     "name": "stderr",
     "output_type": "stream",
     "text": [
      "\n",
      "Train--Epoch [134/500]: 100%|██████████| 1500/1500 [00:34<00:00, 43.99it/s, acc=58.2, loss=0.663]\n",
      "Valid--Epoch [134/500]: 100%|██████████| 712/712 [00:05<00:00, 121.99it/s, acc=57.7, loss=0.843]\n"
     ]
    },
    {
     "name": "stdout",
     "output_type": "stream",
     "text": [
      "\n",
      " epoch: 135/500\n"
     ]
    },
    {
     "name": "stderr",
     "output_type": "stream",
     "text": [
      "Train--Epoch [135/500]: 100%|██████████| 1500/1500 [00:34<00:00, 43.88it/s, acc=58.1, loss=0.663]\n",
      "Valid--Epoch [135/500]: 100%|██████████| 712/712 [00:05<00:00, 122.57it/s, acc=57.3, loss=0.825]\n"
     ]
    },
    {
     "name": "stdout",
     "output_type": "stream",
     "text": [
      "\n",
      " epoch: 136/500\n"
     ]
    },
    {
     "name": "stderr",
     "output_type": "stream",
     "text": [
      "Train--Epoch [136/500]: 100%|██████████| 1500/1500 [00:34<00:00, 43.69it/s, acc=58.3, loss=0.661]\n",
      "Valid--Epoch [136/500]: 100%|██████████| 712/712 [00:05<00:00, 122.26it/s, acc=57.5, loss=0.794]"
     ]
    },
    {
     "name": "stdout",
     "output_type": "stream",
     "text": [
      "\n",
      " epoch: 137/500\n"
     ]
    },
    {
     "name": "stderr",
     "output_type": "stream",
     "text": [
      "\n",
      "Train--Epoch [137/500]: 100%|██████████| 1500/1500 [00:34<00:00, 43.91it/s, acc=58.1, loss=0.663]\n",
      "Valid--Epoch [137/500]: 100%|██████████| 712/712 [00:05<00:00, 121.62it/s, acc=57.8, loss=0.749]"
     ]
    },
    {
     "name": "stdout",
     "output_type": "stream",
     "text": [
      "\n",
      " epoch: 138/500\n"
     ]
    },
    {
     "name": "stderr",
     "output_type": "stream",
     "text": [
      "\n",
      "Train--Epoch [138/500]: 100%|██████████| 1500/1500 [00:34<00:00, 44.01it/s, acc=58.4, loss=0.661]\n",
      "Valid--Epoch [138/500]: 100%|██████████| 712/712 [00:05<00:00, 122.84it/s, acc=58.3, loss=0.801]"
     ]
    },
    {
     "name": "stdout",
     "output_type": "stream",
     "text": [
      "\n",
      " epoch: 139/500\n"
     ]
    },
    {
     "name": "stderr",
     "output_type": "stream",
     "text": [
      "\n",
      "Train--Epoch [139/500]: 100%|██████████| 1500/1500 [00:34<00:00, 43.85it/s, acc=58.3, loss=0.662]\n",
      "Valid--Epoch [139/500]: 100%|██████████| 712/712 [00:05<00:00, 124.83it/s, acc=57.9, loss=0.751]\n"
     ]
    },
    {
     "name": "stdout",
     "output_type": "stream",
     "text": [
      "\n",
      " epoch: 140/500\n"
     ]
    },
    {
     "name": "stderr",
     "output_type": "stream",
     "text": [
      "Train--Epoch [140/500]: 100%|██████████| 1500/1500 [00:34<00:00, 43.77it/s, acc=58.2, loss=0.662]\n",
      "Valid--Epoch [140/500]: 100%|██████████| 712/712 [00:05<00:00, 122.44it/s, acc=58.3, loss=0.811]"
     ]
    },
    {
     "name": "stdout",
     "output_type": "stream",
     "text": [
      "\n",
      " epoch: 141/500\n"
     ]
    },
    {
     "name": "stderr",
     "output_type": "stream",
     "text": [
      "\n",
      "Train--Epoch [141/500]: 100%|██████████| 1500/1500 [00:34<00:00, 43.80it/s, acc=58.4, loss=0.662]\n",
      "Valid--Epoch [141/500]: 100%|██████████| 712/712 [00:05<00:00, 122.73it/s, acc=57.4, loss=0.819]"
     ]
    },
    {
     "name": "stdout",
     "output_type": "stream",
     "text": [
      "\n",
      " epoch: 142/500\n"
     ]
    },
    {
     "name": "stderr",
     "output_type": "stream",
     "text": [
      "\n",
      "Train--Epoch [142/500]: 100%|██████████| 1500/1500 [00:34<00:00, 43.73it/s, acc=58.2, loss=0.662]\n",
      "Valid--Epoch [142/500]: 100%|██████████| 712/712 [00:05<00:00, 122.87it/s, acc=57.4, loss=0.956]"
     ]
    },
    {
     "name": "stdout",
     "output_type": "stream",
     "text": [
      "\n",
      " epoch: 143/500\n"
     ]
    },
    {
     "name": "stderr",
     "output_type": "stream",
     "text": [
      "\n",
      "Train--Epoch [143/500]: 100%|██████████| 1500/1500 [00:34<00:00, 43.56it/s, acc=58.2, loss=0.661]\n",
      "Valid--Epoch [143/500]: 100%|██████████| 712/712 [00:06<00:00, 115.74it/s, acc=57.8, loss=0.819]\n"
     ]
    },
    {
     "name": "stdout",
     "output_type": "stream",
     "text": [
      "\n",
      " epoch: 144/500\n"
     ]
    },
    {
     "name": "stderr",
     "output_type": "stream",
     "text": [
      "Train--Epoch [144/500]: 100%|██████████| 1500/1500 [00:34<00:00, 43.59it/s, acc=58.1, loss=0.663]\n",
      "Valid--Epoch [144/500]: 100%|██████████| 712/712 [00:05<00:00, 123.33it/s, acc=57.4, loss=0.801]\n"
     ]
    },
    {
     "name": "stdout",
     "output_type": "stream",
     "text": [
      "\n",
      " epoch: 145/500\n"
     ]
    },
    {
     "name": "stderr",
     "output_type": "stream",
     "text": [
      "Train--Epoch [145/500]: 100%|██████████| 1500/1500 [00:34<00:00, 43.78it/s, acc=57.5, loss=0.665]\n",
      "Valid--Epoch [145/500]: 100%|██████████| 712/712 [00:05<00:00, 121.20it/s, acc=56.8, loss=0.878]"
     ]
    },
    {
     "name": "stdout",
     "output_type": "stream",
     "text": [
      "\n",
      " epoch: 146/500\n"
     ]
    },
    {
     "name": "stderr",
     "output_type": "stream",
     "text": [
      "\n",
      "Train--Epoch [146/500]: 100%|██████████| 1500/1500 [00:34<00:00, 43.70it/s, acc=57.5, loss=0.665]\n",
      "Valid--Epoch [146/500]: 100%|██████████| 712/712 [00:05<00:00, 122.44it/s, acc=56.9, loss=0.819]"
     ]
    },
    {
     "name": "stdout",
     "output_type": "stream",
     "text": [
      "\n",
      " epoch: 147/500\n"
     ]
    },
    {
     "name": "stderr",
     "output_type": "stream",
     "text": [
      "\n",
      "Train--Epoch [147/500]: 100%|██████████| 1500/1500 [00:34<00:00, 43.89it/s, acc=57.6, loss=0.664]\n",
      "Valid--Epoch [147/500]: 100%|██████████| 712/712 [00:05<00:00, 122.77it/s, acc=57.6, loss=0.829]"
     ]
    },
    {
     "name": "stdout",
     "output_type": "stream",
     "text": [
      "\n",
      " epoch: 148/500\n"
     ]
    },
    {
     "name": "stderr",
     "output_type": "stream",
     "text": [
      "\n",
      "Train--Epoch [148/500]: 100%|██████████| 1500/1500 [00:34<00:00, 43.87it/s, acc=57.8, loss=0.663]\n",
      "Valid--Epoch [148/500]: 100%|██████████| 712/712 [00:05<00:00, 123.13it/s, acc=57.5, loss=0.811]\n"
     ]
    },
    {
     "name": "stdout",
     "output_type": "stream",
     "text": [
      "\n",
      " epoch: 149/500\n"
     ]
    },
    {
     "name": "stderr",
     "output_type": "stream",
     "text": [
      "Train--Epoch [149/500]: 100%|██████████| 1500/1500 [00:34<00:00, 43.59it/s, acc=57.9, loss=0.663]\n",
      "Valid--Epoch [149/500]: 100%|██████████| 712/712 [00:05<00:00, 122.52it/s, acc=57.8, loss=0.767]"
     ]
    },
    {
     "name": "stdout",
     "output_type": "stream",
     "text": [
      "\n",
      " epoch: 150/500\n"
     ]
    },
    {
     "name": "stderr",
     "output_type": "stream",
     "text": [
      "\n",
      "Train--Epoch [150/500]: 100%|██████████| 1500/1500 [00:34<00:00, 43.89it/s, acc=57.7, loss=0.665]\n",
      "Valid--Epoch [150/500]: 100%|██████████| 712/712 [00:05<00:00, 123.79it/s, acc=57.4, loss=0.843]\n"
     ]
    },
    {
     "name": "stdout",
     "output_type": "stream",
     "text": [
      "\n",
      " epoch: 151/500\n"
     ]
    },
    {
     "name": "stderr",
     "output_type": "stream",
     "text": [
      "Train--Epoch [151/500]: 100%|██████████| 1500/1500 [00:34<00:00, 43.77it/s, acc=57.7, loss=0.665]\n",
      "Valid--Epoch [151/500]: 100%|██████████| 712/712 [00:05<00:00, 123.12it/s, acc=57.3, loss=0.792]"
     ]
    },
    {
     "name": "stdout",
     "output_type": "stream",
     "text": [
      "\n",
      " epoch: 152/500\n"
     ]
    },
    {
     "name": "stderr",
     "output_type": "stream",
     "text": [
      "\n",
      "Train--Epoch [152/500]: 100%|██████████| 1500/1500 [00:34<00:00, 43.91it/s, acc=57.4, loss=0.666]\n",
      "Valid--Epoch [152/500]: 100%|██████████| 712/712 [00:05<00:00, 122.93it/s, acc=57.7, loss=0.782]\n"
     ]
    },
    {
     "name": "stdout",
     "output_type": "stream",
     "text": [
      "\n",
      " epoch: 153/500\n"
     ]
    },
    {
     "name": "stderr",
     "output_type": "stream",
     "text": [
      "Train--Epoch [153/500]: 100%|██████████| 1500/1500 [00:34<00:00, 43.69it/s, acc=57.6, loss=0.665]\n",
      "Valid--Epoch [153/500]: 100%|██████████| 712/712 [00:05<00:00, 121.65it/s, acc=57.5, loss=0.775]"
     ]
    },
    {
     "name": "stdout",
     "output_type": "stream",
     "text": [
      "\n",
      " epoch: 154/500\n"
     ]
    },
    {
     "name": "stderr",
     "output_type": "stream",
     "text": [
      "\n",
      "Train--Epoch [154/500]: 100%|██████████| 1500/1500 [00:34<00:00, 43.72it/s, acc=58.2, loss=0.665]\n",
      "Valid--Epoch [154/500]: 100%|██████████| 712/712 [00:05<00:00, 124.02it/s, acc=57.5, loss=0.776]"
     ]
    },
    {
     "name": "stdout",
     "output_type": "stream",
     "text": [
      "\n",
      " epoch: 155/500\n"
     ]
    },
    {
     "name": "stderr",
     "output_type": "stream",
     "text": [
      "\n",
      "Train--Epoch [155/500]: 100%|██████████| 1500/1500 [00:34<00:00, 43.78it/s, acc=58.1, loss=0.665]\n",
      "Valid--Epoch [155/500]: 100%|██████████| 712/712 [00:05<00:00, 121.40it/s, acc=56.3, loss=0.828]"
     ]
    },
    {
     "name": "stdout",
     "output_type": "stream",
     "text": [
      "\n",
      " epoch: 156/500\n"
     ]
    },
    {
     "name": "stderr",
     "output_type": "stream",
     "text": [
      "\n",
      "Train--Epoch [156/500]: 100%|██████████| 1500/1500 [00:34<00:00, 43.68it/s, acc=58.1, loss=0.664]\n",
      "Valid--Epoch [156/500]: 100%|██████████| 712/712 [00:05<00:00, 119.52it/s, acc=56.9, loss=0.769]"
     ]
    },
    {
     "name": "stdout",
     "output_type": "stream",
     "text": [
      "\n",
      " epoch: 157/500\n"
     ]
    },
    {
     "name": "stderr",
     "output_type": "stream",
     "text": [
      "\n",
      "Train--Epoch [157/500]: 100%|██████████| 1500/1500 [00:38<00:00, 38.94it/s, acc=58, loss=0.665]  \n",
      "Valid--Epoch [157/500]: 100%|██████████| 712/712 [00:05<00:00, 125.35it/s, acc=57.1, loss=0.735]"
     ]
    },
    {
     "name": "stdout",
     "output_type": "stream",
     "text": [
      "\n",
      " epoch: 158/500\n"
     ]
    },
    {
     "name": "stderr",
     "output_type": "stream",
     "text": [
      "\n",
      "Train--Epoch [158/500]: 100%|██████████| 1500/1500 [00:37<00:00, 39.53it/s, acc=58, loss=0.664]  \n",
      "Valid--Epoch [158/500]: 100%|██████████| 712/712 [00:06<00:00, 110.13it/s, acc=56.1, loss=0.793]"
     ]
    },
    {
     "name": "stdout",
     "output_type": "stream",
     "text": [
      "\n",
      " epoch: 159/500\n"
     ]
    },
    {
     "name": "stderr",
     "output_type": "stream",
     "text": [
      "\n",
      "Train--Epoch [159/500]: 100%|██████████| 1500/1500 [00:37<00:00, 39.88it/s, acc=58, loss=0.665]  \n",
      "Valid--Epoch [159/500]: 100%|██████████| 712/712 [00:06<00:00, 108.46it/s, acc=56.8, loss=0.754]"
     ]
    },
    {
     "name": "stdout",
     "output_type": "stream",
     "text": [
      "\n",
      " epoch: 160/500\n"
     ]
    },
    {
     "name": "stderr",
     "output_type": "stream",
     "text": [
      "\n",
      "Train--Epoch [160/500]: 100%|██████████| 1500/1500 [00:38<00:00, 39.42it/s, acc=58, loss=0.663]  \n",
      "Valid--Epoch [160/500]: 100%|██████████| 712/712 [00:05<00:00, 119.98it/s, acc=57.3, loss=0.771]\n"
     ]
    },
    {
     "name": "stdout",
     "output_type": "stream",
     "text": [
      "\n",
      " epoch: 161/500\n"
     ]
    },
    {
     "name": "stderr",
     "output_type": "stream",
     "text": [
      "Train--Epoch [161/500]: 100%|██████████| 1500/1500 [00:36<00:00, 40.71it/s, acc=57.8, loss=0.665]\n",
      "Valid--Epoch [161/500]: 100%|██████████| 712/712 [00:06<00:00, 113.20it/s, acc=56.9, loss=0.759]"
     ]
    },
    {
     "name": "stdout",
     "output_type": "stream",
     "text": [
      "\n",
      " epoch: 162/500\n"
     ]
    },
    {
     "name": "stderr",
     "output_type": "stream",
     "text": [
      "\n",
      "Train--Epoch [162/500]: 100%|██████████| 1500/1500 [00:38<00:00, 39.06it/s, acc=58, loss=0.664]  \n",
      "Valid--Epoch [162/500]: 100%|██████████| 712/712 [00:06<00:00, 118.28it/s, acc=56.5, loss=0.814]\n"
     ]
    },
    {
     "name": "stdout",
     "output_type": "stream",
     "text": [
      "\n",
      " epoch: 163/500\n"
     ]
    },
    {
     "name": "stderr",
     "output_type": "stream",
     "text": [
      "Train--Epoch [163/500]: 100%|██████████| 1500/1500 [00:36<00:00, 41.06it/s, acc=57.8, loss=0.664]\n",
      "Valid--Epoch [163/500]: 100%|██████████| 712/712 [00:06<00:00, 111.22it/s, acc=56.7, loss=0.831]"
     ]
    },
    {
     "name": "stdout",
     "output_type": "stream",
     "text": [
      "\n",
      " epoch: 164/500\n"
     ]
    },
    {
     "name": "stderr",
     "output_type": "stream",
     "text": [
      "\n",
      "Train--Epoch [164/500]: 100%|██████████| 1500/1500 [00:35<00:00, 42.27it/s, acc=58.2, loss=0.663]\n",
      "Valid--Epoch [164/500]: 100%|██████████| 712/712 [00:05<00:00, 121.96it/s, acc=56.6, loss=0.756]"
     ]
    },
    {
     "name": "stdout",
     "output_type": "stream",
     "text": [
      "\n",
      " epoch: 165/500\n"
     ]
    },
    {
     "name": "stderr",
     "output_type": "stream",
     "text": [
      "\n",
      "Train--Epoch [165/500]: 100%|██████████| 1500/1500 [00:36<00:00, 41.29it/s, acc=57.9, loss=0.665]\n",
      "Valid--Epoch [165/500]: 100%|██████████| 712/712 [00:06<00:00, 108.90it/s, acc=56.9, loss=0.723]\n"
     ]
    },
    {
     "name": "stdout",
     "output_type": "stream",
     "text": [
      "\n",
      " epoch: 166/500\n"
     ]
    },
    {
     "name": "stderr",
     "output_type": "stream",
     "text": [
      "Train--Epoch [166/500]: 100%|██████████| 1500/1500 [00:35<00:00, 42.14it/s, acc=58.4, loss=0.663]\n",
      "Valid--Epoch [166/500]: 100%|██████████| 712/712 [00:05<00:00, 133.19it/s, acc=57.3, loss=0.74] \n"
     ]
    },
    {
     "name": "stdout",
     "output_type": "stream",
     "text": [
      "\n",
      " epoch: 167/500\n"
     ]
    },
    {
     "name": "stderr",
     "output_type": "stream",
     "text": [
      "Train--Epoch [167/500]: 100%|██████████| 1500/1500 [00:32<00:00, 46.78it/s, acc=58.3, loss=0.663]\n",
      "Valid--Epoch [167/500]: 100%|██████████| 712/712 [00:05<00:00, 137.67it/s, acc=56.9, loss=0.81] \n"
     ]
    },
    {
     "name": "stdout",
     "output_type": "stream",
     "text": [
      "\n",
      " epoch: 168/500\n"
     ]
    },
    {
     "name": "stderr",
     "output_type": "stream",
     "text": [
      "Train--Epoch [168/500]: 100%|██████████| 1500/1500 [00:34<00:00, 43.96it/s, acc=58.4, loss=0.663]\n",
      "Valid--Epoch [168/500]: 100%|██████████| 712/712 [00:05<00:00, 131.45it/s, acc=57, loss=0.755]  \n"
     ]
    },
    {
     "name": "stdout",
     "output_type": "stream",
     "text": [
      "\n",
      " epoch: 169/500\n"
     ]
    },
    {
     "name": "stderr",
     "output_type": "stream",
     "text": [
      "Train--Epoch [169/500]: 100%|██████████| 1500/1500 [00:31<00:00, 47.33it/s, acc=58.3, loss=0.662]\n",
      "Valid--Epoch [169/500]: 100%|██████████| 712/712 [00:05<00:00, 136.12it/s, acc=56.2, loss=0.874]"
     ]
    },
    {
     "name": "stdout",
     "output_type": "stream",
     "text": [
      "\n",
      " epoch: 170/500\n"
     ]
    },
    {
     "name": "stderr",
     "output_type": "stream",
     "text": [
      "\n",
      "Train--Epoch [170/500]: 100%|██████████| 1500/1500 [00:32<00:00, 46.52it/s, acc=58.3, loss=0.662]\n",
      "Valid--Epoch [170/500]: 100%|██████████| 712/712 [00:05<00:00, 133.08it/s, acc=56.5, loss=0.825]\n"
     ]
    },
    {
     "name": "stdout",
     "output_type": "stream",
     "text": [
      "\n",
      " epoch: 171/500\n"
     ]
    },
    {
     "name": "stderr",
     "output_type": "stream",
     "text": [
      "Train--Epoch [171/500]: 100%|██████████| 1500/1500 [00:31<00:00, 47.38it/s, acc=58.6, loss=0.661]\n",
      "Valid--Epoch [171/500]: 100%|██████████| 712/712 [00:05<00:00, 136.55it/s, acc=56.9, loss=0.75] "
     ]
    },
    {
     "name": "stdout",
     "output_type": "stream",
     "text": [
      "\n",
      " epoch: 172/500\n"
     ]
    },
    {
     "name": "stderr",
     "output_type": "stream",
     "text": [
      "\n",
      "Train--Epoch [172/500]: 100%|██████████| 1500/1500 [00:31<00:00, 47.32it/s, acc=58.4, loss=0.661]\n",
      "Valid--Epoch [172/500]: 100%|██████████| 712/712 [00:05<00:00, 138.90it/s, acc=56.5, loss=0.791]"
     ]
    },
    {
     "name": "stdout",
     "output_type": "stream",
     "text": [
      "\n",
      " epoch: 173/500\n"
     ]
    },
    {
     "name": "stderr",
     "output_type": "stream",
     "text": [
      "\n",
      "Train--Epoch [173/500]: 100%|██████████| 1500/1500 [00:31<00:00, 47.09it/s, acc=58.8, loss=0.66] \n",
      "Valid--Epoch [173/500]: 100%|██████████| 712/712 [00:05<00:00, 137.24it/s, acc=56.4, loss=0.79] \n"
     ]
    },
    {
     "name": "stdout",
     "output_type": "stream",
     "text": [
      "\n",
      " epoch: 174/500\n"
     ]
    },
    {
     "name": "stderr",
     "output_type": "stream",
     "text": [
      "Train--Epoch [174/500]: 100%|██████████| 1500/1500 [00:31<00:00, 46.91it/s, acc=58.5, loss=0.661]\n",
      "Valid--Epoch [174/500]: 100%|██████████| 712/712 [00:05<00:00, 131.90it/s, acc=57, loss=0.779]  \n"
     ]
    },
    {
     "name": "stdout",
     "output_type": "stream",
     "text": [
      "\n",
      " epoch: 175/500\n"
     ]
    },
    {
     "name": "stderr",
     "output_type": "stream",
     "text": [
      "Train--Epoch [175/500]: 100%|██████████| 1500/1500 [00:32<00:00, 46.19it/s, acc=58.5, loss=0.66] \n",
      "Valid--Epoch [175/500]: 100%|██████████| 712/712 [00:05<00:00, 136.58it/s, acc=56.1, loss=0.828]\n"
     ]
    },
    {
     "name": "stdout",
     "output_type": "stream",
     "text": [
      "\n",
      " epoch: 176/500\n"
     ]
    },
    {
     "name": "stderr",
     "output_type": "stream",
     "text": [
      "Train--Epoch [176/500]: 100%|██████████| 1500/1500 [00:35<00:00, 42.54it/s, acc=58.5, loss=0.66] \n",
      "Valid--Epoch [176/500]: 100%|██████████| 712/712 [00:05<00:00, 133.68it/s, acc=56.4, loss=0.805]"
     ]
    },
    {
     "name": "stdout",
     "output_type": "stream",
     "text": [
      "\n",
      " epoch: 177/500\n"
     ]
    },
    {
     "name": "stderr",
     "output_type": "stream",
     "text": [
      "\n",
      "Train--Epoch [177/500]: 100%|██████████| 1500/1500 [00:33<00:00, 44.93it/s, acc=58.2, loss=0.661]\n",
      "Valid--Epoch [177/500]: 100%|██████████| 712/712 [00:05<00:00, 130.82it/s, acc=56.8, loss=0.862]\n"
     ]
    },
    {
     "name": "stdout",
     "output_type": "stream",
     "text": [
      "\n",
      " epoch: 178/500\n"
     ]
    },
    {
     "name": "stderr",
     "output_type": "stream",
     "text": [
      "Train--Epoch [178/500]: 100%|██████████| 1500/1500 [00:32<00:00, 45.47it/s, acc=58.6, loss=0.66]\n",
      "Valid--Epoch [178/500]: 100%|██████████| 712/712 [00:05<00:00, 127.58it/s, acc=56.9, loss=0.818]"
     ]
    },
    {
     "name": "stdout",
     "output_type": "stream",
     "text": [
      "\n",
      " epoch: 179/500\n"
     ]
    },
    {
     "name": "stderr",
     "output_type": "stream",
     "text": [
      "\n",
      "Train--Epoch [179/500]: 100%|██████████| 1500/1500 [00:31<00:00, 47.03it/s, acc=58.5, loss=0.66] \n",
      "Valid--Epoch [179/500]: 100%|██████████| 712/712 [00:05<00:00, 131.76it/s, acc=56.9, loss=0.828]\n"
     ]
    },
    {
     "name": "stdout",
     "output_type": "stream",
     "text": [
      "\n",
      " epoch: 180/500\n"
     ]
    },
    {
     "name": "stderr",
     "output_type": "stream",
     "text": [
      "Train--Epoch [180/500]: 100%|██████████| 1500/1500 [00:32<00:00, 45.60it/s, acc=58.5, loss=0.659]\n",
      "Valid--Epoch [180/500]: 100%|██████████| 712/712 [00:05<00:00, 132.71it/s, acc=56.9, loss=0.829]\n"
     ]
    },
    {
     "name": "stdout",
     "output_type": "stream",
     "text": [
      "\n",
      " epoch: 181/500\n"
     ]
    },
    {
     "name": "stderr",
     "output_type": "stream",
     "text": [
      "Train--Epoch [181/500]: 100%|██████████| 1500/1500 [00:32<00:00, 45.88it/s, acc=58.3, loss=0.66] \n",
      "Valid--Epoch [181/500]: 100%|██████████| 712/712 [00:05<00:00, 131.38it/s, acc=57.1, loss=0.802]"
     ]
    },
    {
     "name": "stdout",
     "output_type": "stream",
     "text": [
      "\n",
      " epoch: 182/500\n"
     ]
    },
    {
     "name": "stderr",
     "output_type": "stream",
     "text": [
      "\n",
      "Train--Epoch [182/500]: 100%|██████████| 1500/1500 [00:32<00:00, 46.10it/s, acc=58.3, loss=0.66] \n",
      "Valid--Epoch [182/500]: 100%|██████████| 712/712 [00:05<00:00, 130.80it/s, acc=57.2, loss=0.828]"
     ]
    },
    {
     "name": "stdout",
     "output_type": "stream",
     "text": [
      "\n",
      " epoch: 183/500\n"
     ]
    },
    {
     "name": "stderr",
     "output_type": "stream",
     "text": [
      "\n",
      "Train--Epoch [183/500]: 100%|██████████| 1500/1500 [00:32<00:00, 45.72it/s, acc=58.5, loss=0.659]\n",
      "Valid--Epoch [183/500]: 100%|██████████| 712/712 [00:05<00:00, 132.37it/s, acc=57.3, loss=0.825]\n"
     ]
    },
    {
     "name": "stdout",
     "output_type": "stream",
     "text": [
      "\n",
      " epoch: 184/500\n"
     ]
    },
    {
     "name": "stderr",
     "output_type": "stream",
     "text": [
      "Train--Epoch [184/500]: 100%|██████████| 1500/1500 [00:33<00:00, 45.26it/s, acc=58.6, loss=0.659]\n",
      "Valid--Epoch [184/500]: 100%|██████████| 712/712 [00:05<00:00, 133.17it/s, acc=56.8, loss=0.774]"
     ]
    },
    {
     "name": "stdout",
     "output_type": "stream",
     "text": [
      "\n",
      " epoch: 185/500\n"
     ]
    },
    {
     "name": "stderr",
     "output_type": "stream",
     "text": [
      "\n",
      "Train--Epoch [185/500]: 100%|██████████| 1500/1500 [00:33<00:00, 45.08it/s, acc=58.5, loss=0.66]\n",
      "Valid--Epoch [185/500]: 100%|██████████| 712/712 [00:05<00:00, 133.21it/s, acc=57.1, loss=0.807]\n"
     ]
    },
    {
     "name": "stdout",
     "output_type": "stream",
     "text": [
      "\n",
      " epoch: 186/500\n"
     ]
    },
    {
     "name": "stderr",
     "output_type": "stream",
     "text": [
      "Train--Epoch [186/500]: 100%|██████████| 1500/1500 [00:32<00:00, 45.68it/s, acc=58.6, loss=0.66] \n",
      "Valid--Epoch [186/500]: 100%|██████████| 712/712 [00:05<00:00, 131.10it/s, acc=56.8, loss=0.845]\n"
     ]
    },
    {
     "name": "stdout",
     "output_type": "stream",
     "text": [
      "\n",
      " epoch: 187/500\n"
     ]
    },
    {
     "name": "stderr",
     "output_type": "stream",
     "text": [
      "Train--Epoch [187/500]: 100%|██████████| 1500/1500 [00:33<00:00, 44.85it/s, acc=58.4, loss=0.66] \n",
      "Valid--Epoch [187/500]: 100%|██████████| 712/712 [00:05<00:00, 130.01it/s, acc=57.9, loss=0.778]\n"
     ]
    },
    {
     "name": "stdout",
     "output_type": "stream",
     "text": [
      "\n",
      " epoch: 188/500\n"
     ]
    },
    {
     "name": "stderr",
     "output_type": "stream",
     "text": [
      "Train--Epoch [188/500]: 100%|██████████| 1500/1500 [00:32<00:00, 45.54it/s, acc=58.6, loss=0.661]\n",
      "Valid--Epoch [188/500]: 100%|██████████| 712/712 [00:05<00:00, 131.39it/s, acc=57.9, loss=0.757]"
     ]
    },
    {
     "name": "stdout",
     "output_type": "stream",
     "text": [
      "\n",
      " epoch: 189/500\n"
     ]
    },
    {
     "name": "stderr",
     "output_type": "stream",
     "text": [
      "\n",
      "Train--Epoch [189/500]: 100%|██████████| 1500/1500 [00:33<00:00, 45.36it/s, acc=58.5, loss=0.66] \n",
      "Valid--Epoch [189/500]: 100%|██████████| 712/712 [00:05<00:00, 131.72it/s, acc=57.6, loss=0.783]"
     ]
    },
    {
     "name": "stdout",
     "output_type": "stream",
     "text": [
      "\n",
      " epoch: 190/500\n"
     ]
    },
    {
     "name": "stderr",
     "output_type": "stream",
     "text": [
      "\n",
      "Train--Epoch [190/500]: 100%|██████████| 1500/1500 [00:32<00:00, 45.70it/s, acc=58.7, loss=0.66] \n",
      "Valid--Epoch [190/500]: 100%|██████████| 712/712 [00:05<00:00, 131.92it/s, acc=57.6, loss=0.805]\n"
     ]
    },
    {
     "name": "stdout",
     "output_type": "stream",
     "text": [
      "\n",
      " epoch: 191/500\n"
     ]
    },
    {
     "name": "stderr",
     "output_type": "stream",
     "text": [
      "Train--Epoch [191/500]: 100%|██████████| 1500/1500 [00:32<00:00, 45.50it/s, acc=58.9, loss=0.66]\n",
      "Valid--Epoch [191/500]: 100%|██████████| 712/712 [00:05<00:00, 130.71it/s, acc=58.2, loss=0.807]"
     ]
    },
    {
     "name": "stdout",
     "output_type": "stream",
     "text": [
      "\n",
      " epoch: 192/500\n"
     ]
    },
    {
     "name": "stderr",
     "output_type": "stream",
     "text": [
      "\n",
      "Train--Epoch [192/500]: 100%|██████████| 1500/1500 [00:32<00:00, 45.82it/s, acc=58.6, loss=0.663]\n",
      "Valid--Epoch [192/500]: 100%|██████████| 712/712 [00:05<00:00, 131.92it/s, acc=57.8, loss=0.774]\n"
     ]
    },
    {
     "name": "stdout",
     "output_type": "stream",
     "text": [
      "\n",
      " epoch: 193/500\n"
     ]
    },
    {
     "name": "stderr",
     "output_type": "stream",
     "text": [
      "Train--Epoch [193/500]: 100%|██████████| 1500/1500 [00:32<00:00, 45.49it/s, acc=58.5, loss=0.661]\n",
      "Valid--Epoch [193/500]: 100%|██████████| 712/712 [00:05<00:00, 133.70it/s, acc=57.1, loss=0.797]\n"
     ]
    },
    {
     "name": "stdout",
     "output_type": "stream",
     "text": [
      "\n",
      " epoch: 194/500\n"
     ]
    },
    {
     "name": "stderr",
     "output_type": "stream",
     "text": [
      "Train--Epoch [194/500]: 100%|██████████| 1500/1500 [00:33<00:00, 45.10it/s, acc=58.6, loss=0.661]\n",
      "Valid--Epoch [194/500]: 100%|██████████| 712/712 [00:05<00:00, 131.79it/s, acc=57, loss=0.826]  "
     ]
    },
    {
     "name": "stdout",
     "output_type": "stream",
     "text": [
      "\n",
      " epoch: 195/500\n"
     ]
    },
    {
     "name": "stderr",
     "output_type": "stream",
     "text": [
      "\n",
      "Train--Epoch [195/500]: 100%|██████████| 1500/1500 [00:32<00:00, 45.54it/s, acc=58.6, loss=0.66]\n",
      "Valid--Epoch [195/500]: 100%|██████████| 712/712 [00:05<00:00, 130.87it/s, acc=55.7, loss=0.895]\n"
     ]
    },
    {
     "name": "stdout",
     "output_type": "stream",
     "text": [
      "\n",
      " epoch: 196/500\n"
     ]
    },
    {
     "name": "stderr",
     "output_type": "stream",
     "text": [
      "Train--Epoch [196/500]: 100%|██████████| 1500/1500 [00:32<00:00, 45.56it/s, acc=58.8, loss=0.66]\n",
      "Valid--Epoch [196/500]: 100%|██████████| 712/712 [00:05<00:00, 132.32it/s, acc=56.4, loss=0.776]\n"
     ]
    },
    {
     "name": "stdout",
     "output_type": "stream",
     "text": [
      "\n",
      " epoch: 197/500\n"
     ]
    },
    {
     "name": "stderr",
     "output_type": "stream",
     "text": [
      "Train--Epoch [197/500]: 100%|██████████| 1500/1500 [00:32<00:00, 46.00it/s, acc=58.7, loss=0.66] \n",
      "Valid--Epoch [197/500]: 100%|██████████| 712/712 [00:05<00:00, 132.67it/s, acc=57.1, loss=0.766]\n"
     ]
    },
    {
     "name": "stdout",
     "output_type": "stream",
     "text": [
      "\n",
      " epoch: 198/500\n"
     ]
    },
    {
     "name": "stderr",
     "output_type": "stream",
     "text": [
      "Train--Epoch [198/500]: 100%|██████████| 1500/1500 [00:33<00:00, 44.52it/s, acc=58.1, loss=0.662]\n",
      "Valid--Epoch [198/500]: 100%|██████████| 712/712 [00:05<00:00, 129.68it/s, acc=56.4, loss=0.824]"
     ]
    },
    {
     "name": "stdout",
     "output_type": "stream",
     "text": [
      "\n",
      " epoch: 199/500\n"
     ]
    },
    {
     "name": "stderr",
     "output_type": "stream",
     "text": [
      "\n",
      "Train--Epoch [199/500]: 100%|██████████| 1500/1500 [00:33<00:00, 45.00it/s, acc=58.7, loss=0.659]\n",
      "Valid--Epoch [199/500]: 100%|██████████| 712/712 [00:05<00:00, 128.64it/s, acc=57.2, loss=0.79] "
     ]
    },
    {
     "name": "stdout",
     "output_type": "stream",
     "text": [
      "\n",
      " epoch: 200/500\n"
     ]
    },
    {
     "name": "stderr",
     "output_type": "stream",
     "text": [
      "\n",
      "Train--Epoch [200/500]: 100%|██████████| 1500/1500 [00:33<00:00, 44.25it/s, acc=58.7, loss=0.659]\n",
      "Valid--Epoch [200/500]: 100%|██████████| 712/712 [00:05<00:00, 120.21it/s, acc=57, loss=0.855]  "
     ]
    },
    {
     "name": "stdout",
     "output_type": "stream",
     "text": [
      "\n",
      " epoch: 201/500\n"
     ]
    },
    {
     "name": "stderr",
     "output_type": "stream",
     "text": [
      "\n",
      "Train--Epoch [201/500]: 100%|██████████| 1500/1500 [00:33<00:00, 44.52it/s, acc=58.6, loss=0.661]\n",
      "Valid--Epoch [201/500]: 100%|██████████| 712/712 [00:05<00:00, 128.62it/s, acc=57, loss=0.846]  \n"
     ]
    },
    {
     "name": "stdout",
     "output_type": "stream",
     "text": [
      "\n",
      " epoch: 202/500\n"
     ]
    },
    {
     "name": "stderr",
     "output_type": "stream",
     "text": [
      "Train--Epoch [202/500]: 100%|██████████| 1500/1500 [00:34<00:00, 43.85it/s, acc=58.6, loss=0.659]\n",
      "Valid--Epoch [202/500]: 100%|██████████| 712/712 [00:05<00:00, 130.60it/s, acc=57.1, loss=0.855]\n"
     ]
    },
    {
     "name": "stdout",
     "output_type": "stream",
     "text": [
      "\n",
      " epoch: 203/500\n"
     ]
    },
    {
     "name": "stderr",
     "output_type": "stream",
     "text": [
      "Train--Epoch [203/500]: 100%|██████████| 1500/1500 [00:33<00:00, 44.27it/s, acc=58.9, loss=0.658]\n",
      "Valid--Epoch [203/500]: 100%|██████████| 712/712 [00:05<00:00, 129.93it/s, acc=56.8, loss=0.806]"
     ]
    },
    {
     "name": "stdout",
     "output_type": "stream",
     "text": [
      "\n",
      " epoch: 204/500\n"
     ]
    },
    {
     "name": "stderr",
     "output_type": "stream",
     "text": [
      "\n",
      "Train--Epoch [204/500]: 100%|██████████| 1500/1500 [00:32<00:00, 45.82it/s, acc=58.8, loss=0.658]\n",
      "Valid--Epoch [204/500]: 100%|██████████| 712/712 [00:05<00:00, 130.90it/s, acc=57.4, loss=0.798]\n"
     ]
    },
    {
     "name": "stdout",
     "output_type": "stream",
     "text": [
      "\n",
      " epoch: 205/500\n"
     ]
    },
    {
     "name": "stderr",
     "output_type": "stream",
     "text": [
      "Train--Epoch [205/500]: 100%|██████████| 1500/1500 [00:32<00:00, 45.69it/s, acc=59, loss=0.658]  \n",
      "Valid--Epoch [205/500]: 100%|██████████| 712/712 [00:05<00:00, 130.23it/s, acc=56.5, loss=0.835]"
     ]
    },
    {
     "name": "stdout",
     "output_type": "stream",
     "text": [
      "\n",
      " epoch: 206/500\n"
     ]
    },
    {
     "name": "stderr",
     "output_type": "stream",
     "text": [
      "\n",
      "Train--Epoch [206/500]: 100%|██████████| 1500/1500 [00:33<00:00, 44.45it/s, acc=59.2, loss=0.656]\n",
      "Valid--Epoch [206/500]: 100%|██████████| 712/712 [00:05<00:00, 125.89it/s, acc=57.4, loss=0.834]"
     ]
    },
    {
     "name": "stdout",
     "output_type": "stream",
     "text": [
      "\n",
      " epoch: 207/500\n"
     ]
    },
    {
     "name": "stderr",
     "output_type": "stream",
     "text": [
      "\n",
      "Train--Epoch [207/500]: 100%|██████████| 1500/1500 [00:33<00:00, 44.29it/s, acc=59.2, loss=0.656]\n",
      "Valid--Epoch [207/500]: 100%|██████████| 712/712 [00:05<00:00, 123.36it/s, acc=57.3, loss=0.851]"
     ]
    },
    {
     "name": "stdout",
     "output_type": "stream",
     "text": [
      "\n",
      " epoch: 208/500\n"
     ]
    },
    {
     "name": "stderr",
     "output_type": "stream",
     "text": [
      "\n",
      "Train--Epoch [208/500]: 100%|██████████| 1500/1500 [00:33<00:00, 44.62it/s, acc=59, loss=0.657]  \n",
      "Valid--Epoch [208/500]: 100%|██████████| 712/712 [00:05<00:00, 131.58it/s, acc=57.4, loss=0.869]"
     ]
    },
    {
     "name": "stdout",
     "output_type": "stream",
     "text": [
      "\n",
      " epoch: 209/500\n"
     ]
    },
    {
     "name": "stderr",
     "output_type": "stream",
     "text": [
      "\n",
      "Train--Epoch [209/500]: 100%|██████████| 1500/1500 [00:32<00:00, 45.49it/s, acc=59.3, loss=0.655]\n",
      "Valid--Epoch [209/500]: 100%|██████████| 712/712 [00:05<00:00, 131.83it/s, acc=57.5, loss=0.895]\n"
     ]
    },
    {
     "name": "stdout",
     "output_type": "stream",
     "text": [
      "\n",
      " epoch: 210/500\n"
     ]
    },
    {
     "name": "stderr",
     "output_type": "stream",
     "text": [
      "Train--Epoch [210/500]: 100%|██████████| 1500/1500 [00:33<00:00, 45.38it/s, acc=59.3, loss=0.656]\n",
      "Valid--Epoch [210/500]: 100%|██████████| 712/712 [00:05<00:00, 130.15it/s, acc=57.5, loss=0.869]\n"
     ]
    },
    {
     "name": "stdout",
     "output_type": "stream",
     "text": [
      "\n",
      " epoch: 211/500\n"
     ]
    },
    {
     "name": "stderr",
     "output_type": "stream",
     "text": [
      "Train--Epoch [211/500]: 100%|██████████| 1500/1500 [00:33<00:00, 45.27it/s, acc=59.3, loss=0.656]\n",
      "Valid--Epoch [211/500]: 100%|██████████| 712/712 [00:05<00:00, 131.79it/s, acc=57.4, loss=0.872]\n"
     ]
    },
    {
     "name": "stdout",
     "output_type": "stream",
     "text": [
      "\n",
      " epoch: 212/500\n"
     ]
    },
    {
     "name": "stderr",
     "output_type": "stream",
     "text": [
      "Train--Epoch [212/500]: 100%|██████████| 1500/1500 [00:33<00:00, 45.22it/s, acc=59, loss=0.656]  \n",
      "Valid--Epoch [212/500]: 100%|██████████| 712/712 [00:05<00:00, 129.90it/s, acc=57.7, loss=0.81] \n"
     ]
    },
    {
     "name": "stdout",
     "output_type": "stream",
     "text": [
      "\n",
      " epoch: 213/500\n"
     ]
    },
    {
     "name": "stderr",
     "output_type": "stream",
     "text": [
      "Train--Epoch [213/500]: 100%|██████████| 1500/1500 [00:33<00:00, 45.22it/s, acc=59.1, loss=0.656]\n",
      "Valid--Epoch [213/500]: 100%|██████████| 712/712 [00:05<00:00, 130.89it/s, acc=57.3, loss=0.877]"
     ]
    },
    {
     "name": "stdout",
     "output_type": "stream",
     "text": [
      "\n",
      " epoch: 214/500\n"
     ]
    },
    {
     "name": "stderr",
     "output_type": "stream",
     "text": [
      "\n",
      "Train--Epoch [214/500]: 100%|██████████| 1500/1500 [00:33<00:00, 44.67it/s, acc=59.1, loss=0.656]\n",
      "Valid--Epoch [214/500]: 100%|██████████| 712/712 [00:05<00:00, 127.58it/s, acc=57.6, loss=0.829]"
     ]
    },
    {
     "name": "stdout",
     "output_type": "stream",
     "text": [
      "\n",
      " epoch: 215/500\n"
     ]
    },
    {
     "name": "stderr",
     "output_type": "stream",
     "text": [
      "\n",
      "Train--Epoch [215/500]: 100%|██████████| 1500/1500 [00:35<00:00, 42.61it/s, acc=59.1, loss=0.655]\n",
      "Valid--Epoch [215/500]: 100%|██████████| 712/712 [00:06<00:00, 118.38it/s, acc=57.2, loss=0.93] "
     ]
    },
    {
     "name": "stdout",
     "output_type": "stream",
     "text": [
      "\n",
      " epoch: 216/500\n"
     ]
    },
    {
     "name": "stderr",
     "output_type": "stream",
     "text": [
      "\n",
      "Train--Epoch [216/500]: 100%|██████████| 1500/1500 [00:35<00:00, 42.73it/s, acc=59.1, loss=0.656]\n",
      "Valid--Epoch [216/500]: 100%|██████████| 712/712 [00:05<00:00, 120.56it/s, acc=57.5, loss=0.802]\n"
     ]
    },
    {
     "name": "stdout",
     "output_type": "stream",
     "text": [
      "\n",
      " epoch: 217/500\n"
     ]
    },
    {
     "name": "stderr",
     "output_type": "stream",
     "text": [
      "Train--Epoch [217/500]: 100%|██████████| 1500/1500 [00:35<00:00, 42.16it/s, acc=59.4, loss=0.654]\n",
      "Valid--Epoch [217/500]: 100%|██████████| 712/712 [00:06<00:00, 117.20it/s, acc=57.7, loss=0.839]"
     ]
    },
    {
     "name": "stdout",
     "output_type": "stream",
     "text": [
      "\n",
      " epoch: 218/500\n"
     ]
    },
    {
     "name": "stderr",
     "output_type": "stream",
     "text": [
      "\n",
      "Train--Epoch [218/500]: 100%|██████████| 1500/1500 [00:34<00:00, 42.97it/s, acc=59.4, loss=0.654]\n",
      "Valid--Epoch [218/500]: 100%|██████████| 712/712 [00:05<00:00, 119.94it/s, acc=57.5, loss=0.823]\n"
     ]
    },
    {
     "name": "stdout",
     "output_type": "stream",
     "text": [
      "\n",
      " epoch: 219/500\n"
     ]
    },
    {
     "name": "stderr",
     "output_type": "stream",
     "text": [
      "Train--Epoch [219/500]: 100%|██████████| 1500/1500 [00:34<00:00, 43.35it/s, acc=59.4, loss=0.656]\n",
      "Valid--Epoch [219/500]: 100%|██████████| 712/712 [00:06<00:00, 118.09it/s, acc=57.7, loss=0.782]\n"
     ]
    },
    {
     "name": "stdout",
     "output_type": "stream",
     "text": [
      "\n",
      " epoch: 220/500\n"
     ]
    },
    {
     "name": "stderr",
     "output_type": "stream",
     "text": [
      "Train--Epoch [220/500]: 100%|██████████| 1500/1500 [00:35<00:00, 42.78it/s, acc=59.6, loss=0.654]\n",
      "Valid--Epoch [220/500]: 100%|██████████| 712/712 [00:06<00:00, 114.58it/s, acc=57.4, loss=0.827]"
     ]
    },
    {
     "name": "stdout",
     "output_type": "stream",
     "text": [
      "\n",
      " epoch: 221/500\n"
     ]
    },
    {
     "name": "stderr",
     "output_type": "stream",
     "text": [
      "\n",
      "Train--Epoch [221/500]: 100%|██████████| 1500/1500 [00:34<00:00, 43.04it/s, acc=59.5, loss=0.654]\n",
      "Valid--Epoch [221/500]: 100%|██████████| 712/712 [00:06<00:00, 117.29it/s, acc=57.6, loss=0.792]"
     ]
    },
    {
     "name": "stdout",
     "output_type": "stream",
     "text": [
      "\n",
      " epoch: 222/500\n"
     ]
    },
    {
     "name": "stderr",
     "output_type": "stream",
     "text": [
      "\n",
      "Train--Epoch [222/500]: 100%|██████████| 1500/1500 [00:35<00:00, 42.31it/s, acc=59.3, loss=0.656]\n",
      "Valid--Epoch [222/500]: 100%|██████████| 712/712 [00:06<00:00, 117.81it/s, acc=57.5, loss=0.792]"
     ]
    },
    {
     "name": "stdout",
     "output_type": "stream",
     "text": [
      "\n",
      " epoch: 223/500\n"
     ]
    },
    {
     "name": "stderr",
     "output_type": "stream",
     "text": [
      "\n",
      "Train--Epoch [223/500]: 100%|██████████| 1500/1500 [00:35<00:00, 42.05it/s, acc=59.5, loss=0.655]\n",
      "Valid--Epoch [223/500]: 100%|██████████| 712/712 [00:05<00:00, 125.07it/s, acc=57.3, loss=0.84] "
     ]
    },
    {
     "name": "stdout",
     "output_type": "stream",
     "text": [
      "\n",
      " epoch: 224/500\n"
     ]
    },
    {
     "name": "stderr",
     "output_type": "stream",
     "text": [
      "\n",
      "Train--Epoch [224/500]: 100%|██████████| 1500/1500 [00:34<00:00, 43.17it/s, acc=59.6, loss=0.655]\n",
      "Valid--Epoch [224/500]: 100%|██████████| 712/712 [00:05<00:00, 127.10it/s, acc=57.5, loss=0.789]"
     ]
    },
    {
     "name": "stdout",
     "output_type": "stream",
     "text": [
      "\n",
      " epoch: 225/500\n"
     ]
    },
    {
     "name": "stderr",
     "output_type": "stream",
     "text": [
      "\n",
      "Train--Epoch [225/500]: 100%|██████████| 1500/1500 [00:34<00:00, 43.14it/s, acc=59.4, loss=0.655]\n",
      "Valid--Epoch [225/500]: 100%|██████████| 712/712 [00:05<00:00, 127.85it/s, acc=57.6, loss=0.733]"
     ]
    },
    {
     "name": "stdout",
     "output_type": "stream",
     "text": [
      "\n",
      " epoch: 226/500\n"
     ]
    },
    {
     "name": "stderr",
     "output_type": "stream",
     "text": [
      "\n",
      "Train--Epoch [226/500]: 100%|██████████| 1500/1500 [00:33<00:00, 45.26it/s, acc=59.2, loss=0.656]\n",
      "Valid--Epoch [226/500]: 100%|██████████| 712/712 [00:05<00:00, 130.73it/s, acc=57.8, loss=0.78] \n"
     ]
    },
    {
     "name": "stdout",
     "output_type": "stream",
     "text": [
      "\n",
      " epoch: 227/500\n"
     ]
    },
    {
     "name": "stderr",
     "output_type": "stream",
     "text": [
      "Train--Epoch [227/500]: 100%|██████████| 1500/1500 [00:33<00:00, 44.99it/s, acc=59.5, loss=0.654]\n",
      "Valid--Epoch [227/500]: 100%|██████████| 712/712 [00:05<00:00, 126.71it/s, acc=57.6, loss=0.833]\n"
     ]
    },
    {
     "name": "stdout",
     "output_type": "stream",
     "text": [
      "\n",
      " epoch: 228/500\n"
     ]
    },
    {
     "name": "stderr",
     "output_type": "stream",
     "text": [
      "Train--Epoch [228/500]: 100%|██████████| 1500/1500 [00:33<00:00, 44.88it/s, acc=59.3, loss=0.655]\n",
      "Valid--Epoch [228/500]: 100%|██████████| 712/712 [00:05<00:00, 131.54it/s, acc=57.4, loss=0.798]\n"
     ]
    },
    {
     "name": "stdout",
     "output_type": "stream",
     "text": [
      "\n",
      " epoch: 229/500\n"
     ]
    },
    {
     "name": "stderr",
     "output_type": "stream",
     "text": [
      "Train--Epoch [229/500]: 100%|██████████| 1500/1500 [00:33<00:00, 45.25it/s, acc=59.3, loss=0.655]\n",
      "Valid--Epoch [229/500]: 100%|██████████| 712/712 [00:05<00:00, 131.27it/s, acc=57.3, loss=0.869]"
     ]
    },
    {
     "name": "stdout",
     "output_type": "stream",
     "text": [
      "\n",
      " epoch: 230/500\n"
     ]
    },
    {
     "name": "stderr",
     "output_type": "stream",
     "text": [
      "\n",
      "Train--Epoch [230/500]: 100%|██████████| 1500/1500 [00:33<00:00, 45.32it/s, acc=59.5, loss=0.654]\n",
      "Valid--Epoch [230/500]: 100%|██████████| 712/712 [00:05<00:00, 126.95it/s, acc=57.4, loss=0.849]\n"
     ]
    },
    {
     "name": "stdout",
     "output_type": "stream",
     "text": [
      "\n",
      " epoch: 231/500\n"
     ]
    },
    {
     "name": "stderr",
     "output_type": "stream",
     "text": [
      "Train--Epoch [231/500]: 100%|██████████| 1500/1500 [00:34<00:00, 43.71it/s, acc=59.6, loss=0.654]\n",
      "Valid--Epoch [231/500]: 100%|██████████| 712/712 [00:06<00:00, 105.70it/s, acc=57.6, loss=0.799]\n"
     ]
    },
    {
     "name": "stdout",
     "output_type": "stream",
     "text": [
      "\n",
      " epoch: 232/500\n"
     ]
    },
    {
     "name": "stderr",
     "output_type": "stream",
     "text": [
      "Train--Epoch [232/500]: 100%|██████████| 1500/1500 [00:34<00:00, 43.02it/s, acc=59.4, loss=0.654]\n",
      "Valid--Epoch [232/500]: 100%|██████████| 712/712 [00:06<00:00, 116.70it/s, acc=57.7, loss=0.809]"
     ]
    },
    {
     "name": "stdout",
     "output_type": "stream",
     "text": [
      "\n",
      " epoch: 233/500\n"
     ]
    },
    {
     "name": "stderr",
     "output_type": "stream",
     "text": [
      "\n",
      "Train--Epoch [233/500]: 100%|██████████| 1500/1500 [00:33<00:00, 44.68it/s, acc=59.4, loss=0.655]\n",
      "Valid--Epoch [233/500]: 100%|██████████| 712/712 [00:05<00:00, 129.35it/s, acc=57.8, loss=0.736]\n"
     ]
    },
    {
     "name": "stdout",
     "output_type": "stream",
     "text": [
      "\n",
      " epoch: 234/500\n"
     ]
    },
    {
     "name": "stderr",
     "output_type": "stream",
     "text": [
      "Train--Epoch [234/500]: 100%|██████████| 1500/1500 [00:33<00:00, 44.59it/s, acc=59.2, loss=0.656]\n",
      "Valid--Epoch [234/500]: 100%|██████████| 712/712 [00:05<00:00, 120.77it/s, acc=57.4, loss=0.79] "
     ]
    },
    {
     "name": "stdout",
     "output_type": "stream",
     "text": [
      "\n",
      " epoch: 235/500\n"
     ]
    },
    {
     "name": "stderr",
     "output_type": "stream",
     "text": [
      "\n",
      "Train--Epoch [235/500]: 100%|██████████| 1500/1500 [00:34<00:00, 44.01it/s, acc=59.3, loss=0.656]\n",
      "Valid--Epoch [235/500]: 100%|██████████| 712/712 [00:06<00:00, 117.32it/s, acc=57.5, loss=0.829]\n"
     ]
    },
    {
     "name": "stdout",
     "output_type": "stream",
     "text": [
      "\n",
      " epoch: 236/500\n"
     ]
    },
    {
     "name": "stderr",
     "output_type": "stream",
     "text": [
      "Train--Epoch [236/500]: 100%|██████████| 1500/1500 [00:39<00:00, 37.95it/s, acc=59.2, loss=0.655]\n",
      "Valid--Epoch [236/500]: 100%|██████████| 712/712 [00:06<00:00, 114.87it/s, acc=57.3, loss=0.905]\n"
     ]
    },
    {
     "name": "stdout",
     "output_type": "stream",
     "text": [
      "\n",
      " epoch: 237/500\n"
     ]
    },
    {
     "name": "stderr",
     "output_type": "stream",
     "text": [
      "Train--Epoch [237/500]: 100%|██████████| 1500/1500 [00:34<00:00, 43.29it/s, acc=59.4, loss=0.654]\n",
      "Valid--Epoch [237/500]: 100%|██████████| 712/712 [00:06<00:00, 115.53it/s, acc=57.5, loss=0.871]\n"
     ]
    },
    {
     "name": "stdout",
     "output_type": "stream",
     "text": [
      "\n",
      " epoch: 238/500\n"
     ]
    },
    {
     "name": "stderr",
     "output_type": "stream",
     "text": [
      "Train--Epoch [238/500]: 100%|██████████| 1500/1500 [00:34<00:00, 43.19it/s, acc=59.2, loss=0.655]\n",
      "Valid--Epoch [238/500]: 100%|██████████| 712/712 [00:05<00:00, 131.94it/s, acc=57.3, loss=0.816]"
     ]
    },
    {
     "name": "stdout",
     "output_type": "stream",
     "text": [
      "\n",
      " epoch: 239/500\n"
     ]
    },
    {
     "name": "stderr",
     "output_type": "stream",
     "text": [
      "\n",
      "Train--Epoch [239/500]: 100%|██████████| 1500/1500 [00:33<00:00, 44.64it/s, acc=59.4, loss=0.655]\n",
      "Valid--Epoch [239/500]: 100%|██████████| 712/712 [00:05<00:00, 131.34it/s, acc=57.4, loss=0.831]"
     ]
    },
    {
     "name": "stdout",
     "output_type": "stream",
     "text": [
      "\n",
      " epoch: 240/500\n"
     ]
    },
    {
     "name": "stderr",
     "output_type": "stream",
     "text": [
      "\n",
      "Train--Epoch [240/500]: 100%|██████████| 1500/1500 [00:33<00:00, 45.42it/s, acc=59.4, loss=0.655]\n",
      "Valid--Epoch [240/500]: 100%|██████████| 712/712 [00:05<00:00, 130.87it/s, acc=57.2, loss=0.807]\n"
     ]
    },
    {
     "name": "stdout",
     "output_type": "stream",
     "text": [
      "\n",
      " epoch: 241/500\n"
     ]
    },
    {
     "name": "stderr",
     "output_type": "stream",
     "text": [
      "Train--Epoch [241/500]: 100%|██████████| 1500/1500 [00:33<00:00, 45.41it/s, acc=59.4, loss=0.655]\n",
      "Valid--Epoch [241/500]: 100%|██████████| 712/712 [00:05<00:00, 130.50it/s, acc=57.3, loss=0.773]"
     ]
    },
    {
     "name": "stdout",
     "output_type": "stream",
     "text": [
      "\n",
      " epoch: 242/500\n"
     ]
    },
    {
     "name": "stderr",
     "output_type": "stream",
     "text": [
      "\n",
      "Train--Epoch [242/500]: 100%|██████████| 1500/1500 [00:33<00:00, 45.17it/s, acc=59.5, loss=0.655]\n",
      "Valid--Epoch [242/500]: 100%|██████████| 712/712 [00:05<00:00, 132.04it/s, acc=57.3, loss=0.85] "
     ]
    },
    {
     "name": "stdout",
     "output_type": "stream",
     "text": [
      "\n",
      " epoch: 243/500\n"
     ]
    },
    {
     "name": "stderr",
     "output_type": "stream",
     "text": [
      "\n",
      "Train--Epoch [243/500]: 100%|██████████| 1500/1500 [00:33<00:00, 44.83it/s, acc=59.4, loss=0.656]\n",
      "Valid--Epoch [243/500]: 100%|██████████| 712/712 [00:05<00:00, 132.06it/s, acc=57.2, loss=0.824]"
     ]
    },
    {
     "name": "stdout",
     "output_type": "stream",
     "text": [
      "\n",
      " epoch: 244/500\n"
     ]
    },
    {
     "name": "stderr",
     "output_type": "stream",
     "text": [
      "\n",
      "Train--Epoch [244/500]: 100%|██████████| 1500/1500 [00:34<00:00, 43.08it/s, acc=59.1, loss=0.656]\n",
      "Valid--Epoch [244/500]: 100%|██████████| 712/712 [00:05<00:00, 125.97it/s, acc=57.1, loss=0.85] \n"
     ]
    },
    {
     "name": "stdout",
     "output_type": "stream",
     "text": [
      "\n",
      " epoch: 245/500\n"
     ]
    },
    {
     "name": "stderr",
     "output_type": "stream",
     "text": [
      "Train--Epoch [245/500]: 100%|██████████| 1500/1500 [00:36<00:00, 41.07it/s, acc=59.2, loss=0.656]\n",
      "Valid--Epoch [245/500]: 100%|██████████| 712/712 [00:05<00:00, 121.27it/s, acc=56.7, loss=0.88] "
     ]
    },
    {
     "name": "stdout",
     "output_type": "stream",
     "text": [
      "\n",
      " epoch: 246/500\n"
     ]
    },
    {
     "name": "stderr",
     "output_type": "stream",
     "text": [
      "\n",
      "Train--Epoch [246/500]: 100%|██████████| 1500/1500 [00:35<00:00, 42.70it/s, acc=59.3, loss=0.655]\n",
      "Valid--Epoch [246/500]: 100%|██████████| 712/712 [00:06<00:00, 115.85it/s, acc=57, loss=0.839]  "
     ]
    },
    {
     "name": "stdout",
     "output_type": "stream",
     "text": [
      "\n",
      " epoch: 247/500\n"
     ]
    },
    {
     "name": "stderr",
     "output_type": "stream",
     "text": [
      "\n",
      "Train--Epoch [247/500]: 100%|██████████| 1500/1500 [00:35<00:00, 42.51it/s, acc=59, loss=0.656]  \n",
      "Valid--Epoch [247/500]: 100%|██████████| 712/712 [00:06<00:00, 117.19it/s, acc=56.9, loss=0.892]\n"
     ]
    },
    {
     "name": "stdout",
     "output_type": "stream",
     "text": [
      "\n",
      " epoch: 248/500\n"
     ]
    },
    {
     "name": "stderr",
     "output_type": "stream",
     "text": [
      "Train--Epoch [248/500]: 100%|██████████| 1500/1500 [00:34<00:00, 43.01it/s, acc=59.2, loss=0.655]\n",
      "Valid--Epoch [248/500]: 100%|██████████| 712/712 [00:05<00:00, 125.17it/s, acc=57, loss=0.865]  "
     ]
    },
    {
     "name": "stdout",
     "output_type": "stream",
     "text": [
      "\n",
      " epoch: 249/500\n"
     ]
    },
    {
     "name": "stderr",
     "output_type": "stream",
     "text": [
      "\n",
      "Train--Epoch [249/500]: 100%|██████████| 1500/1500 [00:34<00:00, 43.08it/s, acc=59.1, loss=0.657]\n",
      "Valid--Epoch [249/500]: 100%|██████████| 712/712 [00:05<00:00, 120.41it/s, acc=57.2, loss=0.907]"
     ]
    },
    {
     "name": "stdout",
     "output_type": "stream",
     "text": [
      "\n",
      " epoch: 250/500\n"
     ]
    },
    {
     "name": "stderr",
     "output_type": "stream",
     "text": [
      "\n",
      "Train--Epoch [250/500]: 100%|██████████| 1500/1500 [00:35<00:00, 42.42it/s, acc=59.2, loss=0.655]\n",
      "Valid--Epoch [250/500]: 100%|██████████| 712/712 [00:06<00:00, 116.98it/s, acc=57.4, loss=0.865]"
     ]
    },
    {
     "name": "stdout",
     "output_type": "stream",
     "text": [
      "\n",
      " epoch: 251/500\n"
     ]
    },
    {
     "name": "stderr",
     "output_type": "stream",
     "text": [
      "\n",
      "Train--Epoch [251/500]: 100%|██████████| 1500/1500 [00:34<00:00, 43.10it/s, acc=59.2, loss=0.655]\n",
      "Valid--Epoch [251/500]: 100%|██████████| 712/712 [00:05<00:00, 122.71it/s, acc=57.2, loss=0.879]"
     ]
    },
    {
     "name": "stdout",
     "output_type": "stream",
     "text": [
      "\n",
      " epoch: 252/500\n"
     ]
    },
    {
     "name": "stderr",
     "output_type": "stream",
     "text": [
      "\n",
      "Train--Epoch [252/500]: 100%|██████████| 1500/1500 [00:35<00:00, 42.39it/s, acc=59.2, loss=0.655]\n",
      "Valid--Epoch [252/500]: 100%|██████████| 712/712 [00:05<00:00, 128.70it/s, acc=57, loss=0.853]  \n"
     ]
    },
    {
     "name": "stdout",
     "output_type": "stream",
     "text": [
      "\n",
      " epoch: 253/500\n"
     ]
    },
    {
     "name": "stderr",
     "output_type": "stream",
     "text": [
      "Train--Epoch [253/500]: 100%|██████████| 1500/1500 [00:34<00:00, 43.17it/s, acc=59.1, loss=0.656]\n",
      "Valid--Epoch [253/500]: 100%|██████████| 712/712 [00:05<00:00, 123.90it/s, acc=57.1, loss=0.82] \n"
     ]
    },
    {
     "name": "stdout",
     "output_type": "stream",
     "text": [
      "\n",
      " epoch: 254/500\n"
     ]
    },
    {
     "name": "stderr",
     "output_type": "stream",
     "text": [
      "Train--Epoch [254/500]: 100%|██████████| 1500/1500 [00:34<00:00, 43.64it/s, acc=59.5, loss=0.655]\n",
      "Valid--Epoch [254/500]: 100%|██████████| 712/712 [00:05<00:00, 124.37it/s, acc=57.3, loss=0.814]\n"
     ]
    },
    {
     "name": "stdout",
     "output_type": "stream",
     "text": [
      "\n",
      " epoch: 255/500\n"
     ]
    },
    {
     "name": "stderr",
     "output_type": "stream",
     "text": [
      "Train--Epoch [255/500]: 100%|██████████| 1500/1500 [00:34<00:00, 43.75it/s, acc=59.2, loss=0.656]\n",
      "Valid--Epoch [255/500]: 100%|██████████| 712/712 [00:05<00:00, 122.90it/s, acc=57.4, loss=0.798]\n"
     ]
    },
    {
     "name": "stdout",
     "output_type": "stream",
     "text": [
      "\n",
      " epoch: 256/500\n"
     ]
    },
    {
     "name": "stderr",
     "output_type": "stream",
     "text": [
      "Train--Epoch [256/500]: 100%|██████████| 1500/1500 [00:34<00:00, 43.28it/s, acc=59.2, loss=0.655]\n",
      "Valid--Epoch [256/500]: 100%|██████████| 712/712 [00:05<00:00, 127.51it/s, acc=57.1, loss=0.835]"
     ]
    },
    {
     "name": "stdout",
     "output_type": "stream",
     "text": [
      "\n",
      " epoch: 257/500\n"
     ]
    },
    {
     "name": "stderr",
     "output_type": "stream",
     "text": [
      "\n",
      "Train--Epoch [257/500]: 100%|██████████| 1500/1500 [00:36<00:00, 41.62it/s, acc=59.4, loss=0.654]\n",
      "Valid--Epoch [257/500]: 100%|██████████| 712/712 [00:05<00:00, 124.67it/s, acc=57.2, loss=0.831]"
     ]
    },
    {
     "name": "stdout",
     "output_type": "stream",
     "text": [
      "\n",
      " epoch: 258/500\n"
     ]
    },
    {
     "name": "stderr",
     "output_type": "stream",
     "text": [
      "\n",
      "Train--Epoch [258/500]: 100%|██████████| 1500/1500 [00:34<00:00, 43.27it/s, acc=59.3, loss=0.656]\n",
      "Valid--Epoch [258/500]: 100%|██████████| 712/712 [00:05<00:00, 126.57it/s, acc=57.3, loss=0.863]"
     ]
    },
    {
     "name": "stdout",
     "output_type": "stream",
     "text": [
      "\n",
      " epoch: 259/500\n"
     ]
    },
    {
     "name": "stderr",
     "output_type": "stream",
     "text": [
      "\n",
      "Train--Epoch [259/500]: 100%|██████████| 1500/1500 [00:34<00:00, 43.49it/s, acc=59.4, loss=0.656]\n",
      "Valid--Epoch [259/500]: 100%|██████████| 712/712 [00:06<00:00, 104.69it/s, acc=57.5, loss=0.858]"
     ]
    },
    {
     "name": "stdout",
     "output_type": "stream",
     "text": [
      "\n",
      " epoch: 260/500\n"
     ]
    },
    {
     "name": "stderr",
     "output_type": "stream",
     "text": [
      "\n",
      "Train--Epoch [260/500]: 100%|██████████| 1500/1500 [00:34<00:00, 42.92it/s, acc=59.2, loss=0.656]\n",
      "Valid--Epoch [260/500]: 100%|██████████| 712/712 [00:05<00:00, 129.22it/s, acc=57.4, loss=0.751]\n"
     ]
    },
    {
     "name": "stdout",
     "output_type": "stream",
     "text": [
      "\n",
      " epoch: 261/500\n"
     ]
    },
    {
     "name": "stderr",
     "output_type": "stream",
     "text": [
      "Train--Epoch [261/500]: 100%|██████████| 1500/1500 [00:34<00:00, 43.97it/s, acc=59.3, loss=0.655]\n",
      "Valid--Epoch [261/500]: 100%|██████████| 712/712 [00:05<00:00, 125.63it/s, acc=57.2, loss=0.886]\n"
     ]
    },
    {
     "name": "stdout",
     "output_type": "stream",
     "text": [
      "\n",
      " epoch: 262/500\n"
     ]
    },
    {
     "name": "stderr",
     "output_type": "stream",
     "text": [
      "Train--Epoch [262/500]: 100%|██████████| 1500/1500 [00:36<00:00, 41.59it/s, acc=59.1, loss=0.656]\n",
      "Valid--Epoch [262/500]: 100%|██████████| 712/712 [00:06<00:00, 113.54it/s, acc=57.6, loss=0.787]"
     ]
    },
    {
     "name": "stdout",
     "output_type": "stream",
     "text": [
      "\n",
      " epoch: 263/500\n"
     ]
    },
    {
     "name": "stderr",
     "output_type": "stream",
     "text": [
      "\n",
      "Train--Epoch [263/500]: 100%|██████████| 1500/1500 [00:35<00:00, 42.80it/s, acc=59.3, loss=0.656]\n",
      "Valid--Epoch [263/500]: 100%|██████████| 712/712 [00:05<00:00, 125.92it/s, acc=57.4, loss=0.807]"
     ]
    },
    {
     "name": "stdout",
     "output_type": "stream",
     "text": [
      "\n",
      " epoch: 264/500\n"
     ]
    },
    {
     "name": "stderr",
     "output_type": "stream",
     "text": [
      "\n",
      "Train--Epoch [264/500]: 100%|██████████| 1500/1500 [00:32<00:00, 45.91it/s, acc=59.2, loss=0.655]\n",
      "Valid--Epoch [264/500]: 100%|██████████| 712/712 [00:05<00:00, 130.98it/s, acc=57, loss=0.836]  "
     ]
    },
    {
     "name": "stdout",
     "output_type": "stream",
     "text": [
      "\n",
      " epoch: 265/500\n"
     ]
    },
    {
     "name": "stderr",
     "output_type": "stream",
     "text": [
      "\n",
      "Train--Epoch [265/500]: 100%|██████████| 1500/1500 [00:34<00:00, 42.89it/s, acc=59.2, loss=0.656]\n",
      "Valid--Epoch [265/500]: 100%|██████████| 712/712 [00:05<00:00, 129.87it/s, acc=57.2, loss=0.853]"
     ]
    },
    {
     "name": "stdout",
     "output_type": "stream",
     "text": [
      "\n",
      " epoch: 266/500\n"
     ]
    },
    {
     "name": "stderr",
     "output_type": "stream",
     "text": [
      "\n",
      "Train--Epoch [266/500]: 100%|██████████| 1500/1500 [00:33<00:00, 45.20it/s, acc=59.5, loss=0.655]\n",
      "Valid--Epoch [266/500]: 100%|██████████| 712/712 [00:05<00:00, 129.44it/s, acc=56.9, loss=0.872]\n"
     ]
    },
    {
     "name": "stdout",
     "output_type": "stream",
     "text": [
      "\n",
      " epoch: 267/500\n"
     ]
    },
    {
     "name": "stderr",
     "output_type": "stream",
     "text": [
      "Train--Epoch [267/500]: 100%|██████████| 1500/1500 [00:33<00:00, 44.27it/s, acc=59.5, loss=0.655]\n",
      "Valid--Epoch [267/500]: 100%|██████████| 712/712 [00:05<00:00, 136.90it/s, acc=56.8, loss=0.915]"
     ]
    },
    {
     "name": "stdout",
     "output_type": "stream",
     "text": [
      "\n",
      " epoch: 268/500\n"
     ]
    },
    {
     "name": "stderr",
     "output_type": "stream",
     "text": [
      "\n",
      "Train--Epoch [268/500]: 100%|██████████| 1500/1500 [00:32<00:00, 46.76it/s, acc=59.3, loss=0.656]\n",
      "Valid--Epoch [268/500]: 100%|██████████| 712/712 [00:05<00:00, 135.29it/s, acc=57.5, loss=0.847]"
     ]
    },
    {
     "name": "stdout",
     "output_type": "stream",
     "text": [
      "\n",
      " epoch: 269/500\n"
     ]
    },
    {
     "name": "stderr",
     "output_type": "stream",
     "text": [
      "\n",
      "Train--Epoch [269/500]: 100%|██████████| 1500/1500 [00:33<00:00, 44.82it/s, acc=59, loss=0.657]  \n",
      "Valid--Epoch [269/500]: 100%|██████████| 712/712 [00:05<00:00, 124.32it/s, acc=57.2, loss=0.837]"
     ]
    },
    {
     "name": "stdout",
     "output_type": "stream",
     "text": [
      "\n",
      " epoch: 270/500\n"
     ]
    },
    {
     "name": "stderr",
     "output_type": "stream",
     "text": [
      "\n",
      "Train--Epoch [270/500]: 100%|██████████| 1500/1500 [00:35<00:00, 42.38it/s, acc=59.4, loss=0.656]\n",
      "Valid--Epoch [270/500]: 100%|██████████| 712/712 [00:06<00:00, 117.55it/s, acc=57.2, loss=0.875]"
     ]
    },
    {
     "name": "stdout",
     "output_type": "stream",
     "text": [
      "\n",
      " epoch: 271/500\n"
     ]
    },
    {
     "name": "stderr",
     "output_type": "stream",
     "text": [
      "\n",
      "Train--Epoch [271/500]: 100%|██████████| 1500/1500 [00:34<00:00, 43.56it/s, acc=59.1, loss=0.657]\n",
      "Valid--Epoch [271/500]: 100%|██████████| 712/712 [00:05<00:00, 123.58it/s, acc=57, loss=0.81]   \n"
     ]
    },
    {
     "name": "stdout",
     "output_type": "stream",
     "text": [
      "\n",
      " epoch: 272/500\n"
     ]
    },
    {
     "name": "stderr",
     "output_type": "stream",
     "text": [
      "Train--Epoch [272/500]: 100%|██████████| 1500/1500 [00:33<00:00, 44.62it/s, acc=59.2, loss=0.656]\n",
      "Valid--Epoch [272/500]: 100%|██████████| 712/712 [00:05<00:00, 127.79it/s, acc=57.1, loss=0.765]"
     ]
    },
    {
     "name": "stdout",
     "output_type": "stream",
     "text": [
      "\n",
      " epoch: 273/500\n"
     ]
    },
    {
     "name": "stderr",
     "output_type": "stream",
     "text": [
      "\n",
      "Train--Epoch [273/500]: 100%|██████████| 1500/1500 [00:32<00:00, 45.68it/s, acc=59.2, loss=0.656]\n",
      "Valid--Epoch [273/500]: 100%|██████████| 712/712 [00:05<00:00, 136.51it/s, acc=57, loss=0.845]  "
     ]
    },
    {
     "name": "stdout",
     "output_type": "stream",
     "text": [
      "\n",
      " epoch: 274/500\n"
     ]
    },
    {
     "name": "stderr",
     "output_type": "stream",
     "text": [
      "\n",
      "Train--Epoch [274/500]: 100%|██████████| 1500/1500 [00:34<00:00, 43.88it/s, acc=59.1, loss=0.656]\n",
      "Valid--Epoch [274/500]: 100%|██████████| 712/712 [00:05<00:00, 129.56it/s, acc=57, loss=0.813]  "
     ]
    },
    {
     "name": "stdout",
     "output_type": "stream",
     "text": [
      "\n",
      " epoch: 275/500\n"
     ]
    },
    {
     "name": "stderr",
     "output_type": "stream",
     "text": [
      "\n",
      "Train--Epoch [275/500]: 100%|██████████| 1500/1500 [00:34<00:00, 44.08it/s, acc=59.2, loss=0.656]\n",
      "Valid--Epoch [275/500]: 100%|██████████| 712/712 [00:05<00:00, 124.74it/s, acc=57.3, loss=0.818]"
     ]
    },
    {
     "name": "stdout",
     "output_type": "stream",
     "text": [
      "\n",
      " epoch: 276/500\n"
     ]
    },
    {
     "name": "stderr",
     "output_type": "stream",
     "text": [
      "\n",
      "Train--Epoch [276/500]: 100%|██████████| 1500/1500 [00:33<00:00, 45.31it/s, acc=59.1, loss=0.656]\n",
      "Valid--Epoch [276/500]: 100%|██████████| 712/712 [00:05<00:00, 121.14it/s, acc=57.3, loss=0.791]"
     ]
    },
    {
     "name": "stdout",
     "output_type": "stream",
     "text": [
      "\n",
      " epoch: 277/500\n"
     ]
    },
    {
     "name": "stderr",
     "output_type": "stream",
     "text": [
      "\n",
      "Train--Epoch [277/500]: 100%|██████████| 1500/1500 [00:33<00:00, 44.47it/s, acc=59.4, loss=0.655]\n",
      "Valid--Epoch [277/500]: 100%|██████████| 712/712 [00:05<00:00, 119.21it/s, acc=57, loss=0.813]  \n"
     ]
    },
    {
     "name": "stdout",
     "output_type": "stream",
     "text": [
      "\n",
      " epoch: 278/500\n"
     ]
    },
    {
     "name": "stderr",
     "output_type": "stream",
     "text": [
      "Train--Epoch [278/500]: 100%|██████████| 1500/1500 [00:33<00:00, 44.47it/s, acc=59.5, loss=0.655]\n",
      "Valid--Epoch [278/500]: 100%|██████████| 712/712 [00:05<00:00, 123.73it/s, acc=57.1, loss=0.814]\n"
     ]
    },
    {
     "name": "stdout",
     "output_type": "stream",
     "text": [
      "\n",
      " epoch: 279/500\n"
     ]
    },
    {
     "name": "stderr",
     "output_type": "stream",
     "text": [
      "Train--Epoch [279/500]: 100%|██████████| 1500/1500 [00:33<00:00, 44.56it/s, acc=59.2, loss=0.656]\n",
      "Valid--Epoch [279/500]: 100%|██████████| 712/712 [00:05<00:00, 118.82it/s, acc=57.4, loss=0.823]"
     ]
    },
    {
     "name": "stdout",
     "output_type": "stream",
     "text": [
      "\n",
      " epoch: 280/500\n"
     ]
    },
    {
     "name": "stderr",
     "output_type": "stream",
     "text": [
      "\n",
      "Train--Epoch [280/500]: 100%|██████████| 1500/1500 [00:33<00:00, 44.30it/s, acc=59.4, loss=0.656]\n",
      "Valid--Epoch [280/500]: 100%|██████████| 712/712 [00:05<00:00, 131.47it/s, acc=57.4, loss=0.756]"
     ]
    },
    {
     "name": "stdout",
     "output_type": "stream",
     "text": [
      "\n",
      " epoch: 281/500\n"
     ]
    },
    {
     "name": "stderr",
     "output_type": "stream",
     "text": [
      "\n",
      "Train--Epoch [281/500]: 100%|██████████| 1500/1500 [00:33<00:00, 45.45it/s, acc=59.2, loss=0.655]\n",
      "Valid--Epoch [281/500]: 100%|██████████| 712/712 [00:05<00:00, 120.24it/s, acc=56.9, loss=0.844]\n"
     ]
    },
    {
     "name": "stdout",
     "output_type": "stream",
     "text": [
      "\n",
      " epoch: 282/500\n"
     ]
    },
    {
     "name": "stderr",
     "output_type": "stream",
     "text": [
      "Train--Epoch [282/500]: 100%|██████████| 1500/1500 [00:35<00:00, 42.09it/s, acc=59.3, loss=0.656]\n",
      "Valid--Epoch [282/500]: 100%|██████████| 712/712 [00:06<00:00, 107.85it/s, acc=57.2, loss=0.781]"
     ]
    },
    {
     "name": "stdout",
     "output_type": "stream",
     "text": [
      "\n",
      " epoch: 283/500\n"
     ]
    },
    {
     "name": "stderr",
     "output_type": "stream",
     "text": [
      "\n",
      "Train--Epoch [283/500]: 100%|██████████| 1500/1500 [00:34<00:00, 44.06it/s, acc=59.3, loss=0.655]\n",
      "Valid--Epoch [283/500]: 100%|██████████| 712/712 [00:05<00:00, 130.63it/s, acc=57.4, loss=0.784]\n"
     ]
    },
    {
     "name": "stdout",
     "output_type": "stream",
     "text": [
      "\n",
      " epoch: 284/500\n"
     ]
    },
    {
     "name": "stderr",
     "output_type": "stream",
     "text": [
      "Train--Epoch [284/500]: 100%|██████████| 1500/1500 [00:32<00:00, 46.02it/s, acc=59.5, loss=0.655]\n",
      "Valid--Epoch [284/500]: 100%|██████████| 712/712 [00:05<00:00, 130.06it/s, acc=57.5, loss=0.827]\n"
     ]
    },
    {
     "name": "stdout",
     "output_type": "stream",
     "text": [
      "\n",
      " epoch: 285/500\n"
     ]
    },
    {
     "name": "stderr",
     "output_type": "stream",
     "text": [
      "Train--Epoch [285/500]: 100%|██████████| 1500/1500 [00:32<00:00, 45.89it/s, acc=59.4, loss=0.655]\n",
      "Valid--Epoch [285/500]: 100%|██████████| 712/712 [00:05<00:00, 129.22it/s, acc=57.4, loss=0.858]"
     ]
    },
    {
     "name": "stdout",
     "output_type": "stream",
     "text": [
      "\n",
      " epoch: 286/500\n"
     ]
    },
    {
     "name": "stderr",
     "output_type": "stream",
     "text": [
      "\n",
      "Train--Epoch [286/500]: 100%|██████████| 1500/1500 [00:32<00:00, 45.60it/s, acc=59.4, loss=0.655]\n",
      "Valid--Epoch [286/500]: 100%|██████████| 712/712 [00:05<00:00, 130.96it/s, acc=57.2, loss=0.849]"
     ]
    },
    {
     "name": "stdout",
     "output_type": "stream",
     "text": [
      "\n",
      " epoch: 287/500\n"
     ]
    },
    {
     "name": "stderr",
     "output_type": "stream",
     "text": [
      "\n",
      "Train--Epoch [287/500]: 100%|██████████| 1500/1500 [00:33<00:00, 45.17it/s, acc=59.5, loss=0.655]\n",
      "Valid--Epoch [287/500]: 100%|██████████| 712/712 [00:05<00:00, 130.63it/s, acc=57.4, loss=0.832]\n"
     ]
    },
    {
     "name": "stdout",
     "output_type": "stream",
     "text": [
      "\n",
      " epoch: 288/500\n"
     ]
    },
    {
     "name": "stderr",
     "output_type": "stream",
     "text": [
      "Train--Epoch [288/500]: 100%|██████████| 1500/1500 [00:32<00:00, 46.05it/s, acc=59.3, loss=0.655]\n",
      "Valid--Epoch [288/500]: 100%|██████████| 712/712 [00:05<00:00, 131.45it/s, acc=57, loss=0.835]  "
     ]
    },
    {
     "name": "stdout",
     "output_type": "stream",
     "text": [
      "\n",
      " epoch: 289/500\n"
     ]
    },
    {
     "name": "stderr",
     "output_type": "stream",
     "text": [
      "\n",
      "Train--Epoch [289/500]: 100%|██████████| 1500/1500 [00:33<00:00, 45.09it/s, acc=59.1, loss=0.655]\n",
      "Valid--Epoch [289/500]: 100%|██████████| 712/712 [00:05<00:00, 129.86it/s, acc=56.6, loss=0.844]"
     ]
    },
    {
     "name": "stdout",
     "output_type": "stream",
     "text": [
      "\n",
      " epoch: 290/500\n"
     ]
    },
    {
     "name": "stderr",
     "output_type": "stream",
     "text": [
      "\n",
      "Train--Epoch [290/500]: 100%|██████████| 1500/1500 [00:32<00:00, 45.72it/s, acc=59.6, loss=0.654]\n",
      "Valid--Epoch [290/500]: 100%|██████████| 712/712 [00:05<00:00, 130.46it/s, acc=57.4, loss=0.818]\n"
     ]
    },
    {
     "name": "stdout",
     "output_type": "stream",
     "text": [
      "\n",
      " epoch: 291/500\n"
     ]
    },
    {
     "name": "stderr",
     "output_type": "stream",
     "text": [
      "Train--Epoch [291/500]: 100%|██████████| 1500/1500 [00:32<00:00, 45.98it/s, acc=59.3, loss=0.656]\n",
      "Valid--Epoch [291/500]: 100%|██████████| 712/712 [00:05<00:00, 130.16it/s, acc=57.5, loss=0.868]\n"
     ]
    },
    {
     "name": "stdout",
     "output_type": "stream",
     "text": [
      "\n",
      " epoch: 292/500\n"
     ]
    },
    {
     "name": "stderr",
     "output_type": "stream",
     "text": [
      "Train--Epoch [292/500]: 100%|██████████| 1500/1500 [00:32<00:00, 45.73it/s, acc=59.4, loss=0.656]\n",
      "Valid--Epoch [292/500]: 100%|██████████| 712/712 [00:05<00:00, 129.79it/s, acc=57.6, loss=0.845]"
     ]
    },
    {
     "name": "stdout",
     "output_type": "stream",
     "text": [
      "\n",
      " epoch: 293/500\n"
     ]
    },
    {
     "name": "stderr",
     "output_type": "stream",
     "text": [
      "\n",
      "Train--Epoch [293/500]: 100%|██████████| 1500/1500 [00:33<00:00, 45.44it/s, acc=59.4, loss=0.656]\n",
      "Valid--Epoch [293/500]: 100%|██████████| 712/712 [00:05<00:00, 130.26it/s, acc=57.8, loss=0.822]\n"
     ]
    },
    {
     "name": "stdout",
     "output_type": "stream",
     "text": [
      "\n",
      " epoch: 294/500\n"
     ]
    },
    {
     "name": "stderr",
     "output_type": "stream",
     "text": [
      "Train--Epoch [294/500]: 100%|██████████| 1500/1500 [00:32<00:00, 45.65it/s, acc=59.4, loss=0.656]\n",
      "Valid--Epoch [294/500]: 100%|██████████| 712/712 [00:05<00:00, 131.42it/s, acc=57.7, loss=0.798]"
     ]
    },
    {
     "name": "stdout",
     "output_type": "stream",
     "text": [
      "\n",
      " epoch: 295/500\n"
     ]
    },
    {
     "name": "stderr",
     "output_type": "stream",
     "text": [
      "\n",
      "Train--Epoch [295/500]: 100%|██████████| 1500/1500 [00:33<00:00, 45.13it/s, acc=59.4, loss=0.656]\n",
      "Valid--Epoch [295/500]: 100%|██████████| 712/712 [00:05<00:00, 128.62it/s, acc=57.5, loss=0.806]\n"
     ]
    },
    {
     "name": "stdout",
     "output_type": "stream",
     "text": [
      "\n",
      " epoch: 296/500\n"
     ]
    },
    {
     "name": "stderr",
     "output_type": "stream",
     "text": [
      "Train--Epoch [296/500]: 100%|██████████| 1500/1500 [00:32<00:00, 45.65it/s, acc=59.1, loss=0.656]\n",
      "Valid--Epoch [296/500]: 100%|██████████| 712/712 [00:05<00:00, 130.15it/s, acc=57.6, loss=0.822]\n"
     ]
    },
    {
     "name": "stdout",
     "output_type": "stream",
     "text": [
      "\n",
      " epoch: 297/500\n"
     ]
    },
    {
     "name": "stderr",
     "output_type": "stream",
     "text": [
      "Train--Epoch [297/500]: 100%|██████████| 1500/1500 [00:32<00:00, 45.59it/s, acc=59.2, loss=0.656]\n",
      "Valid--Epoch [297/500]: 100%|██████████| 712/712 [00:05<00:00, 130.02it/s, acc=57.3, loss=0.874]"
     ]
    },
    {
     "name": "stdout",
     "output_type": "stream",
     "text": [
      "\n",
      " epoch: 298/500\n"
     ]
    },
    {
     "name": "stderr",
     "output_type": "stream",
     "text": [
      "\n",
      "Train--Epoch [298/500]: 100%|██████████| 1500/1500 [00:34<00:00, 43.82it/s, acc=59.5, loss=0.656]\n",
      "Valid--Epoch [298/500]: 100%|██████████| 712/712 [00:05<00:00, 130.00it/s, acc=57.4, loss=0.84] "
     ]
    },
    {
     "name": "stdout",
     "output_type": "stream",
     "text": [
      "\n",
      " epoch: 299/500\n"
     ]
    },
    {
     "name": "stderr",
     "output_type": "stream",
     "text": [
      "\n",
      "Train--Epoch [299/500]: 100%|██████████| 1500/1500 [00:32<00:00, 45.68it/s, acc=59.4, loss=0.655]\n",
      "Valid--Epoch [299/500]: 100%|██████████| 712/712 [00:05<00:00, 129.06it/s, acc=57.5, loss=0.837]"
     ]
    },
    {
     "name": "stdout",
     "output_type": "stream",
     "text": [
      "\n",
      " epoch: 300/500\n"
     ]
    },
    {
     "name": "stderr",
     "output_type": "stream",
     "text": [
      "\n",
      "Train--Epoch [300/500]: 100%|██████████| 1500/1500 [00:32<00:00, 45.65it/s, acc=59.4, loss=0.654]\n",
      "Valid--Epoch [300/500]: 100%|██████████| 712/712 [00:05<00:00, 128.37it/s, acc=57.5, loss=0.826]"
     ]
    },
    {
     "name": "stdout",
     "output_type": "stream",
     "text": [
      "\n",
      " epoch: 301/500\n"
     ]
    },
    {
     "name": "stderr",
     "output_type": "stream",
     "text": [
      "\n",
      "Train--Epoch [301/500]: 100%|██████████| 1500/1500 [00:32<00:00, 45.63it/s, acc=59.3, loss=0.655]\n",
      "Valid--Epoch [301/500]: 100%|██████████| 712/712 [00:05<00:00, 128.46it/s, acc=57.5, loss=0.804]"
     ]
    },
    {
     "name": "stdout",
     "output_type": "stream",
     "text": [
      "\n",
      " epoch: 302/500\n"
     ]
    },
    {
     "name": "stderr",
     "output_type": "stream",
     "text": [
      "\n",
      "Train--Epoch [302/500]: 100%|██████████| 1500/1500 [00:32<00:00, 45.78it/s, acc=59.5, loss=0.655]\n",
      "Valid--Epoch [302/500]: 100%|██████████| 712/712 [00:05<00:00, 129.72it/s, acc=57.4, loss=0.838]\n"
     ]
    },
    {
     "name": "stdout",
     "output_type": "stream",
     "text": [
      "\n",
      " epoch: 303/500\n"
     ]
    },
    {
     "name": "stderr",
     "output_type": "stream",
     "text": [
      "Train--Epoch [303/500]: 100%|██████████| 1500/1500 [00:32<00:00, 45.67it/s, acc=59.5, loss=0.654]\n",
      "Valid--Epoch [303/500]: 100%|██████████| 712/712 [00:05<00:00, 129.89it/s, acc=57.2, loss=0.87] \n"
     ]
    },
    {
     "name": "stdout",
     "output_type": "stream",
     "text": [
      "\n",
      " epoch: 304/500\n"
     ]
    },
    {
     "name": "stderr",
     "output_type": "stream",
     "text": [
      "Train--Epoch [304/500]: 100%|██████████| 1500/1500 [00:33<00:00, 45.45it/s, acc=59.4, loss=0.655]\n",
      "Valid--Epoch [304/500]: 100%|██████████| 712/712 [00:05<00:00, 131.59it/s, acc=57.3, loss=0.86] \n"
     ]
    },
    {
     "name": "stdout",
     "output_type": "stream",
     "text": [
      "\n",
      " epoch: 305/500\n"
     ]
    },
    {
     "name": "stderr",
     "output_type": "stream",
     "text": [
      "Train--Epoch [305/500]: 100%|██████████| 1500/1500 [00:32<00:00, 45.80it/s, acc=59.6, loss=0.655]\n",
      "Valid--Epoch [305/500]: 100%|██████████| 712/712 [00:05<00:00, 130.72it/s, acc=57.7, loss=0.855]"
     ]
    },
    {
     "name": "stdout",
     "output_type": "stream",
     "text": [
      "\n",
      " epoch: 306/500\n"
     ]
    },
    {
     "name": "stderr",
     "output_type": "stream",
     "text": [
      "\n",
      "Train--Epoch [306/500]: 100%|██████████| 1500/1500 [00:32<00:00, 45.50it/s, acc=59.5, loss=0.654]\n",
      "Valid--Epoch [306/500]: 100%|██████████| 712/712 [00:05<00:00, 129.44it/s, acc=57.4, loss=0.871]"
     ]
    },
    {
     "name": "stdout",
     "output_type": "stream",
     "text": [
      "\n",
      " epoch: 307/500\n"
     ]
    },
    {
     "name": "stderr",
     "output_type": "stream",
     "text": [
      "\n",
      "Train--Epoch [307/500]: 100%|██████████| 1500/1500 [00:32<00:00, 45.56it/s, acc=59.4, loss=0.655]\n",
      "Valid--Epoch [307/500]: 100%|██████████| 712/712 [00:05<00:00, 128.84it/s, acc=57.3, loss=0.832]"
     ]
    },
    {
     "name": "stdout",
     "output_type": "stream",
     "text": [
      "\n",
      " epoch: 308/500\n"
     ]
    },
    {
     "name": "stderr",
     "output_type": "stream",
     "text": [
      "\n",
      "Train--Epoch [308/500]: 100%|██████████| 1500/1500 [00:33<00:00, 45.39it/s, acc=59.6, loss=0.655]\n",
      "Valid--Epoch [308/500]: 100%|██████████| 712/712 [00:05<00:00, 129.75it/s, acc=57.4, loss=0.869]"
     ]
    },
    {
     "name": "stdout",
     "output_type": "stream",
     "text": [
      "\n",
      " epoch: 309/500\n"
     ]
    },
    {
     "name": "stderr",
     "output_type": "stream",
     "text": [
      "\n",
      "Train--Epoch [309/500]: 100%|██████████| 1500/1500 [00:32<00:00, 45.63it/s, acc=59.5, loss=0.655]\n",
      "Valid--Epoch [309/500]: 100%|██████████| 712/712 [00:05<00:00, 129.95it/s, acc=57.6, loss=0.893]\n"
     ]
    },
    {
     "name": "stdout",
     "output_type": "stream",
     "text": [
      "\n",
      " epoch: 310/500\n"
     ]
    },
    {
     "name": "stderr",
     "output_type": "stream",
     "text": [
      "Train--Epoch [310/500]: 100%|██████████| 1500/1500 [00:32<00:00, 45.95it/s, acc=59.2, loss=0.656]\n",
      "Valid--Epoch [310/500]: 100%|██████████| 712/712 [00:05<00:00, 121.01it/s, acc=57.5, loss=0.871]\n"
     ]
    },
    {
     "name": "stdout",
     "output_type": "stream",
     "text": [
      "\n",
      " epoch: 311/500\n"
     ]
    },
    {
     "name": "stderr",
     "output_type": "stream",
     "text": [
      "Train--Epoch [311/500]: 100%|██████████| 1500/1500 [00:32<00:00, 45.70it/s, acc=59.4, loss=0.655]\n",
      "Valid--Epoch [311/500]: 100%|██████████| 712/712 [00:05<00:00, 130.34it/s, acc=57.5, loss=0.817]"
     ]
    },
    {
     "name": "stdout",
     "output_type": "stream",
     "text": [
      "\n",
      " epoch: 312/500\n"
     ]
    },
    {
     "name": "stderr",
     "output_type": "stream",
     "text": [
      "\n",
      "Train--Epoch [312/500]: 100%|██████████| 1500/1500 [00:32<00:00, 45.47it/s, acc=59.4, loss=0.655]\n",
      "Valid--Epoch [312/500]: 100%|██████████| 712/712 [00:05<00:00, 128.68it/s, acc=57.6, loss=0.846]"
     ]
    },
    {
     "name": "stdout",
     "output_type": "stream",
     "text": [
      "\n",
      " epoch: 313/500\n"
     ]
    },
    {
     "name": "stderr",
     "output_type": "stream",
     "text": [
      "\n",
      "Train--Epoch [313/500]: 100%|██████████| 1500/1500 [00:32<00:00, 45.58it/s, acc=59.9, loss=0.653]\n",
      "Valid--Epoch [313/500]: 100%|██████████| 712/712 [00:05<00:00, 130.31it/s, acc=57.4, loss=0.936]\n"
     ]
    },
    {
     "name": "stdout",
     "output_type": "stream",
     "text": [
      "\n",
      " epoch: 314/500\n"
     ]
    },
    {
     "name": "stderr",
     "output_type": "stream",
     "text": [
      "Train--Epoch [314/500]: 100%|██████████| 1500/1500 [00:33<00:00, 45.38it/s, acc=59.5, loss=0.655]\n",
      "Valid--Epoch [314/500]: 100%|██████████| 712/712 [00:05<00:00, 130.50it/s, acc=57.5, loss=0.862]"
     ]
    },
    {
     "name": "stdout",
     "output_type": "stream",
     "text": [
      "\n",
      " epoch: 315/500\n"
     ]
    },
    {
     "name": "stderr",
     "output_type": "stream",
     "text": [
      "\n",
      "Train--Epoch [315/500]: 100%|██████████| 1500/1500 [00:32<00:00, 45.58it/s, acc=59.8, loss=0.653]\n",
      "Valid--Epoch [315/500]: 100%|██████████| 712/712 [00:05<00:00, 130.59it/s, acc=57.6, loss=0.855]"
     ]
    },
    {
     "name": "stdout",
     "output_type": "stream",
     "text": [
      "\n",
      " epoch: 316/500\n"
     ]
    },
    {
     "name": "stderr",
     "output_type": "stream",
     "text": [
      "\n",
      "Train--Epoch [316/500]: 100%|██████████| 1500/1500 [00:32<00:00, 46.15it/s, acc=59.5, loss=0.654]\n",
      "Valid--Epoch [316/500]: 100%|██████████| 712/712 [00:05<00:00, 128.98it/s, acc=57.5, loss=0.866]\n"
     ]
    },
    {
     "name": "stdout",
     "output_type": "stream",
     "text": [
      "\n",
      " epoch: 317/500\n"
     ]
    },
    {
     "name": "stderr",
     "output_type": "stream",
     "text": [
      "Train--Epoch [317/500]: 100%|██████████| 1500/1500 [00:32<00:00, 46.19it/s, acc=59.3, loss=0.655]\n",
      "Valid--Epoch [317/500]: 100%|██████████| 712/712 [00:05<00:00, 130.09it/s, acc=57.5, loss=0.884]\n"
     ]
    },
    {
     "name": "stdout",
     "output_type": "stream",
     "text": [
      "\n",
      " epoch: 318/500\n"
     ]
    },
    {
     "name": "stderr",
     "output_type": "stream",
     "text": [
      "Train--Epoch [318/500]: 100%|██████████| 1500/1500 [00:32<00:00, 46.01it/s, acc=59.7, loss=0.654]\n",
      "Valid--Epoch [318/500]: 100%|██████████| 712/712 [00:05<00:00, 129.80it/s, acc=57.6, loss=0.869]\n"
     ]
    },
    {
     "name": "stdout",
     "output_type": "stream",
     "text": [
      "\n",
      " epoch: 319/500\n"
     ]
    },
    {
     "name": "stderr",
     "output_type": "stream",
     "text": [
      "Train--Epoch [319/500]: 100%|██████████| 1500/1500 [00:32<00:00, 45.75it/s, acc=59.7, loss=0.653]\n",
      "Valid--Epoch [319/500]: 100%|██████████| 712/712 [00:05<00:00, 130.19it/s, acc=57.5, loss=0.881]\n"
     ]
    },
    {
     "name": "stdout",
     "output_type": "stream",
     "text": [
      "\n",
      " epoch: 320/500\n"
     ]
    },
    {
     "name": "stderr",
     "output_type": "stream",
     "text": [
      "Train--Epoch [320/500]: 100%|██████████| 1500/1500 [00:32<00:00, 45.60it/s, acc=59.5, loss=0.654]\n",
      "Valid--Epoch [320/500]: 100%|██████████| 712/712 [00:05<00:00, 130.60it/s, acc=57.5, loss=0.875]\n"
     ]
    },
    {
     "name": "stdout",
     "output_type": "stream",
     "text": [
      "\n",
      " epoch: 321/500\n"
     ]
    },
    {
     "name": "stderr",
     "output_type": "stream",
     "text": [
      "Train--Epoch [321/500]: 100%|██████████| 1500/1500 [00:32<00:00, 45.55it/s, acc=59.5, loss=0.654]\n",
      "Valid--Epoch [321/500]: 100%|██████████| 712/712 [00:05<00:00, 129.14it/s, acc=57.3, loss=0.909]\n"
     ]
    },
    {
     "name": "stdout",
     "output_type": "stream",
     "text": [
      "\n",
      " epoch: 322/500\n"
     ]
    },
    {
     "name": "stderr",
     "output_type": "stream",
     "text": [
      "Train--Epoch [322/500]: 100%|██████████| 1500/1500 [00:32<00:00, 45.57it/s, acc=59.4, loss=0.654]\n",
      "Valid--Epoch [322/500]: 100%|██████████| 712/712 [00:05<00:00, 129.93it/s, acc=57.7, loss=0.924]\n"
     ]
    },
    {
     "name": "stdout",
     "output_type": "stream",
     "text": [
      "\n",
      " epoch: 323/500\n"
     ]
    },
    {
     "name": "stderr",
     "output_type": "stream",
     "text": [
      "Train--Epoch [323/500]: 100%|██████████| 1500/1500 [00:32<00:00, 45.96it/s, acc=59.5, loss=0.654]\n",
      "Valid--Epoch [323/500]: 100%|██████████| 712/712 [00:05<00:00, 130.25it/s, acc=57.4, loss=0.86] "
     ]
    },
    {
     "name": "stdout",
     "output_type": "stream",
     "text": [
      "\n",
      " epoch: 324/500\n"
     ]
    },
    {
     "name": "stderr",
     "output_type": "stream",
     "text": [
      "\n",
      "Train--Epoch [324/500]: 100%|██████████| 1500/1500 [00:32<00:00, 45.61it/s, acc=59.6, loss=0.655]\n",
      "Valid--Epoch [324/500]: 100%|██████████| 712/712 [00:05<00:00, 130.47it/s, acc=57.5, loss=0.878]\n"
     ]
    },
    {
     "name": "stdout",
     "output_type": "stream",
     "text": [
      "\n",
      " epoch: 325/500\n"
     ]
    },
    {
     "name": "stderr",
     "output_type": "stream",
     "text": [
      "Train--Epoch [325/500]: 100%|██████████| 1500/1500 [00:32<00:00, 45.88it/s, acc=59.5, loss=0.654]\n",
      "Valid--Epoch [325/500]: 100%|██████████| 712/712 [00:05<00:00, 129.87it/s, acc=57.6, loss=0.864]\n"
     ]
    },
    {
     "name": "stdout",
     "output_type": "stream",
     "text": [
      "\n",
      " epoch: 326/500\n"
     ]
    },
    {
     "name": "stderr",
     "output_type": "stream",
     "text": [
      "Train--Epoch [326/500]: 100%|██████████| 1500/1500 [00:32<00:00, 45.87it/s, acc=59.5, loss=0.654]\n",
      "Valid--Epoch [326/500]: 100%|██████████| 712/712 [00:05<00:00, 130.94it/s, acc=57.4, loss=0.857]"
     ]
    },
    {
     "name": "stdout",
     "output_type": "stream",
     "text": [
      "\n",
      " epoch: 327/500\n"
     ]
    },
    {
     "name": "stderr",
     "output_type": "stream",
     "text": [
      "\n",
      "Train--Epoch [327/500]: 100%|██████████| 1500/1500 [00:32<00:00, 45.88it/s, acc=59.7, loss=0.654]\n",
      "Valid--Epoch [327/500]: 100%|██████████| 712/712 [00:05<00:00, 130.44it/s, acc=57.6, loss=0.901]"
     ]
    },
    {
     "name": "stdout",
     "output_type": "stream",
     "text": [
      "\n",
      " epoch: 328/500\n"
     ]
    },
    {
     "name": "stderr",
     "output_type": "stream",
     "text": [
      "\n",
      "Train--Epoch [328/500]: 100%|██████████| 1500/1500 [00:32<00:00, 45.92it/s, acc=59.6, loss=0.653]\n",
      "Valid--Epoch [328/500]: 100%|██████████| 712/712 [00:05<00:00, 129.45it/s, acc=57.1, loss=0.889]"
     ]
    },
    {
     "name": "stdout",
     "output_type": "stream",
     "text": [
      "\n",
      " epoch: 329/500\n"
     ]
    },
    {
     "name": "stderr",
     "output_type": "stream",
     "text": [
      "\n",
      "Train--Epoch [329/500]: 100%|██████████| 1500/1500 [00:32<00:00, 45.74it/s, acc=59.5, loss=0.655]\n",
      "Valid--Epoch [329/500]: 100%|██████████| 712/712 [00:05<00:00, 129.65it/s, acc=57.6, loss=0.884]"
     ]
    },
    {
     "name": "stdout",
     "output_type": "stream",
     "text": [
      "\n",
      " epoch: 330/500\n"
     ]
    },
    {
     "name": "stderr",
     "output_type": "stream",
     "text": [
      "\n",
      "Train--Epoch [330/500]: 100%|██████████| 1500/1500 [00:32<00:00, 45.63it/s, acc=59.7, loss=0.653]\n",
      "Valid--Epoch [330/500]: 100%|██████████| 712/712 [00:05<00:00, 129.25it/s, acc=57.3, loss=0.876]"
     ]
    },
    {
     "name": "stdout",
     "output_type": "stream",
     "text": [
      "\n",
      " epoch: 331/500\n"
     ]
    },
    {
     "name": "stderr",
     "output_type": "stream",
     "text": [
      "\n",
      "Train--Epoch [331/500]: 100%|██████████| 1500/1500 [00:32<00:00, 45.66it/s, acc=59.7, loss=0.654]\n",
      "Valid--Epoch [331/500]: 100%|██████████| 712/712 [00:05<00:00, 127.64it/s, acc=57.4, loss=0.918]\n"
     ]
    },
    {
     "name": "stdout",
     "output_type": "stream",
     "text": [
      "\n",
      " epoch: 332/500\n"
     ]
    },
    {
     "name": "stderr",
     "output_type": "stream",
     "text": [
      "Train--Epoch [332/500]: 100%|██████████| 1500/1500 [00:32<00:00, 45.56it/s, acc=59.7, loss=0.653]\n",
      "Valid--Epoch [332/500]: 100%|██████████| 712/712 [00:05<00:00, 128.69it/s, acc=57.5, loss=0.88] \n"
     ]
    },
    {
     "name": "stdout",
     "output_type": "stream",
     "text": [
      "\n",
      " epoch: 333/500\n"
     ]
    },
    {
     "name": "stderr",
     "output_type": "stream",
     "text": [
      "Train--Epoch [333/500]: 100%|██████████| 1500/1500 [00:32<00:00, 45.65it/s, acc=59.7, loss=0.654]\n",
      "Valid--Epoch [333/500]: 100%|██████████| 712/712 [00:05<00:00, 129.81it/s, acc=57.3, loss=0.908]\n"
     ]
    },
    {
     "name": "stdout",
     "output_type": "stream",
     "text": [
      "\n",
      " epoch: 334/500\n"
     ]
    },
    {
     "name": "stderr",
     "output_type": "stream",
     "text": [
      "Train--Epoch [334/500]: 100%|██████████| 1500/1500 [00:33<00:00, 45.19it/s, acc=59.6, loss=0.654]\n",
      "Valid--Epoch [334/500]: 100%|██████████| 712/712 [00:05<00:00, 129.52it/s, acc=57.5, loss=0.881]"
     ]
    },
    {
     "name": "stdout",
     "output_type": "stream",
     "text": [
      "\n",
      " epoch: 335/500\n"
     ]
    },
    {
     "name": "stderr",
     "output_type": "stream",
     "text": [
      "\n",
      "Train--Epoch [335/500]: 100%|██████████| 1500/1500 [00:32<00:00, 45.52it/s, acc=59.9, loss=0.653]\n",
      "Valid--Epoch [335/500]: 100%|██████████| 712/712 [00:05<00:00, 130.53it/s, acc=57.3, loss=0.957]\n"
     ]
    },
    {
     "name": "stdout",
     "output_type": "stream",
     "text": [
      "\n",
      " epoch: 336/500\n"
     ]
    },
    {
     "name": "stderr",
     "output_type": "stream",
     "text": [
      "Train--Epoch [336/500]: 100%|██████████| 1500/1500 [00:32<00:00, 45.88it/s, acc=59.6, loss=0.654]\n",
      "Valid--Epoch [336/500]: 100%|██████████| 712/712 [00:05<00:00, 130.45it/s, acc=57.6, loss=0.901]\n"
     ]
    },
    {
     "name": "stdout",
     "output_type": "stream",
     "text": [
      "\n",
      " epoch: 337/500\n"
     ]
    },
    {
     "name": "stderr",
     "output_type": "stream",
     "text": [
      "Train--Epoch [337/500]: 100%|██████████| 1500/1500 [00:32<00:00, 46.12it/s, acc=59.8, loss=0.653]\n",
      "Valid--Epoch [337/500]: 100%|██████████| 712/712 [00:05<00:00, 130.63it/s, acc=57.5, loss=0.908]"
     ]
    },
    {
     "name": "stdout",
     "output_type": "stream",
     "text": [
      "\n",
      " epoch: 338/500\n"
     ]
    },
    {
     "name": "stderr",
     "output_type": "stream",
     "text": [
      "\n",
      "Train--Epoch [338/500]: 100%|██████████| 1500/1500 [00:32<00:00, 45.71it/s, acc=59.6, loss=0.653]\n",
      "Valid--Epoch [338/500]: 100%|██████████| 712/712 [00:05<00:00, 127.10it/s, acc=57.6, loss=0.929]\n"
     ]
    },
    {
     "name": "stdout",
     "output_type": "stream",
     "text": [
      "\n",
      " epoch: 339/500\n"
     ]
    },
    {
     "name": "stderr",
     "output_type": "stream",
     "text": [
      "Train--Epoch [339/500]: 100%|██████████| 1500/1500 [00:32<00:00, 45.47it/s, acc=59.6, loss=0.653]\n",
      "Valid--Epoch [339/500]: 100%|██████████| 712/712 [00:05<00:00, 129.55it/s, acc=57.7, loss=0.913]"
     ]
    },
    {
     "name": "stdout",
     "output_type": "stream",
     "text": [
      "\n",
      " epoch: 340/500\n"
     ]
    },
    {
     "name": "stderr",
     "output_type": "stream",
     "text": [
      "\n",
      "Train--Epoch [340/500]: 100%|██████████| 1500/1500 [00:32<00:00, 45.60it/s, acc=59.7, loss=0.654]\n",
      "Valid--Epoch [340/500]: 100%|██████████| 712/712 [00:05<00:00, 130.13it/s, acc=57.6, loss=0.932]"
     ]
    },
    {
     "name": "stdout",
     "output_type": "stream",
     "text": [
      "\n",
      " epoch: 341/500\n"
     ]
    },
    {
     "name": "stderr",
     "output_type": "stream",
     "text": [
      "\n",
      "Train--Epoch [341/500]: 100%|██████████| 1500/1500 [00:32<00:00, 45.57it/s, acc=59.8, loss=0.653]\n",
      "Valid--Epoch [341/500]: 100%|██████████| 712/712 [00:05<00:00, 130.93it/s, acc=57.5, loss=0.937]"
     ]
    },
    {
     "name": "stdout",
     "output_type": "stream",
     "text": [
      "\n",
      " epoch: 342/500\n"
     ]
    },
    {
     "name": "stderr",
     "output_type": "stream",
     "text": [
      "\n",
      "Train--Epoch [342/500]: 100%|██████████| 1500/1500 [00:33<00:00, 45.27it/s, acc=59.7, loss=0.653]\n",
      "Valid--Epoch [342/500]: 100%|██████████| 712/712 [00:05<00:00, 130.53it/s, acc=57.6, loss=0.881]"
     ]
    },
    {
     "name": "stdout",
     "output_type": "stream",
     "text": [
      "\n",
      " epoch: 343/500\n"
     ]
    },
    {
     "name": "stderr",
     "output_type": "stream",
     "text": [
      "\n",
      "Train--Epoch [343/500]: 100%|██████████| 1500/1500 [00:32<00:00, 45.46it/s, acc=59.7, loss=0.653]\n",
      "Valid--Epoch [343/500]: 100%|██████████| 712/712 [00:05<00:00, 130.10it/s, acc=57.6, loss=0.95] \n"
     ]
    },
    {
     "name": "stdout",
     "output_type": "stream",
     "text": [
      "\n",
      " epoch: 344/500\n"
     ]
    },
    {
     "name": "stderr",
     "output_type": "stream",
     "text": [
      "Train--Epoch [344/500]: 100%|██████████| 1500/1500 [00:32<00:00, 45.71it/s, acc=59.6, loss=0.654]\n",
      "Valid--Epoch [344/500]: 100%|██████████| 712/712 [00:05<00:00, 129.13it/s, acc=57.6, loss=0.938]\n"
     ]
    },
    {
     "name": "stdout",
     "output_type": "stream",
     "text": [
      "\n",
      " epoch: 345/500\n"
     ]
    },
    {
     "name": "stderr",
     "output_type": "stream",
     "text": [
      "Train--Epoch [345/500]: 100%|██████████| 1500/1500 [00:32<00:00, 45.61it/s, acc=59.6, loss=0.653]\n",
      "Valid--Epoch [345/500]: 100%|██████████| 712/712 [00:05<00:00, 128.38it/s, acc=57.4, loss=0.909]\n"
     ]
    },
    {
     "name": "stdout",
     "output_type": "stream",
     "text": [
      "\n",
      " epoch: 346/500\n"
     ]
    },
    {
     "name": "stderr",
     "output_type": "stream",
     "text": [
      "Train--Epoch [346/500]: 100%|██████████| 1500/1500 [00:32<00:00, 45.58it/s, acc=59.7, loss=0.652]\n",
      "Valid--Epoch [346/500]: 100%|██████████| 712/712 [00:05<00:00, 128.30it/s, acc=57.3, loss=0.96] "
     ]
    },
    {
     "name": "stdout",
     "output_type": "stream",
     "text": [
      "\n",
      " epoch: 347/500\n"
     ]
    },
    {
     "name": "stderr",
     "output_type": "stream",
     "text": [
      "\n",
      "Train--Epoch [347/500]: 100%|██████████| 1500/1500 [00:33<00:00, 45.38it/s, acc=59.7, loss=0.653]\n",
      "Valid--Epoch [347/500]: 100%|██████████| 712/712 [00:05<00:00, 130.78it/s, acc=57.5, loss=0.955]"
     ]
    },
    {
     "name": "stdout",
     "output_type": "stream",
     "text": [
      "\n",
      " epoch: 348/500\n"
     ]
    },
    {
     "name": "stderr",
     "output_type": "stream",
     "text": [
      "\n",
      "Train--Epoch [348/500]: 100%|██████████| 1500/1500 [00:32<00:00, 45.89it/s, acc=59.7, loss=0.654]\n",
      "Valid--Epoch [348/500]: 100%|██████████| 712/712 [00:05<00:00, 130.34it/s, acc=57.3, loss=0.903]\n"
     ]
    },
    {
     "name": "stdout",
     "output_type": "stream",
     "text": [
      "\n",
      " epoch: 349/500\n"
     ]
    },
    {
     "name": "stderr",
     "output_type": "stream",
     "text": [
      "Train--Epoch [349/500]: 100%|██████████| 1500/1500 [00:32<00:00, 45.67it/s, acc=59.6, loss=0.654]\n",
      "Valid--Epoch [349/500]: 100%|██████████| 712/712 [00:05<00:00, 129.83it/s, acc=57.5, loss=0.907]\n"
     ]
    },
    {
     "name": "stdout",
     "output_type": "stream",
     "text": [
      "\n",
      " epoch: 350/500\n"
     ]
    },
    {
     "name": "stderr",
     "output_type": "stream",
     "text": [
      "Train--Epoch [350/500]: 100%|██████████| 1500/1500 [00:33<00:00, 45.38it/s, acc=59.6, loss=0.653]\n",
      "Valid--Epoch [350/500]: 100%|██████████| 712/712 [00:05<00:00, 129.94it/s, acc=57.4, loss=0.906]\n"
     ]
    },
    {
     "name": "stdout",
     "output_type": "stream",
     "text": [
      "\n",
      " epoch: 351/500\n"
     ]
    },
    {
     "name": "stderr",
     "output_type": "stream",
     "text": [
      "Train--Epoch [351/500]: 100%|██████████| 1500/1500 [00:33<00:00, 45.29it/s, acc=59.5, loss=0.654]\n",
      "Valid--Epoch [351/500]: 100%|██████████| 712/712 [00:05<00:00, 127.85it/s, acc=57.3, loss=0.863]"
     ]
    },
    {
     "name": "stdout",
     "output_type": "stream",
     "text": [
      "\n",
      " epoch: 352/500\n"
     ]
    },
    {
     "name": "stderr",
     "output_type": "stream",
     "text": [
      "\n",
      "Train--Epoch [352/500]: 100%|██████████| 1500/1500 [00:32<00:00, 45.55it/s, acc=59.5, loss=0.654]\n",
      "Valid--Epoch [352/500]: 100%|██████████| 712/712 [00:05<00:00, 129.01it/s, acc=57.3, loss=0.944]"
     ]
    },
    {
     "name": "stdout",
     "output_type": "stream",
     "text": [
      "\n",
      " epoch: 353/500\n"
     ]
    },
    {
     "name": "stderr",
     "output_type": "stream",
     "text": [
      "\n",
      "Train--Epoch [353/500]: 100%|██████████| 1500/1500 [00:32<00:00, 45.50it/s, acc=59.7, loss=0.653]\n",
      "Valid--Epoch [353/500]: 100%|██████████| 712/712 [00:05<00:00, 129.16it/s, acc=57.3, loss=0.911]"
     ]
    },
    {
     "name": "stdout",
     "output_type": "stream",
     "text": [
      "\n",
      " epoch: 354/500\n"
     ]
    },
    {
     "name": "stderr",
     "output_type": "stream",
     "text": [
      "\n",
      "Train--Epoch [354/500]: 100%|██████████| 1500/1500 [00:33<00:00, 45.30it/s, acc=59.7, loss=0.653]\n",
      "Valid--Epoch [354/500]: 100%|██████████| 712/712 [00:05<00:00, 130.71it/s, acc=57.6, loss=0.863]"
     ]
    },
    {
     "name": "stdout",
     "output_type": "stream",
     "text": [
      "\n",
      " epoch: 355/500\n"
     ]
    },
    {
     "name": "stderr",
     "output_type": "stream",
     "text": [
      "\n",
      "Train--Epoch [355/500]: 100%|██████████| 1500/1500 [00:33<00:00, 45.07it/s, acc=59.7, loss=0.653]\n",
      "Valid--Epoch [355/500]: 100%|██████████| 712/712 [00:05<00:00, 128.17it/s, acc=57.4, loss=0.927]"
     ]
    },
    {
     "name": "stdout",
     "output_type": "stream",
     "text": [
      "\n",
      " epoch: 356/500\n"
     ]
    },
    {
     "name": "stderr",
     "output_type": "stream",
     "text": [
      "\n",
      "Train--Epoch [356/500]: 100%|██████████| 1500/1500 [00:33<00:00, 45.23it/s, acc=59.8, loss=0.653]\n",
      "Valid--Epoch [356/500]: 100%|██████████| 712/712 [00:05<00:00, 128.15it/s, acc=57.4, loss=0.847]"
     ]
    },
    {
     "name": "stdout",
     "output_type": "stream",
     "text": [
      "\n",
      " epoch: 357/500\n"
     ]
    },
    {
     "name": "stderr",
     "output_type": "stream",
     "text": [
      "\n",
      "Train--Epoch [357/500]: 100%|██████████| 1500/1500 [00:33<00:00, 44.70it/s, acc=59.6, loss=0.653]\n",
      "Valid--Epoch [357/500]: 100%|██████████| 712/712 [00:05<00:00, 127.17it/s, acc=57.4, loss=0.871]\n"
     ]
    },
    {
     "name": "stdout",
     "output_type": "stream",
     "text": [
      "\n",
      " epoch: 358/500\n"
     ]
    },
    {
     "name": "stderr",
     "output_type": "stream",
     "text": [
      "Train--Epoch [358/500]: 100%|██████████| 1500/1500 [00:32<00:00, 45.47it/s, acc=59.6, loss=0.652]\n",
      "Valid--Epoch [358/500]: 100%|██████████| 712/712 [00:05<00:00, 128.29it/s, acc=57.7, loss=0.862]"
     ]
    },
    {
     "name": "stdout",
     "output_type": "stream",
     "text": [
      "\n",
      " epoch: 359/500\n"
     ]
    },
    {
     "name": "stderr",
     "output_type": "stream",
     "text": [
      "\n",
      "Train--Epoch [359/500]: 100%|██████████| 1500/1500 [00:32<00:00, 45.51it/s, acc=59.8, loss=0.652]\n",
      "Valid--Epoch [359/500]: 100%|██████████| 712/712 [00:05<00:00, 130.06it/s, acc=57.5, loss=0.845]\n"
     ]
    },
    {
     "name": "stdout",
     "output_type": "stream",
     "text": [
      "\n",
      " epoch: 360/500\n"
     ]
    },
    {
     "name": "stderr",
     "output_type": "stream",
     "text": [
      "Train--Epoch [360/500]: 100%|██████████| 1500/1500 [00:32<00:00, 45.51it/s, acc=59.8, loss=0.652]\n",
      "Valid--Epoch [360/500]: 100%|██████████| 712/712 [00:05<00:00, 127.78it/s, acc=57.6, loss=0.895]\n"
     ]
    },
    {
     "name": "stdout",
     "output_type": "stream",
     "text": [
      "\n",
      " epoch: 361/500\n"
     ]
    },
    {
     "name": "stderr",
     "output_type": "stream",
     "text": [
      "Train--Epoch [361/500]: 100%|██████████| 1500/1500 [00:32<00:00, 45.65it/s, acc=59.7, loss=0.652]\n",
      "Valid--Epoch [361/500]: 100%|██████████| 712/712 [00:05<00:00, 130.16it/s, acc=57.7, loss=0.882]"
     ]
    },
    {
     "name": "stdout",
     "output_type": "stream",
     "text": [
      "\n",
      " epoch: 362/500\n"
     ]
    },
    {
     "name": "stderr",
     "output_type": "stream",
     "text": [
      "\n",
      "Train--Epoch [362/500]: 100%|██████████| 1500/1500 [00:33<00:00, 45.39it/s, acc=59.8, loss=0.652]\n",
      "Valid--Epoch [362/500]: 100%|██████████| 712/712 [00:05<00:00, 130.12it/s, acc=57.5, loss=0.866]\n"
     ]
    },
    {
     "name": "stdout",
     "output_type": "stream",
     "text": [
      "\n",
      " epoch: 363/500\n"
     ]
    },
    {
     "name": "stderr",
     "output_type": "stream",
     "text": [
      "Train--Epoch [363/500]: 100%|██████████| 1500/1500 [00:33<00:00, 45.13it/s, acc=59.9, loss=0.651]\n",
      "Valid--Epoch [363/500]: 100%|██████████| 712/712 [00:05<00:00, 127.49it/s, acc=57.2, loss=0.916]\n"
     ]
    },
    {
     "name": "stdout",
     "output_type": "stream",
     "text": [
      "\n",
      " epoch: 364/500\n"
     ]
    },
    {
     "name": "stderr",
     "output_type": "stream",
     "text": [
      "Train--Epoch [364/500]: 100%|██████████| 1500/1500 [00:33<00:00, 45.42it/s, acc=60, loss=0.651]  \n",
      "Valid--Epoch [364/500]: 100%|██████████| 712/712 [00:05<00:00, 128.86it/s, acc=57.5, loss=0.864]\n"
     ]
    },
    {
     "name": "stdout",
     "output_type": "stream",
     "text": [
      "\n",
      " epoch: 365/500\n"
     ]
    },
    {
     "name": "stderr",
     "output_type": "stream",
     "text": [
      "Train--Epoch [365/500]: 100%|██████████| 1500/1500 [00:32<00:00, 45.64it/s, acc=59.8, loss=0.652]\n",
      "Valid--Epoch [365/500]: 100%|██████████| 712/712 [00:05<00:00, 128.56it/s, acc=57.6, loss=0.876]\n"
     ]
    },
    {
     "name": "stdout",
     "output_type": "stream",
     "text": [
      "\n",
      " epoch: 366/500\n"
     ]
    },
    {
     "name": "stderr",
     "output_type": "stream",
     "text": [
      "Train--Epoch [366/500]: 100%|██████████| 1500/1500 [00:32<00:00, 45.51it/s, acc=59.8, loss=0.652]\n",
      "Valid--Epoch [366/500]: 100%|██████████| 712/712 [00:05<00:00, 130.37it/s, acc=57.6, loss=0.854]"
     ]
    },
    {
     "name": "stdout",
     "output_type": "stream",
     "text": [
      "\n",
      " epoch: 367/500\n"
     ]
    },
    {
     "name": "stderr",
     "output_type": "stream",
     "text": [
      "\n",
      "Train--Epoch [367/500]: 100%|██████████| 1500/1500 [00:33<00:00, 45.31it/s, acc=59.8, loss=0.652]\n",
      "Valid--Epoch [367/500]: 100%|██████████| 712/712 [00:05<00:00, 129.14it/s, acc=57.7, loss=0.897]\n"
     ]
    },
    {
     "name": "stdout",
     "output_type": "stream",
     "text": [
      "\n",
      " epoch: 368/500\n"
     ]
    },
    {
     "name": "stderr",
     "output_type": "stream",
     "text": [
      "Train--Epoch [368/500]: 100%|██████████| 1500/1500 [00:33<00:00, 45.29it/s, acc=59.9, loss=0.652]\n",
      "Valid--Epoch [368/500]: 100%|██████████| 712/712 [00:05<00:00, 130.05it/s, acc=57.7, loss=0.835]\n"
     ]
    },
    {
     "name": "stdout",
     "output_type": "stream",
     "text": [
      "\n",
      " epoch: 369/500\n"
     ]
    },
    {
     "name": "stderr",
     "output_type": "stream",
     "text": [
      "Train--Epoch [369/500]: 100%|██████████| 1500/1500 [00:32<00:00, 45.47it/s, acc=59.7, loss=0.652]\n",
      "Valid--Epoch [369/500]: 100%|██████████| 712/712 [00:05<00:00, 130.20it/s, acc=57.6, loss=0.849]"
     ]
    },
    {
     "name": "stdout",
     "output_type": "stream",
     "text": [
      "\n",
      " epoch: 370/500\n"
     ]
    },
    {
     "name": "stderr",
     "output_type": "stream",
     "text": [
      "\n",
      "Train--Epoch [370/500]: 100%|██████████| 1500/1500 [00:32<00:00, 45.46it/s, acc=59.9, loss=0.652]\n",
      "Valid--Epoch [370/500]: 100%|██████████| 712/712 [00:05<00:00, 128.41it/s, acc=57.6, loss=0.853]\n"
     ]
    },
    {
     "name": "stdout",
     "output_type": "stream",
     "text": [
      "\n",
      " epoch: 371/500\n"
     ]
    },
    {
     "name": "stderr",
     "output_type": "stream",
     "text": [
      "Train--Epoch [371/500]: 100%|██████████| 1500/1500 [00:32<00:00, 45.84it/s, acc=59.8, loss=0.652]\n",
      "Valid--Epoch [371/500]: 100%|██████████| 712/712 [00:05<00:00, 126.73it/s, acc=57.4, loss=0.919]"
     ]
    },
    {
     "name": "stdout",
     "output_type": "stream",
     "text": [
      "\n",
      " epoch: 372/500\n"
     ]
    },
    {
     "name": "stderr",
     "output_type": "stream",
     "text": [
      "\n",
      "Train--Epoch [372/500]: 100%|██████████| 1500/1500 [00:32<00:00, 45.56it/s, acc=59.8, loss=0.652]\n",
      "Valid--Epoch [372/500]: 100%|██████████| 712/712 [00:05<00:00, 130.16it/s, acc=57.5, loss=0.868]\n"
     ]
    },
    {
     "name": "stdout",
     "output_type": "stream",
     "text": [
      "\n",
      " epoch: 373/500\n"
     ]
    },
    {
     "name": "stderr",
     "output_type": "stream",
     "text": [
      "Train--Epoch [373/500]: 100%|██████████| 1500/1500 [00:33<00:00, 45.40it/s, acc=59.8, loss=0.653]\n",
      "Valid--Epoch [373/500]: 100%|██████████| 712/712 [00:05<00:00, 129.49it/s, acc=57.4, loss=0.81] "
     ]
    },
    {
     "name": "stdout",
     "output_type": "stream",
     "text": [
      "\n",
      " epoch: 374/500\n"
     ]
    },
    {
     "name": "stderr",
     "output_type": "stream",
     "text": [
      "\n",
      "Train--Epoch [374/500]: 100%|██████████| 1500/1500 [00:32<00:00, 45.58it/s, acc=59.8, loss=0.652]\n",
      "Valid--Epoch [374/500]: 100%|██████████| 712/712 [00:05<00:00, 130.47it/s, acc=57.4, loss=0.873]\n"
     ]
    },
    {
     "name": "stdout",
     "output_type": "stream",
     "text": [
      "\n",
      " epoch: 375/500\n"
     ]
    },
    {
     "name": "stderr",
     "output_type": "stream",
     "text": [
      "Train--Epoch [375/500]: 100%|██████████| 1500/1500 [00:32<00:00, 45.91it/s, acc=60, loss=0.652]  \n",
      "Valid--Epoch [375/500]: 100%|██████████| 712/712 [00:05<00:00, 128.32it/s, acc=57.5, loss=0.886]"
     ]
    },
    {
     "name": "stdout",
     "output_type": "stream",
     "text": [
      "\n",
      " epoch: 376/500\n"
     ]
    },
    {
     "name": "stderr",
     "output_type": "stream",
     "text": [
      "\n",
      "Train--Epoch [376/500]: 100%|██████████| 1500/1500 [00:32<00:00, 45.55it/s, acc=59.9, loss=0.652]\n",
      "Valid--Epoch [376/500]: 100%|██████████| 712/712 [00:05<00:00, 128.62it/s, acc=57.7, loss=0.85] \n"
     ]
    },
    {
     "name": "stdout",
     "output_type": "stream",
     "text": [
      "\n",
      " epoch: 377/500\n"
     ]
    },
    {
     "name": "stderr",
     "output_type": "stream",
     "text": [
      "Train--Epoch [377/500]: 100%|██████████| 1500/1500 [00:32<00:00, 45.47it/s, acc=59.8, loss=0.652]\n",
      "Valid--Epoch [377/500]: 100%|██████████| 712/712 [00:05<00:00, 130.13it/s, acc=57.5, loss=0.865]"
     ]
    },
    {
     "name": "stdout",
     "output_type": "stream",
     "text": [
      "\n",
      " epoch: 378/500\n"
     ]
    },
    {
     "name": "stderr",
     "output_type": "stream",
     "text": [
      "\n",
      "Train--Epoch [378/500]: 100%|██████████| 1500/1500 [00:32<00:00, 45.62it/s, acc=60, loss=0.652]  \n",
      "Valid--Epoch [378/500]: 100%|██████████| 712/712 [00:05<00:00, 128.48it/s, acc=57.6, loss=0.873]"
     ]
    },
    {
     "name": "stdout",
     "output_type": "stream",
     "text": [
      "\n",
      " epoch: 379/500\n"
     ]
    },
    {
     "name": "stderr",
     "output_type": "stream",
     "text": [
      "\n",
      "Train--Epoch [379/500]: 100%|██████████| 1500/1500 [00:32<00:00, 45.52it/s, acc=59.7, loss=0.653]\n",
      "Valid--Epoch [379/500]: 100%|██████████| 712/712 [00:05<00:00, 130.07it/s, acc=57.7, loss=0.849]"
     ]
    },
    {
     "name": "stdout",
     "output_type": "stream",
     "text": [
      "\n",
      " epoch: 380/500\n"
     ]
    },
    {
     "name": "stderr",
     "output_type": "stream",
     "text": [
      "\n",
      "Train--Epoch [380/500]: 100%|██████████| 1500/1500 [00:33<00:00, 45.30it/s, acc=60, loss=0.652]  \n",
      "Valid--Epoch [380/500]: 100%|██████████| 712/712 [00:05<00:00, 129.16it/s, acc=57.6, loss=0.881]"
     ]
    },
    {
     "name": "stdout",
     "output_type": "stream",
     "text": [
      "\n",
      " epoch: 381/500\n"
     ]
    },
    {
     "name": "stderr",
     "output_type": "stream",
     "text": [
      "\n",
      "Train--Epoch [381/500]: 100%|██████████| 1500/1500 [00:32<00:00, 45.86it/s, acc=59.8, loss=0.652]\n",
      "Valid--Epoch [381/500]: 100%|██████████| 712/712 [00:05<00:00, 130.08it/s, acc=57.6, loss=0.864]"
     ]
    },
    {
     "name": "stdout",
     "output_type": "stream",
     "text": [
      "\n",
      " epoch: 382/500\n"
     ]
    },
    {
     "name": "stderr",
     "output_type": "stream",
     "text": [
      "\n",
      "Train--Epoch [382/500]: 100%|██████████| 1500/1500 [00:32<00:00, 45.62it/s, acc=59.7, loss=0.651]\n",
      "Valid--Epoch [382/500]: 100%|██████████| 712/712 [00:05<00:00, 128.98it/s, acc=57.6, loss=0.87] "
     ]
    },
    {
     "name": "stdout",
     "output_type": "stream",
     "text": [
      "\n",
      " epoch: 383/500\n"
     ]
    },
    {
     "name": "stderr",
     "output_type": "stream",
     "text": [
      "\n",
      "Train--Epoch [383/500]: 100%|██████████| 1500/1500 [00:32<00:00, 45.50it/s, acc=59.7, loss=0.652]\n",
      "Valid--Epoch [383/500]: 100%|██████████| 712/712 [00:05<00:00, 130.26it/s, acc=57.5, loss=0.88] "
     ]
    },
    {
     "name": "stdout",
     "output_type": "stream",
     "text": [
      "\n",
      " epoch: 384/500\n"
     ]
    },
    {
     "name": "stderr",
     "output_type": "stream",
     "text": [
      "\n",
      "Train--Epoch [384/500]: 100%|██████████| 1500/1500 [00:33<00:00, 45.39it/s, acc=60, loss=0.652]  \n",
      "Valid--Epoch [384/500]: 100%|██████████| 712/712 [00:05<00:00, 130.47it/s, acc=57.6, loss=0.85] \n"
     ]
    },
    {
     "name": "stdout",
     "output_type": "stream",
     "text": [
      "\n",
      " epoch: 385/500\n"
     ]
    },
    {
     "name": "stderr",
     "output_type": "stream",
     "text": [
      "Train--Epoch [385/500]: 100%|██████████| 1500/1500 [00:32<00:00, 45.64it/s, acc=59.9, loss=0.651]\n",
      "Valid--Epoch [385/500]: 100%|██████████| 712/712 [00:05<00:00, 128.16it/s, acc=57.6, loss=0.84] \n"
     ]
    },
    {
     "name": "stdout",
     "output_type": "stream",
     "text": [
      "\n",
      " epoch: 386/500\n"
     ]
    },
    {
     "name": "stderr",
     "output_type": "stream",
     "text": [
      "Train--Epoch [386/500]: 100%|██████████| 1500/1500 [00:33<00:00, 45.44it/s, acc=60.1, loss=0.651]\n",
      "Valid--Epoch [386/500]: 100%|██████████| 712/712 [00:05<00:00, 129.70it/s, acc=57.7, loss=0.876]\n"
     ]
    },
    {
     "name": "stdout",
     "output_type": "stream",
     "text": [
      "\n",
      " epoch: 387/500\n"
     ]
    },
    {
     "name": "stderr",
     "output_type": "stream",
     "text": [
      "Train--Epoch [387/500]: 100%|██████████| 1500/1500 [00:32<00:00, 45.54it/s, acc=59.6, loss=0.652]\n",
      "Valid--Epoch [387/500]: 100%|██████████| 712/712 [00:05<00:00, 125.15it/s, acc=57.5, loss=0.874]"
     ]
    },
    {
     "name": "stdout",
     "output_type": "stream",
     "text": [
      "\n",
      " epoch: 388/500\n"
     ]
    },
    {
     "name": "stderr",
     "output_type": "stream",
     "text": [
      "\n",
      "Train--Epoch [388/500]: 100%|██████████| 1500/1500 [00:33<00:00, 44.81it/s, acc=59.8, loss=0.652]\n",
      "Valid--Epoch [388/500]: 100%|██████████| 712/712 [00:05<00:00, 129.61it/s, acc=57.7, loss=0.863]"
     ]
    },
    {
     "name": "stdout",
     "output_type": "stream",
     "text": [
      "\n",
      " epoch: 389/500\n"
     ]
    },
    {
     "name": "stderr",
     "output_type": "stream",
     "text": [
      "\n",
      "Train--Epoch [389/500]: 100%|██████████| 1500/1500 [00:32<00:00, 45.82it/s, acc=60, loss=0.651]  \n",
      "Valid--Epoch [389/500]: 100%|██████████| 712/712 [00:05<00:00, 129.47it/s, acc=57.6, loss=0.868]"
     ]
    },
    {
     "name": "stdout",
     "output_type": "stream",
     "text": [
      "\n",
      " epoch: 390/500\n"
     ]
    },
    {
     "name": "stderr",
     "output_type": "stream",
     "text": [
      "\n",
      "Train--Epoch [390/500]: 100%|██████████| 1500/1500 [00:32<00:00, 45.56it/s, acc=59.8, loss=0.651]\n",
      "Valid--Epoch [390/500]: 100%|██████████| 712/712 [00:05<00:00, 129.10it/s, acc=57.7, loss=0.842]\n"
     ]
    },
    {
     "name": "stdout",
     "output_type": "stream",
     "text": [
      "\n",
      " epoch: 391/500\n"
     ]
    },
    {
     "name": "stderr",
     "output_type": "stream",
     "text": [
      "Train--Epoch [391/500]: 100%|██████████| 1500/1500 [00:32<00:00, 45.54it/s, acc=59.6, loss=0.652]\n",
      "Valid--Epoch [391/500]: 100%|██████████| 712/712 [00:05<00:00, 129.63it/s, acc=57.7, loss=0.871]"
     ]
    },
    {
     "name": "stdout",
     "output_type": "stream",
     "text": [
      "\n",
      " epoch: 392/500\n"
     ]
    },
    {
     "name": "stderr",
     "output_type": "stream",
     "text": [
      "\n",
      "Train--Epoch [392/500]: 100%|██████████| 1500/1500 [00:32<00:00, 45.64it/s, acc=60, loss=0.651]  \n",
      "Valid--Epoch [392/500]: 100%|██████████| 712/712 [00:05<00:00, 128.11it/s, acc=57.7, loss=0.851]"
     ]
    },
    {
     "name": "stdout",
     "output_type": "stream",
     "text": [
      "\n",
      " epoch: 393/500\n"
     ]
    },
    {
     "name": "stderr",
     "output_type": "stream",
     "text": [
      "\n",
      "Train--Epoch [393/500]: 100%|██████████| 1500/1500 [00:32<00:00, 45.48it/s, acc=59.9, loss=0.652]\n",
      "Valid--Epoch [393/500]: 100%|██████████| 712/712 [00:05<00:00, 130.67it/s, acc=57.7, loss=0.849]"
     ]
    },
    {
     "name": "stdout",
     "output_type": "stream",
     "text": [
      "\n",
      " epoch: 394/500\n"
     ]
    },
    {
     "name": "stderr",
     "output_type": "stream",
     "text": [
      "\n",
      "Train--Epoch [394/500]: 100%|██████████| 1500/1500 [00:33<00:00, 45.32it/s, acc=60, loss=0.652]  \n",
      "Valid--Epoch [394/500]: 100%|██████████| 712/712 [00:05<00:00, 130.26it/s, acc=57.6, loss=0.849]"
     ]
    },
    {
     "name": "stdout",
     "output_type": "stream",
     "text": [
      "\n",
      " epoch: 395/500\n"
     ]
    },
    {
     "name": "stderr",
     "output_type": "stream",
     "text": [
      "\n",
      "Train--Epoch [395/500]: 100%|██████████| 1500/1500 [00:32<00:00, 45.51it/s, acc=60, loss=0.651]  \n",
      "Valid--Epoch [395/500]: 100%|██████████| 712/712 [00:05<00:00, 130.94it/s, acc=57.7, loss=0.857]\n"
     ]
    },
    {
     "name": "stdout",
     "output_type": "stream",
     "text": [
      "\n",
      " epoch: 396/500\n"
     ]
    },
    {
     "name": "stderr",
     "output_type": "stream",
     "text": [
      "Train--Epoch [396/500]: 100%|██████████| 1500/1500 [00:32<00:00, 45.58it/s, acc=59.8, loss=0.652]\n",
      "Valid--Epoch [396/500]: 100%|██████████| 712/712 [00:05<00:00, 128.58it/s, acc=57.4, loss=0.84] "
     ]
    },
    {
     "name": "stdout",
     "output_type": "stream",
     "text": [
      "\n",
      " epoch: 397/500\n"
     ]
    },
    {
     "name": "stderr",
     "output_type": "stream",
     "text": [
      "\n",
      "Train--Epoch [397/500]: 100%|██████████| 1500/1500 [00:32<00:00, 45.60it/s, acc=60.1, loss=0.651]\n",
      "Valid--Epoch [397/500]: 100%|██████████| 712/712 [00:05<00:00, 129.95it/s, acc=57.5, loss=0.85] \n"
     ]
    },
    {
     "name": "stdout",
     "output_type": "stream",
     "text": [
      "\n",
      " epoch: 398/500\n"
     ]
    },
    {
     "name": "stderr",
     "output_type": "stream",
     "text": [
      "Train--Epoch [398/500]: 100%|██████████| 1500/1500 [00:32<00:00, 45.60it/s, acc=59.7, loss=0.652]\n",
      "Valid--Epoch [398/500]: 100%|██████████| 712/712 [00:05<00:00, 128.44it/s, acc=57.5, loss=0.852]"
     ]
    },
    {
     "name": "stdout",
     "output_type": "stream",
     "text": [
      "\n",
      " epoch: 399/500\n"
     ]
    },
    {
     "name": "stderr",
     "output_type": "stream",
     "text": [
      "\n",
      "Train--Epoch [399/500]: 100%|██████████| 1500/1500 [00:32<00:00, 45.62it/s, acc=60, loss=0.652]  \n",
      "Valid--Epoch [399/500]: 100%|██████████| 712/712 [00:05<00:00, 128.41it/s, acc=57.7, loss=0.833]\n"
     ]
    },
    {
     "name": "stdout",
     "output_type": "stream",
     "text": [
      "\n",
      " epoch: 400/500\n"
     ]
    },
    {
     "name": "stderr",
     "output_type": "stream",
     "text": [
      "Train--Epoch [400/500]: 100%|██████████| 1500/1500 [00:33<00:00, 45.32it/s, acc=60.1, loss=0.651]\n",
      "Valid--Epoch [400/500]: 100%|██████████| 712/712 [00:05<00:00, 127.31it/s, acc=57.6, loss=0.864]"
     ]
    },
    {
     "name": "stdout",
     "output_type": "stream",
     "text": [
      "\n",
      " epoch: 401/500\n"
     ]
    },
    {
     "name": "stderr",
     "output_type": "stream",
     "text": [
      "\n",
      "Train--Epoch [401/500]: 100%|██████████| 1500/1500 [00:33<00:00, 45.15it/s, acc=59.9, loss=0.651]\n",
      "Valid--Epoch [401/500]: 100%|██████████| 712/712 [00:05<00:00, 129.11it/s, acc=57.5, loss=0.864]\n"
     ]
    },
    {
     "name": "stdout",
     "output_type": "stream",
     "text": [
      "\n",
      " epoch: 402/500\n"
     ]
    },
    {
     "name": "stderr",
     "output_type": "stream",
     "text": [
      "Train--Epoch [402/500]: 100%|██████████| 1500/1500 [00:33<00:00, 45.13it/s, acc=60, loss=0.652]  \n",
      "Valid--Epoch [402/500]: 100%|██████████| 712/712 [00:05<00:00, 130.20it/s, acc=57.6, loss=0.868]\n"
     ]
    },
    {
     "name": "stdout",
     "output_type": "stream",
     "text": [
      "\n",
      " epoch: 403/500\n"
     ]
    },
    {
     "name": "stderr",
     "output_type": "stream",
     "text": [
      "Train--Epoch [403/500]: 100%|██████████| 1500/1500 [00:33<00:00, 44.53it/s, acc=59.9, loss=0.651]\n",
      "Valid--Epoch [403/500]: 100%|██████████| 712/712 [00:05<00:00, 128.68it/s, acc=57.5, loss=0.886]"
     ]
    },
    {
     "name": "stdout",
     "output_type": "stream",
     "text": [
      "\n",
      " epoch: 404/500\n"
     ]
    },
    {
     "name": "stderr",
     "output_type": "stream",
     "text": [
      "\n",
      "Train--Epoch [404/500]: 100%|██████████| 1500/1500 [00:33<00:00, 45.15it/s, acc=59.8, loss=0.652]\n",
      "Valid--Epoch [404/500]: 100%|██████████| 712/712 [00:05<00:00, 129.47it/s, acc=57.5, loss=0.89] "
     ]
    },
    {
     "name": "stdout",
     "output_type": "stream",
     "text": [
      "\n",
      " epoch: 405/500\n"
     ]
    },
    {
     "name": "stderr",
     "output_type": "stream",
     "text": [
      "\n",
      "Train--Epoch [405/500]: 100%|██████████| 1500/1500 [00:33<00:00, 45.19it/s, acc=59.7, loss=0.653]\n",
      "Valid--Epoch [405/500]: 100%|██████████| 712/712 [00:05<00:00, 129.12it/s, acc=57.6, loss=0.859]"
     ]
    },
    {
     "name": "stdout",
     "output_type": "stream",
     "text": [
      "\n",
      " epoch: 406/500\n"
     ]
    },
    {
     "name": "stderr",
     "output_type": "stream",
     "text": [
      "\n",
      "Train--Epoch [406/500]: 100%|██████████| 1500/1500 [00:33<00:00, 45.33it/s, acc=59.9, loss=0.651]\n",
      "Valid--Epoch [406/500]: 100%|██████████| 712/712 [00:05<00:00, 128.46it/s, acc=57.8, loss=0.874]\n"
     ]
    },
    {
     "name": "stdout",
     "output_type": "stream",
     "text": [
      "\n",
      " epoch: 407/500\n"
     ]
    },
    {
     "name": "stderr",
     "output_type": "stream",
     "text": [
      "Train--Epoch [407/500]: 100%|██████████| 1500/1500 [00:32<00:00, 45.50it/s, acc=59.9, loss=0.651]\n",
      "Valid--Epoch [407/500]: 100%|██████████| 712/712 [00:05<00:00, 129.35it/s, acc=57.8, loss=0.861]\n"
     ]
    },
    {
     "name": "stdout",
     "output_type": "stream",
     "text": [
      "\n",
      " epoch: 408/500\n"
     ]
    },
    {
     "name": "stderr",
     "output_type": "stream",
     "text": [
      "Train--Epoch [408/500]: 100%|██████████| 1500/1500 [00:32<00:00, 45.60it/s, acc=59.9, loss=0.652]\n",
      "Valid--Epoch [408/500]: 100%|██████████| 712/712 [00:05<00:00, 129.77it/s, acc=57.7, loss=0.869]\n"
     ]
    },
    {
     "name": "stdout",
     "output_type": "stream",
     "text": [
      "\n",
      " epoch: 409/500\n"
     ]
    },
    {
     "name": "stderr",
     "output_type": "stream",
     "text": [
      "Train--Epoch [409/500]: 100%|██████████| 1500/1500 [00:33<00:00, 45.18it/s, acc=59.7, loss=0.652]\n",
      "Valid--Epoch [409/500]: 100%|██████████| 712/712 [00:05<00:00, 129.51it/s, acc=57.7, loss=0.883]\n"
     ]
    },
    {
     "name": "stdout",
     "output_type": "stream",
     "text": [
      "\n",
      " epoch: 410/500\n"
     ]
    },
    {
     "name": "stderr",
     "output_type": "stream",
     "text": [
      "Train--Epoch [410/500]: 100%|██████████| 1500/1500 [00:32<00:00, 45.47it/s, acc=60, loss=0.651]  \n",
      "Valid--Epoch [410/500]: 100%|██████████| 712/712 [00:05<00:00, 128.99it/s, acc=57.7, loss=0.872]"
     ]
    },
    {
     "name": "stdout",
     "output_type": "stream",
     "text": [
      "\n",
      " epoch: 411/500\n"
     ]
    },
    {
     "name": "stderr",
     "output_type": "stream",
     "text": [
      "\n",
      "Train--Epoch [411/500]: 100%|██████████| 1500/1500 [00:32<00:00, 45.47it/s, acc=59.9, loss=0.652]\n",
      "Valid--Epoch [411/500]: 100%|██████████| 712/712 [00:05<00:00, 129.84it/s, acc=57.7, loss=0.849]"
     ]
    },
    {
     "name": "stdout",
     "output_type": "stream",
     "text": [
      "\n",
      " epoch: 412/500\n"
     ]
    },
    {
     "name": "stderr",
     "output_type": "stream",
     "text": [
      "\n",
      "Train--Epoch [412/500]: 100%|██████████| 1500/1500 [00:33<00:00, 45.39it/s, acc=59.9, loss=0.652]\n",
      "Valid--Epoch [412/500]: 100%|██████████| 712/712 [00:05<00:00, 127.90it/s, acc=57.6, loss=0.85] \n"
     ]
    },
    {
     "name": "stdout",
     "output_type": "stream",
     "text": [
      "\n",
      " epoch: 413/500\n"
     ]
    },
    {
     "name": "stderr",
     "output_type": "stream",
     "text": [
      "Train--Epoch [413/500]: 100%|██████████| 1500/1500 [00:32<00:00, 45.53it/s, acc=59.9, loss=0.651]\n",
      "Valid--Epoch [413/500]: 100%|██████████| 712/712 [00:05<00:00, 128.97it/s, acc=57.6, loss=0.868]"
     ]
    },
    {
     "name": "stdout",
     "output_type": "stream",
     "text": [
      "\n",
      " epoch: 414/500\n"
     ]
    },
    {
     "name": "stderr",
     "output_type": "stream",
     "text": [
      "\n",
      "Train--Epoch [414/500]: 100%|██████████| 1500/1500 [00:32<00:00, 45.85it/s, acc=59.9, loss=0.651]\n",
      "Valid--Epoch [414/500]: 100%|██████████| 712/712 [00:05<00:00, 128.76it/s, acc=57.7, loss=0.871]\n"
     ]
    },
    {
     "name": "stdout",
     "output_type": "stream",
     "text": [
      "\n",
      " epoch: 415/500\n"
     ]
    },
    {
     "name": "stderr",
     "output_type": "stream",
     "text": [
      "Train--Epoch [415/500]: 100%|██████████| 1500/1500 [00:33<00:00, 45.45it/s, acc=59.8, loss=0.652]\n",
      "Valid--Epoch [415/500]: 100%|██████████| 712/712 [00:05<00:00, 130.33it/s, acc=57.7, loss=0.851]\n"
     ]
    },
    {
     "name": "stdout",
     "output_type": "stream",
     "text": [
      "\n",
      " epoch: 416/500\n"
     ]
    },
    {
     "name": "stderr",
     "output_type": "stream",
     "text": [
      "Train--Epoch [416/500]: 100%|██████████| 1500/1500 [00:33<00:00, 45.15it/s, acc=60.1, loss=0.65] \n",
      "Valid--Epoch [416/500]: 100%|██████████| 712/712 [00:05<00:00, 130.45it/s, acc=57.6, loss=0.862]"
     ]
    },
    {
     "name": "stdout",
     "output_type": "stream",
     "text": [
      "\n",
      " epoch: 417/500\n"
     ]
    },
    {
     "name": "stderr",
     "output_type": "stream",
     "text": [
      "\n",
      "Train--Epoch [417/500]: 100%|██████████| 1500/1500 [00:33<00:00, 45.41it/s, acc=59.7, loss=0.652]\n",
      "Valid--Epoch [417/500]: 100%|██████████| 712/712 [00:05<00:00, 130.22it/s, acc=57.6, loss=0.866]"
     ]
    },
    {
     "name": "stdout",
     "output_type": "stream",
     "text": [
      "\n",
      " epoch: 418/500\n"
     ]
    },
    {
     "name": "stderr",
     "output_type": "stream",
     "text": [
      "\n",
      "Train--Epoch [418/500]: 100%|██████████| 1500/1500 [00:33<00:00, 45.45it/s, acc=59.9, loss=0.651]\n",
      "Valid--Epoch [418/500]: 100%|██████████| 712/712 [00:05<00:00, 130.28it/s, acc=57.5, loss=0.866]\n"
     ]
    },
    {
     "name": "stdout",
     "output_type": "stream",
     "text": [
      "\n",
      " epoch: 419/500\n"
     ]
    },
    {
     "name": "stderr",
     "output_type": "stream",
     "text": [
      "Train--Epoch [419/500]: 100%|██████████| 1500/1500 [00:32<00:00, 45.56it/s, acc=59.9, loss=0.651]\n",
      "Valid--Epoch [419/500]: 100%|██████████| 712/712 [00:05<00:00, 129.53it/s, acc=57.7, loss=0.863]\n"
     ]
    },
    {
     "name": "stdout",
     "output_type": "stream",
     "text": [
      "\n",
      " epoch: 420/500\n"
     ]
    },
    {
     "name": "stderr",
     "output_type": "stream",
     "text": [
      "Train--Epoch [420/500]: 100%|██████████| 1500/1500 [00:33<00:00, 45.33it/s, acc=60, loss=0.651]  \n",
      "Valid--Epoch [420/500]: 100%|██████████| 712/712 [00:05<00:00, 129.13it/s, acc=57.6, loss=0.883]"
     ]
    },
    {
     "name": "stdout",
     "output_type": "stream",
     "text": [
      "\n",
      " epoch: 421/500\n"
     ]
    },
    {
     "name": "stderr",
     "output_type": "stream",
     "text": [
      "\n",
      "Train--Epoch [421/500]: 100%|██████████| 1500/1500 [00:32<00:00, 45.47it/s, acc=59.8, loss=0.652]\n",
      "Valid--Epoch [421/500]: 100%|██████████| 712/712 [00:05<00:00, 129.88it/s, acc=57.6, loss=0.883]"
     ]
    },
    {
     "name": "stdout",
     "output_type": "stream",
     "text": [
      "\n",
      " epoch: 422/500\n"
     ]
    },
    {
     "name": "stderr",
     "output_type": "stream",
     "text": [
      "\n",
      "Train--Epoch [422/500]: 100%|██████████| 1500/1500 [00:33<00:00, 45.39it/s, acc=59.9, loss=0.652]\n",
      "Valid--Epoch [422/500]: 100%|██████████| 712/712 [00:05<00:00, 130.05it/s, acc=57.6, loss=0.872]\n"
     ]
    },
    {
     "name": "stdout",
     "output_type": "stream",
     "text": [
      "\n",
      " epoch: 423/500\n"
     ]
    },
    {
     "name": "stderr",
     "output_type": "stream",
     "text": [
      "Train--Epoch [423/500]: 100%|██████████| 1500/1500 [00:33<00:00, 45.33it/s, acc=60, loss=0.651] \n",
      "Valid--Epoch [423/500]: 100%|██████████| 712/712 [00:05<00:00, 129.29it/s, acc=57.6, loss=0.877]\n"
     ]
    },
    {
     "name": "stdout",
     "output_type": "stream",
     "text": [
      "\n",
      " epoch: 424/500\n"
     ]
    },
    {
     "name": "stderr",
     "output_type": "stream",
     "text": [
      "Train--Epoch [424/500]: 100%|██████████| 1500/1500 [00:33<00:00, 45.23it/s, acc=60.1, loss=0.651]\n",
      "Valid--Epoch [424/500]: 100%|██████████| 712/712 [00:05<00:00, 127.28it/s, acc=57.6, loss=0.853]\n"
     ]
    },
    {
     "name": "stdout",
     "output_type": "stream",
     "text": [
      "\n",
      " epoch: 425/500\n"
     ]
    },
    {
     "name": "stderr",
     "output_type": "stream",
     "text": [
      "Train--Epoch [425/500]: 100%|██████████| 1500/1500 [00:32<00:00, 45.58it/s, acc=59.8, loss=0.652]\n",
      "Valid--Epoch [425/500]: 100%|██████████| 712/712 [00:05<00:00, 129.69it/s, acc=57.6, loss=0.853]"
     ]
    },
    {
     "name": "stdout",
     "output_type": "stream",
     "text": [
      "\n",
      " epoch: 426/500\n"
     ]
    },
    {
     "name": "stderr",
     "output_type": "stream",
     "text": [
      "\n",
      "Train--Epoch [426/500]: 100%|██████████| 1500/1500 [00:33<00:00, 44.84it/s, acc=59.8, loss=0.652]\n",
      "Valid--Epoch [426/500]: 100%|██████████| 712/712 [00:05<00:00, 128.85it/s, acc=57.6, loss=0.862]"
     ]
    },
    {
     "name": "stdout",
     "output_type": "stream",
     "text": [
      "\n",
      " epoch: 427/500\n"
     ]
    },
    {
     "name": "stderr",
     "output_type": "stream",
     "text": [
      "\n",
      "Train--Epoch [427/500]: 100%|██████████| 1500/1500 [00:32<00:00, 45.48it/s, acc=59.8, loss=0.651]\n",
      "Valid--Epoch [427/500]: 100%|██████████| 712/712 [00:05<00:00, 128.79it/s, acc=57.7, loss=0.849]"
     ]
    },
    {
     "name": "stdout",
     "output_type": "stream",
     "text": [
      "\n",
      " epoch: 428/500\n"
     ]
    },
    {
     "name": "stderr",
     "output_type": "stream",
     "text": [
      "\n",
      "Train--Epoch [428/500]: 100%|██████████| 1500/1500 [00:33<00:00, 45.27it/s, acc=59.9, loss=0.651]\n",
      "Valid--Epoch [428/500]: 100%|██████████| 712/712 [00:05<00:00, 127.92it/s, acc=57.6, loss=0.869]\n"
     ]
    },
    {
     "name": "stdout",
     "output_type": "stream",
     "text": [
      "\n",
      " epoch: 429/500\n"
     ]
    },
    {
     "name": "stderr",
     "output_type": "stream",
     "text": [
      "Train--Epoch [429/500]: 100%|██████████| 1500/1500 [00:33<00:00, 45.22it/s, acc=59.8, loss=0.652]\n",
      "Valid--Epoch [429/500]: 100%|██████████| 712/712 [00:05<00:00, 129.19it/s, acc=57.6, loss=0.862]"
     ]
    },
    {
     "name": "stdout",
     "output_type": "stream",
     "text": [
      "\n",
      " epoch: 430/500\n"
     ]
    },
    {
     "name": "stderr",
     "output_type": "stream",
     "text": [
      "\n",
      "Train--Epoch [430/500]: 100%|██████████| 1500/1500 [00:32<00:00, 45.55it/s, acc=60, loss=0.651]  \n",
      "Valid--Epoch [430/500]: 100%|██████████| 712/712 [00:05<00:00, 130.16it/s, acc=57.7, loss=0.875]"
     ]
    },
    {
     "name": "stdout",
     "output_type": "stream",
     "text": [
      "\n",
      " epoch: 431/500\n"
     ]
    },
    {
     "name": "stderr",
     "output_type": "stream",
     "text": [
      "\n",
      "Train--Epoch [431/500]: 100%|██████████| 1500/1500 [00:33<00:00, 45.23it/s, acc=60, loss=0.651]  \n",
      "Valid--Epoch [431/500]: 100%|██████████| 712/712 [00:05<00:00, 129.13it/s, acc=57.7, loss=0.884]\n"
     ]
    },
    {
     "name": "stdout",
     "output_type": "stream",
     "text": [
      "\n",
      " epoch: 432/500\n"
     ]
    },
    {
     "name": "stderr",
     "output_type": "stream",
     "text": [
      "Train--Epoch [432/500]: 100%|██████████| 1500/1500 [00:33<00:00, 45.33it/s, acc=60, loss=0.652]  \n",
      "Valid--Epoch [432/500]: 100%|██████████| 712/712 [00:05<00:00, 129.66it/s, acc=57.7, loss=0.867]\n"
     ]
    },
    {
     "name": "stdout",
     "output_type": "stream",
     "text": [
      "\n",
      " epoch: 433/500\n"
     ]
    },
    {
     "name": "stderr",
     "output_type": "stream",
     "text": [
      "Train--Epoch [433/500]: 100%|██████████| 1500/1500 [00:32<00:00, 45.54it/s, acc=60, loss=0.651]  \n",
      "Valid--Epoch [433/500]: 100%|██████████| 712/712 [00:05<00:00, 129.81it/s, acc=57.6, loss=0.867]"
     ]
    },
    {
     "name": "stdout",
     "output_type": "stream",
     "text": [
      "\n",
      " epoch: 434/500\n"
     ]
    },
    {
     "name": "stderr",
     "output_type": "stream",
     "text": [
      "\n",
      "Train--Epoch [434/500]: 100%|██████████| 1500/1500 [00:33<00:00, 45.11it/s, acc=60.1, loss=0.651]\n",
      "Valid--Epoch [434/500]: 100%|██████████| 712/712 [00:05<00:00, 130.12it/s, acc=57.7, loss=0.881]"
     ]
    },
    {
     "name": "stdout",
     "output_type": "stream",
     "text": [
      "\n",
      " epoch: 435/500\n"
     ]
    },
    {
     "name": "stderr",
     "output_type": "stream",
     "text": [
      "\n",
      "Train--Epoch [435/500]: 100%|██████████| 1500/1500 [00:32<00:00, 45.47it/s, acc=60, loss=0.651]  \n",
      "Valid--Epoch [435/500]: 100%|██████████| 712/712 [00:05<00:00, 129.94it/s, acc=57.7, loss=0.863]"
     ]
    },
    {
     "name": "stdout",
     "output_type": "stream",
     "text": [
      "\n",
      " epoch: 436/500\n"
     ]
    },
    {
     "name": "stderr",
     "output_type": "stream",
     "text": [
      "\n",
      "Train--Epoch [436/500]: 100%|██████████| 1500/1500 [00:33<00:00, 45.38it/s, acc=59.9, loss=0.65] \n",
      "Valid--Epoch [436/500]: 100%|██████████| 712/712 [00:05<00:00, 128.98it/s, acc=57.7, loss=0.871]"
     ]
    },
    {
     "name": "stdout",
     "output_type": "stream",
     "text": [
      "\n",
      " epoch: 437/500\n"
     ]
    },
    {
     "name": "stderr",
     "output_type": "stream",
     "text": [
      "\n",
      "Train--Epoch [437/500]: 100%|██████████| 1500/1500 [00:33<00:00, 45.20it/s, acc=59.8, loss=0.651]\n",
      "Valid--Epoch [437/500]: 100%|██████████| 712/712 [00:05<00:00, 129.81it/s, acc=57.6, loss=0.883]\n"
     ]
    },
    {
     "name": "stdout",
     "output_type": "stream",
     "text": [
      "\n",
      " epoch: 438/500\n"
     ]
    },
    {
     "name": "stderr",
     "output_type": "stream",
     "text": [
      "Train--Epoch [438/500]: 100%|██████████| 1500/1500 [00:32<00:00, 45.53it/s, acc=59.9, loss=0.651]\n",
      "Valid--Epoch [438/500]: 100%|██████████| 712/712 [00:05<00:00, 126.86it/s, acc=57.6, loss=0.889]"
     ]
    },
    {
     "name": "stdout",
     "output_type": "stream",
     "text": [
      "\n",
      " epoch: 439/500\n"
     ]
    },
    {
     "name": "stderr",
     "output_type": "stream",
     "text": [
      "\n",
      "Train--Epoch [439/500]: 100%|██████████| 1500/1500 [00:33<00:00, 45.29it/s, acc=59.8, loss=0.651]\n",
      "Valid--Epoch [439/500]: 100%|██████████| 712/712 [00:05<00:00, 130.20it/s, acc=57.6, loss=0.871]"
     ]
    },
    {
     "name": "stdout",
     "output_type": "stream",
     "text": [
      "\n",
      " epoch: 440/500\n"
     ]
    },
    {
     "name": "stderr",
     "output_type": "stream",
     "text": [
      "\n",
      "Train--Epoch [440/500]: 100%|██████████| 1500/1500 [00:33<00:00, 45.34it/s, acc=59.9, loss=0.65] \n",
      "Valid--Epoch [440/500]: 100%|██████████| 712/712 [00:05<00:00, 130.41it/s, acc=57.5, loss=0.905]"
     ]
    },
    {
     "name": "stdout",
     "output_type": "stream",
     "text": [
      "\n",
      " epoch: 441/500\n"
     ]
    },
    {
     "name": "stderr",
     "output_type": "stream",
     "text": [
      "\n",
      "Train--Epoch [441/500]: 100%|██████████| 1500/1500 [00:33<00:00, 45.44it/s, acc=60.1, loss=0.651]\n",
      "Valid--Epoch [441/500]: 100%|██████████| 712/712 [00:05<00:00, 129.18it/s, acc=57.7, loss=0.874]\n"
     ]
    },
    {
     "name": "stdout",
     "output_type": "stream",
     "text": [
      "\n",
      " epoch: 442/500\n"
     ]
    },
    {
     "name": "stderr",
     "output_type": "stream",
     "text": [
      "Train--Epoch [442/500]: 100%|██████████| 1500/1500 [00:32<00:00, 45.47it/s, acc=60.1, loss=0.651]\n",
      "Valid--Epoch [442/500]: 100%|██████████| 712/712 [00:05<00:00, 129.44it/s, acc=57.6, loss=0.87] \n"
     ]
    },
    {
     "name": "stdout",
     "output_type": "stream",
     "text": [
      "\n",
      " epoch: 443/500\n"
     ]
    },
    {
     "name": "stderr",
     "output_type": "stream",
     "text": [
      "Train--Epoch [443/500]: 100%|██████████| 1500/1500 [00:33<00:00, 45.35it/s, acc=59.9, loss=0.652]\n",
      "Valid--Epoch [443/500]: 100%|██████████| 712/712 [00:05<00:00, 129.56it/s, acc=57.7, loss=0.861]"
     ]
    },
    {
     "name": "stdout",
     "output_type": "stream",
     "text": [
      "\n",
      " epoch: 444/500\n"
     ]
    },
    {
     "name": "stderr",
     "output_type": "stream",
     "text": [
      "\n",
      "Train--Epoch [444/500]: 100%|██████████| 1500/1500 [00:32<00:00, 45.62it/s, acc=60, loss=0.651]  \n",
      "Valid--Epoch [444/500]: 100%|██████████| 712/712 [00:05<00:00, 128.91it/s, acc=57.7, loss=0.87] "
     ]
    },
    {
     "name": "stdout",
     "output_type": "stream",
     "text": [
      "\n",
      " epoch: 445/500\n"
     ]
    },
    {
     "name": "stderr",
     "output_type": "stream",
     "text": [
      "\n",
      "Train--Epoch [445/500]: 100%|██████████| 1500/1500 [00:33<00:00, 45.42it/s, acc=60, loss=0.651]  \n",
      "Valid--Epoch [445/500]: 100%|██████████| 712/712 [00:05<00:00, 129.34it/s, acc=57.7, loss=0.867]\n"
     ]
    },
    {
     "name": "stdout",
     "output_type": "stream",
     "text": [
      "\n",
      " epoch: 446/500\n"
     ]
    },
    {
     "name": "stderr",
     "output_type": "stream",
     "text": [
      "Train--Epoch [446/500]: 100%|██████████| 1500/1500 [00:33<00:00, 45.39it/s, acc=59.8, loss=0.652]\n",
      "Valid--Epoch [446/500]: 100%|██████████| 712/712 [00:05<00:00, 129.75it/s, acc=57.7, loss=0.864]\n"
     ]
    },
    {
     "name": "stdout",
     "output_type": "stream",
     "text": [
      "\n",
      " epoch: 447/500\n"
     ]
    },
    {
     "name": "stderr",
     "output_type": "stream",
     "text": [
      "Train--Epoch [447/500]: 100%|██████████| 1500/1500 [00:33<00:00, 45.36it/s, acc=59.8, loss=0.652]\n",
      "Valid--Epoch [447/500]: 100%|██████████| 712/712 [00:05<00:00, 129.14it/s, acc=57.7, loss=0.86] "
     ]
    },
    {
     "name": "stdout",
     "output_type": "stream",
     "text": [
      "\n",
      " epoch: 448/500\n"
     ]
    },
    {
     "name": "stderr",
     "output_type": "stream",
     "text": [
      "\n",
      "Train--Epoch [448/500]: 100%|██████████| 1500/1500 [00:33<00:00, 45.15it/s, acc=60.1, loss=0.65] \n",
      "Valid--Epoch [448/500]: 100%|██████████| 712/712 [00:05<00:00, 129.69it/s, acc=57.6, loss=0.872]\n"
     ]
    },
    {
     "name": "stdout",
     "output_type": "stream",
     "text": [
      "\n",
      " epoch: 449/500\n"
     ]
    },
    {
     "name": "stderr",
     "output_type": "stream",
     "text": [
      "Train--Epoch [449/500]: 100%|██████████| 1500/1500 [00:33<00:00, 44.59it/s, acc=59.8, loss=0.651]\n",
      "Valid--Epoch [449/500]: 100%|██████████| 712/712 [00:05<00:00, 127.45it/s, acc=57.6, loss=0.88] "
     ]
    },
    {
     "name": "stdout",
     "output_type": "stream",
     "text": [
      "\n",
      " epoch: 450/500\n"
     ]
    },
    {
     "name": "stderr",
     "output_type": "stream",
     "text": [
      "\n",
      "Train--Epoch [450/500]: 100%|██████████| 1500/1500 [00:33<00:00, 45.26it/s, acc=59.9, loss=0.651]\n",
      "Valid--Epoch [450/500]: 100%|██████████| 712/712 [00:05<00:00, 129.43it/s, acc=57.5, loss=0.876]"
     ]
    },
    {
     "name": "stdout",
     "output_type": "stream",
     "text": [
      "\n",
      " epoch: 451/500\n"
     ]
    },
    {
     "name": "stderr",
     "output_type": "stream",
     "text": [
      "\n",
      "Train--Epoch [451/500]: 100%|██████████| 1500/1500 [00:33<00:00, 45.35it/s, acc=60.1, loss=0.651]\n",
      "Valid--Epoch [451/500]: 100%|██████████| 712/712 [00:05<00:00, 128.97it/s, acc=57.5, loss=0.874]\n"
     ]
    },
    {
     "name": "stdout",
     "output_type": "stream",
     "text": [
      "\n",
      " epoch: 452/500\n"
     ]
    },
    {
     "name": "stderr",
     "output_type": "stream",
     "text": [
      "Train--Epoch [452/500]:  99%|█████████▉| 1485/1500 [00:32<00:00, 45.40it/s, acc=59.9, loss=0.651]\n"
     ]
    },
    {
     "ename": "_LinAlgError",
     "evalue": "Caught _LinAlgError in DataLoader worker process 5.\nOriginal Traceback (most recent call last):\n  File \"/home/osmahus/pytVenv/lib/python3.11/site-packages/torch/utils/data/_utils/worker.py\", line 308, in _worker_loop\n    data = fetcher.fetch(index)\n           ^^^^^^^^^^^^^^^^^^^^\n  File \"/home/osmahus/pytVenv/lib/python3.11/site-packages/torch/utils/data/_utils/fetch.py\", line 51, in fetch\n    data = [self.dataset[idx] for idx in possibly_batched_index]\n           ^^^^^^^^^^^^^^^^^^^^^^^^^^^^^^^^^^^^^^^^^^^^^^^^^^^^^\n  File \"/home/osmahus/pytVenv/lib/python3.11/site-packages/torch/utils/data/_utils/fetch.py\", line 51, in <listcomp>\n    data = [self.dataset[idx] for idx in possibly_batched_index]\n            ~~~~~~~~~~~~^^^^^\n  File \"/tmp/ipykernel_218902/467517513.py\", line 14, in __getitem__\n    img_t = self.transform(img)\n            ^^^^^^^^^^^^^^^^^^^\n  File \"/home/osmahus/pytVenv/lib/python3.11/site-packages/torchvision/transforms/transforms.py\", line 95, in __call__\n    img = t(img)\n          ^^^^^^\n  File \"/home/osmahus/pytVenv/lib/python3.11/site-packages/torch/nn/modules/module.py\", line 1511, in _wrapped_call_impl\n    return self._call_impl(*args, **kwargs)\n           ^^^^^^^^^^^^^^^^^^^^^^^^^^^^^^^^\n  File \"/home/osmahus/pytVenv/lib/python3.11/site-packages/torch/nn/modules/module.py\", line 1520, in _call_impl\n    return forward_call(*args, **kwargs)\n           ^^^^^^^^^^^^^^^^^^^^^^^^^^^^^\n  File \"/home/osmahus/pytVenv/lib/python3.11/site-packages/torchvision/transforms/v2/_transform.py\", line 167, in forward\n    params = self._get_params(\n             ^^^^^^^^^^^^^^^^^\n  File \"/home/osmahus/pytVenv/lib/python3.11/site-packages/torchvision/transforms/v2/_geometry.py\", line 967, in _get_params\n    perspective_coeffs = _get_perspective_coeffs(startpoints, endpoints)\n                         ^^^^^^^^^^^^^^^^^^^^^^^^^^^^^^^^^^^^^^^^^^^^^^^\n  File \"/home/osmahus/pytVenv/lib/python3.11/site-packages/torchvision/transforms/functional.py\", line 686, in _get_perspective_coeffs\n    res = torch.linalg.lstsq(a_matrix, b_matrix, driver=\"gels\").solution\n          ^^^^^^^^^^^^^^^^^^^^^^^^^^^^^^^^^^^^^^^^^^^^^^^^^^^^^\ntorch._C._LinAlgError: torch.linalg.lstsq: The least squares solution could not be computed because the input matrix does not have full rank (error code: 8).\n",
     "output_type": "error",
     "traceback": [
      "\u001b[0;31m---------------------------------------------------------------------------\u001b[0m",
      "\u001b[0;31m_LinAlgError\u001b[0m                              Traceback (most recent call last)",
      "Cell \u001b[0;32mIn[25], line 13\u001b[0m\n\u001b[1;32m     10\u001b[0m total \u001b[38;5;241m=\u001b[39m \u001b[38;5;241m0\u001b[39m\n\u001b[1;32m     12\u001b[0m loop1 \u001b[38;5;241m=\u001b[39m tqdm(\u001b[38;5;28menumerate\u001b[39m(train_loader), total\u001b[38;5;241m=\u001b[39m\u001b[38;5;28mlen\u001b[39m(train_loader))\n\u001b[0;32m---> 13\u001b[0m \u001b[43m\u001b[49m\u001b[38;5;28;43;01mfor\u001b[39;49;00m\u001b[43m \u001b[49m\u001b[43mbatch_idx\u001b[49m\u001b[43m,\u001b[49m\u001b[43m \u001b[49m\u001b[43m(\u001b[49m\u001b[43minputs\u001b[49m\u001b[43m,\u001b[49m\u001b[43m \u001b[49m\u001b[43mtargets\u001b[49m\u001b[43m)\u001b[49m\u001b[43m \u001b[49m\u001b[38;5;129;43;01min\u001b[39;49;00m\u001b[43m \u001b[49m\u001b[43mloop1\u001b[49m\u001b[43m:\u001b[49m\n\u001b[1;32m     14\u001b[0m \u001b[43m    \u001b[49m\u001b[43minputs\u001b[49m\u001b[43m,\u001b[49m\u001b[43m \u001b[49m\u001b[43mtargets\u001b[49m\u001b[43m \u001b[49m\u001b[38;5;241;43m=\u001b[39;49m\u001b[43m \u001b[49m\u001b[43minputs\u001b[49m\u001b[38;5;241;43m.\u001b[39;49m\u001b[43mto\u001b[49m\u001b[43m(\u001b[49m\u001b[43mdevice\u001b[49m\u001b[43m)\u001b[49m\u001b[43m,\u001b[49m\u001b[43m \u001b[49m\u001b[43mtargets\u001b[49m\u001b[38;5;241;43m.\u001b[39;49m\u001b[43mto\u001b[49m\u001b[43m(\u001b[49m\u001b[43mdevice\u001b[49m\u001b[43m)\u001b[49m\n\u001b[1;32m     16\u001b[0m \u001b[43m    \u001b[49m\u001b[43moutputs\u001b[49m\u001b[43m \u001b[49m\u001b[38;5;241;43m=\u001b[39;49m\u001b[43m \u001b[49m\u001b[43mmodel\u001b[49m\u001b[43m(\u001b[49m\u001b[43minputs\u001b[49m\u001b[43m)\u001b[49m\n",
      "File \u001b[0;32m~/pytVenv/lib/python3.11/site-packages/tqdm/std.py:1181\u001b[0m, in \u001b[0;36mtqdm.__iter__\u001b[0;34m(self)\u001b[0m\n\u001b[1;32m   1178\u001b[0m time \u001b[38;5;241m=\u001b[39m \u001b[38;5;28mself\u001b[39m\u001b[38;5;241m.\u001b[39m_time\n\u001b[1;32m   1180\u001b[0m \u001b[38;5;28;01mtry\u001b[39;00m:\n\u001b[0;32m-> 1181\u001b[0m \u001b[43m    \u001b[49m\u001b[38;5;28;43;01mfor\u001b[39;49;00m\u001b[43m \u001b[49m\u001b[43mobj\u001b[49m\u001b[43m \u001b[49m\u001b[38;5;129;43;01min\u001b[39;49;00m\u001b[43m \u001b[49m\u001b[43miterable\u001b[49m\u001b[43m:\u001b[49m\n\u001b[1;32m   1182\u001b[0m \u001b[43m        \u001b[49m\u001b[38;5;28;43;01myield\u001b[39;49;00m\u001b[43m \u001b[49m\u001b[43mobj\u001b[49m\n\u001b[1;32m   1183\u001b[0m \u001b[43m        \u001b[49m\u001b[38;5;66;43;03m# Update and possibly print the progressbar.\u001b[39;49;00m\n\u001b[1;32m   1184\u001b[0m \u001b[43m        \u001b[49m\u001b[38;5;66;43;03m# Note: does not call self.update(1) for speed optimisation.\u001b[39;49;00m\n",
      "File \u001b[0;32m~/pytVenv/lib/python3.11/site-packages/torch/utils/data/dataloader.py:631\u001b[0m, in \u001b[0;36m_BaseDataLoaderIter.__next__\u001b[0;34m(self)\u001b[0m\n\u001b[1;32m    628\u001b[0m \u001b[38;5;28;01mif\u001b[39;00m \u001b[38;5;28mself\u001b[39m\u001b[38;5;241m.\u001b[39m_sampler_iter \u001b[38;5;129;01mis\u001b[39;00m \u001b[38;5;28;01mNone\u001b[39;00m:\n\u001b[1;32m    629\u001b[0m     \u001b[38;5;66;03m# TODO(https://github.com/pytorch/pytorch/issues/76750)\u001b[39;00m\n\u001b[1;32m    630\u001b[0m     \u001b[38;5;28mself\u001b[39m\u001b[38;5;241m.\u001b[39m_reset()  \u001b[38;5;66;03m# type: ignore[call-arg]\u001b[39;00m\n\u001b[0;32m--> 631\u001b[0m data \u001b[38;5;241m=\u001b[39m \u001b[38;5;28;43mself\u001b[39;49m\u001b[38;5;241;43m.\u001b[39;49m\u001b[43m_next_data\u001b[49m\u001b[43m(\u001b[49m\u001b[43m)\u001b[49m\n\u001b[1;32m    632\u001b[0m \u001b[38;5;28mself\u001b[39m\u001b[38;5;241m.\u001b[39m_num_yielded \u001b[38;5;241m+\u001b[39m\u001b[38;5;241m=\u001b[39m \u001b[38;5;241m1\u001b[39m\n\u001b[1;32m    633\u001b[0m \u001b[38;5;28;01mif\u001b[39;00m \u001b[38;5;28mself\u001b[39m\u001b[38;5;241m.\u001b[39m_dataset_kind \u001b[38;5;241m==\u001b[39m _DatasetKind\u001b[38;5;241m.\u001b[39mIterable \u001b[38;5;129;01mand\u001b[39;00m \\\n\u001b[1;32m    634\u001b[0m         \u001b[38;5;28mself\u001b[39m\u001b[38;5;241m.\u001b[39m_IterableDataset_len_called \u001b[38;5;129;01mis\u001b[39;00m \u001b[38;5;129;01mnot\u001b[39;00m \u001b[38;5;28;01mNone\u001b[39;00m \u001b[38;5;129;01mand\u001b[39;00m \\\n\u001b[1;32m    635\u001b[0m         \u001b[38;5;28mself\u001b[39m\u001b[38;5;241m.\u001b[39m_num_yielded \u001b[38;5;241m>\u001b[39m \u001b[38;5;28mself\u001b[39m\u001b[38;5;241m.\u001b[39m_IterableDataset_len_called:\n",
      "File \u001b[0;32m~/pytVenv/lib/python3.11/site-packages/torch/utils/data/dataloader.py:1346\u001b[0m, in \u001b[0;36m_MultiProcessingDataLoaderIter._next_data\u001b[0;34m(self)\u001b[0m\n\u001b[1;32m   1344\u001b[0m \u001b[38;5;28;01melse\u001b[39;00m:\n\u001b[1;32m   1345\u001b[0m     \u001b[38;5;28;01mdel\u001b[39;00m \u001b[38;5;28mself\u001b[39m\u001b[38;5;241m.\u001b[39m_task_info[idx]\n\u001b[0;32m-> 1346\u001b[0m     \u001b[38;5;28;01mreturn\u001b[39;00m \u001b[38;5;28;43mself\u001b[39;49m\u001b[38;5;241;43m.\u001b[39;49m\u001b[43m_process_data\u001b[49m\u001b[43m(\u001b[49m\u001b[43mdata\u001b[49m\u001b[43m)\u001b[49m\n",
      "File \u001b[0;32m~/pytVenv/lib/python3.11/site-packages/torch/utils/data/dataloader.py:1372\u001b[0m, in \u001b[0;36m_MultiProcessingDataLoaderIter._process_data\u001b[0;34m(self, data)\u001b[0m\n\u001b[1;32m   1370\u001b[0m \u001b[38;5;28mself\u001b[39m\u001b[38;5;241m.\u001b[39m_try_put_index()\n\u001b[1;32m   1371\u001b[0m \u001b[38;5;28;01mif\u001b[39;00m \u001b[38;5;28misinstance\u001b[39m(data, ExceptionWrapper):\n\u001b[0;32m-> 1372\u001b[0m     \u001b[43mdata\u001b[49m\u001b[38;5;241;43m.\u001b[39;49m\u001b[43mreraise\u001b[49m\u001b[43m(\u001b[49m\u001b[43m)\u001b[49m\n\u001b[1;32m   1373\u001b[0m \u001b[38;5;28;01mreturn\u001b[39;00m data\n",
      "File \u001b[0;32m~/pytVenv/lib/python3.11/site-packages/torch/_utils.py:722\u001b[0m, in \u001b[0;36mExceptionWrapper.reraise\u001b[0;34m(self)\u001b[0m\n\u001b[1;32m    718\u001b[0m \u001b[38;5;28;01mexcept\u001b[39;00m \u001b[38;5;167;01mTypeError\u001b[39;00m:\n\u001b[1;32m    719\u001b[0m     \u001b[38;5;66;03m# If the exception takes multiple arguments, don't try to\u001b[39;00m\n\u001b[1;32m    720\u001b[0m     \u001b[38;5;66;03m# instantiate since we don't know how to\u001b[39;00m\n\u001b[1;32m    721\u001b[0m     \u001b[38;5;28;01mraise\u001b[39;00m \u001b[38;5;167;01mRuntimeError\u001b[39;00m(msg) \u001b[38;5;28;01mfrom\u001b[39;00m \u001b[38;5;28;01mNone\u001b[39;00m\n\u001b[0;32m--> 722\u001b[0m \u001b[38;5;28;01mraise\u001b[39;00m exception\n",
      "\u001b[0;31m_LinAlgError\u001b[0m: Caught _LinAlgError in DataLoader worker process 5.\nOriginal Traceback (most recent call last):\n  File \"/home/osmahus/pytVenv/lib/python3.11/site-packages/torch/utils/data/_utils/worker.py\", line 308, in _worker_loop\n    data = fetcher.fetch(index)\n           ^^^^^^^^^^^^^^^^^^^^\n  File \"/home/osmahus/pytVenv/lib/python3.11/site-packages/torch/utils/data/_utils/fetch.py\", line 51, in fetch\n    data = [self.dataset[idx] for idx in possibly_batched_index]\n           ^^^^^^^^^^^^^^^^^^^^^^^^^^^^^^^^^^^^^^^^^^^^^^^^^^^^^\n  File \"/home/osmahus/pytVenv/lib/python3.11/site-packages/torch/utils/data/_utils/fetch.py\", line 51, in <listcomp>\n    data = [self.dataset[idx] for idx in possibly_batched_index]\n            ~~~~~~~~~~~~^^^^^\n  File \"/tmp/ipykernel_218902/467517513.py\", line 14, in __getitem__\n    img_t = self.transform(img)\n            ^^^^^^^^^^^^^^^^^^^\n  File \"/home/osmahus/pytVenv/lib/python3.11/site-packages/torchvision/transforms/transforms.py\", line 95, in __call__\n    img = t(img)\n          ^^^^^^\n  File \"/home/osmahus/pytVenv/lib/python3.11/site-packages/torch/nn/modules/module.py\", line 1511, in _wrapped_call_impl\n    return self._call_impl(*args, **kwargs)\n           ^^^^^^^^^^^^^^^^^^^^^^^^^^^^^^^^\n  File \"/home/osmahus/pytVenv/lib/python3.11/site-packages/torch/nn/modules/module.py\", line 1520, in _call_impl\n    return forward_call(*args, **kwargs)\n           ^^^^^^^^^^^^^^^^^^^^^^^^^^^^^\n  File \"/home/osmahus/pytVenv/lib/python3.11/site-packages/torchvision/transforms/v2/_transform.py\", line 167, in forward\n    params = self._get_params(\n             ^^^^^^^^^^^^^^^^^\n  File \"/home/osmahus/pytVenv/lib/python3.11/site-packages/torchvision/transforms/v2/_geometry.py\", line 967, in _get_params\n    perspective_coeffs = _get_perspective_coeffs(startpoints, endpoints)\n                         ^^^^^^^^^^^^^^^^^^^^^^^^^^^^^^^^^^^^^^^^^^^^^^^\n  File \"/home/osmahus/pytVenv/lib/python3.11/site-packages/torchvision/transforms/functional.py\", line 686, in _get_perspective_coeffs\n    res = torch.linalg.lstsq(a_matrix, b_matrix, driver=\"gels\").solution\n          ^^^^^^^^^^^^^^^^^^^^^^^^^^^^^^^^^^^^^^^^^^^^^^^^^^^^^\ntorch._C._LinAlgError: torch.linalg.lstsq: The least squares solution could not be computed because the input matrix does not have full rank (error code: 8).\n"
     ]
    }
   ],
   "source": [
    "model.to(device)\n",
    "for epoch in range(start_epoch, n_epochs):\n",
    "\n",
    "    print(f'\\n epoch: {epoch+1}/{n_epochs}')\n",
    "\n",
    "    ##########################################################\n",
    "    model.train(True)\n",
    "    tr_loss = 0\n",
    "    correct = 0\n",
    "    total = 0\n",
    "\n",
    "    loop1 = tqdm(enumerate(train_loader), total=len(train_loader))\n",
    "    for batch_idx, (inputs, targets) in loop1:\n",
    "        inputs, targets = inputs.to(device), targets.to(device)\n",
    "\n",
    "        outputs = model(inputs)\n",
    "        loss = criterion(outputs, targets)\n",
    "\n",
    "\n",
    "        # Zero gradients for every batch\n",
    "        optimizer.zero_grad()\n",
    "        # Backward path (Gradient)\n",
    "        loss.backward()\n",
    "        # Optimizer(Adam) Step\n",
    "        optimizer.step()\n",
    "\n",
    "        tr_loss += loss.item()\n",
    "        _, predicted = outputs.max(1)\n",
    "        total += targets.size(0)\n",
    "        correct += predicted.eq(targets).sum().item()\n",
    "\n",
    "        avg_tr_loss = tr_loss/(batch_idx+1)\n",
    "        avg_tr_accuracy = 100.*correct/total\n",
    "\n",
    "        loop1.set_description(f\"Train--Epoch [{epoch+1}/{n_epochs}]\")\n",
    "        loop1.set_postfix(loss=avg_tr_loss, acc=avg_tr_accuracy)\n",
    "\n",
    "    ##########################################################\n",
    "    list_tr_loss.append(avg_tr_loss)\n",
    "    list_tr_acc.append(avg_tr_accuracy)\n",
    "\n",
    "    ##########################################################\n",
    "    model.eval()\n",
    "    val_loss = 0\n",
    "    correct = 0\n",
    "    total = 0\n",
    "    with torch.no_grad():\n",
    "\n",
    "        loop2 = tqdm(enumerate(valid_loader), total=len(valid_loader))\n",
    "        for batch_idx, (inputs, targets) in loop2:\n",
    "            inputs, targets = inputs.to(device), targets.to(device)\n",
    "\n",
    "            outputs = model(inputs)\n",
    "            loss = criterion(outputs, targets)\n",
    "\n",
    "            val_loss += loss.item()\n",
    "            _, predicted = outputs.max(1)\n",
    "            total += targets.size(0)\n",
    "            correct += predicted.eq(targets).sum().item()\n",
    "\n",
    "            avg_val_loss = val_loss/(batch_idx+1)\n",
    "            avg_val_accuracy = 100.*correct/total\n",
    "\n",
    "            loop2.set_description(f\"Valid--Epoch [{epoch+1}/{n_epochs}]\")\n",
    "            loop2.set_postfix(loss=avg_val_loss, acc=avg_val_accuracy)\n",
    "\n",
    "    list_val_loss.append(avg_val_loss)\n",
    "    list_val_acc.append(avg_val_accuracy)\n",
    "\n",
    "    # Save checkpoint.\n",
    "    if avg_val_accuracy > best_acc:\n",
    "        best_acc = avg_val_accuracy\n",
    "\n",
    "        print('Saving..')\n",
    "        state = {\"model\": model.state_dict(),\n",
    "                 \"optimizer\": optimizer.state_dict(),\n",
    "                 \"epoch\": epoch,\n",
    "                 \"list_tr_loss\": list_tr_loss,\n",
    "                 \"list_tr_acc\": list_tr_acc,\n",
    "                 \"list_val_loss\": list_val_loss,\n",
    "                 \"list_val_acc\": list_val_acc\n",
    "                 }\n",
    "        torch.save(state, model_state_path +\n",
    "                   f'vit_patch{patch_size}_cifak_epoch_{epoch}')\n",
    "\n",
    "    ##########################################################\n",
    "\n",
    "    scheduler.step()  # step cosine scheduling"
   ]
  },
  {
   "cell_type": "code",
   "execution_count": 27,
   "metadata": {},
   "outputs": [
    {
     "data": {
      "image/png": "[encoded data removed]",
      "text/plain": [
       "<Figure size 640x480 with 2 Axes>"
      ]
     },
     "metadata": {},
     "output_type": "display_data"
    }
   ],
   "source": [
    "fig, axs = plt.subplots(2, 1)\n",
    "\n",
    "axs[0].plot(range(len(list_tr_loss )), list_tr_loss , label='Train Loss')\n",
    "axs[0].plot(range(len(list_val_loss)), list_val_loss, label='Validation Loss')\n",
    "axs[0].set_ylim([0,5])\n",
    "\n",
    "axs[1].plot(range(len(list_tr_acc)), list_tr_acc, label='Train Accuracy')\n",
    "axs[1].plot(range(len(list_val_acc)), list_val_acc, label='Validation Accuracy')\n",
    "axs[1].set_ylim([40,80])\n",
    "\n",
    "axs[0].legend()\n",
    "axs[1].legend()\n",
    "plt.show()"
   ]
  }
 ],
 "metadata": {
  "kernelspec": {
   "display_name": "timmvenv11",
   "language": "python",
   "name": "python3"
  },
  "language_info": {
   "codemirror_mode": {
    "name": "ipython",
    "version": 3
   },
   "file_extension": ".py",
   "mimetype": "text/x-python",
   "name": "python",
   "nbconvert_exporter": "python",
   "pygments_lexer": "ipython3",
   "version": "3.11.0rc1"
  }
 },
 "nbformat": 4,
 "nbformat_minor": 2
}
