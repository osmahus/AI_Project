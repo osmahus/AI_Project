{
 "cells": [
  {
   "cell_type": "code",
   "execution_count": 1,
   "metadata": {},
   "outputs": [],
   "source": [
    "import os\n",
    "import cv2\n",
    "\n",
    "from helpers.dataset_process import dataset_to_df, search_df\n",
    "\n",
    "import numpy as np\n",
    "# import pandas as pd\n",
    "\n",
    "from tqdm import tqdm\n",
    "\n",
    "import matplotlib.pyplot as plt\n",
    "from mpl_toolkits.axes_grid1 import ImageGrid\n",
    "\n",
    "import torch\n",
    "import torch.nn as nn\n",
    "\n",
    "# The cross-entropy loss penalizes the model more when it is more confident in the incorrect class\n",
    "from torch.nn import CrossEntropyLoss\n",
    "\n",
    "# Adam is an optimization algorithm that can be used instead of the classical SGD procedure\n",
    "# to update network weights iterative based in training data.\n",
    "from torch.optim import SGD, Adam\n",
    "from torch.optim.lr_scheduler import CosineAnnealingLR\n",
    "from torch.utils.data import Dataset, DataLoader, random_split\n",
    "\n",
    "from torchvision import transforms\n",
    "from torchvision.transforms import v2\n",
    "from torchvision.io import read_image\n",
    "\n",
    "from torchinfo import summary\n",
    "\n",
    "from einops import rearrange, repeat\n",
    "from einops.layers.torch import Rearrange\n"
   ]
  },
  {
   "cell_type": "code",
   "execution_count": 2,
   "metadata": {},
   "outputs": [
    {
     "name": "stdout",
     "output_type": "stream",
     "text": [
      "torch version: 2.2.1+cu121\n",
      "GPU Card: NVIDIA GeForce RTX 3070 Ti Laptop GPU\n",
      "Torch is using device: cuda:0\n",
      "CPU Count: 20\n"
     ]
    }
   ],
   "source": [
    "print(f\"torch version: {torch.__version__}\")\n",
    "print(f\"GPU Card: {torch.cuda.get_device_name(0)}\")\n",
    "device = torch.device('cuda:0' if torch.cuda.is_available() else 'cpu')\n",
    "print('Torch is using device:', device)\n",
    "torch.cuda.get_device_name(device)\n",
    "\n",
    "NUM_WORKERS = os.cpu_count()\n",
    "print(\"CPU Count:\", NUM_WORKERS)"
   ]
  },
  {
   "cell_type": "code",
   "execution_count": 3,
   "metadata": {},
   "outputs": [],
   "source": [
    "add_extra_epochs = True # if True then continue for extra epochs from the starting epoch\n",
    "start_from_model = True # If True we will continue training from that a pretrained model"
   ]
  },
  {
   "cell_type": "code",
   "execution_count": 4,
   "metadata": {},
   "outputs": [],
   "source": [
    "model_state_path = \"../../../weights/vit_cifak/checkpoint/\"\n",
    "model_file_name = \"vit_patch8_cifak_epoch_263\"\n",
    "checkpoint = torch.load(model_state_path+model_file_name)"
   ]
  },
  {
   "cell_type": "code",
   "execution_count": 5,
   "metadata": {},
   "outputs": [
    {
     "name": "stdout",
     "output_type": "stream",
     "text": [
      "Flattened dimension size(of a patch): 192\n",
      "Embedding Size: 192\n",
      "Output MLP size: 512\n"
     ]
    }
   ],
   "source": [
    "img_size = 32  # Input image height/width in pixels\n",
    "patch_size = 8 # The height/width of a patch in pixels (patch is a slice of an image)\n",
    "\n",
    "image_patch_flat_size = 3*patch_size**2 #3 Channels x height x width\n",
    "embed_size = image_patch_flat_size\n",
    "mlp_dim = 512 # dim of the last mlp classifier\n",
    "\n",
    "train_batch_size = 512 # https://www.youtube.com/watch?v=Owm1H0ukjS4\n",
    "valid_batch_size = 512\n",
    "\n",
    "num_classes = 2\n",
    "encoder_depth = 6\n",
    "attention_heads = 12\n",
    "\n",
    "print(f'Flattened dimension size(of a patch): {image_patch_flat_size}')\n",
    "print(f'Embedding Size: {embed_size}')\n",
    "print(f'Output MLP size: {mlp_dim}')"
   ]
  },
  {
   "cell_type": "code",
   "execution_count": 6,
   "metadata": {},
   "outputs": [
    {
     "name": "stdout",
     "output_type": "stream",
     "text": [
      "Train another 100 epochs after epoch 263 \n"
     ]
    }
   ],
   "source": [
    "n_extra_epochs = 100\n",
    "max_epochs = 400\n",
    "\n",
    "start_epoch = checkpoint['epoch'] if start_from_model else 0\n",
    "end_epoch = start_epoch + n_extra_epochs if add_extra_epochs else max_epochs\n",
    "delta_epochs = end_epoch-start_epoch\n",
    "\n",
    "print(f\"Train another {delta_epochs} epochs after epoch {start_epoch} \")"
   ]
  },
  {
   "cell_type": "code",
   "execution_count": 7,
   "metadata": {},
   "outputs": [],
   "source": [
    "base_lr = 0.005         # Base Learning rate 0.1 for SGD , 0.001 for Adam\n",
    "momentum = 0.9          # Momentum for SGD\n",
    "weight_decay = 0.03     # Weight decay for Adam\n",
    "\n",
    "\n",
    "loss_algo = CrossEntropyLoss\n",
    "\n",
    "optimize_algo = SGD  # Adam\n",
    "optimize_args = {\"lr\": base_lr,\n",
    "                 \"weight_decay\": weight_decay,\n",
    "                 \"momentum\": momentum  # comment momentum for Adam\n",
    "                 }\n",
    "\n",
    "use_scheduler = True\n",
    "schedule_algo = CosineAnnealingLR\n",
    "schedule_args = {\"T_max\": delta_epochs}"
   ]
  },
  {
   "cell_type": "code",
   "execution_count": 8,
   "metadata": {},
   "outputs": [],
   "source": [
    "path = '../../../data/CIFAK'\n",
    "relative_paths = [\"/train/REAL\", \"/train/FAKE\", \"/test/REAL\", \"/test/FAKE\"]\n",
    "paths_classes = [\"REAL\", \"FAKE\", \"REAL\", \"FAKE\"]"
   ]
  },
  {
   "cell_type": "code",
   "execution_count": 9,
   "metadata": {},
   "outputs": [
    {
     "data": {
      "text/html": [
       "<div>\n",
       "<style scoped>\n",
       "    .dataframe tbody tr th:only-of-type {\n",
       "        vertical-align: middle;\n",
       "    }\n",
       "\n",
       "    .dataframe tbody tr th {\n",
       "        vertical-align: top;\n",
       "    }\n",
       "\n",
       "    .dataframe thead th {\n",
       "        text-align: right;\n",
       "    }\n",
       "</style>\n",
       "<table border=\"1\" class=\"dataframe\">\n",
       "  <thead>\n",
       "    <tr style=\"text-align: right;\">\n",
       "      <th></th>\n",
       "      <th>REAL</th>\n",
       "      <th>FAKE</th>\n",
       "      <th>Total</th>\n",
       "    </tr>\n",
       "  </thead>\n",
       "  <tbody>\n",
       "    <tr>\n",
       "      <th>Training</th>\n",
       "      <td>48000</td>\n",
       "      <td>48000</td>\n",
       "      <td>96000</td>\n",
       "    </tr>\n",
       "    <tr>\n",
       "      <th>Validation</th>\n",
       "      <td>11400</td>\n",
       "      <td>11400</td>\n",
       "      <td>22800</td>\n",
       "    </tr>\n",
       "    <tr>\n",
       "      <th>Testing</th>\n",
       "      <td>600</td>\n",
       "      <td>600</td>\n",
       "      <td>1200</td>\n",
       "    </tr>\n",
       "    <tr>\n",
       "      <th>Row_Total</th>\n",
       "      <td>60000</td>\n",
       "      <td>60000</td>\n",
       "      <td>120000</td>\n",
       "    </tr>\n",
       "  </tbody>\n",
       "</table>\n",
       "</div>"
      ],
      "text/plain": [
       "             REAL   FAKE   Total\n",
       "Training    48000  48000   96000\n",
       "Validation  11400  11400   22800\n",
       "Testing       600    600    1200\n",
       "Row_Total   60000  60000  120000"
      ]
     },
     "execution_count": 9,
     "metadata": {},
     "output_type": "execute_result"
    }
   ],
   "source": [
    "df_all, df_train, df_val, df_test, classes_stats = dataset_to_df(path, relative_paths, paths_classes, 0.8, 0.19, 0.01)\n",
    "classes_stats"
   ]
  },
  {
   "cell_type": "code",
   "execution_count": 10,
   "metadata": {},
   "outputs": [
    {
     "name": "stdout",
     "output_type": "stream",
     "text": [
      "First and Last Elements in the Whole dataset\n"
     ]
    },
    {
     "data": {
      "text/html": [
       "<div>\n",
       "<style scoped>\n",
       "    .dataframe tbody tr th:only-of-type {\n",
       "        vertical-align: middle;\n",
       "    }\n",
       "\n",
       "    .dataframe tbody tr th {\n",
       "        vertical-align: top;\n",
       "    }\n",
       "\n",
       "    .dataframe thead th {\n",
       "        text-align: right;\n",
       "    }\n",
       "</style>\n",
       "<table border=\"1\" class=\"dataframe\">\n",
       "  <thead>\n",
       "    <tr style=\"text-align: right;\">\n",
       "      <th></th>\n",
       "      <th>Image_path</th>\n",
       "      <th>Image_size</th>\n",
       "      <th>Class</th>\n",
       "      <th>Class_Codes</th>\n",
       "      <th>Class_Onehot</th>\n",
       "    </tr>\n",
       "  </thead>\n",
       "  <tbody>\n",
       "    <tr>\n",
       "      <th>0</th>\n",
       "      <td>../../../data/CIFAK//train/REAL/0000(10).jpg</td>\n",
       "      <td>(3, 32, 32)</td>\n",
       "      <td>REAL</td>\n",
       "      <td>1</td>\n",
       "      <td>[1, 0]</td>\n",
       "    </tr>\n",
       "    <tr>\n",
       "      <th>119999</th>\n",
       "      <td>../../../data/CIFAK//test/FAKE/999.jpg</td>\n",
       "      <td>(3, 32, 32)</td>\n",
       "      <td>FAKE</td>\n",
       "      <td>0</td>\n",
       "      <td>[0, 1]</td>\n",
       "    </tr>\n",
       "  </tbody>\n",
       "</table>\n",
       "</div>"
      ],
      "text/plain": [
       "                                          Image_path   Image_size Class  \\\n",
       "0       ../../../data/CIFAK//train/REAL/0000(10).jpg  (3, 32, 32)  REAL   \n",
       "119999        ../../../data/CIFAK//test/FAKE/999.jpg  (3, 32, 32)  FAKE   \n",
       "\n",
       "        Class_Codes Class_Onehot  \n",
       "0                 1       [1, 0]  \n",
       "119999            0       [0, 1]  "
      ]
     },
     "execution_count": 10,
     "metadata": {},
     "output_type": "execute_result"
    }
   ],
   "source": [
    "print(\"First and Last Elements in the Whole dataset\")\n",
    "df_all.iloc[[0,-1]]"
   ]
  },
  {
   "cell_type": "code",
   "execution_count": 11,
   "metadata": {},
   "outputs": [],
   "source": [
    "# https://github.com/lucidrains/vit-pytorch/blob/main/vit_pytorch/vit.py\n",
    "\n",
    "# helpers\n",
    "\n",
    "def pair(t):\n",
    "    return t if isinstance(t, tuple) else (t, t)\n",
    "\n",
    "# classes\n",
    "\n",
    "class PreNorm(nn.Module):\n",
    "    def __init__(self, dim, fn):\n",
    "        super().__init__()\n",
    "        self.norm = nn.LayerNorm(dim)\n",
    "        self.fn = fn\n",
    "    def forward(self, x, **kwargs):\n",
    "        return self.fn(self.norm(x), **kwargs)\n",
    "\n",
    "class FeedForward(nn.Module):\n",
    "    def __init__(self, dim, hidden_dim, dropout = 0.):\n",
    "        super().__init__()\n",
    "        self.model = nn.Sequential(\n",
    "            nn.Linear(dim, hidden_dim),\n",
    "            nn.GELU(),\n",
    "            nn.Dropout(dropout),\n",
    "            nn.Linear(hidden_dim, dim),\n",
    "            nn.Dropout(dropout)\n",
    "        )\n",
    "    def forward(self, x):\n",
    "        return self.model(x)\n",
    "\n",
    "class Attention(nn.Module):\n",
    "    def __init__(self, dim, heads = 8, dim_head = 64, dropout = 0.):\n",
    "        super().__init__()\n",
    "        inner_dim = dim_head *  heads\n",
    "        project_out = not (heads == 1 and dim_head == dim)\n",
    "\n",
    "        self.heads = heads\n",
    "        self.scale = dim_head ** -0.5\n",
    "\n",
    "        self.attend = nn.Softmax(dim = -1)\n",
    "        self.to_qkv = nn.Linear(dim, inner_dim * 3, bias = False)\n",
    "\n",
    "        self.to_out = nn.Sequential(\n",
    "            nn.Linear(inner_dim, dim),\n",
    "            nn.Dropout(dropout)\n",
    "        ) if project_out else nn.Identity()\n",
    "\n",
    "    def forward(self, x):\n",
    "        qkv = self.to_qkv(x).chunk(3, dim = -1)\n",
    "        q, k, v = map(lambda t: rearrange(t, 'b n (h d) -> b h n d', h = self.heads), qkv)\n",
    "\n",
    "        dots = torch.matmul(q, k.transpose(-1, -2)) * self.scale\n",
    "\n",
    "        attn = self.attend(dots)\n",
    "\n",
    "        out = torch.matmul(attn, v)\n",
    "        out = rearrange(out, 'b h n d -> b n (h d)')\n",
    "        return self.to_out(out)\n",
    "\n",
    "class Transformer(nn.Module):\n",
    "    def __init__(self, dim, depth, heads, dim_head, mlp_dim, dropout = 0.):\n",
    "        super().__init__()\n",
    "        self.layers = nn.ModuleList([])\n",
    "        for _ in range(depth):\n",
    "            self.layers.append(nn.ModuleList([\n",
    "                PreNorm(dim, Attention(dim, heads = heads, dim_head = dim_head, dropout = dropout)),\n",
    "                PreNorm(dim, FeedForward(dim, mlp_dim, dropout = dropout))\n",
    "            ]))\n",
    "    def forward(self, x):\n",
    "        for attn, ff in self.layers:\n",
    "            x = attn(x) + x\n",
    "            x = ff(x) + x\n",
    "        return x\n",
    "\n",
    "class ViT(nn.Module):\n",
    "    def __init__(self, *, image_size, patch_size, num_classes, dim, depth, heads, mlp_dim, pool = 'cls', channels = 3, dim_head = 64, emb_dropout = 0., dropout = 0.):\n",
    "        super().__init__()\n",
    "        image_height, image_width = pair(image_size)\n",
    "        patch_height, patch_width = pair(patch_size)\n",
    "\n",
    "        assert image_height % patch_height == 0 and image_width % patch_width == 0, 'Image dimensions must be divisible by the patch size.'\n",
    "\n",
    "        num_patches = (image_height // patch_height) * (image_width // patch_width)\n",
    "        patch_dim = channels * patch_height * patch_width\n",
    "        assert pool in {'cls', 'mean'}, 'pool type must be either cls (cls token) or mean (mean pooling)'\n",
    "\n",
    "        self.to_patch_embedding = nn.Sequential(\n",
    "            Rearrange('b c (h p1) (w p2) -> b (h w) (p1 p2 c)', p1 = patch_height, p2 = patch_width),\n",
    "            nn.Linear(patch_dim, dim),\n",
    "        )\n",
    "\n",
    "        self.pos_embedding = nn.Parameter(torch.randn(1, num_patches + 1, dim))\n",
    "        self.cls_token = nn.Parameter(torch.randn(1, 1, dim))\n",
    "        self.dropout = nn.Dropout(emb_dropout)\n",
    "\n",
    "        self.transformer = Transformer(dim, depth, heads, dim_head, mlp_dim, dropout)\n",
    "\n",
    "        self.pool = pool\n",
    "        self.to_latent = nn.Identity()\n",
    "\n",
    "        self.mlp_head = nn.Sequential(\n",
    "            nn.LayerNorm(dim),\n",
    "            nn.Linear(dim, num_classes)\n",
    "        )\n",
    "\n",
    "    def forward(self, img):\n",
    "        x = self.to_patch_embedding(img)\n",
    "        b, n, _ = x.shape\n",
    "\n",
    "        cls_tokens = repeat(self.cls_token, '() n d -> b n d', b = b)\n",
    "        x = torch.cat((cls_tokens, x), dim=1)\n",
    "        x += self.pos_embedding[:, :(n + 1)]\n",
    "        x = self.dropout(x)\n",
    "\n",
    "        x = self.transformer(x)\n",
    "\n",
    "        x = x.mean(dim = 1) if self.pool == 'mean' else x[:, 0]\n",
    "\n",
    "        x = self.to_latent(x)\n",
    "        return self.mlp_head(x)"
   ]
  },
  {
   "cell_type": "code",
   "execution_count": 12,
   "metadata": {},
   "outputs": [],
   "source": [
    "# Custom Dataset Class\n",
    "class Images_Dataset(Dataset):\n",
    "    def __init__(self, annotations_df, transform=None):\n",
    "        \n",
    "        self.annotation = annotations_df\n",
    "        self.transform = transform\n",
    "\n",
    "    def __getitem__(self, index):\n",
    "        \n",
    "        img = read_image(self.annotation.iloc[index, 0])\n",
    "        labels = torch.tensor(self.annotation.iloc[index, 3],dtype=torch.int64)\n",
    "\n",
    "        if self.transform:\n",
    "            img_t = self.transform(img)\n",
    "\n",
    "        return img_t, labels\n",
    "\n",
    "    def __len__(self):\n",
    "        # To return the length of the dataset\n",
    "        return self.annotation.shape[0]"
   ]
  },
  {
   "cell_type": "code",
   "execution_count": 13,
   "metadata": {},
   "outputs": [],
   "source": [
    "norm_mean = [0.4913997551666284, 0.48215855929893703, 0.4465309133731618]\n",
    "norm_std = [0.24703225141799082, 0.24348516474564, 0.26158783926049628]"
   ]
  },
  {
   "cell_type": "code",
   "execution_count": 14,
   "metadata": {},
   "outputs": [],
   "source": [
    "transform_train = transforms.Compose([\n",
    "    # v2.ToPILImage(),\n",
    "    # v2.AutoAugment(v2.AutoAugmentPolicy.CIFAR10),\n",
    "    # transforms.RandAugment(2, 14),\n",
    "    v2.RandomCrop(32, padding=4),\n",
    "    v2.RandomHorizontalFlip(p=0.5),\n",
    "    v2.RandomAffine(degrees=(0, 180), translate=(0.1, 0.3), scale=(0.5, 0.75)),\n",
    "    # v2.RandomPerspective(distortion_scale=0.6, p=1.0),\n",
    "    v2.ToImage(), \n",
    "    v2.ToDtype(torch.float32, scale=True),\n",
    "    # v2.ToTensor(),\n",
    "    v2.Normalize(norm_mean, norm_std),\n",
    "])\n",
    "\n",
    "transform_valid = transforms.Compose([\n",
    "    v2.ToImage(), \n",
    "    v2.ToDtype(torch.float32, scale=True),\n",
    "    v2.Normalize(norm_mean, norm_std),\n",
    "])"
   ]
  },
  {
   "cell_type": "code",
   "execution_count": 15,
   "metadata": {},
   "outputs": [],
   "source": [
    "# Define the dataset object and configure the Data Loader\n",
    "\n",
    "train_set  = Images_Dataset(df_train, transform_train)\n",
    "\n",
    "train_loader = DataLoader(dataset=train_set,\n",
    "                          batch_size=train_batch_size,\n",
    "                          # Drops the last mini batch if less than the batch size (could enhance the model accuracy)\n",
    "                          drop_last=True,\n",
    "                          shuffle=True,\n",
    "                          pin_memory=True,\n",
    "                          num_workers=NUM_WORKERS)\n",
    "\n",
    "\n",
    "valid_set  = Images_Dataset(df_val, transform_valid)\n",
    "\n",
    "valid_loader= DataLoader(dataset=valid_set ,\n",
    "                          batch_size=valid_batch_size,\n",
    "                          # Drops the last mini batch if less than the batch size (could enhance the model accuracy)\n",
    "                          drop_last=True,\n",
    "                          shuffle=False,\n",
    "                          pin_memory=True,\n",
    "                          num_workers=NUM_WORKERS)"
   ]
  },
  {
   "cell_type": "code",
   "execution_count": 16,
   "metadata": {},
   "outputs": [
    {
     "name": "stdout",
     "output_type": "stream",
     "text": [
      "Total number of training batches: 187\n",
      "Total number of validation batches: 44\n"
     ]
    }
   ],
   "source": [
    "print(\"Total number of training batches:\", len(train_loader))\n",
    "print(\"Total number of validation batches:\", len(valid_loader))"
   ]
  },
  {
   "cell_type": "code",
   "execution_count": 17,
   "metadata": {},
   "outputs": [
    {
     "name": "stdout",
     "output_type": "stream",
     "text": [
      "Batch of Images Shape: torch.Size([512, 3, 32, 32])\n",
      "Batch of Images Shape: torch.Size([512])\n",
      "tensor([1, 1, 0, 0, 1, 0, 1, 1, 1, 1, 0, 1, 1, 0, 0, 0, 0, 1, 1, 0, 1, 1, 0, 1,\n",
      "        1, 1, 0, 1, 0, 1, 1, 0, 0, 0, 1, 1, 0, 0, 0, 0, 1, 0, 0, 1, 0, 1, 0, 0,\n",
      "        0, 1, 1, 0, 0, 0, 0, 1, 1, 0, 1, 0, 0, 0, 0, 1, 0, 1, 1, 1, 1, 0, 1, 0,\n",
      "        1, 0, 1, 0, 1, 1, 1, 0, 1, 1, 0, 0, 1, 1, 1, 0, 0, 0, 0, 0, 0, 0, 1, 1,\n",
      "        0, 1, 1, 0, 1, 0, 1, 1, 1, 1, 0, 0, 1, 1, 0, 0, 1, 1, 0, 0, 0, 1, 1, 0,\n",
      "        0, 1, 1, 0, 1, 1, 0, 0, 1, 0, 0, 1, 0, 0, 0, 1, 0, 1, 1, 1, 1, 0, 1, 0,\n",
      "        1, 0, 0, 1, 1, 0, 0, 1, 0, 0, 1, 1, 0, 1, 1, 1, 0, 0, 0, 0, 1, 1, 0, 1,\n",
      "        1, 1, 1, 0, 0, 1, 0, 1, 1, 1, 0, 0, 0, 0, 1, 1, 0, 0, 1, 1, 0, 0, 1, 1,\n",
      "        1, 1, 0, 0, 0, 0, 0, 0, 1, 0, 1, 0, 1, 0, 1, 1, 0, 1, 0, 0, 1, 1, 1, 1,\n",
      "        1, 0, 1, 0, 1, 0, 1, 0, 1, 1, 1, 0, 1, 0, 0, 0, 1, 0, 1, 1, 0, 0, 0, 1,\n",
      "        0, 0, 1, 1, 0, 1, 0, 1, 0, 1, 0, 0, 0, 1, 0, 0, 0, 1, 0, 1, 0, 0, 0, 1,\n",
      "        1, 0, 0, 0, 0, 0, 0, 0, 1, 0, 1, 1, 1, 1, 1, 1, 1, 1, 1, 0, 1, 1, 1, 1,\n",
      "        0, 1, 1, 0, 1, 1, 0, 1, 0, 1, 0, 1, 1, 0, 0, 1, 1, 0, 1, 1, 1, 0, 1, 1,\n",
      "        1, 0, 1, 1, 1, 1, 0, 1, 1, 0, 1, 1, 1, 1, 1, 0, 1, 1, 0, 0, 0, 0, 0, 1,\n",
      "        0, 1, 0, 0, 1, 1, 1, 1, 0, 0, 0, 0, 0, 1, 1, 1, 1, 0, 1, 0, 1, 1, 1, 1,\n",
      "        0, 0, 0, 0, 1, 0, 1, 0, 1, 1, 1, 0, 1, 1, 0, 0, 0, 1, 0, 0, 1, 0, 1, 1,\n",
      "        1, 0, 1, 0, 1, 1, 0, 0, 1, 1, 1, 0, 0, 1, 0, 1, 1, 1, 1, 0, 1, 1, 0, 0,\n",
      "        0, 0, 0, 0, 1, 0, 1, 1, 1, 0, 0, 1, 0, 0, 0, 1, 1, 0, 0, 0, 1, 1, 1, 1,\n",
      "        1, 0, 0, 1, 1, 1, 0, 0, 0, 1, 1, 1, 0, 1, 1, 0, 1, 1, 0, 0, 1, 1, 0, 0,\n",
      "        0, 1, 0, 1, 1, 1, 1, 1, 1, 1, 1, 1, 1, 0, 0, 1, 1, 0, 0, 0, 1, 0, 0, 0,\n",
      "        1, 1, 0, 0, 0, 0, 1, 0, 1, 1, 0, 1, 0, 1, 0, 1, 1, 0, 0, 0, 0, 1, 1, 1,\n",
      "        1, 0, 1, 1, 0, 0, 0, 0])\n"
     ]
    }
   ],
   "source": [
    "sample_img_batch,label = next(iter(train_loader))\n",
    "\n",
    "print(f\"Batch of Images Shape: {sample_img_batch.size()}\")\n",
    "print(f\"Batch of Images Shape: {label.size()}\")\n",
    "print(label)"
   ]
  },
  {
   "cell_type": "code",
   "execution_count": 18,
   "metadata": {},
   "outputs": [],
   "source": [
    "def img_plot(img, slice_width):\n",
    "    sliced_img = rearrange(\n",
    "            img, 'c (row h) (col w) -> row col c h w', h=slice_width, w=slice_width)\n",
    "    print(\"Sliced Image Shape: \", sliced_img.shape)\n",
    "\n",
    "    fig = plt.figure(layout=\"constrained\", figsize=(8, 4))\n",
    "    subfigs = fig.subfigures(3, 1, height_ratios=[1., 1.5, 1.], hspace=0.05, squeeze='True')\n",
    "\n",
    "    axs0 = subfigs[0].subplots(1, 1)\n",
    "    img_a = rearrange(img, \"c h w -> h w c\").numpy()\n",
    "    \n",
    "    axs0.imshow(img_a)\n",
    "    axs0.axis('off')\n",
    "    # subfigs[0].suptitle('Input Image', fontsize=10)\n",
    "\n",
    "    grid1 = ImageGrid(subfigs[1], 111, nrows_ncols=(sliced_img.size(0), sliced_img.size(1)), axes_pad=0.03)\n",
    "\n",
    "    for i, ax in enumerate(grid1):\n",
    "        i_b4 = str(np.base_repr(i, sliced_img.size(0))).zfill(2)\n",
    "        row = int(i_b4[0])\n",
    "        column = int(i_b4[1])\n",
    "        patch = rearrange(sliced_img[row][column], \"c h w -> h w c\").numpy()\n",
    "        \n",
    "        ax.imshow(patch)\n",
    "        ax.axis('off')\n",
    "    # subfigs[1].suptitle('Slices', fontsize=10)\n",
    "\n",
    "    grid2 = ImageGrid(subfigs[2], 111, nrows_ncols=(1, sliced_img.size(0)*sliced_img.size(1)), axes_pad=0.03)\n",
    "\n",
    "    for i, ax in enumerate(grid2):\n",
    "        i_b4 = str(np.base_repr(i, sliced_img.size(0))).zfill(2)\n",
    "        row = int(i_b4[0])\n",
    "        column = int(i_b4[1])\n",
    "        patch = sliced_img[row][column].permute(1, 2, 0).numpy()\n",
    "        \n",
    "        ax.imshow(patch)\n",
    "        ax.axis('off')\n",
    "    # subfigs[2].suptitle('Position', fontsize=10)"
   ]
  },
  {
   "cell_type": "code",
   "execution_count": 19,
   "metadata": {},
   "outputs": [
    {
     "name": "stdout",
     "output_type": "stream",
     "text": [
      "Sliced Image Shape:  torch.Size([4, 4, 3, 8, 8])\n"
     ]
    },
    {
     "data": {
      "image/png": "[encoded data removed]",
      "text/plain": [
       "<Figure size 800x400 with 65 Axes>"
      ]
     },
     "metadata": {},
     "output_type": "display_data"
    }
   ],
   "source": [
    "sample_img = read_image(df_train.iloc[100, 0])\n",
    "img_plot(sample_img, patch_size)"
   ]
  },
  {
   "cell_type": "code",
   "execution_count": 20,
   "metadata": {},
   "outputs": [],
   "source": [
    "model = ViT(\n",
    "    image_size=img_size,\n",
    "    patch_size=patch_size,\n",
    "    num_classes=num_classes,\n",
    "    dim=embed_size,\n",
    "    depth=encoder_depth,\n",
    "    heads=attention_heads,\n",
    "    mlp_dim=mlp_dim,\n",
    "    emb_dropout=0.1,\n",
    "    dropout=0.1\n",
    ")\n"
   ]
  },
  {
   "cell_type": "code",
   "execution_count": 21,
   "metadata": {},
   "outputs": [
    {
     "name": "stdout",
     "output_type": "stream",
     "text": [
      "Input Shape:  torch.Size([512, 3, 32, 32])\n",
      "Output Shape:  torch.Size([512, 2])\n"
     ]
    },
    {
     "data": {
      "text/plain": [
       "==================================================================================================================================\n",
       "Layer (type (var_name))                            Input Shape          Output Shape         Param #              Trainable\n",
       "==================================================================================================================================\n",
       "ViT (ViT)                                          [512, 3, 32, 32]     [512, 2]             3,456                True\n",
       "├─Sequential (to_patch_embedding)                  [512, 3, 32, 32]     [512, 16, 192]       --                   True\n",
       "│    └─Rearrange (0)                               [512, 3, 32, 32]     [512, 16, 192]       --                   --\n",
       "│    └─Linear (1)                                  [512, 16, 192]       [512, 16, 192]       37,056               True\n",
       "├─Dropout (dropout)                                [512, 17, 192]       [512, 17, 192]       --                   --\n",
       "├─Transformer (transformer)                        [512, 17, 192]       [512, 17, 192]       --                   True\n",
       "│    └─ModuleList (layers)                         --                   --                   --                   True\n",
       "│    │    └─ModuleList (0)                         --                   --                   788,096              True\n",
       "│    │    └─ModuleList (1)                         --                   --                   788,096              True\n",
       "│    │    └─ModuleList (2)                         --                   --                   788,096              True\n",
       "│    │    └─ModuleList (3)                         --                   --                   788,096              True\n",
       "│    │    └─ModuleList (4)                         --                   --                   788,096              True\n",
       "│    │    └─ModuleList (5)                         --                   --                   788,096              True\n",
       "├─Identity (to_latent)                             [512, 192]           [512, 192]           --                   --\n",
       "├─Sequential (mlp_head)                            [512, 192]           [512, 2]             --                   True\n",
       "│    └─LayerNorm (0)                               [512, 192]           [512, 192]           384                  True\n",
       "│    └─Linear (1)                                  [512, 192]           [512, 2]             386                  True\n",
       "==================================================================================================================================\n",
       "Total params: 4,769,858\n",
       "Trainable params: 4,769,858\n",
       "Non-trainable params: 0\n",
       "Total mult-adds (Units.GIGABYTES): 2.44\n",
       "==================================================================================================================================\n",
       "Input size (MB): 6.29\n",
       "Forward/backward pass size (MB): 1510.74\n",
       "Params size (MB): 19.07\n",
       "Estimated Total Size (MB): 1536.10\n",
       "=================================================================================================================================="
      ]
     },
     "execution_count": 21,
     "metadata": {},
     "output_type": "execute_result"
    }
   ],
   "source": [
    "vit_output = model(sample_img_batch)\n",
    "\n",
    "print(\"Input Shape: \", sample_img_batch.size())\n",
    "print(\"Output Shape: \", vit_output.size())\n",
    "\n",
    "summary(model=model,\n",
    "        input_size=sample_img_batch.size(),\n",
    "        col_names=[\"input_size\", \"output_size\", \"num_params\", \"trainable\"],\n",
    "        col_width=20,\n",
    "        row_settings=[\"var_names\"])"
   ]
  },
  {
   "cell_type": "code",
   "execution_count": 22,
   "metadata": {},
   "outputs": [],
   "source": [
    "criterion = loss_algo()\n",
    "optimizer = optimize_algo(model.parameters(), **optimize_args)\n",
    "scheduler = schedule_algo(optimizer, **schedule_args)"
   ]
  },
  {
   "cell_type": "code",
   "execution_count": 23,
   "metadata": {},
   "outputs": [],
   "source": [
    "if start_from_model:\n",
    "    model.load_state_dict(checkpoint['model'])\n",
    "    optimizer.load_state_dict(checkpoint['optimizer'])\n",
    "\n",
    "    best_acc = checkpoint['best_acc']\n",
    "    list_tr_loss = checkpoint['list_tr_loss']\n",
    "    list_tr_acc = checkpoint['list_tr_acc']\n",
    "    list_val_loss = checkpoint['list_val_loss']\n",
    "    list_val_acc = checkpoint['list_val_acc']\n",
    "else:\n",
    "    best_acc = 0\n",
    "\n",
    "    list_tr_loss = []\n",
    "    list_tr_acc = []\n",
    "    list_val_loss = []\n",
    "    list_val_acc = []"
   ]
  },
  {
   "cell_type": "code",
   "execution_count": 24,
   "metadata": {},
   "outputs": [
    {
     "name": "stdout",
     "output_type": "stream",
     "text": [
      "\n",
      " epoch: 264/363\n"
     ]
    },
    {
     "name": "stderr",
     "output_type": "stream",
     "text": [
      "Train--Epoch [264/363]: 100%|██████████| 187/187 [00:16<00:00, 11.05it/s, acc=59.3, loss=0.66] \n",
      "Valid--Epoch [264/363]: 100%|██████████| 44/44 [00:01<00:00, 24.64it/s, acc=59.2, loss=0.675]"
     ]
    },
    {
     "name": "stdout",
     "output_type": "stream",
     "text": [
      "\n",
      " epoch: 265/363\n"
     ]
    },
    {
     "name": "stderr",
     "output_type": "stream",
     "text": [
      "\n",
      "Train--Epoch [265/363]: 100%|██████████| 187/187 [00:17<00:00, 10.98it/s, acc=59.3, loss=0.66] \n",
      "Valid--Epoch [265/363]: 100%|██████████| 44/44 [00:01<00:00, 25.72it/s, acc=59.2, loss=0.675]"
     ]
    },
    {
     "name": "stdout",
     "output_type": "stream",
     "text": [
      "\n",
      " epoch: 266/363\n"
     ]
    },
    {
     "name": "stderr",
     "output_type": "stream",
     "text": [
      "\n",
      "Train--Epoch [266/363]: 100%|██████████| 187/187 [00:16<00:00, 11.02it/s, acc=59.1, loss=0.66] \n",
      "Valid--Epoch [266/363]: 100%|██████████| 44/44 [00:01<00:00, 25.33it/s, acc=59.2, loss=0.675]\n"
     ]
    },
    {
     "name": "stdout",
     "output_type": "stream",
     "text": [
      "\n",
      " epoch: 267/363\n"
     ]
    },
    {
     "name": "stderr",
     "output_type": "stream",
     "text": [
      "Train--Epoch [267/363]: 100%|██████████| 187/187 [00:17<00:00, 10.94it/s, acc=59.2, loss=0.66] \n",
      "Valid--Epoch [267/363]: 100%|██████████| 44/44 [00:01<00:00, 24.47it/s, acc=59.2, loss=0.675]"
     ]
    },
    {
     "name": "stdout",
     "output_type": "stream",
     "text": [
      "\n",
      " epoch: 268/363\n"
     ]
    },
    {
     "name": "stderr",
     "output_type": "stream",
     "text": [
      "\n",
      "Train--Epoch [268/363]: 100%|██████████| 187/187 [00:17<00:00, 10.87it/s, acc=59.3, loss=0.66] \n",
      "Valid--Epoch [268/363]: 100%|██████████| 44/44 [00:01<00:00, 24.81it/s, acc=59.2, loss=0.675]\n"
     ]
    },
    {
     "name": "stdout",
     "output_type": "stream",
     "text": [
      "\n",
      " epoch: 269/363\n"
     ]
    },
    {
     "name": "stderr",
     "output_type": "stream",
     "text": [
      "Train--Epoch [269/363]: 100%|██████████| 187/187 [00:17<00:00, 10.86it/s, acc=59.3, loss=0.66] \n",
      "Valid--Epoch [269/363]: 100%|██████████| 44/44 [00:01<00:00, 24.09it/s, acc=59.2, loss=0.675]"
     ]
    },
    {
     "name": "stdout",
     "output_type": "stream",
     "text": [
      "\n",
      " epoch: 270/363\n"
     ]
    },
    {
     "name": "stderr",
     "output_type": "stream",
     "text": [
      "\n",
      "Train--Epoch [270/363]: 100%|██████████| 187/187 [00:17<00:00, 10.71it/s, acc=59.3, loss=0.66] \n",
      "Valid--Epoch [270/363]: 100%|██████████| 44/44 [00:01<00:00, 24.52it/s, acc=59.2, loss=0.675]"
     ]
    },
    {
     "name": "stdout",
     "output_type": "stream",
     "text": [
      "\n",
      " epoch: 271/363\n"
     ]
    },
    {
     "name": "stderr",
     "output_type": "stream",
     "text": [
      "\n",
      "Train--Epoch [271/363]: 100%|██████████| 187/187 [00:17<00:00, 10.72it/s, acc=59.3, loss=0.66] \n",
      "Valid--Epoch [271/363]: 100%|██████████| 44/44 [00:01<00:00, 23.87it/s, acc=59.2, loss=0.675]"
     ]
    },
    {
     "name": "stdout",
     "output_type": "stream",
     "text": [
      "\n",
      " epoch: 272/363\n"
     ]
    },
    {
     "name": "stderr",
     "output_type": "stream",
     "text": [
      "\n",
      "Train--Epoch [272/363]: 100%|██████████| 187/187 [00:17<00:00, 10.76it/s, acc=59.4, loss=0.66] \n",
      "Valid--Epoch [272/363]: 100%|██████████| 44/44 [00:01<00:00, 23.95it/s, acc=59.2, loss=0.675]"
     ]
    },
    {
     "name": "stdout",
     "output_type": "stream",
     "text": [
      "\n",
      " epoch: 273/363\n"
     ]
    },
    {
     "name": "stderr",
     "output_type": "stream",
     "text": [
      "\n",
      "Train--Epoch [273/363]: 100%|██████████| 187/187 [00:17<00:00, 10.67it/s, acc=59.2, loss=0.66] \n",
      "Valid--Epoch [273/363]: 100%|██████████| 44/44 [00:01<00:00, 23.34it/s, acc=59.2, loss=0.675]"
     ]
    },
    {
     "name": "stdout",
     "output_type": "stream",
     "text": [
      "\n",
      " epoch: 274/363\n"
     ]
    },
    {
     "name": "stderr",
     "output_type": "stream",
     "text": [
      "\n",
      "Train--Epoch [274/363]: 100%|██████████| 187/187 [00:17<00:00, 10.63it/s, acc=59.2, loss=0.659]\n",
      "Valid--Epoch [274/363]: 100%|██████████| 44/44 [00:01<00:00, 24.39it/s, acc=59.2, loss=0.675]"
     ]
    },
    {
     "name": "stdout",
     "output_type": "stream",
     "text": [
      "\n",
      " epoch: 275/363\n"
     ]
    },
    {
     "name": "stderr",
     "output_type": "stream",
     "text": [
      "\n",
      "Train--Epoch [275/363]: 100%|██████████| 187/187 [00:17<00:00, 10.74it/s, acc=59.1, loss=0.661]\n",
      "Valid--Epoch [275/363]: 100%|██████████| 44/44 [00:01<00:00, 24.98it/s, acc=59.2, loss=0.675]"
     ]
    },
    {
     "name": "stdout",
     "output_type": "stream",
     "text": [
      "\n",
      " epoch: 276/363\n"
     ]
    },
    {
     "name": "stderr",
     "output_type": "stream",
     "text": [
      "\n",
      "Train--Epoch [276/363]: 100%|██████████| 187/187 [00:17<00:00, 10.65it/s, acc=59, loss=0.661]  \n",
      "Valid--Epoch [276/363]: 100%|██████████| 44/44 [00:01<00:00, 24.18it/s, acc=59.2, loss=0.675]"
     ]
    },
    {
     "name": "stdout",
     "output_type": "stream",
     "text": [
      "\n",
      " epoch: 277/363\n"
     ]
    },
    {
     "name": "stderr",
     "output_type": "stream",
     "text": [
      "\n",
      "Train--Epoch [277/363]: 100%|██████████| 187/187 [00:17<00:00, 10.68it/s, acc=59.3, loss=0.661]\n",
      "Valid--Epoch [277/363]: 100%|██████████| 44/44 [00:01<00:00, 23.87it/s, acc=59.2, loss=0.675]\n"
     ]
    },
    {
     "name": "stdout",
     "output_type": "stream",
     "text": [
      "\n",
      " epoch: 278/363\n"
     ]
    },
    {
     "name": "stderr",
     "output_type": "stream",
     "text": [
      "Train--Epoch [278/363]: 100%|██████████| 187/187 [00:17<00:00, 10.65it/s, acc=59.1, loss=0.66] \n",
      "Valid--Epoch [278/363]: 100%|██████████| 44/44 [00:01<00:00, 23.09it/s, acc=59.2, loss=0.675]\n"
     ]
    },
    {
     "name": "stdout",
     "output_type": "stream",
     "text": [
      "\n",
      " epoch: 279/363\n"
     ]
    },
    {
     "name": "stderr",
     "output_type": "stream",
     "text": [
      "Train--Epoch [279/363]: 100%|██████████| 187/187 [00:17<00:00, 10.63it/s, acc=59.2, loss=0.66] \n",
      "Valid--Epoch [279/363]: 100%|██████████| 44/44 [00:01<00:00, 23.75it/s, acc=59.2, loss=0.675]\n"
     ]
    },
    {
     "name": "stdout",
     "output_type": "stream",
     "text": [
      "\n",
      " epoch: 280/363\n"
     ]
    },
    {
     "name": "stderr",
     "output_type": "stream",
     "text": [
      "Train--Epoch [280/363]: 100%|██████████| 187/187 [00:17<00:00, 10.61it/s, acc=59.4, loss=0.66]\n",
      "Valid--Epoch [280/363]: 100%|██████████| 44/44 [00:01<00:00, 24.51it/s, acc=59.2, loss=0.675]"
     ]
    },
    {
     "name": "stdout",
     "output_type": "stream",
     "text": [
      "\n",
      " epoch: 281/363\n"
     ]
    },
    {
     "name": "stderr",
     "output_type": "stream",
     "text": [
      "\n",
      "Train--Epoch [281/363]: 100%|██████████| 187/187 [00:17<00:00, 10.56it/s, acc=59.2, loss=0.66] \n",
      "Valid--Epoch [281/363]: 100%|██████████| 44/44 [00:01<00:00, 23.19it/s, acc=59.3, loss=0.675]\n"
     ]
    },
    {
     "name": "stdout",
     "output_type": "stream",
     "text": [
      "\n",
      " epoch: 282/363\n"
     ]
    },
    {
     "name": "stderr",
     "output_type": "stream",
     "text": [
      "Train--Epoch [282/363]: 100%|██████████| 187/187 [00:17<00:00, 10.60it/s, acc=59.5, loss=0.659]\n",
      "Valid--Epoch [282/363]: 100%|██████████| 44/44 [00:01<00:00, 22.31it/s, acc=59.2, loss=0.675]"
     ]
    },
    {
     "name": "stdout",
     "output_type": "stream",
     "text": [
      "\n",
      " epoch: 283/363\n"
     ]
    },
    {
     "name": "stderr",
     "output_type": "stream",
     "text": [
      "\n",
      "Train--Epoch [283/363]: 100%|██████████| 187/187 [00:17<00:00, 10.58it/s, acc=59.2, loss=0.66]\n",
      "Valid--Epoch [283/363]: 100%|██████████| 44/44 [00:01<00:00, 23.72it/s, acc=59.2, loss=0.675]"
     ]
    },
    {
     "name": "stdout",
     "output_type": "stream",
     "text": [
      "\n",
      " epoch: 284/363\n"
     ]
    },
    {
     "name": "stderr",
     "output_type": "stream",
     "text": [
      "\n",
      "Train--Epoch [284/363]: 100%|██████████| 187/187 [00:17<00:00, 10.60it/s, acc=59.2, loss=0.66]\n",
      "Valid--Epoch [284/363]: 100%|██████████| 44/44 [00:01<00:00, 22.99it/s, acc=59.2, loss=0.675]"
     ]
    },
    {
     "name": "stdout",
     "output_type": "stream",
     "text": [
      "\n",
      " epoch: 285/363\n"
     ]
    },
    {
     "name": "stderr",
     "output_type": "stream",
     "text": [
      "\n",
      "Train--Epoch [285/363]: 100%|██████████| 187/187 [00:17<00:00, 10.48it/s, acc=59.2, loss=0.66] \n",
      "Valid--Epoch [285/363]: 100%|██████████| 44/44 [00:01<00:00, 24.38it/s, acc=59.2, loss=0.675]\n"
     ]
    },
    {
     "name": "stdout",
     "output_type": "stream",
     "text": [
      "\n",
      " epoch: 286/363\n"
     ]
    },
    {
     "name": "stderr",
     "output_type": "stream",
     "text": [
      "Train--Epoch [286/363]: 100%|██████████| 187/187 [00:17<00:00, 10.54it/s, acc=59.3, loss=0.66] \n",
      "Valid--Epoch [286/363]: 100%|██████████| 44/44 [00:01<00:00, 23.92it/s, acc=59.2, loss=0.675]"
     ]
    },
    {
     "name": "stdout",
     "output_type": "stream",
     "text": [
      "\n",
      " epoch: 287/363\n"
     ]
    },
    {
     "name": "stderr",
     "output_type": "stream",
     "text": [
      "\n",
      "Train--Epoch [287/363]: 100%|██████████| 187/187 [00:17<00:00, 10.58it/s, acc=59.2, loss=0.66] \n",
      "Valid--Epoch [287/363]: 100%|██████████| 44/44 [00:01<00:00, 24.30it/s, acc=59.2, loss=0.675]"
     ]
    },
    {
     "name": "stdout",
     "output_type": "stream",
     "text": [
      "\n",
      " epoch: 288/363\n"
     ]
    },
    {
     "name": "stderr",
     "output_type": "stream",
     "text": [
      "\n",
      "Train--Epoch [288/363]: 100%|██████████| 187/187 [00:17<00:00, 10.54it/s, acc=59.1, loss=0.66]\n",
      "Valid--Epoch [288/363]: 100%|██████████| 44/44 [00:01<00:00, 23.72it/s, acc=59.2, loss=0.675]"
     ]
    },
    {
     "name": "stdout",
     "output_type": "stream",
     "text": [
      "\n",
      " epoch: 289/363\n"
     ]
    },
    {
     "name": "stderr",
     "output_type": "stream",
     "text": [
      "\n",
      "Train--Epoch [289/363]: 100%|██████████| 187/187 [00:17<00:00, 10.54it/s, acc=59.3, loss=0.66] \n",
      "Valid--Epoch [289/363]: 100%|██████████| 44/44 [00:01<00:00, 23.91it/s, acc=59.2, loss=0.675]"
     ]
    },
    {
     "name": "stdout",
     "output_type": "stream",
     "text": [
      "\n",
      " epoch: 290/363\n"
     ]
    },
    {
     "name": "stderr",
     "output_type": "stream",
     "text": [
      "\n",
      "Train--Epoch [290/363]: 100%|██████████| 187/187 [00:17<00:00, 10.48it/s, acc=59.3, loss=0.66]\n",
      "Valid--Epoch [290/363]: 100%|██████████| 44/44 [00:01<00:00, 23.67it/s, acc=59.2, loss=0.675]\n"
     ]
    },
    {
     "name": "stdout",
     "output_type": "stream",
     "text": [
      "\n",
      " epoch: 291/363\n"
     ]
    },
    {
     "name": "stderr",
     "output_type": "stream",
     "text": [
      "Train--Epoch [291/363]: 100%|██████████| 187/187 [00:17<00:00, 10.43it/s, acc=59.2, loss=0.661]\n",
      "Valid--Epoch [291/363]: 100%|██████████| 44/44 [00:01<00:00, 23.89it/s, acc=59.2, loss=0.675]"
     ]
    },
    {
     "name": "stdout",
     "output_type": "stream",
     "text": [
      "\n",
      " epoch: 292/363\n"
     ]
    },
    {
     "name": "stderr",
     "output_type": "stream",
     "text": [
      "\n",
      "Train--Epoch [292/363]: 100%|██████████| 187/187 [00:17<00:00, 10.52it/s, acc=59.4, loss=0.66] \n",
      "Valid--Epoch [292/363]: 100%|██████████| 44/44 [00:01<00:00, 23.79it/s, acc=59.2, loss=0.675]"
     ]
    },
    {
     "name": "stdout",
     "output_type": "stream",
     "text": [
      "\n",
      " epoch: 293/363\n"
     ]
    },
    {
     "name": "stderr",
     "output_type": "stream",
     "text": [
      "\n",
      "Train--Epoch [293/363]: 100%|██████████| 187/187 [00:17<00:00, 10.44it/s, acc=59.4, loss=0.66] \n",
      "Valid--Epoch [293/363]: 100%|██████████| 44/44 [00:01<00:00, 23.31it/s, acc=59.2, loss=0.675]"
     ]
    },
    {
     "name": "stdout",
     "output_type": "stream",
     "text": [
      "\n",
      " epoch: 294/363\n"
     ]
    },
    {
     "name": "stderr",
     "output_type": "stream",
     "text": [
      "\n",
      "Train--Epoch [294/363]: 100%|██████████| 187/187 [00:18<00:00, 10.11it/s, acc=59, loss=0.66]   \n",
      "Valid--Epoch [294/363]: 100%|██████████| 44/44 [00:01<00:00, 23.07it/s, acc=59.2, loss=0.675]"
     ]
    },
    {
     "name": "stdout",
     "output_type": "stream",
     "text": [
      "\n",
      " epoch: 295/363\n"
     ]
    },
    {
     "name": "stderr",
     "output_type": "stream",
     "text": [
      "\n",
      "Train--Epoch [295/363]: 100%|██████████| 187/187 [00:18<00:00, 10.37it/s, acc=59.4, loss=0.659]\n",
      "Valid--Epoch [295/363]: 100%|██████████| 44/44 [00:01<00:00, 24.19it/s, acc=59.3, loss=0.675]\n"
     ]
    },
    {
     "name": "stdout",
     "output_type": "stream",
     "text": [
      "\n",
      " epoch: 296/363\n"
     ]
    },
    {
     "name": "stderr",
     "output_type": "stream",
     "text": [
      "Train--Epoch [296/363]: 100%|██████████| 187/187 [00:17<00:00, 10.52it/s, acc=59.1, loss=0.66] \n",
      "Valid--Epoch [296/363]: 100%|██████████| 44/44 [00:01<00:00, 23.50it/s, acc=59.2, loss=0.675]"
     ]
    },
    {
     "name": "stdout",
     "output_type": "stream",
     "text": [
      "\n",
      " epoch: 297/363\n"
     ]
    },
    {
     "name": "stderr",
     "output_type": "stream",
     "text": [
      "\n",
      "Train--Epoch [297/363]: 100%|██████████| 187/187 [00:18<00:00, 10.32it/s, acc=59.1, loss=0.66] \n",
      "Valid--Epoch [297/363]: 100%|██████████| 44/44 [00:01<00:00, 24.25it/s, acc=59.2, loss=0.675]\n"
     ]
    },
    {
     "name": "stdout",
     "output_type": "stream",
     "text": [
      "\n",
      " epoch: 298/363\n"
     ]
    },
    {
     "name": "stderr",
     "output_type": "stream",
     "text": [
      "Train--Epoch [298/363]: 100%|██████████| 187/187 [00:18<00:00, 10.36it/s, acc=59.2, loss=0.66] \n",
      "Valid--Epoch [298/363]: 100%|██████████| 44/44 [00:01<00:00, 23.18it/s, acc=59.2, loss=0.675]\n"
     ]
    },
    {
     "name": "stdout",
     "output_type": "stream",
     "text": [
      "\n",
      " epoch: 299/363\n"
     ]
    },
    {
     "name": "stderr",
     "output_type": "stream",
     "text": [
      "Train--Epoch [299/363]: 100%|██████████| 187/187 [00:17<00:00, 10.47it/s, acc=59, loss=0.661]  \n",
      "Valid--Epoch [299/363]: 100%|██████████| 44/44 [00:01<00:00, 23.56it/s, acc=59.2, loss=0.675]"
     ]
    },
    {
     "name": "stdout",
     "output_type": "stream",
     "text": [
      "\n",
      " epoch: 300/363\n"
     ]
    },
    {
     "name": "stderr",
     "output_type": "stream",
     "text": [
      "\n",
      "Train--Epoch [300/363]: 100%|██████████| 187/187 [00:17<00:00, 10.45it/s, acc=59.2, loss=0.66] \n",
      "Valid--Epoch [300/363]: 100%|██████████| 44/44 [00:01<00:00, 23.94it/s, acc=59.2, loss=0.675]"
     ]
    },
    {
     "name": "stdout",
     "output_type": "stream",
     "text": [
      "\n",
      " epoch: 301/363\n"
     ]
    },
    {
     "name": "stderr",
     "output_type": "stream",
     "text": [
      "\n",
      "Train--Epoch [301/363]: 100%|██████████| 187/187 [00:17<00:00, 10.51it/s, acc=59.3, loss=0.66] \n",
      "Valid--Epoch [301/363]: 100%|██████████| 44/44 [00:01<00:00, 23.52it/s, acc=59.2, loss=0.675]\n"
     ]
    },
    {
     "name": "stdout",
     "output_type": "stream",
     "text": [
      "\n",
      " epoch: 302/363\n"
     ]
    },
    {
     "name": "stderr",
     "output_type": "stream",
     "text": [
      "Train--Epoch [302/363]: 100%|██████████| 187/187 [00:17<00:00, 10.59it/s, acc=59.2, loss=0.66] \n",
      "Valid--Epoch [302/363]: 100%|██████████| 44/44 [00:01<00:00, 22.97it/s, acc=59.2, loss=0.675]\n"
     ]
    },
    {
     "name": "stdout",
     "output_type": "stream",
     "text": [
      "\n",
      " epoch: 303/363\n"
     ]
    },
    {
     "name": "stderr",
     "output_type": "stream",
     "text": [
      "Train--Epoch [303/363]: 100%|██████████| 187/187 [00:17<00:00, 10.54it/s, acc=59.1, loss=0.66] \n",
      "Valid--Epoch [303/363]: 100%|██████████| 44/44 [00:01<00:00, 23.64it/s, acc=59.2, loss=0.675]"
     ]
    },
    {
     "name": "stdout",
     "output_type": "stream",
     "text": [
      "\n",
      " epoch: 304/363\n"
     ]
    },
    {
     "name": "stderr",
     "output_type": "stream",
     "text": [
      "\n",
      "Train--Epoch [304/363]: 100%|██████████| 187/187 [00:17<00:00, 10.49it/s, acc=59.3, loss=0.66] \n",
      "Valid--Epoch [304/363]: 100%|██████████| 44/44 [00:01<00:00, 23.28it/s, acc=59.2, loss=0.675]\n"
     ]
    },
    {
     "name": "stdout",
     "output_type": "stream",
     "text": [
      "\n",
      " epoch: 305/363\n"
     ]
    },
    {
     "name": "stderr",
     "output_type": "stream",
     "text": [
      "Train--Epoch [305/363]: 100%|██████████| 187/187 [00:17<00:00, 10.58it/s, acc=59.2, loss=0.66] \n",
      "Valid--Epoch [305/363]: 100%|██████████| 44/44 [00:01<00:00, 24.07it/s, acc=59.2, loss=0.675]\n"
     ]
    },
    {
     "name": "stdout",
     "output_type": "stream",
     "text": [
      "\n",
      " epoch: 306/363\n"
     ]
    },
    {
     "name": "stderr",
     "output_type": "stream",
     "text": [
      "Train--Epoch [306/363]: 100%|██████████| 187/187 [00:17<00:00, 10.48it/s, acc=59.3, loss=0.66] \n",
      "Valid--Epoch [306/363]: 100%|██████████| 44/44 [00:01<00:00, 23.49it/s, acc=59.2, loss=0.675]"
     ]
    },
    {
     "name": "stdout",
     "output_type": "stream",
     "text": [
      "\n",
      " epoch: 307/363\n"
     ]
    },
    {
     "name": "stderr",
     "output_type": "stream",
     "text": [
      "\n",
      "Train--Epoch [307/363]: 100%|██████████| 187/187 [00:18<00:00, 10.25it/s, acc=59.1, loss=0.66] \n",
      "Valid--Epoch [307/363]: 100%|██████████| 44/44 [00:01<00:00, 22.76it/s, acc=59.2, loss=0.675]"
     ]
    },
    {
     "name": "stdout",
     "output_type": "stream",
     "text": [
      "\n",
      " epoch: 308/363\n"
     ]
    },
    {
     "name": "stderr",
     "output_type": "stream",
     "text": [
      "\n",
      "Train--Epoch [308/363]: 100%|██████████| 187/187 [00:18<00:00, 10.31it/s, acc=59.3, loss=0.66] \n",
      "Valid--Epoch [308/363]: 100%|██████████| 44/44 [00:01<00:00, 23.27it/s, acc=59.2, loss=0.675]"
     ]
    },
    {
     "name": "stdout",
     "output_type": "stream",
     "text": [
      "\n",
      " epoch: 309/363\n"
     ]
    },
    {
     "name": "stderr",
     "output_type": "stream",
     "text": [
      "\n",
      "Train--Epoch [309/363]: 100%|██████████| 187/187 [00:17<00:00, 10.42it/s, acc=59.3, loss=0.66] \n",
      "Valid--Epoch [309/363]: 100%|██████████| 44/44 [00:01<00:00, 23.08it/s, acc=59.2, loss=0.675]"
     ]
    },
    {
     "name": "stdout",
     "output_type": "stream",
     "text": [
      "\n",
      " epoch: 310/363\n"
     ]
    },
    {
     "name": "stderr",
     "output_type": "stream",
     "text": [
      "\n",
      "Train--Epoch [310/363]: 100%|██████████| 187/187 [00:18<00:00, 10.36it/s, acc=59.2, loss=0.66]\n",
      "Valid--Epoch [310/363]: 100%|██████████| 44/44 [00:01<00:00, 23.21it/s, acc=59.2, loss=0.675]"
     ]
    },
    {
     "name": "stdout",
     "output_type": "stream",
     "text": [
      "\n",
      " epoch: 311/363\n"
     ]
    },
    {
     "name": "stderr",
     "output_type": "stream",
     "text": [
      "\n",
      "Train--Epoch [311/363]: 100%|██████████| 187/187 [00:17<00:00, 10.46it/s, acc=59.3, loss=0.66] \n",
      "Valid--Epoch [311/363]: 100%|██████████| 44/44 [00:01<00:00, 24.04it/s, acc=59.2, loss=0.675]\n"
     ]
    },
    {
     "name": "stdout",
     "output_type": "stream",
     "text": [
      "\n",
      " epoch: 312/363\n"
     ]
    },
    {
     "name": "stderr",
     "output_type": "stream",
     "text": [
      "Train--Epoch [312/363]: 100%|██████████| 187/187 [00:17<00:00, 10.40it/s, acc=59.2, loss=0.66] \n",
      "Valid--Epoch [312/363]: 100%|██████████| 44/44 [00:01<00:00, 24.22it/s, acc=59.2, loss=0.675]\n"
     ]
    },
    {
     "name": "stdout",
     "output_type": "stream",
     "text": [
      "\n",
      " epoch: 313/363\n"
     ]
    },
    {
     "name": "stderr",
     "output_type": "stream",
     "text": [
      "Train--Epoch [313/363]: 100%|██████████| 187/187 [00:17<00:00, 10.42it/s, acc=59.2, loss=0.66]\n",
      "Valid--Epoch [313/363]: 100%|██████████| 44/44 [00:01<00:00, 23.46it/s, acc=59.2, loss=0.675]"
     ]
    },
    {
     "name": "stdout",
     "output_type": "stream",
     "text": [
      "\n",
      " epoch: 314/363\n"
     ]
    },
    {
     "name": "stderr",
     "output_type": "stream",
     "text": [
      "\n",
      "Train--Epoch [314/363]: 100%|██████████| 187/187 [00:17<00:00, 10.40it/s, acc=59.2, loss=0.66] \n",
      "Valid--Epoch [314/363]: 100%|██████████| 44/44 [00:01<00:00, 24.04it/s, acc=59.2, loss=0.675]"
     ]
    },
    {
     "name": "stdout",
     "output_type": "stream",
     "text": [
      "\n",
      " epoch: 315/363\n"
     ]
    },
    {
     "name": "stderr",
     "output_type": "stream",
     "text": [
      "\n",
      "Train--Epoch [315/363]: 100%|██████████| 187/187 [00:17<00:00, 10.47it/s, acc=58.9, loss=0.661]\n",
      "Valid--Epoch [315/363]: 100%|██████████| 44/44 [00:01<00:00, 23.52it/s, acc=59.2, loss=0.675]"
     ]
    },
    {
     "name": "stdout",
     "output_type": "stream",
     "text": [
      "\n",
      " epoch: 316/363\n"
     ]
    },
    {
     "name": "stderr",
     "output_type": "stream",
     "text": [
      "\n",
      "Train--Epoch [316/363]: 100%|██████████| 187/187 [00:17<00:00, 10.43it/s, acc=59.2, loss=0.66] \n",
      "Valid--Epoch [316/363]: 100%|██████████| 44/44 [00:01<00:00, 23.09it/s, acc=59.2, loss=0.675]"
     ]
    },
    {
     "name": "stdout",
     "output_type": "stream",
     "text": [
      "\n",
      " epoch: 317/363\n"
     ]
    },
    {
     "name": "stderr",
     "output_type": "stream",
     "text": [
      "\n",
      "Train--Epoch [317/363]: 100%|██████████| 187/187 [00:17<00:00, 10.46it/s, acc=59.4, loss=0.66] \n",
      "Valid--Epoch [317/363]: 100%|██████████| 44/44 [00:01<00:00, 24.10it/s, acc=59.2, loss=0.675]"
     ]
    },
    {
     "name": "stdout",
     "output_type": "stream",
     "text": [
      "\n",
      " epoch: 318/363\n"
     ]
    },
    {
     "name": "stderr",
     "output_type": "stream",
     "text": [
      "\n",
      "Train--Epoch [318/363]: 100%|██████████| 187/187 [00:18<00:00, 10.33it/s, acc=59.3, loss=0.66] \n",
      "Valid--Epoch [318/363]: 100%|██████████| 44/44 [00:01<00:00, 23.92it/s, acc=59.2, loss=0.675]"
     ]
    },
    {
     "name": "stdout",
     "output_type": "stream",
     "text": [
      "\n",
      " epoch: 319/363\n"
     ]
    },
    {
     "name": "stderr",
     "output_type": "stream",
     "text": [
      "\n",
      "Train--Epoch [319/363]: 100%|██████████| 187/187 [00:17<00:00, 10.51it/s, acc=59.2, loss=0.661]\n",
      "Valid--Epoch [319/363]: 100%|██████████| 44/44 [00:01<00:00, 23.06it/s, acc=59.2, loss=0.675]\n"
     ]
    },
    {
     "name": "stdout",
     "output_type": "stream",
     "text": [
      "\n",
      " epoch: 320/363\n"
     ]
    },
    {
     "name": "stderr",
     "output_type": "stream",
     "text": [
      "Train--Epoch [320/363]: 100%|██████████| 187/187 [00:17<00:00, 10.56it/s, acc=59.3, loss=0.659]\n",
      "Valid--Epoch [320/363]: 100%|██████████| 44/44 [00:01<00:00, 23.71it/s, acc=59.2, loss=0.675]\n"
     ]
    },
    {
     "name": "stdout",
     "output_type": "stream",
     "text": [
      "\n",
      " epoch: 321/363\n"
     ]
    },
    {
     "name": "stderr",
     "output_type": "stream",
     "text": [
      "Train--Epoch [321/363]: 100%|██████████| 187/187 [00:18<00:00, 10.38it/s, acc=59, loss=0.661]  \n",
      "Valid--Epoch [321/363]: 100%|██████████| 44/44 [00:01<00:00, 23.56it/s, acc=59.2, loss=0.675]"
     ]
    },
    {
     "name": "stdout",
     "output_type": "stream",
     "text": [
      "\n",
      " epoch: 322/363\n"
     ]
    },
    {
     "name": "stderr",
     "output_type": "stream",
     "text": [
      "\n",
      "Train--Epoch [322/363]: 100%|██████████| 187/187 [00:17<00:00, 10.53it/s, acc=59.3, loss=0.66] \n",
      "Valid--Epoch [322/363]: 100%|██████████| 44/44 [00:01<00:00, 23.43it/s, acc=59.2, loss=0.675]\n"
     ]
    },
    {
     "name": "stdout",
     "output_type": "stream",
     "text": [
      "\n",
      " epoch: 323/363\n"
     ]
    },
    {
     "name": "stderr",
     "output_type": "stream",
     "text": [
      "Train--Epoch [323/363]: 100%|██████████| 187/187 [00:18<00:00, 10.35it/s, acc=59.5, loss=0.659]\n",
      "Valid--Epoch [323/363]: 100%|██████████| 44/44 [00:01<00:00, 23.45it/s, acc=59.2, loss=0.675]"
     ]
    },
    {
     "name": "stdout",
     "output_type": "stream",
     "text": [
      "\n",
      " epoch: 324/363\n"
     ]
    },
    {
     "name": "stderr",
     "output_type": "stream",
     "text": [
      "\n",
      "Train--Epoch [324/363]: 100%|██████████| 187/187 [00:17<00:00, 10.44it/s, acc=59.2, loss=0.659]\n",
      "Valid--Epoch [324/363]: 100%|██████████| 44/44 [00:01<00:00, 24.32it/s, acc=59.2, loss=0.675]\n"
     ]
    },
    {
     "name": "stdout",
     "output_type": "stream",
     "text": [
      "\n",
      " epoch: 325/363\n"
     ]
    },
    {
     "name": "stderr",
     "output_type": "stream",
     "text": [
      "Train--Epoch [325/363]: 100%|██████████| 187/187 [00:17<00:00, 10.51it/s, acc=59, loss=0.661]  \n",
      "Valid--Epoch [325/363]: 100%|██████████| 44/44 [00:01<00:00, 23.88it/s, acc=59.2, loss=0.675]"
     ]
    },
    {
     "name": "stdout",
     "output_type": "stream",
     "text": [
      "\n",
      " epoch: 326/363\n"
     ]
    },
    {
     "name": "stderr",
     "output_type": "stream",
     "text": [
      "\n",
      "Train--Epoch [326/363]: 100%|██████████| 187/187 [00:18<00:00, 10.38it/s, acc=59.1, loss=0.66] \n",
      "Valid--Epoch [326/363]: 100%|██████████| 44/44 [00:01<00:00, 23.88it/s, acc=59.2, loss=0.675]"
     ]
    },
    {
     "name": "stdout",
     "output_type": "stream",
     "text": [
      "\n",
      " epoch: 327/363\n"
     ]
    },
    {
     "name": "stderr",
     "output_type": "stream",
     "text": [
      "\n",
      "Train--Epoch [327/363]: 100%|██████████| 187/187 [00:17<00:00, 10.57it/s, acc=59.4, loss=0.659]\n",
      "Valid--Epoch [327/363]: 100%|██████████| 44/44 [00:01<00:00, 23.81it/s, acc=59.2, loss=0.675]"
     ]
    },
    {
     "name": "stdout",
     "output_type": "stream",
     "text": [
      "\n",
      " epoch: 328/363\n"
     ]
    },
    {
     "name": "stderr",
     "output_type": "stream",
     "text": [
      "\n",
      "Train--Epoch [328/363]: 100%|██████████| 187/187 [00:17<00:00, 10.57it/s, acc=59.1, loss=0.661]\n",
      "Valid--Epoch [328/363]: 100%|██████████| 44/44 [00:01<00:00, 23.06it/s, acc=59.2, loss=0.675]"
     ]
    },
    {
     "name": "stdout",
     "output_type": "stream",
     "text": [
      "\n",
      " epoch: 329/363\n"
     ]
    },
    {
     "name": "stderr",
     "output_type": "stream",
     "text": [
      "\n",
      "Train--Epoch [329/363]: 100%|██████████| 187/187 [00:17<00:00, 10.54it/s, acc=59.4, loss=0.66] \n",
      "Valid--Epoch [329/363]: 100%|██████████| 44/44 [00:01<00:00, 23.66it/s, acc=59.2, loss=0.675]"
     ]
    },
    {
     "name": "stdout",
     "output_type": "stream",
     "text": [
      "\n",
      " epoch: 330/363\n"
     ]
    },
    {
     "name": "stderr",
     "output_type": "stream",
     "text": [
      "\n",
      "Train--Epoch [330/363]: 100%|██████████| 187/187 [00:17<00:00, 10.50it/s, acc=59.1, loss=0.661]\n",
      "Valid--Epoch [330/363]: 100%|██████████| 44/44 [00:01<00:00, 23.30it/s, acc=59.2, loss=0.675]"
     ]
    },
    {
     "name": "stdout",
     "output_type": "stream",
     "text": [
      "\n",
      " epoch: 331/363\n"
     ]
    },
    {
     "name": "stderr",
     "output_type": "stream",
     "text": [
      "\n",
      "Train--Epoch [331/363]: 100%|██████████| 187/187 [00:17<00:00, 10.47it/s, acc=59.1, loss=0.66] \n",
      "Valid--Epoch [331/363]: 100%|██████████| 44/44 [00:01<00:00, 23.40it/s, acc=59.2, loss=0.675]"
     ]
    },
    {
     "name": "stdout",
     "output_type": "stream",
     "text": [
      "\n",
      " epoch: 332/363\n"
     ]
    },
    {
     "name": "stderr",
     "output_type": "stream",
     "text": [
      "\n",
      "Train--Epoch [332/363]: 100%|██████████| 187/187 [00:17<00:00, 10.57it/s, acc=59.2, loss=0.66] \n",
      "Valid--Epoch [332/363]: 100%|██████████| 44/44 [00:01<00:00, 23.92it/s, acc=59.2, loss=0.675]\n"
     ]
    },
    {
     "name": "stdout",
     "output_type": "stream",
     "text": [
      "\n",
      " epoch: 333/363\n"
     ]
    },
    {
     "name": "stderr",
     "output_type": "stream",
     "text": [
      "Train--Epoch [333/363]: 100%|██████████| 187/187 [00:17<00:00, 10.45it/s, acc=59.3, loss=0.66] \n",
      "Valid--Epoch [333/363]: 100%|██████████| 44/44 [00:01<00:00, 23.77it/s, acc=59.2, loss=0.675]"
     ]
    },
    {
     "name": "stdout",
     "output_type": "stream",
     "text": [
      "\n",
      " epoch: 334/363\n"
     ]
    },
    {
     "name": "stderr",
     "output_type": "stream",
     "text": [
      "\n",
      "Train--Epoch [334/363]: 100%|██████████| 187/187 [00:17<00:00, 10.44it/s, acc=59.3, loss=0.66] \n",
      "Valid--Epoch [334/363]: 100%|██████████| 44/44 [00:01<00:00, 23.35it/s, acc=59.2, loss=0.675]"
     ]
    },
    {
     "name": "stdout",
     "output_type": "stream",
     "text": [
      "\n",
      " epoch: 335/363\n"
     ]
    },
    {
     "name": "stderr",
     "output_type": "stream",
     "text": [
      "\n",
      "Train--Epoch [335/363]: 100%|██████████| 187/187 [00:17<00:00, 10.44it/s, acc=59.4, loss=0.66] \n",
      "Valid--Epoch [335/363]: 100%|██████████| 44/44 [00:01<00:00, 23.69it/s, acc=59.2, loss=0.675]"
     ]
    },
    {
     "name": "stdout",
     "output_type": "stream",
     "text": [
      "\n",
      " epoch: 336/363\n"
     ]
    },
    {
     "name": "stderr",
     "output_type": "stream",
     "text": [
      "\n",
      "Train--Epoch [336/363]: 100%|██████████| 187/187 [00:17<00:00, 10.44it/s, acc=59.2, loss=0.66] \n",
      "Valid--Epoch [336/363]: 100%|██████████| 44/44 [00:01<00:00, 23.10it/s, acc=59.2, loss=0.675]\n"
     ]
    },
    {
     "name": "stdout",
     "output_type": "stream",
     "text": [
      "\n",
      " epoch: 337/363\n"
     ]
    },
    {
     "name": "stderr",
     "output_type": "stream",
     "text": [
      "Train--Epoch [337/363]: 100%|██████████| 187/187 [00:17<00:00, 10.51it/s, acc=59.1, loss=0.661]\n",
      "Valid--Epoch [337/363]: 100%|██████████| 44/44 [00:01<00:00, 23.92it/s, acc=59.2, loss=0.675]"
     ]
    },
    {
     "name": "stdout",
     "output_type": "stream",
     "text": [
      "\n",
      " epoch: 338/363\n"
     ]
    },
    {
     "name": "stderr",
     "output_type": "stream",
     "text": [
      "\n",
      "Train--Epoch [338/363]: 100%|██████████| 187/187 [00:17<00:00, 10.49it/s, acc=59.1, loss=0.66]\n",
      "Valid--Epoch [338/363]: 100%|██████████| 44/44 [00:01<00:00, 23.82it/s, acc=59.2, loss=0.675]"
     ]
    },
    {
     "name": "stdout",
     "output_type": "stream",
     "text": [
      "\n",
      " epoch: 339/363\n"
     ]
    },
    {
     "name": "stderr",
     "output_type": "stream",
     "text": [
      "\n",
      "Train--Epoch [339/363]: 100%|██████████| 187/187 [00:17<00:00, 10.44it/s, acc=59.1, loss=0.66] \n",
      "Valid--Epoch [339/363]: 100%|██████████| 44/44 [00:01<00:00, 24.48it/s, acc=59.2, loss=0.675]"
     ]
    },
    {
     "name": "stdout",
     "output_type": "stream",
     "text": [
      "\n",
      " epoch: 340/363\n"
     ]
    },
    {
     "name": "stderr",
     "output_type": "stream",
     "text": [
      "\n",
      "Train--Epoch [340/363]: 100%|██████████| 187/187 [00:17<00:00, 10.52it/s, acc=59.3, loss=0.66] \n",
      "Valid--Epoch [340/363]: 100%|██████████| 44/44 [00:01<00:00, 23.95it/s, acc=59.2, loss=0.675]\n"
     ]
    },
    {
     "name": "stdout",
     "output_type": "stream",
     "text": [
      "\n",
      " epoch: 341/363\n"
     ]
    },
    {
     "name": "stderr",
     "output_type": "stream",
     "text": [
      "Train--Epoch [341/363]: 100%|██████████| 187/187 [00:17<00:00, 10.43it/s, acc=59.2, loss=0.661]\n",
      "Valid--Epoch [341/363]: 100%|██████████| 44/44 [00:01<00:00, 22.36it/s, acc=59.2, loss=0.675]"
     ]
    },
    {
     "name": "stdout",
     "output_type": "stream",
     "text": [
      "\n",
      " epoch: 342/363\n"
     ]
    },
    {
     "name": "stderr",
     "output_type": "stream",
     "text": [
      "\n",
      "Train--Epoch [342/363]: 100%|██████████| 187/187 [00:17<00:00, 10.42it/s, acc=59.2, loss=0.66] \n",
      "Valid--Epoch [342/363]: 100%|██████████| 44/44 [00:01<00:00, 24.06it/s, acc=59.2, loss=0.675]"
     ]
    },
    {
     "name": "stdout",
     "output_type": "stream",
     "text": [
      "\n",
      " epoch: 343/363\n"
     ]
    },
    {
     "name": "stderr",
     "output_type": "stream",
     "text": [
      "\n",
      "Train--Epoch [343/363]: 100%|██████████| 187/187 [00:17<00:00, 10.48it/s, acc=59.2, loss=0.66] \n",
      "Valid--Epoch [343/363]: 100%|██████████| 44/44 [00:01<00:00, 22.72it/s, acc=59.2, loss=0.675]"
     ]
    },
    {
     "name": "stdout",
     "output_type": "stream",
     "text": [
      "\n",
      " epoch: 344/363\n"
     ]
    },
    {
     "name": "stderr",
     "output_type": "stream",
     "text": [
      "\n",
      "Train--Epoch [344/363]: 100%|██████████| 187/187 [00:18<00:00, 10.33it/s, acc=59.3, loss=0.66] \n",
      "Valid--Epoch [344/363]: 100%|██████████| 44/44 [00:01<00:00, 23.42it/s, acc=59.2, loss=0.675]"
     ]
    },
    {
     "name": "stdout",
     "output_type": "stream",
     "text": [
      "\n",
      " epoch: 345/363\n"
     ]
    },
    {
     "name": "stderr",
     "output_type": "stream",
     "text": [
      "\n",
      "Train--Epoch [345/363]: 100%|██████████| 187/187 [00:18<00:00, 10.29it/s, acc=59.3, loss=0.66] \n",
      "Valid--Epoch [345/363]: 100%|██████████| 44/44 [00:01<00:00, 23.19it/s, acc=59.2, loss=0.675]"
     ]
    },
    {
     "name": "stdout",
     "output_type": "stream",
     "text": [
      "\n",
      " epoch: 346/363\n"
     ]
    },
    {
     "name": "stderr",
     "output_type": "stream",
     "text": [
      "\n",
      "Train--Epoch [346/363]: 100%|██████████| 187/187 [00:17<00:00, 10.39it/s, acc=59.4, loss=0.66] \n",
      "Valid--Epoch [346/363]: 100%|██████████| 44/44 [00:01<00:00, 22.74it/s, acc=59.2, loss=0.675]"
     ]
    },
    {
     "name": "stdout",
     "output_type": "stream",
     "text": [
      "\n",
      " epoch: 347/363\n"
     ]
    },
    {
     "name": "stderr",
     "output_type": "stream",
     "text": [
      "\n",
      "Train--Epoch [347/363]: 100%|██████████| 187/187 [00:18<00:00, 10.23it/s, acc=59.3, loss=0.66] \n",
      "Valid--Epoch [347/363]: 100%|██████████| 44/44 [00:02<00:00, 20.70it/s, acc=59.2, loss=0.675]"
     ]
    },
    {
     "name": "stdout",
     "output_type": "stream",
     "text": [
      "\n",
      " epoch: 348/363\n"
     ]
    },
    {
     "name": "stderr",
     "output_type": "stream",
     "text": [
      "\n",
      "Train--Epoch [348/363]: 100%|██████████| 187/187 [00:19<00:00,  9.72it/s, acc=59.2, loss=0.66] \n",
      "Valid--Epoch [348/363]: 100%|██████████| 44/44 [00:02<00:00, 20.04it/s, acc=59.2, loss=0.675]"
     ]
    },
    {
     "name": "stdout",
     "output_type": "stream",
     "text": [
      "\n",
      " epoch: 349/363\n"
     ]
    },
    {
     "name": "stderr",
     "output_type": "stream",
     "text": [
      "\n",
      "Train--Epoch [349/363]: 100%|██████████| 187/187 [00:18<00:00, 10.05it/s, acc=59.3, loss=0.66] \n",
      "Valid--Epoch [349/363]: 100%|██████████| 44/44 [00:02<00:00, 20.55it/s, acc=59.2, loss=0.675]"
     ]
    },
    {
     "name": "stdout",
     "output_type": "stream",
     "text": [
      "\n",
      " epoch: 350/363\n"
     ]
    },
    {
     "name": "stderr",
     "output_type": "stream",
     "text": [
      "\n",
      "Train--Epoch [350/363]: 100%|██████████| 187/187 [00:18<00:00,  9.93it/s, acc=59, loss=0.66]   \n",
      "Valid--Epoch [350/363]: 100%|██████████| 44/44 [00:02<00:00, 20.34it/s, acc=59.2, loss=0.675]"
     ]
    },
    {
     "name": "stdout",
     "output_type": "stream",
     "text": [
      "\n",
      " epoch: 351/363\n"
     ]
    },
    {
     "name": "stderr",
     "output_type": "stream",
     "text": [
      "\n",
      "Train--Epoch [351/363]: 100%|██████████| 187/187 [00:18<00:00, 10.09it/s, acc=59.3, loss=0.659]\n",
      "Valid--Epoch [351/363]: 100%|██████████| 44/44 [00:02<00:00, 21.49it/s, acc=59.2, loss=0.675]"
     ]
    },
    {
     "name": "stdout",
     "output_type": "stream",
     "text": [
      "\n",
      " epoch: 352/363\n"
     ]
    },
    {
     "name": "stderr",
     "output_type": "stream",
     "text": [
      "\n",
      "Train--Epoch [352/363]: 100%|██████████| 187/187 [00:18<00:00,  9.99it/s, acc=59.3, loss=0.66] \n",
      "Valid--Epoch [352/363]: 100%|██████████| 44/44 [00:02<00:00, 16.59it/s, acc=59.2, loss=0.675]"
     ]
    },
    {
     "name": "stdout",
     "output_type": "stream",
     "text": [
      "\n",
      " epoch: 353/363\n"
     ]
    },
    {
     "name": "stderr",
     "output_type": "stream",
     "text": [
      "\n",
      "Train--Epoch [353/363]: 100%|██████████| 187/187 [00:18<00:00,  9.84it/s, acc=59.1, loss=0.66] \n",
      "Valid--Epoch [353/363]: 100%|██████████| 44/44 [00:02<00:00, 16.70it/s, acc=59.2, loss=0.675]"
     ]
    },
    {
     "name": "stdout",
     "output_type": "stream",
     "text": [
      "\n",
      " epoch: 354/363\n"
     ]
    },
    {
     "name": "stderr",
     "output_type": "stream",
     "text": [
      "\n",
      "Train--Epoch [354/363]: 100%|██████████| 187/187 [00:18<00:00,  9.97it/s, acc=59.2, loss=0.661]\n",
      "Valid--Epoch [354/363]: 100%|██████████| 44/44 [00:02<00:00, 17.94it/s, acc=59.2, loss=0.675]"
     ]
    },
    {
     "name": "stdout",
     "output_type": "stream",
     "text": [
      "\n",
      " epoch: 355/363\n"
     ]
    },
    {
     "name": "stderr",
     "output_type": "stream",
     "text": [
      "\n",
      "Train--Epoch [355/363]: 100%|██████████| 187/187 [00:18<00:00, 10.33it/s, acc=59.2, loss=0.66] \n",
      "Valid--Epoch [355/363]: 100%|██████████| 44/44 [00:01<00:00, 23.74it/s, acc=59.2, loss=0.675]"
     ]
    },
    {
     "name": "stdout",
     "output_type": "stream",
     "text": [
      "\n",
      " epoch: 356/363\n"
     ]
    },
    {
     "name": "stderr",
     "output_type": "stream",
     "text": [
      "\n",
      "Train--Epoch [356/363]: 100%|██████████| 187/187 [00:18<00:00, 10.38it/s, acc=59.3, loss=0.66] \n",
      "Valid--Epoch [356/363]: 100%|██████████| 44/44 [00:01<00:00, 23.15it/s, acc=59.2, loss=0.675]"
     ]
    },
    {
     "name": "stdout",
     "output_type": "stream",
     "text": [
      "\n",
      " epoch: 357/363\n"
     ]
    },
    {
     "name": "stderr",
     "output_type": "stream",
     "text": [
      "\n",
      "Train--Epoch [357/363]: 100%|██████████| 187/187 [00:17<00:00, 10.51it/s, acc=59.2, loss=0.66]\n",
      "Valid--Epoch [357/363]: 100%|██████████| 44/44 [00:01<00:00, 22.37it/s, acc=59.2, loss=0.675]"
     ]
    },
    {
     "name": "stdout",
     "output_type": "stream",
     "text": [
      "\n",
      " epoch: 358/363\n"
     ]
    },
    {
     "name": "stderr",
     "output_type": "stream",
     "text": [
      "\n",
      "Train--Epoch [358/363]: 100%|██████████| 187/187 [00:18<00:00, 10.36it/s, acc=59.3, loss=0.66] \n",
      "Valid--Epoch [358/363]: 100%|██████████| 44/44 [00:01<00:00, 23.11it/s, acc=59.2, loss=0.675]"
     ]
    },
    {
     "name": "stdout",
     "output_type": "stream",
     "text": [
      "\n",
      " epoch: 359/363\n"
     ]
    },
    {
     "name": "stderr",
     "output_type": "stream",
     "text": [
      "\n",
      "Train--Epoch [359/363]: 100%|██████████| 187/187 [00:18<00:00, 10.35it/s, acc=59.2, loss=0.66] \n",
      "Valid--Epoch [359/363]: 100%|██████████| 44/44 [00:01<00:00, 23.74it/s, acc=59.2, loss=0.675]"
     ]
    },
    {
     "name": "stdout",
     "output_type": "stream",
     "text": [
      "\n",
      " epoch: 360/363\n"
     ]
    },
    {
     "name": "stderr",
     "output_type": "stream",
     "text": [
      "\n",
      "Train--Epoch [360/363]: 100%|██████████| 187/187 [00:18<00:00, 10.37it/s, acc=59.3, loss=0.66] \n",
      "Valid--Epoch [360/363]: 100%|██████████| 44/44 [00:01<00:00, 22.53it/s, acc=59.2, loss=0.675]"
     ]
    },
    {
     "name": "stdout",
     "output_type": "stream",
     "text": [
      "\n",
      " epoch: 361/363\n"
     ]
    },
    {
     "name": "stderr",
     "output_type": "stream",
     "text": [
      "\n",
      "Train--Epoch [361/363]: 100%|██████████| 187/187 [00:18<00:00, 10.33it/s, acc=59.1, loss=0.66] \n",
      "Valid--Epoch [361/363]: 100%|██████████| 44/44 [00:01<00:00, 23.24it/s, acc=59.2, loss=0.675]\n"
     ]
    },
    {
     "name": "stdout",
     "output_type": "stream",
     "text": [
      "\n",
      " epoch: 362/363\n"
     ]
    },
    {
     "name": "stderr",
     "output_type": "stream",
     "text": [
      "Train--Epoch [362/363]: 100%|██████████| 187/187 [00:17<00:00, 10.43it/s, acc=59.3, loss=0.659]\n",
      "Valid--Epoch [362/363]: 100%|██████████| 44/44 [00:01<00:00, 24.11it/s, acc=59.2, loss=0.675]"
     ]
    },
    {
     "name": "stdout",
     "output_type": "stream",
     "text": [
      "\n",
      " epoch: 363/363\n"
     ]
    },
    {
     "name": "stderr",
     "output_type": "stream",
     "text": [
      "\n",
      "Train--Epoch [363/363]: 100%|██████████| 187/187 [00:18<00:00, 10.31it/s, acc=59.2, loss=0.66]\n",
      "Valid--Epoch [363/363]: 100%|██████████| 44/44 [00:01<00:00, 23.34it/s, acc=59.2, loss=0.675]\n"
     ]
    }
   ],
   "source": [
    "model.to(device)\n",
    "for epoch in range(start_epoch, end_epoch):\n",
    "\n",
    "    print(f'\\n epoch: {epoch+1}/{end_epoch}')\n",
    "\n",
    "    ##########################################################\n",
    "    model.train(True)\n",
    "    tr_loss = 0\n",
    "    correct = 0\n",
    "    total = 0\n",
    "\n",
    "    loop1 = tqdm(enumerate(train_loader), total=len(train_loader))\n",
    "    for batch_idx, (inputs, targets) in loop1:\n",
    "        inputs, targets = inputs.to(device), targets.to(device)\n",
    "\n",
    "        outputs = model(inputs)\n",
    "        loss = criterion(outputs, targets)\n",
    "\n",
    "\n",
    "        # Zero gradients for every batch\n",
    "        optimizer.zero_grad()\n",
    "        # Backward path (Gradient)\n",
    "        loss.backward()\n",
    "        # Optimizer(Adam) Step\n",
    "        optimizer.step()\n",
    "\n",
    "        tr_loss += loss.item()\n",
    "        _, predicted = outputs.max(1)\n",
    "        total += targets.size(0)\n",
    "        correct += predicted.eq(targets).sum().item()\n",
    "\n",
    "        avg_tr_loss = tr_loss/(batch_idx+1)\n",
    "        avg_tr_accuracy = 100.*correct/total\n",
    "\n",
    "        loop1.set_description(f\"Train--Epoch [{epoch+1}/{end_epoch}]\")\n",
    "        loop1.set_postfix(loss=avg_tr_loss, acc=avg_tr_accuracy)\n",
    "\n",
    "    ##########################################################\n",
    "    list_tr_loss.append(avg_tr_loss)\n",
    "    list_tr_acc.append(avg_tr_accuracy)\n",
    "\n",
    "    ##########################################################\n",
    "    model.eval()\n",
    "    val_loss = 0\n",
    "    correct = 0\n",
    "    total = 0\n",
    "    with torch.no_grad():\n",
    "\n",
    "        loop2 = tqdm(enumerate(valid_loader), total=len(valid_loader))\n",
    "        for batch_idx, (inputs, targets) in loop2:\n",
    "            inputs, targets = inputs.to(device), targets.to(device)\n",
    "\n",
    "            outputs = model(inputs)\n",
    "            loss = criterion(outputs, targets)\n",
    "\n",
    "            val_loss += loss.item()\n",
    "            _, predicted = outputs.max(1)\n",
    "            total += targets.size(0)\n",
    "            correct += predicted.eq(targets).sum().item()\n",
    "\n",
    "            avg_val_loss = val_loss/(batch_idx+1)\n",
    "            avg_val_accuracy = 100.*correct/total\n",
    "\n",
    "            loop2.set_description(f\"Valid--Epoch [{epoch+1}/{end_epoch}]\")\n",
    "            loop2.set_postfix(loss=avg_val_loss, acc=avg_val_accuracy)\n",
    "\n",
    "    list_val_loss.append(avg_val_loss)\n",
    "    list_val_acc.append(avg_val_accuracy)\n",
    "\n",
    "    # Save checkpoint.\n",
    "    if avg_val_accuracy > best_acc:\n",
    "        best_acc = avg_val_accuracy\n",
    "\n",
    "        print('Saving..')\n",
    "        state = {\"model\": model.state_dict(),\n",
    "                 \"optimizer\": optimizer.state_dict(),\n",
    "                 \"epoch\": epoch,\n",
    "                 \"best_acc\": best_acc,\n",
    "                 \"list_tr_loss\": list_tr_loss,\n",
    "                 \"list_tr_acc\": list_tr_acc,\n",
    "                 \"list_val_loss\": list_val_loss,\n",
    "                 \"list_val_acc\": list_val_acc\n",
    "                 }\n",
    "        torch.save(state, model_state_path +f'vit_patch{patch_size}_cifak_epoch_{epoch}')\n",
    "\n",
    "    ##########################################################\n",
    "\n",
    "    if use_scheduler: scheduler.step()  # step scheduling"
   ]
  },
  {
   "cell_type": "code",
   "execution_count": 32,
   "metadata": {},
   "outputs": [
    {
     "name": "stdout",
     "output_type": "stream",
     "text": [
      "SGD (\n",
      "Parameter Group 0\n",
      "    dampening: 0\n",
      "    differentiable: False\n",
      "    foreach: None\n",
      "    initial_lr: 0.01\n",
      "    lr: 0.0\n",
      "    maximize: False\n",
      "    momentum: 0\n",
      "    nesterov: False\n",
      "    weight_decay: 0\n",
      ")\n",
      "{'state': {0: {'momentum_buffer': None}, 1: {'momentum_buffer': None}, 2: {'momentum_buffer': None}, 3: {'momentum_buffer': None}, 4: {'momentum_buffer': None}, 5: {'momentum_buffer': None}, 6: {'momentum_buffer': None}, 7: {'momentum_buffer': None}, 8: {'momentum_buffer': None}, 9: {'momentum_buffer': None}, 10: {'momentum_buffer': None}, 11: {'momentum_buffer': None}, 12: {'momentum_buffer': None}, 13: {'momentum_buffer': None}, 14: {'momentum_buffer': None}, 15: {'momentum_buffer': None}, 16: {'momentum_buffer': None}, 17: {'momentum_buffer': None}, 18: {'momentum_buffer': None}, 19: {'momentum_buffer': None}, 20: {'momentum_buffer': None}, 21: {'momentum_buffer': None}, 22: {'momentum_buffer': None}, 23: {'momentum_buffer': None}, 24: {'momentum_buffer': None}, 25: {'momentum_buffer': None}, 26: {'momentum_buffer': None}, 27: {'momentum_buffer': None}, 28: {'momentum_buffer': None}, 29: {'momentum_buffer': None}, 30: {'momentum_buffer': None}, 31: {'momentum_buffer': None}, 32: {'momentum_buffer': None}, 33: {'momentum_buffer': None}, 34: {'momentum_buffer': None}, 35: {'momentum_buffer': None}, 36: {'momentum_buffer': None}, 37: {'momentum_buffer': None}, 38: {'momentum_buffer': None}, 39: {'momentum_buffer': None}, 40: {'momentum_buffer': None}, 41: {'momentum_buffer': None}, 42: {'momentum_buffer': None}, 43: {'momentum_buffer': None}, 44: {'momentum_buffer': None}, 45: {'momentum_buffer': None}, 46: {'momentum_buffer': None}, 47: {'momentum_buffer': None}, 48: {'momentum_buffer': None}, 49: {'momentum_buffer': None}, 50: {'momentum_buffer': None}, 51: {'momentum_buffer': None}, 52: {'momentum_buffer': None}, 53: {'momentum_buffer': None}, 54: {'momentum_buffer': None}, 55: {'momentum_buffer': None}, 56: {'momentum_buffer': None}, 57: {'momentum_buffer': None}, 58: {'momentum_buffer': None}, 59: {'momentum_buffer': None}, 60: {'momentum_buffer': None}, 61: {'momentum_buffer': None}, 62: {'momentum_buffer': None}, 63: {'momentum_buffer': None}, 64: {'momentum_buffer': None}, 65: {'momentum_buffer': None}, 66: {'momentum_buffer': None}, 67: {'momentum_buffer': None}, 68: {'momentum_buffer': None}, 69: {'momentum_buffer': None}, 70: {'momentum_buffer': None}, 71: {'momentum_buffer': None}, 72: {'momentum_buffer': None}, 73: {'momentum_buffer': None}}, 'param_groups': [{'lr': 0.0, 'momentum': 0, 'dampening': 0, 'weight_decay': 0, 'nesterov': False, 'maximize': False, 'foreach': None, 'differentiable': False, 'initial_lr': 0.01, 'params': [0, 1, 2, 3, 4, 5, 6, 7, 8, 9, 10, 11, 12, 13, 14, 15, 16, 17, 18, 19, 20, 21, 22, 23, 24, 25, 26, 27, 28, 29, 30, 31, 32, 33, 34, 35, 36, 37, 38, 39, 40, 41, 42, 43, 44, 45, 46, 47, 48, 49, 50, 51, 52, 53, 54, 55, 56, 57, 58, 59, 60, 61, 62, 63, 64, 65, 66, 67, 68, 69, 70, 71, 72, 73]}]}\n"
     ]
    }
   ],
   "source": [
    "print(optimizer)\n",
    "print(optimizer.state_dict())"
   ]
  },
  {
   "cell_type": "code",
   "execution_count": 25,
   "metadata": {},
   "outputs": [
    {
     "data": {
      "image/png": "[encoded data removed]",
      "text/plain": [
       "<Figure size 640x480 with 2 Axes>"
      ]
     },
     "metadata": {},
     "output_type": "display_data"
    }
   ],
   "source": [
    "fig, axs = plt.subplots(2, 1)\n",
    "\n",
    "axs[0].plot(range(len(list_tr_loss )), list_tr_loss , label='Train Loss')\n",
    "axs[0].plot(range(len(list_val_loss)), list_val_loss, label='Validation Loss')\n",
    "axs[0].set_ylim([0,5])\n",
    "\n",
    "axs[1].plot(range(len(list_tr_acc)), list_tr_acc, label='Train Accuracy')\n",
    "axs[1].plot(range(len(list_val_acc)), list_val_acc, label='Validation Accuracy')\n",
    "axs[1].set_ylim([40,80])\n",
    "\n",
    "axs[0].legend()\n",
    "axs[1].legend()\n",
    "plt.show()"
   ]
  }
 ],
 "metadata": {
  "kernelspec": {
   "display_name": "timmvenv11",
   "language": "python",
   "name": "python3"
  },
  "language_info": {
   "codemirror_mode": {
    "name": "ipython",
    "version": 3
   },
   "file_extension": ".py",
   "mimetype": "text/x-python",
   "name": "python",
   "nbconvert_exporter": "python",
   "pygments_lexer": "ipython3",
   "version": "3.11.0rc1"
  }
 },
 "nbformat": 4,
 "nbformat_minor": 2
}
