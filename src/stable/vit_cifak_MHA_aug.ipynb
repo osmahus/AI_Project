{
 "cells": [
  {
   "cell_type": "code",
   "execution_count": 1,
   "metadata": {},
   "outputs": [],
   "source": [
    "import os\n",
    "import cv2\n",
    "\n",
    "from helpers.dataset_process import dataset_to_df, search_df\n",
    "\n",
    "import numpy as np\n",
    "# import pandas as pd\n",
    "\n",
    "from tqdm import tqdm\n",
    "\n",
    "import matplotlib.pyplot as plt\n",
    "from mpl_toolkits.axes_grid1 import ImageGrid\n",
    "\n",
    "import torch\n",
    "from torch import nn, einsum\n",
    "import torch.nn.functional as F\n",
    "\n",
    "\n",
    "# The cross-entropy loss penalizes the model more when it is more confident in the incorrect class\n",
    "from torch.nn import CrossEntropyLoss\n",
    "\n",
    "# Adam is an optimization algorithm that can be used instead of the classical SGD procedure\n",
    "# to update network weights iterative based in training data.\n",
    "from torch.optim import SGD, Adam\n",
    "from torch.optim.lr_scheduler import CosineAnnealingLR\n",
    "from torch.utils.data import Dataset, DataLoader, random_split\n",
    "\n",
    "from torchvision import transforms\n",
    "from torchvision.transforms import v2\n",
    "from torchvision.io import read_image\n",
    "\n",
    "from torchinfo import summary\n",
    "\n",
    "from einops import rearrange, repeat\n",
    "from einops.layers.torch import Rearrange\n"
   ]
  },
  {
   "cell_type": "code",
   "execution_count": 2,
   "metadata": {},
   "outputs": [
    {
     "name": "stdout",
     "output_type": "stream",
     "text": [
      "torch version: 2.2.1+cu121\n",
      "GPU Card: NVIDIA GeForce RTX 3070 Ti Laptop GPU\n",
      "Torch is using device: cuda:0\n",
      "CPU Count: 20\n"
     ]
    }
   ],
   "source": [
    "print(f\"torch version: {torch.__version__}\")\n",
    "print(f\"GPU Card: {torch.cuda.get_device_name(0)}\")\n",
    "device = torch.device('cuda:0' if torch.cuda.is_available() else 'cpu')\n",
    "print('Torch is using device:', device)\n",
    "torch.cuda.get_device_name(device)\n",
    "\n",
    "NUM_WORKERS = os.cpu_count()\n",
    "print(\"CPU Count:\", NUM_WORKERS)"
   ]
  },
  {
   "cell_type": "code",
   "execution_count": 3,
   "metadata": {},
   "outputs": [],
   "source": [
    "model_type = \"vit\"\n",
    "add_extra_epochs = True  # if True then continue for extra epochs from the starting epoch\n",
    "# If True load a pretrained model, and start_epoch = epoch of the model . Else if False then start_epoch = 0\n",
    "start_from_model = False"
   ]
  },
  {
   "cell_type": "code",
   "execution_count": 4,
   "metadata": {},
   "outputs": [],
   "source": [
    "model_state_path = f\"../../../weights/{model_type}_cifak/checkpoint/\"\n",
    "\n",
    "model_file_name = f\"vit_patch8_cifak_epoch_394\"  # file name of the saved model\n",
    "\n",
    "checkpoint = torch.load(model_state_path+model_file_name)"
   ]
  },
  {
   "cell_type": "code",
   "execution_count": 5,
   "metadata": {},
   "outputs": [
    {
     "name": "stdout",
     "output_type": "stream",
     "text": [
      "Flattened dimension size(of a patch): 192\n",
      "Embedding Size: 192\n",
      "Output MLP size: 384\n"
     ]
    }
   ],
   "source": [
    "img_size = 32  # Input image height/width in pixels\n",
    "patch_size = 8 # The height/width of a patch in pixels (patch is a slice of an image)\n",
    "\n",
    "image_patch_flat_size = 3*patch_size**2 #3 Channels x height x width\n",
    "embed_size = image_patch_flat_size\n",
    "mlp_dim = 384 # dim of the last mlp classifier\n",
    "\n",
    "downscaling_factor=(2, 2, 2, 1) # used for swin\n",
    "\n",
    "train_batch_size = 256 # https://www.youtube.com/watch?v=Owm1H0ukjS4\n",
    "valid_batch_size = 256\n",
    "\n",
    "num_classes = 2\n",
    "encoder_depth = 9\n",
    "attention_heads = 12\n",
    "\n",
    "print(f'Flattened dimension size(of a patch): {image_patch_flat_size}')\n",
    "print(f'Embedding Size: {embed_size}')\n",
    "print(f'Output MLP size: {mlp_dim}')"
   ]
  },
  {
   "cell_type": "code",
   "execution_count": 6,
   "metadata": {},
   "outputs": [
    {
     "name": "stdout",
     "output_type": "stream",
     "text": [
      "Train another 400 epochs after epoch 0 \n"
     ]
    }
   ],
   "source": [
    "n_extra_epochs = 400\n",
    "max_epochs = 200\n",
    "\n",
    "start_epoch = checkpoint['epoch'] if start_from_model else 0\n",
    "end_epoch = start_epoch + n_extra_epochs if add_extra_epochs else max_epochs\n",
    "delta_epochs = end_epoch-start_epoch\n",
    "\n",
    "print(f\"Train another {delta_epochs} epochs after epoch {start_epoch} \")"
   ]
  },
  {
   "cell_type": "code",
   "execution_count": 7,
   "metadata": {},
   "outputs": [],
   "source": [
    "base_lr = 0.005         # Base Learning rate 0.1 for SGD , 0.0001 for Adam\n",
    "momentum = 0.9          # Momentum for SGD\n",
    "weight_decay = 0.03     # Weight decay for Adam\n",
    "\n",
    "\n",
    "loss_algo = CrossEntropyLoss\n",
    "\n",
    "optimize_algo = SGD\n",
    "optimize_args = {\"lr\": base_lr,\n",
    "                #  \"weight_decay\": weight_decay,\n",
    "                #  \"momentum\": momentum  # comment momentum for Adam\n",
    "                 }\n",
    "\n",
    "use_scheduler = False\n",
    "schedule_algo = CosineAnnealingLR\n",
    "schedule_args = {\"T_max\": delta_epochs}"
   ]
  },
  {
   "cell_type": "code",
   "execution_count": 8,
   "metadata": {},
   "outputs": [],
   "source": [
    "path = '../../../data/CIFAK'\n",
    "relative_paths = [\"/train/REAL\", \"/train/FAKE\", \"/test/REAL\", \"/test/FAKE\"]\n",
    "paths_classes = [\"REAL\", \"FAKE\", \"REAL\", \"FAKE\"]"
   ]
  },
  {
   "cell_type": "code",
   "execution_count": 9,
   "metadata": {},
   "outputs": [
    {
     "data": {
      "text/html": [
       "<div>\n",
       "<style scoped>\n",
       "    .dataframe tbody tr th:only-of-type {\n",
       "        vertical-align: middle;\n",
       "    }\n",
       "\n",
       "    .dataframe tbody tr th {\n",
       "        vertical-align: top;\n",
       "    }\n",
       "\n",
       "    .dataframe thead th {\n",
       "        text-align: right;\n",
       "    }\n",
       "</style>\n",
       "<table border=\"1\" class=\"dataframe\">\n",
       "  <thead>\n",
       "    <tr style=\"text-align: right;\">\n",
       "      <th></th>\n",
       "      <th>REAL</th>\n",
       "      <th>FAKE</th>\n",
       "      <th>Total</th>\n",
       "    </tr>\n",
       "  </thead>\n",
       "  <tbody>\n",
       "    <tr>\n",
       "      <th>Training</th>\n",
       "      <td>48000</td>\n",
       "      <td>48000</td>\n",
       "      <td>96000</td>\n",
       "    </tr>\n",
       "    <tr>\n",
       "      <th>Validation</th>\n",
       "      <td>11400</td>\n",
       "      <td>11400</td>\n",
       "      <td>22800</td>\n",
       "    </tr>\n",
       "    <tr>\n",
       "      <th>Testing</th>\n",
       "      <td>600</td>\n",
       "      <td>600</td>\n",
       "      <td>1200</td>\n",
       "    </tr>\n",
       "    <tr>\n",
       "      <th>Row_Total</th>\n",
       "      <td>60000</td>\n",
       "      <td>60000</td>\n",
       "      <td>120000</td>\n",
       "    </tr>\n",
       "  </tbody>\n",
       "</table>\n",
       "</div>"
      ],
      "text/plain": [
       "             REAL   FAKE   Total\n",
       "Training    48000  48000   96000\n",
       "Validation  11400  11400   22800\n",
       "Testing       600    600    1200\n",
       "Row_Total   60000  60000  120000"
      ]
     },
     "execution_count": 9,
     "metadata": {},
     "output_type": "execute_result"
    }
   ],
   "source": [
    "df_all, df_train, df_val, df_test, classes_stats = dataset_to_df(path, relative_paths, paths_classes, 0.8, 0.19, 0.01)\n",
    "classes_stats"
   ]
  },
  {
   "cell_type": "code",
   "execution_count": 10,
   "metadata": {},
   "outputs": [
    {
     "name": "stdout",
     "output_type": "stream",
     "text": [
      "First and Last Elements in the Whole dataset\n"
     ]
    },
    {
     "data": {
      "text/html": [
       "<div>\n",
       "<style scoped>\n",
       "    .dataframe tbody tr th:only-of-type {\n",
       "        vertical-align: middle;\n",
       "    }\n",
       "\n",
       "    .dataframe tbody tr th {\n",
       "        vertical-align: top;\n",
       "    }\n",
       "\n",
       "    .dataframe thead th {\n",
       "        text-align: right;\n",
       "    }\n",
       "</style>\n",
       "<table border=\"1\" class=\"dataframe\">\n",
       "  <thead>\n",
       "    <tr style=\"text-align: right;\">\n",
       "      <th></th>\n",
       "      <th>Image_path</th>\n",
       "      <th>Image_size</th>\n",
       "      <th>Class</th>\n",
       "      <th>Class_Codes</th>\n",
       "      <th>Class_Onehot</th>\n",
       "    </tr>\n",
       "  </thead>\n",
       "  <tbody>\n",
       "    <tr>\n",
       "      <th>0</th>\n",
       "      <td>../../../data/CIFAK//train/REAL/0000(10).jpg</td>\n",
       "      <td>(3, 32, 32)</td>\n",
       "      <td>REAL</td>\n",
       "      <td>1</td>\n",
       "      <td>[1, 0]</td>\n",
       "    </tr>\n",
       "    <tr>\n",
       "      <th>119999</th>\n",
       "      <td>../../../data/CIFAK//test/FAKE/999.jpg</td>\n",
       "      <td>(3, 32, 32)</td>\n",
       "      <td>FAKE</td>\n",
       "      <td>0</td>\n",
       "      <td>[0, 1]</td>\n",
       "    </tr>\n",
       "  </tbody>\n",
       "</table>\n",
       "</div>"
      ],
      "text/plain": [
       "                                          Image_path   Image_size Class  \\\n",
       "0       ../../../data/CIFAK//train/REAL/0000(10).jpg  (3, 32, 32)  REAL   \n",
       "119999        ../../../data/CIFAK//test/FAKE/999.jpg  (3, 32, 32)  FAKE   \n",
       "\n",
       "        Class_Codes Class_Onehot  \n",
       "0                 1       [1, 0]  \n",
       "119999            0       [0, 1]  "
      ]
     },
     "execution_count": 10,
     "metadata": {},
     "output_type": "execute_result"
    }
   ],
   "source": [
    "print(\"First and Last Elements in the Whole dataset\")\n",
    "df_all.iloc[[0,-1]]"
   ]
  },
  {
   "cell_type": "code",
   "execution_count": 11,
   "metadata": {},
   "outputs": [
    {
     "data": {
      "image/png": "[encoded data removed]",
      "text/plain": [
       "<Figure size 400x200 with 2 Axes>"
      ]
     },
     "metadata": {},
     "output_type": "display_data"
    }
   ],
   "source": [
    "fig, axs = plt.subplots(1, 2, layout=\"constrained\",figsize=(4, 2))\n",
    "\n",
    "fig.suptitle('Dataset Sample Images (Source CIFAK)')\n",
    "axs[0].imshow(cv2.imread(df_all.iloc[0, 0]))\n",
    "axs[0].set(xlabel=df_all.iloc[0, 2])\n",
    "axs[0].set_xticks([])\n",
    "axs[0].set_yticks([])\n",
    "\n",
    "axs[1].imshow(cv2.imread(df_all.iloc[-1, 0]))\n",
    "axs[1].set(xlabel=df_all.iloc[-1, 2])\n",
    "axs[1].set_xticks([])\n",
    "axs[1].set_yticks([])\n",
    "\n",
    "\n",
    "plt.show()"
   ]
  },
  {
   "cell_type": "code",
   "execution_count": 12,
   "metadata": {},
   "outputs": [],
   "source": [
    "# https://github.com/lucidrains/vit-pytorch/blob/main/vit_pytorch/vit.py\n",
    "# replaced the attention mechanism with MHA from Sebastian Raschka\n",
    "\n",
    "# helpers\n",
    "def pair(t):\n",
    "    return t if isinstance(t, tuple) else (t, t)\n",
    "\n",
    "# classes\n",
    "class PreNorm(nn.Module):\n",
    "    def __init__(self, dim, fn):\n",
    "        super().__init__()\n",
    "        self.norm = nn.LayerNorm(dim)\n",
    "        self.fn = fn\n",
    "\n",
    "    def forward(self, x, **kwargs):\n",
    "        return self.fn(self.norm(x), **kwargs)\n",
    "\n",
    "\n",
    "class FeedForward(nn.Module):\n",
    "    def __init__(self, dim, hidden_dim, dropout=0.):\n",
    "        super().__init__()\n",
    "        self.model = nn.Sequential(\n",
    "            nn.Linear(dim, hidden_dim),\n",
    "            nn.GELU(),\n",
    "            nn.Dropout(dropout),\n",
    "            nn.Linear(hidden_dim, dim),\n",
    "            nn.Dropout(dropout)\n",
    "        )\n",
    "\n",
    "    def forward(self, x):\n",
    "        return self.model(x)\n",
    "\n",
    "\n",
    "# inspired by Sebstian Raschka with modifications\n",
    "class MHA(nn.Module):\n",
    "    def __init__(self, embed_dim: int, num_of_head: int = 12, Dropout=0.2) -> None:\n",
    "        super().__init__()\n",
    "        self.embed_dim = embed_dim\n",
    "        self.inner_dim = embed_dim*2\n",
    "        self.num_of_head = num_of_head\n",
    "        self.dim_per_head = self.inner_dim // self.num_of_head\n",
    "        self.Wq = nn.Linear(in_features=embed_dim, out_features=self.inner_dim)\n",
    "        self.Wk = nn.Linear(in_features=embed_dim, out_features=self.inner_dim)\n",
    "        self.Wv = nn.Linear(in_features=embed_dim, out_features=self.inner_dim)\n",
    "\n",
    "        self.dropout = Dropout\n",
    "        self.linear = nn.Linear(in_features=self.inner_dim, out_features=embed_dim)\n",
    "\n",
    "    def forward(self, x: torch.Tensor) -> torch.Tensor:\n",
    "\n",
    "        q = self.Wq(x)\n",
    "        k = self.Wk(x)\n",
    "        v = self.Wv(x)\n",
    "\n",
    "        Q = rearrange(q, 'b s (h d) -> b h s d',\n",
    "                      h=self.num_of_head, d=self.dim_per_head)\n",
    "        K = rearrange(k, 'b s (h d) -> b h s d',\n",
    "                      h=self.num_of_head, d=self.dim_per_head)\n",
    "        V = rearrange(v, 'b s (h d) -> b h s d',\n",
    "                      h=self.num_of_head, d=self.dim_per_head)\n",
    "\n",
    "        use_dropout = 0.0 if not self.training else self.dropout\n",
    "\n",
    "        attention = F.scaled_dot_product_attention(Q, K, V, dropout_p=use_dropout)\n",
    "        \n",
    "        # Note:\n",
    "        # dimensions of tensors inside F.scaled_dot_product_attention as follows:\n",
    "        # Q(b h s d) . KT(b h d s) ==> b h s s\n",
    "        # weight(b h s s).V(b h s d) ==> attention (b h s d)\n",
    "\n",
    "        attention = rearrange(attention, 'b h s d -> b s (h d)')\n",
    "        attention = self.linear(attention)\n",
    "        return attention\n",
    "\n",
    "\n",
    "class Transformer(nn.Module):\n",
    "    def __init__(self, dim, depth, heads, dim_head, mlp_dim, dropout=0.):\n",
    "        super().__init__()\n",
    "        self.layers = nn.ModuleList([])\n",
    "        for _ in range(depth):\n",
    "            self.layers.append(nn.ModuleList([\n",
    "                # PreNorm(dim, Attention(dim, heads = heads, dim_head = dim_head, dropout = dropout)),\n",
    "                PreNorm(dim, MHA(embed_dim=dim, num_of_head=heads, Dropout=dropout)),\n",
    "                PreNorm(dim, FeedForward(dim, mlp_dim, dropout=dropout))\n",
    "            ]))\n",
    "\n",
    "    def forward(self, x):\n",
    "        for attn, ff in self.layers:\n",
    "            x = attn(x) + x\n",
    "            x = ff(x) + x\n",
    "        return x\n",
    "\n",
    "\n",
    "class vit(nn.Module):\n",
    "    def __init__(self, *, image_size, patch_size, num_classes, dim, depth, heads, mlp_dim, pool='cls', channels=3, dim_head=64, emb_dropout=0., dropout=0.):\n",
    "        super().__init__()\n",
    "        image_height, image_width = pair(image_size)\n",
    "        patch_height, patch_width = pair(patch_size)\n",
    "\n",
    "        assert image_height % patch_height == 0 and image_width % patch_width == 0, 'Image dimensions must be divisible by the patch size.'\n",
    "\n",
    "        num_patches = (image_height // patch_height) * \\\n",
    "            (image_width // patch_width)\n",
    "        patch_dim = channels * patch_height * patch_width\n",
    "        assert pool in {\n",
    "            'cls', 'mean'}, 'pool type must be either cls (cls token) or mean (mean pooling)'\n",
    "\n",
    "        self.to_patch_embedding = nn.Sequential(\n",
    "            Rearrange('b c (h p1) (w p2) -> b (h w) (p1 p2 c)',\n",
    "                      p1=patch_height, p2=patch_width),\n",
    "            nn.Linear(patch_dim, dim),\n",
    "        )\n",
    "\n",
    "        self.pos_embedding = nn.Parameter(torch.randn(1, num_patches + 1, dim))\n",
    "        self.cls_token = nn.Parameter(torch.randn(1, 1, dim))\n",
    "        self.dropout = nn.Dropout(emb_dropout)\n",
    "\n",
    "        self.transformer = Transformer(\n",
    "            dim, depth, heads, dim_head, mlp_dim, dropout)\n",
    "\n",
    "        self.pool = pool\n",
    "        self.to_latent = nn.Identity()\n",
    "\n",
    "        self.mlp_head = nn.Sequential(\n",
    "            nn.LayerNorm(dim),\n",
    "            nn.Linear(dim, num_classes)\n",
    "        )\n",
    "\n",
    "    def forward(self, img):\n",
    "        x = self.to_patch_embedding(img)\n",
    "        b, n, _ = x.shape\n",
    "\n",
    "        cls_tokens = repeat(self.cls_token, '() n d -> b n d', b=b)\n",
    "        x = torch.cat((cls_tokens, x), dim=1)\n",
    "        x += self.pos_embedding[:, :(n + 1)]\n",
    "        x = self.dropout(x)\n",
    "\n",
    "        x = self.transformer(x)\n",
    "\n",
    "        x = x.mean(dim=1) if self.pool == 'mean' else x[:, 0]\n",
    "\n",
    "        x = self.to_latent(x)\n",
    "        return self.mlp_head(x)"
   ]
  },
  {
   "cell_type": "code",
   "execution_count": 13,
   "metadata": {},
   "outputs": [],
   "source": [
    "# Custom Dataset Class\n",
    "class Images_Dataset(Dataset):\n",
    "    def __init__(self, annotations_df, transform=None):\n",
    "        \n",
    "        self.annotation = annotations_df\n",
    "        self.transform = transform\n",
    "\n",
    "    def __getitem__(self, index):\n",
    "        \n",
    "        img = read_image(self.annotation.iloc[index, 0])\n",
    "        labels = torch.tensor(self.annotation.iloc[index, 3],dtype=torch.int64)\n",
    "\n",
    "        if self.transform:\n",
    "            img_t = self.transform(img)\n",
    "\n",
    "        return img_t, labels\n",
    "\n",
    "    def __len__(self):\n",
    "        # To return the length of the dataset\n",
    "        return self.annotation.shape[0]"
   ]
  },
  {
   "cell_type": "code",
   "execution_count": 14,
   "metadata": {},
   "outputs": [],
   "source": [
    "norm_mean = [0.4913997551666284, 0.48215855929893703, 0.4465309133731618]\n",
    "norm_std = [0.24703225141799082, 0.24348516474564, 0.26158783926049628]"
   ]
  },
  {
   "cell_type": "code",
   "execution_count": 15,
   "metadata": {},
   "outputs": [],
   "source": [
    "transform_train = transforms.Compose([\n",
    "    # Note:\n",
    "    # We want to introduce augmentation for the dataset using transformations \n",
    "    # which doesn't change the real images into fake\n",
    "    v2.RandomCrop(32, padding=4),\n",
    "    v2.RandomHorizontalFlip(p=0.5),\n",
    "    v2.RandomAffine(degrees=(0, 180), translate=(0.1, 0.3), scale=(0.5, 0.75)),\n",
    "    v2.ToImage(), \n",
    "    v2.ToDtype(torch.float32, scale=True),\n",
    "    v2.Normalize(norm_mean, norm_std),\n",
    "])\n",
    "\n",
    "transform_valid = transforms.Compose([\n",
    "    v2.ToImage(), \n",
    "    v2.ToDtype(torch.float32, scale=True),\n",
    "    v2.Normalize(norm_mean, norm_std),\n",
    "])"
   ]
  },
  {
   "cell_type": "code",
   "execution_count": 16,
   "metadata": {},
   "outputs": [],
   "source": [
    "# Define the dataset object and configure the Data Loader\n",
    "\n",
    "train_set  = Images_Dataset(df_train, transform_train)\n",
    "\n",
    "train_loader = DataLoader(dataset=train_set,\n",
    "                          batch_size=train_batch_size,\n",
    "                          # Drops the last mini batch if less than the batch size (could enhance the model accuracy)\n",
    "                          drop_last=True,\n",
    "                          shuffle=True,\n",
    "                          pin_memory=True,\n",
    "                          num_workers=NUM_WORKERS)\n",
    "\n",
    "\n",
    "valid_set  = Images_Dataset(df_val, transform_valid)\n",
    "\n",
    "valid_loader= DataLoader(dataset=valid_set ,\n",
    "                          batch_size=valid_batch_size,\n",
    "                          # Drops the last mini batch if less than the batch size (could enhance the model accuracy)\n",
    "                          drop_last=True,\n",
    "                          shuffle=False,\n",
    "                          pin_memory=True,\n",
    "                          num_workers=NUM_WORKERS)"
   ]
  },
  {
   "cell_type": "code",
   "execution_count": 17,
   "metadata": {},
   "outputs": [
    {
     "name": "stdout",
     "output_type": "stream",
     "text": [
      "Total number of training batches: 375\n",
      "Total number of validation batches: 89\n"
     ]
    }
   ],
   "source": [
    "print(\"Total number of training batches:\", len(train_loader))\n",
    "print(\"Total number of validation batches:\", len(valid_loader))"
   ]
  },
  {
   "cell_type": "code",
   "execution_count": 18,
   "metadata": {},
   "outputs": [
    {
     "name": "stdout",
     "output_type": "stream",
     "text": [
      "Batch of Images Shape: torch.Size([256, 3, 32, 32])\n",
      "Batch of Images Shape: torch.Size([256])\n",
      "tensor([1, 0, 0, 0, 1, 0, 0, 0, 1, 0, 1, 0, 0, 1, 1, 0, 0, 0, 0, 0, 0, 1, 0, 1,\n",
      "        1, 0, 1, 1, 1, 0, 0, 0, 1, 0, 1, 1, 1, 1, 1, 0, 1, 0, 0, 1, 0, 0, 0, 0,\n",
      "        0, 0, 0, 0, 0, 0, 0, 1, 0, 0, 1, 1, 1, 1, 1, 1, 0, 1, 1, 1, 0, 0, 0, 0,\n",
      "        0, 0, 1, 1, 0, 1, 1, 1, 0, 0, 0, 1, 0, 0, 0, 1, 0, 0, 1, 1, 1, 0, 1, 0,\n",
      "        1, 0, 0, 0, 1, 1, 0, 0, 0, 1, 0, 0, 1, 1, 1, 1, 1, 1, 0, 0, 1, 0, 0, 0,\n",
      "        0, 1, 0, 1, 0, 1, 0, 1, 0, 0, 0, 0, 1, 0, 0, 1, 0, 1, 1, 1, 1, 1, 0, 0,\n",
      "        1, 0, 1, 1, 0, 1, 0, 0, 1, 1, 0, 1, 1, 0, 1, 0, 1, 0, 1, 1, 0, 0, 0, 0,\n",
      "        0, 1, 1, 0, 1, 1, 0, 0, 1, 1, 0, 0, 1, 0, 0, 1, 0, 1, 1, 1, 0, 1, 0, 1,\n",
      "        0, 0, 0, 1, 1, 0, 0, 1, 1, 1, 1, 0, 0, 1, 0, 0, 0, 1, 0, 1, 1, 1, 0, 1,\n",
      "        1, 1, 0, 1, 0, 1, 0, 0, 0, 1, 0, 0, 1, 0, 0, 0, 1, 1, 0, 1, 1, 0, 1, 0,\n",
      "        1, 0, 1, 1, 1, 0, 0, 0, 1, 0, 1, 0, 1, 0, 1, 1])\n"
     ]
    }
   ],
   "source": [
    "sample_img_batch,label = next(iter(train_loader))\n",
    "\n",
    "print(f\"Batch of Images Shape: {sample_img_batch.size()}\")\n",
    "print(f\"Batch of Images Shape: {label.size()}\")\n",
    "print(label)"
   ]
  },
  {
   "cell_type": "code",
   "execution_count": 19,
   "metadata": {},
   "outputs": [],
   "source": [
    "def img_plot(img, slice_width):\n",
    "    sliced_img = rearrange(img, 'c (row h) (col w) -> row col c h w', h=slice_width, w=slice_width)\n",
    "    print(\"Sliced Image Shape: \", sliced_img.shape)\n",
    "\n",
    "    fig = plt.figure(layout=\"constrained\", figsize=(12, 4))\n",
    "    subfigs = fig.subfigures(3, 1, height_ratios=[1.2, 1.5, 1.], hspace=0.05, squeeze='True')\n",
    "\n",
    "    axs0 = subfigs[0].subplots(1, 1)\n",
    "    img_a = rearrange(img, \"c h w -> h w c\").numpy()\n",
    "    \n",
    "    axs0.imshow(img_a)\n",
    "    axs0.set_xticks([])\n",
    "    axs0.set_yticks([])\n",
    "\n",
    "    grid1 = ImageGrid(subfigs[1], 111, nrows_ncols=(sliced_img.size(0), sliced_img.size(1)), axes_pad=0.05)\n",
    "\n",
    "    for i, ax in enumerate(grid1):\n",
    "        i_b4 = str(np.base_repr(i, sliced_img.size(0))).zfill(2)\n",
    "        row = int(i_b4[0])\n",
    "        column = int(i_b4[1])\n",
    "        patch = rearrange(sliced_img[row][column], \"c h w -> h w c\").numpy()\n",
    "        \n",
    "        ax.imshow(patch)\n",
    "        ax.set_xticks([])\n",
    "        ax.set_yticks([])\n",
    "\n",
    "    grid2 = ImageGrid(subfigs[2], 111, nrows_ncols=(1, sliced_img.size(0)*sliced_img.size(1)), axes_pad=0.03)\n",
    "\n",
    "    for i, ax in enumerate(grid2):\n",
    "        i_b4 = str(np.base_repr(i, sliced_img.size(0))).zfill(2)\n",
    "        row = int(i_b4[0])\n",
    "        column = int(i_b4[1])\n",
    "        patch = rearrange(sliced_img[row][column], \"c h w -> h w c\").numpy()\n",
    "        \n",
    "        ax.imshow(patch)\n",
    "        ax.set_xticks([])\n",
    "        ax.set_yticks([])"
   ]
  },
  {
   "cell_type": "code",
   "execution_count": 20,
   "metadata": {},
   "outputs": [
    {
     "name": "stdout",
     "output_type": "stream",
     "text": [
      "Sliced Image Shape:  torch.Size([4, 4, 3, 8, 8])\n"
     ]
    },
    {
     "data": {
      "image/png": "[encoded data removed]",
      "text/plain": [
       "<Figure size 1200x400 with 65 Axes>"
      ]
     },
     "metadata": {},
     "output_type": "display_data"
    }
   ],
   "source": [
    "sample_img = read_image(df_all.iloc[0, 0])\n",
    "img_plot(sample_img, patch_size)"
   ]
  },
  {
   "cell_type": "code",
   "execution_count": 21,
   "metadata": {},
   "outputs": [],
   "source": [
    "if model_type == \"vit\":\n",
    "    model = vit(\n",
    "        image_size=img_size,\n",
    "        patch_size=patch_size,\n",
    "        num_classes=num_classes,\n",
    "        dim=embed_size,\n",
    "        depth=encoder_depth,\n",
    "        heads=attention_heads,\n",
    "        mlp_dim=mlp_dim,\n",
    "        emb_dropout=0.1,\n",
    "        dropout=0.1\n",
    "    )\n",
    "elif model_type == \"swin\":\n",
    "    model = swin_t(window_size=patch_size,\n",
    "                   num_classes=num_classes,\n",
    "                   downscaling_factors=downscaling_factor\n",
    "                   )\n",
    "else:\n",
    "    raise ValueError(\n",
    "        \"You must set the model_type variable to any of: vit , swin\")"
   ]
  },
  {
   "cell_type": "code",
   "execution_count": 22,
   "metadata": {},
   "outputs": [
    {
     "name": "stdout",
     "output_type": "stream",
     "text": [
      "Input Shape:  torch.Size([256, 3, 32, 32])\n",
      "Output Shape:  torch.Size([256, 2])\n"
     ]
    },
    {
     "data": {
      "text/plain": [
       "==================================================================================================================================\n",
       "Layer (type (var_name))                            Input Shape          Output Shape         Param #              Trainable\n",
       "==================================================================================================================================\n",
       "vit (vit)                                          [256, 3, 32, 32]     [256, 2]             3,456                True\n",
       "├─Sequential (to_patch_embedding)                  [256, 3, 32, 32]     [256, 16, 192]       --                   True\n",
       "│    └─Rearrange (0)                               [256, 3, 32, 32]     [256, 16, 192]       --                   --\n",
       "│    └─Linear (1)                                  [256, 16, 192]       [256, 16, 192]       37,056               True\n",
       "├─Dropout (dropout)                                [256, 17, 192]       [256, 17, 192]       --                   --\n",
       "├─Transformer (transformer)                        [256, 17, 192]       [256, 17, 192]       --                   True\n",
       "│    └─ModuleList (layers)                         --                   --                   --                   True\n",
       "│    │    └─ModuleList (0)                         --                   --                   445,056              True\n",
       "│    │    └─ModuleList (1)                         --                   --                   445,056              True\n",
       "│    │    └─ModuleList (2)                         --                   --                   445,056              True\n",
       "│    │    └─ModuleList (3)                         --                   --                   445,056              True\n",
       "│    │    └─ModuleList (4)                         --                   --                   445,056              True\n",
       "│    │    └─ModuleList (5)                         --                   --                   445,056              True\n",
       "│    │    └─ModuleList (6)                         --                   --                   445,056              True\n",
       "│    │    └─ModuleList (7)                         --                   --                   445,056              True\n",
       "│    │    └─ModuleList (8)                         --                   --                   445,056              True\n",
       "├─Identity (to_latent)                             [256, 192]           [256, 192]           --                   --\n",
       "├─Sequential (mlp_head)                            [256, 192]           [256, 2]             --                   True\n",
       "│    └─LayerNorm (0)                               [256, 192]           [256, 192]           384                  True\n",
       "│    └─Linear (1)                                  [256, 192]           [256, 2]             386                  True\n",
       "==================================================================================================================================\n",
       "Total params: 4,046,786\n",
       "Trainable params: 4,046,786\n",
       "Non-trainable params: 0\n",
       "Total mult-adds (Units.GIGABYTES): 1.04\n",
       "==================================================================================================================================\n",
       "Input size (MB): 3.15\n",
       "Forward/backward pass size (MB): 728.63\n",
       "Params size (MB): 16.17\n",
       "Estimated Total Size (MB): 747.95\n",
       "=================================================================================================================================="
      ]
     },
     "execution_count": 22,
     "metadata": {},
     "output_type": "execute_result"
    }
   ],
   "source": [
    "output = model(sample_img_batch)\n",
    "\n",
    "print(\"Input Shape: \", sample_img_batch.size())\n",
    "print(\"Output Shape: \", output.size())\n",
    "\n",
    "summary(model=model,\n",
    "        input_size=sample_img_batch.size(),\n",
    "        col_names=[\"input_size\", \"output_size\", \"num_params\", \"trainable\"],\n",
    "        col_width=20,\n",
    "        row_settings=[\"var_names\"])"
   ]
  },
  {
   "cell_type": "code",
   "execution_count": 23,
   "metadata": {},
   "outputs": [],
   "source": [
    "criterion = loss_algo()\n",
    "optimizer = optimize_algo(model.parameters(), **optimize_args)\n",
    "scheduler = schedule_algo(optimizer, **schedule_args)"
   ]
  },
  {
   "cell_type": "code",
   "execution_count": 24,
   "metadata": {},
   "outputs": [],
   "source": [
    "if start_from_model:\n",
    "    model.load_state_dict(checkpoint['model'])\n",
    "    optimizer.load_state_dict(checkpoint['optimizer'])\n",
    "\n",
    "    best_acc = checkpoint['best_acc']\n",
    "    tr_loss_lst = checkpoint['tr_loss_lst']\n",
    "    tr_acc_lst = checkpoint['tr_acc_lst']\n",
    "    val_loss_lst = checkpoint['val_loss_lst']\n",
    "    val_acc_lst = checkpoint['val_acc_lst']\n",
    "    optimizer_lst = checkpoint['optimizer_lst']\n",
    "    running_lr_lst = checkpoint['running_lr_lst']\n",
    "    \n",
    "else:\n",
    "    best_acc = 0\n",
    "\n",
    "    tr_loss_lst = []\n",
    "    tr_acc_lst = []\n",
    "    val_loss_lst = []\n",
    "    val_acc_lst = []\n",
    "    optimizer_lst=[]\n",
    "    running_lr_lst = []"
   ]
  },
  {
   "cell_type": "code",
   "execution_count": 25,
   "metadata": {},
   "outputs": [
    {
     "name": "stdout",
     "output_type": "stream",
     "text": [
      "\n",
      " epoch: 1/400\n"
     ]
    },
    {
     "name": "stderr",
     "output_type": "stream",
     "text": [
      "Train--Epoch [1/400]: 100%|██████████| 375/375 [00:18<00:00, 20.61it/s, acc=52.4, loss=0.696]\n",
      "Valid--Epoch [1/400]: 100%|██████████| 89/89 [00:01<00:00, 56.61it/s, acc=50.2, loss=0.857]\n"
     ]
    },
    {
     "name": "stdout",
     "output_type": "stream",
     "text": [
      "Saving..\n",
      "\n",
      " epoch: 2/400\n"
     ]
    },
    {
     "name": "stderr",
     "output_type": "stream",
     "text": [
      "Train--Epoch [2/400]: 100%|██████████| 375/375 [00:17<00:00, 21.25it/s, acc=53.9, loss=0.689]\n",
      "Valid--Epoch [2/400]: 100%|██████████| 89/89 [00:01<00:00, 55.39it/s, acc=50.1, loss=0.94] "
     ]
    },
    {
     "name": "stdout",
     "output_type": "stream",
     "text": [
      "\n",
      " epoch: 3/400\n"
     ]
    },
    {
     "name": "stderr",
     "output_type": "stream",
     "text": [
      "\n",
      "Train--Epoch [3/400]: 100%|██████████| 375/375 [00:17<00:00, 21.19it/s, acc=54.4, loss=0.686]\n",
      "Valid--Epoch [3/400]: 100%|██████████| 89/89 [00:01<00:00, 53.85it/s, acc=50.7, loss=0.941]\n"
     ]
    },
    {
     "name": "stdout",
     "output_type": "stream",
     "text": [
      "Saving..\n",
      "\n",
      " epoch: 4/400\n"
     ]
    },
    {
     "name": "stderr",
     "output_type": "stream",
     "text": [
      "Train--Epoch [4/400]: 100%|██████████| 375/375 [00:18<00:00, 20.57it/s, acc=54.7, loss=0.685]\n",
      "Valid--Epoch [4/400]: 100%|██████████| 89/89 [00:01<00:00, 52.75it/s, acc=50.8, loss=0.964]\n"
     ]
    },
    {
     "name": "stdout",
     "output_type": "stream",
     "text": [
      "Saving..\n",
      "\n",
      " epoch: 5/400\n"
     ]
    },
    {
     "name": "stderr",
     "output_type": "stream",
     "text": [
      "Train--Epoch [5/400]: 100%|██████████| 375/375 [00:18<00:00, 20.50it/s, acc=54.8, loss=0.685]\n",
      "Valid--Epoch [5/400]: 100%|██████████| 89/89 [00:01<00:00, 53.85it/s, acc=51, loss=0.96]   \n"
     ]
    },
    {
     "name": "stdout",
     "output_type": "stream",
     "text": [
      "Saving..\n",
      "\n",
      " epoch: 6/400\n"
     ]
    },
    {
     "name": "stderr",
     "output_type": "stream",
     "text": [
      "Train--Epoch [6/400]: 100%|██████████| 375/375 [00:18<00:00, 20.70it/s, acc=55.1, loss=0.684]\n",
      "Valid--Epoch [6/400]: 100%|██████████| 89/89 [00:01<00:00, 53.64it/s, acc=50.9, loss=0.991]"
     ]
    },
    {
     "name": "stdout",
     "output_type": "stream",
     "text": [
      "\n",
      " epoch: 7/400\n"
     ]
    },
    {
     "name": "stderr",
     "output_type": "stream",
     "text": [
      "\n",
      "Train--Epoch [7/400]: 100%|██████████| 375/375 [00:17<00:00, 20.87it/s, acc=55.2, loss=0.683]\n",
      "Valid--Epoch [7/400]: 100%|██████████| 89/89 [00:01<00:00, 52.53it/s, acc=51.1, loss=0.994]\n"
     ]
    },
    {
     "name": "stdout",
     "output_type": "stream",
     "text": [
      "Saving..\n",
      "\n",
      " epoch: 8/400\n"
     ]
    },
    {
     "name": "stderr",
     "output_type": "stream",
     "text": [
      "Train--Epoch [8/400]: 100%|██████████| 375/375 [00:18<00:00, 20.76it/s, acc=55, loss=0.683]  \n",
      "Valid--Epoch [8/400]: 100%|██████████| 89/89 [00:01<00:00, 53.98it/s, acc=51.5, loss=0.976]\n"
     ]
    },
    {
     "name": "stdout",
     "output_type": "stream",
     "text": [
      "Saving..\n",
      "\n",
      " epoch: 9/400\n"
     ]
    },
    {
     "name": "stderr",
     "output_type": "stream",
     "text": [
      "Train--Epoch [9/400]: 100%|██████████| 375/375 [00:18<00:00, 20.68it/s, acc=55.2, loss=0.682]\n",
      "Valid--Epoch [9/400]: 100%|██████████| 89/89 [00:01<00:00, 52.92it/s, acc=50.8, loss=1.05]\n"
     ]
    },
    {
     "name": "stdout",
     "output_type": "stream",
     "text": [
      "\n",
      " epoch: 10/400\n"
     ]
    },
    {
     "name": "stderr",
     "output_type": "stream",
     "text": [
      "Train--Epoch [10/400]: 100%|██████████| 375/375 [00:18<00:00, 20.53it/s, acc=55.3, loss=0.682]\n",
      "Valid--Epoch [10/400]: 100%|██████████| 89/89 [00:01<00:00, 52.81it/s, acc=52, loss=0.986]  \n"
     ]
    },
    {
     "name": "stdout",
     "output_type": "stream",
     "text": [
      "Saving..\n",
      "\n",
      " epoch: 11/400\n"
     ]
    },
    {
     "name": "stderr",
     "output_type": "stream",
     "text": [
      "Train--Epoch [11/400]: 100%|██████████| 375/375 [00:18<00:00, 20.67it/s, acc=55.3, loss=0.682]\n",
      "Valid--Epoch [11/400]: 100%|██████████| 89/89 [00:01<00:00, 52.25it/s, acc=51.2, loss=1.05]"
     ]
    },
    {
     "name": "stdout",
     "output_type": "stream",
     "text": [
      "\n",
      " epoch: 12/400\n"
     ]
    },
    {
     "name": "stderr",
     "output_type": "stream",
     "text": [
      "\n",
      "Train--Epoch [12/400]: 100%|██████████| 375/375 [00:18<00:00, 20.57it/s, acc=55.6, loss=0.681]\n",
      "Valid--Epoch [12/400]: 100%|██████████| 89/89 [00:01<00:00, 53.24it/s, acc=50.8, loss=1.1] "
     ]
    },
    {
     "name": "stdout",
     "output_type": "stream",
     "text": [
      "\n",
      " epoch: 13/400\n"
     ]
    },
    {
     "name": "stderr",
     "output_type": "stream",
     "text": [
      "\n",
      "Train--Epoch [13/400]: 100%|██████████| 375/375 [00:18<00:00, 20.66it/s, acc=55.7, loss=0.68] \n",
      "Valid--Epoch [13/400]: 100%|██████████| 89/89 [00:01<00:00, 52.69it/s, acc=51.4, loss=1.07]"
     ]
    },
    {
     "name": "stdout",
     "output_type": "stream",
     "text": [
      "\n",
      " epoch: 14/400\n"
     ]
    },
    {
     "name": "stderr",
     "output_type": "stream",
     "text": [
      "\n",
      "Train--Epoch [14/400]: 100%|██████████| 375/375 [00:18<00:00, 20.68it/s, acc=55.5, loss=0.68] \n",
      "Valid--Epoch [14/400]: 100%|██████████| 89/89 [00:01<00:00, 52.37it/s, acc=51.4, loss=1.08]"
     ]
    },
    {
     "name": "stdout",
     "output_type": "stream",
     "text": [
      "\n",
      " epoch: 15/400\n"
     ]
    },
    {
     "name": "stderr",
     "output_type": "stream",
     "text": [
      "\n",
      "Train--Epoch [15/400]: 100%|██████████| 375/375 [00:18<00:00, 20.23it/s, acc=55.6, loss=0.68] \n",
      "Valid--Epoch [15/400]: 100%|██████████| 89/89 [00:01<00:00, 52.81it/s, acc=51.5, loss=1.09]"
     ]
    },
    {
     "name": "stdout",
     "output_type": "stream",
     "text": [
      "\n",
      " epoch: 16/400\n"
     ]
    },
    {
     "name": "stderr",
     "output_type": "stream",
     "text": [
      "\n",
      "Train--Epoch [16/400]: 100%|██████████| 375/375 [00:18<00:00, 20.49it/s, acc=55.8, loss=0.679]\n",
      "Valid--Epoch [16/400]: 100%|██████████| 89/89 [00:01<00:00, 50.17it/s, acc=51.6, loss=1.1] "
     ]
    },
    {
     "name": "stdout",
     "output_type": "stream",
     "text": [
      "\n",
      " epoch: 17/400\n"
     ]
    },
    {
     "name": "stderr",
     "output_type": "stream",
     "text": [
      "\n",
      "Train--Epoch [17/400]: 100%|██████████| 375/375 [00:18<00:00, 20.22it/s, acc=55.6, loss=0.679]\n",
      "Valid--Epoch [17/400]: 100%|██████████| 89/89 [00:01<00:00, 51.18it/s, acc=51.8, loss=1.1] "
     ]
    },
    {
     "name": "stdout",
     "output_type": "stream",
     "text": [
      "\n",
      " epoch: 18/400\n"
     ]
    },
    {
     "name": "stderr",
     "output_type": "stream",
     "text": [
      "\n",
      "Train--Epoch [18/400]: 100%|██████████| 375/375 [00:18<00:00, 20.03it/s, acc=55.5, loss=0.679]\n",
      "Valid--Epoch [18/400]: 100%|██████████| 89/89 [00:01<00:00, 52.57it/s, acc=52, loss=1.1]   "
     ]
    },
    {
     "name": "stdout",
     "output_type": "stream",
     "text": [
      "\n",
      " epoch: 19/400\n"
     ]
    },
    {
     "name": "stderr",
     "output_type": "stream",
     "text": [
      "\n",
      "Train--Epoch [19/400]: 100%|██████████| 375/375 [00:18<00:00, 20.03it/s, acc=55.3, loss=0.678]\n",
      "Valid--Epoch [19/400]: 100%|██████████| 89/89 [00:01<00:00, 50.69it/s, acc=51.8, loss=1.13]"
     ]
    },
    {
     "name": "stdout",
     "output_type": "stream",
     "text": [
      "\n",
      " epoch: 20/400\n"
     ]
    },
    {
     "name": "stderr",
     "output_type": "stream",
     "text": [
      "\n",
      "Train--Epoch [20/400]: 100%|██████████| 375/375 [00:18<00:00, 20.09it/s, acc=55.6, loss=0.678]\n",
      "Valid--Epoch [20/400]: 100%|██████████| 89/89 [00:01<00:00, 51.14it/s, acc=52, loss=1.13]  \n"
     ]
    },
    {
     "name": "stdout",
     "output_type": "stream",
     "text": [
      "Saving..\n",
      "\n",
      " epoch: 21/400\n"
     ]
    },
    {
     "name": "stderr",
     "output_type": "stream",
     "text": [
      "Train--Epoch [21/400]: 100%|██████████| 375/375 [00:18<00:00, 19.99it/s, acc=55.7, loss=0.677]\n",
      "Valid--Epoch [21/400]: 100%|██████████| 89/89 [00:01<00:00, 50.84it/s, acc=52.6, loss=1.1] \n"
     ]
    },
    {
     "name": "stdout",
     "output_type": "stream",
     "text": [
      "Saving..\n",
      "\n",
      " epoch: 22/400\n"
     ]
    },
    {
     "name": "stderr",
     "output_type": "stream",
     "text": [
      "Train--Epoch [22/400]: 100%|██████████| 375/375 [00:18<00:00, 20.09it/s, acc=55.5, loss=0.677]\n",
      "Valid--Epoch [22/400]: 100%|██████████| 89/89 [00:01<00:00, 48.99it/s, acc=52.3, loss=1.15]"
     ]
    },
    {
     "name": "stdout",
     "output_type": "stream",
     "text": [
      "\n",
      " epoch: 23/400\n"
     ]
    },
    {
     "name": "stderr",
     "output_type": "stream",
     "text": [
      "\n",
      "Train--Epoch [23/400]: 100%|██████████| 375/375 [00:18<00:00, 20.11it/s, acc=55.3, loss=0.677]\n",
      "Valid--Epoch [23/400]: 100%|██████████| 89/89 [00:01<00:00, 50.15it/s, acc=52.4, loss=1.16]\n"
     ]
    },
    {
     "name": "stdout",
     "output_type": "stream",
     "text": [
      "\n",
      " epoch: 24/400\n"
     ]
    },
    {
     "name": "stderr",
     "output_type": "stream",
     "text": [
      "Train--Epoch [24/400]: 100%|██████████| 375/375 [00:18<00:00, 19.92it/s, acc=55.5, loss=0.676]\n",
      "Valid--Epoch [24/400]: 100%|██████████| 89/89 [00:01<00:00, 51.16it/s, acc=52.7, loss=1.16]\n"
     ]
    },
    {
     "name": "stdout",
     "output_type": "stream",
     "text": [
      "Saving..\n",
      "\n",
      " epoch: 25/400\n"
     ]
    },
    {
     "name": "stderr",
     "output_type": "stream",
     "text": [
      "Train--Epoch [25/400]: 100%|██████████| 375/375 [00:18<00:00, 19.98it/s, acc=55.8, loss=0.675]\n",
      "Valid--Epoch [25/400]: 100%|██████████| 89/89 [00:01<00:00, 50.29it/s, acc=52.8, loss=1.17]\n"
     ]
    },
    {
     "name": "stdout",
     "output_type": "stream",
     "text": [
      "Saving..\n",
      "\n",
      " epoch: 26/400\n"
     ]
    },
    {
     "name": "stderr",
     "output_type": "stream",
     "text": [
      "Train--Epoch [26/400]: 100%|██████████| 375/375 [00:18<00:00, 19.96it/s, acc=55.8, loss=0.675]\n",
      "Valid--Epoch [26/400]: 100%|██████████| 89/89 [00:01<00:00, 49.82it/s, acc=52.8, loss=1.18]\n"
     ]
    },
    {
     "name": "stdout",
     "output_type": "stream",
     "text": [
      "Saving..\n",
      "\n",
      " epoch: 27/400\n"
     ]
    },
    {
     "name": "stderr",
     "output_type": "stream",
     "text": [
      "Train--Epoch [27/400]: 100%|██████████| 375/375 [00:18<00:00, 19.93it/s, acc=55.6, loss=0.674]\n",
      "Valid--Epoch [27/400]: 100%|██████████| 89/89 [00:01<00:00, 51.35it/s, acc=52.8, loss=1.19]\n"
     ]
    },
    {
     "name": "stdout",
     "output_type": "stream",
     "text": [
      "Saving..\n",
      "\n",
      " epoch: 28/400\n"
     ]
    },
    {
     "name": "stderr",
     "output_type": "stream",
     "text": [
      "Train--Epoch [28/400]: 100%|██████████| 375/375 [00:18<00:00, 20.02it/s, acc=55.6, loss=0.674]\n",
      "Valid--Epoch [28/400]: 100%|██████████| 89/89 [00:01<00:00, 48.88it/s, acc=52.8, loss=1.21]"
     ]
    },
    {
     "name": "stdout",
     "output_type": "stream",
     "text": [
      "\n",
      " epoch: 29/400\n"
     ]
    },
    {
     "name": "stderr",
     "output_type": "stream",
     "text": [
      "\n",
      "Train--Epoch [29/400]: 100%|██████████| 375/375 [00:18<00:00, 20.06it/s, acc=55.8, loss=0.673]\n",
      "Valid--Epoch [29/400]: 100%|██████████| 89/89 [00:01<00:00, 50.26it/s, acc=52.8, loss=1.27]"
     ]
    },
    {
     "name": "stdout",
     "output_type": "stream",
     "text": [
      "\n",
      " epoch: 30/400\n"
     ]
    },
    {
     "name": "stderr",
     "output_type": "stream",
     "text": [
      "\n",
      "Train--Epoch [30/400]: 100%|██████████| 375/375 [00:18<00:00, 19.91it/s, acc=55.9, loss=0.673]\n",
      "Valid--Epoch [30/400]: 100%|██████████| 89/89 [00:01<00:00, 50.56it/s, acc=52.8, loss=1.23]"
     ]
    },
    {
     "name": "stdout",
     "output_type": "stream",
     "text": [
      "\n",
      " epoch: 31/400\n"
     ]
    },
    {
     "name": "stderr",
     "output_type": "stream",
     "text": [
      "\n",
      "Train--Epoch [31/400]: 100%|██████████| 375/375 [00:19<00:00, 19.72it/s, acc=55.8, loss=0.673]\n",
      "Valid--Epoch [31/400]: 100%|██████████| 89/89 [00:01<00:00, 48.82it/s, acc=52.8, loss=1.26]\n"
     ]
    },
    {
     "name": "stdout",
     "output_type": "stream",
     "text": [
      "\n",
      " epoch: 32/400\n"
     ]
    },
    {
     "name": "stderr",
     "output_type": "stream",
     "text": [
      "Train--Epoch [32/400]: 100%|██████████| 375/375 [00:18<00:00, 20.00it/s, acc=55.9, loss=0.672]\n",
      "Valid--Epoch [32/400]: 100%|██████████| 89/89 [00:01<00:00, 49.64it/s, acc=52.8, loss=1.28]"
     ]
    },
    {
     "name": "stdout",
     "output_type": "stream",
     "text": [
      "\n",
      " epoch: 33/400\n"
     ]
    },
    {
     "name": "stderr",
     "output_type": "stream",
     "text": [
      "\n",
      "Train--Epoch [33/400]: 100%|██████████| 375/375 [00:18<00:00, 19.82it/s, acc=55.8, loss=0.672]\n",
      "Valid--Epoch [33/400]: 100%|██████████| 89/89 [00:01<00:00, 49.75it/s, acc=52.8, loss=1.32]"
     ]
    },
    {
     "name": "stdout",
     "output_type": "stream",
     "text": [
      "\n",
      " epoch: 34/400\n"
     ]
    },
    {
     "name": "stderr",
     "output_type": "stream",
     "text": [
      "\n",
      "Train--Epoch [34/400]: 100%|██████████| 375/375 [00:18<00:00, 20.01it/s, acc=55.8, loss=0.671]\n",
      "Valid--Epoch [34/400]: 100%|██████████| 89/89 [00:01<00:00, 48.65it/s, acc=52.8, loss=1.35]"
     ]
    },
    {
     "name": "stdout",
     "output_type": "stream",
     "text": [
      "\n",
      " epoch: 35/400\n"
     ]
    },
    {
     "name": "stderr",
     "output_type": "stream",
     "text": [
      "\n",
      "Train--Epoch [35/400]: 100%|██████████| 375/375 [00:18<00:00, 20.06it/s, acc=55.8, loss=0.671]\n",
      "Valid--Epoch [35/400]: 100%|██████████| 89/89 [00:01<00:00, 49.40it/s, acc=52.7, loss=1.38]"
     ]
    },
    {
     "name": "stdout",
     "output_type": "stream",
     "text": [
      "\n",
      " epoch: 36/400\n"
     ]
    },
    {
     "name": "stderr",
     "output_type": "stream",
     "text": [
      "\n",
      "Train--Epoch [36/400]: 100%|██████████| 375/375 [00:18<00:00, 19.81it/s, acc=55.8, loss=0.671]\n",
      "Valid--Epoch [36/400]: 100%|██████████| 89/89 [00:01<00:00, 49.81it/s, acc=52.6, loss=1.43]"
     ]
    },
    {
     "name": "stdout",
     "output_type": "stream",
     "text": [
      "\n",
      " epoch: 37/400\n"
     ]
    },
    {
     "name": "stderr",
     "output_type": "stream",
     "text": [
      "\n",
      "Train--Epoch [37/400]: 100%|██████████| 375/375 [00:18<00:00, 19.99it/s, acc=55.9, loss=0.67] \n",
      "Valid--Epoch [37/400]: 100%|██████████| 89/89 [00:01<00:00, 47.44it/s, acc=52.7, loss=1.4] "
     ]
    },
    {
     "name": "stdout",
     "output_type": "stream",
     "text": [
      "\n",
      " epoch: 38/400\n"
     ]
    },
    {
     "name": "stderr",
     "output_type": "stream",
     "text": [
      "\n",
      "Train--Epoch [38/400]: 100%|██████████| 375/375 [00:18<00:00, 20.00it/s, acc=55.9, loss=0.67] \n",
      "Valid--Epoch [38/400]: 100%|██████████| 89/89 [00:01<00:00, 48.75it/s, acc=52.5, loss=1.41]"
     ]
    },
    {
     "name": "stdout",
     "output_type": "stream",
     "text": [
      "\n",
      " epoch: 39/400\n"
     ]
    },
    {
     "name": "stderr",
     "output_type": "stream",
     "text": [
      "\n",
      "Train--Epoch [39/400]: 100%|██████████| 375/375 [00:18<00:00, 19.87it/s, acc=55.9, loss=0.67] \n",
      "Valid--Epoch [39/400]: 100%|██████████| 89/89 [00:01<00:00, 49.84it/s, acc=52.5, loss=1.42]"
     ]
    },
    {
     "name": "stdout",
     "output_type": "stream",
     "text": [
      "\n",
      " epoch: 40/400\n"
     ]
    },
    {
     "name": "stderr",
     "output_type": "stream",
     "text": [
      "\n",
      "Train--Epoch [40/400]: 100%|██████████| 375/375 [00:18<00:00, 19.88it/s, acc=56, loss=0.669]  \n",
      "Valid--Epoch [40/400]: 100%|██████████| 89/89 [00:01<00:00, 49.85it/s, acc=52.6, loss=1.48]"
     ]
    },
    {
     "name": "stdout",
     "output_type": "stream",
     "text": [
      "\n",
      " epoch: 41/400\n"
     ]
    },
    {
     "name": "stderr",
     "output_type": "stream",
     "text": [
      "\n",
      "Train--Epoch [41/400]: 100%|██████████| 375/375 [00:18<00:00, 19.90it/s, acc=55.8, loss=0.669]\n",
      "Valid--Epoch [41/400]: 100%|██████████| 89/89 [00:01<00:00, 48.04it/s, acc=52.6, loss=1.46]"
     ]
    },
    {
     "name": "stdout",
     "output_type": "stream",
     "text": [
      "\n",
      " epoch: 42/400\n"
     ]
    },
    {
     "name": "stderr",
     "output_type": "stream",
     "text": [
      "\n",
      "Train--Epoch [42/400]: 100%|██████████| 375/375 [00:18<00:00, 20.05it/s, acc=56.1, loss=0.668]\n",
      "Valid--Epoch [42/400]: 100%|██████████| 89/89 [00:01<00:00, 50.06it/s, acc=52.6, loss=1.47]\n"
     ]
    },
    {
     "name": "stdout",
     "output_type": "stream",
     "text": [
      "\n",
      " epoch: 43/400\n"
     ]
    },
    {
     "name": "stderr",
     "output_type": "stream",
     "text": [
      "Train--Epoch [43/400]: 100%|██████████| 375/375 [00:18<00:00, 19.83it/s, acc=56.1, loss=0.668]\n",
      "Valid--Epoch [43/400]: 100%|██████████| 89/89 [00:01<00:00, 49.87it/s, acc=52.6, loss=1.49]"
     ]
    },
    {
     "name": "stdout",
     "output_type": "stream",
     "text": [
      "\n",
      " epoch: 44/400\n"
     ]
    },
    {
     "name": "stderr",
     "output_type": "stream",
     "text": [
      "\n",
      "Train--Epoch [44/400]: 100%|██████████| 375/375 [00:18<00:00, 20.02it/s, acc=56.2, loss=0.667]\n",
      "Valid--Epoch [44/400]: 100%|██████████| 89/89 [00:01<00:00, 47.07it/s, acc=52.6, loss=1.5] "
     ]
    },
    {
     "name": "stdout",
     "output_type": "stream",
     "text": [
      "\n",
      " epoch: 45/400\n"
     ]
    },
    {
     "name": "stderr",
     "output_type": "stream",
     "text": [
      "\n",
      "Train--Epoch [45/400]: 100%|██████████| 375/375 [00:18<00:00, 19.99it/s, acc=56.2, loss=0.666]\n",
      "Valid--Epoch [45/400]: 100%|██████████| 89/89 [00:01<00:00, 49.88it/s, acc=52.4, loss=1.55]"
     ]
    },
    {
     "name": "stdout",
     "output_type": "stream",
     "text": [
      "\n",
      " epoch: 46/400\n"
     ]
    },
    {
     "name": "stderr",
     "output_type": "stream",
     "text": [
      "\n",
      "Train--Epoch [46/400]: 100%|██████████| 375/375 [00:18<00:00, 19.80it/s, acc=56.1, loss=0.666]\n",
      "Valid--Epoch [46/400]: 100%|██████████| 89/89 [00:01<00:00, 50.11it/s, acc=52.4, loss=1.51]\n"
     ]
    },
    {
     "name": "stdout",
     "output_type": "stream",
     "text": [
      "\n",
      " epoch: 47/400\n"
     ]
    },
    {
     "name": "stderr",
     "output_type": "stream",
     "text": [
      "Train--Epoch [47/400]: 100%|██████████| 375/375 [00:18<00:00, 19.97it/s, acc=56, loss=0.666]  \n",
      "Valid--Epoch [47/400]: 100%|██████████| 89/89 [00:01<00:00, 49.26it/s, acc=52.4, loss=1.53]"
     ]
    },
    {
     "name": "stdout",
     "output_type": "stream",
     "text": [
      "\n",
      " epoch: 48/400\n"
     ]
    },
    {
     "name": "stderr",
     "output_type": "stream",
     "text": [
      "\n",
      "Train--Epoch [48/400]: 100%|██████████| 375/375 [00:18<00:00, 19.97it/s, acc=56, loss=0.666]  \n",
      "Valid--Epoch [48/400]: 100%|██████████| 89/89 [00:01<00:00, 49.86it/s, acc=52.4, loss=1.49]\n"
     ]
    },
    {
     "name": "stdout",
     "output_type": "stream",
     "text": [
      "\n",
      " epoch: 49/400\n"
     ]
    },
    {
     "name": "stderr",
     "output_type": "stream",
     "text": [
      "Train--Epoch [49/400]: 100%|██████████| 375/375 [00:18<00:00, 19.79it/s, acc=56.5, loss=0.664]\n",
      "Valid--Epoch [49/400]: 100%|██████████| 89/89 [00:01<00:00, 50.15it/s, acc=52.4, loss=1.5] "
     ]
    },
    {
     "name": "stdout",
     "output_type": "stream",
     "text": [
      "\n",
      " epoch: 50/400\n"
     ]
    },
    {
     "name": "stderr",
     "output_type": "stream",
     "text": [
      "\n",
      "Train--Epoch [50/400]: 100%|██████████| 375/375 [00:18<00:00, 20.03it/s, acc=56.1, loss=0.665]\n",
      "Valid--Epoch [50/400]: 100%|██████████| 89/89 [00:01<00:00, 48.91it/s, acc=52.4, loss=1.5] \n"
     ]
    },
    {
     "name": "stdout",
     "output_type": "stream",
     "text": [
      "\n",
      " epoch: 51/400\n"
     ]
    },
    {
     "name": "stderr",
     "output_type": "stream",
     "text": [
      "Train--Epoch [51/400]: 100%|██████████| 375/375 [00:18<00:00, 20.04it/s, acc=56.2, loss=0.664]\n",
      "Valid--Epoch [51/400]: 100%|██████████| 89/89 [00:01<00:00, 46.76it/s, acc=52.4, loss=1.53]"
     ]
    },
    {
     "name": "stdout",
     "output_type": "stream",
     "text": [
      "\n",
      " epoch: 52/400\n"
     ]
    },
    {
     "name": "stderr",
     "output_type": "stream",
     "text": [
      "\n",
      "Train--Epoch [52/400]: 100%|██████████| 375/375 [00:18<00:00, 20.03it/s, acc=56.2, loss=0.664]\n",
      "Valid--Epoch [52/400]: 100%|██████████| 89/89 [00:01<00:00, 49.39it/s, acc=52.4, loss=1.51]"
     ]
    },
    {
     "name": "stdout",
     "output_type": "stream",
     "text": [
      "\n",
      " epoch: 53/400\n"
     ]
    },
    {
     "name": "stderr",
     "output_type": "stream",
     "text": [
      "\n",
      "Train--Epoch [53/400]: 100%|██████████| 375/375 [00:18<00:00, 19.89it/s, acc=56.3, loss=0.663]\n",
      "Valid--Epoch [53/400]: 100%|██████████| 89/89 [00:01<00:00, 49.64it/s, acc=52.7, loss=1.48]"
     ]
    },
    {
     "name": "stdout",
     "output_type": "stream",
     "text": [
      "\n",
      " epoch: 54/400\n"
     ]
    },
    {
     "name": "stderr",
     "output_type": "stream",
     "text": [
      "\n",
      "Train--Epoch [54/400]: 100%|██████████| 375/375 [00:18<00:00, 19.96it/s, acc=56.8, loss=0.662]\n",
      "Valid--Epoch [54/400]: 100%|██████████| 89/89 [00:01<00:00, 48.82it/s, acc=52.6, loss=1.48]\n"
     ]
    },
    {
     "name": "stdout",
     "output_type": "stream",
     "text": [
      "\n",
      " epoch: 55/400\n"
     ]
    },
    {
     "name": "stderr",
     "output_type": "stream",
     "text": [
      "Train--Epoch [55/400]: 100%|██████████| 375/375 [00:18<00:00, 19.93it/s, acc=56.6, loss=0.662]\n",
      "Valid--Epoch [55/400]: 100%|██████████| 89/89 [00:01<00:00, 49.92it/s, acc=53, loss=1.42]  \n"
     ]
    },
    {
     "name": "stdout",
     "output_type": "stream",
     "text": [
      "Saving..\n",
      "\n",
      " epoch: 56/400\n"
     ]
    },
    {
     "name": "stderr",
     "output_type": "stream",
     "text": [
      "Train--Epoch [56/400]: 100%|██████████| 375/375 [00:18<00:00, 19.85it/s, acc=56.7, loss=0.66] \n",
      "Valid--Epoch [56/400]: 100%|██████████| 89/89 [00:01<00:00, 49.68it/s, acc=52.8, loss=1.43]\n"
     ]
    },
    {
     "name": "stdout",
     "output_type": "stream",
     "text": [
      "\n",
      " epoch: 57/400\n"
     ]
    },
    {
     "name": "stderr",
     "output_type": "stream",
     "text": [
      "Train--Epoch [57/400]: 100%|██████████| 375/375 [00:18<00:00, 20.03it/s, acc=57, loss=0.66]   \n",
      "Valid--Epoch [57/400]: 100%|██████████| 89/89 [00:01<00:00, 48.35it/s, acc=53.3, loss=1.36]\n"
     ]
    },
    {
     "name": "stdout",
     "output_type": "stream",
     "text": [
      "Saving..\n",
      "\n",
      " epoch: 58/400\n"
     ]
    },
    {
     "name": "stderr",
     "output_type": "stream",
     "text": [
      "Train--Epoch [58/400]: 100%|██████████| 375/375 [00:18<00:00, 20.02it/s, acc=57.1, loss=0.659]\n",
      "Valid--Epoch [58/400]: 100%|██████████| 89/89 [00:01<00:00, 49.93it/s, acc=53.6, loss=1.32]\n"
     ]
    },
    {
     "name": "stdout",
     "output_type": "stream",
     "text": [
      "Saving..\n",
      "\n",
      " epoch: 59/400\n"
     ]
    },
    {
     "name": "stderr",
     "output_type": "stream",
     "text": [
      "Train--Epoch [59/400]: 100%|██████████| 375/375 [00:18<00:00, 19.89it/s, acc=57.5, loss=0.657]\n",
      "Valid--Epoch [59/400]: 100%|██████████| 89/89 [00:01<00:00, 49.69it/s, acc=53.8, loss=1.3] \n"
     ]
    },
    {
     "name": "stdout",
     "output_type": "stream",
     "text": [
      "Saving..\n",
      "\n",
      " epoch: 60/400\n"
     ]
    },
    {
     "name": "stderr",
     "output_type": "stream",
     "text": [
      "Train--Epoch [60/400]: 100%|██████████| 375/375 [00:18<00:00, 19.90it/s, acc=57.7, loss=0.656]\n",
      "Valid--Epoch [60/400]: 100%|██████████| 89/89 [00:01<00:00, 49.93it/s, acc=54.2, loss=1.25]\n"
     ]
    },
    {
     "name": "stdout",
     "output_type": "stream",
     "text": [
      "Saving..\n",
      "\n",
      " epoch: 61/400\n"
     ]
    },
    {
     "name": "stderr",
     "output_type": "stream",
     "text": [
      "Train--Epoch [61/400]: 100%|██████████| 375/375 [00:18<00:00, 19.94it/s, acc=58.1, loss=0.655]\n",
      "Valid--Epoch [61/400]: 100%|██████████| 89/89 [00:01<00:00, 48.66it/s, acc=54.5, loss=1.25]\n"
     ]
    },
    {
     "name": "stdout",
     "output_type": "stream",
     "text": [
      "Saving..\n",
      "\n",
      " epoch: 62/400\n"
     ]
    },
    {
     "name": "stderr",
     "output_type": "stream",
     "text": [
      "Train--Epoch [62/400]: 100%|██████████| 375/375 [00:18<00:00, 19.88it/s, acc=58.5, loss=0.653]\n",
      "Valid--Epoch [62/400]: 100%|██████████| 89/89 [00:01<00:00, 50.04it/s, acc=55.2, loss=1.22]\n"
     ]
    },
    {
     "name": "stdout",
     "output_type": "stream",
     "text": [
      "Saving..\n",
      "\n",
      " epoch: 63/400\n"
     ]
    },
    {
     "name": "stderr",
     "output_type": "stream",
     "text": [
      "Train--Epoch [63/400]: 100%|██████████| 375/375 [00:18<00:00, 19.90it/s, acc=59, loss=0.651]  \n",
      "Valid--Epoch [63/400]: 100%|██████████| 89/89 [00:01<00:00, 48.04it/s, acc=55.6, loss=1.23]\n"
     ]
    },
    {
     "name": "stdout",
     "output_type": "stream",
     "text": [
      "Saving..\n",
      "\n",
      " epoch: 64/400\n"
     ]
    },
    {
     "name": "stderr",
     "output_type": "stream",
     "text": [
      "Train--Epoch [64/400]: 100%|██████████| 375/375 [00:18<00:00, 19.90it/s, acc=59.1, loss=0.652]\n",
      "Valid--Epoch [64/400]: 100%|██████████| 89/89 [00:01<00:00, 48.91it/s, acc=56, loss=1.17]  \n"
     ]
    },
    {
     "name": "stdout",
     "output_type": "stream",
     "text": [
      "Saving..\n",
      "\n",
      " epoch: 65/400\n"
     ]
    },
    {
     "name": "stderr",
     "output_type": "stream",
     "text": [
      "Train--Epoch [65/400]: 100%|██████████| 375/375 [00:18<00:00, 19.91it/s, acc=59.3, loss=0.65] \n",
      "Valid--Epoch [65/400]: 100%|██████████| 89/89 [00:01<00:00, 49.23it/s, acc=56, loss=1.13]  \n"
     ]
    },
    {
     "name": "stdout",
     "output_type": "stream",
     "text": [
      "\n",
      " epoch: 66/400\n"
     ]
    },
    {
     "name": "stderr",
     "output_type": "stream",
     "text": [
      "Train--Epoch [66/400]: 100%|██████████| 375/375 [00:18<00:00, 19.91it/s, acc=59.7, loss=0.649]\n",
      "Valid--Epoch [66/400]: 100%|██████████| 89/89 [00:01<00:00, 48.66it/s, acc=56.2, loss=1.15]\n"
     ]
    },
    {
     "name": "stdout",
     "output_type": "stream",
     "text": [
      "Saving..\n",
      "\n",
      " epoch: 67/400\n"
     ]
    },
    {
     "name": "stderr",
     "output_type": "stream",
     "text": [
      "Train--Epoch [67/400]: 100%|██████████| 375/375 [00:18<00:00, 19.85it/s, acc=59.8, loss=0.647]\n",
      "Valid--Epoch [67/400]: 100%|██████████| 89/89 [00:01<00:00, 48.50it/s, acc=56.3, loss=1.14]\n"
     ]
    },
    {
     "name": "stdout",
     "output_type": "stream",
     "text": [
      "Saving..\n",
      "\n",
      " epoch: 68/400\n"
     ]
    },
    {
     "name": "stderr",
     "output_type": "stream",
     "text": [
      "Train--Epoch [68/400]: 100%|██████████| 375/375 [00:18<00:00, 19.95it/s, acc=60.4, loss=0.645]\n",
      "Valid--Epoch [68/400]: 100%|██████████| 89/89 [00:01<00:00, 49.07it/s, acc=56.2, loss=1.15]"
     ]
    },
    {
     "name": "stdout",
     "output_type": "stream",
     "text": [
      "\n",
      " epoch: 69/400\n"
     ]
    },
    {
     "name": "stderr",
     "output_type": "stream",
     "text": [
      "\n",
      "Train--Epoch [69/400]: 100%|██████████| 375/375 [00:19<00:00, 19.08it/s, acc=60.5, loss=0.645]\n",
      "Valid--Epoch [69/400]: 100%|██████████| 89/89 [00:01<00:00, 49.74it/s, acc=56.3, loss=1.12]"
     ]
    },
    {
     "name": "stdout",
     "output_type": "stream",
     "text": [
      "\n",
      " epoch: 70/400\n"
     ]
    },
    {
     "name": "stderr",
     "output_type": "stream",
     "text": [
      "\n",
      "Train--Epoch [70/400]: 100%|██████████| 375/375 [00:18<00:00, 19.86it/s, acc=60.7, loss=0.643]\n",
      "Valid--Epoch [70/400]: 100%|██████████| 89/89 [00:01<00:00, 48.33it/s, acc=55.8, loss=1.14]"
     ]
    },
    {
     "name": "stdout",
     "output_type": "stream",
     "text": [
      "\n",
      " epoch: 71/400\n"
     ]
    },
    {
     "name": "stderr",
     "output_type": "stream",
     "text": [
      "\n",
      "Train--Epoch [71/400]: 100%|██████████| 375/375 [00:18<00:00, 19.90it/s, acc=60.7, loss=0.643]\n",
      "Valid--Epoch [71/400]: 100%|██████████| 89/89 [00:01<00:00, 49.09it/s, acc=55.9, loss=1.08]"
     ]
    },
    {
     "name": "stdout",
     "output_type": "stream",
     "text": [
      "\n",
      " epoch: 72/400\n"
     ]
    },
    {
     "name": "stderr",
     "output_type": "stream",
     "text": [
      "\n",
      "Train--Epoch [72/400]: 100%|██████████| 375/375 [00:18<00:00, 19.74it/s, acc=60.9, loss=0.643]\n",
      "Valid--Epoch [72/400]: 100%|██████████| 89/89 [00:01<00:00, 49.41it/s, acc=56, loss=1.1]   "
     ]
    },
    {
     "name": "stdout",
     "output_type": "stream",
     "text": [
      "\n",
      " epoch: 73/400\n"
     ]
    },
    {
     "name": "stderr",
     "output_type": "stream",
     "text": [
      "\n",
      "Train--Epoch [73/400]: 100%|██████████| 375/375 [00:18<00:00, 19.92it/s, acc=61.3, loss=0.642]\n",
      "Valid--Epoch [73/400]: 100%|██████████| 89/89 [00:01<00:00, 48.23it/s, acc=55.9, loss=1.1] "
     ]
    },
    {
     "name": "stdout",
     "output_type": "stream",
     "text": [
      "\n",
      " epoch: 74/400\n"
     ]
    },
    {
     "name": "stderr",
     "output_type": "stream",
     "text": [
      "\n",
      "Train--Epoch [74/400]: 100%|██████████| 375/375 [00:19<00:00, 19.49it/s, acc=61.3, loss=0.641]\n",
      "Valid--Epoch [74/400]: 100%|██████████| 89/89 [00:01<00:00, 46.76it/s, acc=56.2, loss=1.09]"
     ]
    },
    {
     "name": "stdout",
     "output_type": "stream",
     "text": [
      "\n",
      " epoch: 75/400\n"
     ]
    },
    {
     "name": "stderr",
     "output_type": "stream",
     "text": [
      "\n",
      "Train--Epoch [75/400]: 100%|██████████| 375/375 [00:18<00:00, 19.81it/s, acc=61.2, loss=0.64] \n",
      "Valid--Epoch [75/400]: 100%|██████████| 89/89 [00:01<00:00, 49.07it/s, acc=55.6, loss=1.09]\n"
     ]
    },
    {
     "name": "stdout",
     "output_type": "stream",
     "text": [
      "\n",
      " epoch: 76/400\n"
     ]
    },
    {
     "name": "stderr",
     "output_type": "stream",
     "text": [
      "Train--Epoch [76/400]: 100%|██████████| 375/375 [00:18<00:00, 19.87it/s, acc=61.7, loss=0.639]\n",
      "Valid--Epoch [76/400]: 100%|██████████| 89/89 [00:01<00:00, 48.32it/s, acc=56, loss=1.07]  "
     ]
    },
    {
     "name": "stdout",
     "output_type": "stream",
     "text": [
      "\n",
      " epoch: 77/400\n"
     ]
    },
    {
     "name": "stderr",
     "output_type": "stream",
     "text": [
      "\n",
      "Train--Epoch [77/400]: 100%|██████████| 375/375 [00:18<00:00, 19.88it/s, acc=61.7, loss=0.637]\n",
      "Valid--Epoch [77/400]: 100%|██████████| 89/89 [00:01<00:00, 49.13it/s, acc=55.7, loss=1.1] "
     ]
    },
    {
     "name": "stdout",
     "output_type": "stream",
     "text": [
      "\n",
      " epoch: 78/400\n"
     ]
    },
    {
     "name": "stderr",
     "output_type": "stream",
     "text": [
      "\n",
      "Train--Epoch [78/400]: 100%|██████████| 375/375 [00:18<00:00, 19.74it/s, acc=61.4, loss=0.638]\n",
      "Valid--Epoch [78/400]: 100%|██████████| 89/89 [00:01<00:00, 49.27it/s, acc=54.5, loss=1.1] "
     ]
    },
    {
     "name": "stdout",
     "output_type": "stream",
     "text": [
      "\n",
      " epoch: 79/400\n"
     ]
    },
    {
     "name": "stderr",
     "output_type": "stream",
     "text": [
      "\n",
      "Train--Epoch [79/400]: 100%|██████████| 375/375 [00:18<00:00, 19.92it/s, acc=61.7, loss=0.637]\n",
      "Valid--Epoch [79/400]: 100%|██████████| 89/89 [00:01<00:00, 48.70it/s, acc=55.8, loss=1.12]"
     ]
    },
    {
     "name": "stdout",
     "output_type": "stream",
     "text": [
      "\n",
      " epoch: 80/400\n"
     ]
    },
    {
     "name": "stderr",
     "output_type": "stream",
     "text": [
      "\n",
      "Train--Epoch [80/400]: 100%|██████████| 375/375 [00:18<00:00, 19.89it/s, acc=61.7, loss=0.638]\n",
      "Valid--Epoch [80/400]: 100%|██████████| 89/89 [00:01<00:00, 49.46it/s, acc=56.1, loss=1.07]\n"
     ]
    },
    {
     "name": "stdout",
     "output_type": "stream",
     "text": [
      "\n",
      " epoch: 81/400\n"
     ]
    },
    {
     "name": "stderr",
     "output_type": "stream",
     "text": [
      "Train--Epoch [81/400]: 100%|██████████| 375/375 [00:19<00:00, 19.69it/s, acc=61.9, loss=0.637]\n",
      "Valid--Epoch [81/400]: 100%|██████████| 89/89 [00:01<00:00, 49.30it/s, acc=55.7, loss=1.1] "
     ]
    },
    {
     "name": "stdout",
     "output_type": "stream",
     "text": [
      "\n",
      " epoch: 82/400\n"
     ]
    },
    {
     "name": "stderr",
     "output_type": "stream",
     "text": [
      "\n",
      "Train--Epoch [82/400]: 100%|██████████| 375/375 [00:18<00:00, 19.81it/s, acc=61.8, loss=0.636]\n",
      "Valid--Epoch [82/400]: 100%|██████████| 89/89 [00:01<00:00, 49.69it/s, acc=54.5, loss=1.13]"
     ]
    },
    {
     "name": "stdout",
     "output_type": "stream",
     "text": [
      "\n",
      " epoch: 83/400\n"
     ]
    },
    {
     "name": "stderr",
     "output_type": "stream",
     "text": [
      "\n",
      "Train--Epoch [83/400]: 100%|██████████| 375/375 [00:18<00:00, 19.99it/s, acc=62, loss=0.635]  \n",
      "Valid--Epoch [83/400]: 100%|██████████| 89/89 [00:01<00:00, 48.14it/s, acc=54.3, loss=1.11]"
     ]
    },
    {
     "name": "stdout",
     "output_type": "stream",
     "text": [
      "\n",
      " epoch: 84/400\n"
     ]
    },
    {
     "name": "stderr",
     "output_type": "stream",
     "text": [
      "\n",
      "Train--Epoch [84/400]: 100%|██████████| 375/375 [00:18<00:00, 19.89it/s, acc=62, loss=0.635]  \n",
      "Valid--Epoch [84/400]: 100%|██████████| 89/89 [00:01<00:00, 49.26it/s, acc=55.2, loss=1.09]\n"
     ]
    },
    {
     "name": "stdout",
     "output_type": "stream",
     "text": [
      "\n",
      " epoch: 85/400\n"
     ]
    },
    {
     "name": "stderr",
     "output_type": "stream",
     "text": [
      "Train--Epoch [85/400]: 100%|██████████| 375/375 [00:18<00:00, 19.88it/s, acc=62.1, loss=0.633]\n",
      "Valid--Epoch [85/400]: 100%|██████████| 89/89 [00:01<00:00, 49.40it/s, acc=54, loss=1.1]   "
     ]
    },
    {
     "name": "stdout",
     "output_type": "stream",
     "text": [
      "\n",
      " epoch: 86/400\n"
     ]
    },
    {
     "name": "stderr",
     "output_type": "stream",
     "text": [
      "\n",
      "Train--Epoch [86/400]: 100%|██████████| 375/375 [00:18<00:00, 19.95it/s, acc=62.2, loss=0.633]\n",
      "Valid--Epoch [86/400]: 100%|██████████| 89/89 [00:01<00:00, 48.53it/s, acc=53.5, loss=1.12]\n"
     ]
    },
    {
     "name": "stdout",
     "output_type": "stream",
     "text": [
      "\n",
      " epoch: 87/400\n"
     ]
    },
    {
     "name": "stderr",
     "output_type": "stream",
     "text": [
      "Train--Epoch [87/400]: 100%|██████████| 375/375 [00:18<00:00, 19.90it/s, acc=62.4, loss=0.632]\n",
      "Valid--Epoch [87/400]: 100%|██████████| 89/89 [00:01<00:00, 49.12it/s, acc=54.5, loss=1.07]"
     ]
    },
    {
     "name": "stdout",
     "output_type": "stream",
     "text": [
      "\n",
      " epoch: 88/400\n"
     ]
    },
    {
     "name": "stderr",
     "output_type": "stream",
     "text": [
      "\n",
      "Train--Epoch [88/400]: 100%|██████████| 375/375 [00:18<00:00, 19.89it/s, acc=62.7, loss=0.63] \n",
      "Valid--Epoch [88/400]: 100%|██████████| 89/89 [00:01<00:00, 48.09it/s, acc=54.3, loss=1.08]"
     ]
    },
    {
     "name": "stdout",
     "output_type": "stream",
     "text": [
      "\n",
      " epoch: 89/400\n"
     ]
    },
    {
     "name": "stderr",
     "output_type": "stream",
     "text": [
      "\n",
      "Train--Epoch [89/400]: 100%|██████████| 375/375 [00:18<00:00, 19.93it/s, acc=62.6, loss=0.63] \n",
      "Valid--Epoch [89/400]: 100%|██████████| 89/89 [00:01<00:00, 49.92it/s, acc=54.1, loss=1.08]\n"
     ]
    },
    {
     "name": "stdout",
     "output_type": "stream",
     "text": [
      "\n",
      " epoch: 90/400\n"
     ]
    },
    {
     "name": "stderr",
     "output_type": "stream",
     "text": [
      "Train--Epoch [90/400]: 100%|██████████| 375/375 [00:19<00:00, 19.69it/s, acc=62.5, loss=0.63] \n",
      "Valid--Epoch [90/400]: 100%|██████████| 89/89 [00:01<00:00, 49.25it/s, acc=54.8, loss=1.05]\n"
     ]
    },
    {
     "name": "stdout",
     "output_type": "stream",
     "text": [
      "\n",
      " epoch: 91/400\n"
     ]
    },
    {
     "name": "stderr",
     "output_type": "stream",
     "text": [
      "Train--Epoch [91/400]: 100%|██████████| 375/375 [00:18<00:00, 19.87it/s, acc=62.9, loss=0.628]\n",
      "Valid--Epoch [91/400]: 100%|██████████| 89/89 [00:01<00:00, 47.78it/s, acc=53.8, loss=1.1] "
     ]
    },
    {
     "name": "stdout",
     "output_type": "stream",
     "text": [
      "\n",
      " epoch: 92/400\n"
     ]
    },
    {
     "name": "stderr",
     "output_type": "stream",
     "text": [
      "\n",
      "Train--Epoch [92/400]: 100%|██████████| 375/375 [00:18<00:00, 19.97it/s, acc=62.8, loss=0.628]\n",
      "Valid--Epoch [92/400]: 100%|██████████| 89/89 [00:01<00:00, 49.20it/s, acc=53.6, loss=1.07]"
     ]
    },
    {
     "name": "stdout",
     "output_type": "stream",
     "text": [
      "\n",
      " epoch: 93/400\n"
     ]
    },
    {
     "name": "stderr",
     "output_type": "stream",
     "text": [
      "\n",
      "Train--Epoch [93/400]: 100%|██████████| 375/375 [00:18<00:00, 19.82it/s, acc=62.7, loss=0.628]\n",
      "Valid--Epoch [93/400]: 100%|██████████| 89/89 [00:01<00:00, 49.18it/s, acc=53.1, loss=1.08]"
     ]
    },
    {
     "name": "stdout",
     "output_type": "stream",
     "text": [
      "\n",
      " epoch: 94/400\n"
     ]
    },
    {
     "name": "stderr",
     "output_type": "stream",
     "text": [
      "\n",
      "Train--Epoch [94/400]: 100%|██████████| 375/375 [00:18<00:00, 19.90it/s, acc=63.1, loss=0.626]\n",
      "Valid--Epoch [94/400]: 100%|██████████| 89/89 [00:01<00:00, 49.05it/s, acc=53.2, loss=1.07]"
     ]
    },
    {
     "name": "stdout",
     "output_type": "stream",
     "text": [
      "\n",
      " epoch: 95/400\n"
     ]
    },
    {
     "name": "stderr",
     "output_type": "stream",
     "text": [
      "\n",
      "Train--Epoch [95/400]: 100%|██████████| 375/375 [00:18<00:00, 19.89it/s, acc=62.9, loss=0.628]\n",
      "Valid--Epoch [95/400]: 100%|██████████| 89/89 [00:01<00:00, 50.29it/s, acc=53.6, loss=1.04]"
     ]
    },
    {
     "name": "stdout",
     "output_type": "stream",
     "text": [
      "\n",
      " epoch: 96/400\n"
     ]
    },
    {
     "name": "stderr",
     "output_type": "stream",
     "text": [
      "\n",
      "Train--Epoch [96/400]: 100%|██████████| 375/375 [00:18<00:00, 19.90it/s, acc=63.2, loss=0.625]\n",
      "Valid--Epoch [96/400]: 100%|██████████| 89/89 [00:01<00:00, 47.43it/s, acc=53.1, loss=1.09]"
     ]
    },
    {
     "name": "stdout",
     "output_type": "stream",
     "text": [
      "\n",
      " epoch: 97/400\n"
     ]
    },
    {
     "name": "stderr",
     "output_type": "stream",
     "text": [
      "\n",
      "Train--Epoch [97/400]: 100%|██████████| 375/375 [00:18<00:00, 19.81it/s, acc=63.2, loss=0.626]\n",
      "Valid--Epoch [97/400]: 100%|██████████| 89/89 [00:01<00:00, 48.72it/s, acc=52.8, loss=1.09]"
     ]
    },
    {
     "name": "stdout",
     "output_type": "stream",
     "text": [
      "\n",
      " epoch: 98/400\n"
     ]
    },
    {
     "name": "stderr",
     "output_type": "stream",
     "text": [
      "\n",
      "Train--Epoch [98/400]: 100%|██████████| 375/375 [00:18<00:00, 19.87it/s, acc=63.2, loss=0.625]\n",
      "Valid--Epoch [98/400]: 100%|██████████| 89/89 [00:01<00:00, 47.57it/s, acc=53.2, loss=1.06]"
     ]
    },
    {
     "name": "stdout",
     "output_type": "stream",
     "text": [
      "\n",
      " epoch: 99/400\n"
     ]
    },
    {
     "name": "stderr",
     "output_type": "stream",
     "text": [
      "\n",
      "Train--Epoch [99/400]: 100%|██████████| 375/375 [00:18<00:00, 19.89it/s, acc=63.3, loss=0.624]\n",
      "Valid--Epoch [99/400]: 100%|██████████| 89/89 [00:01<00:00, 48.95it/s, acc=53.3, loss=1.05]"
     ]
    },
    {
     "name": "stdout",
     "output_type": "stream",
     "text": [
      "\n",
      " epoch: 100/400\n"
     ]
    },
    {
     "name": "stderr",
     "output_type": "stream",
     "text": [
      "\n",
      "Train--Epoch [100/400]: 100%|██████████| 375/375 [00:18<00:00, 19.76it/s, acc=63.3, loss=0.624]\n",
      "Valid--Epoch [100/400]: 100%|██████████| 89/89 [00:01<00:00, 49.43it/s, acc=53, loss=1.07]  "
     ]
    },
    {
     "name": "stdout",
     "output_type": "stream",
     "text": [
      "\n",
      " epoch: 101/400\n"
     ]
    },
    {
     "name": "stderr",
     "output_type": "stream",
     "text": [
      "\n",
      "Train--Epoch [101/400]: 100%|██████████| 375/375 [00:18<00:00, 19.84it/s, acc=63.5, loss=0.622]\n",
      "Valid--Epoch [101/400]: 100%|██████████| 89/89 [00:01<00:00, 48.12it/s, acc=52.9, loss=1.06]"
     ]
    },
    {
     "name": "stdout",
     "output_type": "stream",
     "text": [
      "\n",
      " epoch: 102/400\n"
     ]
    },
    {
     "name": "stderr",
     "output_type": "stream",
     "text": [
      "\n",
      "Train--Epoch [102/400]: 100%|██████████| 375/375 [00:18<00:00, 19.76it/s, acc=63.4, loss=0.623]\n",
      "Valid--Epoch [102/400]: 100%|██████████| 89/89 [00:01<00:00, 48.67it/s, acc=53.1, loss=1.05]\n"
     ]
    },
    {
     "name": "stdout",
     "output_type": "stream",
     "text": [
      "\n",
      " epoch: 103/400\n"
     ]
    },
    {
     "name": "stderr",
     "output_type": "stream",
     "text": [
      "Train--Epoch [103/400]: 100%|██████████| 375/375 [00:18<00:00, 19.80it/s, acc=63.4, loss=0.621]\n",
      "Valid--Epoch [103/400]: 100%|██████████| 89/89 [00:01<00:00, 49.70it/s, acc=53.1, loss=1.05]"
     ]
    },
    {
     "name": "stdout",
     "output_type": "stream",
     "text": [
      "\n",
      " epoch: 104/400\n"
     ]
    },
    {
     "name": "stderr",
     "output_type": "stream",
     "text": [
      "\n",
      "Train--Epoch [104/400]: 100%|██████████| 375/375 [00:18<00:00, 19.85it/s, acc=63.7, loss=0.621]\n",
      "Valid--Epoch [104/400]: 100%|██████████| 89/89 [00:01<00:00, 47.50it/s, acc=53, loss=1.05]  "
     ]
    },
    {
     "name": "stdout",
     "output_type": "stream",
     "text": [
      "\n",
      " epoch: 105/400\n"
     ]
    },
    {
     "name": "stderr",
     "output_type": "stream",
     "text": [
      "\n",
      "Train--Epoch [105/400]: 100%|██████████| 375/375 [00:20<00:00, 18.38it/s, acc=63.6, loss=0.621]\n",
      "Valid--Epoch [105/400]: 100%|██████████| 89/89 [00:02<00:00, 42.45it/s, acc=52.6, loss=1.08]"
     ]
    },
    {
     "name": "stdout",
     "output_type": "stream",
     "text": [
      "\n",
      " epoch: 106/400\n"
     ]
    },
    {
     "name": "stderr",
     "output_type": "stream",
     "text": [
      "\n",
      "Train--Epoch [106/400]: 100%|██████████| 375/375 [00:20<00:00, 18.31it/s, acc=63.6, loss=0.62] \n",
      "Valid--Epoch [106/400]: 100%|██████████| 89/89 [00:02<00:00, 37.17it/s, acc=52.5, loss=1.08]"
     ]
    },
    {
     "name": "stdout",
     "output_type": "stream",
     "text": [
      "\n",
      " epoch: 107/400\n"
     ]
    },
    {
     "name": "stderr",
     "output_type": "stream",
     "text": [
      "\n",
      "Train--Epoch [107/400]: 100%|██████████| 375/375 [00:19<00:00, 19.36it/s, acc=63.8, loss=0.619]\n",
      "Valid--Epoch [107/400]: 100%|██████████| 89/89 [00:02<00:00, 41.81it/s, acc=52.9, loss=1.06]"
     ]
    },
    {
     "name": "stdout",
     "output_type": "stream",
     "text": [
      "\n",
      " epoch: 108/400\n"
     ]
    },
    {
     "name": "stderr",
     "output_type": "stream",
     "text": [
      "\n",
      "Train--Epoch [108/400]: 100%|██████████| 375/375 [00:19<00:00, 19.21it/s, acc=63.9, loss=0.618]\n",
      "Valid--Epoch [108/400]: 100%|██████████| 89/89 [00:02<00:00, 35.74it/s, acc=52.7, loss=1.06]\n"
     ]
    },
    {
     "name": "stdout",
     "output_type": "stream",
     "text": [
      "\n",
      " epoch: 109/400\n"
     ]
    },
    {
     "name": "stderr",
     "output_type": "stream",
     "text": [
      "Train--Epoch [109/400]: 100%|██████████| 375/375 [00:19<00:00, 19.24it/s, acc=63.9, loss=0.619]\n",
      "Valid--Epoch [109/400]: 100%|██████████| 89/89 [00:02<00:00, 36.33it/s, acc=52.4, loss=1.09]"
     ]
    },
    {
     "name": "stdout",
     "output_type": "stream",
     "text": [
      "\n",
      " epoch: 110/400\n"
     ]
    },
    {
     "name": "stderr",
     "output_type": "stream",
     "text": [
      "\n",
      "Train--Epoch [110/400]: 100%|██████████| 375/375 [00:19<00:00, 19.74it/s, acc=63.6, loss=0.62] \n",
      "Valid--Epoch [110/400]: 100%|██████████| 89/89 [00:01<00:00, 47.24it/s, acc=53.1, loss=1.06]"
     ]
    },
    {
     "name": "stdout",
     "output_type": "stream",
     "text": [
      "\n",
      " epoch: 111/400\n"
     ]
    },
    {
     "name": "stderr",
     "output_type": "stream",
     "text": [
      "\n",
      "Train--Epoch [111/400]: 100%|██████████| 375/375 [00:19<00:00, 19.73it/s, acc=63.9, loss=0.618]\n",
      "Valid--Epoch [111/400]: 100%|██████████| 89/89 [00:01<00:00, 48.38it/s, acc=52.8, loss=1.09]"
     ]
    },
    {
     "name": "stdout",
     "output_type": "stream",
     "text": [
      "\n",
      " epoch: 112/400\n"
     ]
    },
    {
     "name": "stderr",
     "output_type": "stream",
     "text": [
      "\n",
      "Train--Epoch [112/400]: 100%|██████████| 375/375 [00:18<00:00, 19.78it/s, acc=63.9, loss=0.618]\n",
      "Valid--Epoch [112/400]: 100%|██████████| 89/89 [00:01<00:00, 48.29it/s, acc=53, loss=1.07]  "
     ]
    },
    {
     "name": "stdout",
     "output_type": "stream",
     "text": [
      "\n",
      " epoch: 113/400\n"
     ]
    },
    {
     "name": "stderr",
     "output_type": "stream",
     "text": [
      "\n",
      "Train--Epoch [113/400]: 100%|██████████| 375/375 [00:19<00:00, 19.56it/s, acc=64.3, loss=0.616]\n",
      "Valid--Epoch [113/400]: 100%|██████████| 89/89 [00:01<00:00, 48.81it/s, acc=53.1, loss=1.08]"
     ]
    },
    {
     "name": "stdout",
     "output_type": "stream",
     "text": [
      "\n",
      " epoch: 114/400\n"
     ]
    },
    {
     "name": "stderr",
     "output_type": "stream",
     "text": [
      "\n",
      "Train--Epoch [114/400]: 100%|██████████| 375/375 [00:18<00:00, 19.76it/s, acc=64, loss=0.616]  \n",
      "Valid--Epoch [114/400]: 100%|██████████| 89/89 [00:01<00:00, 47.84it/s, acc=52.9, loss=1.1] "
     ]
    },
    {
     "name": "stdout",
     "output_type": "stream",
     "text": [
      "\n",
      " epoch: 115/400\n"
     ]
    },
    {
     "name": "stderr",
     "output_type": "stream",
     "text": [
      "\n",
      "Train--Epoch [115/400]: 100%|██████████| 375/375 [00:18<00:00, 19.77it/s, acc=64.1, loss=0.615]\n",
      "Valid--Epoch [115/400]: 100%|██████████| 89/89 [00:01<00:00, 48.97it/s, acc=53, loss=1.09]  "
     ]
    },
    {
     "name": "stdout",
     "output_type": "stream",
     "text": [
      "\n",
      " epoch: 116/400\n"
     ]
    },
    {
     "name": "stderr",
     "output_type": "stream",
     "text": [
      "\n",
      "Train--Epoch [116/400]: 100%|██████████| 375/375 [00:19<00:00, 19.52it/s, acc=64.4, loss=0.614]\n",
      "Valid--Epoch [116/400]: 100%|██████████| 89/89 [00:01<00:00, 48.88it/s, acc=52.8, loss=1.1] "
     ]
    },
    {
     "name": "stdout",
     "output_type": "stream",
     "text": [
      "\n",
      " epoch: 117/400\n"
     ]
    },
    {
     "name": "stderr",
     "output_type": "stream",
     "text": [
      "\n",
      "Train--Epoch [117/400]: 100%|██████████| 375/375 [00:18<00:00, 19.82it/s, acc=64.3, loss=0.615]\n",
      "Valid--Epoch [117/400]: 100%|██████████| 89/89 [00:01<00:00, 49.02it/s, acc=53.1, loss=1.08]"
     ]
    },
    {
     "name": "stdout",
     "output_type": "stream",
     "text": [
      "\n",
      " epoch: 118/400\n"
     ]
    },
    {
     "name": "stderr",
     "output_type": "stream",
     "text": [
      "\n",
      "Train--Epoch [118/400]: 100%|██████████| 375/375 [00:18<00:00, 19.84it/s, acc=64.3, loss=0.615]\n",
      "Valid--Epoch [118/400]: 100%|██████████| 89/89 [00:01<00:00, 48.53it/s, acc=53.1, loss=1.07]"
     ]
    },
    {
     "name": "stdout",
     "output_type": "stream",
     "text": [
      "\n",
      " epoch: 119/400\n"
     ]
    },
    {
     "name": "stderr",
     "output_type": "stream",
     "text": [
      "\n",
      "Train--Epoch [119/400]: 100%|██████████| 375/375 [00:19<00:00, 19.72it/s, acc=64.2, loss=0.614]\n",
      "Valid--Epoch [119/400]: 100%|██████████| 89/89 [00:01<00:00, 48.48it/s, acc=53.2, loss=1.04]"
     ]
    },
    {
     "name": "stdout",
     "output_type": "stream",
     "text": [
      "\n",
      " epoch: 120/400\n"
     ]
    },
    {
     "name": "stderr",
     "output_type": "stream",
     "text": [
      "\n",
      "Train--Epoch [120/400]: 100%|██████████| 375/375 [00:19<00:00, 19.71it/s, acc=64.3, loss=0.614]\n",
      "Valid--Epoch [120/400]: 100%|██████████| 89/89 [00:01<00:00, 47.54it/s, acc=53, loss=1.09]  "
     ]
    },
    {
     "name": "stdout",
     "output_type": "stream",
     "text": [
      "\n",
      " epoch: 121/400\n"
     ]
    },
    {
     "name": "stderr",
     "output_type": "stream",
     "text": [
      "\n",
      "Train--Epoch [121/400]: 100%|██████████| 375/375 [00:18<00:00, 19.80it/s, acc=64.4, loss=0.613]\n",
      "Valid--Epoch [121/400]: 100%|██████████| 89/89 [00:01<00:00, 46.09it/s, acc=53.2, loss=1.05]"
     ]
    },
    {
     "name": "stdout",
     "output_type": "stream",
     "text": [
      "\n",
      " epoch: 122/400\n"
     ]
    },
    {
     "name": "stderr",
     "output_type": "stream",
     "text": [
      "\n",
      "Train--Epoch [122/400]: 100%|██████████| 375/375 [00:18<00:00, 19.84it/s, acc=64.5, loss=0.612]\n",
      "Valid--Epoch [122/400]: 100%|██████████| 89/89 [00:01<00:00, 48.76it/s, acc=53, loss=1.08]  "
     ]
    },
    {
     "name": "stdout",
     "output_type": "stream",
     "text": [
      "\n",
      " epoch: 123/400\n"
     ]
    },
    {
     "name": "stderr",
     "output_type": "stream",
     "text": [
      "\n",
      "Train--Epoch [123/400]: 100%|██████████| 375/375 [00:18<00:00, 19.77it/s, acc=64.5, loss=0.612]\n",
      "Valid--Epoch [123/400]: 100%|██████████| 89/89 [00:01<00:00, 48.19it/s, acc=53.5, loss=1.02]"
     ]
    },
    {
     "name": "stdout",
     "output_type": "stream",
     "text": [
      "\n",
      " epoch: 124/400\n"
     ]
    },
    {
     "name": "stderr",
     "output_type": "stream",
     "text": [
      "\n",
      "Train--Epoch [124/400]: 100%|██████████| 375/375 [00:18<00:00, 19.80it/s, acc=64.6, loss=0.612]\n",
      "Valid--Epoch [124/400]: 100%|██████████| 89/89 [00:01<00:00, 48.99it/s, acc=53.2, loss=1.09]"
     ]
    },
    {
     "name": "stdout",
     "output_type": "stream",
     "text": [
      "\n",
      " epoch: 125/400\n"
     ]
    },
    {
     "name": "stderr",
     "output_type": "stream",
     "text": [
      "\n",
      "Train--Epoch [125/400]: 100%|██████████| 375/375 [00:19<00:00, 19.58it/s, acc=64.6, loss=0.611]\n",
      "Valid--Epoch [125/400]: 100%|██████████| 89/89 [00:01<00:00, 49.13it/s, acc=53.2, loss=1.08]"
     ]
    },
    {
     "name": "stdout",
     "output_type": "stream",
     "text": [
      "\n",
      " epoch: 126/400\n"
     ]
    },
    {
     "name": "stderr",
     "output_type": "stream",
     "text": [
      "\n",
      "Train--Epoch [126/400]: 100%|██████████| 375/375 [00:19<00:00, 19.52it/s, acc=64.5, loss=0.612]\n",
      "Valid--Epoch [126/400]: 100%|██████████| 89/89 [00:01<00:00, 49.04it/s, acc=53.5, loss=1.04]\n"
     ]
    },
    {
     "name": "stdout",
     "output_type": "stream",
     "text": [
      "\n",
      " epoch: 127/400\n"
     ]
    },
    {
     "name": "stderr",
     "output_type": "stream",
     "text": [
      "Train--Epoch [127/400]: 100%|██████████| 375/375 [00:19<00:00, 19.73it/s, acc=64.7, loss=0.611]\n",
      "Valid--Epoch [127/400]: 100%|██████████| 89/89 [00:01<00:00, 46.65it/s, acc=53.3, loss=1.07]"
     ]
    },
    {
     "name": "stdout",
     "output_type": "stream",
     "text": [
      "\n",
      " epoch: 128/400\n"
     ]
    },
    {
     "name": "stderr",
     "output_type": "stream",
     "text": [
      "\n",
      "Train--Epoch [128/400]: 100%|██████████| 375/375 [00:18<00:00, 19.88it/s, acc=64.6, loss=0.61] \n",
      "Valid--Epoch [128/400]: 100%|██████████| 89/89 [00:01<00:00, 48.61it/s, acc=53.2, loss=1.1] \n"
     ]
    },
    {
     "name": "stdout",
     "output_type": "stream",
     "text": [
      "\n",
      " epoch: 129/400\n"
     ]
    },
    {
     "name": "stderr",
     "output_type": "stream",
     "text": [
      "Train--Epoch [129/400]: 100%|██████████| 375/375 [00:19<00:00, 19.64it/s, acc=64.9, loss=0.611]\n",
      "Valid--Epoch [129/400]: 100%|██████████| 89/89 [00:01<00:00, 48.56it/s, acc=53.3, loss=1.09]"
     ]
    },
    {
     "name": "stdout",
     "output_type": "stream",
     "text": [
      "\n",
      " epoch: 130/400\n"
     ]
    },
    {
     "name": "stderr",
     "output_type": "stream",
     "text": [
      "\n",
      "Train--Epoch [130/400]: 100%|██████████| 375/375 [00:19<00:00, 19.28it/s, acc=64.8, loss=0.61] \n",
      "Valid--Epoch [130/400]: 100%|██████████| 89/89 [00:01<00:00, 46.25it/s, acc=53.3, loss=1.09]"
     ]
    },
    {
     "name": "stdout",
     "output_type": "stream",
     "text": [
      "\n",
      " epoch: 131/400\n"
     ]
    },
    {
     "name": "stderr",
     "output_type": "stream",
     "text": [
      "\n",
      "Train--Epoch [131/400]: 100%|██████████| 375/375 [00:19<00:00, 19.64it/s, acc=64.6, loss=0.611]\n",
      "Valid--Epoch [131/400]: 100%|██████████| 89/89 [00:01<00:00, 48.01it/s, acc=53.4, loss=1.07]"
     ]
    },
    {
     "name": "stdout",
     "output_type": "stream",
     "text": [
      "\n",
      " epoch: 132/400\n"
     ]
    },
    {
     "name": "stderr",
     "output_type": "stream",
     "text": [
      "\n",
      "Train--Epoch [132/400]: 100%|██████████| 375/375 [00:19<00:00, 19.60it/s, acc=65.2, loss=0.607]\n",
      "Valid--Epoch [132/400]: 100%|██████████| 89/89 [00:01<00:00, 48.86it/s, acc=53.2, loss=1.13]"
     ]
    },
    {
     "name": "stdout",
     "output_type": "stream",
     "text": [
      "\n",
      " epoch: 133/400\n"
     ]
    },
    {
     "name": "stderr",
     "output_type": "stream",
     "text": [
      "\n",
      "Train--Epoch [133/400]: 100%|██████████| 375/375 [00:18<00:00, 19.75it/s, acc=64.8, loss=0.609]\n",
      "Valid--Epoch [133/400]: 100%|██████████| 89/89 [00:01<00:00, 46.74it/s, acc=53.4, loss=1.09]"
     ]
    },
    {
     "name": "stdout",
     "output_type": "stream",
     "text": [
      "\n",
      " epoch: 134/400\n"
     ]
    },
    {
     "name": "stderr",
     "output_type": "stream",
     "text": [
      "\n",
      "Train--Epoch [134/400]: 100%|██████████| 375/375 [00:18<00:00, 19.74it/s, acc=65, loss=0.608]  \n",
      "Valid--Epoch [134/400]: 100%|██████████| 89/89 [00:01<00:00, 48.69it/s, acc=53.3, loss=1.13]"
     ]
    },
    {
     "name": "stdout",
     "output_type": "stream",
     "text": [
      "\n",
      " epoch: 135/400\n"
     ]
    },
    {
     "name": "stderr",
     "output_type": "stream",
     "text": [
      "\n",
      "Train--Epoch [135/400]: 100%|██████████| 375/375 [00:19<00:00, 19.51it/s, acc=65, loss=0.608]  \n",
      "Valid--Epoch [135/400]: 100%|██████████| 89/89 [00:01<00:00, 49.48it/s, acc=53.6, loss=1.05]"
     ]
    },
    {
     "name": "stdout",
     "output_type": "stream",
     "text": [
      "\n",
      " epoch: 136/400\n"
     ]
    },
    {
     "name": "stderr",
     "output_type": "stream",
     "text": [
      "\n",
      "Train--Epoch [136/400]: 100%|██████████| 375/375 [00:18<00:00, 19.77it/s, acc=65.2, loss=0.608]\n",
      "Valid--Epoch [136/400]: 100%|██████████| 89/89 [00:01<00:00, 47.58it/s, acc=53.6, loss=1.08]"
     ]
    },
    {
     "name": "stdout",
     "output_type": "stream",
     "text": [
      "\n",
      " epoch: 137/400\n"
     ]
    },
    {
     "name": "stderr",
     "output_type": "stream",
     "text": [
      "\n",
      "Train--Epoch [137/400]: 100%|██████████| 375/375 [00:19<00:00, 19.54it/s, acc=65.1, loss=0.607]\n",
      "Valid--Epoch [137/400]: 100%|██████████| 89/89 [00:01<00:00, 48.35it/s, acc=53.6, loss=1.07]"
     ]
    },
    {
     "name": "stdout",
     "output_type": "stream",
     "text": [
      "\n",
      " epoch: 138/400\n"
     ]
    },
    {
     "name": "stderr",
     "output_type": "stream",
     "text": [
      "\n",
      "Train--Epoch [138/400]: 100%|██████████| 375/375 [00:19<00:00, 19.49it/s, acc=65.1, loss=0.607]\n",
      "Valid--Epoch [138/400]: 100%|██████████| 89/89 [00:01<00:00, 47.39it/s, acc=53.7, loss=1.1] "
     ]
    },
    {
     "name": "stdout",
     "output_type": "stream",
     "text": [
      "\n",
      " epoch: 139/400\n"
     ]
    },
    {
     "name": "stderr",
     "output_type": "stream",
     "text": [
      "\n",
      "Train--Epoch [139/400]: 100%|██████████| 375/375 [00:18<00:00, 19.85it/s, acc=65.4, loss=0.605]\n",
      "Valid--Epoch [139/400]: 100%|██████████| 89/89 [00:01<00:00, 45.50it/s, acc=53.7, loss=1.09]"
     ]
    },
    {
     "name": "stdout",
     "output_type": "stream",
     "text": [
      "\n",
      " epoch: 140/400\n"
     ]
    },
    {
     "name": "stderr",
     "output_type": "stream",
     "text": [
      "\n",
      "Train--Epoch [140/400]: 100%|██████████| 375/375 [00:18<00:00, 19.77it/s, acc=65.2, loss=0.606]\n",
      "Valid--Epoch [140/400]: 100%|██████████| 89/89 [00:01<00:00, 47.13it/s, acc=53.6, loss=1.13]"
     ]
    },
    {
     "name": "stdout",
     "output_type": "stream",
     "text": [
      "\n",
      " epoch: 141/400\n"
     ]
    },
    {
     "name": "stderr",
     "output_type": "stream",
     "text": [
      "\n",
      "Train--Epoch [141/400]: 100%|██████████| 375/375 [00:18<00:00, 19.75it/s, acc=65.5, loss=0.604]\n",
      "Valid--Epoch [141/400]: 100%|██████████| 89/89 [00:01<00:00, 48.23it/s, acc=53.7, loss=1.12]"
     ]
    },
    {
     "name": "stdout",
     "output_type": "stream",
     "text": [
      "\n",
      " epoch: 142/400\n"
     ]
    },
    {
     "name": "stderr",
     "output_type": "stream",
     "text": [
      "\n",
      "Train--Epoch [142/400]: 100%|██████████| 375/375 [00:18<00:00, 19.77it/s, acc=65.3, loss=0.605]\n",
      "Valid--Epoch [142/400]: 100%|██████████| 89/89 [00:01<00:00, 47.94it/s, acc=53.7, loss=1.12]\n"
     ]
    },
    {
     "name": "stdout",
     "output_type": "stream",
     "text": [
      "\n",
      " epoch: 143/400\n"
     ]
    },
    {
     "name": "stderr",
     "output_type": "stream",
     "text": [
      "Train--Epoch [143/400]: 100%|██████████| 375/375 [00:18<00:00, 19.78it/s, acc=65.2, loss=0.605]\n",
      "Valid--Epoch [143/400]: 100%|██████████| 89/89 [00:01<00:00, 48.16it/s, acc=53.7, loss=1.13]\n"
     ]
    },
    {
     "name": "stdout",
     "output_type": "stream",
     "text": [
      "\n",
      " epoch: 144/400\n"
     ]
    },
    {
     "name": "stderr",
     "output_type": "stream",
     "text": [
      "Train--Epoch [144/400]: 100%|██████████| 375/375 [00:19<00:00, 19.69it/s, acc=65.6, loss=0.604]\n",
      "Valid--Epoch [144/400]: 100%|██████████| 89/89 [00:01<00:00, 48.45it/s, acc=53.7, loss=1.13]"
     ]
    },
    {
     "name": "stdout",
     "output_type": "stream",
     "text": [
      "\n",
      " epoch: 145/400\n"
     ]
    },
    {
     "name": "stderr",
     "output_type": "stream",
     "text": [
      "\n",
      "Train--Epoch [145/400]: 100%|██████████| 375/375 [00:18<00:00, 19.78it/s, acc=65.4, loss=0.604]\n",
      "Valid--Epoch [145/400]: 100%|██████████| 89/89 [00:01<00:00, 47.57it/s, acc=53.7, loss=1.1] "
     ]
    },
    {
     "name": "stdout",
     "output_type": "stream",
     "text": [
      "\n",
      " epoch: 146/400\n"
     ]
    },
    {
     "name": "stderr",
     "output_type": "stream",
     "text": [
      "\n",
      "Train--Epoch [146/400]: 100%|██████████| 375/375 [00:18<00:00, 19.80it/s, acc=65.6, loss=0.603]\n",
      "Valid--Epoch [146/400]: 100%|██████████| 89/89 [00:01<00:00, 48.24it/s, acc=53.4, loss=1.16]"
     ]
    },
    {
     "name": "stdout",
     "output_type": "stream",
     "text": [
      "\n",
      " epoch: 147/400\n"
     ]
    },
    {
     "name": "stderr",
     "output_type": "stream",
     "text": [
      "\n",
      "Train--Epoch [147/400]: 100%|██████████| 375/375 [00:19<00:00, 19.70it/s, acc=65.6, loss=0.603]\n",
      "Valid--Epoch [147/400]: 100%|██████████| 89/89 [00:01<00:00, 48.78it/s, acc=53.8, loss=1.12]"
     ]
    },
    {
     "name": "stdout",
     "output_type": "stream",
     "text": [
      "\n",
      " epoch: 148/400\n"
     ]
    },
    {
     "name": "stderr",
     "output_type": "stream",
     "text": [
      "\n",
      "Train--Epoch [148/400]: 100%|██████████| 375/375 [00:19<00:00, 19.66it/s, acc=65.7, loss=0.603]\n",
      "Valid--Epoch [148/400]: 100%|██████████| 89/89 [00:01<00:00, 45.78it/s, acc=53.8, loss=1.11]"
     ]
    },
    {
     "name": "stdout",
     "output_type": "stream",
     "text": [
      "\n",
      " epoch: 149/400\n"
     ]
    },
    {
     "name": "stderr",
     "output_type": "stream",
     "text": [
      "\n",
      "Train--Epoch [149/400]: 100%|██████████| 375/375 [00:18<00:00, 19.76it/s, acc=65.6, loss=0.604]\n",
      "Valid--Epoch [149/400]: 100%|██████████| 89/89 [00:01<00:00, 48.41it/s, acc=53.8, loss=1.12]"
     ]
    },
    {
     "name": "stdout",
     "output_type": "stream",
     "text": [
      "\n",
      " epoch: 150/400\n"
     ]
    },
    {
     "name": "stderr",
     "output_type": "stream",
     "text": [
      "\n",
      "Train--Epoch [150/400]: 100%|██████████| 375/375 [00:19<00:00, 19.57it/s, acc=65.4, loss=0.603]\n",
      "Valid--Epoch [150/400]: 100%|██████████| 89/89 [00:01<00:00, 47.32it/s, acc=53.8, loss=1.12]"
     ]
    },
    {
     "name": "stdout",
     "output_type": "stream",
     "text": [
      "\n",
      " epoch: 151/400\n"
     ]
    },
    {
     "name": "stderr",
     "output_type": "stream",
     "text": [
      "\n",
      "Train--Epoch [151/400]: 100%|██████████| 375/375 [00:18<00:00, 19.82it/s, acc=65.8, loss=0.602]\n",
      "Valid--Epoch [151/400]: 100%|██████████| 89/89 [00:01<00:00, 47.69it/s, acc=53.7, loss=1.13]"
     ]
    },
    {
     "name": "stdout",
     "output_type": "stream",
     "text": [
      "\n",
      " epoch: 152/400\n"
     ]
    },
    {
     "name": "stderr",
     "output_type": "stream",
     "text": [
      "\n",
      "Train--Epoch [152/400]: 100%|██████████| 375/375 [00:18<00:00, 19.79it/s, acc=65.8, loss=0.601]\n",
      "Valid--Epoch [152/400]: 100%|██████████| 89/89 [00:01<00:00, 48.33it/s, acc=53.7, loss=1.15]"
     ]
    },
    {
     "name": "stdout",
     "output_type": "stream",
     "text": [
      "\n",
      " epoch: 153/400\n"
     ]
    },
    {
     "name": "stderr",
     "output_type": "stream",
     "text": [
      "\n",
      "Train--Epoch [153/400]: 100%|██████████| 375/375 [00:19<00:00, 19.61it/s, acc=65.7, loss=0.602]\n",
      "Valid--Epoch [153/400]: 100%|██████████| 89/89 [00:01<00:00, 47.85it/s, acc=53.8, loss=1.13]"
     ]
    },
    {
     "name": "stdout",
     "output_type": "stream",
     "text": [
      "\n",
      " epoch: 154/400\n"
     ]
    },
    {
     "name": "stderr",
     "output_type": "stream",
     "text": [
      "\n",
      "Train--Epoch [154/400]: 100%|██████████| 375/375 [00:18<00:00, 19.74it/s, acc=65.8, loss=0.6]  \n",
      "Valid--Epoch [154/400]: 100%|██████████| 89/89 [00:01<00:00, 47.45it/s, acc=53.9, loss=1.14]"
     ]
    },
    {
     "name": "stdout",
     "output_type": "stream",
     "text": [
      "\n",
      " epoch: 155/400\n"
     ]
    },
    {
     "name": "stderr",
     "output_type": "stream",
     "text": [
      "\n",
      "Train--Epoch [155/400]: 100%|██████████| 375/375 [00:18<00:00, 19.75it/s, acc=65.8, loss=0.6]  \n",
      "Valid--Epoch [155/400]: 100%|██████████| 89/89 [00:01<00:00, 47.86it/s, acc=53.8, loss=1.16]"
     ]
    },
    {
     "name": "stdout",
     "output_type": "stream",
     "text": [
      "\n",
      " epoch: 156/400\n"
     ]
    },
    {
     "name": "stderr",
     "output_type": "stream",
     "text": [
      "\n",
      "Train--Epoch [156/400]: 100%|██████████| 375/375 [00:19<00:00, 19.62it/s, acc=66, loss=0.599]  \n",
      "Valid--Epoch [156/400]: 100%|██████████| 89/89 [00:01<00:00, 46.29it/s, acc=53.9, loss=1.15]"
     ]
    },
    {
     "name": "stdout",
     "output_type": "stream",
     "text": [
      "\n",
      " epoch: 157/400\n"
     ]
    },
    {
     "name": "stderr",
     "output_type": "stream",
     "text": [
      "\n",
      "Train--Epoch [157/400]: 100%|██████████| 375/375 [00:19<00:00, 19.62it/s, acc=66, loss=0.599]  \n",
      "Valid--Epoch [157/400]: 100%|██████████| 89/89 [00:01<00:00, 48.07it/s, acc=54, loss=1.15]  "
     ]
    },
    {
     "name": "stdout",
     "output_type": "stream",
     "text": [
      "\n",
      " epoch: 158/400\n"
     ]
    },
    {
     "name": "stderr",
     "output_type": "stream",
     "text": [
      "\n",
      "Train--Epoch [158/400]: 100%|██████████| 375/375 [00:19<00:00, 19.35it/s, acc=65.8, loss=0.598]\n",
      "Valid--Epoch [158/400]: 100%|██████████| 89/89 [00:01<00:00, 47.60it/s, acc=54, loss=1.16]  "
     ]
    },
    {
     "name": "stdout",
     "output_type": "stream",
     "text": [
      "\n",
      " epoch: 159/400\n"
     ]
    },
    {
     "name": "stderr",
     "output_type": "stream",
     "text": [
      "\n",
      "Train--Epoch [159/400]: 100%|██████████| 375/375 [00:19<00:00, 19.72it/s, acc=66.1, loss=0.599]\n",
      "Valid--Epoch [159/400]: 100%|██████████| 89/89 [00:01<00:00, 46.47it/s, acc=54.1, loss=1.14]"
     ]
    },
    {
     "name": "stdout",
     "output_type": "stream",
     "text": [
      "\n",
      " epoch: 160/400\n"
     ]
    },
    {
     "name": "stderr",
     "output_type": "stream",
     "text": [
      "\n",
      "Train--Epoch [160/400]: 100%|██████████| 375/375 [00:19<00:00, 19.66it/s, acc=66.1, loss=0.598]\n",
      "Valid--Epoch [160/400]: 100%|██████████| 89/89 [00:01<00:00, 48.25it/s, acc=54.2, loss=1.08]"
     ]
    },
    {
     "name": "stdout",
     "output_type": "stream",
     "text": [
      "\n",
      " epoch: 161/400\n"
     ]
    },
    {
     "name": "stderr",
     "output_type": "stream",
     "text": [
      "\n",
      "Train--Epoch [161/400]: 100%|██████████| 375/375 [00:19<00:00, 19.72it/s, acc=66.1, loss=0.599]\n",
      "Valid--Epoch [161/400]: 100%|██████████| 89/89 [00:01<00:00, 47.72it/s, acc=54.1, loss=1.1] "
     ]
    },
    {
     "name": "stdout",
     "output_type": "stream",
     "text": [
      "\n",
      " epoch: 162/400\n"
     ]
    },
    {
     "name": "stderr",
     "output_type": "stream",
     "text": [
      "\n",
      "Train--Epoch [162/400]: 100%|██████████| 375/375 [00:19<00:00, 19.61it/s, acc=66, loss=0.598]  \n",
      "Valid--Epoch [162/400]: 100%|██████████| 89/89 [00:01<00:00, 47.13it/s, acc=54, loss=1.09]  "
     ]
    },
    {
     "name": "stdout",
     "output_type": "stream",
     "text": [
      "\n",
      " epoch: 163/400\n"
     ]
    },
    {
     "name": "stderr",
     "output_type": "stream",
     "text": [
      "\n",
      "Train--Epoch [163/400]: 100%|██████████| 375/375 [00:19<00:00, 19.36it/s, acc=66.3, loss=0.597]\n",
      "Valid--Epoch [163/400]: 100%|██████████| 89/89 [00:01<00:00, 47.02it/s, acc=54.1, loss=1.15]"
     ]
    },
    {
     "name": "stdout",
     "output_type": "stream",
     "text": [
      "\n",
      " epoch: 164/400\n"
     ]
    },
    {
     "name": "stderr",
     "output_type": "stream",
     "text": [
      "\n",
      "Train--Epoch [164/400]: 100%|██████████| 375/375 [00:18<00:00, 19.79it/s, acc=66.1, loss=0.596]\n",
      "Valid--Epoch [164/400]: 100%|██████████| 89/89 [00:01<00:00, 47.85it/s, acc=53.9, loss=1.16]"
     ]
    },
    {
     "name": "stdout",
     "output_type": "stream",
     "text": [
      "\n",
      " epoch: 165/400\n"
     ]
    },
    {
     "name": "stderr",
     "output_type": "stream",
     "text": [
      "\n",
      "Train--Epoch [165/400]: 100%|██████████| 375/375 [00:18<00:00, 19.74it/s, acc=66.2, loss=0.596]\n",
      "Valid--Epoch [165/400]: 100%|██████████| 89/89 [00:01<00:00, 47.80it/s, acc=54.1, loss=1.16]\n"
     ]
    },
    {
     "name": "stdout",
     "output_type": "stream",
     "text": [
      "\n",
      " epoch: 166/400\n"
     ]
    },
    {
     "name": "stderr",
     "output_type": "stream",
     "text": [
      "Train--Epoch [166/400]: 100%|██████████| 375/375 [00:19<00:00, 19.63it/s, acc=66.5, loss=0.595]\n",
      "Valid--Epoch [166/400]: 100%|██████████| 89/89 [00:01<00:00, 48.17it/s, acc=54, loss=1.22]  "
     ]
    },
    {
     "name": "stdout",
     "output_type": "stream",
     "text": [
      "\n",
      " epoch: 167/400\n"
     ]
    },
    {
     "name": "stderr",
     "output_type": "stream",
     "text": [
      "\n",
      "Train--Epoch [167/400]: 100%|██████████| 375/375 [00:18<00:00, 19.74it/s, acc=66.3, loss=0.595]\n",
      "Valid--Epoch [167/400]: 100%|██████████| 89/89 [00:01<00:00, 47.26it/s, acc=54.2, loss=1.18]"
     ]
    },
    {
     "name": "stdout",
     "output_type": "stream",
     "text": [
      "\n",
      " epoch: 168/400\n"
     ]
    },
    {
     "name": "stderr",
     "output_type": "stream",
     "text": [
      "\n",
      "Train--Epoch [168/400]: 100%|██████████| 375/375 [00:19<00:00, 19.69it/s, acc=66.5, loss=0.594]\n",
      "Valid--Epoch [168/400]: 100%|██████████| 89/89 [00:01<00:00, 47.88it/s, acc=54.3, loss=1.14]"
     ]
    },
    {
     "name": "stdout",
     "output_type": "stream",
     "text": [
      "\n",
      " epoch: 169/400\n"
     ]
    },
    {
     "name": "stderr",
     "output_type": "stream",
     "text": [
      "\n",
      "Train--Epoch [169/400]: 100%|██████████| 375/375 [00:19<00:00, 19.53it/s, acc=66.3, loss=0.594]\n",
      "Valid--Epoch [169/400]: 100%|██████████| 89/89 [00:01<00:00, 47.48it/s, acc=53.9, loss=1.21]"
     ]
    },
    {
     "name": "stdout",
     "output_type": "stream",
     "text": [
      "\n",
      " epoch: 170/400\n"
     ]
    },
    {
     "name": "stderr",
     "output_type": "stream",
     "text": [
      "\n",
      "Train--Epoch [170/400]: 100%|██████████| 375/375 [00:19<00:00, 19.58it/s, acc=66.3, loss=0.596]\n",
      "Valid--Epoch [170/400]: 100%|██████████| 89/89 [00:01<00:00, 48.76it/s, acc=54.3, loss=1.14]"
     ]
    },
    {
     "name": "stdout",
     "output_type": "stream",
     "text": [
      "\n",
      " epoch: 171/400\n"
     ]
    },
    {
     "name": "stderr",
     "output_type": "stream",
     "text": [
      "\n",
      "Train--Epoch [171/400]: 100%|██████████| 375/375 [00:19<00:00, 19.69it/s, acc=66.4, loss=0.595]\n",
      "Valid--Epoch [171/400]: 100%|██████████| 89/89 [00:01<00:00, 46.80it/s, acc=54.2, loss=1.16]"
     ]
    },
    {
     "name": "stdout",
     "output_type": "stream",
     "text": [
      "\n",
      " epoch: 172/400\n"
     ]
    },
    {
     "name": "stderr",
     "output_type": "stream",
     "text": [
      "\n",
      "Train--Epoch [172/400]: 100%|██████████| 375/375 [00:19<00:00, 19.73it/s, acc=66.5, loss=0.594]\n",
      "Valid--Epoch [172/400]: 100%|██████████| 89/89 [00:01<00:00, 48.10it/s, acc=54.2, loss=1.16]"
     ]
    },
    {
     "name": "stdout",
     "output_type": "stream",
     "text": [
      "\n",
      " epoch: 173/400\n"
     ]
    },
    {
     "name": "stderr",
     "output_type": "stream",
     "text": [
      "\n",
      "Train--Epoch [173/400]: 100%|██████████| 375/375 [00:19<00:00, 19.54it/s, acc=66.5, loss=0.594]\n",
      "Valid--Epoch [173/400]: 100%|██████████| 89/89 [00:01<00:00, 48.36it/s, acc=54.2, loss=1.16]"
     ]
    },
    {
     "name": "stdout",
     "output_type": "stream",
     "text": [
      "\n",
      " epoch: 174/400\n"
     ]
    },
    {
     "name": "stderr",
     "output_type": "stream",
     "text": [
      "\n",
      "Train--Epoch [174/400]: 100%|██████████| 375/375 [00:19<00:00, 19.71it/s, acc=66.6, loss=0.594]\n",
      "Valid--Epoch [174/400]: 100%|██████████| 89/89 [00:01<00:00, 46.01it/s, acc=54.2, loss=1.2] "
     ]
    },
    {
     "name": "stdout",
     "output_type": "stream",
     "text": [
      "\n",
      " epoch: 175/400\n"
     ]
    },
    {
     "name": "stderr",
     "output_type": "stream",
     "text": [
      "\n",
      "Train--Epoch [175/400]: 100%|██████████| 375/375 [00:19<00:00, 19.65it/s, acc=66.4, loss=0.594]\n",
      "Valid--Epoch [175/400]: 100%|██████████| 89/89 [00:01<00:00, 47.56it/s, acc=54.3, loss=1.19]"
     ]
    },
    {
     "name": "stdout",
     "output_type": "stream",
     "text": [
      "\n",
      " epoch: 176/400\n"
     ]
    },
    {
     "name": "stderr",
     "output_type": "stream",
     "text": [
      "\n",
      "Train--Epoch [176/400]: 100%|██████████| 375/375 [00:19<00:00, 19.53it/s, acc=66.4, loss=0.593]\n",
      "Valid--Epoch [176/400]: 100%|██████████| 89/89 [00:01<00:00, 48.45it/s, acc=54.4, loss=1.16]"
     ]
    },
    {
     "name": "stdout",
     "output_type": "stream",
     "text": [
      "\n",
      " epoch: 177/400\n"
     ]
    },
    {
     "name": "stderr",
     "output_type": "stream",
     "text": [
      "\n",
      "Train--Epoch [177/400]: 100%|██████████| 375/375 [00:18<00:00, 19.76it/s, acc=66.7, loss=0.592]\n",
      "Valid--Epoch [177/400]: 100%|██████████| 89/89 [00:01<00:00, 45.82it/s, acc=54.4, loss=1.16]"
     ]
    },
    {
     "name": "stdout",
     "output_type": "stream",
     "text": [
      "\n",
      " epoch: 178/400\n"
     ]
    },
    {
     "name": "stderr",
     "output_type": "stream",
     "text": [
      "\n",
      "Train--Epoch [178/400]: 100%|██████████| 375/375 [00:18<00:00, 19.80it/s, acc=66.7, loss=0.591]\n",
      "Valid--Epoch [178/400]: 100%|██████████| 89/89 [00:01<00:00, 48.04it/s, acc=54.5, loss=1.16]"
     ]
    },
    {
     "name": "stdout",
     "output_type": "stream",
     "text": [
      "\n",
      " epoch: 179/400\n"
     ]
    },
    {
     "name": "stderr",
     "output_type": "stream",
     "text": [
      "\n",
      "Train--Epoch [179/400]: 100%|██████████| 375/375 [00:19<00:00, 19.30it/s, acc=66.8, loss=0.59] \n",
      "Valid--Epoch [179/400]: 100%|██████████| 89/89 [00:01<00:00, 47.89it/s, acc=54.4, loss=1.18]\n"
     ]
    },
    {
     "name": "stdout",
     "output_type": "stream",
     "text": [
      "\n",
      " epoch: 180/400\n"
     ]
    },
    {
     "name": "stderr",
     "output_type": "stream",
     "text": [
      "Train--Epoch [180/400]: 100%|██████████| 375/375 [00:19<00:00, 19.65it/s, acc=66.7, loss=0.592]\n",
      "Valid--Epoch [180/400]: 100%|██████████| 89/89 [00:01<00:00, 46.05it/s, acc=54.5, loss=1.17]"
     ]
    },
    {
     "name": "stdout",
     "output_type": "stream",
     "text": [
      "\n",
      " epoch: 181/400\n"
     ]
    },
    {
     "name": "stderr",
     "output_type": "stream",
     "text": [
      "\n",
      "Train--Epoch [181/400]: 100%|██████████| 375/375 [00:19<00:00, 19.71it/s, acc=67, loss=0.59]   \n",
      "Valid--Epoch [181/400]: 100%|██████████| 89/89 [00:01<00:00, 48.26it/s, acc=54.4, loss=1.16]"
     ]
    },
    {
     "name": "stdout",
     "output_type": "stream",
     "text": [
      "\n",
      " epoch: 182/400\n"
     ]
    },
    {
     "name": "stderr",
     "output_type": "stream",
     "text": [
      "\n",
      "Train--Epoch [182/400]: 100%|██████████| 375/375 [00:19<00:00, 19.49it/s, acc=66.9, loss=0.59] \n",
      "Valid--Epoch [182/400]: 100%|██████████| 89/89 [00:01<00:00, 48.12it/s, acc=54.8, loss=1.11]"
     ]
    },
    {
     "name": "stdout",
     "output_type": "stream",
     "text": [
      "\n",
      " epoch: 183/400\n"
     ]
    },
    {
     "name": "stderr",
     "output_type": "stream",
     "text": [
      "\n",
      "Train--Epoch [183/400]: 100%|██████████| 375/375 [00:19<00:00, 19.64it/s, acc=66.9, loss=0.589]\n",
      "Valid--Epoch [183/400]: 100%|██████████| 89/89 [00:01<00:00, 48.05it/s, acc=54.7, loss=1.14]"
     ]
    },
    {
     "name": "stdout",
     "output_type": "stream",
     "text": [
      "\n",
      " epoch: 184/400\n"
     ]
    },
    {
     "name": "stderr",
     "output_type": "stream",
     "text": [
      "\n",
      "Train--Epoch [184/400]: 100%|██████████| 375/375 [00:19<00:00, 19.67it/s, acc=67, loss=0.588]  \n",
      "Valid--Epoch [184/400]: 100%|██████████| 89/89 [00:01<00:00, 45.30it/s, acc=54.6, loss=1.17]"
     ]
    },
    {
     "name": "stdout",
     "output_type": "stream",
     "text": [
      "\n",
      " epoch: 185/400\n"
     ]
    },
    {
     "name": "stderr",
     "output_type": "stream",
     "text": [
      "\n",
      "Train--Epoch [185/400]: 100%|██████████| 375/375 [00:19<00:00, 19.52it/s, acc=66.8, loss=0.589]\n",
      "Valid--Epoch [185/400]: 100%|██████████| 89/89 [00:01<00:00, 48.56it/s, acc=54.5, loss=1.2] "
     ]
    },
    {
     "name": "stdout",
     "output_type": "stream",
     "text": [
      "\n",
      " epoch: 186/400\n"
     ]
    },
    {
     "name": "stderr",
     "output_type": "stream",
     "text": [
      "\n",
      "Train--Epoch [186/400]: 100%|██████████| 375/375 [00:19<00:00, 19.55it/s, acc=67.3, loss=0.587]\n",
      "Valid--Epoch [186/400]: 100%|██████████| 89/89 [00:01<00:00, 48.56it/s, acc=54.7, loss=1.14]\n"
     ]
    },
    {
     "name": "stdout",
     "output_type": "stream",
     "text": [
      "\n",
      " epoch: 187/400\n"
     ]
    },
    {
     "name": "stderr",
     "output_type": "stream",
     "text": [
      "Train--Epoch [187/400]: 100%|██████████| 375/375 [00:18<00:00, 19.76it/s, acc=67.1, loss=0.589]\n",
      "Valid--Epoch [187/400]: 100%|██████████| 89/89 [00:01<00:00, 47.21it/s, acc=54.6, loss=1.16]"
     ]
    },
    {
     "name": "stdout",
     "output_type": "stream",
     "text": [
      "\n",
      " epoch: 188/400\n"
     ]
    },
    {
     "name": "stderr",
     "output_type": "stream",
     "text": [
      "\n",
      "Train--Epoch [188/400]: 100%|██████████| 375/375 [00:18<00:00, 19.77it/s, acc=67, loss=0.588]  \n",
      "Valid--Epoch [188/400]: 100%|██████████| 89/89 [00:01<00:00, 48.92it/s, acc=54.7, loss=1.14]"
     ]
    },
    {
     "name": "stdout",
     "output_type": "stream",
     "text": [
      "\n",
      " epoch: 189/400\n"
     ]
    },
    {
     "name": "stderr",
     "output_type": "stream",
     "text": [
      "\n",
      "Train--Epoch [189/400]: 100%|██████████| 375/375 [00:19<00:00, 19.56it/s, acc=67.1, loss=0.588]\n",
      "Valid--Epoch [189/400]: 100%|██████████| 89/89 [00:01<00:00, 48.87it/s, acc=55.1, loss=1.08]"
     ]
    },
    {
     "name": "stdout",
     "output_type": "stream",
     "text": [
      "\n",
      " epoch: 190/400\n"
     ]
    },
    {
     "name": "stderr",
     "output_type": "stream",
     "text": [
      "\n",
      "Train--Epoch [190/400]: 100%|██████████| 375/375 [00:19<00:00, 19.67it/s, acc=67.2, loss=0.587]\n",
      "Valid--Epoch [190/400]: 100%|██████████| 89/89 [00:01<00:00, 47.68it/s, acc=54.9, loss=1.1] "
     ]
    },
    {
     "name": "stdout",
     "output_type": "stream",
     "text": [
      "\n",
      " epoch: 191/400\n"
     ]
    },
    {
     "name": "stderr",
     "output_type": "stream",
     "text": [
      "\n",
      "Train--Epoch [191/400]: 100%|██████████| 375/375 [00:18<00:00, 19.79it/s, acc=67.1, loss=0.587]\n",
      "Valid--Epoch [191/400]: 100%|██████████| 89/89 [00:01<00:00, 48.61it/s, acc=55, loss=1.1]   \n"
     ]
    },
    {
     "name": "stdout",
     "output_type": "stream",
     "text": [
      "\n",
      " epoch: 192/400\n"
     ]
    },
    {
     "name": "stderr",
     "output_type": "stream",
     "text": [
      "Train--Epoch [192/400]: 100%|██████████| 375/375 [00:19<00:00, 19.61it/s, acc=67.3, loss=0.586]\n",
      "Valid--Epoch [192/400]: 100%|██████████| 89/89 [00:01<00:00, 49.66it/s, acc=54.9, loss=1.1] "
     ]
    },
    {
     "name": "stdout",
     "output_type": "stream",
     "text": [
      "\n",
      " epoch: 193/400\n"
     ]
    },
    {
     "name": "stderr",
     "output_type": "stream",
     "text": [
      "\n",
      "Train--Epoch [193/400]: 100%|██████████| 375/375 [00:19<00:00, 19.67it/s, acc=67.4, loss=0.585]\n",
      "Valid--Epoch [193/400]: 100%|██████████| 89/89 [00:01<00:00, 47.06it/s, acc=54.9, loss=1.13]"
     ]
    },
    {
     "name": "stdout",
     "output_type": "stream",
     "text": [
      "\n",
      " epoch: 194/400\n"
     ]
    },
    {
     "name": "stderr",
     "output_type": "stream",
     "text": [
      "\n",
      "Train--Epoch [194/400]: 100%|██████████| 375/375 [00:19<00:00, 19.72it/s, acc=67.4, loss=0.586]\n",
      "Valid--Epoch [194/400]: 100%|██████████| 89/89 [00:01<00:00, 47.52it/s, acc=55.3, loss=1.07]"
     ]
    },
    {
     "name": "stdout",
     "output_type": "stream",
     "text": [
      "\n",
      " epoch: 195/400\n"
     ]
    },
    {
     "name": "stderr",
     "output_type": "stream",
     "text": [
      "\n",
      "Train--Epoch [195/400]: 100%|██████████| 375/375 [00:19<00:00, 19.45it/s, acc=67.5, loss=0.586]\n",
      "Valid--Epoch [195/400]: 100%|██████████| 89/89 [00:01<00:00, 49.31it/s, acc=55.2, loss=1.1] "
     ]
    },
    {
     "name": "stdout",
     "output_type": "stream",
     "text": [
      "\n",
      " epoch: 196/400\n"
     ]
    },
    {
     "name": "stderr",
     "output_type": "stream",
     "text": [
      "\n",
      "Train--Epoch [196/400]: 100%|██████████| 375/375 [00:19<00:00, 19.73it/s, acc=67.2, loss=0.586]\n",
      "Valid--Epoch [196/400]: 100%|██████████| 89/89 [00:01<00:00, 47.56it/s, acc=55.1, loss=1.09]"
     ]
    },
    {
     "name": "stdout",
     "output_type": "stream",
     "text": [
      "\n",
      " epoch: 197/400\n"
     ]
    },
    {
     "name": "stderr",
     "output_type": "stream",
     "text": [
      "\n",
      "Train--Epoch [197/400]: 100%|██████████| 375/375 [00:19<00:00, 19.71it/s, acc=67.4, loss=0.585]\n",
      "Valid--Epoch [197/400]: 100%|██████████| 89/89 [00:02<00:00, 44.31it/s, acc=55.5, loss=1.07]"
     ]
    },
    {
     "name": "stdout",
     "output_type": "stream",
     "text": [
      "\n",
      " epoch: 198/400\n"
     ]
    },
    {
     "name": "stderr",
     "output_type": "stream",
     "text": [
      "\n",
      "Train--Epoch [198/400]: 100%|██████████| 375/375 [00:18<00:00, 19.75it/s, acc=67.7, loss=0.583]\n",
      "Valid--Epoch [198/400]: 100%|██████████| 89/89 [00:01<00:00, 48.16it/s, acc=55.4, loss=1.06]\n"
     ]
    },
    {
     "name": "stdout",
     "output_type": "stream",
     "text": [
      "\n",
      " epoch: 199/400\n"
     ]
    },
    {
     "name": "stderr",
     "output_type": "stream",
     "text": [
      "Train--Epoch [199/400]: 100%|██████████| 375/375 [00:19<00:00, 19.67it/s, acc=67.6, loss=0.583]\n",
      "Valid--Epoch [199/400]: 100%|██████████| 89/89 [00:01<00:00, 47.89it/s, acc=55.7, loss=1.05]"
     ]
    },
    {
     "name": "stdout",
     "output_type": "stream",
     "text": [
      "\n",
      " epoch: 200/400\n"
     ]
    },
    {
     "name": "stderr",
     "output_type": "stream",
     "text": [
      "\n",
      "Train--Epoch [200/400]: 100%|██████████| 375/375 [00:19<00:00, 19.48it/s, acc=67.6, loss=0.582]\n",
      "Valid--Epoch [200/400]: 100%|██████████| 89/89 [00:02<00:00, 43.94it/s, acc=55.4, loss=1.08]"
     ]
    },
    {
     "name": "stdout",
     "output_type": "stream",
     "text": [
      "\n",
      " epoch: 201/400\n"
     ]
    },
    {
     "name": "stderr",
     "output_type": "stream",
     "text": [
      "\n",
      "Train--Epoch [201/400]: 100%|██████████| 375/375 [00:19<00:00, 19.67it/s, acc=67.6, loss=0.583]\n",
      "Valid--Epoch [201/400]: 100%|██████████| 89/89 [00:01<00:00, 48.00it/s, acc=55.7, loss=1.02]"
     ]
    },
    {
     "name": "stdout",
     "output_type": "stream",
     "text": [
      "\n",
      " epoch: 202/400\n"
     ]
    },
    {
     "name": "stderr",
     "output_type": "stream",
     "text": [
      "\n",
      "Train--Epoch [202/400]: 100%|██████████| 375/375 [00:19<00:00, 19.57it/s, acc=67.9, loss=0.581]\n",
      "Valid--Epoch [202/400]: 100%|██████████| 89/89 [00:01<00:00, 48.29it/s, acc=55.7, loss=1.04]"
     ]
    },
    {
     "name": "stdout",
     "output_type": "stream",
     "text": [
      "\n",
      " epoch: 203/400\n"
     ]
    },
    {
     "name": "stderr",
     "output_type": "stream",
     "text": [
      "\n",
      "Train--Epoch [203/400]: 100%|██████████| 375/375 [00:18<00:00, 19.74it/s, acc=67.6, loss=0.582]\n",
      "Valid--Epoch [203/400]: 100%|██████████| 89/89 [00:01<00:00, 47.69it/s, acc=56, loss=1]     "
     ]
    },
    {
     "name": "stdout",
     "output_type": "stream",
     "text": [
      "\n",
      " epoch: 204/400\n"
     ]
    },
    {
     "name": "stderr",
     "output_type": "stream",
     "text": [
      "\n",
      "Train--Epoch [204/400]: 100%|██████████| 375/375 [00:19<00:00, 19.71it/s, acc=67.9, loss=0.582]\n",
      "Valid--Epoch [204/400]: 100%|██████████| 89/89 [00:01<00:00, 47.77it/s, acc=56.3, loss=1.01]\n"
     ]
    },
    {
     "name": "stdout",
     "output_type": "stream",
     "text": [
      "Saving..\n",
      "\n",
      " epoch: 205/400\n"
     ]
    },
    {
     "name": "stderr",
     "output_type": "stream",
     "text": [
      "Train--Epoch [205/400]: 100%|██████████| 375/375 [00:19<00:00, 19.62it/s, acc=67.9, loss=0.582]\n",
      "Valid--Epoch [205/400]: 100%|██████████| 89/89 [00:01<00:00, 48.56it/s, acc=56.1, loss=1.02]"
     ]
    },
    {
     "name": "stdout",
     "output_type": "stream",
     "text": [
      "\n",
      " epoch: 206/400\n"
     ]
    },
    {
     "name": "stderr",
     "output_type": "stream",
     "text": [
      "\n",
      "Train--Epoch [206/400]: 100%|██████████| 375/375 [00:18<00:00, 19.76it/s, acc=68, loss=0.58]   \n",
      "Valid--Epoch [206/400]: 100%|██████████| 89/89 [00:01<00:00, 46.08it/s, acc=56.6, loss=0.979]\n"
     ]
    },
    {
     "name": "stdout",
     "output_type": "stream",
     "text": [
      "Saving..\n",
      "\n",
      " epoch: 207/400\n"
     ]
    },
    {
     "name": "stderr",
     "output_type": "stream",
     "text": [
      "Train--Epoch [207/400]: 100%|██████████| 375/375 [00:18<00:00, 19.74it/s, acc=68, loss=0.58]   \n",
      "Valid--Epoch [207/400]: 100%|██████████| 89/89 [00:01<00:00, 48.62it/s, acc=55.8, loss=1.04]"
     ]
    },
    {
     "name": "stdout",
     "output_type": "stream",
     "text": [
      "\n",
      " epoch: 208/400\n"
     ]
    },
    {
     "name": "stderr",
     "output_type": "stream",
     "text": [
      "\n",
      "Train--Epoch [208/400]: 100%|██████████| 375/375 [00:19<00:00, 19.64it/s, acc=68, loss=0.58]   \n",
      "Valid--Epoch [208/400]: 100%|██████████| 89/89 [00:01<00:00, 46.82it/s, acc=55.8, loss=1.04]"
     ]
    },
    {
     "name": "stdout",
     "output_type": "stream",
     "text": [
      "\n",
      " epoch: 209/400\n"
     ]
    },
    {
     "name": "stderr",
     "output_type": "stream",
     "text": [
      "\n",
      "Train--Epoch [209/400]: 100%|██████████| 375/375 [00:19<00:00, 19.66it/s, acc=68, loss=0.58]   \n",
      "Valid--Epoch [209/400]: 100%|██████████| 89/89 [00:01<00:00, 47.99it/s, acc=56.4, loss=0.995]"
     ]
    },
    {
     "name": "stdout",
     "output_type": "stream",
     "text": [
      "\n",
      " epoch: 210/400\n"
     ]
    },
    {
     "name": "stderr",
     "output_type": "stream",
     "text": [
      "\n",
      "Train--Epoch [210/400]: 100%|██████████| 375/375 [00:19<00:00, 19.67it/s, acc=68.2, loss=0.578]\n",
      "Valid--Epoch [210/400]: 100%|██████████| 89/89 [00:01<00:00, 48.20it/s, acc=56.2, loss=1.03]\n"
     ]
    },
    {
     "name": "stdout",
     "output_type": "stream",
     "text": [
      "\n",
      " epoch: 211/400\n"
     ]
    },
    {
     "name": "stderr",
     "output_type": "stream",
     "text": [
      "Train--Epoch [211/400]: 100%|██████████| 375/375 [00:19<00:00, 19.71it/s, acc=68.3, loss=0.577]\n",
      "Valid--Epoch [211/400]: 100%|██████████| 89/89 [00:01<00:00, 48.83it/s, acc=56.8, loss=0.987]\n"
     ]
    },
    {
     "name": "stdout",
     "output_type": "stream",
     "text": [
      "Saving..\n",
      "\n",
      " epoch: 212/400\n"
     ]
    },
    {
     "name": "stderr",
     "output_type": "stream",
     "text": [
      "Train--Epoch [212/400]: 100%|██████████| 375/375 [00:18<00:00, 19.75it/s, acc=68, loss=0.578]  \n",
      "Valid--Epoch [212/400]: 100%|██████████| 89/89 [00:01<00:00, 47.57it/s, acc=56.7, loss=0.99] "
     ]
    },
    {
     "name": "stdout",
     "output_type": "stream",
     "text": [
      "\n",
      " epoch: 213/400\n"
     ]
    },
    {
     "name": "stderr",
     "output_type": "stream",
     "text": [
      "\n",
      "Train--Epoch [213/400]: 100%|██████████| 375/375 [00:18<00:00, 19.82it/s, acc=68.3, loss=0.579]\n",
      "Valid--Epoch [213/400]: 100%|██████████| 89/89 [00:01<00:00, 47.86it/s, acc=57.5, loss=0.939]\n"
     ]
    },
    {
     "name": "stdout",
     "output_type": "stream",
     "text": [
      "Saving..\n",
      "\n",
      " epoch: 214/400\n"
     ]
    },
    {
     "name": "stderr",
     "output_type": "stream",
     "text": [
      "Train--Epoch [214/400]: 100%|██████████| 375/375 [00:18<00:00, 19.74it/s, acc=68.4, loss=0.577]\n",
      "Valid--Epoch [214/400]: 100%|██████████| 89/89 [00:01<00:00, 47.71it/s, acc=57.3, loss=0.976]"
     ]
    },
    {
     "name": "stdout",
     "output_type": "stream",
     "text": [
      "\n",
      " epoch: 215/400\n"
     ]
    },
    {
     "name": "stderr",
     "output_type": "stream",
     "text": [
      "\n",
      "Train--Epoch [215/400]: 100%|██████████| 375/375 [00:19<00:00, 19.69it/s, acc=68.2, loss=0.579]\n",
      "Valid--Epoch [215/400]: 100%|██████████| 89/89 [00:01<00:00, 47.18it/s, acc=57.6, loss=0.957]\n"
     ]
    },
    {
     "name": "stdout",
     "output_type": "stream",
     "text": [
      "Saving..\n",
      "\n",
      " epoch: 216/400\n"
     ]
    },
    {
     "name": "stderr",
     "output_type": "stream",
     "text": [
      "Train--Epoch [216/400]: 100%|██████████| 375/375 [00:19<00:00, 19.73it/s, acc=68.2, loss=0.577]\n",
      "Valid--Epoch [216/400]: 100%|██████████| 89/89 [00:01<00:00, 48.15it/s, acc=57.3, loss=0.954]\n"
     ]
    },
    {
     "name": "stdout",
     "output_type": "stream",
     "text": [
      "\n",
      " epoch: 217/400\n"
     ]
    },
    {
     "name": "stderr",
     "output_type": "stream",
     "text": [
      "Train--Epoch [217/400]: 100%|██████████| 375/375 [00:19<00:00, 19.68it/s, acc=68.3, loss=0.577]\n",
      "Valid--Epoch [217/400]: 100%|██████████| 89/89 [00:01<00:00, 47.86it/s, acc=57.3, loss=0.978]"
     ]
    },
    {
     "name": "stdout",
     "output_type": "stream",
     "text": [
      "\n",
      " epoch: 218/400\n"
     ]
    },
    {
     "name": "stderr",
     "output_type": "stream",
     "text": [
      "\n",
      "Train--Epoch [218/400]: 100%|██████████| 375/375 [00:19<00:00, 19.69it/s, acc=68.6, loss=0.575]\n",
      "Valid--Epoch [218/400]: 100%|██████████| 89/89 [00:01<00:00, 46.95it/s, acc=57.3, loss=0.949]"
     ]
    },
    {
     "name": "stdout",
     "output_type": "stream",
     "text": [
      "\n",
      " epoch: 219/400\n"
     ]
    },
    {
     "name": "stderr",
     "output_type": "stream",
     "text": [
      "\n",
      "Train--Epoch [219/400]: 100%|██████████| 375/375 [00:19<00:00, 19.71it/s, acc=68.5, loss=0.576]\n",
      "Valid--Epoch [219/400]: 100%|██████████| 89/89 [00:01<00:00, 47.89it/s, acc=56.9, loss=0.988]"
     ]
    },
    {
     "name": "stdout",
     "output_type": "stream",
     "text": [
      "\n",
      " epoch: 220/400\n"
     ]
    },
    {
     "name": "stderr",
     "output_type": "stream",
     "text": [
      "\n",
      "Train--Epoch [220/400]: 100%|██████████| 375/375 [00:19<00:00, 19.67it/s, acc=68.5, loss=0.575]\n",
      "Valid--Epoch [220/400]: 100%|██████████| 89/89 [00:01<00:00, 47.99it/s, acc=57.5, loss=0.937]\n"
     ]
    },
    {
     "name": "stdout",
     "output_type": "stream",
     "text": [
      "\n",
      " epoch: 221/400\n"
     ]
    },
    {
     "name": "stderr",
     "output_type": "stream",
     "text": [
      "Train--Epoch [221/400]: 100%|██████████| 375/375 [00:19<00:00, 19.58it/s, acc=68.5, loss=0.574]\n",
      "Valid--Epoch [221/400]: 100%|██████████| 89/89 [00:01<00:00, 47.13it/s, acc=57.8, loss=0.932]\n"
     ]
    },
    {
     "name": "stdout",
     "output_type": "stream",
     "text": [
      "Saving..\n",
      "\n",
      " epoch: 222/400\n"
     ]
    },
    {
     "name": "stderr",
     "output_type": "stream",
     "text": [
      "Train--Epoch [222/400]: 100%|██████████| 375/375 [00:19<00:00, 19.69it/s, acc=68.6, loss=0.574]\n",
      "Valid--Epoch [222/400]: 100%|██████████| 89/89 [00:01<00:00, 47.09it/s, acc=58.1, loss=0.907]\n"
     ]
    },
    {
     "name": "stdout",
     "output_type": "stream",
     "text": [
      "Saving..\n",
      "\n",
      " epoch: 223/400\n"
     ]
    },
    {
     "name": "stderr",
     "output_type": "stream",
     "text": [
      "Train--Epoch [223/400]: 100%|██████████| 375/375 [00:18<00:00, 19.74it/s, acc=68.6, loss=0.574]\n",
      "Valid--Epoch [223/400]: 100%|██████████| 89/89 [00:01<00:00, 48.44it/s, acc=57.8, loss=0.924]"
     ]
    },
    {
     "name": "stdout",
     "output_type": "stream",
     "text": [
      "\n",
      " epoch: 224/400\n"
     ]
    },
    {
     "name": "stderr",
     "output_type": "stream",
     "text": [
      "\n",
      "Train--Epoch [224/400]: 100%|██████████| 375/375 [00:18<00:00, 19.75it/s, acc=68.9, loss=0.572]\n",
      "Valid--Epoch [224/400]: 100%|██████████| 89/89 [00:01<00:00, 47.14it/s, acc=59.3, loss=0.873]\n"
     ]
    },
    {
     "name": "stdout",
     "output_type": "stream",
     "text": [
      "Saving..\n",
      "\n",
      " epoch: 225/400\n"
     ]
    },
    {
     "name": "stderr",
     "output_type": "stream",
     "text": [
      "Train--Epoch [225/400]: 100%|██████████| 375/375 [00:18<00:00, 19.75it/s, acc=68.8, loss=0.573]\n",
      "Valid--Epoch [225/400]: 100%|██████████| 89/89 [00:01<00:00, 48.52it/s, acc=59.7, loss=0.881]\n"
     ]
    },
    {
     "name": "stdout",
     "output_type": "stream",
     "text": [
      "Saving..\n",
      "\n",
      " epoch: 226/400\n"
     ]
    },
    {
     "name": "stderr",
     "output_type": "stream",
     "text": [
      "Train--Epoch [226/400]: 100%|██████████| 375/375 [00:19<00:00, 19.70it/s, acc=68.6, loss=0.575]\n",
      "Valid--Epoch [226/400]: 100%|██████████| 89/89 [00:01<00:00, 48.36it/s, acc=59.1, loss=0.879]"
     ]
    },
    {
     "name": "stdout",
     "output_type": "stream",
     "text": [
      "\n",
      " epoch: 227/400\n"
     ]
    },
    {
     "name": "stderr",
     "output_type": "stream",
     "text": [
      "\n",
      "Train--Epoch [227/400]: 100%|██████████| 375/375 [00:18<00:00, 19.78it/s, acc=68.7, loss=0.574]\n",
      "Valid--Epoch [227/400]: 100%|██████████| 89/89 [00:01<00:00, 47.82it/s, acc=59.9, loss=0.883]\n"
     ]
    },
    {
     "name": "stdout",
     "output_type": "stream",
     "text": [
      "Saving..\n",
      "\n",
      " epoch: 228/400\n"
     ]
    },
    {
     "name": "stderr",
     "output_type": "stream",
     "text": [
      "Train--Epoch [228/400]: 100%|██████████| 375/375 [00:19<00:00, 19.41it/s, acc=68.9, loss=0.57] \n",
      "Valid--Epoch [228/400]: 100%|██████████| 89/89 [00:01<00:00, 47.48it/s, acc=60.6, loss=0.825]\n"
     ]
    },
    {
     "name": "stdout",
     "output_type": "stream",
     "text": [
      "Saving..\n",
      "\n",
      " epoch: 229/400\n"
     ]
    },
    {
     "name": "stderr",
     "output_type": "stream",
     "text": [
      "Train--Epoch [229/400]: 100%|██████████| 375/375 [00:19<00:00, 19.72it/s, acc=68.9, loss=0.571]\n",
      "Valid--Epoch [229/400]: 100%|██████████| 89/89 [00:01<00:00, 47.64it/s, acc=59.9, loss=0.864]"
     ]
    },
    {
     "name": "stdout",
     "output_type": "stream",
     "text": [
      "\n",
      " epoch: 230/400\n"
     ]
    },
    {
     "name": "stderr",
     "output_type": "stream",
     "text": [
      "\n",
      "Train--Epoch [230/400]: 100%|██████████| 375/375 [00:18<00:00, 19.74it/s, acc=68.8, loss=0.571]\n",
      "Valid--Epoch [230/400]: 100%|██████████| 89/89 [00:01<00:00, 48.35it/s, acc=59.9, loss=0.873]"
     ]
    },
    {
     "name": "stdout",
     "output_type": "stream",
     "text": [
      "\n",
      " epoch: 231/400\n"
     ]
    },
    {
     "name": "stderr",
     "output_type": "stream",
     "text": [
      "\n",
      "Train--Epoch [231/400]: 100%|██████████| 375/375 [00:18<00:00, 19.78it/s, acc=69, loss=0.571]  \n",
      "Valid--Epoch [231/400]: 100%|██████████| 89/89 [00:01<00:00, 48.49it/s, acc=60.6, loss=0.842]\n"
     ]
    },
    {
     "name": "stdout",
     "output_type": "stream",
     "text": [
      "\n",
      " epoch: 232/400\n"
     ]
    },
    {
     "name": "stderr",
     "output_type": "stream",
     "text": [
      "Train--Epoch [232/400]: 100%|██████████| 375/375 [00:19<00:00, 19.63it/s, acc=69.1, loss=0.569]\n",
      "Valid--Epoch [232/400]: 100%|██████████| 89/89 [00:01<00:00, 46.90it/s, acc=58.9, loss=0.899]"
     ]
    },
    {
     "name": "stdout",
     "output_type": "stream",
     "text": [
      "\n",
      " epoch: 233/400\n"
     ]
    },
    {
     "name": "stderr",
     "output_type": "stream",
     "text": [
      "\n",
      "Train--Epoch [233/400]: 100%|██████████| 375/375 [00:19<00:00, 19.69it/s, acc=69, loss=0.57]   \n",
      "Valid--Epoch [233/400]: 100%|██████████| 89/89 [00:01<00:00, 46.73it/s, acc=60.7, loss=0.834]\n"
     ]
    },
    {
     "name": "stdout",
     "output_type": "stream",
     "text": [
      "Saving..\n",
      "\n",
      " epoch: 234/400\n"
     ]
    },
    {
     "name": "stderr",
     "output_type": "stream",
     "text": [
      "Train--Epoch [234/400]: 100%|██████████| 375/375 [00:19<00:00, 19.64it/s, acc=69.3, loss=0.569]\n",
      "Valid--Epoch [234/400]: 100%|██████████| 89/89 [00:01<00:00, 46.46it/s, acc=60.6, loss=0.85] "
     ]
    },
    {
     "name": "stdout",
     "output_type": "stream",
     "text": [
      "\n",
      " epoch: 235/400\n"
     ]
    },
    {
     "name": "stderr",
     "output_type": "stream",
     "text": [
      "\n",
      "Train--Epoch [235/400]: 100%|██████████| 375/375 [00:18<00:00, 19.80it/s, acc=69.2, loss=0.57] \n",
      "Valid--Epoch [235/400]: 100%|██████████| 89/89 [00:01<00:00, 48.79it/s, acc=61.2, loss=0.825]\n"
     ]
    },
    {
     "name": "stdout",
     "output_type": "stream",
     "text": [
      "Saving..\n",
      "\n",
      " epoch: 236/400\n"
     ]
    },
    {
     "name": "stderr",
     "output_type": "stream",
     "text": [
      "Train--Epoch [236/400]: 100%|██████████| 375/375 [00:19<00:00, 19.67it/s, acc=69.2, loss=0.569]\n",
      "Valid--Epoch [236/400]: 100%|██████████| 89/89 [00:01<00:00, 51.48it/s, acc=61.5, loss=0.819]\n"
     ]
    },
    {
     "name": "stdout",
     "output_type": "stream",
     "text": [
      "Saving..\n",
      "\n",
      " epoch: 237/400\n"
     ]
    },
    {
     "name": "stderr",
     "output_type": "stream",
     "text": [
      "Train--Epoch [237/400]: 100%|██████████| 375/375 [00:18<00:00, 20.50it/s, acc=69.2, loss=0.567]\n",
      "Valid--Epoch [237/400]: 100%|██████████| 89/89 [00:01<00:00, 47.89it/s, acc=59.9, loss=0.88] "
     ]
    },
    {
     "name": "stdout",
     "output_type": "stream",
     "text": [
      "\n",
      " epoch: 238/400\n"
     ]
    },
    {
     "name": "stderr",
     "output_type": "stream",
     "text": [
      "\n",
      "Train--Epoch [238/400]: 100%|██████████| 375/375 [00:18<00:00, 20.26it/s, acc=69.4, loss=0.566]\n",
      "Valid--Epoch [238/400]: 100%|██████████| 89/89 [00:01<00:00, 47.75it/s, acc=60.7, loss=0.847]"
     ]
    },
    {
     "name": "stdout",
     "output_type": "stream",
     "text": [
      "\n",
      " epoch: 239/400\n"
     ]
    },
    {
     "name": "stderr",
     "output_type": "stream",
     "text": [
      "\n",
      "Train--Epoch [239/400]: 100%|██████████| 375/375 [00:18<00:00, 20.36it/s, acc=69.2, loss=0.569]\n",
      "Valid--Epoch [239/400]: 100%|██████████| 89/89 [00:01<00:00, 46.24it/s, acc=61.6, loss=0.798]\n"
     ]
    },
    {
     "name": "stdout",
     "output_type": "stream",
     "text": [
      "Saving..\n",
      "\n",
      " epoch: 240/400\n"
     ]
    },
    {
     "name": "stderr",
     "output_type": "stream",
     "text": [
      "Train--Epoch [240/400]: 100%|██████████| 375/375 [00:18<00:00, 20.43it/s, acc=69.4, loss=0.567]\n",
      "Valid--Epoch [240/400]: 100%|██████████| 89/89 [00:01<00:00, 49.62it/s, acc=61.3, loss=0.833]"
     ]
    },
    {
     "name": "stdout",
     "output_type": "stream",
     "text": [
      "\n",
      " epoch: 241/400\n"
     ]
    },
    {
     "name": "stderr",
     "output_type": "stream",
     "text": [
      "\n",
      "Train--Epoch [241/400]: 100%|██████████| 375/375 [00:18<00:00, 20.27it/s, acc=69.5, loss=0.567]\n",
      "Valid--Epoch [241/400]: 100%|██████████| 89/89 [00:01<00:00, 48.67it/s, acc=61.4, loss=0.825]"
     ]
    },
    {
     "name": "stdout",
     "output_type": "stream",
     "text": [
      "\n",
      " epoch: 242/400\n"
     ]
    },
    {
     "name": "stderr",
     "output_type": "stream",
     "text": [
      "\n",
      "Train--Epoch [242/400]: 100%|██████████| 375/375 [00:18<00:00, 20.08it/s, acc=69.7, loss=0.564]\n",
      "Valid--Epoch [242/400]: 100%|██████████| 89/89 [00:01<00:00, 48.58it/s, acc=60.9, loss=0.836]"
     ]
    },
    {
     "name": "stdout",
     "output_type": "stream",
     "text": [
      "\n",
      " epoch: 243/400\n"
     ]
    },
    {
     "name": "stderr",
     "output_type": "stream",
     "text": [
      "\n",
      "Train--Epoch [243/400]: 100%|██████████| 375/375 [00:18<00:00, 20.32it/s, acc=69.5, loss=0.566]\n",
      "Valid--Epoch [243/400]: 100%|██████████| 89/89 [00:01<00:00, 49.82it/s, acc=61.8, loss=0.807]\n"
     ]
    },
    {
     "name": "stdout",
     "output_type": "stream",
     "text": [
      "Saving..\n",
      "\n",
      " epoch: 244/400\n"
     ]
    },
    {
     "name": "stderr",
     "output_type": "stream",
     "text": [
      "Train--Epoch [244/400]: 100%|██████████| 375/375 [00:18<00:00, 20.11it/s, acc=69.6, loss=0.565]\n",
      "Valid--Epoch [244/400]: 100%|██████████| 89/89 [00:01<00:00, 49.77it/s, acc=62.1, loss=0.797]\n"
     ]
    },
    {
     "name": "stdout",
     "output_type": "stream",
     "text": [
      "Saving..\n",
      "\n",
      " epoch: 245/400\n"
     ]
    },
    {
     "name": "stderr",
     "output_type": "stream",
     "text": [
      "Train--Epoch [245/400]: 100%|██████████| 375/375 [00:18<00:00, 20.35it/s, acc=69.8, loss=0.564]\n",
      "Valid--Epoch [245/400]: 100%|██████████| 89/89 [00:01<00:00, 48.77it/s, acc=61.4, loss=0.817]"
     ]
    },
    {
     "name": "stdout",
     "output_type": "stream",
     "text": [
      "\n",
      " epoch: 246/400\n"
     ]
    },
    {
     "name": "stderr",
     "output_type": "stream",
     "text": [
      "\n",
      "Train--Epoch [246/400]: 100%|██████████| 375/375 [00:18<00:00, 20.44it/s, acc=69.7, loss=0.564]\n",
      "Valid--Epoch [246/400]: 100%|██████████| 89/89 [00:01<00:00, 48.85it/s, acc=62.1, loss=0.8]  \n"
     ]
    },
    {
     "name": "stdout",
     "output_type": "stream",
     "text": [
      "Saving..\n",
      "\n",
      " epoch: 247/400\n"
     ]
    },
    {
     "name": "stderr",
     "output_type": "stream",
     "text": [
      "Train--Epoch [247/400]: 100%|██████████| 375/375 [00:18<00:00, 20.16it/s, acc=69.7, loss=0.564]\n",
      "Valid--Epoch [247/400]: 100%|██████████| 89/89 [00:01<00:00, 49.45it/s, acc=62.6, loss=0.789]\n"
     ]
    },
    {
     "name": "stdout",
     "output_type": "stream",
     "text": [
      "Saving..\n",
      "\n",
      " epoch: 248/400\n"
     ]
    },
    {
     "name": "stderr",
     "output_type": "stream",
     "text": [
      "Train--Epoch [248/400]: 100%|██████████| 375/375 [00:18<00:00, 20.38it/s, acc=69.7, loss=0.565]\n",
      "Valid--Epoch [248/400]: 100%|██████████| 89/89 [00:01<00:00, 49.15it/s, acc=62.8, loss=0.78] \n"
     ]
    },
    {
     "name": "stdout",
     "output_type": "stream",
     "text": [
      "Saving..\n",
      "\n",
      " epoch: 249/400\n"
     ]
    },
    {
     "name": "stderr",
     "output_type": "stream",
     "text": [
      "Train--Epoch [249/400]: 100%|██████████| 375/375 [00:18<00:00, 20.43it/s, acc=69.8, loss=0.564]\n",
      "Valid--Epoch [249/400]: 100%|██████████| 89/89 [00:01<00:00, 50.35it/s, acc=62.3, loss=0.793]"
     ]
    },
    {
     "name": "stdout",
     "output_type": "stream",
     "text": [
      "\n",
      " epoch: 250/400\n"
     ]
    },
    {
     "name": "stderr",
     "output_type": "stream",
     "text": [
      "\n",
      "Train--Epoch [250/400]: 100%|██████████| 375/375 [00:18<00:00, 20.31it/s, acc=70.1, loss=0.561]\n",
      "Valid--Epoch [250/400]: 100%|██████████| 89/89 [00:01<00:00, 48.94it/s, acc=62.1, loss=0.811]\n"
     ]
    },
    {
     "name": "stdout",
     "output_type": "stream",
     "text": [
      "\n",
      " epoch: 251/400\n"
     ]
    },
    {
     "name": "stderr",
     "output_type": "stream",
     "text": [
      "Train--Epoch [251/400]: 100%|██████████| 375/375 [00:18<00:00, 20.67it/s, acc=69.9, loss=0.562]\n",
      "Valid--Epoch [251/400]: 100%|██████████| 89/89 [00:01<00:00, 49.98it/s, acc=62.1, loss=0.812]\n"
     ]
    },
    {
     "name": "stdout",
     "output_type": "stream",
     "text": [
      "\n",
      " epoch: 252/400\n"
     ]
    },
    {
     "name": "stderr",
     "output_type": "stream",
     "text": [
      "Train--Epoch [252/400]: 100%|██████████| 375/375 [00:18<00:00, 20.62it/s, acc=70, loss=0.561]  \n",
      "Valid--Epoch [252/400]: 100%|██████████| 89/89 [00:01<00:00, 51.64it/s, acc=62.8, loss=0.781]"
     ]
    },
    {
     "name": "stdout",
     "output_type": "stream",
     "text": [
      "\n",
      " epoch: 253/400\n"
     ]
    },
    {
     "name": "stderr",
     "output_type": "stream",
     "text": [
      "\n",
      "Train--Epoch [253/400]: 100%|██████████| 375/375 [00:18<00:00, 20.63it/s, acc=70.1, loss=0.561]\n",
      "Valid--Epoch [253/400]: 100%|██████████| 89/89 [00:01<00:00, 47.45it/s, acc=62.8, loss=0.781]\n"
     ]
    },
    {
     "name": "stdout",
     "output_type": "stream",
     "text": [
      "Saving..\n",
      "\n",
      " epoch: 254/400\n"
     ]
    },
    {
     "name": "stderr",
     "output_type": "stream",
     "text": [
      "Train--Epoch [254/400]: 100%|██████████| 375/375 [00:18<00:00, 20.77it/s, acc=70, loss=0.56]   \n",
      "Valid--Epoch [254/400]: 100%|██████████| 89/89 [00:01<00:00, 51.75it/s, acc=62.3, loss=0.8]  "
     ]
    },
    {
     "name": "stdout",
     "output_type": "stream",
     "text": [
      "\n",
      " epoch: 255/400\n"
     ]
    },
    {
     "name": "stderr",
     "output_type": "stream",
     "text": [
      "\n",
      "Train--Epoch [255/400]: 100%|██████████| 375/375 [00:18<00:00, 20.72it/s, acc=70.1, loss=0.559]\n",
      "Valid--Epoch [255/400]: 100%|██████████| 89/89 [00:01<00:00, 49.56it/s, acc=62.1, loss=0.803]"
     ]
    },
    {
     "name": "stdout",
     "output_type": "stream",
     "text": [
      "\n",
      " epoch: 256/400\n"
     ]
    },
    {
     "name": "stderr",
     "output_type": "stream",
     "text": [
      "\n",
      "Train--Epoch [256/400]: 100%|██████████| 375/375 [00:18<00:00, 20.54it/s, acc=69.9, loss=0.561]\n",
      "Valid--Epoch [256/400]: 100%|██████████| 89/89 [00:01<00:00, 50.58it/s, acc=62.3, loss=0.79] "
     ]
    },
    {
     "name": "stdout",
     "output_type": "stream",
     "text": [
      "\n",
      " epoch: 257/400\n"
     ]
    },
    {
     "name": "stderr",
     "output_type": "stream",
     "text": [
      "\n",
      "Train--Epoch [257/400]: 100%|██████████| 375/375 [00:18<00:00, 20.64it/s, acc=70.1, loss=0.559]\n",
      "Valid--Epoch [257/400]: 100%|██████████| 89/89 [00:01<00:00, 49.69it/s, acc=62.1, loss=0.797]\n"
     ]
    },
    {
     "name": "stdout",
     "output_type": "stream",
     "text": [
      "\n",
      " epoch: 258/400\n"
     ]
    },
    {
     "name": "stderr",
     "output_type": "stream",
     "text": [
      "Train--Epoch [258/400]: 100%|██████████| 375/375 [00:18<00:00, 20.64it/s, acc=70.2, loss=0.559]\n",
      "Valid--Epoch [258/400]: 100%|██████████| 89/89 [00:01<00:00, 52.27it/s, acc=63.1, loss=0.778]\n"
     ]
    },
    {
     "name": "stdout",
     "output_type": "stream",
     "text": [
      "Saving..\n",
      "\n",
      " epoch: 259/400\n"
     ]
    },
    {
     "name": "stderr",
     "output_type": "stream",
     "text": [
      "Train--Epoch [259/400]: 100%|██████████| 375/375 [00:18<00:00, 20.47it/s, acc=70.1, loss=0.559]\n",
      "Valid--Epoch [259/400]: 100%|██████████| 89/89 [00:01<00:00, 51.42it/s, acc=63.9, loss=0.755]\n"
     ]
    },
    {
     "name": "stdout",
     "output_type": "stream",
     "text": [
      "Saving..\n",
      "\n",
      " epoch: 260/400\n"
     ]
    },
    {
     "name": "stderr",
     "output_type": "stream",
     "text": [
      "Train--Epoch [260/400]: 100%|██████████| 375/375 [00:18<00:00, 20.73it/s, acc=70.3, loss=0.557]\n",
      "Valid--Epoch [260/400]: 100%|██████████| 89/89 [00:01<00:00, 52.30it/s, acc=63.7, loss=0.75] "
     ]
    },
    {
     "name": "stdout",
     "output_type": "stream",
     "text": [
      "\n",
      " epoch: 261/400\n"
     ]
    },
    {
     "name": "stderr",
     "output_type": "stream",
     "text": [
      "\n",
      "Train--Epoch [261/400]: 100%|██████████| 375/375 [00:18<00:00, 20.61it/s, acc=70.3, loss=0.559]\n",
      "Valid--Epoch [261/400]: 100%|██████████| 89/89 [00:01<00:00, 51.76it/s, acc=64.4, loss=0.721]\n"
     ]
    },
    {
     "name": "stdout",
     "output_type": "stream",
     "text": [
      "Saving..\n",
      "\n",
      " epoch: 262/400\n"
     ]
    },
    {
     "name": "stderr",
     "output_type": "stream",
     "text": [
      "Train--Epoch [262/400]: 100%|██████████| 375/375 [00:18<00:00, 20.73it/s, acc=70.5, loss=0.556]\n",
      "Valid--Epoch [262/400]: 100%|██████████| 89/89 [00:01<00:00, 51.90it/s, acc=64.3, loss=0.729]"
     ]
    },
    {
     "name": "stdout",
     "output_type": "stream",
     "text": [
      "\n",
      " epoch: 263/400\n"
     ]
    },
    {
     "name": "stderr",
     "output_type": "stream",
     "text": [
      "\n",
      "Train--Epoch [263/400]: 100%|██████████| 375/375 [00:18<00:00, 20.58it/s, acc=70.6, loss=0.555]\n",
      "Valid--Epoch [263/400]: 100%|██████████| 89/89 [00:01<00:00, 52.08it/s, acc=63.3, loss=0.767]"
     ]
    },
    {
     "name": "stdout",
     "output_type": "stream",
     "text": [
      "\n",
      " epoch: 264/400\n"
     ]
    },
    {
     "name": "stderr",
     "output_type": "stream",
     "text": [
      "\n",
      "Train--Epoch [264/400]: 100%|██████████| 375/375 [00:18<00:00, 20.72it/s, acc=70.6, loss=0.555]\n",
      "Valid--Epoch [264/400]: 100%|██████████| 89/89 [00:01<00:00, 51.28it/s, acc=64.5, loss=0.741]\n"
     ]
    },
    {
     "name": "stdout",
     "output_type": "stream",
     "text": [
      "Saving..\n",
      "\n",
      " epoch: 265/400\n"
     ]
    },
    {
     "name": "stderr",
     "output_type": "stream",
     "text": [
      "Train--Epoch [265/400]: 100%|██████████| 375/375 [00:18<00:00, 20.50it/s, acc=70.4, loss=0.556]\n",
      "Valid--Epoch [265/400]: 100%|██████████| 89/89 [00:01<00:00, 52.24it/s, acc=63.8, loss=0.745]"
     ]
    },
    {
     "name": "stdout",
     "output_type": "stream",
     "text": [
      "\n",
      " epoch: 266/400\n"
     ]
    },
    {
     "name": "stderr",
     "output_type": "stream",
     "text": [
      "\n",
      "Train--Epoch [266/400]: 100%|██████████| 375/375 [00:18<00:00, 20.69it/s, acc=70.7, loss=0.554]\n",
      "Valid--Epoch [266/400]: 100%|██████████| 89/89 [00:01<00:00, 52.13it/s, acc=63.8, loss=0.77] "
     ]
    },
    {
     "name": "stdout",
     "output_type": "stream",
     "text": [
      "\n",
      " epoch: 267/400\n"
     ]
    },
    {
     "name": "stderr",
     "output_type": "stream",
     "text": [
      "\n",
      "Train--Epoch [267/400]: 100%|██████████| 375/375 [00:18<00:00, 20.51it/s, acc=70.7, loss=0.556]\n",
      "Valid--Epoch [267/400]: 100%|██████████| 89/89 [00:01<00:00, 51.79it/s, acc=64.6, loss=0.732]\n"
     ]
    },
    {
     "name": "stdout",
     "output_type": "stream",
     "text": [
      "Saving..\n",
      "\n",
      " epoch: 268/400\n"
     ]
    },
    {
     "name": "stderr",
     "output_type": "stream",
     "text": [
      "Train--Epoch [268/400]: 100%|██████████| 375/375 [00:18<00:00, 20.66it/s, acc=70.8, loss=0.553]\n",
      "Valid--Epoch [268/400]: 100%|██████████| 89/89 [00:01<00:00, 51.40it/s, acc=64.4, loss=0.737]"
     ]
    },
    {
     "name": "stdout",
     "output_type": "stream",
     "text": [
      "\n",
      " epoch: 269/400\n"
     ]
    },
    {
     "name": "stderr",
     "output_type": "stream",
     "text": [
      "\n",
      "Train--Epoch [269/400]: 100%|██████████| 375/375 [00:18<00:00, 20.57it/s, acc=71, loss=0.552]  \n",
      "Valid--Epoch [269/400]: 100%|██████████| 89/89 [00:01<00:00, 52.25it/s, acc=63.7, loss=0.76] "
     ]
    },
    {
     "name": "stdout",
     "output_type": "stream",
     "text": [
      "\n",
      " epoch: 270/400\n"
     ]
    },
    {
     "name": "stderr",
     "output_type": "stream",
     "text": [
      "\n",
      "Train--Epoch [270/400]: 100%|██████████| 375/375 [00:18<00:00, 20.68it/s, acc=70.8, loss=0.553]\n",
      "Valid--Epoch [270/400]: 100%|██████████| 89/89 [00:01<00:00, 52.54it/s, acc=63.9, loss=0.748]"
     ]
    },
    {
     "name": "stdout",
     "output_type": "stream",
     "text": [
      "\n",
      " epoch: 271/400\n"
     ]
    },
    {
     "name": "stderr",
     "output_type": "stream",
     "text": [
      "\n",
      "Train--Epoch [271/400]: 100%|██████████| 375/375 [00:18<00:00, 20.46it/s, acc=70.9, loss=0.552]\n",
      "Valid--Epoch [271/400]: 100%|██████████| 89/89 [00:01<00:00, 53.24it/s, acc=63.5, loss=0.772]"
     ]
    },
    {
     "name": "stdout",
     "output_type": "stream",
     "text": [
      "\n",
      " epoch: 272/400\n"
     ]
    },
    {
     "name": "stderr",
     "output_type": "stream",
     "text": [
      "\n",
      "Train--Epoch [272/400]: 100%|██████████| 375/375 [00:18<00:00, 20.62it/s, acc=70.8, loss=0.553]\n",
      "Valid--Epoch [272/400]: 100%|██████████| 89/89 [00:01<00:00, 49.69it/s, acc=65, loss=0.715]  \n"
     ]
    },
    {
     "name": "stdout",
     "output_type": "stream",
     "text": [
      "Saving..\n",
      "\n",
      " epoch: 273/400\n"
     ]
    },
    {
     "name": "stderr",
     "output_type": "stream",
     "text": [
      "Train--Epoch [273/400]: 100%|██████████| 375/375 [00:18<00:00, 20.82it/s, acc=70.9, loss=0.552]\n",
      "Valid--Epoch [273/400]: 100%|██████████| 89/89 [00:01<00:00, 52.05it/s, acc=64.9, loss=0.726]"
     ]
    },
    {
     "name": "stdout",
     "output_type": "stream",
     "text": [
      "\n",
      " epoch: 274/400\n"
     ]
    },
    {
     "name": "stderr",
     "output_type": "stream",
     "text": [
      "\n",
      "Train--Epoch [274/400]: 100%|██████████| 375/375 [00:18<00:00, 20.73it/s, acc=70.8, loss=0.553]\n",
      "Valid--Epoch [274/400]: 100%|██████████| 89/89 [00:01<00:00, 50.90it/s, acc=64.7, loss=0.728]"
     ]
    },
    {
     "name": "stdout",
     "output_type": "stream",
     "text": [
      "\n",
      " epoch: 275/400\n"
     ]
    },
    {
     "name": "stderr",
     "output_type": "stream",
     "text": [
      "\n",
      "Train--Epoch [275/400]: 100%|██████████| 375/375 [00:18<00:00, 20.74it/s, acc=71, loss=0.552]  \n",
      "Valid--Epoch [275/400]: 100%|██████████| 89/89 [00:01<00:00, 52.07it/s, acc=66, loss=0.69]   \n"
     ]
    },
    {
     "name": "stdout",
     "output_type": "stream",
     "text": [
      "Saving..\n",
      "\n",
      " epoch: 276/400\n"
     ]
    },
    {
     "name": "stderr",
     "output_type": "stream",
     "text": [
      "Train--Epoch [276/400]: 100%|██████████| 375/375 [00:18<00:00, 20.74it/s, acc=71.2, loss=0.549]\n",
      "Valid--Epoch [276/400]: 100%|██████████| 89/89 [00:01<00:00, 51.68it/s, acc=65.8, loss=0.696]"
     ]
    },
    {
     "name": "stdout",
     "output_type": "stream",
     "text": [
      "\n",
      " epoch: 277/400\n"
     ]
    },
    {
     "name": "stderr",
     "output_type": "stream",
     "text": [
      "\n",
      "Train--Epoch [277/400]: 100%|██████████| 375/375 [00:18<00:00, 20.57it/s, acc=71.2, loss=0.55] \n",
      "Valid--Epoch [277/400]: 100%|██████████| 89/89 [00:01<00:00, 51.93it/s, acc=65.5, loss=0.701]"
     ]
    },
    {
     "name": "stdout",
     "output_type": "stream",
     "text": [
      "\n",
      " epoch: 278/400\n"
     ]
    },
    {
     "name": "stderr",
     "output_type": "stream",
     "text": [
      "\n",
      "Train--Epoch [278/400]: 100%|██████████| 375/375 [00:18<00:00, 20.69it/s, acc=71.2, loss=0.55] \n",
      "Valid--Epoch [278/400]: 100%|██████████| 89/89 [00:01<00:00, 51.80it/s, acc=65.7, loss=0.697]"
     ]
    },
    {
     "name": "stdout",
     "output_type": "stream",
     "text": [
      "\n",
      " epoch: 279/400\n"
     ]
    },
    {
     "name": "stderr",
     "output_type": "stream",
     "text": [
      "\n",
      "Train--Epoch [279/400]: 100%|██████████| 375/375 [00:18<00:00, 20.60it/s, acc=71.1, loss=0.549]\n",
      "Valid--Epoch [279/400]: 100%|██████████| 89/89 [00:01<00:00, 51.71it/s, acc=65.5, loss=0.708]"
     ]
    },
    {
     "name": "stdout",
     "output_type": "stream",
     "text": [
      "\n",
      " epoch: 280/400\n"
     ]
    },
    {
     "name": "stderr",
     "output_type": "stream",
     "text": [
      "\n",
      "Train--Epoch [280/400]: 100%|██████████| 375/375 [00:18<00:00, 20.71it/s, acc=71.4, loss=0.549]\n",
      "Valid--Epoch [280/400]: 100%|██████████| 89/89 [00:01<00:00, 51.28it/s, acc=65.6, loss=0.704]"
     ]
    },
    {
     "name": "stdout",
     "output_type": "stream",
     "text": [
      "\n",
      " epoch: 281/400\n"
     ]
    },
    {
     "name": "stderr",
     "output_type": "stream",
     "text": [
      "\n",
      "Train--Epoch [281/400]: 100%|██████████| 375/375 [00:18<00:00, 20.59it/s, acc=71.1, loss=0.55] \n",
      "Valid--Epoch [281/400]: 100%|██████████| 89/89 [00:01<00:00, 52.14it/s, acc=65.7, loss=0.699]\n"
     ]
    },
    {
     "name": "stdout",
     "output_type": "stream",
     "text": [
      "\n",
      " epoch: 282/400\n"
     ]
    },
    {
     "name": "stderr",
     "output_type": "stream",
     "text": [
      "Train--Epoch [282/400]: 100%|██████████| 375/375 [00:18<00:00, 20.62it/s, acc=71.5, loss=0.547]\n",
      "Valid--Epoch [282/400]: 100%|██████████| 89/89 [00:01<00:00, 49.51it/s, acc=65.8, loss=0.694]"
     ]
    },
    {
     "name": "stdout",
     "output_type": "stream",
     "text": [
      "\n",
      " epoch: 283/400\n"
     ]
    },
    {
     "name": "stderr",
     "output_type": "stream",
     "text": [
      "\n",
      "Train--Epoch [283/400]: 100%|██████████| 375/375 [00:18<00:00, 20.64it/s, acc=71.3, loss=0.547]\n",
      "Valid--Epoch [283/400]: 100%|██████████| 89/89 [00:01<00:00, 51.43it/s, acc=66.3, loss=0.685]\n"
     ]
    },
    {
     "name": "stdout",
     "output_type": "stream",
     "text": [
      "Saving..\n",
      "\n",
      " epoch: 284/400\n"
     ]
    },
    {
     "name": "stderr",
     "output_type": "stream",
     "text": [
      "Train--Epoch [284/400]: 100%|██████████| 375/375 [00:18<00:00, 20.65it/s, acc=71.5, loss=0.546]\n",
      "Valid--Epoch [284/400]: 100%|██████████| 89/89 [00:01<00:00, 52.48it/s, acc=65.6, loss=0.712]"
     ]
    },
    {
     "name": "stdout",
     "output_type": "stream",
     "text": [
      "\n",
      " epoch: 285/400\n"
     ]
    },
    {
     "name": "stderr",
     "output_type": "stream",
     "text": [
      "\n",
      "Train--Epoch [285/400]: 100%|██████████| 375/375 [00:18<00:00, 20.57it/s, acc=71.6, loss=0.544]\n",
      "Valid--Epoch [285/400]: 100%|██████████| 89/89 [00:01<00:00, 52.32it/s, acc=66.5, loss=0.683]\n"
     ]
    },
    {
     "name": "stdout",
     "output_type": "stream",
     "text": [
      "Saving..\n",
      "\n",
      " epoch: 286/400\n"
     ]
    },
    {
     "name": "stderr",
     "output_type": "stream",
     "text": [
      "Train--Epoch [286/400]: 100%|██████████| 375/375 [00:18<00:00, 20.40it/s, acc=71.7, loss=0.544]\n",
      "Valid--Epoch [286/400]: 100%|██████████| 89/89 [00:01<00:00, 47.52it/s, acc=65.3, loss=0.725]"
     ]
    },
    {
     "name": "stdout",
     "output_type": "stream",
     "text": [
      "\n",
      " epoch: 287/400\n"
     ]
    },
    {
     "name": "stderr",
     "output_type": "stream",
     "text": [
      "\n",
      "Train--Epoch [287/400]: 100%|██████████| 375/375 [00:18<00:00, 20.58it/s, acc=71.7, loss=0.544]\n",
      "Valid--Epoch [287/400]: 100%|██████████| 89/89 [00:01<00:00, 52.06it/s, acc=66.8, loss=0.678]\n"
     ]
    },
    {
     "name": "stdout",
     "output_type": "stream",
     "text": [
      "Saving..\n",
      "\n",
      " epoch: 288/400\n"
     ]
    },
    {
     "name": "stderr",
     "output_type": "stream",
     "text": [
      "Train--Epoch [288/400]: 100%|██████████| 375/375 [00:18<00:00, 20.56it/s, acc=71.7, loss=0.544]\n",
      "Valid--Epoch [288/400]: 100%|██████████| 89/89 [00:01<00:00, 52.38it/s, acc=66.5, loss=0.691]"
     ]
    },
    {
     "name": "stdout",
     "output_type": "stream",
     "text": [
      "\n",
      " epoch: 289/400\n"
     ]
    },
    {
     "name": "stderr",
     "output_type": "stream",
     "text": [
      "\n",
      "Train--Epoch [289/400]: 100%|██████████| 375/375 [00:18<00:00, 20.74it/s, acc=71.9, loss=0.544]\n",
      "Valid--Epoch [289/400]: 100%|██████████| 89/89 [00:01<00:00, 51.56it/s, acc=66.5, loss=0.687]"
     ]
    },
    {
     "name": "stdout",
     "output_type": "stream",
     "text": [
      "\n",
      " epoch: 290/400\n"
     ]
    },
    {
     "name": "stderr",
     "output_type": "stream",
     "text": [
      "\n",
      "Train--Epoch [290/400]: 100%|██████████| 375/375 [00:18<00:00, 19.89it/s, acc=72, loss=0.542]  \n",
      "Valid--Epoch [290/400]: 100%|██████████| 89/89 [00:01<00:00, 51.82it/s, acc=66.2, loss=0.7]  "
     ]
    },
    {
     "name": "stdout",
     "output_type": "stream",
     "text": [
      "\n",
      " epoch: 291/400\n"
     ]
    },
    {
     "name": "stderr",
     "output_type": "stream",
     "text": [
      "\n",
      "Train--Epoch [291/400]: 100%|██████████| 375/375 [00:18<00:00, 20.24it/s, acc=72, loss=0.541]  \n",
      "Valid--Epoch [291/400]: 100%|██████████| 89/89 [00:02<00:00, 44.17it/s, acc=66.5, loss=0.695]"
     ]
    },
    {
     "name": "stdout",
     "output_type": "stream",
     "text": [
      "\n",
      " epoch: 292/400\n"
     ]
    },
    {
     "name": "stderr",
     "output_type": "stream",
     "text": [
      "\n",
      "Train--Epoch [292/400]: 100%|██████████| 375/375 [00:18<00:00, 20.18it/s, acc=72, loss=0.541]  \n",
      "Valid--Epoch [292/400]: 100%|██████████| 89/89 [00:02<00:00, 39.75it/s, acc=66.4, loss=0.689]"
     ]
    },
    {
     "name": "stdout",
     "output_type": "stream",
     "text": [
      "\n",
      " epoch: 293/400\n"
     ]
    },
    {
     "name": "stderr",
     "output_type": "stream",
     "text": [
      "\n",
      "Train--Epoch [293/400]: 100%|██████████| 375/375 [00:18<00:00, 20.16it/s, acc=71.9, loss=0.542]\n",
      "Valid--Epoch [293/400]: 100%|██████████| 89/89 [00:01<00:00, 48.05it/s, acc=67.6, loss=0.658]\n"
     ]
    },
    {
     "name": "stdout",
     "output_type": "stream",
     "text": [
      "Saving..\n",
      "\n",
      " epoch: 294/400\n"
     ]
    },
    {
     "name": "stderr",
     "output_type": "stream",
     "text": [
      "Train--Epoch [294/400]: 100%|██████████| 375/375 [00:18<00:00, 20.11it/s, acc=72.1, loss=0.54] \n",
      "Valid--Epoch [294/400]: 100%|██████████| 89/89 [00:01<00:00, 45.24it/s, acc=67.2, loss=0.668]"
     ]
    },
    {
     "name": "stdout",
     "output_type": "stream",
     "text": [
      "\n",
      " epoch: 295/400\n"
     ]
    },
    {
     "name": "stderr",
     "output_type": "stream",
     "text": [
      "\n",
      "Train--Epoch [295/400]: 100%|██████████| 375/375 [00:18<00:00, 20.27it/s, acc=72.2, loss=0.54] \n",
      "Valid--Epoch [295/400]: 100%|██████████| 89/89 [00:02<00:00, 41.89it/s, acc=67.2, loss=0.667]"
     ]
    },
    {
     "name": "stdout",
     "output_type": "stream",
     "text": [
      "\n",
      " epoch: 296/400\n"
     ]
    },
    {
     "name": "stderr",
     "output_type": "stream",
     "text": [
      "\n",
      "Train--Epoch [296/400]: 100%|██████████| 375/375 [00:18<00:00, 20.42it/s, acc=72.3, loss=0.539]\n",
      "Valid--Epoch [296/400]: 100%|██████████| 89/89 [00:01<00:00, 51.26it/s, acc=66.9, loss=0.672]"
     ]
    },
    {
     "name": "stdout",
     "output_type": "stream",
     "text": [
      "\n",
      " epoch: 297/400\n"
     ]
    },
    {
     "name": "stderr",
     "output_type": "stream",
     "text": [
      "\n",
      "Train--Epoch [297/400]: 100%|██████████| 375/375 [00:18<00:00, 20.66it/s, acc=72.3, loss=0.538]\n",
      "Valid--Epoch [297/400]: 100%|██████████| 89/89 [00:01<00:00, 50.00it/s, acc=67.3, loss=0.672]"
     ]
    },
    {
     "name": "stdout",
     "output_type": "stream",
     "text": [
      "\n",
      " epoch: 298/400\n"
     ]
    },
    {
     "name": "stderr",
     "output_type": "stream",
     "text": [
      "\n",
      "Train--Epoch [298/400]: 100%|██████████| 375/375 [00:18<00:00, 20.48it/s, acc=72.2, loss=0.539]\n",
      "Valid--Epoch [298/400]: 100%|██████████| 89/89 [00:01<00:00, 51.55it/s, acc=67.3, loss=0.674]\n"
     ]
    },
    {
     "name": "stdout",
     "output_type": "stream",
     "text": [
      "\n",
      " epoch: 299/400\n"
     ]
    },
    {
     "name": "stderr",
     "output_type": "stream",
     "text": [
      "Train--Epoch [299/400]: 100%|██████████| 375/375 [00:18<00:00, 20.66it/s, acc=72.3, loss=0.538]\n",
      "Valid--Epoch [299/400]: 100%|██████████| 89/89 [00:01<00:00, 52.53it/s, acc=67.4, loss=0.672]"
     ]
    },
    {
     "name": "stdout",
     "output_type": "stream",
     "text": [
      "\n",
      " epoch: 300/400\n"
     ]
    },
    {
     "name": "stderr",
     "output_type": "stream",
     "text": [
      "\n",
      "Train--Epoch [300/400]: 100%|██████████| 375/375 [00:18<00:00, 20.09it/s, acc=72.7, loss=0.536]\n",
      "Valid--Epoch [300/400]: 100%|██████████| 89/89 [00:01<00:00, 50.79it/s, acc=67, loss=0.674]  "
     ]
    },
    {
     "name": "stdout",
     "output_type": "stream",
     "text": [
      "\n",
      " epoch: 301/400\n"
     ]
    },
    {
     "name": "stderr",
     "output_type": "stream",
     "text": [
      "\n",
      "Train--Epoch [301/400]: 100%|██████████| 375/375 [00:18<00:00, 20.57it/s, acc=72.3, loss=0.536]\n",
      "Valid--Epoch [301/400]: 100%|██████████| 89/89 [00:01<00:00, 49.91it/s, acc=67.5, loss=0.659]"
     ]
    },
    {
     "name": "stdout",
     "output_type": "stream",
     "text": [
      "\n",
      " epoch: 302/400\n"
     ]
    },
    {
     "name": "stderr",
     "output_type": "stream",
     "text": [
      "\n",
      "Train--Epoch [302/400]: 100%|██████████| 375/375 [00:18<00:00, 20.48it/s, acc=72.8, loss=0.534]\n",
      "Valid--Epoch [302/400]: 100%|██████████| 89/89 [00:01<00:00, 50.55it/s, acc=66.9, loss=0.678]"
     ]
    },
    {
     "name": "stdout",
     "output_type": "stream",
     "text": [
      "\n",
      " epoch: 303/400\n"
     ]
    },
    {
     "name": "stderr",
     "output_type": "stream",
     "text": [
      "\n",
      "Train--Epoch [303/400]: 100%|██████████| 375/375 [00:18<00:00, 20.64it/s, acc=72.6, loss=0.535]\n",
      "Valid--Epoch [303/400]: 100%|██████████| 89/89 [00:01<00:00, 49.14it/s, acc=67.1, loss=0.676]"
     ]
    },
    {
     "name": "stdout",
     "output_type": "stream",
     "text": [
      "\n",
      " epoch: 304/400\n"
     ]
    },
    {
     "name": "stderr",
     "output_type": "stream",
     "text": [
      "\n",
      "Train--Epoch [304/400]: 100%|██████████| 375/375 [00:18<00:00, 20.64it/s, acc=72.7, loss=0.535]\n",
      "Valid--Epoch [304/400]: 100%|██████████| 89/89 [00:01<00:00, 51.40it/s, acc=67.7, loss=0.651]\n"
     ]
    },
    {
     "name": "stdout",
     "output_type": "stream",
     "text": [
      "Saving..\n",
      "\n",
      " epoch: 305/400\n"
     ]
    },
    {
     "name": "stderr",
     "output_type": "stream",
     "text": [
      "Train--Epoch [305/400]: 100%|██████████| 375/375 [00:18<00:00, 20.64it/s, acc=72.8, loss=0.534]\n",
      "Valid--Epoch [305/400]: 100%|██████████| 89/89 [00:01<00:00, 47.19it/s, acc=68.4, loss=0.639]\n"
     ]
    },
    {
     "name": "stdout",
     "output_type": "stream",
     "text": [
      "Saving..\n",
      "\n",
      " epoch: 306/400\n"
     ]
    },
    {
     "name": "stderr",
     "output_type": "stream",
     "text": [
      "Train--Epoch [306/400]: 100%|██████████| 375/375 [00:18<00:00, 20.54it/s, acc=72.9, loss=0.53] \n",
      "Valid--Epoch [306/400]: 100%|██████████| 89/89 [00:01<00:00, 50.92it/s, acc=67.9, loss=0.668]"
     ]
    },
    {
     "name": "stdout",
     "output_type": "stream",
     "text": [
      "\n",
      " epoch: 307/400\n"
     ]
    },
    {
     "name": "stderr",
     "output_type": "stream",
     "text": [
      "\n",
      "Train--Epoch [307/400]: 100%|██████████| 375/375 [00:18<00:00, 20.66it/s, acc=73.1, loss=0.531]\n",
      "Valid--Epoch [307/400]: 100%|██████████| 89/89 [00:01<00:00, 50.28it/s, acc=67.3, loss=0.681]"
     ]
    },
    {
     "name": "stdout",
     "output_type": "stream",
     "text": [
      "\n",
      " epoch: 308/400\n"
     ]
    },
    {
     "name": "stderr",
     "output_type": "stream",
     "text": [
      "\n",
      "Train--Epoch [308/400]: 100%|██████████| 375/375 [00:18<00:00, 20.70it/s, acc=72.9, loss=0.533]\n",
      "Valid--Epoch [308/400]: 100%|██████████| 89/89 [00:01<00:00, 51.78it/s, acc=68, loss=0.652]  \n"
     ]
    },
    {
     "name": "stdout",
     "output_type": "stream",
     "text": [
      "\n",
      " epoch: 309/400\n"
     ]
    },
    {
     "name": "stderr",
     "output_type": "stream",
     "text": [
      "Train--Epoch [309/400]: 100%|██████████| 375/375 [00:18<00:00, 20.47it/s, acc=73.1, loss=0.53] \n",
      "Valid--Epoch [309/400]: 100%|██████████| 89/89 [00:01<00:00, 51.09it/s, acc=68.5, loss=0.64] \n"
     ]
    },
    {
     "name": "stdout",
     "output_type": "stream",
     "text": [
      "Saving..\n",
      "\n",
      " epoch: 310/400\n"
     ]
    },
    {
     "name": "stderr",
     "output_type": "stream",
     "text": [
      "Train--Epoch [310/400]: 100%|██████████| 375/375 [00:18<00:00, 20.73it/s, acc=73.2, loss=0.528]\n",
      "Valid--Epoch [310/400]: 100%|██████████| 89/89 [00:01<00:00, 50.67it/s, acc=67.9, loss=0.653]"
     ]
    },
    {
     "name": "stdout",
     "output_type": "stream",
     "text": [
      "\n",
      " epoch: 311/400\n"
     ]
    },
    {
     "name": "stderr",
     "output_type": "stream",
     "text": [
      "\n",
      "Train--Epoch [311/400]: 100%|██████████| 375/375 [00:18<00:00, 20.42it/s, acc=73.1, loss=0.528]\n",
      "Valid--Epoch [311/400]: 100%|██████████| 89/89 [00:01<00:00, 51.05it/s, acc=68.4, loss=0.645]"
     ]
    },
    {
     "name": "stdout",
     "output_type": "stream",
     "text": [
      "\n",
      " epoch: 312/400\n"
     ]
    },
    {
     "name": "stderr",
     "output_type": "stream",
     "text": [
      "\n",
      "Train--Epoch [312/400]: 100%|██████████| 375/375 [00:18<00:00, 20.63it/s, acc=73.3, loss=0.528]\n",
      "Valid--Epoch [312/400]: 100%|██████████| 89/89 [00:01<00:00, 51.62it/s, acc=67.9, loss=0.658]"
     ]
    },
    {
     "name": "stdout",
     "output_type": "stream",
     "text": [
      "\n",
      " epoch: 313/400\n"
     ]
    },
    {
     "name": "stderr",
     "output_type": "stream",
     "text": [
      "\n",
      "Train--Epoch [313/400]: 100%|██████████| 375/375 [00:18<00:00, 20.49it/s, acc=73.3, loss=0.528]\n",
      "Valid--Epoch [313/400]: 100%|██████████| 89/89 [00:01<00:00, 51.73it/s, acc=67.7, loss=0.666]"
     ]
    },
    {
     "name": "stdout",
     "output_type": "stream",
     "text": [
      "\n",
      " epoch: 314/400\n"
     ]
    },
    {
     "name": "stderr",
     "output_type": "stream",
     "text": [
      "\n",
      "Train--Epoch [314/400]: 100%|██████████| 375/375 [00:18<00:00, 20.61it/s, acc=73.4, loss=0.525]\n",
      "Valid--Epoch [314/400]: 100%|██████████| 89/89 [00:01<00:00, 51.75it/s, acc=69.1, loss=0.623]\n"
     ]
    },
    {
     "name": "stdout",
     "output_type": "stream",
     "text": [
      "Saving..\n",
      "\n",
      " epoch: 315/400\n"
     ]
    },
    {
     "name": "stderr",
     "output_type": "stream",
     "text": [
      "Train--Epoch [315/400]: 100%|██████████| 375/375 [00:18<00:00, 20.48it/s, acc=73.6, loss=0.525]\n",
      "Valid--Epoch [315/400]: 100%|██████████| 89/89 [00:01<00:00, 51.24it/s, acc=68, loss=0.67]   \n"
     ]
    },
    {
     "name": "stdout",
     "output_type": "stream",
     "text": [
      "\n",
      " epoch: 316/400\n"
     ]
    },
    {
     "name": "stderr",
     "output_type": "stream",
     "text": [
      "Train--Epoch [316/400]: 100%|██████████| 375/375 [00:18<00:00, 20.63it/s, acc=73.4, loss=0.525]\n",
      "Valid--Epoch [316/400]: 100%|██████████| 89/89 [00:01<00:00, 49.58it/s, acc=69.2, loss=0.622]\n"
     ]
    },
    {
     "name": "stdout",
     "output_type": "stream",
     "text": [
      "Saving..\n",
      "\n",
      " epoch: 317/400\n"
     ]
    },
    {
     "name": "stderr",
     "output_type": "stream",
     "text": [
      "Train--Epoch [317/400]: 100%|██████████| 375/375 [00:18<00:00, 20.73it/s, acc=73.5, loss=0.524]\n",
      "Valid--Epoch [317/400]: 100%|██████████| 89/89 [00:01<00:00, 51.31it/s, acc=68.5, loss=0.634]"
     ]
    },
    {
     "name": "stdout",
     "output_type": "stream",
     "text": [
      "\n",
      " epoch: 318/400\n"
     ]
    },
    {
     "name": "stderr",
     "output_type": "stream",
     "text": [
      "\n",
      "Train--Epoch [318/400]: 100%|██████████| 375/375 [00:18<00:00, 20.63it/s, acc=73.5, loss=0.524]\n",
      "Valid--Epoch [318/400]: 100%|██████████| 89/89 [00:01<00:00, 47.80it/s, acc=68.7, loss=0.627]\n"
     ]
    },
    {
     "name": "stdout",
     "output_type": "stream",
     "text": [
      "\n",
      " epoch: 319/400\n"
     ]
    },
    {
     "name": "stderr",
     "output_type": "stream",
     "text": [
      "Train--Epoch [319/400]: 100%|██████████| 375/375 [00:18<00:00, 20.57it/s, acc=73.7, loss=0.523]\n",
      "Valid--Epoch [319/400]: 100%|██████████| 89/89 [00:01<00:00, 52.91it/s, acc=68.7, loss=0.642]"
     ]
    },
    {
     "name": "stdout",
     "output_type": "stream",
     "text": [
      "\n",
      " epoch: 320/400\n"
     ]
    },
    {
     "name": "stderr",
     "output_type": "stream",
     "text": [
      "\n",
      "Train--Epoch [320/400]: 100%|██████████| 375/375 [00:18<00:00, 20.64it/s, acc=73.8, loss=0.522]\n",
      "Valid--Epoch [320/400]: 100%|██████████| 89/89 [00:01<00:00, 50.76it/s, acc=69.2, loss=0.626]\n"
     ]
    },
    {
     "name": "stdout",
     "output_type": "stream",
     "text": [
      "Saving..\n",
      "\n",
      " epoch: 321/400\n"
     ]
    },
    {
     "name": "stderr",
     "output_type": "stream",
     "text": [
      "Train--Epoch [321/400]: 100%|██████████| 375/375 [00:18<00:00, 20.60it/s, acc=73.9, loss=0.52] \n",
      "Valid--Epoch [321/400]: 100%|██████████| 89/89 [00:01<00:00, 51.96it/s, acc=69.1, loss=0.627]"
     ]
    },
    {
     "name": "stdout",
     "output_type": "stream",
     "text": [
      "\n",
      " epoch: 322/400\n"
     ]
    },
    {
     "name": "stderr",
     "output_type": "stream",
     "text": [
      "\n",
      "Train--Epoch [322/400]: 100%|██████████| 375/375 [00:18<00:00, 20.50it/s, acc=73.9, loss=0.52] \n",
      "Valid--Epoch [322/400]: 100%|██████████| 89/89 [00:01<00:00, 51.67it/s, acc=68.4, loss=0.647]\n"
     ]
    },
    {
     "name": "stdout",
     "output_type": "stream",
     "text": [
      "\n",
      " epoch: 323/400\n"
     ]
    },
    {
     "name": "stderr",
     "output_type": "stream",
     "text": [
      "Train--Epoch [323/400]: 100%|██████████| 375/375 [00:18<00:00, 20.62it/s, acc=73.9, loss=0.52] \n",
      "Valid--Epoch [323/400]: 100%|██████████| 89/89 [00:01<00:00, 49.73it/s, acc=69.1, loss=0.623]"
     ]
    },
    {
     "name": "stdout",
     "output_type": "stream",
     "text": [
      "\n",
      " epoch: 324/400\n"
     ]
    },
    {
     "name": "stderr",
     "output_type": "stream",
     "text": [
      "\n",
      "Train--Epoch [324/400]: 100%|██████████| 375/375 [00:18<00:00, 20.59it/s, acc=73.9, loss=0.52] \n",
      "Valid--Epoch [324/400]: 100%|██████████| 89/89 [00:01<00:00, 51.39it/s, acc=69.6, loss=0.609]\n"
     ]
    },
    {
     "name": "stdout",
     "output_type": "stream",
     "text": [
      "Saving..\n",
      "\n",
      " epoch: 325/400\n"
     ]
    },
    {
     "name": "stderr",
     "output_type": "stream",
     "text": [
      "Train--Epoch [325/400]: 100%|██████████| 375/375 [00:18<00:00, 20.64it/s, acc=74, loss=0.518]  \n",
      "Valid--Epoch [325/400]: 100%|██████████| 89/89 [00:01<00:00, 51.58it/s, acc=68.6, loss=0.649]\n"
     ]
    },
    {
     "name": "stdout",
     "output_type": "stream",
     "text": [
      "\n",
      " epoch: 326/400\n"
     ]
    },
    {
     "name": "stderr",
     "output_type": "stream",
     "text": [
      "Train--Epoch [326/400]: 100%|██████████| 375/375 [00:18<00:00, 20.49it/s, acc=74, loss=0.519]  \n",
      "Valid--Epoch [326/400]: 100%|██████████| 89/89 [00:01<00:00, 51.81it/s, acc=68.4, loss=0.65] "
     ]
    },
    {
     "name": "stdout",
     "output_type": "stream",
     "text": [
      "\n",
      " epoch: 327/400\n"
     ]
    },
    {
     "name": "stderr",
     "output_type": "stream",
     "text": [
      "\n",
      "Train--Epoch [327/400]: 100%|██████████| 375/375 [00:18<00:00, 20.58it/s, acc=74.1, loss=0.515]\n",
      "Valid--Epoch [327/400]: 100%|██████████| 89/89 [00:01<00:00, 51.61it/s, acc=69.4, loss=0.622]"
     ]
    },
    {
     "name": "stdout",
     "output_type": "stream",
     "text": [
      "\n",
      " epoch: 328/400\n"
     ]
    },
    {
     "name": "stderr",
     "output_type": "stream",
     "text": [
      "\n",
      "Train--Epoch [328/400]: 100%|██████████| 375/375 [00:18<00:00, 20.42it/s, acc=74.1, loss=0.517]\n",
      "Valid--Epoch [328/400]: 100%|██████████| 89/89 [00:01<00:00, 51.67it/s, acc=68.9, loss=0.629]"
     ]
    },
    {
     "name": "stdout",
     "output_type": "stream",
     "text": [
      "\n",
      " epoch: 329/400\n"
     ]
    },
    {
     "name": "stderr",
     "output_type": "stream",
     "text": [
      "\n",
      "Train--Epoch [329/400]: 100%|██████████| 375/375 [00:18<00:00, 20.61it/s, acc=74.1, loss=0.516]\n",
      "Valid--Epoch [329/400]: 100%|██████████| 89/89 [00:01<00:00, 46.55it/s, acc=69.4, loss=0.621]\n"
     ]
    },
    {
     "name": "stdout",
     "output_type": "stream",
     "text": [
      "\n",
      " epoch: 330/400\n"
     ]
    },
    {
     "name": "stderr",
     "output_type": "stream",
     "text": [
      "Train--Epoch [330/400]: 100%|██████████| 375/375 [00:18<00:00, 20.39it/s, acc=74.2, loss=0.516]\n",
      "Valid--Epoch [330/400]: 100%|██████████| 89/89 [00:01<00:00, 51.27it/s, acc=69.1, loss=0.633]"
     ]
    },
    {
     "name": "stdout",
     "output_type": "stream",
     "text": [
      "\n",
      " epoch: 331/400\n"
     ]
    },
    {
     "name": "stderr",
     "output_type": "stream",
     "text": [
      "\n",
      "Train--Epoch [331/400]: 100%|██████████| 375/375 [00:18<00:00, 20.56it/s, acc=74.2, loss=0.516]\n",
      "Valid--Epoch [331/400]: 100%|██████████| 89/89 [00:01<00:00, 51.52it/s, acc=69.1, loss=0.638]"
     ]
    },
    {
     "name": "stdout",
     "output_type": "stream",
     "text": [
      "\n",
      " epoch: 332/400\n"
     ]
    },
    {
     "name": "stderr",
     "output_type": "stream",
     "text": [
      "\n",
      "Train--Epoch [332/400]: 100%|██████████| 375/375 [00:18<00:00, 20.44it/s, acc=74.3, loss=0.513]\n",
      "Valid--Epoch [332/400]: 100%|██████████| 89/89 [00:01<00:00, 51.68it/s, acc=69.8, loss=0.615]\n"
     ]
    },
    {
     "name": "stdout",
     "output_type": "stream",
     "text": [
      "Saving..\n",
      "\n",
      " epoch: 333/400\n"
     ]
    },
    {
     "name": "stderr",
     "output_type": "stream",
     "text": [
      "Train--Epoch [333/400]: 100%|██████████| 375/375 [00:18<00:00, 20.44it/s, acc=74, loss=0.515]  \n",
      "Valid--Epoch [333/400]: 100%|██████████| 89/89 [00:01<00:00, 50.88it/s, acc=69.8, loss=0.624]\n"
     ]
    },
    {
     "name": "stdout",
     "output_type": "stream",
     "text": [
      "Saving..\n",
      "\n",
      " epoch: 334/400\n"
     ]
    },
    {
     "name": "stderr",
     "output_type": "stream",
     "text": [
      "Train--Epoch [334/400]: 100%|██████████| 375/375 [00:18<00:00, 20.66it/s, acc=74.4, loss=0.512]\n",
      "Valid--Epoch [334/400]: 100%|██████████| 89/89 [00:01<00:00, 52.02it/s, acc=70.2, loss=0.602]\n"
     ]
    },
    {
     "name": "stdout",
     "output_type": "stream",
     "text": [
      "Saving..\n",
      "\n",
      " epoch: 335/400\n"
     ]
    },
    {
     "name": "stderr",
     "output_type": "stream",
     "text": [
      "Train--Epoch [335/400]: 100%|██████████| 375/375 [00:18<00:00, 20.34it/s, acc=74.3, loss=0.513]\n",
      "Valid--Epoch [335/400]: 100%|██████████| 89/89 [00:01<00:00, 51.42it/s, acc=69.9, loss=0.618]"
     ]
    },
    {
     "name": "stdout",
     "output_type": "stream",
     "text": [
      "\n",
      " epoch: 336/400\n"
     ]
    },
    {
     "name": "stderr",
     "output_type": "stream",
     "text": [
      "\n",
      "Train--Epoch [336/400]: 100%|██████████| 375/375 [00:18<00:00, 20.64it/s, acc=74.4, loss=0.513]\n",
      "Valid--Epoch [336/400]: 100%|██████████| 89/89 [00:01<00:00, 51.65it/s, acc=69.7, loss=0.624]"
     ]
    },
    {
     "name": "stdout",
     "output_type": "stream",
     "text": [
      "\n",
      " epoch: 337/400\n"
     ]
    },
    {
     "name": "stderr",
     "output_type": "stream",
     "text": [
      "\n",
      "Train--Epoch [337/400]: 100%|██████████| 375/375 [00:18<00:00, 20.39it/s, acc=74.5, loss=0.512]\n",
      "Valid--Epoch [337/400]: 100%|██████████| 89/89 [00:01<00:00, 51.46it/s, acc=70.3, loss=0.606]\n"
     ]
    },
    {
     "name": "stdout",
     "output_type": "stream",
     "text": [
      "Saving..\n",
      "\n",
      " epoch: 338/400\n"
     ]
    },
    {
     "name": "stderr",
     "output_type": "stream",
     "text": [
      "Train--Epoch [338/400]: 100%|██████████| 375/375 [00:18<00:00, 20.75it/s, acc=74.5, loss=0.51] \n",
      "Valid--Epoch [338/400]: 100%|██████████| 89/89 [00:01<00:00, 52.63it/s, acc=70.5, loss=0.598]\n"
     ]
    },
    {
     "name": "stdout",
     "output_type": "stream",
     "text": [
      "Saving..\n",
      "\n",
      " epoch: 339/400\n"
     ]
    },
    {
     "name": "stderr",
     "output_type": "stream",
     "text": [
      "Train--Epoch [339/400]: 100%|██████████| 375/375 [00:18<00:00, 20.47it/s, acc=74.7, loss=0.509]\n",
      "Valid--Epoch [339/400]: 100%|██████████| 89/89 [00:01<00:00, 51.55it/s, acc=69.9, loss=0.62] \n"
     ]
    },
    {
     "name": "stdout",
     "output_type": "stream",
     "text": [
      "\n",
      " epoch: 340/400\n"
     ]
    },
    {
     "name": "stderr",
     "output_type": "stream",
     "text": [
      "Train--Epoch [340/400]: 100%|██████████| 375/375 [00:18<00:00, 20.67it/s, acc=74.4, loss=0.51] \n",
      "Valid--Epoch [340/400]: 100%|██████████| 89/89 [00:01<00:00, 52.53it/s, acc=70.6, loss=0.598]\n"
     ]
    },
    {
     "name": "stdout",
     "output_type": "stream",
     "text": [
      "Saving..\n",
      "\n",
      " epoch: 341/400\n"
     ]
    },
    {
     "name": "stderr",
     "output_type": "stream",
     "text": [
      "Train--Epoch [341/400]: 100%|██████████| 375/375 [00:18<00:00, 20.53it/s, acc=74.5, loss=0.51] \n",
      "Valid--Epoch [341/400]: 100%|██████████| 89/89 [00:01<00:00, 51.35it/s, acc=70, loss=0.621]  "
     ]
    },
    {
     "name": "stdout",
     "output_type": "stream",
     "text": [
      "\n",
      " epoch: 342/400\n"
     ]
    },
    {
     "name": "stderr",
     "output_type": "stream",
     "text": [
      "\n",
      "Train--Epoch [342/400]: 100%|██████████| 375/375 [00:18<00:00, 20.75it/s, acc=74.7, loss=0.51] \n",
      "Valid--Epoch [342/400]: 100%|██████████| 89/89 [00:01<00:00, 50.46it/s, acc=70.6, loss=0.59] "
     ]
    },
    {
     "name": "stdout",
     "output_type": "stream",
     "text": [
      "\n",
      " epoch: 343/400\n"
     ]
    },
    {
     "name": "stderr",
     "output_type": "stream",
     "text": [
      "\n",
      "Train--Epoch [343/400]: 100%|██████████| 375/375 [00:18<00:00, 20.62it/s, acc=74.4, loss=0.511]\n",
      "Valid--Epoch [343/400]: 100%|██████████| 89/89 [00:01<00:00, 51.88it/s, acc=70.9, loss=0.586]\n"
     ]
    },
    {
     "name": "stdout",
     "output_type": "stream",
     "text": [
      "Saving..\n",
      "\n",
      " epoch: 344/400\n"
     ]
    },
    {
     "name": "stderr",
     "output_type": "stream",
     "text": [
      "Train--Epoch [344/400]: 100%|██████████| 375/375 [00:18<00:00, 20.66it/s, acc=74.7, loss=0.509]\n",
      "Valid--Epoch [344/400]: 100%|██████████| 89/89 [00:01<00:00, 52.53it/s, acc=70.6, loss=0.602]"
     ]
    },
    {
     "name": "stdout",
     "output_type": "stream",
     "text": [
      "\n",
      " epoch: 345/400\n"
     ]
    },
    {
     "name": "stderr",
     "output_type": "stream",
     "text": [
      "\n",
      "Train--Epoch [345/400]: 100%|██████████| 375/375 [00:18<00:00, 20.54it/s, acc=74.7, loss=0.508]\n",
      "Valid--Epoch [345/400]: 100%|██████████| 89/89 [00:01<00:00, 51.14it/s, acc=70.9, loss=0.592]"
     ]
    },
    {
     "name": "stdout",
     "output_type": "stream",
     "text": [
      "\n",
      " epoch: 346/400\n"
     ]
    },
    {
     "name": "stderr",
     "output_type": "stream",
     "text": [
      "\n",
      "Train--Epoch [346/400]: 100%|██████████| 375/375 [00:18<00:00, 20.71it/s, acc=74.8, loss=0.506]\n",
      "Valid--Epoch [346/400]: 100%|██████████| 89/89 [00:01<00:00, 51.96it/s, acc=70.4, loss=0.607]\n"
     ]
    },
    {
     "name": "stdout",
     "output_type": "stream",
     "text": [
      "\n",
      " epoch: 347/400\n"
     ]
    },
    {
     "name": "stderr",
     "output_type": "stream",
     "text": [
      "Train--Epoch [347/400]: 100%|██████████| 375/375 [00:18<00:00, 20.45it/s, acc=74.7, loss=0.508]\n",
      "Valid--Epoch [347/400]: 100%|██████████| 89/89 [00:01<00:00, 51.67it/s, acc=70.6, loss=0.6]  "
     ]
    },
    {
     "name": "stdout",
     "output_type": "stream",
     "text": [
      "\n",
      " epoch: 348/400\n"
     ]
    },
    {
     "name": "stderr",
     "output_type": "stream",
     "text": [
      "\n",
      "Train--Epoch [348/400]: 100%|██████████| 375/375 [00:18<00:00, 20.67it/s, acc=74.9, loss=0.506]\n",
      "Valid--Epoch [348/400]: 100%|██████████| 89/89 [00:01<00:00, 50.27it/s, acc=72, loss=0.568]  \n"
     ]
    },
    {
     "name": "stdout",
     "output_type": "stream",
     "text": [
      "Saving..\n",
      "\n",
      " epoch: 349/400\n"
     ]
    },
    {
     "name": "stderr",
     "output_type": "stream",
     "text": [
      "Train--Epoch [349/400]: 100%|██████████| 375/375 [00:18<00:00, 20.57it/s, acc=74.8, loss=0.506]\n",
      "Valid--Epoch [349/400]: 100%|██████████| 89/89 [00:01<00:00, 52.50it/s, acc=71.2, loss=0.578]"
     ]
    },
    {
     "name": "stdout",
     "output_type": "stream",
     "text": [
      "\n",
      " epoch: 350/400\n"
     ]
    },
    {
     "name": "stderr",
     "output_type": "stream",
     "text": [
      "\n",
      "Train--Epoch [350/400]: 100%|██████████| 375/375 [00:18<00:00, 20.71it/s, acc=74.9, loss=0.505]\n",
      "Valid--Epoch [350/400]: 100%|██████████| 89/89 [00:01<00:00, 50.94it/s, acc=70.3, loss=0.604]\n"
     ]
    },
    {
     "name": "stdout",
     "output_type": "stream",
     "text": [
      "\n",
      " epoch: 351/400\n"
     ]
    },
    {
     "name": "stderr",
     "output_type": "stream",
     "text": [
      "Train--Epoch [351/400]: 100%|██████████| 375/375 [00:18<00:00, 20.75it/s, acc=75, loss=0.505]  \n",
      "Valid--Epoch [351/400]: 100%|██████████| 89/89 [00:01<00:00, 52.01it/s, acc=71.9, loss=0.563]"
     ]
    },
    {
     "name": "stdout",
     "output_type": "stream",
     "text": [
      "\n",
      " epoch: 352/400\n"
     ]
    },
    {
     "name": "stderr",
     "output_type": "stream",
     "text": [
      "\n",
      "Train--Epoch [352/400]: 100%|██████████| 375/375 [00:18<00:00, 20.67it/s, acc=74.9, loss=0.505]\n",
      "Valid--Epoch [352/400]: 100%|██████████| 89/89 [00:01<00:00, 50.40it/s, acc=71.1, loss=0.581]\n"
     ]
    },
    {
     "name": "stdout",
     "output_type": "stream",
     "text": [
      "\n",
      " epoch: 353/400\n"
     ]
    },
    {
     "name": "stderr",
     "output_type": "stream",
     "text": [
      "Train--Epoch [353/400]: 100%|██████████| 375/375 [00:18<00:00, 20.67it/s, acc=74.9, loss=0.504]\n",
      "Valid--Epoch [353/400]: 100%|██████████| 89/89 [00:01<00:00, 51.91it/s, acc=71.2, loss=0.579]"
     ]
    },
    {
     "name": "stdout",
     "output_type": "stream",
     "text": [
      "\n",
      " epoch: 354/400\n"
     ]
    },
    {
     "name": "stderr",
     "output_type": "stream",
     "text": [
      "\n",
      "Train--Epoch [354/400]: 100%|██████████| 375/375 [00:18<00:00, 20.68it/s, acc=74.8, loss=0.505]\n",
      "Valid--Epoch [354/400]: 100%|██████████| 89/89 [00:01<00:00, 50.83it/s, acc=71.4, loss=0.574]"
     ]
    },
    {
     "name": "stdout",
     "output_type": "stream",
     "text": [
      "\n",
      " epoch: 355/400\n"
     ]
    },
    {
     "name": "stderr",
     "output_type": "stream",
     "text": [
      "\n",
      "Train--Epoch [355/400]: 100%|██████████| 375/375 [00:18<00:00, 20.50it/s, acc=75, loss=0.503]  \n",
      "Valid--Epoch [355/400]: 100%|██████████| 89/89 [00:01<00:00, 51.31it/s, acc=71.2, loss=0.584]"
     ]
    },
    {
     "name": "stdout",
     "output_type": "stream",
     "text": [
      "\n",
      " epoch: 356/400\n"
     ]
    },
    {
     "name": "stderr",
     "output_type": "stream",
     "text": [
      "\n",
      "Train--Epoch [356/400]: 100%|██████████| 375/375 [00:18<00:00, 20.74it/s, acc=75, loss=0.503]  \n",
      "Valid--Epoch [356/400]: 100%|██████████| 89/89 [00:01<00:00, 51.71it/s, acc=71.5, loss=0.579]"
     ]
    },
    {
     "name": "stdout",
     "output_type": "stream",
     "text": [
      "\n",
      " epoch: 357/400\n"
     ]
    },
    {
     "name": "stderr",
     "output_type": "stream",
     "text": [
      "\n",
      "Train--Epoch [357/400]: 100%|██████████| 375/375 [00:18<00:00, 20.46it/s, acc=75.1, loss=0.503]\n",
      "Valid--Epoch [357/400]: 100%|██████████| 89/89 [00:01<00:00, 50.55it/s, acc=70.7, loss=0.596]\n"
     ]
    },
    {
     "name": "stdout",
     "output_type": "stream",
     "text": [
      "\n",
      " epoch: 358/400\n"
     ]
    },
    {
     "name": "stderr",
     "output_type": "stream",
     "text": [
      "Train--Epoch [358/400]: 100%|██████████| 375/375 [00:18<00:00, 20.56it/s, acc=75.1, loss=0.501]\n",
      "Valid--Epoch [358/400]: 100%|██████████| 89/89 [00:01<00:00, 52.46it/s, acc=70.9, loss=0.6]  "
     ]
    },
    {
     "name": "stdout",
     "output_type": "stream",
     "text": [
      "\n",
      " epoch: 359/400\n"
     ]
    },
    {
     "name": "stderr",
     "output_type": "stream",
     "text": [
      "\n",
      "Train--Epoch [359/400]: 100%|██████████| 375/375 [00:18<00:00, 20.49it/s, acc=75.2, loss=0.501]\n",
      "Valid--Epoch [359/400]: 100%|██████████| 89/89 [00:01<00:00, 51.70it/s, acc=71, loss=0.584]  "
     ]
    },
    {
     "name": "stdout",
     "output_type": "stream",
     "text": [
      "\n",
      " epoch: 360/400\n"
     ]
    },
    {
     "name": "stderr",
     "output_type": "stream",
     "text": [
      "\n",
      "Train--Epoch [360/400]: 100%|██████████| 375/375 [00:18<00:00, 20.63it/s, acc=75.4, loss=0.501]\n",
      "Valid--Epoch [360/400]: 100%|██████████| 89/89 [00:01<00:00, 49.27it/s, acc=71.8, loss=0.564]"
     ]
    },
    {
     "name": "stdout",
     "output_type": "stream",
     "text": [
      "\n",
      " epoch: 361/400\n"
     ]
    },
    {
     "name": "stderr",
     "output_type": "stream",
     "text": [
      "\n",
      "Train--Epoch [361/400]: 100%|██████████| 375/375 [00:18<00:00, 20.79it/s, acc=75.2, loss=0.501]\n",
      "Valid--Epoch [361/400]: 100%|██████████| 89/89 [00:01<00:00, 52.17it/s, acc=71.4, loss=0.575]"
     ]
    },
    {
     "name": "stdout",
     "output_type": "stream",
     "text": [
      "\n",
      " epoch: 362/400\n"
     ]
    },
    {
     "name": "stderr",
     "output_type": "stream",
     "text": [
      "\n",
      "Train--Epoch [362/400]: 100%|██████████| 375/375 [00:18<00:00, 20.83it/s, acc=75.3, loss=0.5]  \n",
      "Valid--Epoch [362/400]: 100%|██████████| 89/89 [00:01<00:00, 51.62it/s, acc=71.7, loss=0.57] "
     ]
    },
    {
     "name": "stdout",
     "output_type": "stream",
     "text": [
      "\n",
      " epoch: 363/400\n"
     ]
    },
    {
     "name": "stderr",
     "output_type": "stream",
     "text": [
      "\n",
      "Train--Epoch [363/400]: 100%|██████████| 375/375 [00:18<00:00, 20.47it/s, acc=75.2, loss=0.502]\n",
      "Valid--Epoch [363/400]: 100%|██████████| 89/89 [00:01<00:00, 52.16it/s, acc=71.7, loss=0.573]"
     ]
    },
    {
     "name": "stdout",
     "output_type": "stream",
     "text": [
      "\n",
      " epoch: 364/400\n"
     ]
    },
    {
     "name": "stderr",
     "output_type": "stream",
     "text": [
      "\n",
      "Train--Epoch [364/400]: 100%|██████████| 375/375 [00:18<00:00, 20.60it/s, acc=75.4, loss=0.499]\n",
      "Valid--Epoch [364/400]: 100%|██████████| 89/89 [00:01<00:00, 49.30it/s, acc=71, loss=0.58]   "
     ]
    },
    {
     "name": "stdout",
     "output_type": "stream",
     "text": [
      "\n",
      " epoch: 365/400\n"
     ]
    },
    {
     "name": "stderr",
     "output_type": "stream",
     "text": [
      "\n",
      "Train--Epoch [365/400]: 100%|██████████| 375/375 [00:18<00:00, 20.65it/s, acc=75.3, loss=0.499]\n",
      "Valid--Epoch [365/400]: 100%|██████████| 89/89 [00:01<00:00, 51.73it/s, acc=71.6, loss=0.57] "
     ]
    },
    {
     "name": "stdout",
     "output_type": "stream",
     "text": [
      "\n",
      " epoch: 366/400\n"
     ]
    },
    {
     "name": "stderr",
     "output_type": "stream",
     "text": [
      "\n",
      "Train--Epoch [366/400]: 100%|██████████| 375/375 [00:18<00:00, 20.62it/s, acc=75.1, loss=0.5]  \n",
      "Valid--Epoch [366/400]: 100%|██████████| 89/89 [00:01<00:00, 49.86it/s, acc=71.6, loss=0.575]"
     ]
    },
    {
     "name": "stdout",
     "output_type": "stream",
     "text": [
      "\n",
      " epoch: 367/400\n"
     ]
    },
    {
     "name": "stderr",
     "output_type": "stream",
     "text": [
      "\n",
      "Train--Epoch [367/400]: 100%|██████████| 375/375 [00:18<00:00, 20.65it/s, acc=75.3, loss=0.499]\n",
      "Valid--Epoch [367/400]: 100%|██████████| 89/89 [00:01<00:00, 52.47it/s, acc=72.1, loss=0.562]\n"
     ]
    },
    {
     "name": "stdout",
     "output_type": "stream",
     "text": [
      "Saving..\n",
      "\n",
      " epoch: 368/400\n"
     ]
    },
    {
     "name": "stderr",
     "output_type": "stream",
     "text": [
      "Train--Epoch [368/400]: 100%|██████████| 375/375 [00:18<00:00, 20.40it/s, acc=75.3, loss=0.499]\n",
      "Valid--Epoch [368/400]: 100%|██████████| 89/89 [00:01<00:00, 51.17it/s, acc=72.2, loss=0.558]\n"
     ]
    },
    {
     "name": "stdout",
     "output_type": "stream",
     "text": [
      "Saving..\n",
      "\n",
      " epoch: 369/400\n"
     ]
    },
    {
     "name": "stderr",
     "output_type": "stream",
     "text": [
      "Train--Epoch [369/400]: 100%|██████████| 375/375 [00:18<00:00, 20.70it/s, acc=75.3, loss=0.498]\n",
      "Valid--Epoch [369/400]: 100%|██████████| 89/89 [00:01<00:00, 52.04it/s, acc=72.1, loss=0.564]"
     ]
    },
    {
     "name": "stdout",
     "output_type": "stream",
     "text": [
      "\n",
      " epoch: 370/400\n"
     ]
    },
    {
     "name": "stderr",
     "output_type": "stream",
     "text": [
      "\n",
      "Train--Epoch [370/400]: 100%|██████████| 375/375 [00:18<00:00, 20.42it/s, acc=75.5, loss=0.498]\n",
      "Valid--Epoch [370/400]: 100%|██████████| 89/89 [00:01<00:00, 50.93it/s, acc=72.2, loss=0.557]\n"
     ]
    },
    {
     "name": "stdout",
     "output_type": "stream",
     "text": [
      "\n",
      " epoch: 371/400\n"
     ]
    },
    {
     "name": "stderr",
     "output_type": "stream",
     "text": [
      "Train--Epoch [371/400]: 100%|██████████| 375/375 [00:18<00:00, 20.70it/s, acc=75.3, loss=0.498]\n",
      "Valid--Epoch [371/400]: 100%|██████████| 89/89 [00:01<00:00, 51.88it/s, acc=71.6, loss=0.572]"
     ]
    },
    {
     "name": "stdout",
     "output_type": "stream",
     "text": [
      "\n",
      " epoch: 372/400\n"
     ]
    },
    {
     "name": "stderr",
     "output_type": "stream",
     "text": [
      "\n",
      "Train--Epoch [372/400]: 100%|██████████| 375/375 [00:18<00:00, 20.57it/s, acc=75.3, loss=0.498]\n",
      "Valid--Epoch [372/400]: 100%|██████████| 89/89 [00:01<00:00, 50.51it/s, acc=71.6, loss=0.574]"
     ]
    },
    {
     "name": "stdout",
     "output_type": "stream",
     "text": [
      "\n",
      " epoch: 373/400\n"
     ]
    },
    {
     "name": "stderr",
     "output_type": "stream",
     "text": [
      "\n",
      "Train--Epoch [373/400]: 100%|██████████| 375/375 [00:18<00:00, 20.49it/s, acc=75.6, loss=0.495]\n",
      "Valid--Epoch [373/400]: 100%|██████████| 89/89 [00:01<00:00, 48.22it/s, acc=71.9, loss=0.563]\n"
     ]
    },
    {
     "name": "stdout",
     "output_type": "stream",
     "text": [
      "\n",
      " epoch: 374/400\n"
     ]
    },
    {
     "name": "stderr",
     "output_type": "stream",
     "text": [
      "Train--Epoch [374/400]: 100%|██████████| 375/375 [00:18<00:00, 20.37it/s, acc=75.6, loss=0.495]\n",
      "Valid--Epoch [374/400]: 100%|██████████| 89/89 [00:01<00:00, 50.82it/s, acc=71.6, loss=0.574]\n"
     ]
    },
    {
     "name": "stdout",
     "output_type": "stream",
     "text": [
      "\n",
      " epoch: 375/400\n"
     ]
    },
    {
     "name": "stderr",
     "output_type": "stream",
     "text": [
      "Train--Epoch [375/400]: 100%|██████████| 375/375 [00:18<00:00, 20.55it/s, acc=75.5, loss=0.495]\n",
      "Valid--Epoch [375/400]: 100%|██████████| 89/89 [00:01<00:00, 52.53it/s, acc=72.6, loss=0.551]\n"
     ]
    },
    {
     "name": "stdout",
     "output_type": "stream",
     "text": [
      "Saving..\n",
      "\n",
      " epoch: 376/400\n"
     ]
    },
    {
     "name": "stderr",
     "output_type": "stream",
     "text": [
      "Train--Epoch [376/400]: 100%|██████████| 375/375 [00:18<00:00, 20.55it/s, acc=75.6, loss=0.496]\n",
      "Valid--Epoch [376/400]: 100%|██████████| 89/89 [00:01<00:00, 50.95it/s, acc=72.4, loss=0.563]"
     ]
    },
    {
     "name": "stdout",
     "output_type": "stream",
     "text": [
      "\n",
      " epoch: 377/400\n"
     ]
    },
    {
     "name": "stderr",
     "output_type": "stream",
     "text": [
      "\n",
      "Train--Epoch [377/400]: 100%|██████████| 375/375 [00:18<00:00, 20.67it/s, acc=75.7, loss=0.493]\n",
      "Valid--Epoch [377/400]: 100%|██████████| 89/89 [00:01<00:00, 51.30it/s, acc=72.4, loss=0.564]"
     ]
    },
    {
     "name": "stdout",
     "output_type": "stream",
     "text": [
      "\n",
      " epoch: 378/400\n"
     ]
    },
    {
     "name": "stderr",
     "output_type": "stream",
     "text": [
      "\n",
      "Train--Epoch [378/400]: 100%|██████████| 375/375 [00:18<00:00, 20.36it/s, acc=75.5, loss=0.496]\n",
      "Valid--Epoch [378/400]: 100%|██████████| 89/89 [00:01<00:00, 51.45it/s, acc=71.9, loss=0.568]"
     ]
    },
    {
     "name": "stdout",
     "output_type": "stream",
     "text": [
      "\n",
      " epoch: 379/400\n"
     ]
    },
    {
     "name": "stderr",
     "output_type": "stream",
     "text": [
      "\n",
      "Train--Epoch [379/400]: 100%|██████████| 375/375 [00:18<00:00, 20.71it/s, acc=75.6, loss=0.496]\n",
      "Valid--Epoch [379/400]: 100%|██████████| 89/89 [00:01<00:00, 50.56it/s, acc=72.9, loss=0.546]\n"
     ]
    },
    {
     "name": "stdout",
     "output_type": "stream",
     "text": [
      "Saving..\n",
      "\n",
      " epoch: 380/400\n"
     ]
    },
    {
     "name": "stderr",
     "output_type": "stream",
     "text": [
      "Train--Epoch [380/400]: 100%|██████████| 375/375 [00:18<00:00, 20.54it/s, acc=75.9, loss=0.493]\n",
      "Valid--Epoch [380/400]: 100%|██████████| 89/89 [00:01<00:00, 51.38it/s, acc=72.4, loss=0.558]"
     ]
    },
    {
     "name": "stdout",
     "output_type": "stream",
     "text": [
      "\n",
      " epoch: 381/400\n"
     ]
    },
    {
     "name": "stderr",
     "output_type": "stream",
     "text": [
      "\n",
      "Train--Epoch [381/400]: 100%|██████████| 375/375 [00:18<00:00, 20.64it/s, acc=75.7, loss=0.494]\n",
      "Valid--Epoch [381/400]: 100%|██████████| 89/89 [00:01<00:00, 51.26it/s, acc=72.4, loss=0.552]"
     ]
    },
    {
     "name": "stdout",
     "output_type": "stream",
     "text": [
      "\n",
      " epoch: 382/400\n"
     ]
    },
    {
     "name": "stderr",
     "output_type": "stream",
     "text": [
      "\n",
      "Train--Epoch [382/400]: 100%|██████████| 375/375 [00:18<00:00, 20.62it/s, acc=75.6, loss=0.493]\n",
      "Valid--Epoch [382/400]: 100%|██████████| 89/89 [00:01<00:00, 51.79it/s, acc=73, loss=0.547]  \n"
     ]
    },
    {
     "name": "stdout",
     "output_type": "stream",
     "text": [
      "Saving..\n",
      "\n",
      " epoch: 383/400\n"
     ]
    },
    {
     "name": "stderr",
     "output_type": "stream",
     "text": [
      "Train--Epoch [383/400]: 100%|██████████| 375/375 [00:18<00:00, 20.67it/s, acc=75.8, loss=0.491]\n",
      "Valid--Epoch [383/400]: 100%|██████████| 89/89 [00:01<00:00, 49.76it/s, acc=72.5, loss=0.567]"
     ]
    },
    {
     "name": "stdout",
     "output_type": "stream",
     "text": [
      "\n",
      " epoch: 384/400\n"
     ]
    },
    {
     "name": "stderr",
     "output_type": "stream",
     "text": [
      "\n",
      "Train--Epoch [384/400]: 100%|██████████| 375/375 [00:18<00:00, 20.55it/s, acc=75.9, loss=0.491]\n",
      "Valid--Epoch [384/400]: 100%|██████████| 89/89 [00:01<00:00, 52.42it/s, acc=72.3, loss=0.561]"
     ]
    },
    {
     "name": "stdout",
     "output_type": "stream",
     "text": [
      "\n",
      " epoch: 385/400\n"
     ]
    },
    {
     "name": "stderr",
     "output_type": "stream",
     "text": [
      "\n",
      "Train--Epoch [385/400]: 100%|██████████| 375/375 [00:18<00:00, 20.72it/s, acc=75.8, loss=0.493]\n",
      "Valid--Epoch [385/400]: 100%|██████████| 89/89 [00:01<00:00, 50.93it/s, acc=72.3, loss=0.559]"
     ]
    },
    {
     "name": "stdout",
     "output_type": "stream",
     "text": [
      "\n",
      " epoch: 386/400\n"
     ]
    },
    {
     "name": "stderr",
     "output_type": "stream",
     "text": [
      "\n",
      "Train--Epoch [386/400]: 100%|██████████| 375/375 [00:18<00:00, 20.53it/s, acc=75.8, loss=0.492]\n",
      "Valid--Epoch [386/400]: 100%|██████████| 89/89 [00:01<00:00, 50.94it/s, acc=72.9, loss=0.546]"
     ]
    },
    {
     "name": "stdout",
     "output_type": "stream",
     "text": [
      "\n",
      " epoch: 387/400\n"
     ]
    },
    {
     "name": "stderr",
     "output_type": "stream",
     "text": [
      "\n",
      "Train--Epoch [387/400]: 100%|██████████| 375/375 [00:18<00:00, 20.68it/s, acc=76, loss=0.49]   \n",
      "Valid--Epoch [387/400]: 100%|██████████| 89/89 [00:01<00:00, 51.58it/s, acc=72.8, loss=0.557]"
     ]
    },
    {
     "name": "stdout",
     "output_type": "stream",
     "text": [
      "\n",
      " epoch: 388/400\n"
     ]
    },
    {
     "name": "stderr",
     "output_type": "stream",
     "text": [
      "\n",
      "Train--Epoch [388/400]: 100%|██████████| 375/375 [00:18<00:00, 20.49it/s, acc=76.2, loss=0.49] \n",
      "Valid--Epoch [388/400]: 100%|██████████| 89/89 [00:01<00:00, 51.12it/s, acc=72.6, loss=0.556]"
     ]
    },
    {
     "name": "stdout",
     "output_type": "stream",
     "text": [
      "\n",
      " epoch: 389/400\n"
     ]
    },
    {
     "name": "stderr",
     "output_type": "stream",
     "text": [
      "\n",
      "Train--Epoch [389/400]: 100%|██████████| 375/375 [00:18<00:00, 20.77it/s, acc=75.9, loss=0.49] \n",
      "Valid--Epoch [389/400]: 100%|██████████| 89/89 [00:01<00:00, 50.27it/s, acc=72.7, loss=0.552]"
     ]
    },
    {
     "name": "stdout",
     "output_type": "stream",
     "text": [
      "\n",
      " epoch: 390/400\n"
     ]
    },
    {
     "name": "stderr",
     "output_type": "stream",
     "text": [
      "\n",
      "Train--Epoch [390/400]: 100%|██████████| 375/375 [00:18<00:00, 20.55it/s, acc=76, loss=0.49]   \n",
      "Valid--Epoch [390/400]: 100%|██████████| 89/89 [00:01<00:00, 50.88it/s, acc=73.4, loss=0.545]\n"
     ]
    },
    {
     "name": "stdout",
     "output_type": "stream",
     "text": [
      "Saving..\n",
      "\n",
      " epoch: 391/400\n"
     ]
    },
    {
     "name": "stderr",
     "output_type": "stream",
     "text": [
      "Train--Epoch [391/400]: 100%|██████████| 375/375 [00:18<00:00, 20.62it/s, acc=75.9, loss=0.489]\n",
      "Valid--Epoch [391/400]: 100%|██████████| 89/89 [00:01<00:00, 50.77it/s, acc=73.2, loss=0.544]"
     ]
    },
    {
     "name": "stdout",
     "output_type": "stream",
     "text": [
      "\n",
      " epoch: 392/400\n"
     ]
    },
    {
     "name": "stderr",
     "output_type": "stream",
     "text": [
      "\n",
      "Train--Epoch [392/400]: 100%|██████████| 375/375 [00:18<00:00, 20.50it/s, acc=75.9, loss=0.491]\n",
      "Valid--Epoch [392/400]: 100%|██████████| 89/89 [00:01<00:00, 50.55it/s, acc=73.1, loss=0.538]"
     ]
    },
    {
     "name": "stdout",
     "output_type": "stream",
     "text": [
      "\n",
      " epoch: 393/400\n"
     ]
    },
    {
     "name": "stderr",
     "output_type": "stream",
     "text": [
      "\n",
      "Train--Epoch [393/400]: 100%|██████████| 375/375 [00:18<00:00, 20.63it/s, acc=75.9, loss=0.49] \n",
      "Valid--Epoch [393/400]: 100%|██████████| 89/89 [00:01<00:00, 48.21it/s, acc=73.4, loss=0.542]"
     ]
    },
    {
     "name": "stdout",
     "output_type": "stream",
     "text": [
      "\n",
      " epoch: 394/400\n"
     ]
    },
    {
     "name": "stderr",
     "output_type": "stream",
     "text": [
      "\n",
      "Train--Epoch [394/400]: 100%|██████████| 375/375 [00:18<00:00, 20.73it/s, acc=76, loss=0.488]  \n",
      "Valid--Epoch [394/400]: 100%|██████████| 89/89 [00:01<00:00, 49.88it/s, acc=73.1, loss=0.544]"
     ]
    },
    {
     "name": "stdout",
     "output_type": "stream",
     "text": [
      "\n",
      " epoch: 395/400\n"
     ]
    },
    {
     "name": "stderr",
     "output_type": "stream",
     "text": [
      "\n",
      "Train--Epoch [395/400]: 100%|██████████| 375/375 [00:18<00:00, 20.71it/s, acc=76, loss=0.487]  \n",
      "Valid--Epoch [395/400]: 100%|██████████| 89/89 [00:01<00:00, 47.86it/s, acc=73.7, loss=0.54] \n"
     ]
    },
    {
     "name": "stdout",
     "output_type": "stream",
     "text": [
      "Saving..\n",
      "\n",
      " epoch: 396/400\n"
     ]
    },
    {
     "name": "stderr",
     "output_type": "stream",
     "text": [
      "Train--Epoch [396/400]: 100%|██████████| 375/375 [00:18<00:00, 20.68it/s, acc=76.1, loss=0.488]\n",
      "Valid--Epoch [396/400]: 100%|██████████| 89/89 [00:01<00:00, 50.77it/s, acc=73.1, loss=0.548]"
     ]
    },
    {
     "name": "stdout",
     "output_type": "stream",
     "text": [
      "\n",
      " epoch: 397/400\n"
     ]
    },
    {
     "name": "stderr",
     "output_type": "stream",
     "text": [
      "\n",
      "Train--Epoch [397/400]: 100%|██████████| 375/375 [00:18<00:00, 20.54it/s, acc=76.2, loss=0.487]\n",
      "Valid--Epoch [397/400]: 100%|██████████| 89/89 [00:01<00:00, 46.98it/s, acc=73.3, loss=0.543]"
     ]
    },
    {
     "name": "stdout",
     "output_type": "stream",
     "text": [
      "\n",
      " epoch: 398/400\n"
     ]
    },
    {
     "name": "stderr",
     "output_type": "stream",
     "text": [
      "\n",
      "Train--Epoch [398/400]: 100%|██████████| 375/375 [00:18<00:00, 20.53it/s, acc=76.2, loss=0.487]\n",
      "Valid--Epoch [398/400]: 100%|██████████| 89/89 [00:01<00:00, 51.14it/s, acc=73.3, loss=0.541]"
     ]
    },
    {
     "name": "stdout",
     "output_type": "stream",
     "text": [
      "\n",
      " epoch: 399/400\n"
     ]
    },
    {
     "name": "stderr",
     "output_type": "stream",
     "text": [
      "\n",
      "Train--Epoch [399/400]: 100%|██████████| 375/375 [00:18<00:00, 20.68it/s, acc=76.1, loss=0.488]\n",
      "Valid--Epoch [399/400]: 100%|██████████| 89/89 [00:01<00:00, 50.04it/s, acc=73.5, loss=0.541]\n"
     ]
    },
    {
     "name": "stdout",
     "output_type": "stream",
     "text": [
      "\n",
      " epoch: 400/400\n"
     ]
    },
    {
     "name": "stderr",
     "output_type": "stream",
     "text": [
      "Train--Epoch [400/400]: 100%|██████████| 375/375 [00:18<00:00, 20.59it/s, acc=76, loss=0.489]  \n",
      "Valid--Epoch [400/400]: 100%|██████████| 89/89 [00:01<00:00, 51.68it/s, acc=73.3, loss=0.545]\n"
     ]
    }
   ],
   "source": [
    "model.to(device)\n",
    "for epoch in range(start_epoch, end_epoch):\n",
    "\n",
    "    print(f'\\n epoch: {epoch+1}/{end_epoch}')\n",
    "\n",
    "    ##########################################################\n",
    "    model.train(True)\n",
    "    tr_loss = 0\n",
    "    correct = 0\n",
    "    total = 0\n",
    "    running_lr = 0\n",
    "\n",
    "    loop1 = tqdm(enumerate(train_loader), total=len(train_loader))\n",
    "    for batch_idx, (inputs, targets) in  loop1:\n",
    "        inputs, targets = inputs.to(device), targets.to(device)\n",
    "\n",
    "        outputs = model(inputs)\n",
    "        loss = criterion(outputs, targets)\n",
    "\n",
    "\n",
    "        # Zero gradients for every batch\n",
    "        optimizer.zero_grad()\n",
    "        # Backward path\n",
    "        loss.backward()\n",
    "\n",
    "        running_lr += optimizer.param_groups[-1]['lr']\n",
    "\n",
    "        # Optimizer Step\n",
    "        optimizer.step()\n",
    "\n",
    "        tr_loss += loss.item()\n",
    "        _, predicted = outputs.max(1)\n",
    "        total += targets.size(0)\n",
    "        correct += predicted.eq(targets).sum().item()\n",
    "\n",
    "        avg_tr_loss = tr_loss/(batch_idx+1)\n",
    "        avg_tr_accuracy = 100.*correct/total\n",
    "        avg_running_lr = running_lr/(batch_idx+1)\n",
    "\n",
    "        loop1.set_description(f\"Train--Epoch [{epoch+1}/{end_epoch}]\")\n",
    "        loop1.set_postfix(loss=avg_tr_loss, acc=avg_tr_accuracy)\n",
    "\n",
    "    ##########################################################\n",
    "    model.eval()\n",
    "    val_loss = 0\n",
    "    correct = 0\n",
    "    total = 0\n",
    "    with torch.no_grad():\n",
    "\n",
    "        loop2 = tqdm(enumerate(valid_loader), total=len(valid_loader))\n",
    "        for batch_idx, (inputs, targets) in loop2:\n",
    "            inputs, targets = inputs.to(device), targets.to(device)\n",
    "\n",
    "            outputs = model(inputs)\n",
    "            loss = criterion(outputs, targets)\n",
    "\n",
    "            val_loss += loss.item()\n",
    "            _, predicted = outputs.max(1)\n",
    "            total += targets.size(0)\n",
    "            correct += predicted.eq(targets).sum().item()\n",
    "\n",
    "            avg_val_loss = val_loss/(batch_idx+1)\n",
    "            avg_val_accuracy = 100.*correct/total\n",
    "\n",
    "            loop2.set_description(f\"Valid--Epoch [{epoch+1}/{end_epoch}]\")\n",
    "            loop2.set_postfix(loss=avg_val_loss, acc=avg_val_accuracy)\n",
    "    ##########################################################\n",
    "     \n",
    "    tr_loss_lst.append(avg_tr_loss)\n",
    "    tr_acc_lst.append(avg_tr_accuracy)\n",
    "    val_loss_lst.append(avg_val_loss)\n",
    "    val_acc_lst.append(avg_val_accuracy)\n",
    "    optimizer_lst.append(type(optimizer).__name__)\n",
    "    running_lr_lst.append(avg_running_lr)\n",
    "\n",
    "    # Save checkpoint.\n",
    "    if avg_val_accuracy > best_acc:\n",
    "        best_acc = avg_val_accuracy\n",
    "\n",
    "        print('Saving..')\n",
    "        state = {\"model\": model.state_dict(),\n",
    "                 \"optimizer\": optimizer.state_dict(),\n",
    "                 \"epoch\": epoch,\n",
    "                 \"best_acc\": best_acc,\n",
    "                 \"tr_loss_lst\": tr_loss_lst,\n",
    "                 \"tr_acc_lst\": tr_acc_lst,\n",
    "                 \"val_loss_lst\": val_loss_lst,\n",
    "                 \"val_acc_lst\": val_acc_lst,\n",
    "                 \"optimizer_lst\":optimizer_lst,\n",
    "                 \"running_lr_lst\": running_lr_lst\n",
    "                 }\n",
    "        torch.save(state, model_state_path +f'{model_type}_patch{patch_size}_cifak_epoch_{epoch}')\n",
    "\n",
    "    ##########################################################\n",
    "\n",
    "    if use_scheduler: scheduler.step()  # step scheduling"
   ]
  },
  {
   "cell_type": "code",
   "execution_count": 26,
   "metadata": {},
   "outputs": [
    {
     "data": {
      "image/png": "[encoded data removed]",
      "text/plain": [
       "<Figure size 640x480 with 2 Axes>"
      ]
     },
     "metadata": {},
     "output_type": "display_data"
    }
   ],
   "source": [
    "fig, axs = plt.subplots(2, 1)\n",
    "\n",
    "axs[0].plot(range(len(tr_loss_lst )), tr_loss_lst , label='Train Loss')\n",
    "axs[0].plot(range(len(val_loss_lst)), val_loss_lst, label='Validation Loss')\n",
    "axs[0].set_ylim([0,5])\n",
    "\n",
    "axs[1].plot(range(len(tr_acc_lst)), tr_acc_lst, label='Train Accuracy')\n",
    "axs[1].plot(range(len(val_acc_lst)), val_acc_lst, label='Validation Accuracy')\n",
    "axs[1].set_ylim([40,80])\n",
    "\n",
    "axs[0].legend()\n",
    "axs[1].legend()\n",
    "plt.show()"
   ]
  },
  {
   "cell_type": "code",
   "execution_count": 34,
   "metadata": {},
   "outputs": [
    {
     "data": {
      "image/png": "[encoded data removed]",
      "text/plain": [
       "<Figure size 640x480 with 1 Axes>"
      ]
     },
     "metadata": {},
     "output_type": "display_data"
    }
   ],
   "source": [
    "fig, axs = plt.subplots(1, 1)\n",
    "\n",
    "axs.plot(tr_loss_lst, running_lr_lst, label=f'lr change for the {optimizer_lst[-1]} optimizer')\n",
    "axs.set_xlabel('Training_Loss')\n",
    "axs.set_ylabel('Running Learning Rate')\n",
    "axs.legend()\n",
    "plt.show()"
   ]
  }
 ],
 "metadata": {
  "kernelspec": {
   "display_name": "timmvenv11",
   "language": "python",
   "name": "python3"
  },
  "language_info": {
   "codemirror_mode": {
    "name": "ipython",
    "version": 3
   },
   "file_extension": ".py",
   "mimetype": "text/x-python",
   "name": "python",
   "nbconvert_exporter": "python",
   "pygments_lexer": "ipython3",
   "version": "3.11.0rc1"
  }
 },
 "nbformat": 4,
 "nbformat_minor": 2
}
