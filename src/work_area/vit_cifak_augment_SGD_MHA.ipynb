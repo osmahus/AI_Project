{
 "cells": [
  {
   "cell_type": "code",
   "execution_count": 1,
   "metadata": {},
   "outputs": [],
   "source": [
    "import os\n",
    "import cv2\n",
    "\n",
    "from helpers.dataset_process import dataset_to_df, search_df\n",
    "\n",
    "import numpy as np\n",
    "# import pandas as pd\n",
    "\n",
    "from tqdm import tqdm\n",
    "\n",
    "import matplotlib.pyplot as plt\n",
    "from mpl_toolkits.axes_grid1 import ImageGrid\n",
    "\n",
    "import torch\n",
    "from torch import nn, einsum\n",
    "import torch.nn.functional as F\n",
    "\n",
    "\n",
    "# The cross-entropy loss penalizes the model more when it is more confident in the incorrect class\n",
    "from torch.nn import CrossEntropyLoss\n",
    "\n",
    "# Adam is an optimization algorithm that can be used instead of the classical SGD procedure\n",
    "# to update network weights iterative based in training data.\n",
    "from torch.optim import SGD, Adam\n",
    "from torch.optim.lr_scheduler import CosineAnnealingLR\n",
    "from torch.utils.data import Dataset, DataLoader, random_split\n",
    "\n",
    "from torchvision import transforms\n",
    "from torchvision.transforms import v2\n",
    "from torchvision.io import read_image\n",
    "\n",
    "from torchinfo import summary\n",
    "\n",
    "from einops import rearrange, repeat\n",
    "from einops.layers.torch import Rearrange\n"
   ]
  },
  {
   "cell_type": "code",
   "execution_count": 2,
   "metadata": {},
   "outputs": [
    {
     "name": "stdout",
     "output_type": "stream",
     "text": [
      "torch version: 2.2.1+cu121\n",
      "GPU Card: NVIDIA GeForce RTX 3070 Ti Laptop GPU\n",
      "Torch is using device: cuda:0\n",
      "CPU Count: 20\n"
     ]
    }
   ],
   "source": [
    "print(f\"torch version: {torch.__version__}\")\n",
    "print(f\"GPU Card: {torch.cuda.get_device_name(0)}\")\n",
    "device = torch.device('cuda:0' if torch.cuda.is_available() else 'cpu')\n",
    "print('Torch is using device:', device)\n",
    "torch.cuda.get_device_name(device)\n",
    "\n",
    "NUM_WORKERS = os.cpu_count()\n",
    "print(\"CPU Count:\", NUM_WORKERS)"
   ]
  },
  {
   "cell_type": "code",
   "execution_count": 3,
   "metadata": {},
   "outputs": [],
   "source": [
    "model_type = \"vit\"\n",
    "add_extra_epochs = True  # if True then continue for extra epochs from the starting epoch\n",
    "# If True load a pretrained model, and start_epoch = epoch of the model . Else if False then start_epoch = 0\n",
    "start_from_model = False"
   ]
  },
  {
   "cell_type": "code",
   "execution_count": 4,
   "metadata": {},
   "outputs": [],
   "source": [
    "model_state_path = f\"../../../weights/{model_type}_cifak/checkpoint/\"\n",
    "\n",
    "# model_file_name = f\"vit_patch8_cifak_epoch_263\"  # file name of the saved model\n",
    "\n",
    "# checkpoint = torch.load(model_state_path+model_file_name)"
   ]
  },
  {
   "cell_type": "code",
   "execution_count": 5,
   "metadata": {},
   "outputs": [
    {
     "name": "stdout",
     "output_type": "stream",
     "text": [
      "Flattened dimension size(of a patch): 192\n",
      "Embedding Size: 192\n",
      "Output MLP size: 384\n"
     ]
    }
   ],
   "source": [
    "img_size = 32  # Input image height/width in pixels\n",
    "patch_size = 8 # The height/width of a patch in pixels (patch is a slice of an image)\n",
    "\n",
    "image_patch_flat_size = 3*patch_size**2 #3 Channels x height x width\n",
    "embed_size = image_patch_flat_size\n",
    "mlp_dim = 384 # dim of the last mlp classifier\n",
    "\n",
    "downscaling_factor=(2, 2, 2, 1) # used for swin\n",
    "\n",
    "train_batch_size = 256 # https://www.youtube.com/watch?v=Owm1H0ukjS4\n",
    "valid_batch_size = 256\n",
    "\n",
    "num_classes = 2\n",
    "encoder_depth = 9\n",
    "attention_heads = 12\n",
    "\n",
    "print(f'Flattened dimension size(of a patch): {image_patch_flat_size}')\n",
    "print(f'Embedding Size: {embed_size}')\n",
    "print(f'Output MLP size: {mlp_dim}')"
   ]
  },
  {
   "cell_type": "code",
   "execution_count": 6,
   "metadata": {},
   "outputs": [
    {
     "name": "stdout",
     "output_type": "stream",
     "text": [
      "Train another 20 epochs after epoch 0 \n"
     ]
    }
   ],
   "source": [
    "n_extra_epochs = 20\n",
    "max_epochs = 200\n",
    "\n",
    "start_epoch = checkpoint['epoch'] if start_from_model else 0\n",
    "end_epoch = start_epoch + n_extra_epochs if add_extra_epochs else max_epochs\n",
    "delta_epochs = end_epoch-start_epoch\n",
    "\n",
    "print(f\"Train another {delta_epochs} epochs after epoch {start_epoch} \")"
   ]
  },
  {
   "cell_type": "code",
   "execution_count": 7,
   "metadata": {},
   "outputs": [],
   "source": [
    "base_lr = 0.0005         # Base Learning rate 0.1 for SGD , 0.0001 for Adam\n",
    "momentum = 0.9          # Momentum for SGD\n",
    "weight_decay = 0.03     # Weight decay for Adam\n",
    "\n",
    "\n",
    "loss_algo = CrossEntropyLoss\n",
    "\n",
    "optimize_algo = SGD\n",
    "optimize_args = {\"lr\": base_lr,\n",
    "                #  \"weight_decay\": weight_decay,\n",
    "                #  \"momentum\": momentum  # comment momentum for Adam\n",
    "                 }\n",
    "\n",
    "use_scheduler = False\n",
    "schedule_algo = CosineAnnealingLR\n",
    "schedule_args = {\"T_max\": delta_epochs}"
   ]
  },
  {
   "cell_type": "code",
   "execution_count": 8,
   "metadata": {},
   "outputs": [],
   "source": [
    "path = '../../../data/CIFAK'\n",
    "relative_paths = [\"/train/REAL\", \"/train/FAKE\", \"/test/REAL\", \"/test/FAKE\"]\n",
    "paths_classes = [\"REAL\", \"FAKE\", \"REAL\", \"FAKE\"]"
   ]
  },
  {
   "cell_type": "code",
   "execution_count": 9,
   "metadata": {},
   "outputs": [
    {
     "data": {
      "text/html": [
       "<div>\n",
       "<style scoped>\n",
       "    .dataframe tbody tr th:only-of-type {\n",
       "        vertical-align: middle;\n",
       "    }\n",
       "\n",
       "    .dataframe tbody tr th {\n",
       "        vertical-align: top;\n",
       "    }\n",
       "\n",
       "    .dataframe thead th {\n",
       "        text-align: right;\n",
       "    }\n",
       "</style>\n",
       "<table border=\"1\" class=\"dataframe\">\n",
       "  <thead>\n",
       "    <tr style=\"text-align: right;\">\n",
       "      <th></th>\n",
       "      <th>REAL</th>\n",
       "      <th>FAKE</th>\n",
       "      <th>Total</th>\n",
       "    </tr>\n",
       "  </thead>\n",
       "  <tbody>\n",
       "    <tr>\n",
       "      <th>Training</th>\n",
       "      <td>48000</td>\n",
       "      <td>48000</td>\n",
       "      <td>96000</td>\n",
       "    </tr>\n",
       "    <tr>\n",
       "      <th>Validation</th>\n",
       "      <td>11400</td>\n",
       "      <td>11400</td>\n",
       "      <td>22800</td>\n",
       "    </tr>\n",
       "    <tr>\n",
       "      <th>Testing</th>\n",
       "      <td>600</td>\n",
       "      <td>600</td>\n",
       "      <td>1200</td>\n",
       "    </tr>\n",
       "    <tr>\n",
       "      <th>Row_Total</th>\n",
       "      <td>60000</td>\n",
       "      <td>60000</td>\n",
       "      <td>120000</td>\n",
       "    </tr>\n",
       "  </tbody>\n",
       "</table>\n",
       "</div>"
      ],
      "text/plain": [
       "             REAL   FAKE   Total\n",
       "Training    48000  48000   96000\n",
       "Validation  11400  11400   22800\n",
       "Testing       600    600    1200\n",
       "Row_Total   60000  60000  120000"
      ]
     },
     "execution_count": 9,
     "metadata": {},
     "output_type": "execute_result"
    }
   ],
   "source": [
    "df_all, df_train, df_val, df_test, classes_stats = dataset_to_df(path, relative_paths, paths_classes, 0.8, 0.19, 0.01)\n",
    "classes_stats"
   ]
  },
  {
   "cell_type": "code",
   "execution_count": 10,
   "metadata": {},
   "outputs": [
    {
     "name": "stdout",
     "output_type": "stream",
     "text": [
      "First and Last Elements in the Whole dataset\n"
     ]
    },
    {
     "data": {
      "text/html": [
       "<div>\n",
       "<style scoped>\n",
       "    .dataframe tbody tr th:only-of-type {\n",
       "        vertical-align: middle;\n",
       "    }\n",
       "\n",
       "    .dataframe tbody tr th {\n",
       "        vertical-align: top;\n",
       "    }\n",
       "\n",
       "    .dataframe thead th {\n",
       "        text-align: right;\n",
       "    }\n",
       "</style>\n",
       "<table border=\"1\" class=\"dataframe\">\n",
       "  <thead>\n",
       "    <tr style=\"text-align: right;\">\n",
       "      <th></th>\n",
       "      <th>Image_path</th>\n",
       "      <th>Image_size</th>\n",
       "      <th>Class</th>\n",
       "      <th>Class_Codes</th>\n",
       "      <th>Class_Onehot</th>\n",
       "    </tr>\n",
       "  </thead>\n",
       "  <tbody>\n",
       "    <tr>\n",
       "      <th>0</th>\n",
       "      <td>../../../data/CIFAK//train/REAL/0000(10).jpg</td>\n",
       "      <td>(3, 32, 32)</td>\n",
       "      <td>REAL</td>\n",
       "      <td>1</td>\n",
       "      <td>[1, 0]</td>\n",
       "    </tr>\n",
       "    <tr>\n",
       "      <th>119999</th>\n",
       "      <td>../../../data/CIFAK//test/FAKE/999.jpg</td>\n",
       "      <td>(3, 32, 32)</td>\n",
       "      <td>FAKE</td>\n",
       "      <td>0</td>\n",
       "      <td>[0, 1]</td>\n",
       "    </tr>\n",
       "  </tbody>\n",
       "</table>\n",
       "</div>"
      ],
      "text/plain": [
       "                                          Image_path   Image_size Class  \\\n",
       "0       ../../../data/CIFAK//train/REAL/0000(10).jpg  (3, 32, 32)  REAL   \n",
       "119999        ../../../data/CIFAK//test/FAKE/999.jpg  (3, 32, 32)  FAKE   \n",
       "\n",
       "        Class_Codes Class_Onehot  \n",
       "0                 1       [1, 0]  \n",
       "119999            0       [0, 1]  "
      ]
     },
     "execution_count": 10,
     "metadata": {},
     "output_type": "execute_result"
    }
   ],
   "source": [
    "print(\"First and Last Elements in the Whole dataset\")\n",
    "df_all.iloc[[0,-1]]"
   ]
  },
  {
   "cell_type": "code",
   "execution_count": 11,
   "metadata": {},
   "outputs": [
    {
     "data": {
      "image/png": "[encoded data removed]",
      "text/plain": [
       "<Figure size 400x200 with 2 Axes>"
      ]
     },
     "metadata": {},
     "output_type": "display_data"
    }
   ],
   "source": [
    "fig, axs = plt.subplots(1, 2, layout=\"constrained\",figsize=(4, 2))\n",
    "\n",
    "fig.suptitle('Dataset Sample Images (Source CIFAK)')\n",
    "axs[0].imshow(cv2.imread(df_all.iloc[0, 0]))\n",
    "axs[0].set(xlabel=df_all.iloc[0, 2])\n",
    "axs[0].set_xticks([])\n",
    "axs[0].set_yticks([])\n",
    "\n",
    "axs[1].imshow(cv2.imread(df_all.iloc[-1, 0]))\n",
    "axs[1].set(xlabel=df_all.iloc[-1, 2])\n",
    "axs[1].set_xticks([])\n",
    "axs[1].set_yticks([])\n",
    "\n",
    "\n",
    "plt.show()"
   ]
  },
  {
   "cell_type": "code",
   "execution_count": 12,
   "metadata": {},
   "outputs": [],
   "source": [
    "# https://github.com/lucidrains/vit-pytorch/blob/main/vit_pytorch/vit.py\n",
    "\n",
    "# helpers\n",
    "\n",
    "def pair(t):\n",
    "    return t if isinstance(t, tuple) else (t, t)\n",
    "\n",
    "# classes\n",
    "\n",
    "\n",
    "class PreNorm(nn.Module):\n",
    "    def __init__(self, dim, fn):\n",
    "        super().__init__()\n",
    "        self.norm = nn.LayerNorm(dim)\n",
    "        self.fn = fn\n",
    "\n",
    "    def forward(self, x, **kwargs):\n",
    "        return self.fn(self.norm(x), **kwargs)\n",
    "\n",
    "\n",
    "class FeedForward(nn.Module):\n",
    "    def __init__(self, dim, hidden_dim, dropout=0.):\n",
    "        super().__init__()\n",
    "        self.model = nn.Sequential(\n",
    "            nn.Linear(dim, hidden_dim),\n",
    "            nn.GELU(),\n",
    "            nn.Dropout(dropout),\n",
    "            nn.Linear(hidden_dim, dim),\n",
    "            nn.Dropout(dropout)\n",
    "        )\n",
    "\n",
    "    def forward(self, x):\n",
    "        return self.model(x)\n",
    "\n",
    "\n",
    "class MHA(nn.Module):\n",
    "    def __init__(self, embed_dim: int, num_of_head: int = 12, Dropout=0.2) -> None:\n",
    "        super().__init__()\n",
    "        self.embed_dim = embed_dim\n",
    "        self.inner_dim = embed_dim*2\n",
    "        self.num_of_head = num_of_head\n",
    "        self.dim_per_head = self.inner_dim // self.num_of_head\n",
    "        self.Wq = nn.Linear(in_features=embed_dim, out_features=self.inner_dim)\n",
    "        self.Wk = nn.Linear(in_features=embed_dim, out_features=self.inner_dim)\n",
    "        self.Wv = nn.Linear(in_features=embed_dim, out_features=self.inner_dim)\n",
    "        # self.dropout=nn.Dropout(p=Dropout)\n",
    "        self.dropout = Dropout\n",
    "        self.linear = nn.Linear(in_features=self.inner_dim, out_features=embed_dim)\n",
    "\n",
    "    def forward(self, x: torch.Tensor) -> torch.Tensor:\n",
    "\n",
    "        q = self.Wq(x)\n",
    "        k = self.Wk(x)\n",
    "        v = self.Wv(x)\n",
    "\n",
    "        Q = rearrange(q, 'b s (h d) -> b h s d',\n",
    "                      h=self.num_of_head, d=self.dim_per_head)\n",
    "        K = rearrange(k, 'b s (h d) -> b h s d',\n",
    "                      h=self.num_of_head, d=self.dim_per_head)\n",
    "        V = rearrange(v, 'b s (h d) -> b h s d',\n",
    "                      h=self.num_of_head, d=self.dim_per_head)\n",
    "\n",
    "        use_dropout = 0.0 if not self.training else self.dropout\n",
    "\n",
    "        attention = F.scaled_dot_product_attention(Q, K, V, dropout_p=use_dropout)\n",
    "        # # Q(b h s d) . KT(b h d s) ==> b h s s\n",
    "        # # qk = torch.matmul(q, k.transpose(-2, -1)) / (self.dim_per_head**0.5)\n",
    "        # qk = torch.matmul(q, k.transpose(-2, -1)) / (self.embed_dim**0.5)\n",
    "\n",
    "        # #  b h s s ==> b h s s\n",
    "        # weight = F.softmax(qk, dim=1)\n",
    "        # # weight_dropout=self.dropout(weight)\n",
    "\n",
    "        # #weight(b h s s).V(b h s d) ==> attention (b h s d)\n",
    "        # attention = torch.matmul(weight, v)\n",
    "        # # attention = torch.matmul(weight_dropout, v)\n",
    "\n",
    "        attention = rearrange(attention, 'b h s d -> b s (h d)')\n",
    "        attention = self.linear(attention)\n",
    "        return attention\n",
    "\n",
    "\n",
    "class Transformer(nn.Module):\n",
    "    def __init__(self, dim, depth, heads, dim_head, mlp_dim, dropout=0.):\n",
    "        super().__init__()\n",
    "        self.layers = nn.ModuleList([])\n",
    "        for _ in range(depth):\n",
    "            self.layers.append(nn.ModuleList([\n",
    "                # PreNorm(dim, Attention(dim, heads = heads, dim_head = dim_head, dropout = dropout)),\n",
    "                PreNorm(dim, MHA(embed_dim=dim, num_of_head=heads, Dropout=dropout)),\n",
    "                PreNorm(dim, FeedForward(dim, mlp_dim, dropout=dropout))\n",
    "            ]))\n",
    "\n",
    "    def forward(self, x):\n",
    "        for attn, ff in self.layers:\n",
    "            x = attn(x) + x\n",
    "            x = ff(x) + x\n",
    "        return x\n",
    "\n",
    "\n",
    "class vit(nn.Module):\n",
    "    def __init__(self, *, image_size, patch_size, num_classes, dim, depth, heads, mlp_dim, pool='cls', channels=3, dim_head=64, emb_dropout=0., dropout=0.):\n",
    "        super().__init__()\n",
    "        image_height, image_width = pair(image_size)\n",
    "        patch_height, patch_width = pair(patch_size)\n",
    "\n",
    "        assert image_height % patch_height == 0 and image_width % patch_width == 0, 'Image dimensions must be divisible by the patch size.'\n",
    "\n",
    "        num_patches = (image_height // patch_height) * \\\n",
    "            (image_width // patch_width)\n",
    "        patch_dim = channels * patch_height * patch_width\n",
    "        assert pool in {\n",
    "            'cls', 'mean'}, 'pool type must be either cls (cls token) or mean (mean pooling)'\n",
    "\n",
    "        self.to_patch_embedding = nn.Sequential(\n",
    "            Rearrange('b c (h p1) (w p2) -> b (h w) (p1 p2 c)',\n",
    "                      p1=patch_height, p2=patch_width),\n",
    "            nn.Linear(patch_dim, dim),\n",
    "        )\n",
    "\n",
    "        self.pos_embedding = nn.Parameter(torch.randn(1, num_patches + 1, dim))\n",
    "        self.cls_token = nn.Parameter(torch.randn(1, 1, dim))\n",
    "        self.dropout = nn.Dropout(emb_dropout)\n",
    "\n",
    "        self.transformer = Transformer(\n",
    "            dim, depth, heads, dim_head, mlp_dim, dropout)\n",
    "\n",
    "        self.pool = pool\n",
    "        self.to_latent = nn.Identity()\n",
    "\n",
    "        self.mlp_head = nn.Sequential(\n",
    "            nn.LayerNorm(dim),\n",
    "            nn.Linear(dim, num_classes)\n",
    "        )\n",
    "\n",
    "    def forward(self, img):\n",
    "        x = self.to_patch_embedding(img)\n",
    "        b, n, _ = x.shape\n",
    "\n",
    "        cls_tokens = repeat(self.cls_token, '() n d -> b n d', b=b)\n",
    "        x = torch.cat((cls_tokens, x), dim=1)\n",
    "        x += self.pos_embedding[:, :(n + 1)]\n",
    "        x = self.dropout(x)\n",
    "\n",
    "        x = self.transformer(x)\n",
    "\n",
    "        x = x.mean(dim=1) if self.pool == 'mean' else x[:, 0]\n",
    "\n",
    "        x = self.to_latent(x)\n",
    "        return self.mlp_head(x)"
   ]
  },
  {
   "cell_type": "code",
   "execution_count": 13,
   "metadata": {},
   "outputs": [],
   "source": [
    "# Custom Dataset Class\n",
    "class Images_Dataset(Dataset):\n",
    "    def __init__(self, annotations_df, transform=None):\n",
    "        \n",
    "        self.annotation = annotations_df\n",
    "        self.transform = transform\n",
    "\n",
    "    def __getitem__(self, index):\n",
    "        \n",
    "        img = read_image(self.annotation.iloc[index, 0])\n",
    "        labels = torch.tensor(self.annotation.iloc[index, 3],dtype=torch.int64)\n",
    "\n",
    "        if self.transform:\n",
    "            img_t = self.transform(img)\n",
    "\n",
    "        return img_t, labels\n",
    "\n",
    "    def __len__(self):\n",
    "        # To return the length of the dataset\n",
    "        return self.annotation.shape[0]"
   ]
  },
  {
   "cell_type": "code",
   "execution_count": 14,
   "metadata": {},
   "outputs": [],
   "source": [
    "norm_mean = [0.4913997551666284, 0.48215855929893703, 0.4465309133731618]\n",
    "norm_std = [0.24703225141799082, 0.24348516474564, 0.26158783926049628]"
   ]
  },
  {
   "cell_type": "code",
   "execution_count": 15,
   "metadata": {},
   "outputs": [],
   "source": [
    "transform_train = transforms.Compose([\n",
    "    # v2.ToPILImage(),\n",
    "    # v2.AutoAugment(v2.AutoAugmentPolicy.CIFAR10),\n",
    "    # transforms.RandAugment(2, 14),\n",
    "    v2.RandomCrop(32, padding=4),\n",
    "    v2.RandomHorizontalFlip(p=0.5),\n",
    "    v2.RandomAffine(degrees=(0, 180), translate=(0.1, 0.3), scale=(0.5, 0.75)),\n",
    "    # v2.RandomPerspective(distortion_scale=0.6, p=1.0),\n",
    "    v2.ToImage(), \n",
    "    v2.ToDtype(torch.float32, scale=True),\n",
    "    # v2.ToTensor(),\n",
    "    v2.Normalize(norm_mean, norm_std),\n",
    "])\n",
    "\n",
    "transform_valid = transforms.Compose([\n",
    "    v2.ToImage(), \n",
    "    v2.ToDtype(torch.float32, scale=True),\n",
    "    v2.Normalize(norm_mean, norm_std),\n",
    "])"
   ]
  },
  {
   "cell_type": "code",
   "execution_count": 16,
   "metadata": {},
   "outputs": [],
   "source": [
    "# Define the dataset object and configure the Data Loader\n",
    "\n",
    "train_set  = Images_Dataset(df_train, transform_train)\n",
    "\n",
    "train_loader = DataLoader(dataset=train_set,\n",
    "                          batch_size=train_batch_size,\n",
    "                          # Drops the last mini batch if less than the batch size (could enhance the model accuracy)\n",
    "                          drop_last=True,\n",
    "                          shuffle=True,\n",
    "                          pin_memory=True,\n",
    "                          num_workers=NUM_WORKERS)\n",
    "\n",
    "\n",
    "valid_set  = Images_Dataset(df_val, transform_valid)\n",
    "\n",
    "valid_loader= DataLoader(dataset=valid_set ,\n",
    "                          batch_size=valid_batch_size,\n",
    "                          # Drops the last mini batch if less than the batch size (could enhance the model accuracy)\n",
    "                          drop_last=True,\n",
    "                          shuffle=False,\n",
    "                          pin_memory=True,\n",
    "                          num_workers=NUM_WORKERS)"
   ]
  },
  {
   "cell_type": "code",
   "execution_count": 17,
   "metadata": {},
   "outputs": [
    {
     "name": "stdout",
     "output_type": "stream",
     "text": [
      "Total number of training batches: 375\n",
      "Total number of validation batches: 89\n"
     ]
    }
   ],
   "source": [
    "print(\"Total number of training batches:\", len(train_loader))\n",
    "print(\"Total number of validation batches:\", len(valid_loader))"
   ]
  },
  {
   "cell_type": "code",
   "execution_count": 18,
   "metadata": {},
   "outputs": [
    {
     "name": "stdout",
     "output_type": "stream",
     "text": [
      "Batch of Images Shape: torch.Size([256, 3, 32, 32])\n",
      "Batch of Images Shape: torch.Size([256])\n",
      "tensor([1, 1, 1, 0, 1, 1, 1, 1, 0, 0, 0, 0, 1, 0, 1, 0, 0, 1, 1, 0, 0, 0, 0, 1,\n",
      "        0, 0, 0, 0, 0, 1, 1, 1, 0, 0, 0, 0, 0, 0, 0, 1, 1, 1, 1, 0, 0, 0, 1, 1,\n",
      "        0, 0, 0, 0, 0, 0, 1, 1, 1, 0, 1, 1, 0, 0, 0, 1, 1, 1, 1, 1, 0, 0, 1, 1,\n",
      "        0, 1, 1, 0, 1, 1, 1, 0, 1, 1, 0, 0, 0, 1, 0, 1, 1, 0, 1, 0, 1, 1, 1, 0,\n",
      "        0, 1, 0, 0, 0, 0, 0, 0, 1, 1, 1, 0, 0, 0, 1, 1, 0, 0, 1, 0, 0, 1, 0, 1,\n",
      "        1, 1, 1, 0, 1, 1, 1, 0, 1, 0, 1, 0, 0, 1, 1, 0, 1, 1, 0, 0, 1, 1, 0, 0,\n",
      "        0, 0, 0, 0, 0, 1, 1, 0, 0, 0, 0, 0, 0, 0, 0, 1, 0, 0, 1, 1, 0, 1, 0, 1,\n",
      "        1, 0, 0, 0, 1, 0, 1, 1, 1, 1, 0, 1, 0, 1, 0, 1, 1, 0, 1, 0, 0, 0, 1, 1,\n",
      "        1, 1, 1, 0, 0, 0, 0, 0, 1, 1, 1, 1, 1, 0, 0, 1, 1, 0, 1, 1, 1, 0, 0, 0,\n",
      "        0, 0, 1, 1, 0, 0, 0, 0, 0, 1, 1, 0, 0, 0, 0, 1, 1, 1, 0, 1, 0, 0, 0, 1,\n",
      "        1, 0, 1, 0, 1, 1, 1, 1, 1, 1, 1, 0, 0, 0, 0, 1])\n"
     ]
    }
   ],
   "source": [
    "sample_img_batch,label = next(iter(train_loader))\n",
    "\n",
    "print(f\"Batch of Images Shape: {sample_img_batch.size()}\")\n",
    "print(f\"Batch of Images Shape: {label.size()}\")\n",
    "print(label)"
   ]
  },
  {
   "cell_type": "code",
   "execution_count": 19,
   "metadata": {},
   "outputs": [],
   "source": [
    "def img_plot(img, slice_width):\n",
    "    sliced_img = rearrange(img, 'c (row h) (col w) -> row col c h w', h=slice_width, w=slice_width)\n",
    "    print(\"Sliced Image Shape: \", sliced_img.shape)\n",
    "\n",
    "    fig = plt.figure(layout=\"constrained\", figsize=(12, 4))\n",
    "    subfigs = fig.subfigures(3, 1, height_ratios=[1.2, 1.5, 1.], hspace=0.05, squeeze='True')\n",
    "\n",
    "    axs0 = subfigs[0].subplots(1, 1)\n",
    "    img_a = rearrange(img, \"c h w -> h w c\").numpy()\n",
    "    \n",
    "    axs0.imshow(img_a)\n",
    "    axs0.set_xticks([])\n",
    "    axs0.set_yticks([])\n",
    "\n",
    "    grid1 = ImageGrid(subfigs[1], 111, nrows_ncols=(sliced_img.size(0), sliced_img.size(1)), axes_pad=0.05)\n",
    "\n",
    "    for i, ax in enumerate(grid1):\n",
    "        i_b4 = str(np.base_repr(i, sliced_img.size(0))).zfill(2)\n",
    "        row = int(i_b4[0])\n",
    "        column = int(i_b4[1])\n",
    "        patch = rearrange(sliced_img[row][column], \"c h w -> h w c\").numpy()\n",
    "        \n",
    "        ax.imshow(patch)\n",
    "        ax.set_xticks([])\n",
    "        ax.set_yticks([])\n",
    "\n",
    "    grid2 = ImageGrid(subfigs[2], 111, nrows_ncols=(1, sliced_img.size(0)*sliced_img.size(1)), axes_pad=0.03)\n",
    "\n",
    "    for i, ax in enumerate(grid2):\n",
    "        i_b4 = str(np.base_repr(i, sliced_img.size(0))).zfill(2)\n",
    "        row = int(i_b4[0])\n",
    "        column = int(i_b4[1])\n",
    "        patch = rearrange(sliced_img[row][column], \"c h w -> h w c\").numpy()\n",
    "        \n",
    "        ax.imshow(patch)\n",
    "        ax.set_xticks([])\n",
    "        ax.set_yticks([])"
   ]
  },
  {
   "cell_type": "code",
   "execution_count": 20,
   "metadata": {},
   "outputs": [
    {
     "name": "stdout",
     "output_type": "stream",
     "text": [
      "Sliced Image Shape:  torch.Size([4, 4, 3, 8, 8])\n"
     ]
    },
    {
     "data": {
      "image/png": "[encoded data removed]",
      "text/plain": [
       "<Figure size 1200x400 with 65 Axes>"
      ]
     },
     "metadata": {},
     "output_type": "display_data"
    }
   ],
   "source": [
    "sample_img = read_image(df_all.iloc[0, 0])\n",
    "img_plot(sample_img, patch_size)"
   ]
  },
  {
   "cell_type": "code",
   "execution_count": 21,
   "metadata": {},
   "outputs": [],
   "source": [
    "if model_type == \"vit\":\n",
    "    model = vit(\n",
    "        image_size=img_size,\n",
    "        patch_size=patch_size,\n",
    "        num_classes=num_classes,\n",
    "        dim=embed_size,\n",
    "        depth=encoder_depth,\n",
    "        heads=attention_heads,\n",
    "        mlp_dim=mlp_dim,\n",
    "        emb_dropout=0.1,\n",
    "        dropout=0.1\n",
    "    )\n",
    "elif model_type == \"swin\":\n",
    "    model = swin_t(window_size=patch_size,\n",
    "                   num_classes=num_classes,\n",
    "                   downscaling_factors=downscaling_factor\n",
    "                   )\n",
    "else:\n",
    "    raise ValueError(\n",
    "        \"You must set the model_type variable to any of: vit , swin\")"
   ]
  },
  {
   "cell_type": "code",
   "execution_count": 22,
   "metadata": {},
   "outputs": [
    {
     "name": "stdout",
     "output_type": "stream",
     "text": [
      "Input Shape:  torch.Size([256, 3, 32, 32])\n",
      "Output Shape:  torch.Size([256, 2])\n"
     ]
    },
    {
     "data": {
      "text/plain": [
       "==================================================================================================================================\n",
       "Layer (type (var_name))                            Input Shape          Output Shape         Param #              Trainable\n",
       "==================================================================================================================================\n",
       "vit (vit)                                          [256, 3, 32, 32]     [256, 2]             3,456                True\n",
       "├─Sequential (to_patch_embedding)                  [256, 3, 32, 32]     [256, 16, 192]       --                   True\n",
       "│    └─Rearrange (0)                               [256, 3, 32, 32]     [256, 16, 192]       --                   --\n",
       "│    └─Linear (1)                                  [256, 16, 192]       [256, 16, 192]       37,056               True\n",
       "├─Dropout (dropout)                                [256, 17, 192]       [256, 17, 192]       --                   --\n",
       "├─Transformer (transformer)                        [256, 17, 192]       [256, 17, 192]       --                   True\n",
       "│    └─ModuleList (layers)                         --                   --                   --                   True\n",
       "│    │    └─ModuleList (0)                         --                   --                   445,056              True\n",
       "│    │    └─ModuleList (1)                         --                   --                   445,056              True\n",
       "│    │    └─ModuleList (2)                         --                   --                   445,056              True\n",
       "│    │    └─ModuleList (3)                         --                   --                   445,056              True\n",
       "│    │    └─ModuleList (4)                         --                   --                   445,056              True\n",
       "│    │    └─ModuleList (5)                         --                   --                   445,056              True\n",
       "│    │    └─ModuleList (6)                         --                   --                   445,056              True\n",
       "│    │    └─ModuleList (7)                         --                   --                   445,056              True\n",
       "│    │    └─ModuleList (8)                         --                   --                   445,056              True\n",
       "├─Identity (to_latent)                             [256, 192]           [256, 192]           --                   --\n",
       "├─Sequential (mlp_head)                            [256, 192]           [256, 2]             --                   True\n",
       "│    └─LayerNorm (0)                               [256, 192]           [256, 192]           384                  True\n",
       "│    └─Linear (1)                                  [256, 192]           [256, 2]             386                  True\n",
       "==================================================================================================================================\n",
       "Total params: 4,046,786\n",
       "Trainable params: 4,046,786\n",
       "Non-trainable params: 0\n",
       "Total mult-adds (Units.GIGABYTES): 1.04\n",
       "==================================================================================================================================\n",
       "Input size (MB): 3.15\n",
       "Forward/backward pass size (MB): 728.63\n",
       "Params size (MB): 16.17\n",
       "Estimated Total Size (MB): 747.95\n",
       "=================================================================================================================================="
      ]
     },
     "execution_count": 22,
     "metadata": {},
     "output_type": "execute_result"
    }
   ],
   "source": [
    "output = model(sample_img_batch)\n",
    "\n",
    "print(\"Input Shape: \", sample_img_batch.size())\n",
    "print(\"Output Shape: \", output.size())\n",
    "\n",
    "summary(model=model,\n",
    "        input_size=sample_img_batch.size(),\n",
    "        col_names=[\"input_size\", \"output_size\", \"num_params\", \"trainable\"],\n",
    "        col_width=20,\n",
    "        row_settings=[\"var_names\"])"
   ]
  },
  {
   "cell_type": "code",
   "execution_count": 23,
   "metadata": {},
   "outputs": [],
   "source": [
    "criterion = loss_algo()\n",
    "optimizer = optimize_algo(model.parameters(), **optimize_args)\n",
    "scheduler = schedule_algo(optimizer, **schedule_args)"
   ]
  },
  {
   "cell_type": "code",
   "execution_count": 24,
   "metadata": {},
   "outputs": [],
   "source": [
    "if start_from_model:\n",
    "    model.load_state_dict(checkpoint['model'])\n",
    "    optimizer.load_state_dict(checkpoint['optimizer'])\n",
    "\n",
    "    best_acc = checkpoint['best_acc']\n",
    "    list_tr_loss = checkpoint['list_tr_loss']\n",
    "    list_tr_acc = checkpoint['list_tr_acc']\n",
    "    list_val_loss = checkpoint['list_val_loss']\n",
    "    list_val_acc = checkpoint['list_val_acc']\n",
    "else:\n",
    "    best_acc = 0\n",
    "\n",
    "    list_tr_loss = []\n",
    "    list_tr_acc = []\n",
    "    list_val_loss = []\n",
    "    list_val_acc = []"
   ]
  },
  {
   "cell_type": "code",
   "execution_count": 25,
   "metadata": {},
   "outputs": [
    {
     "name": "stdout",
     "output_type": "stream",
     "text": [
      "\n",
      " epoch: 1/20\n"
     ]
    },
    {
     "name": "stderr",
     "output_type": "stream",
     "text": [
      "Train--Epoch [1/20]: 100%|██████████| 375/375 [00:17<00:00, 20.83it/s, acc=50.5, loss=0.704]\n",
      "Valid--Epoch [1/20]: 100%|██████████| 89/89 [00:01<00:00, 55.70it/s, acc=49.8, loss=0.697]\n"
     ]
    },
    {
     "name": "stdout",
     "output_type": "stream",
     "text": [
      "Saving..\n",
      "\n",
      " epoch: 2/20\n"
     ]
    },
    {
     "name": "stderr",
     "output_type": "stream",
     "text": [
      "Train--Epoch [2/20]: 100%|██████████| 375/375 [00:17<00:00, 21.19it/s, acc=51.4, loss=0.699]\n",
      "Valid--Epoch [2/20]: 100%|██████████| 89/89 [00:01<00:00, 55.58it/s, acc=49.6, loss=0.712]"
     ]
    },
    {
     "name": "stdout",
     "output_type": "stream",
     "text": [
      "\n",
      " epoch: 3/20\n"
     ]
    },
    {
     "name": "stderr",
     "output_type": "stream",
     "text": [
      "\n",
      "Train--Epoch [3/20]: 100%|██████████| 375/375 [00:17<00:00, 21.07it/s, acc=51.7, loss=0.697]\n",
      "Valid--Epoch [3/20]: 100%|██████████| 89/89 [00:01<00:00, 54.98it/s, acc=49.7, loss=0.738]"
     ]
    },
    {
     "name": "stdout",
     "output_type": "stream",
     "text": [
      "\n",
      " epoch: 4/20\n"
     ]
    },
    {
     "name": "stderr",
     "output_type": "stream",
     "text": [
      "\n",
      "Train--Epoch [4/20]: 100%|██████████| 375/375 [00:17<00:00, 21.00it/s, acc=52.1, loss=0.696]\n",
      "Valid--Epoch [4/20]: 100%|██████████| 89/89 [00:01<00:00, 53.72it/s, acc=49.5, loss=0.751]"
     ]
    },
    {
     "name": "stdout",
     "output_type": "stream",
     "text": [
      "\n",
      " epoch: 5/20\n"
     ]
    },
    {
     "name": "stderr",
     "output_type": "stream",
     "text": [
      "\n",
      "Train--Epoch [5/20]: 100%|██████████| 375/375 [00:17<00:00, 20.91it/s, acc=52.7, loss=0.694]\n",
      "Valid--Epoch [5/20]: 100%|██████████| 89/89 [00:01<00:00, 54.94it/s, acc=49.6, loss=0.775]"
     ]
    },
    {
     "name": "stdout",
     "output_type": "stream",
     "text": [
      "\n",
      " epoch: 6/20\n"
     ]
    },
    {
     "name": "stderr",
     "output_type": "stream",
     "text": [
      "\n",
      "Train--Epoch [6/20]: 100%|██████████| 375/375 [00:18<00:00, 20.81it/s, acc=53.1, loss=0.692]\n",
      "Valid--Epoch [6/20]: 100%|██████████| 89/89 [00:01<00:00, 53.14it/s, acc=49.6, loss=0.797]"
     ]
    },
    {
     "name": "stdout",
     "output_type": "stream",
     "text": [
      "\n",
      " epoch: 7/20\n"
     ]
    },
    {
     "name": "stderr",
     "output_type": "stream",
     "text": [
      "\n",
      "Train--Epoch [7/20]: 100%|██████████| 375/375 [00:18<00:00, 20.76it/s, acc=53.1, loss=0.692]\n",
      "Valid--Epoch [7/20]: 100%|██████████| 89/89 [00:01<00:00, 52.38it/s, acc=49.7, loss=0.817]\n"
     ]
    },
    {
     "name": "stdout",
     "output_type": "stream",
     "text": [
      "\n",
      " epoch: 8/20\n"
     ]
    },
    {
     "name": "stderr",
     "output_type": "stream",
     "text": [
      "Train--Epoch [8/20]: 100%|██████████| 375/375 [00:18<00:00, 20.68it/s, acc=53.3, loss=0.691]\n",
      "Valid--Epoch [8/20]: 100%|██████████| 89/89 [00:01<00:00, 53.00it/s, acc=49.6, loss=0.833]"
     ]
    },
    {
     "name": "stdout",
     "output_type": "stream",
     "text": [
      "\n",
      " epoch: 9/20\n"
     ]
    },
    {
     "name": "stderr",
     "output_type": "stream",
     "text": [
      "\n",
      "Train--Epoch [9/20]: 100%|██████████| 375/375 [00:18<00:00, 20.58it/s, acc=53.1, loss=0.691]\n",
      "Valid--Epoch [9/20]: 100%|██████████| 89/89 [00:01<00:00, 52.43it/s, acc=49.6, loss=0.835]"
     ]
    },
    {
     "name": "stdout",
     "output_type": "stream",
     "text": [
      "\n",
      " epoch: 10/20\n"
     ]
    },
    {
     "name": "stderr",
     "output_type": "stream",
     "text": [
      "\n",
      "Train--Epoch [10/20]: 100%|██████████| 375/375 [00:18<00:00, 20.62it/s, acc=53.5, loss=0.69] \n",
      "Valid--Epoch [10/20]: 100%|██████████| 89/89 [00:01<00:00, 52.37it/s, acc=49.7, loss=0.855]"
     ]
    },
    {
     "name": "stdout",
     "output_type": "stream",
     "text": [
      "\n",
      " epoch: 11/20\n"
     ]
    },
    {
     "name": "stderr",
     "output_type": "stream",
     "text": [
      "\n",
      "Train--Epoch [11/20]: 100%|██████████| 375/375 [00:18<00:00, 20.56it/s, acc=53.8, loss=0.689]\n",
      "Valid--Epoch [11/20]: 100%|██████████| 89/89 [00:01<00:00, 53.09it/s, acc=49.7, loss=0.864]"
     ]
    },
    {
     "name": "stdout",
     "output_type": "stream",
     "text": [
      "\n",
      " epoch: 12/20\n"
     ]
    },
    {
     "name": "stderr",
     "output_type": "stream",
     "text": [
      "\n",
      "Train--Epoch [12/20]: 100%|██████████| 375/375 [00:18<00:00, 20.53it/s, acc=53.7, loss=0.69] \n",
      "Valid--Epoch [12/20]: 100%|██████████| 89/89 [00:01<00:00, 52.50it/s, acc=49.7, loss=0.869]"
     ]
    },
    {
     "name": "stdout",
     "output_type": "stream",
     "text": [
      "\n",
      " epoch: 13/20\n"
     ]
    },
    {
     "name": "stderr",
     "output_type": "stream",
     "text": [
      "\n",
      "Train--Epoch [13/20]: 100%|██████████| 375/375 [00:17<00:00, 20.97it/s, acc=53.6, loss=0.689]\n",
      "Valid--Epoch [13/20]: 100%|██████████| 89/89 [00:01<00:00, 53.93it/s, acc=49.7, loss=0.883]"
     ]
    },
    {
     "name": "stdout",
     "output_type": "stream",
     "text": [
      "\n",
      " epoch: 14/20\n"
     ]
    },
    {
     "name": "stderr",
     "output_type": "stream",
     "text": [
      "\n",
      "Train--Epoch [14/20]: 100%|██████████| 375/375 [00:18<00:00, 20.24it/s, acc=53.8, loss=0.689]\n",
      "Valid--Epoch [14/20]: 100%|██████████| 89/89 [00:01<00:00, 50.72it/s, acc=49.7, loss=0.879]\n"
     ]
    },
    {
     "name": "stdout",
     "output_type": "stream",
     "text": [
      "\n",
      " epoch: 15/20\n"
     ]
    },
    {
     "name": "stderr",
     "output_type": "stream",
     "text": [
      "Train--Epoch [15/20]: 100%|██████████| 375/375 [00:18<00:00, 20.00it/s, acc=53.9, loss=0.689]\n",
      "Valid--Epoch [15/20]: 100%|██████████| 89/89 [00:01<00:00, 52.17it/s, acc=49.7, loss=0.88] "
     ]
    },
    {
     "name": "stdout",
     "output_type": "stream",
     "text": [
      "\n",
      " epoch: 16/20\n"
     ]
    },
    {
     "name": "stderr",
     "output_type": "stream",
     "text": [
      "\n",
      "Train--Epoch [16/20]: 100%|██████████| 375/375 [00:18<00:00, 19.92it/s, acc=54, loss=0.688]  \n",
      "Valid--Epoch [16/20]: 100%|██████████| 89/89 [00:01<00:00, 50.05it/s, acc=49.7, loss=0.893]"
     ]
    },
    {
     "name": "stdout",
     "output_type": "stream",
     "text": [
      "\n",
      " epoch: 17/20\n"
     ]
    },
    {
     "name": "stderr",
     "output_type": "stream",
     "text": [
      "\n",
      "Train--Epoch [17/20]: 100%|██████████| 375/375 [00:19<00:00, 19.55it/s, acc=54.1, loss=0.688]\n",
      "Valid--Epoch [17/20]: 100%|██████████| 89/89 [00:01<00:00, 51.22it/s, acc=49.8, loss=0.896]\n"
     ]
    },
    {
     "name": "stdout",
     "output_type": "stream",
     "text": [
      "\n",
      " epoch: 18/20\n"
     ]
    },
    {
     "name": "stderr",
     "output_type": "stream",
     "text": [
      "Train--Epoch [18/20]: 100%|██████████| 375/375 [00:19<00:00, 19.62it/s, acc=53.9, loss=0.688]\n",
      "Valid--Epoch [18/20]: 100%|██████████| 89/89 [00:01<00:00, 50.30it/s, acc=49.8, loss=0.901]"
     ]
    },
    {
     "name": "stdout",
     "output_type": "stream",
     "text": [
      "\n",
      " epoch: 19/20\n"
     ]
    },
    {
     "name": "stderr",
     "output_type": "stream",
     "text": [
      "\n",
      "Train--Epoch [19/20]: 100%|██████████| 375/375 [00:18<00:00, 19.75it/s, acc=54.2, loss=0.688]\n",
      "Valid--Epoch [19/20]: 100%|██████████| 89/89 [00:01<00:00, 50.79it/s, acc=49.8, loss=0.907]\n"
     ]
    },
    {
     "name": "stdout",
     "output_type": "stream",
     "text": [
      "\n",
      " epoch: 20/20\n"
     ]
    },
    {
     "name": "stderr",
     "output_type": "stream",
     "text": [
      "Train--Epoch [20/20]: 100%|██████████| 375/375 [00:18<00:00, 19.92it/s, acc=54.2, loss=0.688]\n",
      "Valid--Epoch [20/20]: 100%|██████████| 89/89 [00:01<00:00, 51.06it/s, acc=49.8, loss=0.907]\n"
     ]
    },
    {
     "name": "stdout",
     "output_type": "stream",
     "text": [
      "Saving..\n"
     ]
    }
   ],
   "source": [
    "model.to(device)\n",
    "for epoch in range(start_epoch, end_epoch):\n",
    "\n",
    "    print(f'\\n epoch: {epoch+1}/{end_epoch}')\n",
    "\n",
    "    ##########################################################\n",
    "    model.train(True)\n",
    "    tr_loss = 0\n",
    "    correct = 0\n",
    "    total = 0\n",
    "\n",
    "    loop1 = tqdm(enumerate(train_loader), total=len(train_loader))\n",
    "    for batch_idx, (inputs, targets) in  loop1:\n",
    "        inputs, targets = inputs.to(device), targets.to(device)\n",
    "\n",
    "        outputs = model(inputs)\n",
    "        loss = criterion(outputs, targets)\n",
    "\n",
    "\n",
    "        # Zero gradients for every batch\n",
    "        optimizer.zero_grad()\n",
    "        # Backward path (Gradient)\n",
    "        loss.backward()\n",
    "        # Optimizer(Adam) Step\n",
    "        optimizer.step()\n",
    "\n",
    "        tr_loss += loss.item()\n",
    "        _, predicted = outputs.max(1)\n",
    "        total += targets.size(0)\n",
    "        correct += predicted.eq(targets).sum().item()\n",
    "\n",
    "        avg_tr_loss = tr_loss/(batch_idx+1)\n",
    "        avg_tr_accuracy = 100.*correct/total\n",
    "\n",
    "        loop1.set_description(f\"Train--Epoch [{epoch+1}/{end_epoch}]\")\n",
    "        loop1.set_postfix(loss=avg_tr_loss, acc=avg_tr_accuracy)\n",
    "\n",
    "    list_tr_loss.append(avg_tr_loss)\n",
    "    list_tr_acc.append(avg_tr_accuracy)\n",
    "\n",
    "    ##########################################################\n",
    "    model.eval()\n",
    "    val_loss = 0\n",
    "    correct = 0\n",
    "    total = 0\n",
    "    with torch.no_grad():\n",
    "\n",
    "        loop2 = tqdm(enumerate(valid_loader), total=len(valid_loader))\n",
    "        for batch_idx, (inputs, targets) in loop2:\n",
    "            inputs, targets = inputs.to(device), targets.to(device)\n",
    "\n",
    "            outputs = model(inputs)\n",
    "            loss = criterion(outputs, targets)\n",
    "\n",
    "            val_loss += loss.item()\n",
    "            _, predicted = outputs.max(1)\n",
    "            total += targets.size(0)\n",
    "            correct += predicted.eq(targets).sum().item()\n",
    "\n",
    "            avg_val_loss = val_loss/(batch_idx+1)\n",
    "            avg_val_accuracy = 100.*correct/total\n",
    "\n",
    "            loop2.set_description(f\"Valid--Epoch [{epoch+1}/{end_epoch}]\")\n",
    "            loop2.set_postfix(loss=avg_val_loss, acc=avg_val_accuracy)\n",
    "\n",
    "    list_val_loss.append(avg_val_loss)\n",
    "    list_val_acc.append(avg_val_accuracy)\n",
    "\n",
    "    # Save checkpoint.\n",
    "    if avg_val_accuracy > best_acc:\n",
    "        best_acc = avg_val_accuracy\n",
    "\n",
    "        print('Saving..')\n",
    "        state = {\"model\": model.state_dict(),\n",
    "                 \"optimizer\": optimizer.state_dict(),\n",
    "                 \"epoch\": epoch,\n",
    "                 \"best_acc\": best_acc,\n",
    "                 \"list_tr_loss\": list_tr_loss,\n",
    "                 \"list_tr_acc\": list_tr_acc,\n",
    "                 \"list_val_loss\": list_val_loss,\n",
    "                 \"list_val_acc\": list_val_acc\n",
    "                 }\n",
    "        torch.save(state, model_state_path +f'{model_type}_patch{patch_size}_cifak_epoch_{epoch}')\n",
    "\n",
    "    ##########################################################\n",
    "\n",
    "    if use_scheduler: scheduler.step()  # step scheduling"
   ]
  },
  {
   "cell_type": "code",
   "execution_count": 26,
   "metadata": {},
   "outputs": [
    {
     "data": {
      "image/png": "[encoded data removed]",
      "text/plain": [
       "<Figure size 640x480 with 2 Axes>"
      ]
     },
     "metadata": {},
     "output_type": "display_data"
    }
   ],
   "source": [
    "fig, axs = plt.subplots(2, 1)\n",
    "\n",
    "axs[0].plot(range(len(list_tr_loss )), list_tr_loss , label='Train Loss')\n",
    "axs[0].plot(range(len(list_val_loss)), list_val_loss, label='Validation Loss')\n",
    "axs[0].set_ylim([0,5])\n",
    "\n",
    "axs[1].plot(range(len(list_tr_acc)), list_tr_acc, label='Train Accuracy')\n",
    "axs[1].plot(range(len(list_val_acc)), list_val_acc, label='Validation Accuracy')\n",
    "axs[1].set_ylim([40,80])\n",
    "\n",
    "axs[0].legend()\n",
    "axs[1].legend()\n",
    "plt.show()"
   ]
  }
 ],
 "metadata": {
  "kernelspec": {
   "display_name": "timmvenv11",
   "language": "python",
   "name": "python3"
  },
  "language_info": {
   "codemirror_mode": {
    "name": "ipython",
    "version": 3
   },
   "file_extension": ".py",
   "mimetype": "text/x-python",
   "name": "python",
   "nbconvert_exporter": "python",
   "pygments_lexer": "ipython3",
   "version": "3.11.0"
  }
 },
 "nbformat": 4,
 "nbformat_minor": 2
}
