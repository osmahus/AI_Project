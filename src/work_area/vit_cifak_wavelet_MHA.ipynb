{
 "cells": [
  {
   "cell_type": "code",
   "execution_count": 1,
   "metadata": {},
   "outputs": [],
   "source": [
    "import os\n",
    "import cv2\n",
    "\n",
    "from helpers.DatasetProcess import dataset_to_df, search_df\n",
    "from helpers.WaveletPacket import wp_decompose,plot_wp_nodes,plot_wp_fun\n",
    "\n",
    "import numpy as np\n",
    "# import pandas as pd\n",
    "\n",
    "from tqdm import tqdm\n",
    "\n",
    "import matplotlib.pyplot as plt\n",
    "import matplotlib.gridspec as gridspec\n",
    "from mpl_toolkits.axes_grid1 import ImageGrid\n",
    "\n",
    "\n",
    "import torch\n",
    "from torch import nn, einsum\n",
    "import torch.nn.functional as F\n",
    "\n",
    "\n",
    "# The cross-entropy loss penalizes the model more when it is more confident in the incorrect class\n",
    "from torch.nn import CrossEntropyLoss\n",
    "\n",
    "# Adam is an optimization algorithm that can be used instead of the classical SGD procedure\n",
    "# to update network weights iterative based in training data.\n",
    "from torch.optim import SGD, Adam\n",
    "from torch.optim.lr_scheduler import CosineAnnealingLR\n",
    "from torch.utils.data import Dataset, DataLoader, random_split\n",
    "\n",
    "from torchvision import transforms\n",
    "from torchvision.transforms import v2\n",
    "from torchvision.io import read_image\n",
    "\n",
    "from torchinfo import summary\n",
    "\n",
    "from einops import rearrange, repeat\n",
    "from einops.layers.torch import Rearrange"
   ]
  },
  {
   "cell_type": "code",
   "execution_count": 2,
   "metadata": {},
   "outputs": [
    {
     "name": "stdout",
     "output_type": "stream",
     "text": [
      "torch version: 2.2.1+cu121\n",
      "GPU Card: NVIDIA GeForce RTX 3070 Ti Laptop GPU\n",
      "Torch is using device: cuda:0\n",
      "CPU Count: 20\n"
     ]
    }
   ],
   "source": [
    "print(f\"torch version: {torch.__version__}\")\n",
    "print(f\"GPU Card: {torch.cuda.get_device_name(0)}\")\n",
    "device = torch.device('cuda:0' if torch.cuda.is_available() else 'cpu')\n",
    "print('Torch is using device:', device)\n",
    "torch.cuda.get_device_name(device)\n",
    "\n",
    "NUM_WORKERS = os.cpu_count()\n",
    "print(\"CPU Count:\", NUM_WORKERS)"
   ]
  },
  {
   "cell_type": "code",
   "execution_count": 3,
   "metadata": {},
   "outputs": [],
   "source": [
    "training_phase = 1"
   ]
  },
  {
   "cell_type": "code",
   "execution_count": 4,
   "metadata": {},
   "outputs": [],
   "source": [
    "model_type = \"vit\"\n",
    "add_extra_epochs = True  # if True then continue for extra epochs from the starting epoch\n",
    "\n",
    "# If True load a pretrained model, and start_epoch = epoch of the model . Else if False then start_epoch = 0\n",
    "start_from_model = False"
   ]
  },
  {
   "cell_type": "code",
   "execution_count": 5,
   "metadata": {},
   "outputs": [],
   "source": [
    "model_state_path = f\"../../../weights/{model_type}_cifak/checkpoint/\"\n",
    "\n",
    "model_file_name = f\"vit_patch8_cifak_epoch_394\"  # file name of the saved model\n",
    "\n",
    "checkpoint = torch.load(model_state_path+model_file_name)"
   ]
  },
  {
   "cell_type": "code",
   "execution_count": 6,
   "metadata": {},
   "outputs": [
    {
     "name": "stdout",
     "output_type": "stream",
     "text": [
      "1\n"
     ]
    }
   ],
   "source": [
    "if start_from_model:\n",
    "    training_phase_lst = checkpoint['training_phase_lst']\n",
    "    training_phase = training_phase_lst[-1]+1\n",
    "\n",
    "print(training_phase)\n"
   ]
  },
  {
   "cell_type": "code",
   "execution_count": 7,
   "metadata": {},
   "outputs": [
    {
     "name": "stdout",
     "output_type": "stream",
     "text": [
      "19\n"
     ]
    }
   ],
   "source": [
    "# Wavelet Packet Transform Hyper Parameters\n",
    "wpt_fun = 'db2'\n",
    "wpt_level = 2\n",
    "wpt_format = \"Stack_ImgUseSameSize\"\n",
    "wpt_ch = ((2**wpt_level)**2)\n",
    "img_and_wpt_channels = 3+wpt_ch\n",
    "print(img_and_wpt_channels)"
   ]
  },
  {
   "cell_type": "code",
   "execution_count": 8,
   "metadata": {},
   "outputs": [],
   "source": [
    "img_trans_norm_mean = [0.4913997551666284, 0.48215855929893703, 0.4465309133731618]\n",
    "img_trans_norm_std = [0.24703225141799082, 0.24348516474564, 0.26158783926049628]"
   ]
  },
  {
   "cell_type": "code",
   "execution_count": 9,
   "metadata": {},
   "outputs": [
    {
     "name": "stdout",
     "output_type": "stream",
     "text": [
      "Flattened dimension size(of a patch): 1216\n",
      "Embedding Size: 1216\n",
      "Output MLP size: 384\n"
     ]
    }
   ],
   "source": [
    "img_size = 32  # Input image height/width in pixels\n",
    "patch_size = 8 # The height/width of a patch in pixels (patch is a slice of an image)\n",
    "\n",
    "image_patch_flat_size = img_and_wpt_channels*patch_size**2 #3 Channels x height x width\n",
    "embed_size = image_patch_flat_size\n",
    "mlp_dim = 384 # dim of the last mlp classifier\n",
    "\n",
    "train_batch_size = 512 # https://www.youtube.com/watch?v=Owm1H0ukjS4\n",
    "valid_batch_size = 512\n",
    "\n",
    "num_classes = 2\n",
    "encoder_depth = 4\n",
    "attention_heads = 32\n",
    "\n",
    "print(f'Flattened dimension size(of a patch): {image_patch_flat_size}')\n",
    "print(f'Embedding Size: {embed_size}')\n",
    "print(f'Output MLP size: {mlp_dim}')"
   ]
  },
  {
   "cell_type": "code",
   "execution_count": 10,
   "metadata": {},
   "outputs": [
    {
     "name": "stdout",
     "output_type": "stream",
     "text": [
      "Train another 400 epochs after epoch 0 \n"
     ]
    }
   ],
   "source": [
    "n_extra_epochs = 400\n",
    "max_epochs = 200\n",
    "\n",
    "start_epoch = checkpoint['epoch'] if start_from_model else 0\n",
    "end_epoch = start_epoch + n_extra_epochs if add_extra_epochs else max_epochs\n",
    "delta_epochs = end_epoch-start_epoch\n",
    "\n",
    "print(f\"Train another {delta_epochs} epochs after epoch {start_epoch} \")"
   ]
  },
  {
   "cell_type": "code",
   "execution_count": 11,
   "metadata": {},
   "outputs": [],
   "source": [
    "base_lr = 0.005         # Base Learning rate 0.1 for SGD , 0.0001 for Adam\n",
    "momentum = 0.9          # Momentum for SGD\n",
    "weight_decay = 0.03     # Weight decay for Adam\n",
    "\n",
    "\n",
    "loss_algo = CrossEntropyLoss\n",
    "\n",
    "optimize_algo = SGD\n",
    "optimize_args = {\"lr\": base_lr,\n",
    "                #  \"weight_decay\": weight_decay,\n",
    "                #  \"momentum\": momentum  # comment momentum for Adam\n",
    "                 }\n",
    "\n",
    "use_scheduler = False\n",
    "schedule_algo = CosineAnnealingLR\n",
    "schedule_args = {\"T_max\": delta_epochs}"
   ]
  },
  {
   "cell_type": "code",
   "execution_count": 12,
   "metadata": {},
   "outputs": [],
   "source": [
    "hyper_parameters = {\n",
    "    \"training_phase\": training_phase,\n",
    "    \"model_type\": model_type,\n",
    "    \"wpt_fun\": wpt_fun,\n",
    "    \"wpt_level\": wpt_level,\n",
    "    \"wpt_format\": wpt_format,\n",
    "    \"img_and_wpt_channels\": img_and_wpt_channels,\n",
    "    \"img_trans_norm_mean\": img_trans_norm_mean,\n",
    "    \"img_trans_norm_std\": img_trans_norm_std,\n",
    "    \"img_size\": img_size,\n",
    "    \"patch_size\": patch_size,\n",
    "    \"image_patch_flat_size\": image_patch_flat_size,\n",
    "    \"embed_size\": embed_size,\n",
    "    \"mlp_dim\": mlp_dim,\n",
    "    \"train_batch_size\": train_batch_size,\n",
    "    \"valid_batch_size\": valid_batch_size,\n",
    "    \"num_classes\": num_classes,\n",
    "    \"encoder_depth\": encoder_depth,\n",
    "    \"attention_heads\": attention_heads,\n",
    "    \"n_extra_epochs \": n_extra_epochs,\n",
    "    \"base_lr\": base_lr,\n",
    "    \"momentum\": momentum,\n",
    "    \"weight_decay\": weight_decay,\n",
    "    \"loss_algo\": loss_algo,\n",
    "    \"optimize_algo\": optimize_algo,\n",
    "    \"optimize_args\": optimize_args,\n",
    "    \"use_scheduler\": use_scheduler,\n",
    "    \"schedule_algo\": schedule_algo,\n",
    "    \"schedule_args\": schedule_args\n",
    "}"
   ]
  },
  {
   "cell_type": "code",
   "execution_count": 13,
   "metadata": {},
   "outputs": [
    {
     "data": {
      "text/plain": [
       "{'training_phase': 1,\n",
       " 'model_type': 'vit',\n",
       " 'wpt_fun': 'db2',\n",
       " 'wpt_level': 2,\n",
       " 'wpt_format': 'Stack_ImgUseSameSize',\n",
       " 'img_and_wpt_channels': 19,\n",
       " 'img_trans_norm_mean': [0.4913997551666284,\n",
       "  0.48215855929893703,\n",
       "  0.4465309133731618],\n",
       " 'img_trans_norm_std': [0.24703225141799082,\n",
       "  0.24348516474564,\n",
       "  0.2615878392604963],\n",
       " 'img_size': 32,\n",
       " 'patch_size': 8,\n",
       " 'image_patch_flat_size': 1216,\n",
       " 'embed_size': 1216,\n",
       " 'mlp_dim': 384,\n",
       " 'train_batch_size': 512,\n",
       " 'valid_batch_size': 512,\n",
       " 'num_classes': 2,\n",
       " 'encoder_depth': 4,\n",
       " 'attention_heads': 32,\n",
       " 'n_extra_epochs ': 400,\n",
       " 'base_lr': 0.005,\n",
       " 'momentum': 0.9,\n",
       " 'weight_decay': 0.03,\n",
       " 'loss_algo': torch.nn.modules.loss.CrossEntropyLoss,\n",
       " 'optimize_algo': torch.optim.sgd.SGD,\n",
       " 'optimize_args': {'lr': 0.005},\n",
       " 'use_scheduler': False,\n",
       " 'schedule_algo': torch.optim.lr_scheduler.CosineAnnealingLR,\n",
       " 'schedule_args': {'T_max': 400}}"
      ]
     },
     "execution_count": 13,
     "metadata": {},
     "output_type": "execute_result"
    }
   ],
   "source": [
    "hyper_parameters"
   ]
  },
  {
   "cell_type": "code",
   "execution_count": 14,
   "metadata": {},
   "outputs": [],
   "source": [
    "path = '../../../data/CIFAK'\n",
    "relative_paths = [\"/train/REAL\", \"/train/FAKE\", \"/test/REAL\", \"/test/FAKE\"]\n",
    "paths_classes = [\"REAL\", \"FAKE\", \"REAL\", \"FAKE\"]"
   ]
  },
  {
   "cell_type": "code",
   "execution_count": 15,
   "metadata": {},
   "outputs": [
    {
     "data": {
      "text/html": [
       "<div>\n",
       "<style scoped>\n",
       "    .dataframe tbody tr th:only-of-type {\n",
       "        vertical-align: middle;\n",
       "    }\n",
       "\n",
       "    .dataframe tbody tr th {\n",
       "        vertical-align: top;\n",
       "    }\n",
       "\n",
       "    .dataframe thead th {\n",
       "        text-align: right;\n",
       "    }\n",
       "</style>\n",
       "<table border=\"1\" class=\"dataframe\">\n",
       "  <thead>\n",
       "    <tr style=\"text-align: right;\">\n",
       "      <th></th>\n",
       "      <th>REAL</th>\n",
       "      <th>FAKE</th>\n",
       "      <th>Total</th>\n",
       "    </tr>\n",
       "  </thead>\n",
       "  <tbody>\n",
       "    <tr>\n",
       "      <th>Training</th>\n",
       "      <td>48000</td>\n",
       "      <td>48000</td>\n",
       "      <td>96000</td>\n",
       "    </tr>\n",
       "    <tr>\n",
       "      <th>Validation</th>\n",
       "      <td>11400</td>\n",
       "      <td>11400</td>\n",
       "      <td>22800</td>\n",
       "    </tr>\n",
       "    <tr>\n",
       "      <th>Testing</th>\n",
       "      <td>600</td>\n",
       "      <td>600</td>\n",
       "      <td>1200</td>\n",
       "    </tr>\n",
       "    <tr>\n",
       "      <th>Row_Total</th>\n",
       "      <td>60000</td>\n",
       "      <td>60000</td>\n",
       "      <td>120000</td>\n",
       "    </tr>\n",
       "  </tbody>\n",
       "</table>\n",
       "</div>"
      ],
      "text/plain": [
       "             REAL   FAKE   Total\n",
       "Training    48000  48000   96000\n",
       "Validation  11400  11400   22800\n",
       "Testing       600    600    1200\n",
       "Row_Total   60000  60000  120000"
      ]
     },
     "execution_count": 15,
     "metadata": {},
     "output_type": "execute_result"
    }
   ],
   "source": [
    "df_all, df_train, df_val, df_test, classes_stats = dataset_to_df(path, relative_paths, paths_classes, 0.8, 0.19, 0.01)\n",
    "classes_stats"
   ]
  },
  {
   "cell_type": "code",
   "execution_count": 16,
   "metadata": {},
   "outputs": [
    {
     "name": "stdout",
     "output_type": "stream",
     "text": [
      "First and Last Elements in the Whole dataset\n"
     ]
    },
    {
     "data": {
      "text/html": [
       "<div>\n",
       "<style scoped>\n",
       "    .dataframe tbody tr th:only-of-type {\n",
       "        vertical-align: middle;\n",
       "    }\n",
       "\n",
       "    .dataframe tbody tr th {\n",
       "        vertical-align: top;\n",
       "    }\n",
       "\n",
       "    .dataframe thead th {\n",
       "        text-align: right;\n",
       "    }\n",
       "</style>\n",
       "<table border=\"1\" class=\"dataframe\">\n",
       "  <thead>\n",
       "    <tr style=\"text-align: right;\">\n",
       "      <th></th>\n",
       "      <th>Image_path</th>\n",
       "      <th>Image_size</th>\n",
       "      <th>Class</th>\n",
       "      <th>Class_Codes</th>\n",
       "      <th>Class_Onehot</th>\n",
       "    </tr>\n",
       "  </thead>\n",
       "  <tbody>\n",
       "    <tr>\n",
       "      <th>0</th>\n",
       "      <td>../../../data/CIFAK//train/REAL/0000(10).jpg</td>\n",
       "      <td>(3, 32, 32)</td>\n",
       "      <td>REAL</td>\n",
       "      <td>1</td>\n",
       "      <td>[1, 0]</td>\n",
       "    </tr>\n",
       "    <tr>\n",
       "      <th>119999</th>\n",
       "      <td>../../../data/CIFAK//test/FAKE/999.jpg</td>\n",
       "      <td>(3, 32, 32)</td>\n",
       "      <td>FAKE</td>\n",
       "      <td>0</td>\n",
       "      <td>[0, 1]</td>\n",
       "    </tr>\n",
       "  </tbody>\n",
       "</table>\n",
       "</div>"
      ],
      "text/plain": [
       "                                          Image_path   Image_size Class  \\\n",
       "0       ../../../data/CIFAK//train/REAL/0000(10).jpg  (3, 32, 32)  REAL   \n",
       "119999        ../../../data/CIFAK//test/FAKE/999.jpg  (3, 32, 32)  FAKE   \n",
       "\n",
       "        Class_Codes Class_Onehot  \n",
       "0                 1       [1, 0]  \n",
       "119999            0       [0, 1]  "
      ]
     },
     "execution_count": 16,
     "metadata": {},
     "output_type": "execute_result"
    }
   ],
   "source": [
    "print(\"First and Last Elements in the Whole dataset\")\n",
    "df_all.iloc[[0,-1]]"
   ]
  },
  {
   "cell_type": "code",
   "execution_count": 17,
   "metadata": {},
   "outputs": [
    {
     "data": {
      "image/png": "[encoded data removed]",
      "text/plain": [
       "<Figure size 400x200 with 2 Axes>"
      ]
     },
     "metadata": {},
     "output_type": "display_data"
    }
   ],
   "source": [
    "fig, axs = plt.subplots(1, 2, layout=\"constrained\",figsize=(4, 2))\n",
    "\n",
    "fig.suptitle('Dataset Sample Images (Source CIFAK)')\n",
    "axs[0].imshow(cv2.imread(df_all.iloc[0, 0]))\n",
    "axs[0].set(xlabel=df_all.iloc[0, 2])\n",
    "axs[0].set_xticks([])\n",
    "axs[0].set_yticks([])\n",
    "\n",
    "axs[1].imshow(cv2.imread(df_all.iloc[-1, 0]))\n",
    "axs[1].set(xlabel=df_all.iloc[-1, 2])\n",
    "axs[1].set_xticks([])\n",
    "axs[1].set_yticks([])\n",
    "\n",
    "\n",
    "plt.show()"
   ]
  },
  {
   "cell_type": "code",
   "execution_count": 18,
   "metadata": {},
   "outputs": [],
   "source": [
    "def plot_img_grid(holder, data, main_title, Grid2D=True, axes_pad=0.1):\n",
    "\n",
    "    data_rows = data.shape[0]\n",
    "    data_cols = data.shape[1]\n",
    "    if Grid2D:\n",
    "        nrows = data_rows\n",
    "        ncols = data_cols\n",
    "    else:\n",
    "        nrows = 1\n",
    "        ncols = data_rows*data_cols\n",
    "\n",
    "    x_label = range(ncols)\n",
    "    y_label = range(nrows)\n",
    "\n",
    "    grid = ImageGrid(holder, 111, (nrows, ncols), axes_pad=axes_pad)\n",
    "\n",
    "    for i, ax in enumerate(grid):\n",
    "        r, c = i//data_cols, i % data_cols\n",
    "        ax.imshow(data[r, c])\n",
    "        ax.set(xticks=[], yticks=[])\n",
    "        if Grid2D:\n",
    "            if r == nrows - 1:\n",
    "                ax.set_xlabel(x_label[c], rotation=0, fontsize=10, labelpad=20)\n",
    "            if c == 0:\n",
    "                ax.set_ylabel(y_label[r], rotation=0, fontsize=10, labelpad=20)\n",
    "        else:\n",
    "            ax.set_xlabel(x_label[i], rotation=0, fontsize=10, labelpad=20)\n",
    "            if i == 0:\n",
    "                ax.set_ylabel(y_label[i], rotation=0, fontsize=10, labelpad=20)\n",
    "\n",
    "    holder.suptitle(main_title)"
   ]
  },
  {
   "cell_type": "code",
   "execution_count": 19,
   "metadata": {},
   "outputs": [],
   "source": [
    "def img_plot(plot, img, slice_width, CHW_Image=True, figsize=(8, 5)):\n",
    "    # img is passed as torch tensor, hence we need to arrange its shape to suite imshow\n",
    "    if not isinstance(img, np.ndarray):\n",
    "        img = img.numpy()\n",
    "\n",
    "    if CHW_Image:\n",
    "        img_a = rearrange(img, \"c h w -> h w c\").astype(np.uint8)\n",
    "        img_patches_matrix = rearrange(\n",
    "            img, 'c (row h) (col w) -> row col h w c', h=slice_width, w=slice_width).astype(np.uint8)\n",
    "    else:\n",
    "        img_a = img.astype(np.uint8)\n",
    "        img_patches_matrix = rearrange(\n",
    "            img, '(row h) (col w) c -> row col h w c', h=slice_width, w=slice_width).astype(np.uint8)\n",
    "\n",
    "    print(\"Shape of the image patches matrix: \", img_patches_matrix.shape)\n",
    "\n",
    "    grid1_text = \"Input Image Sliced to Patches\"\n",
    "    grid2_text = \"Image Patches Arranged Sequentially Before Enter to Encoder\"\n",
    "\n",
    "    # plt.rcParams['figure.constrained_layout.use'] = True\n",
    "    fig = plt.figure(figsize=figsize)\n",
    "    subfigs = fig.subfigures(3, 1, height_ratios=[1, 1, 1], hspace=0.5)\n",
    "\n",
    "    ax0 = subfigs[0].subplots(1, 1)\n",
    "    ax0.imshow(img_a)\n",
    "    ax0.set(xticks=[], yticks=[])\n",
    "    ax0.set_title(\"Input Image\")\n",
    "\n",
    "    plot_img_grid(subfigs[1], img_patches_matrix, grid1_text, Grid2D=True)\n",
    "\n",
    "    plot_img_grid(subfigs[2], img_patches_matrix, grid2_text, Grid2D=False)"
   ]
  },
  {
   "cell_type": "code",
   "execution_count": 20,
   "metadata": {},
   "outputs": [],
   "source": [
    "# https://github.com/lucidrains/vit-pytorch/blob/main/vit_pytorch/vit.py\n",
    "# replaced the attention mechanism with MHA from Sebastian Raschka\n",
    "\n",
    "# helpers\n",
    "def pair(t):\n",
    "    return t if isinstance(t, tuple) else (t, t)\n",
    "\n",
    "# classes\n",
    "class PreNorm(nn.Module):\n",
    "    def __init__(self, dim, fn):\n",
    "        super().__init__()\n",
    "        self.norm = nn.LayerNorm(dim)\n",
    "        self.fn = fn\n",
    "\n",
    "    def forward(self, x, **kwargs):\n",
    "        return self.fn(self.norm(x), **kwargs)\n",
    "\n",
    "\n",
    "class FeedForward(nn.Module):\n",
    "    def __init__(self, dim, hidden_dim, dropout=0.):\n",
    "        super().__init__()\n",
    "        self.model = nn.Sequential(\n",
    "            nn.Linear(dim, hidden_dim),\n",
    "            nn.GELU(),\n",
    "            nn.Dropout(dropout),\n",
    "            nn.Linear(hidden_dim, dim),\n",
    "            nn.Dropout(dropout)\n",
    "        )\n",
    "\n",
    "    def forward(self, x):\n",
    "        return self.model(x)\n",
    "\n",
    "\n",
    "# inspired by Sebstian Raschka with modifications\n",
    "class MHA(nn.Module):\n",
    "    def __init__(self, embed_dim: int, num_of_head: int = 12, Dropout=0.2) -> None:\n",
    "        super().__init__()\n",
    "        self.embed_dim = embed_dim\n",
    "        self.inner_dim = embed_dim*2\n",
    "        self.num_of_head = num_of_head\n",
    "        self.dim_per_head = self.inner_dim // self.num_of_head\n",
    "        self.Wq = nn.Linear(in_features=embed_dim, out_features=self.inner_dim)\n",
    "        self.Wk = nn.Linear(in_features=embed_dim, out_features=self.inner_dim)\n",
    "        self.Wv = nn.Linear(in_features=embed_dim, out_features=self.inner_dim)\n",
    "\n",
    "        self.dropout = Dropout\n",
    "        self.linear = nn.Linear(in_features=self.inner_dim, out_features=embed_dim)\n",
    "\n",
    "    def forward(self, x: torch.Tensor) -> torch.Tensor:\n",
    "\n",
    "        q = self.Wq(x)\n",
    "        k = self.Wk(x)\n",
    "        v = self.Wv(x)\n",
    "\n",
    "        Q = rearrange(q, 'b s (h d) -> b h s d',\n",
    "                      h=self.num_of_head, d=self.dim_per_head)\n",
    "        K = rearrange(k, 'b s (h d) -> b h s d',\n",
    "                      h=self.num_of_head, d=self.dim_per_head)\n",
    "        V = rearrange(v, 'b s (h d) -> b h s d',\n",
    "                      h=self.num_of_head, d=self.dim_per_head)\n",
    "\n",
    "        use_dropout = 0.0 if not self.training else self.dropout\n",
    "\n",
    "        attention = F.scaled_dot_product_attention(Q, K, V, dropout_p=use_dropout)\n",
    "        \n",
    "        # Note:\n",
    "        # dimensions of tensors inside F.scaled_dot_product_attention as follows:\n",
    "        # Q(b h s d) . KT(b h d s) ==> b h s s\n",
    "        # weight(b h s s).V(b h s d) ==> attention (b h s d)\n",
    "\n",
    "        attention = rearrange(attention, 'b h s d -> b s (h d)')\n",
    "        attention = self.linear(attention)\n",
    "        return attention\n",
    "\n",
    "\n",
    "class Transformer(nn.Module):\n",
    "    def __init__(self, dim, depth, heads, dim_head, mlp_dim, dropout=0.):\n",
    "        super().__init__()\n",
    "        self.layers = nn.ModuleList([])\n",
    "        for _ in range(depth):\n",
    "            self.layers.append(nn.ModuleList([\n",
    "                # PreNorm(dim, Attention(dim, heads = heads, dim_head = dim_head, dropout = dropout)),\n",
    "                PreNorm(dim, MHA(embed_dim=dim, num_of_head=heads, Dropout=dropout)),\n",
    "                PreNorm(dim, FeedForward(dim, mlp_dim, dropout=dropout))\n",
    "            ]))\n",
    "\n",
    "    def forward(self, x):\n",
    "        for attn, ff in self.layers:\n",
    "            x = attn(x) + x\n",
    "            x = ff(x) + x\n",
    "        return x\n",
    "\n",
    "\n",
    "class vit(nn.Module):\n",
    "    def __init__(self, *, image_size, patch_size, num_classes, dim, depth, heads, mlp_dim, pool='cls', channels=3, dim_head=64, emb_dropout=0., dropout=0.):\n",
    "        super().__init__()\n",
    "        image_height, image_width = pair(image_size)\n",
    "        patch_height, patch_width = pair(patch_size)\n",
    "\n",
    "        assert image_height % patch_height == 0 and image_width % patch_width == 0, 'Image dimensions must be divisible by the patch size.'\n",
    "\n",
    "        num_patches = (image_height // patch_height) * (image_width // patch_width)\n",
    "        patch_dim = channels * patch_height * patch_width\n",
    "        assert pool in {\n",
    "            'cls', 'mean'}, 'pool type must be either cls (cls token) or mean (mean pooling)'\n",
    "\n",
    "        self.to_patch_embedding = nn.Sequential(\n",
    "            Rearrange('b c (h p1) (w p2) -> b (h w) (p1 p2 c)',\n",
    "                      p1=patch_height, p2=patch_width),\n",
    "            nn.Linear(patch_dim, dim),\n",
    "        )\n",
    "\n",
    "        self.pos_embedding = nn.Parameter(torch.randn(1, num_patches + 1, dim))\n",
    "        self.cls_token = nn.Parameter(torch.randn(1, 1, dim))\n",
    "        self.dropout = nn.Dropout(emb_dropout)\n",
    "\n",
    "        self.transformer = Transformer(\n",
    "            dim, depth, heads, dim_head, mlp_dim, dropout)\n",
    "\n",
    "        self.pool = pool\n",
    "        self.to_latent = nn.Identity()\n",
    "\n",
    "        self.mlp_head = nn.Sequential(\n",
    "            nn.LayerNorm(dim),\n",
    "            nn.Linear(dim, num_classes)\n",
    "        )\n",
    "\n",
    "    def forward(self, img):\n",
    "        x = self.to_patch_embedding(img)\n",
    "        b, n, _ = x.shape\n",
    "\n",
    "        cls_tokens = repeat(self.cls_token, '() n d -> b n d', b=b)\n",
    "        x = torch.cat((cls_tokens, x), dim=1)\n",
    "        x += self.pos_embedding[:, :(n + 1)]\n",
    "        x = self.dropout(x)\n",
    "\n",
    "        x = self.transformer(x)\n",
    "\n",
    "        x = x.mean(dim=1) if self.pool == 'mean' else x[:, 0]\n",
    "\n",
    "        x = self.to_latent(x)\n",
    "        return self.mlp_head(x)"
   ]
  },
  {
   "cell_type": "code",
   "execution_count": 21,
   "metadata": {},
   "outputs": [],
   "source": [
    "# Custom Dataset Class\n",
    "class Images_Dataset(Dataset):\n",
    "    def __init__(self, annotations_df, transform=None):\n",
    "\n",
    "        self.annotation = annotations_df\n",
    "        self.transform = transform\n",
    "\n",
    "    def __getitem__(self, index):\n",
    "\n",
    "        img = read_image(self.annotation.iloc[index, 0])\n",
    "        labels = torch.tensor(\n",
    "            self.annotation.iloc[index, 3], dtype=torch.int64)\n",
    "\n",
    "        if self.transform:\n",
    "            img_t = self.transform(img)\n",
    "        else:\n",
    "            img_t = img\n",
    "\n",
    "        img_to_wpt = rearrange(img_t, \"c h w -> h w c\").numpy()\n",
    "        nodes, *_ = wp_decompose(img_to_wpt, wpt_fun, wpt_level, wpt_format)\n",
    "        adj_img = nodes[:, :, :3].astype(np.uint8)\n",
    "        nodes_t = rearrange(torch.from_numpy(nodes), \"h w c -> c h w\")\n",
    "\n",
    "        return img, adj_img, nodes_t, labels\n",
    "\n",
    "    def __len__(self):\n",
    "        # To return the length of the dataset\n",
    "        return self.annotation.shape[0]"
   ]
  },
  {
   "cell_type": "code",
   "execution_count": 22,
   "metadata": {},
   "outputs": [],
   "source": [
    "transform_train = transforms.Compose([\n",
    "    # Note:\n",
    "    # We want to introduce augmentation for the dataset using transformations \n",
    "    # which doesn't change the real images into fake\n",
    "    # v2.RandomCrop(32, padding=4),\n",
    "    # v2.RandomHorizontalFlip(p=0.5),\n",
    "    transforms.ToPILImage(),\n",
    "    v2.RandomAffine(degrees=(0, 180), translate=(0.1, 0.3), scale=(0.5, 0.75)),\n",
    "    # transforms.ToTensor(),\n",
    "    v2.ToImage(), \n",
    "    v2.ToDtype(torch.float32, scale=True),\n",
    "    v2.Normalize(img_trans_norm_mean, img_trans_norm_std),\n",
    "])\n",
    "\n",
    "transform_valid = transforms.Compose([\n",
    "    # transforms.ToTensor(),\n",
    "    v2.ToImage(), \n",
    "    v2.ToDtype(torch.float32, scale=True),\n",
    "    v2.Normalize(img_trans_norm_mean, img_trans_norm_std),\n",
    "])"
   ]
  },
  {
   "cell_type": "code",
   "execution_count": 23,
   "metadata": {},
   "outputs": [],
   "source": [
    "# Define the dataset object and configure the Data Loader\n",
    "\n",
    "train_set  = Images_Dataset(df_train, transform_train)\n",
    "\n",
    "train_loader = DataLoader(dataset=train_set,\n",
    "                          batch_size=train_batch_size,\n",
    "                          # Drops the last mini batch if less than the batch size (could enhance the model accuracy)\n",
    "                          drop_last=True,\n",
    "                          shuffle=True,\n",
    "                          pin_memory=True,\n",
    "                          num_workers=NUM_WORKERS)\n",
    "\n",
    "\n",
    "valid_set  = Images_Dataset(df_val, transform_valid)\n",
    "\n",
    "valid_loader= DataLoader(dataset=valid_set ,\n",
    "                          batch_size=valid_batch_size,\n",
    "                          # Drops the last mini batch if less than the batch size (could enhance the model accuracy)\n",
    "                          drop_last=True,\n",
    "                          shuffle=False,\n",
    "                          pin_memory=True,\n",
    "                          num_workers=NUM_WORKERS)"
   ]
  },
  {
   "cell_type": "code",
   "execution_count": 24,
   "metadata": {},
   "outputs": [
    {
     "name": "stdout",
     "output_type": "stream",
     "text": [
      "Total number of training batches: 187\n",
      "Total number of validation batches: 44\n"
     ]
    }
   ],
   "source": [
    "print(\"Total number of training batches:\", len(train_loader))\n",
    "print(\"Total number of validation batches:\", len(valid_loader))"
   ]
  },
  {
   "cell_type": "code",
   "execution_count": 25,
   "metadata": {},
   "outputs": [
    {
     "name": "stdout",
     "output_type": "stream",
     "text": [
      "Batch of Images Shape: torch.Size([512, 19, 32, 32])\n",
      "Batch of Labels Shape: torch.Size([512])\n"
     ]
    }
   ],
   "source": [
    "sample_img_batch, sample_img_trans_batch, sample_nodes_batch, label_batch = next(\n",
    "    iter(train_loader))\n",
    "\n",
    "print(f\"Batch of Images Shape: {sample_nodes_batch.size()}\")\n",
    "print(f\"Batch of Labels Shape: {label_batch.size()}\")\n",
    "# print(label_batch)\n"
   ]
  },
  {
   "cell_type": "code",
   "execution_count": 26,
   "metadata": {},
   "outputs": [],
   "source": [
    "sample_img_idx=12"
   ]
  },
  {
   "cell_type": "code",
   "execution_count": 27,
   "metadata": {},
   "outputs": [],
   "source": [
    "sample_input_img = sample_img_batch[sample_img_idx, :, :, :]"
   ]
  },
  {
   "cell_type": "code",
   "execution_count": 28,
   "metadata": {},
   "outputs": [
    {
     "data": {
      "text/plain": [
       "Text(0.5, 1.0, 'tensor(1)')"
      ]
     },
     "execution_count": 28,
     "metadata": {},
     "output_type": "execute_result"
    },
    {
     "data": {
      "image/png": "[encoded data removed]",
      "text/plain": [
       "<Figure size 200x200 with 1 Axes>"
      ]
     },
     "metadata": {},
     "output_type": "display_data"
    }
   ],
   "source": [
    "plt.figure(figsize=(2,2))\n",
    "plt.imshow(rearrange(sample_input_img,\"c h w -> h w c\").numpy())\n",
    "plt.xticks([])\n",
    "plt.yticks([])\n",
    "plt.title(label_batch[sample_img_idx])"
   ]
  },
  {
   "cell_type": "code",
   "execution_count": 29,
   "metadata": {},
   "outputs": [
    {
     "name": "stdout",
     "output_type": "stream",
     "text": [
      "torch.Size([3, 32, 32])\n"
     ]
    }
   ],
   "source": [
    "sample_nodes_img=sample_nodes_batch[sample_img_idx,:3,:,:]\n",
    "print(sample_nodes_img.shape)\n",
    "sample_nodes_img_np=rearrange(sample_nodes_img,\"c h w -> h w c\").numpy()\n",
    "\n",
    "# sample_nodes_img = sample_img_trans_batch[sample_img_idx, :, :, :]\n",
    "# print(sample_nodes_img.shape)"
   ]
  },
  {
   "cell_type": "code",
   "execution_count": null,
   "metadata": {},
   "outputs": [],
   "source": [
    "print(sample)"
   ]
  },
  {
   "cell_type": "code",
   "execution_count": 30,
   "metadata": {},
   "outputs": [
    {
     "data": {
      "image/png": "[encoded data removed]",
      "text/plain": [
       "<Figure size 1200x1200 with 33 Axes>"
      ]
     },
     "metadata": {},
     "output_type": "display_data"
    }
   ],
   "source": [
    "plot_wp_nodes(sample_nodes_img_np, wpt_fun, wpt_level, wpt_format)"
   ]
  },
  {
   "cell_type": "code",
   "execution_count": 31,
   "metadata": {},
   "outputs": [
    {
     "name": "stdout",
     "output_type": "stream",
     "text": [
      "Shape of the image patches matrix:  (4, 4, 8, 8, 3)\n"
     ]
    },
    {
     "data": {
      "image/png": "[encoded data removed]",
      "text/plain": [
       "<Figure size 1000x800 with 65 Axes>"
      ]
     },
     "metadata": {},
     "output_type": "display_data"
    }
   ],
   "source": [
    "img_plot(plt, sample_nodes_img, patch_size, CHW_Image=True, figsize=(10, 8))"
   ]
  },
  {
   "cell_type": "code",
   "execution_count": 32,
   "metadata": {},
   "outputs": [],
   "source": [
    "if model_type == \"vit\":\n",
    "    model = vit(\n",
    "        image_size=img_size,\n",
    "        patch_size=patch_size,\n",
    "        num_classes=num_classes,\n",
    "        dim=embed_size,\n",
    "        depth=encoder_depth,\n",
    "        heads=attention_heads,\n",
    "        mlp_dim=mlp_dim,\n",
    "        emb_dropout=0.1,\n",
    "        dropout=0.1,\n",
    "        channels=img_and_wpt_channels\n",
    "    )\n",
    "else:\n",
    "    raise ValueError(\n",
    "        \"You must set the model_type variable to any of: vit ,....\")"
   ]
  },
  {
   "cell_type": "code",
   "execution_count": 33,
   "metadata": {},
   "outputs": [
    {
     "name": "stdout",
     "output_type": "stream",
     "text": [
      "Input Shape:  torch.Size([512, 19, 32, 32])\n",
      "Output Shape:  torch.Size([512, 2])\n"
     ]
    },
    {
     "data": {
      "text/plain": [
       "==================================================================================================================================\n",
       "Layer (type (var_name))                            Input Shape          Output Shape         Param #              Trainable\n",
       "==================================================================================================================================\n",
       "vit (vit)                                          [512, 19, 32, 32]    [512, 2]             21,888               True\n",
       "├─Sequential (to_patch_embedding)                  [512, 19, 32, 32]    [512, 16, 1216]      --                   True\n",
       "│    └─Rearrange (0)                               [512, 19, 32, 32]    [512, 16, 1216]      --                   --\n",
       "│    └─Linear (1)                                  [512, 16, 1216]      [512, 16, 1216]      1,479,872            True\n",
       "├─Dropout (dropout)                                [512, 17, 1216]      [512, 17, 1216]      --                   --\n",
       "├─Transformer (transformer)                        [512, 17, 1216]      [512, 17, 1216]      --                   True\n",
       "│    └─ModuleList (layers)                         --                   --                   --                   True\n",
       "│    │    └─ModuleList (0)                         --                   --                   12,778,112           True\n",
       "│    │    └─ModuleList (1)                         --                   --                   12,778,112           True\n",
       "│    │    └─ModuleList (2)                         --                   --                   12,778,112           True\n",
       "│    │    └─ModuleList (3)                         --                   --                   12,778,112           True\n",
       "├─Identity (to_latent)                             [512, 1216]          [512, 1216]          --                   --\n",
       "├─Sequential (mlp_head)                            [512, 1216]          [512, 2]             --                   True\n",
       "│    └─LayerNorm (0)                               [512, 1216]          [512, 1216]          2,432                True\n",
       "│    └─Linear (1)                                  [512, 1216]          [512, 2]             2,434                True\n",
       "==================================================================================================================================\n",
       "Total params: 52,619,074\n",
       "Trainable params: 52,619,074\n",
       "Non-trainable params: 0\n",
       "Total mult-adds (Units.GIGABYTES): 26.93\n",
       "==================================================================================================================================\n",
       "Input size (MB): 39.85\n",
       "Forward/backward pass size (MB): 3578.54\n",
       "Params size (MB): 210.39\n",
       "Estimated Total Size (MB): 3828.77\n",
       "=================================================================================================================================="
      ]
     },
     "execution_count": 33,
     "metadata": {},
     "output_type": "execute_result"
    }
   ],
   "source": [
    "output = model(sample_nodes_batch)\n",
    "\n",
    "print(\"Input Shape: \", sample_nodes_batch.size())\n",
    "print(\"Output Shape: \", output.size())\n",
    "\n",
    "summary(model=model,\n",
    "        input_size=sample_nodes_batch.size(),\n",
    "        col_names=[\"input_size\", \"output_size\", \"num_params\", \"trainable\"],\n",
    "        col_width=20,\n",
    "        row_settings=[\"var_names\"])"
   ]
  },
  {
   "cell_type": "code",
   "execution_count": 34,
   "metadata": {},
   "outputs": [],
   "source": [
    "criterion = loss_algo()\n",
    "optimizer = optimize_algo(model.parameters(), **optimize_args)\n",
    "scheduler = schedule_algo(optimizer, **schedule_args)"
   ]
  },
  {
   "cell_type": "code",
   "execution_count": 35,
   "metadata": {},
   "outputs": [],
   "source": [
    "if start_from_model:\n",
    "    model.load_state_dict(checkpoint['model'])\n",
    "    optimizer.load_state_dict(checkpoint['optimizer'])\n",
    "\n",
    "    best_acc = checkpoint['best_acc']\n",
    "    tr_loss_lst = checkpoint['tr_loss_lst']\n",
    "    tr_acc_lst = checkpoint['tr_acc_lst']\n",
    "    val_loss_lst = checkpoint['val_loss_lst']\n",
    "    val_acc_lst = checkpoint['val_acc_lst']\n",
    "    optimizer_lst = checkpoint['optimizer_lst']\n",
    "    running_lr_lst = checkpoint['running_lr_lst']\n",
    "    training_phase_lst = checkpoint['training_phase_lst']\n",
    "    hyper_parameters_lst = checkpoint['hyper_parameters_lst']\n",
    "\n",
    "else:\n",
    "    best_acc = 0\n",
    "\n",
    "    tr_loss_lst = []\n",
    "    tr_acc_lst = []\n",
    "    val_loss_lst = []\n",
    "    val_acc_lst = []\n",
    "    optimizer_lst = []\n",
    "    running_lr_lst = []\n",
    "    training_phase_lst=[]\n",
    "    hyper_parameters_lst = []"
   ]
  },
  {
   "cell_type": "code",
   "execution_count": 36,
   "metadata": {},
   "outputs": [
    {
     "name": "stdout",
     "output_type": "stream",
     "text": [
      "\n",
      " epoch: 1/400\n"
     ]
    },
    {
     "name": "stderr",
     "output_type": "stream",
     "text": [
      "Train--Epoch [1/400]: 100%|██████████| 187/187 [01:20<00:00,  2.34it/s, acc=49.6, loss=1.37]\n",
      "Valid--Epoch [1/400]: 100%|██████████| 44/44 [00:08<00:00,  4.91it/s, acc=50, loss=1.84]  \n"
     ]
    },
    {
     "name": "stdout",
     "output_type": "stream",
     "text": [
      "Saving..\n",
      "\n",
      " epoch: 2/400\n"
     ]
    },
    {
     "name": "stderr",
     "output_type": "stream",
     "text": [
      "Train--Epoch [2/400]: 100%|██████████| 187/187 [01:22<00:00,  2.27it/s, acc=49.9, loss=1.18]\n",
      "Valid--Epoch [2/400]: 100%|██████████| 44/44 [00:09<00:00,  4.61it/s, acc=57.4, loss=0.733]\n"
     ]
    },
    {
     "name": "stdout",
     "output_type": "stream",
     "text": [
      "Saving..\n",
      "\n",
      " epoch: 3/400\n"
     ]
    },
    {
     "name": "stderr",
     "output_type": "stream",
     "text": [
      "Train--Epoch [3/400]: 100%|██████████| 187/187 [01:22<00:00,  2.26it/s, acc=50, loss=1.09]  \n",
      "Valid--Epoch [3/400]: 100%|██████████| 44/44 [00:09<00:00,  4.65it/s, acc=50, loss=1.62]  "
     ]
    },
    {
     "name": "stdout",
     "output_type": "stream",
     "text": [
      "\n",
      " epoch: 4/400\n"
     ]
    },
    {
     "name": "stderr",
     "output_type": "stream",
     "text": [
      "\n",
      "Train--Epoch [4/400]: 100%|██████████| 187/187 [01:23<00:00,  2.25it/s, acc=50.1, loss=1]   \n",
      "Valid--Epoch [4/400]: 100%|██████████| 44/44 [00:09<00:00,  4.50it/s, acc=59, loss=0.687]  \n"
     ]
    },
    {
     "name": "stdout",
     "output_type": "stream",
     "text": [
      "Saving..\n",
      "\n",
      " epoch: 5/400\n"
     ]
    },
    {
     "name": "stderr",
     "output_type": "stream",
     "text": [
      "Train--Epoch [5/400]: 100%|██████████| 187/187 [01:23<00:00,  2.24it/s, acc=50.2, loss=0.912]\n",
      "Valid--Epoch [5/400]: 100%|██████████| 44/44 [00:09<00:00,  4.42it/s, acc=50, loss=1.24]  "
     ]
    },
    {
     "name": "stdout",
     "output_type": "stream",
     "text": [
      "\n",
      " epoch: 6/400\n"
     ]
    },
    {
     "name": "stderr",
     "output_type": "stream",
     "text": [
      "\n",
      "Train--Epoch [6/400]: 100%|██████████| 187/187 [01:23<00:00,  2.23it/s, acc=50.3, loss=0.821]\n",
      "Valid--Epoch [6/400]: 100%|██████████| 44/44 [00:10<00:00,  4.37it/s, acc=58.8, loss=0.684]"
     ]
    },
    {
     "name": "stdout",
     "output_type": "stream",
     "text": [
      "\n",
      " epoch: 7/400\n"
     ]
    },
    {
     "name": "stderr",
     "output_type": "stream",
     "text": [
      "\n",
      "Train--Epoch [7/400]: 100%|██████████| 187/187 [01:23<00:00,  2.25it/s, acc=53.5, loss=0.712]\n",
      "Valid--Epoch [7/400]: 100%|██████████| 44/44 [00:08<00:00,  4.95it/s, acc=49.5, loss=0.816]"
     ]
    },
    {
     "name": "stdout",
     "output_type": "stream",
     "text": [
      "\n",
      " epoch: 8/400\n"
     ]
    },
    {
     "name": "stderr",
     "output_type": "stream",
     "text": [
      "\n",
      "Train--Epoch [8/400]: 100%|██████████| 187/187 [01:23<00:00,  2.24it/s, acc=51.9, loss=0.728]\n",
      "Valid--Epoch [8/400]: 100%|██████████| 44/44 [00:08<00:00,  5.03it/s, acc=49.8, loss=0.911]"
     ]
    },
    {
     "name": "stdout",
     "output_type": "stream",
     "text": [
      "\n",
      " epoch: 9/400\n"
     ]
    },
    {
     "name": "stderr",
     "output_type": "stream",
     "text": [
      "\n",
      "Train--Epoch [9/400]: 100%|██████████| 187/187 [01:22<00:00,  2.26it/s, acc=54.4, loss=0.692]\n",
      "Valid--Epoch [9/400]: 100%|██████████| 44/44 [00:08<00:00,  5.03it/s, acc=49.9, loss=0.767]"
     ]
    },
    {
     "name": "stdout",
     "output_type": "stream",
     "text": [
      "\n",
      " epoch: 10/400\n"
     ]
    },
    {
     "name": "stderr",
     "output_type": "stream",
     "text": [
      "\n",
      "Train--Epoch [10/400]: 100%|██████████| 187/187 [01:23<00:00,  2.25it/s, acc=53.8, loss=0.698]\n",
      "Valid--Epoch [10/400]: 100%|██████████| 44/44 [00:09<00:00,  4.59it/s, acc=54.1, loss=0.702]"
     ]
    },
    {
     "name": "stdout",
     "output_type": "stream",
     "text": [
      "\n",
      " epoch: 11/400\n"
     ]
    },
    {
     "name": "stderr",
     "output_type": "stream",
     "text": [
      "\n",
      "Train--Epoch [11/400]: 100%|██████████| 187/187 [01:22<00:00,  2.25it/s, acc=54.3, loss=0.694]\n",
      "Valid--Epoch [11/400]: 100%|██████████| 44/44 [00:08<00:00,  5.14it/s, acc=49.6, loss=0.834]"
     ]
    },
    {
     "name": "stdout",
     "output_type": "stream",
     "text": [
      "\n",
      " epoch: 12/400\n"
     ]
    },
    {
     "name": "stderr",
     "output_type": "stream",
     "text": [
      "\n",
      "Train--Epoch [12/400]: 100%|██████████| 187/187 [01:23<00:00,  2.24it/s, acc=53.2, loss=0.699]\n",
      "Valid--Epoch [12/400]: 100%|██████████| 44/44 [00:09<00:00,  4.84it/s, acc=49.8, loss=0.919]"
     ]
    },
    {
     "name": "stdout",
     "output_type": "stream",
     "text": [
      "\n",
      " epoch: 13/400\n"
     ]
    },
    {
     "name": "stderr",
     "output_type": "stream",
     "text": [
      "\n",
      "Train--Epoch [13/400]: 100%|██████████| 187/187 [01:23<00:00,  2.25it/s, acc=54.3, loss=0.691]\n",
      "Valid--Epoch [13/400]: 100%|██████████| 44/44 [00:08<00:00,  5.01it/s, acc=51.9, loss=0.74] "
     ]
    },
    {
     "name": "stdout",
     "output_type": "stream",
     "text": [
      "\n",
      " epoch: 14/400\n"
     ]
    },
    {
     "name": "stderr",
     "output_type": "stream",
     "text": [
      "\n",
      "Train--Epoch [14/400]: 100%|██████████| 187/187 [01:23<00:00,  2.25it/s, acc=54.7, loss=0.689]\n",
      "Valid--Epoch [14/400]: 100%|██████████| 44/44 [00:08<00:00,  4.93it/s, acc=51.8, loss=0.743]"
     ]
    },
    {
     "name": "stdout",
     "output_type": "stream",
     "text": [
      "\n",
      " epoch: 15/400\n"
     ]
    },
    {
     "name": "stderr",
     "output_type": "stream",
     "text": [
      "\n",
      "Train--Epoch [15/400]: 100%|██████████| 187/187 [01:23<00:00,  2.24it/s, acc=54.5, loss=0.69] \n",
      "Valid--Epoch [15/400]: 100%|██████████| 44/44 [00:08<00:00,  5.05it/s, acc=49.8, loss=0.81] "
     ]
    },
    {
     "name": "stdout",
     "output_type": "stream",
     "text": [
      "\n",
      " epoch: 16/400\n"
     ]
    },
    {
     "name": "stderr",
     "output_type": "stream",
     "text": [
      "\n",
      "Train--Epoch [16/400]: 100%|██████████| 187/187 [01:24<00:00,  2.22it/s, acc=54.8, loss=0.687]\n",
      "Valid--Epoch [16/400]: 100%|██████████| 44/44 [00:09<00:00,  4.72it/s, acc=54.7, loss=0.707]"
     ]
    },
    {
     "name": "stdout",
     "output_type": "stream",
     "text": [
      "\n",
      " epoch: 17/400\n"
     ]
    },
    {
     "name": "stderr",
     "output_type": "stream",
     "text": [
      "\n",
      "Train--Epoch [17/400]: 100%|██████████| 187/187 [01:28<00:00,  2.12it/s, acc=54.8, loss=0.689]\n",
      "Valid--Epoch [17/400]: 100%|██████████| 44/44 [00:09<00:00,  4.74it/s, acc=53.1, loss=0.724]"
     ]
    },
    {
     "name": "stdout",
     "output_type": "stream",
     "text": [
      "\n",
      " epoch: 18/400\n"
     ]
    },
    {
     "name": "stderr",
     "output_type": "stream",
     "text": [
      "\n",
      "Train--Epoch [18/400]: 100%|██████████| 187/187 [01:28<00:00,  2.12it/s, acc=54.5, loss=0.688]\n",
      "Valid--Epoch [18/400]: 100%|██████████| 44/44 [00:09<00:00,  4.78it/s, acc=49.8, loss=0.918]"
     ]
    },
    {
     "name": "stdout",
     "output_type": "stream",
     "text": [
      "\n",
      " epoch: 19/400\n"
     ]
    },
    {
     "name": "stderr",
     "output_type": "stream",
     "text": [
      "\n",
      "Train--Epoch [19/400]: 100%|██████████| 187/187 [01:27<00:00,  2.13it/s, acc=54.6, loss=0.689]\n",
      "Valid--Epoch [19/400]: 100%|██████████| 44/44 [00:09<00:00,  4.75it/s, acc=50.8, loss=0.798]"
     ]
    },
    {
     "name": "stdout",
     "output_type": "stream",
     "text": [
      "\n",
      " epoch: 20/400\n"
     ]
    },
    {
     "name": "stderr",
     "output_type": "stream",
     "text": [
      "\n",
      "Train--Epoch [20/400]: 100%|██████████| 187/187 [01:27<00:00,  2.13it/s, acc=55.1, loss=0.685]\n",
      "Valid--Epoch [20/400]: 100%|██████████| 44/44 [00:09<00:00,  4.75it/s, acc=50.5, loss=0.812]"
     ]
    },
    {
     "name": "stdout",
     "output_type": "stream",
     "text": [
      "\n",
      " epoch: 21/400\n"
     ]
    },
    {
     "name": "stderr",
     "output_type": "stream",
     "text": [
      "\n",
      "Train--Epoch [21/400]: 100%|██████████| 187/187 [01:27<00:00,  2.13it/s, acc=54.9, loss=0.686]\n",
      "Valid--Epoch [21/400]: 100%|██████████| 44/44 [00:09<00:00,  4.66it/s, acc=51.9, loss=0.759]"
     ]
    },
    {
     "name": "stdout",
     "output_type": "stream",
     "text": [
      "\n",
      " epoch: 22/400\n"
     ]
    },
    {
     "name": "stderr",
     "output_type": "stream",
     "text": [
      "\n",
      "Train--Epoch [22/400]: 100%|██████████| 187/187 [01:27<00:00,  2.13it/s, acc=55.3, loss=0.685]\n",
      "Valid--Epoch [22/400]: 100%|██████████| 44/44 [00:09<00:00,  4.48it/s, acc=50.1, loss=0.859]"
     ]
    },
    {
     "name": "stdout",
     "output_type": "stream",
     "text": [
      "\n",
      " epoch: 23/400\n"
     ]
    },
    {
     "name": "stderr",
     "output_type": "stream",
     "text": [
      "\n",
      "Train--Epoch [23/400]: 100%|██████████| 187/187 [01:27<00:00,  2.13it/s, acc=54.6, loss=0.688]\n",
      "Valid--Epoch [23/400]: 100%|██████████| 44/44 [00:09<00:00,  4.84it/s, acc=50.7, loss=0.827]"
     ]
    },
    {
     "name": "stdout",
     "output_type": "stream",
     "text": [
      "\n",
      " epoch: 24/400\n"
     ]
    },
    {
     "name": "stderr",
     "output_type": "stream",
     "text": [
      "\n",
      "Train--Epoch [24/400]: 100%|██████████| 187/187 [01:27<00:00,  2.13it/s, acc=54.8, loss=0.686]\n",
      "Valid--Epoch [24/400]: 100%|██████████| 44/44 [00:09<00:00,  4.88it/s, acc=51.3, loss=0.807]"
     ]
    },
    {
     "name": "stdout",
     "output_type": "stream",
     "text": [
      "\n",
      " epoch: 25/400\n"
     ]
    },
    {
     "name": "stderr",
     "output_type": "stream",
     "text": [
      "\n",
      "Train--Epoch [25/400]: 100%|██████████| 187/187 [01:27<00:00,  2.13it/s, acc=55.1, loss=0.685]\n",
      "Valid--Epoch [25/400]: 100%|██████████| 44/44 [00:09<00:00,  4.78it/s, acc=49.9, loss=0.898]"
     ]
    },
    {
     "name": "stdout",
     "output_type": "stream",
     "text": [
      "\n",
      " epoch: 26/400\n"
     ]
    },
    {
     "name": "stderr",
     "output_type": "stream",
     "text": [
      "\n",
      "Train--Epoch [26/400]: 100%|██████████| 187/187 [01:27<00:00,  2.14it/s, acc=54.9, loss=0.686]\n",
      "Valid--Epoch [26/400]: 100%|██████████| 44/44 [00:09<00:00,  4.79it/s, acc=52.2, loss=0.783]"
     ]
    },
    {
     "name": "stdout",
     "output_type": "stream",
     "text": [
      "\n",
      " epoch: 27/400\n"
     ]
    },
    {
     "name": "stderr",
     "output_type": "stream",
     "text": [
      "\n",
      "Train--Epoch [27/400]: 100%|██████████| 187/187 [01:27<00:00,  2.13it/s, acc=55, loss=0.685]  \n",
      "Valid--Epoch [27/400]: 100%|██████████| 44/44 [00:09<00:00,  4.70it/s, acc=52.6, loss=0.76] "
     ]
    },
    {
     "name": "stdout",
     "output_type": "stream",
     "text": [
      "\n",
      " epoch: 28/400\n"
     ]
    },
    {
     "name": "stderr",
     "output_type": "stream",
     "text": [
      "\n",
      "Train--Epoch [28/400]: 100%|██████████| 187/187 [01:28<00:00,  2.12it/s, acc=55, loss=0.683]  \n",
      "Valid--Epoch [28/400]: 100%|██████████| 44/44 [00:09<00:00,  4.63it/s, acc=52.5, loss=0.773]"
     ]
    },
    {
     "name": "stdout",
     "output_type": "stream",
     "text": [
      "\n",
      " epoch: 29/400\n"
     ]
    },
    {
     "name": "stderr",
     "output_type": "stream",
     "text": [
      "\n",
      "Train--Epoch [29/400]: 100%|██████████| 187/187 [01:27<00:00,  2.13it/s, acc=55.3, loss=0.684]\n",
      "Valid--Epoch [29/400]: 100%|██████████| 44/44 [00:09<00:00,  4.85it/s, acc=53.3, loss=0.766]"
     ]
    },
    {
     "name": "stdout",
     "output_type": "stream",
     "text": [
      "\n",
      " epoch: 30/400\n"
     ]
    },
    {
     "name": "stderr",
     "output_type": "stream",
     "text": [
      "\n",
      "Train--Epoch [30/400]: 100%|██████████| 187/187 [01:27<00:00,  2.13it/s, acc=55.3, loss=0.683]\n",
      "Valid--Epoch [30/400]: 100%|██████████| 44/44 [00:08<00:00,  5.01it/s, acc=51.9, loss=0.835]"
     ]
    },
    {
     "name": "stdout",
     "output_type": "stream",
     "text": [
      "\n",
      " epoch: 31/400\n"
     ]
    },
    {
     "name": "stderr",
     "output_type": "stream",
     "text": [
      "\n",
      "Train--Epoch [31/400]: 100%|██████████| 187/187 [01:27<00:00,  2.13it/s, acc=55.2, loss=0.683]\n",
      "Valid--Epoch [31/400]: 100%|██████████| 44/44 [00:09<00:00,  4.89it/s, acc=51.3, loss=0.873]"
     ]
    },
    {
     "name": "stdout",
     "output_type": "stream",
     "text": [
      "\n",
      " epoch: 32/400\n"
     ]
    },
    {
     "name": "stderr",
     "output_type": "stream",
     "text": [
      "\n",
      "Train--Epoch [32/400]: 100%|██████████| 187/187 [01:27<00:00,  2.14it/s, acc=55.1, loss=0.684]\n",
      "Valid--Epoch [32/400]: 100%|██████████| 44/44 [00:09<00:00,  4.80it/s, acc=52.1, loss=0.83] "
     ]
    },
    {
     "name": "stdout",
     "output_type": "stream",
     "text": [
      "\n",
      " epoch: 33/400\n"
     ]
    },
    {
     "name": "stderr",
     "output_type": "stream",
     "text": [
      "\n",
      "Train--Epoch [33/400]: 100%|██████████| 187/187 [01:27<00:00,  2.13it/s, acc=55.3, loss=0.682]\n",
      "Valid--Epoch [33/400]: 100%|██████████| 44/44 [00:09<00:00,  4.72it/s, acc=51.6, loss=0.86] "
     ]
    },
    {
     "name": "stdout",
     "output_type": "stream",
     "text": [
      "\n",
      " epoch: 34/400\n"
     ]
    },
    {
     "name": "stderr",
     "output_type": "stream",
     "text": [
      "\n",
      "Train--Epoch [34/400]: 100%|██████████| 187/187 [01:27<00:00,  2.13it/s, acc=55.2, loss=0.682]\n",
      "Valid--Epoch [34/400]: 100%|██████████| 44/44 [00:09<00:00,  4.71it/s, acc=51.9, loss=0.881]"
     ]
    },
    {
     "name": "stdout",
     "output_type": "stream",
     "text": [
      "\n",
      " epoch: 35/400\n"
     ]
    },
    {
     "name": "stderr",
     "output_type": "stream",
     "text": [
      "\n",
      "Train--Epoch [35/400]: 100%|██████████| 187/187 [01:27<00:00,  2.13it/s, acc=55.4, loss=0.681]\n",
      "Valid--Epoch [35/400]: 100%|██████████| 44/44 [00:09<00:00,  4.80it/s, acc=54.4, loss=0.802]"
     ]
    },
    {
     "name": "stdout",
     "output_type": "stream",
     "text": [
      "\n",
      " epoch: 36/400\n"
     ]
    },
    {
     "name": "stderr",
     "output_type": "stream",
     "text": [
      "\n",
      "Train--Epoch [36/400]: 100%|██████████| 187/187 [01:27<00:00,  2.13it/s, acc=55.2, loss=0.682]\n",
      "Valid--Epoch [36/400]: 100%|██████████| 44/44 [00:09<00:00,  4.69it/s, acc=52.6, loss=0.856]"
     ]
    },
    {
     "name": "stdout",
     "output_type": "stream",
     "text": [
      "\n",
      " epoch: 37/400\n"
     ]
    },
    {
     "name": "stderr",
     "output_type": "stream",
     "text": [
      "\n",
      "Train--Epoch [37/400]: 100%|██████████| 187/187 [01:27<00:00,  2.13it/s, acc=55.3, loss=0.681]\n",
      "Valid--Epoch [37/400]: 100%|██████████| 44/44 [00:09<00:00,  4.86it/s, acc=54.2, loss=0.81] "
     ]
    },
    {
     "name": "stdout",
     "output_type": "stream",
     "text": [
      "\n",
      " epoch: 38/400\n"
     ]
    },
    {
     "name": "stderr",
     "output_type": "stream",
     "text": [
      "\n",
      "Train--Epoch [38/400]: 100%|██████████| 187/187 [01:27<00:00,  2.13it/s, acc=55.5, loss=0.681]\n",
      "Valid--Epoch [38/400]: 100%|██████████| 44/44 [00:08<00:00,  4.91it/s, acc=52.4, loss=0.868]"
     ]
    },
    {
     "name": "stdout",
     "output_type": "stream",
     "text": [
      "\n",
      " epoch: 39/400\n"
     ]
    },
    {
     "name": "stderr",
     "output_type": "stream",
     "text": [
      "\n",
      "Train--Epoch [39/400]: 100%|██████████| 187/187 [01:27<00:00,  2.15it/s, acc=55.4, loss=0.68] \n",
      "Valid--Epoch [39/400]: 100%|██████████| 44/44 [00:09<00:00,  4.76it/s, acc=52.2, loss=0.877]"
     ]
    },
    {
     "name": "stdout",
     "output_type": "stream",
     "text": [
      "\n",
      " epoch: 40/400\n"
     ]
    },
    {
     "name": "stderr",
     "output_type": "stream",
     "text": [
      "\n",
      "Train--Epoch [40/400]: 100%|██████████| 187/187 [01:26<00:00,  2.16it/s, acc=55.3, loss=0.68]\n",
      "Valid--Epoch [40/400]: 100%|██████████| 44/44 [00:09<00:00,  4.67it/s, acc=52.4, loss=0.89] "
     ]
    },
    {
     "name": "stdout",
     "output_type": "stream",
     "text": [
      "\n",
      " epoch: 41/400\n"
     ]
    },
    {
     "name": "stderr",
     "output_type": "stream",
     "text": [
      "\n",
      "Train--Epoch [41/400]: 100%|██████████| 187/187 [01:25<00:00,  2.18it/s, acc=55.7, loss=0.679]\n",
      "Valid--Epoch [41/400]: 100%|██████████| 44/44 [00:09<00:00,  4.78it/s, acc=52.6, loss=0.896]"
     ]
    },
    {
     "name": "stdout",
     "output_type": "stream",
     "text": [
      "\n",
      " epoch: 42/400\n"
     ]
    },
    {
     "name": "stderr",
     "output_type": "stream",
     "text": [
      "\n",
      "Train--Epoch [42/400]: 100%|██████████| 187/187 [01:26<00:00,  2.17it/s, acc=55.6, loss=0.679]\n",
      "Valid--Epoch [42/400]: 100%|██████████| 44/44 [00:09<00:00,  4.62it/s, acc=52.7, loss=0.878]"
     ]
    },
    {
     "name": "stdout",
     "output_type": "stream",
     "text": [
      "\n",
      " epoch: 43/400\n"
     ]
    },
    {
     "name": "stderr",
     "output_type": "stream",
     "text": [
      "\n",
      "Train--Epoch [43/400]: 100%|██████████| 187/187 [01:28<00:00,  2.12it/s, acc=55.5, loss=0.68] \n",
      "Valid--Epoch [43/400]: 100%|██████████| 44/44 [00:09<00:00,  4.57it/s, acc=52.9, loss=0.871]"
     ]
    },
    {
     "name": "stdout",
     "output_type": "stream",
     "text": [
      "\n",
      " epoch: 44/400\n"
     ]
    },
    {
     "name": "stderr",
     "output_type": "stream",
     "text": [
      "\n",
      "Train--Epoch [44/400]: 100%|██████████| 187/187 [01:25<00:00,  2.19it/s, acc=55.7, loss=0.679]\n",
      "Valid--Epoch [44/400]: 100%|██████████| 44/44 [00:09<00:00,  4.67it/s, acc=52.7, loss=0.89] "
     ]
    },
    {
     "name": "stdout",
     "output_type": "stream",
     "text": [
      "\n",
      " epoch: 45/400\n"
     ]
    },
    {
     "name": "stderr",
     "output_type": "stream",
     "text": [
      "\n",
      "Train--Epoch [45/400]: 100%|██████████| 187/187 [01:30<00:00,  2.06it/s, acc=55.6, loss=0.678]\n",
      "Valid--Epoch [45/400]: 100%|██████████| 44/44 [00:09<00:00,  4.43it/s, acc=53.2, loss=0.879]"
     ]
    },
    {
     "name": "stdout",
     "output_type": "stream",
     "text": [
      "\n",
      " epoch: 46/400\n"
     ]
    },
    {
     "name": "stderr",
     "output_type": "stream",
     "text": [
      "\n",
      "Train--Epoch [46/400]: 100%|██████████| 187/187 [01:29<00:00,  2.09it/s, acc=55.6, loss=0.678]\n",
      "Valid--Epoch [46/400]: 100%|██████████| 44/44 [00:09<00:00,  4.75it/s, acc=52.9, loss=0.888]"
     ]
    },
    {
     "name": "stdout",
     "output_type": "stream",
     "text": [
      "\n",
      " epoch: 47/400\n"
     ]
    },
    {
     "name": "stderr",
     "output_type": "stream",
     "text": [
      "\n",
      "Train--Epoch [47/400]: 100%|██████████| 187/187 [01:26<00:00,  2.17it/s, acc=55.7, loss=0.678]\n",
      "Valid--Epoch [47/400]: 100%|██████████| 44/44 [00:09<00:00,  4.42it/s, acc=52.1, loss=0.965]"
     ]
    },
    {
     "name": "stdout",
     "output_type": "stream",
     "text": [
      "\n",
      " epoch: 48/400\n"
     ]
    },
    {
     "name": "stderr",
     "output_type": "stream",
     "text": [
      "\n",
      "Train--Epoch [48/400]: 100%|██████████| 187/187 [01:29<00:00,  2.09it/s, acc=55.8, loss=0.677]\n",
      "Valid--Epoch [48/400]: 100%|██████████| 44/44 [00:09<00:00,  4.40it/s, acc=52, loss=0.986]  "
     ]
    },
    {
     "name": "stdout",
     "output_type": "stream",
     "text": [
      "\n",
      " epoch: 49/400\n"
     ]
    },
    {
     "name": "stderr",
     "output_type": "stream",
     "text": [
      "\n",
      "Train--Epoch [49/400]: 100%|██████████| 187/187 [01:29<00:00,  2.08it/s, acc=55.8, loss=0.678]\n",
      "Valid--Epoch [49/400]: 100%|██████████| 44/44 [00:09<00:00,  4.48it/s, acc=51.9, loss=0.974]"
     ]
    },
    {
     "name": "stdout",
     "output_type": "stream",
     "text": [
      "\n",
      " epoch: 50/400\n"
     ]
    },
    {
     "name": "stderr",
     "output_type": "stream",
     "text": [
      "\n",
      "Train--Epoch [50/400]: 100%|██████████| 187/187 [01:25<00:00,  2.20it/s, acc=55.6, loss=0.678]\n",
      "Valid--Epoch [50/400]: 100%|██████████| 44/44 [00:08<00:00,  5.09it/s, acc=52.5, loss=0.921]"
     ]
    },
    {
     "name": "stdout",
     "output_type": "stream",
     "text": [
      "\n",
      " epoch: 51/400\n"
     ]
    },
    {
     "name": "stderr",
     "output_type": "stream",
     "text": [
      "\n",
      "Train--Epoch [51/400]: 100%|██████████| 187/187 [01:28<00:00,  2.12it/s, acc=55.8, loss=0.678]\n",
      "Valid--Epoch [51/400]: 100%|██████████| 44/44 [00:09<00:00,  4.67it/s, acc=52.8, loss=0.889]"
     ]
    },
    {
     "name": "stdout",
     "output_type": "stream",
     "text": [
      "\n",
      " epoch: 52/400\n"
     ]
    },
    {
     "name": "stderr",
     "output_type": "stream",
     "text": [
      "\n",
      "Train--Epoch [52/400]: 100%|██████████| 187/187 [01:29<00:00,  2.10it/s, acc=56, loss=0.676]  \n",
      "Valid--Epoch [52/400]: 100%|██████████| 44/44 [00:09<00:00,  4.48it/s, acc=53.5, loss=0.874]"
     ]
    },
    {
     "name": "stdout",
     "output_type": "stream",
     "text": [
      "\n",
      " epoch: 53/400\n"
     ]
    },
    {
     "name": "stderr",
     "output_type": "stream",
     "text": [
      "\n",
      "Train--Epoch [53/400]: 100%|██████████| 187/187 [01:28<00:00,  2.11it/s, acc=56.1, loss=0.676]\n",
      "Valid--Epoch [53/400]: 100%|██████████| 44/44 [00:10<00:00,  4.35it/s, acc=53.3, loss=0.898]"
     ]
    },
    {
     "name": "stdout",
     "output_type": "stream",
     "text": [
      "\n",
      " epoch: 54/400\n"
     ]
    },
    {
     "name": "stderr",
     "output_type": "stream",
     "text": [
      "\n",
      "Train--Epoch [54/400]: 100%|██████████| 187/187 [01:28<00:00,  2.11it/s, acc=56.1, loss=0.675]\n",
      "Valid--Epoch [54/400]: 100%|██████████| 44/44 [00:09<00:00,  4.72it/s, acc=52.4, loss=0.969]"
     ]
    },
    {
     "name": "stdout",
     "output_type": "stream",
     "text": [
      "\n",
      " epoch: 55/400\n"
     ]
    },
    {
     "name": "stderr",
     "output_type": "stream",
     "text": [
      "\n",
      "Train--Epoch [55/400]: 100%|██████████| 187/187 [01:27<00:00,  2.13it/s, acc=56.1, loss=0.675]\n",
      "Valid--Epoch [55/400]: 100%|██████████| 44/44 [00:09<00:00,  4.63it/s, acc=53.1, loss=0.898]"
     ]
    },
    {
     "name": "stdout",
     "output_type": "stream",
     "text": [
      "\n",
      " epoch: 56/400\n"
     ]
    },
    {
     "name": "stderr",
     "output_type": "stream",
     "text": [
      "\n",
      "Train--Epoch [56/400]: 100%|██████████| 187/187 [01:29<00:00,  2.08it/s, acc=56.1, loss=0.675]\n",
      "Valid--Epoch [56/400]: 100%|██████████| 44/44 [00:09<00:00,  4.62it/s, acc=51.7, loss=1]    "
     ]
    },
    {
     "name": "stdout",
     "output_type": "stream",
     "text": [
      "\n",
      " epoch: 57/400\n"
     ]
    },
    {
     "name": "stderr",
     "output_type": "stream",
     "text": [
      "\n",
      "Train--Epoch [57/400]: 100%|██████████| 187/187 [01:27<00:00,  2.14it/s, acc=56.1, loss=0.674]\n",
      "Valid--Epoch [57/400]: 100%|██████████| 44/44 [00:09<00:00,  4.63it/s, acc=51.6, loss=1.04]"
     ]
    },
    {
     "name": "stdout",
     "output_type": "stream",
     "text": [
      "\n",
      " epoch: 58/400\n"
     ]
    },
    {
     "name": "stderr",
     "output_type": "stream",
     "text": [
      "\n",
      "Train--Epoch [58/400]: 100%|██████████| 187/187 [01:28<00:00,  2.12it/s, acc=56.4, loss=0.674]\n",
      "Valid--Epoch [58/400]: 100%|██████████| 44/44 [00:09<00:00,  4.64it/s, acc=52.1, loss=0.963]"
     ]
    },
    {
     "name": "stdout",
     "output_type": "stream",
     "text": [
      "\n",
      " epoch: 59/400\n"
     ]
    },
    {
     "name": "stderr",
     "output_type": "stream",
     "text": [
      "\n",
      "Train--Epoch [59/400]: 100%|██████████| 187/187 [01:26<00:00,  2.16it/s, acc=56.3, loss=0.674]\n",
      "Valid--Epoch [59/400]: 100%|██████████| 44/44 [00:09<00:00,  4.76it/s, acc=53.1, loss=0.896]"
     ]
    },
    {
     "name": "stdout",
     "output_type": "stream",
     "text": [
      "\n",
      " epoch: 60/400\n"
     ]
    },
    {
     "name": "stderr",
     "output_type": "stream",
     "text": [
      "\n",
      "Train--Epoch [60/400]: 100%|██████████| 187/187 [01:28<00:00,  2.12it/s, acc=56.6, loss=0.672]\n",
      "Valid--Epoch [60/400]: 100%|██████████| 44/44 [00:09<00:00,  4.51it/s, acc=51.9, loss=1]    "
     ]
    },
    {
     "name": "stdout",
     "output_type": "stream",
     "text": [
      "\n",
      " epoch: 61/400\n"
     ]
    },
    {
     "name": "stderr",
     "output_type": "stream",
     "text": [
      "\n",
      "Train--Epoch [61/400]: 100%|██████████| 187/187 [01:27<00:00,  2.13it/s, acc=56.6, loss=0.672]\n",
      "Valid--Epoch [61/400]: 100%|██████████| 44/44 [00:09<00:00,  4.58it/s, acc=52.3, loss=0.945]"
     ]
    },
    {
     "name": "stdout",
     "output_type": "stream",
     "text": [
      "\n",
      " epoch: 62/400\n"
     ]
    },
    {
     "name": "stderr",
     "output_type": "stream",
     "text": [
      "\n",
      "Train--Epoch [62/400]: 100%|██████████| 187/187 [01:26<00:00,  2.16it/s, acc=56.3, loss=0.673]\n",
      "Valid--Epoch [62/400]: 100%|██████████| 44/44 [00:09<00:00,  4.72it/s, acc=51.8, loss=0.987]"
     ]
    },
    {
     "name": "stdout",
     "output_type": "stream",
     "text": [
      "\n",
      " epoch: 63/400\n"
     ]
    },
    {
     "name": "stderr",
     "output_type": "stream",
     "text": [
      "\n",
      "Train--Epoch [63/400]: 100%|██████████| 187/187 [01:26<00:00,  2.16it/s, acc=56.7, loss=0.672]\n",
      "Valid--Epoch [63/400]: 100%|██████████| 44/44 [00:09<00:00,  4.68it/s, acc=51.5, loss=1.01]"
     ]
    },
    {
     "name": "stdout",
     "output_type": "stream",
     "text": [
      "\n",
      " epoch: 64/400\n"
     ]
    },
    {
     "name": "stderr",
     "output_type": "stream",
     "text": [
      "\n",
      "Train--Epoch [64/400]: 100%|██████████| 187/187 [01:27<00:00,  2.13it/s, acc=56.9, loss=0.671]\n",
      "Valid--Epoch [64/400]: 100%|██████████| 44/44 [00:09<00:00,  4.77it/s, acc=52.2, loss=0.937]"
     ]
    },
    {
     "name": "stdout",
     "output_type": "stream",
     "text": [
      "\n",
      " epoch: 65/400\n"
     ]
    },
    {
     "name": "stderr",
     "output_type": "stream",
     "text": [
      "\n",
      "Train--Epoch [65/400]: 100%|██████████| 187/187 [01:28<00:00,  2.12it/s, acc=57, loss=0.672]  \n",
      "Valid--Epoch [65/400]: 100%|██████████| 44/44 [00:09<00:00,  4.57it/s, acc=52.1, loss=0.952]"
     ]
    },
    {
     "name": "stdout",
     "output_type": "stream",
     "text": [
      "\n",
      " epoch: 66/400\n"
     ]
    },
    {
     "name": "stderr",
     "output_type": "stream",
     "text": [
      "\n",
      "Train--Epoch [66/400]: 100%|██████████| 187/187 [01:28<00:00,  2.12it/s, acc=57.1, loss=0.67] \n",
      "Valid--Epoch [66/400]: 100%|██████████| 44/44 [00:09<00:00,  4.71it/s, acc=52, loss=0.979]  "
     ]
    },
    {
     "name": "stdout",
     "output_type": "stream",
     "text": [
      "\n",
      " epoch: 67/400\n"
     ]
    },
    {
     "name": "stderr",
     "output_type": "stream",
     "text": [
      "\n",
      "Train--Epoch [67/400]: 100%|██████████| 187/187 [01:27<00:00,  2.13it/s, acc=57.3, loss=0.669]\n",
      "Valid--Epoch [67/400]: 100%|██████████| 44/44 [00:09<00:00,  4.71it/s, acc=51.6, loss=1.02]"
     ]
    },
    {
     "name": "stdout",
     "output_type": "stream",
     "text": [
      "\n",
      " epoch: 68/400\n"
     ]
    },
    {
     "name": "stderr",
     "output_type": "stream",
     "text": [
      "\n",
      "Train--Epoch [68/400]: 100%|██████████| 187/187 [01:28<00:00,  2.12it/s, acc=57.3, loss=0.669]\n",
      "Valid--Epoch [68/400]: 100%|██████████| 44/44 [00:09<00:00,  4.71it/s, acc=52.1, loss=0.967]"
     ]
    },
    {
     "name": "stdout",
     "output_type": "stream",
     "text": [
      "\n",
      " epoch: 69/400\n"
     ]
    },
    {
     "name": "stderr",
     "output_type": "stream",
     "text": [
      "\n",
      "Train--Epoch [69/400]: 100%|██████████| 187/187 [01:27<00:00,  2.13it/s, acc=57.2, loss=0.669]\n",
      "Valid--Epoch [69/400]: 100%|██████████| 44/44 [00:09<00:00,  4.54it/s, acc=52.5, loss=0.898]"
     ]
    },
    {
     "name": "stdout",
     "output_type": "stream",
     "text": [
      "\n",
      " epoch: 70/400\n"
     ]
    },
    {
     "name": "stderr",
     "output_type": "stream",
     "text": [
      "\n",
      "Train--Epoch [70/400]: 100%|██████████| 187/187 [01:27<00:00,  2.14it/s, acc=57.4, loss=0.668]\n",
      "Valid--Epoch [70/400]: 100%|██████████| 44/44 [00:09<00:00,  4.83it/s, acc=51.9, loss=1.03]"
     ]
    },
    {
     "name": "stdout",
     "output_type": "stream",
     "text": [
      "\n",
      " epoch: 71/400\n"
     ]
    },
    {
     "name": "stderr",
     "output_type": "stream",
     "text": [
      "\n",
      "Train--Epoch [71/400]: 100%|██████████| 187/187 [01:27<00:00,  2.14it/s, acc=57.5, loss=0.668]\n",
      "Valid--Epoch [71/400]: 100%|██████████| 44/44 [00:09<00:00,  4.83it/s, acc=52, loss=0.949]  "
     ]
    },
    {
     "name": "stdout",
     "output_type": "stream",
     "text": [
      "\n",
      " epoch: 72/400\n"
     ]
    },
    {
     "name": "stderr",
     "output_type": "stream",
     "text": [
      "\n",
      "Train--Epoch [72/400]: 100%|██████████| 187/187 [01:27<00:00,  2.13it/s, acc=57.4, loss=0.666]\n",
      "Valid--Epoch [72/400]: 100%|██████████| 44/44 [00:09<00:00,  4.77it/s, acc=51.5, loss=1.01]"
     ]
    },
    {
     "name": "stdout",
     "output_type": "stream",
     "text": [
      "\n",
      " epoch: 73/400\n"
     ]
    },
    {
     "name": "stderr",
     "output_type": "stream",
     "text": [
      "\n",
      "Train--Epoch [73/400]: 100%|██████████| 187/187 [01:27<00:00,  2.14it/s, acc=57.6, loss=0.666]\n",
      "Valid--Epoch [73/400]: 100%|██████████| 44/44 [00:09<00:00,  4.84it/s, acc=52.3, loss=0.917]"
     ]
    },
    {
     "name": "stdout",
     "output_type": "stream",
     "text": [
      "\n",
      " epoch: 74/400\n"
     ]
    },
    {
     "name": "stderr",
     "output_type": "stream",
     "text": [
      "\n",
      "Train--Epoch [74/400]: 100%|██████████| 187/187 [01:27<00:00,  2.13it/s, acc=57.7, loss=0.666]\n",
      "Valid--Epoch [74/400]: 100%|██████████| 44/44 [00:09<00:00,  4.44it/s, acc=52, loss=0.957]  "
     ]
    },
    {
     "name": "stdout",
     "output_type": "stream",
     "text": [
      "\n",
      " epoch: 75/400\n"
     ]
    },
    {
     "name": "stderr",
     "output_type": "stream",
     "text": [
      "\n",
      "Train--Epoch [75/400]: 100%|██████████| 187/187 [01:25<00:00,  2.18it/s, acc=57.9, loss=0.665]\n",
      "Valid--Epoch [75/400]: 100%|██████████| 44/44 [00:09<00:00,  4.81it/s, acc=51.7, loss=0.986]"
     ]
    },
    {
     "name": "stdout",
     "output_type": "stream",
     "text": [
      "\n",
      " epoch: 76/400\n"
     ]
    },
    {
     "name": "stderr",
     "output_type": "stream",
     "text": [
      "\n",
      "Train--Epoch [76/400]: 100%|██████████| 187/187 [01:24<00:00,  2.22it/s, acc=57.6, loss=0.666]\n",
      "Valid--Epoch [76/400]: 100%|██████████| 44/44 [00:08<00:00,  4.93it/s, acc=51.6, loss=1.02]"
     ]
    },
    {
     "name": "stdout",
     "output_type": "stream",
     "text": [
      "\n",
      " epoch: 77/400\n"
     ]
    },
    {
     "name": "stderr",
     "output_type": "stream",
     "text": [
      "\n",
      "Train--Epoch [77/400]: 100%|██████████| 187/187 [01:24<00:00,  2.22it/s, acc=58.1, loss=0.663]\n",
      "Valid--Epoch [77/400]: 100%|██████████| 44/44 [00:08<00:00,  4.92it/s, acc=51.1, loss=1.13]"
     ]
    },
    {
     "name": "stdout",
     "output_type": "stream",
     "text": [
      "\n",
      " epoch: 78/400\n"
     ]
    },
    {
     "name": "stderr",
     "output_type": "stream",
     "text": [
      "\n",
      "Train--Epoch [78/400]: 100%|██████████| 187/187 [01:24<00:00,  2.21it/s, acc=58.2, loss=0.663]\n",
      "Valid--Epoch [78/400]: 100%|██████████| 44/44 [00:09<00:00,  4.83it/s, acc=51.8, loss=1.01]"
     ]
    },
    {
     "name": "stdout",
     "output_type": "stream",
     "text": [
      "\n",
      " epoch: 79/400\n"
     ]
    },
    {
     "name": "stderr",
     "output_type": "stream",
     "text": [
      "\n",
      "Train--Epoch [79/400]: 100%|██████████| 187/187 [01:24<00:00,  2.22it/s, acc=58.2, loss=0.664]\n",
      "Valid--Epoch [79/400]: 100%|██████████| 44/44 [00:08<00:00,  4.92it/s, acc=51.9, loss=0.966]"
     ]
    },
    {
     "name": "stdout",
     "output_type": "stream",
     "text": [
      "\n",
      " epoch: 80/400\n"
     ]
    },
    {
     "name": "stderr",
     "output_type": "stream",
     "text": [
      "\n",
      "Train--Epoch [80/400]: 100%|██████████| 187/187 [01:24<00:00,  2.21it/s, acc=58.1, loss=0.662]\n",
      "Valid--Epoch [80/400]: 100%|██████████| 44/44 [00:08<00:00,  5.09it/s, acc=51.7, loss=1.04]"
     ]
    },
    {
     "name": "stdout",
     "output_type": "stream",
     "text": [
      "\n",
      " epoch: 81/400\n"
     ]
    },
    {
     "name": "stderr",
     "output_type": "stream",
     "text": [
      "\n",
      "Train--Epoch [81/400]: 100%|██████████| 187/187 [01:24<00:00,  2.22it/s, acc=58.3, loss=0.661]\n",
      "Valid--Epoch [81/400]: 100%|██████████| 44/44 [00:08<00:00,  5.05it/s, acc=52.9, loss=0.874]"
     ]
    },
    {
     "name": "stdout",
     "output_type": "stream",
     "text": [
      "\n",
      " epoch: 82/400\n"
     ]
    },
    {
     "name": "stderr",
     "output_type": "stream",
     "text": [
      "\n",
      "Train--Epoch [82/400]: 100%|██████████| 187/187 [01:24<00:00,  2.22it/s, acc=58.3, loss=0.661]\n",
      "Valid--Epoch [82/400]: 100%|██████████| 44/44 [00:09<00:00,  4.70it/s, acc=52.1, loss=0.965]"
     ]
    },
    {
     "name": "stdout",
     "output_type": "stream",
     "text": [
      "\n",
      " epoch: 83/400\n"
     ]
    },
    {
     "name": "stderr",
     "output_type": "stream",
     "text": [
      "\n",
      "Train--Epoch [83/400]: 100%|██████████| 187/187 [01:24<00:00,  2.22it/s, acc=58.4, loss=0.66] \n",
      "Valid--Epoch [83/400]: 100%|██████████| 44/44 [00:08<00:00,  5.17it/s, acc=52.3, loss=0.948]"
     ]
    },
    {
     "name": "stdout",
     "output_type": "stream",
     "text": [
      "\n",
      " epoch: 84/400\n"
     ]
    },
    {
     "name": "stderr",
     "output_type": "stream",
     "text": [
      "\n",
      "Train--Epoch [84/400]: 100%|██████████| 187/187 [01:24<00:00,  2.22it/s, acc=58.4, loss=0.661]\n",
      "Valid--Epoch [84/400]: 100%|██████████| 44/44 [00:08<00:00,  4.89it/s, acc=52.1, loss=0.964]"
     ]
    },
    {
     "name": "stdout",
     "output_type": "stream",
     "text": [
      "\n",
      " epoch: 85/400\n"
     ]
    },
    {
     "name": "stderr",
     "output_type": "stream",
     "text": [
      "\n",
      "Train--Epoch [85/400]: 100%|██████████| 187/187 [01:24<00:00,  2.21it/s, acc=58.5, loss=0.66] \n",
      "Valid--Epoch [85/400]: 100%|██████████| 44/44 [00:08<00:00,  4.91it/s, acc=52.7, loss=0.928]"
     ]
    },
    {
     "name": "stdout",
     "output_type": "stream",
     "text": [
      "\n",
      " epoch: 86/400\n"
     ]
    },
    {
     "name": "stderr",
     "output_type": "stream",
     "text": [
      "\n",
      "Train--Epoch [86/400]: 100%|██████████| 187/187 [01:24<00:00,  2.21it/s, acc=58.6, loss=0.66] \n",
      "Valid--Epoch [86/400]: 100%|██████████| 44/44 [00:08<00:00,  4.89it/s, acc=52.2, loss=0.981]"
     ]
    },
    {
     "name": "stdout",
     "output_type": "stream",
     "text": [
      "\n",
      " epoch: 87/400\n"
     ]
    },
    {
     "name": "stderr",
     "output_type": "stream",
     "text": [
      "\n",
      "Train--Epoch [87/400]: 100%|██████████| 187/187 [01:24<00:00,  2.22it/s, acc=58.8, loss=0.659]\n",
      "Valid--Epoch [87/400]: 100%|██████████| 44/44 [00:08<00:00,  4.96it/s, acc=52.3, loss=0.986]"
     ]
    },
    {
     "name": "stdout",
     "output_type": "stream",
     "text": [
      "\n",
      " epoch: 88/400\n"
     ]
    },
    {
     "name": "stderr",
     "output_type": "stream",
     "text": [
      "\n",
      "Train--Epoch [88/400]: 100%|██████████| 187/187 [01:24<00:00,  2.21it/s, acc=58.6, loss=0.66] \n",
      "Valid--Epoch [88/400]: 100%|██████████| 44/44 [00:08<00:00,  4.94it/s, acc=52.4, loss=1.01] "
     ]
    },
    {
     "name": "stdout",
     "output_type": "stream",
     "text": [
      "\n",
      " epoch: 89/400\n"
     ]
    },
    {
     "name": "stderr",
     "output_type": "stream",
     "text": [
      "\n",
      "Train--Epoch [89/400]: 100%|██████████| 187/187 [01:23<00:00,  2.23it/s, acc=58.9, loss=0.658]\n",
      "Valid--Epoch [89/400]: 100%|██████████| 44/44 [00:08<00:00,  5.16it/s, acc=52.1, loss=1.04]"
     ]
    },
    {
     "name": "stdout",
     "output_type": "stream",
     "text": [
      "\n",
      " epoch: 90/400\n"
     ]
    },
    {
     "name": "stderr",
     "output_type": "stream",
     "text": [
      "\n",
      "Train--Epoch [90/400]: 100%|██████████| 187/187 [01:24<00:00,  2.22it/s, acc=59.1, loss=0.656]\n",
      "Valid--Epoch [90/400]: 100%|██████████| 44/44 [00:08<00:00,  5.12it/s, acc=52.9, loss=0.971]"
     ]
    },
    {
     "name": "stdout",
     "output_type": "stream",
     "text": [
      "\n",
      " epoch: 91/400\n"
     ]
    },
    {
     "name": "stderr",
     "output_type": "stream",
     "text": [
      "\n",
      "Train--Epoch [91/400]: 100%|██████████| 187/187 [01:24<00:00,  2.22it/s, acc=58.6, loss=0.659]\n",
      "Valid--Epoch [91/400]: 100%|██████████| 44/44 [00:08<00:00,  4.90it/s, acc=52.6, loss=0.964]"
     ]
    },
    {
     "name": "stdout",
     "output_type": "stream",
     "text": [
      "\n",
      " epoch: 92/400\n"
     ]
    },
    {
     "name": "stderr",
     "output_type": "stream",
     "text": [
      "\n",
      "Train--Epoch [92/400]: 100%|██████████| 187/187 [01:24<00:00,  2.20it/s, acc=58.9, loss=0.657]\n",
      "Valid--Epoch [92/400]: 100%|██████████| 44/44 [00:08<00:00,  5.01it/s, acc=52.8, loss=0.966]"
     ]
    },
    {
     "name": "stdout",
     "output_type": "stream",
     "text": [
      "\n",
      " epoch: 93/400\n"
     ]
    },
    {
     "name": "stderr",
     "output_type": "stream",
     "text": [
      "\n",
      "Train--Epoch [93/400]: 100%|██████████| 187/187 [01:25<00:00,  2.19it/s, acc=59.3, loss=0.655]\n",
      "Valid--Epoch [93/400]: 100%|██████████| 44/44 [00:09<00:00,  4.74it/s, acc=53.3, loss=0.926]"
     ]
    },
    {
     "name": "stdout",
     "output_type": "stream",
     "text": [
      "\n",
      " epoch: 94/400\n"
     ]
    },
    {
     "name": "stderr",
     "output_type": "stream",
     "text": [
      "\n",
      "Train--Epoch [94/400]: 100%|██████████| 187/187 [01:24<00:00,  2.21it/s, acc=59.4, loss=0.654]\n",
      "Valid--Epoch [94/400]: 100%|██████████| 44/44 [00:09<00:00,  4.82it/s, acc=53.2, loss=0.948]"
     ]
    },
    {
     "name": "stdout",
     "output_type": "stream",
     "text": [
      "\n",
      " epoch: 95/400\n"
     ]
    },
    {
     "name": "stderr",
     "output_type": "stream",
     "text": [
      "\n",
      "Train--Epoch [95/400]: 100%|██████████| 187/187 [01:23<00:00,  2.23it/s, acc=59.4, loss=0.653]\n",
      "Valid--Epoch [95/400]: 100%|██████████| 44/44 [00:08<00:00,  4.90it/s, acc=53.2, loss=0.962]"
     ]
    },
    {
     "name": "stdout",
     "output_type": "stream",
     "text": [
      "\n",
      " epoch: 96/400\n"
     ]
    },
    {
     "name": "stderr",
     "output_type": "stream",
     "text": [
      "\n",
      "Train--Epoch [96/400]: 100%|██████████| 187/187 [01:24<00:00,  2.22it/s, acc=59.8, loss=0.652]\n",
      "Valid--Epoch [96/400]: 100%|██████████| 44/44 [00:09<00:00,  4.58it/s, acc=53.4, loss=0.97] "
     ]
    },
    {
     "name": "stdout",
     "output_type": "stream",
     "text": [
      "\n",
      " epoch: 97/400\n"
     ]
    },
    {
     "name": "stderr",
     "output_type": "stream",
     "text": [
      "\n",
      "Train--Epoch [97/400]: 100%|██████████| 187/187 [01:24<00:00,  2.22it/s, acc=59.4, loss=0.654]\n",
      "Valid--Epoch [97/400]: 100%|██████████| 44/44 [00:09<00:00,  4.88it/s, acc=53.6, loss=0.929]"
     ]
    },
    {
     "name": "stdout",
     "output_type": "stream",
     "text": [
      "\n",
      " epoch: 98/400\n"
     ]
    },
    {
     "name": "stderr",
     "output_type": "stream",
     "text": [
      "\n",
      "Train--Epoch [98/400]: 100%|██████████| 187/187 [01:24<00:00,  2.23it/s, acc=60.1, loss=0.649]\n",
      "Valid--Epoch [98/400]: 100%|██████████| 44/44 [00:08<00:00,  5.01it/s, acc=53.4, loss=0.96] "
     ]
    },
    {
     "name": "stdout",
     "output_type": "stream",
     "text": [
      "\n",
      " epoch: 99/400\n"
     ]
    },
    {
     "name": "stderr",
     "output_type": "stream",
     "text": [
      "\n",
      "Train--Epoch [99/400]: 100%|██████████| 187/187 [01:24<00:00,  2.23it/s, acc=59.9, loss=0.65] \n",
      "Valid--Epoch [99/400]: 100%|██████████| 44/44 [00:08<00:00,  4.96it/s, acc=53.5, loss=0.96] "
     ]
    },
    {
     "name": "stdout",
     "output_type": "stream",
     "text": [
      "\n",
      " epoch: 100/400\n"
     ]
    },
    {
     "name": "stderr",
     "output_type": "stream",
     "text": [
      "\n",
      "Train--Epoch [100/400]: 100%|██████████| 187/187 [01:23<00:00,  2.23it/s, acc=60, loss=0.65]   \n",
      "Valid--Epoch [100/400]: 100%|██████████| 44/44 [00:08<00:00,  4.89it/s, acc=54, loss=0.913]  "
     ]
    },
    {
     "name": "stdout",
     "output_type": "stream",
     "text": [
      "\n",
      " epoch: 101/400\n"
     ]
    },
    {
     "name": "stderr",
     "output_type": "stream",
     "text": [
      "\n",
      "Train--Epoch [101/400]: 100%|██████████| 187/187 [01:24<00:00,  2.22it/s, acc=60.2, loss=0.648]\n",
      "Valid--Epoch [101/400]: 100%|██████████| 44/44 [00:08<00:00,  5.17it/s, acc=54.3, loss=0.884]"
     ]
    },
    {
     "name": "stdout",
     "output_type": "stream",
     "text": [
      "\n",
      " epoch: 102/400\n"
     ]
    },
    {
     "name": "stderr",
     "output_type": "stream",
     "text": [
      "\n",
      "Train--Epoch [102/400]: 100%|██████████| 187/187 [01:23<00:00,  2.23it/s, acc=60.5, loss=0.646]\n",
      "Valid--Epoch [102/400]: 100%|██████████| 44/44 [00:08<00:00,  5.16it/s, acc=54.2, loss=0.931]"
     ]
    },
    {
     "name": "stdout",
     "output_type": "stream",
     "text": [
      "\n",
      " epoch: 103/400\n"
     ]
    },
    {
     "name": "stderr",
     "output_type": "stream",
     "text": [
      "\n",
      "Train--Epoch [103/400]: 100%|██████████| 187/187 [01:23<00:00,  2.23it/s, acc=60.3, loss=0.647]\n",
      "Valid--Epoch [103/400]: 100%|██████████| 44/44 [00:08<00:00,  5.03it/s, acc=54, loss=0.937]  "
     ]
    },
    {
     "name": "stdout",
     "output_type": "stream",
     "text": [
      "\n",
      " epoch: 104/400\n"
     ]
    },
    {
     "name": "stderr",
     "output_type": "stream",
     "text": [
      "\n",
      "Train--Epoch [104/400]: 100%|██████████| 187/187 [01:24<00:00,  2.22it/s, acc=60.7, loss=0.645]\n",
      "Valid--Epoch [104/400]: 100%|██████████| 44/44 [00:08<00:00,  4.95it/s, acc=54.1, loss=0.969]"
     ]
    },
    {
     "name": "stdout",
     "output_type": "stream",
     "text": [
      "\n",
      " epoch: 105/400\n"
     ]
    },
    {
     "name": "stderr",
     "output_type": "stream",
     "text": [
      "\n",
      "Train--Epoch [105/400]: 100%|██████████| 187/187 [01:23<00:00,  2.23it/s, acc=61.1, loss=0.642]\n",
      "Valid--Epoch [105/400]: 100%|██████████| 44/44 [00:09<00:00,  4.78it/s, acc=54.5, loss=0.915]"
     ]
    },
    {
     "name": "stdout",
     "output_type": "stream",
     "text": [
      "\n",
      " epoch: 106/400\n"
     ]
    },
    {
     "name": "stderr",
     "output_type": "stream",
     "text": [
      "\n",
      "Train--Epoch [106/400]: 100%|██████████| 187/187 [01:23<00:00,  2.23it/s, acc=60.6, loss=0.644]\n",
      "Valid--Epoch [106/400]: 100%|██████████| 44/44 [00:09<00:00,  4.86it/s, acc=54.8, loss=0.946]"
     ]
    },
    {
     "name": "stdout",
     "output_type": "stream",
     "text": [
      "\n",
      " epoch: 107/400\n"
     ]
    },
    {
     "name": "stderr",
     "output_type": "stream",
     "text": [
      "\n",
      "Train--Epoch [107/400]: 100%|██████████| 187/187 [01:24<00:00,  2.21it/s, acc=61.1, loss=0.642]\n",
      "Valid--Epoch [107/400]: 100%|██████████| 44/44 [00:09<00:00,  4.59it/s, acc=54, loss=1.02]  "
     ]
    },
    {
     "name": "stdout",
     "output_type": "stream",
     "text": [
      "\n",
      " epoch: 108/400\n"
     ]
    },
    {
     "name": "stderr",
     "output_type": "stream",
     "text": [
      "\n",
      "Train--Epoch [108/400]: 100%|██████████| 187/187 [01:24<00:00,  2.22it/s, acc=61.1, loss=0.64] \n",
      "Valid--Epoch [108/400]: 100%|██████████| 44/44 [00:09<00:00,  4.83it/s, acc=55, loss=0.912]  "
     ]
    },
    {
     "name": "stdout",
     "output_type": "stream",
     "text": [
      "\n",
      " epoch: 109/400\n"
     ]
    },
    {
     "name": "stderr",
     "output_type": "stream",
     "text": [
      "\n",
      "Train--Epoch [109/400]: 100%|██████████| 187/187 [01:24<00:00,  2.21it/s, acc=61.3, loss=0.64] \n",
      "Valid--Epoch [109/400]: 100%|██████████| 44/44 [00:09<00:00,  4.62it/s, acc=55.2, loss=0.91] "
     ]
    },
    {
     "name": "stdout",
     "output_type": "stream",
     "text": [
      "\n",
      " epoch: 110/400\n"
     ]
    },
    {
     "name": "stderr",
     "output_type": "stream",
     "text": [
      "\n",
      "Train--Epoch [110/400]: 100%|██████████| 187/187 [01:24<00:00,  2.22it/s, acc=61.4, loss=0.639]\n",
      "Valid--Epoch [110/400]: 100%|██████████| 44/44 [00:09<00:00,  4.80it/s, acc=54.8, loss=1.01]"
     ]
    },
    {
     "name": "stdout",
     "output_type": "stream",
     "text": [
      "\n",
      " epoch: 111/400\n"
     ]
    },
    {
     "name": "stderr",
     "output_type": "stream",
     "text": [
      "\n",
      "Train--Epoch [111/400]: 100%|██████████| 187/187 [01:24<00:00,  2.23it/s, acc=61.4, loss=0.639]\n",
      "Valid--Epoch [111/400]: 100%|██████████| 44/44 [00:08<00:00,  5.03it/s, acc=55.5, loss=0.902]"
     ]
    },
    {
     "name": "stdout",
     "output_type": "stream",
     "text": [
      "\n",
      " epoch: 112/400\n"
     ]
    },
    {
     "name": "stderr",
     "output_type": "stream",
     "text": [
      "\n",
      "Train--Epoch [112/400]: 100%|██████████| 187/187 [01:24<00:00,  2.21it/s, acc=61.5, loss=0.638]\n",
      "Valid--Epoch [112/400]: 100%|██████████| 44/44 [00:08<00:00,  5.12it/s, acc=55.6, loss=0.935]"
     ]
    },
    {
     "name": "stdout",
     "output_type": "stream",
     "text": [
      "\n",
      " epoch: 113/400\n"
     ]
    },
    {
     "name": "stderr",
     "output_type": "stream",
     "text": [
      "\n",
      "Train--Epoch [113/400]: 100%|██████████| 187/187 [01:23<00:00,  2.24it/s, acc=61.6, loss=0.638]\n",
      "Valid--Epoch [113/400]: 100%|██████████| 44/44 [00:09<00:00,  4.87it/s, acc=55.4, loss=0.908]"
     ]
    },
    {
     "name": "stdout",
     "output_type": "stream",
     "text": [
      "\n",
      " epoch: 114/400\n"
     ]
    },
    {
     "name": "stderr",
     "output_type": "stream",
     "text": [
      "\n",
      "Train--Epoch [114/400]: 100%|██████████| 187/187 [01:24<00:00,  2.23it/s, acc=61.4, loss=0.639]\n",
      "Valid--Epoch [114/400]: 100%|██████████| 44/44 [00:08<00:00,  5.08it/s, acc=55.4, loss=0.968]"
     ]
    },
    {
     "name": "stdout",
     "output_type": "stream",
     "text": [
      "\n",
      " epoch: 115/400\n"
     ]
    },
    {
     "name": "stderr",
     "output_type": "stream",
     "text": [
      "\n",
      "Train--Epoch [115/400]: 100%|██████████| 187/187 [01:23<00:00,  2.24it/s, acc=61.8, loss=0.635]\n",
      "Valid--Epoch [115/400]: 100%|██████████| 44/44 [00:08<00:00,  5.24it/s, acc=55.4, loss=0.963]"
     ]
    },
    {
     "name": "stdout",
     "output_type": "stream",
     "text": [
      "\n",
      " epoch: 116/400\n"
     ]
    },
    {
     "name": "stderr",
     "output_type": "stream",
     "text": [
      "\n",
      "Train--Epoch [116/400]: 100%|██████████| 187/187 [01:23<00:00,  2.23it/s, acc=61.8, loss=0.636]\n",
      "Valid--Epoch [116/400]: 100%|██████████| 44/44 [00:08<00:00,  5.23it/s, acc=55.9, loss=0.903]"
     ]
    },
    {
     "name": "stdout",
     "output_type": "stream",
     "text": [
      "\n",
      " epoch: 117/400\n"
     ]
    },
    {
     "name": "stderr",
     "output_type": "stream",
     "text": [
      "\n",
      "Train--Epoch [117/400]: 100%|██████████| 187/187 [01:24<00:00,  2.22it/s, acc=61.7, loss=0.635]\n",
      "Valid--Epoch [117/400]: 100%|██████████| 44/44 [00:08<00:00,  4.90it/s, acc=55.6, loss=0.942]"
     ]
    },
    {
     "name": "stdout",
     "output_type": "stream",
     "text": [
      "\n",
      " epoch: 118/400\n"
     ]
    },
    {
     "name": "stderr",
     "output_type": "stream",
     "text": [
      "\n",
      "Train--Epoch [118/400]: 100%|██████████| 187/187 [01:23<00:00,  2.23it/s, acc=62, loss=0.634]  \n",
      "Valid--Epoch [118/400]: 100%|██████████| 44/44 [00:08<00:00,  5.08it/s, acc=56.2, loss=0.894]"
     ]
    },
    {
     "name": "stdout",
     "output_type": "stream",
     "text": [
      "\n",
      " epoch: 119/400\n"
     ]
    },
    {
     "name": "stderr",
     "output_type": "stream",
     "text": [
      "\n",
      "Train--Epoch [119/400]: 100%|██████████| 187/187 [01:23<00:00,  2.24it/s, acc=61.9, loss=0.636]\n",
      "Valid--Epoch [119/400]: 100%|██████████| 44/44 [00:08<00:00,  4.92it/s, acc=56.1, loss=0.911]"
     ]
    },
    {
     "name": "stdout",
     "output_type": "stream",
     "text": [
      "\n",
      " epoch: 120/400\n"
     ]
    },
    {
     "name": "stderr",
     "output_type": "stream",
     "text": [
      "\n",
      "Train--Epoch [120/400]: 100%|██████████| 187/187 [01:24<00:00,  2.22it/s, acc=62.1, loss=0.634]\n",
      "Valid--Epoch [120/400]: 100%|██████████| 44/44 [00:08<00:00,  5.07it/s, acc=55.9, loss=0.93] "
     ]
    },
    {
     "name": "stdout",
     "output_type": "stream",
     "text": [
      "\n",
      " epoch: 121/400\n"
     ]
    },
    {
     "name": "stderr",
     "output_type": "stream",
     "text": [
      "\n",
      "Train--Epoch [121/400]: 100%|██████████| 187/187 [01:23<00:00,  2.23it/s, acc=62, loss=0.634]  \n",
      "Valid--Epoch [121/400]: 100%|██████████| 44/44 [00:08<00:00,  5.17it/s, acc=56.2, loss=0.929]"
     ]
    },
    {
     "name": "stdout",
     "output_type": "stream",
     "text": [
      "\n",
      " epoch: 122/400\n"
     ]
    },
    {
     "name": "stderr",
     "output_type": "stream",
     "text": [
      "\n",
      "Train--Epoch [122/400]: 100%|██████████| 187/187 [01:24<00:00,  2.22it/s, acc=62.1, loss=0.633]\n",
      "Valid--Epoch [122/400]: 100%|██████████| 44/44 [00:08<00:00,  5.05it/s, acc=56.2, loss=0.917]"
     ]
    },
    {
     "name": "stdout",
     "output_type": "stream",
     "text": [
      "\n",
      " epoch: 123/400\n"
     ]
    },
    {
     "name": "stderr",
     "output_type": "stream",
     "text": [
      "\n",
      "Train--Epoch [123/400]: 100%|██████████| 187/187 [01:23<00:00,  2.24it/s, acc=62, loss=0.635]  \n",
      "Valid--Epoch [123/400]: 100%|██████████| 44/44 [00:09<00:00,  4.80it/s, acc=56.7, loss=0.859]"
     ]
    },
    {
     "name": "stdout",
     "output_type": "stream",
     "text": [
      "\n",
      " epoch: 124/400\n"
     ]
    },
    {
     "name": "stderr",
     "output_type": "stream",
     "text": [
      "\n",
      "Train--Epoch [124/400]: 100%|██████████| 187/187 [01:23<00:00,  2.24it/s, acc=62.1, loss=0.633]\n",
      "Valid--Epoch [124/400]: 100%|██████████| 44/44 [00:08<00:00,  5.17it/s, acc=56.3, loss=0.9]  "
     ]
    },
    {
     "name": "stdout",
     "output_type": "stream",
     "text": [
      "\n",
      " epoch: 125/400\n"
     ]
    },
    {
     "name": "stderr",
     "output_type": "stream",
     "text": [
      "\n",
      "Train--Epoch [125/400]: 100%|██████████| 187/187 [01:23<00:00,  2.24it/s, acc=62.4, loss=0.63] \n",
      "Valid--Epoch [125/400]: 100%|██████████| 44/44 [00:08<00:00,  4.94it/s, acc=56.7, loss=0.93] "
     ]
    },
    {
     "name": "stdout",
     "output_type": "stream",
     "text": [
      "\n",
      " epoch: 126/400\n"
     ]
    },
    {
     "name": "stderr",
     "output_type": "stream",
     "text": [
      "\n",
      "Train--Epoch [126/400]: 100%|██████████| 187/187 [01:23<00:00,  2.24it/s, acc=62.6, loss=0.629]\n",
      "Valid--Epoch [126/400]: 100%|██████████| 44/44 [00:09<00:00,  4.86it/s, acc=56.8, loss=0.939]"
     ]
    },
    {
     "name": "stdout",
     "output_type": "stream",
     "text": [
      "\n",
      " epoch: 127/400\n"
     ]
    },
    {
     "name": "stderr",
     "output_type": "stream",
     "text": [
      "\n",
      "Train--Epoch [127/400]: 100%|██████████| 187/187 [01:24<00:00,  2.22it/s, acc=62.6, loss=0.63] \n",
      "Valid--Epoch [127/400]: 100%|██████████| 44/44 [00:08<00:00,  4.93it/s, acc=56.5, loss=0.923]"
     ]
    },
    {
     "name": "stdout",
     "output_type": "stream",
     "text": [
      "\n",
      " epoch: 128/400\n"
     ]
    },
    {
     "name": "stderr",
     "output_type": "stream",
     "text": [
      "\n",
      "Train--Epoch [128/400]: 100%|██████████| 187/187 [01:24<00:00,  2.22it/s, acc=62.5, loss=0.629]\n",
      "Valid--Epoch [128/400]: 100%|██████████| 44/44 [00:08<00:00,  5.12it/s, acc=56.6, loss=0.968]\n"
     ]
    },
    {
     "name": "stdout",
     "output_type": "stream",
     "text": [
      "\n",
      " epoch: 129/400\n"
     ]
    },
    {
     "name": "stderr",
     "output_type": "stream",
     "text": [
      "Train--Epoch [129/400]: 100%|██████████| 187/187 [01:23<00:00,  2.24it/s, acc=62.9, loss=0.628]\n",
      "Valid--Epoch [129/400]: 100%|██████████| 44/44 [00:08<00:00,  4.91it/s, acc=56.9, loss=0.934]"
     ]
    },
    {
     "name": "stdout",
     "output_type": "stream",
     "text": [
      "\n",
      " epoch: 130/400\n"
     ]
    },
    {
     "name": "stderr",
     "output_type": "stream",
     "text": [
      "\n",
      "Train--Epoch [130/400]: 100%|██████████| 187/187 [01:23<00:00,  2.24it/s, acc=62.7, loss=0.629]\n",
      "Valid--Epoch [130/400]: 100%|██████████| 44/44 [00:08<00:00,  5.22it/s, acc=57.8, loss=0.826]"
     ]
    },
    {
     "name": "stdout",
     "output_type": "stream",
     "text": [
      "\n",
      " epoch: 131/400\n"
     ]
    },
    {
     "name": "stderr",
     "output_type": "stream",
     "text": [
      "\n",
      "Train--Epoch [131/400]: 100%|██████████| 187/187 [01:23<00:00,  2.23it/s, acc=62.4, loss=0.63] \n",
      "Valid--Epoch [131/400]: 100%|██████████| 44/44 [00:08<00:00,  5.04it/s, acc=56.5, loss=0.958]"
     ]
    },
    {
     "name": "stdout",
     "output_type": "stream",
     "text": [
      "\n",
      " epoch: 132/400\n"
     ]
    },
    {
     "name": "stderr",
     "output_type": "stream",
     "text": [
      "\n",
      "Train--Epoch [132/400]: 100%|██████████| 187/187 [01:24<00:00,  2.22it/s, acc=63.1, loss=0.626]\n",
      "Valid--Epoch [132/400]: 100%|██████████| 44/44 [00:08<00:00,  5.23it/s, acc=57.7, loss=0.856]"
     ]
    },
    {
     "name": "stdout",
     "output_type": "stream",
     "text": [
      "\n",
      " epoch: 133/400\n"
     ]
    },
    {
     "name": "stderr",
     "output_type": "stream",
     "text": [
      "\n",
      "Train--Epoch [133/400]: 100%|██████████| 187/187 [01:23<00:00,  2.23it/s, acc=63.1, loss=0.626]\n",
      "Valid--Epoch [133/400]: 100%|██████████| 44/44 [00:09<00:00,  4.88it/s, acc=57.5, loss=0.88] "
     ]
    },
    {
     "name": "stdout",
     "output_type": "stream",
     "text": [
      "\n",
      " epoch: 134/400\n"
     ]
    },
    {
     "name": "stderr",
     "output_type": "stream",
     "text": [
      "\n",
      "Train--Epoch [134/400]: 100%|██████████| 187/187 [01:23<00:00,  2.24it/s, acc=62.9, loss=0.626]\n",
      "Valid--Epoch [134/400]: 100%|██████████| 44/44 [00:08<00:00,  4.97it/s, acc=57.8, loss=0.88] "
     ]
    },
    {
     "name": "stdout",
     "output_type": "stream",
     "text": [
      "\n",
      " epoch: 135/400\n"
     ]
    },
    {
     "name": "stderr",
     "output_type": "stream",
     "text": [
      "\n",
      "Train--Epoch [135/400]: 100%|██████████| 187/187 [01:23<00:00,  2.23it/s, acc=63.3, loss=0.624]\n",
      "Valid--Epoch [135/400]: 100%|██████████| 44/44 [00:08<00:00,  4.95it/s, acc=57.5, loss=0.92] "
     ]
    },
    {
     "name": "stdout",
     "output_type": "stream",
     "text": [
      "\n",
      " epoch: 136/400\n"
     ]
    },
    {
     "name": "stderr",
     "output_type": "stream",
     "text": [
      "\n",
      "Train--Epoch [136/400]: 100%|██████████| 187/187 [01:23<00:00,  2.24it/s, acc=63, loss=0.626]  \n",
      "Valid--Epoch [136/400]: 100%|██████████| 44/44 [00:08<00:00,  5.08it/s, acc=56.8, loss=0.98] "
     ]
    },
    {
     "name": "stdout",
     "output_type": "stream",
     "text": [
      "\n",
      " epoch: 137/400\n"
     ]
    },
    {
     "name": "stderr",
     "output_type": "stream",
     "text": [
      "\n",
      "Train--Epoch [137/400]: 100%|██████████| 187/187 [01:23<00:00,  2.23it/s, acc=63.5, loss=0.623]\n",
      "Valid--Epoch [137/400]: 100%|██████████| 44/44 [00:08<00:00,  4.93it/s, acc=57.7, loss=0.884]"
     ]
    },
    {
     "name": "stdout",
     "output_type": "stream",
     "text": [
      "\n",
      " epoch: 138/400\n"
     ]
    },
    {
     "name": "stderr",
     "output_type": "stream",
     "text": [
      "\n",
      "Train--Epoch [138/400]: 100%|██████████| 187/187 [01:23<00:00,  2.24it/s, acc=63, loss=0.626]  \n",
      "Valid--Epoch [138/400]: 100%|██████████| 44/44 [00:08<00:00,  5.10it/s, acc=57.4, loss=0.91] "
     ]
    },
    {
     "name": "stdout",
     "output_type": "stream",
     "text": [
      "\n",
      " epoch: 139/400\n"
     ]
    },
    {
     "name": "stderr",
     "output_type": "stream",
     "text": [
      "\n",
      "Train--Epoch [139/400]: 100%|██████████| 187/187 [01:24<00:00,  2.22it/s, acc=63.1, loss=0.625]\n",
      "Valid--Epoch [139/400]: 100%|██████████| 44/44 [00:08<00:00,  4.89it/s, acc=57.5, loss=0.942]"
     ]
    },
    {
     "name": "stdout",
     "output_type": "stream",
     "text": [
      "\n",
      " epoch: 140/400\n"
     ]
    },
    {
     "name": "stderr",
     "output_type": "stream",
     "text": [
      "\n",
      "Train--Epoch [140/400]: 100%|██████████| 187/187 [01:24<00:00,  2.22it/s, acc=63.3, loss=0.623]\n",
      "Valid--Epoch [140/400]: 100%|██████████| 44/44 [00:08<00:00,  5.05it/s, acc=57.9, loss=0.891]"
     ]
    },
    {
     "name": "stdout",
     "output_type": "stream",
     "text": [
      "\n",
      " epoch: 141/400\n"
     ]
    },
    {
     "name": "stderr",
     "output_type": "stream",
     "text": [
      "\n",
      "Train--Epoch [141/400]: 100%|██████████| 187/187 [01:24<00:00,  2.22it/s, acc=63.3, loss=0.623]\n",
      "Valid--Epoch [141/400]: 100%|██████████| 44/44 [00:08<00:00,  4.97it/s, acc=58.2, loss=0.85] "
     ]
    },
    {
     "name": "stdout",
     "output_type": "stream",
     "text": [
      "\n",
      " epoch: 142/400\n"
     ]
    },
    {
     "name": "stderr",
     "output_type": "stream",
     "text": [
      "\n",
      "Train--Epoch [142/400]: 100%|██████████| 187/187 [01:23<00:00,  2.23it/s, acc=63.5, loss=0.622]\n",
      "Valid--Epoch [142/400]: 100%|██████████| 44/44 [00:08<00:00,  5.09it/s, acc=57.8, loss=0.926]"
     ]
    },
    {
     "name": "stdout",
     "output_type": "stream",
     "text": [
      "\n",
      " epoch: 143/400\n"
     ]
    },
    {
     "name": "stderr",
     "output_type": "stream",
     "text": [
      "\n",
      "Train--Epoch [143/400]: 100%|██████████| 187/187 [01:24<00:00,  2.22it/s, acc=63.7, loss=0.621]\n",
      "Valid--Epoch [143/400]: 100%|██████████| 44/44 [00:08<00:00,  5.10it/s, acc=58.6, loss=0.854]"
     ]
    },
    {
     "name": "stdout",
     "output_type": "stream",
     "text": [
      "\n",
      " epoch: 144/400\n"
     ]
    },
    {
     "name": "stderr",
     "output_type": "stream",
     "text": [
      "\n",
      "Train--Epoch [144/400]: 100%|██████████| 187/187 [01:23<00:00,  2.24it/s, acc=63.6, loss=0.621]\n",
      "Valid--Epoch [144/400]: 100%|██████████| 44/44 [00:08<00:00,  5.11it/s, acc=58.2, loss=0.89] "
     ]
    },
    {
     "name": "stdout",
     "output_type": "stream",
     "text": [
      "\n",
      " epoch: 145/400\n"
     ]
    },
    {
     "name": "stderr",
     "output_type": "stream",
     "text": [
      "\n",
      "Train--Epoch [145/400]: 100%|██████████| 187/187 [01:23<00:00,  2.23it/s, acc=63.6, loss=0.621]\n",
      "Valid--Epoch [145/400]: 100%|██████████| 44/44 [00:09<00:00,  4.74it/s, acc=59.1, loss=0.815]\n"
     ]
    },
    {
     "name": "stdout",
     "output_type": "stream",
     "text": [
      "Saving..\n",
      "\n",
      " epoch: 146/400\n"
     ]
    },
    {
     "name": "stderr",
     "output_type": "stream",
     "text": [
      "Train--Epoch [146/400]: 100%|██████████| 187/187 [01:24<00:00,  2.22it/s, acc=63.8, loss=0.62] \n",
      "Valid--Epoch [146/400]: 100%|██████████| 44/44 [00:08<00:00,  4.91it/s, acc=58.3, loss=0.893]"
     ]
    },
    {
     "name": "stdout",
     "output_type": "stream",
     "text": [
      "\n",
      " epoch: 147/400\n"
     ]
    },
    {
     "name": "stderr",
     "output_type": "stream",
     "text": [
      "\n",
      "Train--Epoch [147/400]: 100%|██████████| 187/187 [01:25<00:00,  2.20it/s, acc=63.9, loss=0.618]\n",
      "Valid--Epoch [147/400]: 100%|██████████| 44/44 [00:09<00:00,  4.81it/s, acc=58.1, loss=0.947]"
     ]
    },
    {
     "name": "stdout",
     "output_type": "stream",
     "text": [
      "\n",
      " epoch: 148/400\n"
     ]
    },
    {
     "name": "stderr",
     "output_type": "stream",
     "text": [
      "\n",
      "Train--Epoch [148/400]: 100%|██████████| 187/187 [01:24<00:00,  2.22it/s, acc=63.8, loss=0.62] \n",
      "Valid--Epoch [148/400]: 100%|██████████| 44/44 [00:08<00:00,  5.07it/s, acc=58.5, loss=0.87] "
     ]
    },
    {
     "name": "stdout",
     "output_type": "stream",
     "text": [
      "\n",
      " epoch: 149/400\n"
     ]
    },
    {
     "name": "stderr",
     "output_type": "stream",
     "text": [
      "\n",
      "Train--Epoch [149/400]: 100%|██████████| 187/187 [01:23<00:00,  2.23it/s, acc=63.8, loss=0.618]\n",
      "Valid--Epoch [149/400]: 100%|██████████| 44/44 [00:08<00:00,  5.20it/s, acc=59, loss=0.838]  "
     ]
    },
    {
     "name": "stdout",
     "output_type": "stream",
     "text": [
      "\n",
      " epoch: 150/400\n"
     ]
    },
    {
     "name": "stderr",
     "output_type": "stream",
     "text": [
      "\n",
      "Train--Epoch [150/400]: 100%|██████████| 187/187 [01:22<00:00,  2.26it/s, acc=64, loss=0.617]  \n",
      "Valid--Epoch [150/400]: 100%|██████████| 44/44 [00:09<00:00,  4.86it/s, acc=58.3, loss=0.897]"
     ]
    },
    {
     "name": "stdout",
     "output_type": "stream",
     "text": [
      "\n",
      " epoch: 151/400\n"
     ]
    },
    {
     "name": "stderr",
     "output_type": "stream",
     "text": [
      "\n",
      "Train--Epoch [151/400]: 100%|██████████| 187/187 [01:23<00:00,  2.23it/s, acc=63.9, loss=0.618]\n",
      "Valid--Epoch [151/400]: 100%|██████████| 44/44 [00:08<00:00,  4.97it/s, acc=58.7, loss=0.878]"
     ]
    },
    {
     "name": "stdout",
     "output_type": "stream",
     "text": [
      "\n",
      " epoch: 152/400\n"
     ]
    },
    {
     "name": "stderr",
     "output_type": "stream",
     "text": [
      "\n",
      "Train--Epoch [152/400]: 100%|██████████| 187/187 [01:24<00:00,  2.22it/s, acc=64.3, loss=0.616]\n",
      "Valid--Epoch [152/400]: 100%|██████████| 44/44 [00:08<00:00,  5.20it/s, acc=58.9, loss=0.851]"
     ]
    },
    {
     "name": "stdout",
     "output_type": "stream",
     "text": [
      "\n",
      " epoch: 153/400\n"
     ]
    },
    {
     "name": "stderr",
     "output_type": "stream",
     "text": [
      "\n",
      "Train--Epoch [153/400]: 100%|██████████| 187/187 [01:23<00:00,  2.24it/s, acc=64.2, loss=0.616]\n",
      "Valid--Epoch [153/400]: 100%|██████████| 44/44 [00:08<00:00,  5.00it/s, acc=58.3, loss=0.934]"
     ]
    },
    {
     "name": "stdout",
     "output_type": "stream",
     "text": [
      "\n",
      " epoch: 154/400\n"
     ]
    },
    {
     "name": "stderr",
     "output_type": "stream",
     "text": [
      "\n",
      "Train--Epoch [154/400]: 100%|██████████| 187/187 [01:24<00:00,  2.23it/s, acc=64.3, loss=0.615]\n",
      "Valid--Epoch [154/400]: 100%|██████████| 44/44 [00:09<00:00,  4.86it/s, acc=59.1, loss=0.859]\n"
     ]
    },
    {
     "name": "stdout",
     "output_type": "stream",
     "text": [
      "Saving..\n",
      "\n",
      " epoch: 155/400\n"
     ]
    },
    {
     "name": "stderr",
     "output_type": "stream",
     "text": [
      "Train--Epoch [155/400]: 100%|██████████| 187/187 [01:23<00:00,  2.23it/s, acc=64.2, loss=0.615]\n",
      "Valid--Epoch [155/400]: 100%|██████████| 44/44 [00:08<00:00,  5.01it/s, acc=58.5, loss=0.932]"
     ]
    },
    {
     "name": "stdout",
     "output_type": "stream",
     "text": [
      "\n",
      " epoch: 156/400\n"
     ]
    },
    {
     "name": "stderr",
     "output_type": "stream",
     "text": [
      "\n",
      "Train--Epoch [156/400]: 100%|██████████| 187/187 [01:24<00:00,  2.22it/s, acc=64.5, loss=0.614]\n",
      "Valid--Epoch [156/400]: 100%|██████████| 44/44 [00:08<00:00,  5.03it/s, acc=59.2, loss=0.871]\n"
     ]
    },
    {
     "name": "stdout",
     "output_type": "stream",
     "text": [
      "Saving..\n",
      "\n",
      " epoch: 157/400\n"
     ]
    },
    {
     "name": "stderr",
     "output_type": "stream",
     "text": [
      "Train--Epoch [157/400]: 100%|██████████| 187/187 [01:23<00:00,  2.23it/s, acc=64.5, loss=0.613]\n",
      "Valid--Epoch [157/400]: 100%|██████████| 44/44 [00:09<00:00,  4.89it/s, acc=59.2, loss=0.871]"
     ]
    },
    {
     "name": "stdout",
     "output_type": "stream",
     "text": [
      "\n",
      " epoch: 158/400\n"
     ]
    },
    {
     "name": "stderr",
     "output_type": "stream",
     "text": [
      "\n",
      "Train--Epoch [158/400]: 100%|██████████| 187/187 [01:23<00:00,  2.24it/s, acc=64.6, loss=0.612]\n",
      "Valid--Epoch [158/400]: 100%|██████████| 44/44 [00:08<00:00,  4.92it/s, acc=59, loss=0.877]  "
     ]
    },
    {
     "name": "stdout",
     "output_type": "stream",
     "text": [
      "\n",
      " epoch: 159/400\n"
     ]
    },
    {
     "name": "stderr",
     "output_type": "stream",
     "text": [
      "\n",
      "Train--Epoch [159/400]: 100%|██████████| 187/187 [01:24<00:00,  2.22it/s, acc=64.7, loss=0.613]\n",
      "Valid--Epoch [159/400]: 100%|██████████| 44/44 [00:08<00:00,  5.22it/s, acc=58, loss=0.969]  "
     ]
    },
    {
     "name": "stdout",
     "output_type": "stream",
     "text": [
      "\n",
      " epoch: 160/400\n"
     ]
    },
    {
     "name": "stderr",
     "output_type": "stream",
     "text": [
      "\n",
      "Train--Epoch [160/400]: 100%|██████████| 187/187 [01:23<00:00,  2.23it/s, acc=64.7, loss=0.611]\n",
      "Valid--Epoch [160/400]: 100%|██████████| 44/44 [00:08<00:00,  5.12it/s, acc=59.5, loss=0.865]\n"
     ]
    },
    {
     "name": "stdout",
     "output_type": "stream",
     "text": [
      "Saving..\n",
      "\n",
      " epoch: 161/400\n"
     ]
    },
    {
     "name": "stderr",
     "output_type": "stream",
     "text": [
      "Train--Epoch [161/400]: 100%|██████████| 187/187 [01:24<00:00,  2.22it/s, acc=65, loss=0.61]   \n",
      "Valid--Epoch [161/400]: 100%|██████████| 44/44 [00:08<00:00,  4.91it/s, acc=59.6, loss=0.862]\n"
     ]
    },
    {
     "name": "stdout",
     "output_type": "stream",
     "text": [
      "Saving..\n",
      "\n",
      " epoch: 162/400\n"
     ]
    },
    {
     "name": "stderr",
     "output_type": "stream",
     "text": [
      "Train--Epoch [162/400]: 100%|██████████| 187/187 [01:23<00:00,  2.23it/s, acc=64.8, loss=0.611]\n",
      "Valid--Epoch [162/400]: 100%|██████████| 44/44 [00:08<00:00,  5.20it/s, acc=59, loss=0.901]  "
     ]
    },
    {
     "name": "stdout",
     "output_type": "stream",
     "text": [
      "\n",
      " epoch: 163/400\n"
     ]
    },
    {
     "name": "stderr",
     "output_type": "stream",
     "text": [
      "\n",
      "Train--Epoch [163/400]: 100%|██████████| 187/187 [01:23<00:00,  2.23it/s, acc=65.1, loss=0.609]\n",
      "Valid--Epoch [163/400]: 100%|██████████| 44/44 [00:08<00:00,  4.96it/s, acc=59.9, loss=0.839]\n"
     ]
    },
    {
     "name": "stdout",
     "output_type": "stream",
     "text": [
      "Saving..\n",
      "\n",
      " epoch: 164/400\n"
     ]
    },
    {
     "name": "stderr",
     "output_type": "stream",
     "text": [
      "Train--Epoch [164/400]: 100%|██████████| 187/187 [01:23<00:00,  2.23it/s, acc=65, loss=0.608]  \n",
      "Valid--Epoch [164/400]: 100%|██████████| 44/44 [00:08<00:00,  5.23it/s, acc=59.9, loss=0.847]"
     ]
    },
    {
     "name": "stdout",
     "output_type": "stream",
     "text": [
      "\n",
      " epoch: 165/400\n"
     ]
    },
    {
     "name": "stderr",
     "output_type": "stream",
     "text": [
      "\n",
      "Train--Epoch [165/400]: 100%|██████████| 187/187 [01:24<00:00,  2.21it/s, acc=65, loss=0.609]  \n",
      "Valid--Epoch [165/400]: 100%|██████████| 44/44 [00:08<00:00,  5.18it/s, acc=59.8, loss=0.855]"
     ]
    },
    {
     "name": "stdout",
     "output_type": "stream",
     "text": [
      "\n",
      " epoch: 166/400\n"
     ]
    },
    {
     "name": "stderr",
     "output_type": "stream",
     "text": [
      "\n",
      "Train--Epoch [166/400]: 100%|██████████| 187/187 [01:23<00:00,  2.24it/s, acc=65.4, loss=0.606]\n",
      "Valid--Epoch [166/400]: 100%|██████████| 44/44 [00:08<00:00,  5.04it/s, acc=60.8, loss=0.808]\n"
     ]
    },
    {
     "name": "stdout",
     "output_type": "stream",
     "text": [
      "Saving..\n",
      "\n",
      " epoch: 167/400\n"
     ]
    },
    {
     "name": "stderr",
     "output_type": "stream",
     "text": [
      "Train--Epoch [167/400]: 100%|██████████| 187/187 [01:24<00:00,  2.22it/s, acc=65.1, loss=0.609]\n",
      "Valid--Epoch [167/400]: 100%|██████████| 44/44 [00:08<00:00,  5.08it/s, acc=60.2, loss=0.828]"
     ]
    },
    {
     "name": "stdout",
     "output_type": "stream",
     "text": [
      "\n",
      " epoch: 168/400\n"
     ]
    },
    {
     "name": "stderr",
     "output_type": "stream",
     "text": [
      "\n",
      "Train--Epoch [168/400]: 100%|██████████| 187/187 [01:24<00:00,  2.22it/s, acc=65.2, loss=0.607]\n",
      "Valid--Epoch [168/400]: 100%|██████████| 44/44 [00:08<00:00,  4.97it/s, acc=61.3, loss=0.804]\n"
     ]
    },
    {
     "name": "stdout",
     "output_type": "stream",
     "text": [
      "Saving..\n",
      "\n",
      " epoch: 169/400\n"
     ]
    },
    {
     "name": "stderr",
     "output_type": "stream",
     "text": [
      "Train--Epoch [169/400]: 100%|██████████| 187/187 [01:24<00:00,  2.22it/s, acc=65.1, loss=0.607]\n",
      "Valid--Epoch [169/400]: 100%|██████████| 44/44 [00:08<00:00,  5.18it/s, acc=59.8, loss=0.87] "
     ]
    },
    {
     "name": "stdout",
     "output_type": "stream",
     "text": [
      "\n",
      " epoch: 170/400\n"
     ]
    },
    {
     "name": "stderr",
     "output_type": "stream",
     "text": [
      "\n",
      "Train--Epoch [170/400]: 100%|██████████| 187/187 [01:23<00:00,  2.23it/s, acc=65.7, loss=0.604]\n",
      "Valid--Epoch [170/400]: 100%|██████████| 44/44 [00:08<00:00,  5.08it/s, acc=60.4, loss=0.847]"
     ]
    },
    {
     "name": "stdout",
     "output_type": "stream",
     "text": [
      "\n",
      " epoch: 171/400\n"
     ]
    },
    {
     "name": "stderr",
     "output_type": "stream",
     "text": [
      "\n",
      "Train--Epoch [171/400]: 100%|██████████| 187/187 [01:23<00:00,  2.23it/s, acc=65.3, loss=0.605]\n",
      "Valid--Epoch [171/400]: 100%|██████████| 44/44 [00:08<00:00,  5.22it/s, acc=60.8, loss=0.846]"
     ]
    },
    {
     "name": "stdout",
     "output_type": "stream",
     "text": [
      "\n",
      " epoch: 172/400\n"
     ]
    },
    {
     "name": "stderr",
     "output_type": "stream",
     "text": [
      "\n",
      "Train--Epoch [172/400]: 100%|██████████| 187/187 [01:24<00:00,  2.22it/s, acc=65.6, loss=0.602]\n",
      "Valid--Epoch [172/400]: 100%|██████████| 44/44 [00:08<00:00,  5.04it/s, acc=60.9, loss=0.829]"
     ]
    },
    {
     "name": "stdout",
     "output_type": "stream",
     "text": [
      "\n",
      " epoch: 173/400\n"
     ]
    },
    {
     "name": "stderr",
     "output_type": "stream",
     "text": [
      "\n",
      "Train--Epoch [173/400]: 100%|██████████| 187/187 [01:24<00:00,  2.23it/s, acc=65.4, loss=0.605]\n",
      "Valid--Epoch [173/400]: 100%|██████████| 44/44 [00:08<00:00,  5.18it/s, acc=60.4, loss=0.856]"
     ]
    },
    {
     "name": "stdout",
     "output_type": "stream",
     "text": [
      "\n",
      " epoch: 174/400\n"
     ]
    },
    {
     "name": "stderr",
     "output_type": "stream",
     "text": [
      "\n",
      "Train--Epoch [174/400]: 100%|██████████| 187/187 [01:24<00:00,  2.22it/s, acc=65.7, loss=0.603]\n",
      "Valid--Epoch [174/400]: 100%|██████████| 44/44 [00:08<00:00,  4.98it/s, acc=61.7, loss=0.797]\n"
     ]
    },
    {
     "name": "stdout",
     "output_type": "stream",
     "text": [
      "Saving..\n",
      "\n",
      " epoch: 175/400\n"
     ]
    },
    {
     "name": "stderr",
     "output_type": "stream",
     "text": [
      "Train--Epoch [175/400]: 100%|██████████| 187/187 [01:23<00:00,  2.23it/s, acc=65.6, loss=0.604]\n",
      "Valid--Epoch [175/400]: 100%|██████████| 44/44 [00:08<00:00,  4.89it/s, acc=62.3, loss=0.773]\n"
     ]
    },
    {
     "name": "stdout",
     "output_type": "stream",
     "text": [
      "Saving..\n",
      "\n",
      " epoch: 176/400\n"
     ]
    },
    {
     "name": "stderr",
     "output_type": "stream",
     "text": [
      "Train--Epoch [176/400]: 100%|██████████| 187/187 [01:24<00:00,  2.22it/s, acc=65.8, loss=0.601]\n",
      "Valid--Epoch [176/400]: 100%|██████████| 44/44 [00:08<00:00,  4.98it/s, acc=60.8, loss=0.849]"
     ]
    },
    {
     "name": "stdout",
     "output_type": "stream",
     "text": [
      "\n",
      " epoch: 177/400\n"
     ]
    },
    {
     "name": "stderr",
     "output_type": "stream",
     "text": [
      "\n",
      "Train--Epoch [177/400]: 100%|██████████| 187/187 [01:23<00:00,  2.23it/s, acc=65.7, loss=0.601]\n",
      "Valid--Epoch [177/400]: 100%|██████████| 44/44 [00:08<00:00,  5.01it/s, acc=62, loss=0.801]  "
     ]
    },
    {
     "name": "stdout",
     "output_type": "stream",
     "text": [
      "\n",
      " epoch: 178/400\n"
     ]
    },
    {
     "name": "stderr",
     "output_type": "stream",
     "text": [
      "\n",
      "Train--Epoch [178/400]: 100%|██████████| 187/187 [01:24<00:00,  2.22it/s, acc=65.7, loss=0.601]\n",
      "Valid--Epoch [178/400]: 100%|██████████| 44/44 [00:08<00:00,  5.14it/s, acc=62.4, loss=0.787]\n"
     ]
    },
    {
     "name": "stdout",
     "output_type": "stream",
     "text": [
      "Saving..\n",
      "\n",
      " epoch: 179/400\n"
     ]
    },
    {
     "name": "stderr",
     "output_type": "stream",
     "text": [
      "Train--Epoch [179/400]: 100%|██████████| 187/187 [01:23<00:00,  2.23it/s, acc=66, loss=0.6]    \n",
      "Valid--Epoch [179/400]: 100%|██████████| 44/44 [00:09<00:00,  4.86it/s, acc=61.9, loss=0.811]"
     ]
    },
    {
     "name": "stdout",
     "output_type": "stream",
     "text": [
      "\n",
      " epoch: 180/400\n"
     ]
    },
    {
     "name": "stderr",
     "output_type": "stream",
     "text": [
      "\n",
      "Train--Epoch [180/400]: 100%|██████████| 187/187 [01:24<00:00,  2.22it/s, acc=66.3, loss=0.598]\n",
      "Valid--Epoch [180/400]: 100%|██████████| 44/44 [00:09<00:00,  4.81it/s, acc=63.3, loss=0.766]\n"
     ]
    },
    {
     "name": "stdout",
     "output_type": "stream",
     "text": [
      "Saving..\n",
      "\n",
      " epoch: 181/400\n"
     ]
    },
    {
     "name": "stderr",
     "output_type": "stream",
     "text": [
      "Train--Epoch [181/400]: 100%|██████████| 187/187 [01:23<00:00,  2.23it/s, acc=66.2, loss=0.598]\n",
      "Valid--Epoch [181/400]: 100%|██████████| 44/44 [00:09<00:00,  4.83it/s, acc=63, loss=0.77]   "
     ]
    },
    {
     "name": "stdout",
     "output_type": "stream",
     "text": [
      "\n",
      " epoch: 182/400\n"
     ]
    },
    {
     "name": "stderr",
     "output_type": "stream",
     "text": [
      "\n",
      "Train--Epoch [182/400]: 100%|██████████| 187/187 [01:23<00:00,  2.24it/s, acc=66, loss=0.599]  \n",
      "Valid--Epoch [182/400]: 100%|██████████| 44/44 [00:08<00:00,  5.06it/s, acc=64.1, loss=0.733]\n"
     ]
    },
    {
     "name": "stdout",
     "output_type": "stream",
     "text": [
      "Saving..\n",
      "\n",
      " epoch: 183/400\n"
     ]
    },
    {
     "name": "stderr",
     "output_type": "stream",
     "text": [
      "Train--Epoch [183/400]: 100%|██████████| 187/187 [01:23<00:00,  2.23it/s, acc=66.1, loss=0.597]\n",
      "Valid--Epoch [183/400]: 100%|██████████| 44/44 [00:09<00:00,  4.83it/s, acc=61.9, loss=0.809]"
     ]
    },
    {
     "name": "stdout",
     "output_type": "stream",
     "text": [
      "\n",
      " epoch: 184/400\n"
     ]
    },
    {
     "name": "stderr",
     "output_type": "stream",
     "text": [
      "\n",
      "Train--Epoch [184/400]: 100%|██████████| 187/187 [01:23<00:00,  2.24it/s, acc=66.4, loss=0.596]\n",
      "Valid--Epoch [184/400]: 100%|██████████| 44/44 [00:09<00:00,  4.87it/s, acc=61.5, loss=0.827]"
     ]
    },
    {
     "name": "stdout",
     "output_type": "stream",
     "text": [
      "\n",
      " epoch: 185/400\n"
     ]
    },
    {
     "name": "stderr",
     "output_type": "stream",
     "text": [
      "\n",
      "Train--Epoch [185/400]: 100%|██████████| 187/187 [01:24<00:00,  2.21it/s, acc=66.2, loss=0.596]\n",
      "Valid--Epoch [185/400]: 100%|██████████| 44/44 [00:08<00:00,  5.01it/s, acc=61.4, loss=0.835]"
     ]
    },
    {
     "name": "stdout",
     "output_type": "stream",
     "text": [
      "\n",
      " epoch: 186/400\n"
     ]
    },
    {
     "name": "stderr",
     "output_type": "stream",
     "text": [
      "\n",
      "Train--Epoch [186/400]: 100%|██████████| 187/187 [01:23<00:00,  2.23it/s, acc=66.6, loss=0.595]\n",
      "Valid--Epoch [186/400]: 100%|██████████| 44/44 [00:08<00:00,  4.93it/s, acc=64.3, loss=0.747]\n"
     ]
    },
    {
     "name": "stdout",
     "output_type": "stream",
     "text": [
      "Saving..\n",
      "\n",
      " epoch: 187/400\n"
     ]
    },
    {
     "name": "stderr",
     "output_type": "stream",
     "text": [
      "Train--Epoch [187/400]: 100%|██████████| 187/187 [01:24<00:00,  2.22it/s, acc=66.5, loss=0.595]\n",
      "Valid--Epoch [187/400]: 100%|██████████| 44/44 [00:08<00:00,  4.99it/s, acc=63, loss=0.782]  "
     ]
    },
    {
     "name": "stdout",
     "output_type": "stream",
     "text": [
      "\n",
      " epoch: 188/400\n"
     ]
    },
    {
     "name": "stderr",
     "output_type": "stream",
     "text": [
      "\n",
      "Train--Epoch [188/400]: 100%|██████████| 187/187 [01:24<00:00,  2.22it/s, acc=66.8, loss=0.592]\n",
      "Valid--Epoch [188/400]: 100%|██████████| 44/44 [00:09<00:00,  4.87it/s, acc=62.1, loss=0.811]"
     ]
    },
    {
     "name": "stdout",
     "output_type": "stream",
     "text": [
      "\n",
      " epoch: 189/400\n"
     ]
    },
    {
     "name": "stderr",
     "output_type": "stream",
     "text": [
      "\n",
      "Train--Epoch [189/400]: 100%|██████████| 187/187 [01:23<00:00,  2.24it/s, acc=66.6, loss=0.594]\n",
      "Valid--Epoch [189/400]: 100%|██████████| 44/44 [00:08<00:00,  5.01it/s, acc=64.3, loss=0.742]\n"
     ]
    },
    {
     "name": "stdout",
     "output_type": "stream",
     "text": [
      "Saving..\n",
      "\n",
      " epoch: 190/400\n"
     ]
    },
    {
     "name": "stderr",
     "output_type": "stream",
     "text": [
      "Train--Epoch [190/400]: 100%|██████████| 187/187 [01:23<00:00,  2.23it/s, acc=66.5, loss=0.593]\n",
      "Valid--Epoch [190/400]: 100%|██████████| 44/44 [00:09<00:00,  4.88it/s, acc=62.4, loss=0.805]"
     ]
    },
    {
     "name": "stdout",
     "output_type": "stream",
     "text": [
      "\n",
      " epoch: 191/400\n"
     ]
    },
    {
     "name": "stderr",
     "output_type": "stream",
     "text": [
      "\n",
      "Train--Epoch [191/400]: 100%|██████████| 187/187 [01:23<00:00,  2.23it/s, acc=67, loss=0.591]  \n",
      "Valid--Epoch [191/400]: 100%|██████████| 44/44 [00:09<00:00,  4.88it/s, acc=63.8, loss=0.758]"
     ]
    },
    {
     "name": "stdout",
     "output_type": "stream",
     "text": [
      "\n",
      " epoch: 192/400\n"
     ]
    },
    {
     "name": "stderr",
     "output_type": "stream",
     "text": [
      "\n",
      "Train--Epoch [192/400]: 100%|██████████| 187/187 [01:24<00:00,  2.22it/s, acc=66.8, loss=0.592]\n",
      "Valid--Epoch [192/400]: 100%|██████████| 44/44 [00:08<00:00,  4.92it/s, acc=61.1, loss=0.843]"
     ]
    },
    {
     "name": "stdout",
     "output_type": "stream",
     "text": [
      "\n",
      " epoch: 193/400\n"
     ]
    },
    {
     "name": "stderr",
     "output_type": "stream",
     "text": [
      "\n",
      "Train--Epoch [193/400]: 100%|██████████| 187/187 [01:24<00:00,  2.23it/s, acc=66.9, loss=0.591]\n",
      "Valid--Epoch [193/400]: 100%|██████████| 44/44 [00:09<00:00,  4.85it/s, acc=64, loss=0.748]  "
     ]
    },
    {
     "name": "stdout",
     "output_type": "stream",
     "text": [
      "\n",
      " epoch: 194/400\n"
     ]
    },
    {
     "name": "stderr",
     "output_type": "stream",
     "text": [
      "\n",
      "Train--Epoch [194/400]: 100%|██████████| 187/187 [01:23<00:00,  2.23it/s, acc=67, loss=0.591]  \n",
      "Valid--Epoch [194/400]: 100%|██████████| 44/44 [00:08<00:00,  5.15it/s, acc=63.1, loss=0.789]"
     ]
    },
    {
     "name": "stdout",
     "output_type": "stream",
     "text": [
      "\n",
      " epoch: 195/400\n"
     ]
    },
    {
     "name": "stderr",
     "output_type": "stream",
     "text": [
      "\n",
      "Train--Epoch [195/400]: 100%|██████████| 187/187 [01:24<00:00,  2.22it/s, acc=67.2, loss=0.589]\n",
      "Valid--Epoch [195/400]: 100%|██████████| 44/44 [00:08<00:00,  4.90it/s, acc=63.5, loss=0.775]"
     ]
    },
    {
     "name": "stdout",
     "output_type": "stream",
     "text": [
      "\n",
      " epoch: 196/400\n"
     ]
    },
    {
     "name": "stderr",
     "output_type": "stream",
     "text": [
      "\n",
      "Train--Epoch [196/400]: 100%|██████████| 187/187 [01:23<00:00,  2.24it/s, acc=67.1, loss=0.59] \n",
      "Valid--Epoch [196/400]: 100%|██████████| 44/44 [00:08<00:00,  5.04it/s, acc=64.4, loss=0.742]\n"
     ]
    },
    {
     "name": "stdout",
     "output_type": "stream",
     "text": [
      "Saving..\n",
      "\n",
      " epoch: 197/400\n"
     ]
    },
    {
     "name": "stderr",
     "output_type": "stream",
     "text": [
      "Train--Epoch [197/400]: 100%|██████████| 187/187 [01:23<00:00,  2.23it/s, acc=67.1, loss=0.589]\n",
      "Valid--Epoch [197/400]: 100%|██████████| 44/44 [00:08<00:00,  4.91it/s, acc=65.6, loss=0.709]\n"
     ]
    },
    {
     "name": "stdout",
     "output_type": "stream",
     "text": [
      "Saving..\n",
      "\n",
      " epoch: 198/400\n"
     ]
    },
    {
     "name": "stderr",
     "output_type": "stream",
     "text": [
      "Train--Epoch [198/400]: 100%|██████████| 187/187 [01:23<00:00,  2.23it/s, acc=67.2, loss=0.589]\n",
      "Valid--Epoch [198/400]: 100%|██████████| 44/44 [00:08<00:00,  4.96it/s, acc=65, loss=0.722]  "
     ]
    },
    {
     "name": "stdout",
     "output_type": "stream",
     "text": [
      "\n",
      " epoch: 199/400\n"
     ]
    },
    {
     "name": "stderr",
     "output_type": "stream",
     "text": [
      "\n",
      "Train--Epoch [199/400]: 100%|██████████| 187/187 [01:23<00:00,  2.23it/s, acc=66.9, loss=0.589]\n",
      "Valid--Epoch [199/400]: 100%|██████████| 44/44 [00:08<00:00,  4.94it/s, acc=62.5, loss=0.807]"
     ]
    },
    {
     "name": "stdout",
     "output_type": "stream",
     "text": [
      "\n",
      " epoch: 200/400\n"
     ]
    },
    {
     "name": "stderr",
     "output_type": "stream",
     "text": [
      "\n",
      "Train--Epoch [200/400]: 100%|██████████| 187/187 [01:23<00:00,  2.24it/s, acc=67.3, loss=0.587]\n",
      "Valid--Epoch [200/400]: 100%|██████████| 44/44 [00:09<00:00,  4.82it/s, acc=64.8, loss=0.733]"
     ]
    },
    {
     "name": "stdout",
     "output_type": "stream",
     "text": [
      "\n",
      " epoch: 201/400\n"
     ]
    },
    {
     "name": "stderr",
     "output_type": "stream",
     "text": [
      "\n",
      "Train--Epoch [201/400]: 100%|██████████| 187/187 [01:24<00:00,  2.22it/s, acc=67.2, loss=0.588]\n",
      "Valid--Epoch [201/400]: 100%|██████████| 44/44 [00:08<00:00,  4.99it/s, acc=64.1, loss=0.75] "
     ]
    },
    {
     "name": "stdout",
     "output_type": "stream",
     "text": [
      "\n",
      " epoch: 202/400\n"
     ]
    },
    {
     "name": "stderr",
     "output_type": "stream",
     "text": [
      "\n",
      "Train--Epoch [202/400]: 100%|██████████| 187/187 [01:23<00:00,  2.24it/s, acc=67.5, loss=0.586]\n",
      "Valid--Epoch [202/400]: 100%|██████████| 44/44 [00:08<00:00,  5.16it/s, acc=64.2, loss=0.743]"
     ]
    },
    {
     "name": "stdout",
     "output_type": "stream",
     "text": [
      "\n",
      " epoch: 203/400\n"
     ]
    },
    {
     "name": "stderr",
     "output_type": "stream",
     "text": [
      "\n",
      "Train--Epoch [203/400]: 100%|██████████| 187/187 [01:23<00:00,  2.23it/s, acc=67.3, loss=0.587]\n",
      "Valid--Epoch [203/400]: 100%|██████████| 44/44 [00:09<00:00,  4.67it/s, acc=66.1, loss=0.693]\n"
     ]
    },
    {
     "name": "stdout",
     "output_type": "stream",
     "text": [
      "Saving..\n",
      "\n",
      " epoch: 204/400\n"
     ]
    },
    {
     "name": "stderr",
     "output_type": "stream",
     "text": [
      "Train--Epoch [204/400]: 100%|██████████| 187/187 [01:23<00:00,  2.24it/s, acc=67.4, loss=0.585]\n",
      "Valid--Epoch [204/400]: 100%|██████████| 44/44 [00:08<00:00,  5.16it/s, acc=65.2, loss=0.717]"
     ]
    },
    {
     "name": "stdout",
     "output_type": "stream",
     "text": [
      "\n",
      " epoch: 205/400\n"
     ]
    },
    {
     "name": "stderr",
     "output_type": "stream",
     "text": [
      "\n",
      "Train--Epoch [205/400]: 100%|██████████| 187/187 [01:23<00:00,  2.24it/s, acc=67.4, loss=0.586]\n",
      "Valid--Epoch [205/400]: 100%|██████████| 44/44 [00:08<00:00,  4.89it/s, acc=65.4, loss=0.713]"
     ]
    },
    {
     "name": "stdout",
     "output_type": "stream",
     "text": [
      "\n",
      " epoch: 206/400\n"
     ]
    },
    {
     "name": "stderr",
     "output_type": "stream",
     "text": [
      "\n",
      "Train--Epoch [206/400]: 100%|██████████| 187/187 [01:23<00:00,  2.24it/s, acc=67.3, loss=0.587]\n",
      "Valid--Epoch [206/400]: 100%|██████████| 44/44 [00:08<00:00,  4.99it/s, acc=63.7, loss=0.777]"
     ]
    },
    {
     "name": "stdout",
     "output_type": "stream",
     "text": [
      "\n",
      " epoch: 207/400\n"
     ]
    },
    {
     "name": "stderr",
     "output_type": "stream",
     "text": [
      "\n",
      "Train--Epoch [207/400]: 100%|██████████| 187/187 [01:23<00:00,  2.23it/s, acc=67.3, loss=0.586]\n",
      "Valid--Epoch [207/400]: 100%|██████████| 44/44 [00:09<00:00,  4.85it/s, acc=64.7, loss=0.737]"
     ]
    },
    {
     "name": "stdout",
     "output_type": "stream",
     "text": [
      "\n",
      " epoch: 208/400\n"
     ]
    },
    {
     "name": "stderr",
     "output_type": "stream",
     "text": [
      "\n",
      "Train--Epoch [208/400]: 100%|██████████| 187/187 [01:23<00:00,  2.23it/s, acc=67.5, loss=0.585]\n",
      "Valid--Epoch [208/400]: 100%|██████████| 44/44 [00:08<00:00,  5.04it/s, acc=64.8, loss=0.732]"
     ]
    },
    {
     "name": "stdout",
     "output_type": "stream",
     "text": [
      "\n",
      " epoch: 209/400\n"
     ]
    },
    {
     "name": "stderr",
     "output_type": "stream",
     "text": [
      "\n",
      "Train--Epoch [209/400]: 100%|██████████| 187/187 [01:23<00:00,  2.23it/s, acc=67.4, loss=0.586]\n",
      "Valid--Epoch [209/400]: 100%|██████████| 44/44 [00:08<00:00,  4.90it/s, acc=65, loss=0.724]  "
     ]
    },
    {
     "name": "stdout",
     "output_type": "stream",
     "text": [
      "\n",
      " epoch: 210/400\n"
     ]
    },
    {
     "name": "stderr",
     "output_type": "stream",
     "text": [
      "\n",
      "Train--Epoch [210/400]: 100%|██████████| 187/187 [01:23<00:00,  2.24it/s, acc=67.6, loss=0.584]\n",
      "Valid--Epoch [210/400]: 100%|██████████| 44/44 [00:09<00:00,  4.82it/s, acc=66, loss=0.698]  "
     ]
    },
    {
     "name": "stdout",
     "output_type": "stream",
     "text": [
      "\n",
      " epoch: 211/400\n"
     ]
    },
    {
     "name": "stderr",
     "output_type": "stream",
     "text": [
      "\n",
      "Train--Epoch [211/400]: 100%|██████████| 187/187 [01:23<00:00,  2.24it/s, acc=67.7, loss=0.582]\n",
      "Valid--Epoch [211/400]: 100%|██████████| 44/44 [00:09<00:00,  4.76it/s, acc=65.8, loss=0.699]"
     ]
    },
    {
     "name": "stdout",
     "output_type": "stream",
     "text": [
      "\n",
      " epoch: 212/400\n"
     ]
    },
    {
     "name": "stderr",
     "output_type": "stream",
     "text": [
      "\n",
      "Train--Epoch [212/400]: 100%|██████████| 187/187 [01:23<00:00,  2.23it/s, acc=67.5, loss=0.584]\n",
      "Valid--Epoch [212/400]: 100%|██████████| 44/44 [00:09<00:00,  4.88it/s, acc=65.6, loss=0.706]"
     ]
    },
    {
     "name": "stdout",
     "output_type": "stream",
     "text": [
      "\n",
      " epoch: 213/400\n"
     ]
    },
    {
     "name": "stderr",
     "output_type": "stream",
     "text": [
      "\n",
      "Train--Epoch [213/400]: 100%|██████████| 187/187 [01:24<00:00,  2.23it/s, acc=67.9, loss=0.581]\n",
      "Valid--Epoch [213/400]: 100%|██████████| 44/44 [00:09<00:00,  4.81it/s, acc=65.5, loss=0.713]"
     ]
    },
    {
     "name": "stdout",
     "output_type": "stream",
     "text": [
      "\n",
      " epoch: 214/400\n"
     ]
    },
    {
     "name": "stderr",
     "output_type": "stream",
     "text": [
      "\n",
      "Train--Epoch [214/400]: 100%|██████████| 187/187 [01:24<00:00,  2.22it/s, acc=67.8, loss=0.582]\n",
      "Valid--Epoch [214/400]: 100%|██████████| 44/44 [00:09<00:00,  4.67it/s, acc=64.3, loss=0.757]"
     ]
    },
    {
     "name": "stdout",
     "output_type": "stream",
     "text": [
      "\n",
      " epoch: 215/400\n"
     ]
    },
    {
     "name": "stderr",
     "output_type": "stream",
     "text": [
      "\n",
      "Train--Epoch [215/400]: 100%|██████████| 187/187 [01:23<00:00,  2.23it/s, acc=68, loss=0.58]   \n",
      "Valid--Epoch [215/400]: 100%|██████████| 44/44 [00:09<00:00,  4.88it/s, acc=65.6, loss=0.711]"
     ]
    },
    {
     "name": "stdout",
     "output_type": "stream",
     "text": [
      "\n",
      " epoch: 216/400\n"
     ]
    },
    {
     "name": "stderr",
     "output_type": "stream",
     "text": [
      "\n",
      "Train--Epoch [216/400]: 100%|██████████| 187/187 [01:23<00:00,  2.25it/s, acc=67.9, loss=0.582]\n",
      "Valid--Epoch [216/400]: 100%|██████████| 44/44 [00:08<00:00,  5.04it/s, acc=66.9, loss=0.678]\n"
     ]
    },
    {
     "name": "stdout",
     "output_type": "stream",
     "text": [
      "Saving..\n",
      "\n",
      " epoch: 217/400\n"
     ]
    },
    {
     "name": "stderr",
     "output_type": "stream",
     "text": [
      "Train--Epoch [217/400]: 100%|██████████| 187/187 [01:23<00:00,  2.24it/s, acc=67.8, loss=0.583]\n",
      "Valid--Epoch [217/400]: 100%|██████████| 44/44 [00:08<00:00,  5.13it/s, acc=65.8, loss=0.703]"
     ]
    },
    {
     "name": "stdout",
     "output_type": "stream",
     "text": [
      "\n",
      " epoch: 218/400\n"
     ]
    },
    {
     "name": "stderr",
     "output_type": "stream",
     "text": [
      "\n",
      "Train--Epoch [218/400]: 100%|██████████| 187/187 [01:23<00:00,  2.24it/s, acc=68, loss=0.58]   \n",
      "Valid--Epoch [218/400]: 100%|██████████| 44/44 [00:08<00:00,  5.17it/s, acc=65.4, loss=0.713]"
     ]
    },
    {
     "name": "stdout",
     "output_type": "stream",
     "text": [
      "\n",
      " epoch: 219/400\n"
     ]
    },
    {
     "name": "stderr",
     "output_type": "stream",
     "text": [
      "\n",
      "Train--Epoch [219/400]: 100%|██████████| 187/187 [01:23<00:00,  2.24it/s, acc=68.4, loss=0.578]\n",
      "Valid--Epoch [219/400]: 100%|██████████| 44/44 [00:08<00:00,  5.06it/s, acc=64.5, loss=0.736]"
     ]
    },
    {
     "name": "stdout",
     "output_type": "stream",
     "text": [
      "\n",
      " epoch: 220/400\n"
     ]
    },
    {
     "name": "stderr",
     "output_type": "stream",
     "text": [
      "\n",
      "Train--Epoch [220/400]: 100%|██████████| 187/187 [01:23<00:00,  2.25it/s, acc=68.2, loss=0.578]\n",
      "Valid--Epoch [220/400]: 100%|██████████| 44/44 [00:08<00:00,  5.07it/s, acc=64.4, loss=0.752]"
     ]
    },
    {
     "name": "stdout",
     "output_type": "stream",
     "text": [
      "\n",
      " epoch: 221/400\n"
     ]
    },
    {
     "name": "stderr",
     "output_type": "stream",
     "text": [
      "\n",
      "Train--Epoch [221/400]: 100%|██████████| 187/187 [01:23<00:00,  2.24it/s, acc=68.2, loss=0.579]\n",
      "Valid--Epoch [221/400]: 100%|██████████| 44/44 [00:08<00:00,  5.07it/s, acc=65.4, loss=0.724]"
     ]
    },
    {
     "name": "stdout",
     "output_type": "stream",
     "text": [
      "\n",
      " epoch: 222/400\n"
     ]
    },
    {
     "name": "stderr",
     "output_type": "stream",
     "text": [
      "\n",
      "Train--Epoch [222/400]: 100%|██████████| 187/187 [01:23<00:00,  2.24it/s, acc=68.3, loss=0.577]\n",
      "Valid--Epoch [222/400]: 100%|██████████| 44/44 [00:08<00:00,  4.96it/s, acc=65, loss=0.73]   "
     ]
    },
    {
     "name": "stdout",
     "output_type": "stream",
     "text": [
      "\n",
      " epoch: 223/400\n"
     ]
    },
    {
     "name": "stderr",
     "output_type": "stream",
     "text": [
      "\n",
      "Train--Epoch [223/400]: 100%|██████████| 187/187 [01:23<00:00,  2.24it/s, acc=68, loss=0.579]  \n",
      "Valid--Epoch [223/400]: 100%|██████████| 44/44 [00:08<00:00,  5.01it/s, acc=66, loss=0.704]  "
     ]
    },
    {
     "name": "stdout",
     "output_type": "stream",
     "text": [
      "\n",
      " epoch: 224/400\n"
     ]
    },
    {
     "name": "stderr",
     "output_type": "stream",
     "text": [
      "\n",
      "Train--Epoch [224/400]: 100%|██████████| 187/187 [01:24<00:00,  2.22it/s, acc=68.3, loss=0.578]\n",
      "Valid--Epoch [224/400]: 100%|██████████| 44/44 [00:09<00:00,  4.78it/s, acc=65.6, loss=0.709]"
     ]
    },
    {
     "name": "stdout",
     "output_type": "stream",
     "text": [
      "\n",
      " epoch: 225/400\n"
     ]
    },
    {
     "name": "stderr",
     "output_type": "stream",
     "text": [
      "\n",
      "Train--Epoch [225/400]: 100%|██████████| 187/187 [01:23<00:00,  2.23it/s, acc=68.1, loss=0.578]\n",
      "Valid--Epoch [225/400]: 100%|██████████| 44/44 [00:08<00:00,  5.16it/s, acc=63.5, loss=0.766]"
     ]
    },
    {
     "name": "stdout",
     "output_type": "stream",
     "text": [
      "\n",
      " epoch: 226/400\n"
     ]
    },
    {
     "name": "stderr",
     "output_type": "stream",
     "text": [
      "\n",
      "Train--Epoch [226/400]: 100%|██████████| 187/187 [01:23<00:00,  2.24it/s, acc=68.4, loss=0.577]\n",
      "Valid--Epoch [226/400]: 100%|██████████| 44/44 [00:08<00:00,  4.95it/s, acc=66.9, loss=0.675]\n"
     ]
    },
    {
     "name": "stdout",
     "output_type": "stream",
     "text": [
      "Saving..\n",
      "\n",
      " epoch: 227/400\n"
     ]
    },
    {
     "name": "stderr",
     "output_type": "stream",
     "text": [
      "Train--Epoch [227/400]: 100%|██████████| 187/187 [01:23<00:00,  2.24it/s, acc=68.4, loss=0.576]\n",
      "Valid--Epoch [227/400]: 100%|██████████| 44/44 [00:09<00:00,  4.68it/s, acc=66.5, loss=0.683]"
     ]
    },
    {
     "name": "stdout",
     "output_type": "stream",
     "text": [
      "\n",
      " epoch: 228/400\n"
     ]
    },
    {
     "name": "stderr",
     "output_type": "stream",
     "text": [
      "\n",
      "Train--Epoch [228/400]: 100%|██████████| 187/187 [01:23<00:00,  2.24it/s, acc=68.3, loss=0.577]\n",
      "Valid--Epoch [228/400]: 100%|██████████| 44/44 [00:08<00:00,  4.99it/s, acc=66, loss=0.701]  "
     ]
    },
    {
     "name": "stdout",
     "output_type": "stream",
     "text": [
      "\n",
      " epoch: 229/400\n"
     ]
    },
    {
     "name": "stderr",
     "output_type": "stream",
     "text": [
      "\n",
      "Train--Epoch [229/400]: 100%|██████████| 187/187 [01:23<00:00,  2.23it/s, acc=68.7, loss=0.575]\n",
      "Valid--Epoch [229/400]: 100%|██████████| 44/44 [00:08<00:00,  5.16it/s, acc=66.6, loss=0.682]"
     ]
    },
    {
     "name": "stdout",
     "output_type": "stream",
     "text": [
      "\n",
      " epoch: 230/400\n"
     ]
    },
    {
     "name": "stderr",
     "output_type": "stream",
     "text": [
      "\n",
      "Train--Epoch [230/400]: 100%|██████████| 187/187 [01:23<00:00,  2.24it/s, acc=68.5, loss=0.575]\n",
      "Valid--Epoch [230/400]: 100%|██████████| 44/44 [00:09<00:00,  4.82it/s, acc=66.2, loss=0.691]"
     ]
    },
    {
     "name": "stdout",
     "output_type": "stream",
     "text": [
      "\n",
      " epoch: 231/400\n"
     ]
    },
    {
     "name": "stderr",
     "output_type": "stream",
     "text": [
      "\n",
      "Train--Epoch [231/400]: 100%|██████████| 187/187 [01:23<00:00,  2.24it/s, acc=68.8, loss=0.572]\n",
      "Valid--Epoch [231/400]: 100%|██████████| 44/44 [00:08<00:00,  5.11it/s, acc=64.9, loss=0.724]"
     ]
    },
    {
     "name": "stdout",
     "output_type": "stream",
     "text": [
      "\n",
      " epoch: 232/400\n"
     ]
    },
    {
     "name": "stderr",
     "output_type": "stream",
     "text": [
      "\n",
      "Train--Epoch [232/400]: 100%|██████████| 187/187 [01:23<00:00,  2.24it/s, acc=68.5, loss=0.575]\n",
      "Valid--Epoch [232/400]: 100%|██████████| 44/44 [00:08<00:00,  5.15it/s, acc=66.4, loss=0.687]"
     ]
    },
    {
     "name": "stdout",
     "output_type": "stream",
     "text": [
      "\n",
      " epoch: 233/400\n"
     ]
    },
    {
     "name": "stderr",
     "output_type": "stream",
     "text": [
      "\n",
      "Train--Epoch [233/400]: 100%|██████████| 187/187 [01:23<00:00,  2.23it/s, acc=68.5, loss=0.574]\n",
      "Valid--Epoch [233/400]: 100%|██████████| 44/44 [00:09<00:00,  4.79it/s, acc=64.6, loss=0.734]"
     ]
    },
    {
     "name": "stdout",
     "output_type": "stream",
     "text": [
      "\n",
      " epoch: 234/400\n"
     ]
    },
    {
     "name": "stderr",
     "output_type": "stream",
     "text": [
      "\n",
      "Train--Epoch [234/400]: 100%|██████████| 187/187 [01:23<00:00,  2.23it/s, acc=68.7, loss=0.574]\n",
      "Valid--Epoch [234/400]: 100%|██████████| 44/44 [00:08<00:00,  4.91it/s, acc=66.3, loss=0.685]"
     ]
    },
    {
     "name": "stdout",
     "output_type": "stream",
     "text": [
      "\n",
      " epoch: 235/400\n"
     ]
    },
    {
     "name": "stderr",
     "output_type": "stream",
     "text": [
      "\n",
      "Train--Epoch [235/400]: 100%|██████████| 187/187 [01:23<00:00,  2.24it/s, acc=68.6, loss=0.573]\n",
      "Valid--Epoch [235/400]: 100%|██████████| 44/44 [00:08<00:00,  5.22it/s, acc=67.5, loss=0.653]\n"
     ]
    },
    {
     "name": "stdout",
     "output_type": "stream",
     "text": [
      "Saving..\n",
      "\n",
      " epoch: 236/400\n"
     ]
    },
    {
     "name": "stderr",
     "output_type": "stream",
     "text": [
      "Train--Epoch [236/400]: 100%|██████████| 187/187 [01:23<00:00,  2.24it/s, acc=68.5, loss=0.575]\n",
      "Valid--Epoch [236/400]: 100%|██████████| 44/44 [00:08<00:00,  5.20it/s, acc=67.3, loss=0.661]"
     ]
    },
    {
     "name": "stdout",
     "output_type": "stream",
     "text": [
      "\n",
      " epoch: 237/400\n"
     ]
    },
    {
     "name": "stderr",
     "output_type": "stream",
     "text": [
      "\n",
      "Train--Epoch [237/400]: 100%|██████████| 187/187 [01:23<00:00,  2.24it/s, acc=68.6, loss=0.574]\n",
      "Valid--Epoch [237/400]: 100%|██████████| 44/44 [00:08<00:00,  5.07it/s, acc=68.2, loss=0.641]\n"
     ]
    },
    {
     "name": "stdout",
     "output_type": "stream",
     "text": [
      "Saving..\n",
      "\n",
      " epoch: 238/400\n"
     ]
    },
    {
     "name": "stderr",
     "output_type": "stream",
     "text": [
      "Train--Epoch [238/400]: 100%|██████████| 187/187 [01:23<00:00,  2.24it/s, acc=68.7, loss=0.574]\n",
      "Valid--Epoch [238/400]: 100%|██████████| 44/44 [00:08<00:00,  4.98it/s, acc=67, loss=0.664]  "
     ]
    },
    {
     "name": "stdout",
     "output_type": "stream",
     "text": [
      "\n",
      " epoch: 239/400\n"
     ]
    },
    {
     "name": "stderr",
     "output_type": "stream",
     "text": [
      "\n",
      "Train--Epoch [239/400]: 100%|██████████| 187/187 [01:23<00:00,  2.23it/s, acc=68.8, loss=0.572]\n",
      "Valid--Epoch [239/400]: 100%|██████████| 44/44 [00:08<00:00,  5.03it/s, acc=67.6, loss=0.649]"
     ]
    },
    {
     "name": "stdout",
     "output_type": "stream",
     "text": [
      "\n",
      " epoch: 240/400\n"
     ]
    },
    {
     "name": "stderr",
     "output_type": "stream",
     "text": [
      "\n",
      "Train--Epoch [240/400]: 100%|██████████| 187/187 [01:23<00:00,  2.23it/s, acc=68.8, loss=0.571]\n",
      "Valid--Epoch [240/400]: 100%|██████████| 44/44 [00:08<00:00,  5.24it/s, acc=64.1, loss=0.737]"
     ]
    },
    {
     "name": "stdout",
     "output_type": "stream",
     "text": [
      "\n",
      " epoch: 241/400\n"
     ]
    },
    {
     "name": "stderr",
     "output_type": "stream",
     "text": [
      "\n",
      "Train--Epoch [241/400]: 100%|██████████| 187/187 [01:23<00:00,  2.23it/s, acc=68.8, loss=0.573]\n",
      "Valid--Epoch [241/400]: 100%|██████████| 44/44 [00:08<00:00,  5.15it/s, acc=64.9, loss=0.715]"
     ]
    },
    {
     "name": "stdout",
     "output_type": "stream",
     "text": [
      "\n",
      " epoch: 242/400\n"
     ]
    },
    {
     "name": "stderr",
     "output_type": "stream",
     "text": [
      "\n",
      "Train--Epoch [242/400]: 100%|██████████| 187/187 [01:23<00:00,  2.24it/s, acc=68.9, loss=0.571]\n",
      "Valid--Epoch [242/400]: 100%|██████████| 44/44 [00:08<00:00,  5.16it/s, acc=65.1, loss=0.702]"
     ]
    },
    {
     "name": "stdout",
     "output_type": "stream",
     "text": [
      "\n",
      " epoch: 243/400\n"
     ]
    },
    {
     "name": "stderr",
     "output_type": "stream",
     "text": [
      "\n",
      "Train--Epoch [243/400]: 100%|██████████| 187/187 [01:23<00:00,  2.24it/s, acc=68.9, loss=0.57] \n",
      "Valid--Epoch [243/400]: 100%|██████████| 44/44 [00:08<00:00,  5.07it/s, acc=67.7, loss=0.655]"
     ]
    },
    {
     "name": "stdout",
     "output_type": "stream",
     "text": [
      "\n",
      " epoch: 244/400\n"
     ]
    },
    {
     "name": "stderr",
     "output_type": "stream",
     "text": [
      "\n",
      "Train--Epoch [244/400]: 100%|██████████| 187/187 [01:24<00:00,  2.22it/s, acc=68.9, loss=0.57] \n",
      "Valid--Epoch [244/400]: 100%|██████████| 44/44 [00:08<00:00,  4.97it/s, acc=66.2, loss=0.683]"
     ]
    },
    {
     "name": "stdout",
     "output_type": "stream",
     "text": [
      "\n",
      " epoch: 245/400\n"
     ]
    },
    {
     "name": "stderr",
     "output_type": "stream",
     "text": [
      "\n",
      "Train--Epoch [245/400]: 100%|██████████| 187/187 [01:24<00:00,  2.22it/s, acc=68.9, loss=0.57] \n",
      "Valid--Epoch [245/400]: 100%|██████████| 44/44 [00:09<00:00,  4.87it/s, acc=65.8, loss=0.69] "
     ]
    },
    {
     "name": "stdout",
     "output_type": "stream",
     "text": [
      "\n",
      " epoch: 246/400\n"
     ]
    },
    {
     "name": "stderr",
     "output_type": "stream",
     "text": [
      "\n",
      "Train--Epoch [246/400]: 100%|██████████| 187/187 [01:24<00:00,  2.22it/s, acc=68.9, loss=0.569]\n",
      "Valid--Epoch [246/400]: 100%|██████████| 44/44 [00:08<00:00,  5.03it/s, acc=67, loss=0.662]  "
     ]
    },
    {
     "name": "stdout",
     "output_type": "stream",
     "text": [
      "\n",
      " epoch: 247/400\n"
     ]
    },
    {
     "name": "stderr",
     "output_type": "stream",
     "text": [
      "\n",
      "Train--Epoch [247/400]: 100%|██████████| 187/187 [01:23<00:00,  2.25it/s, acc=68.9, loss=0.569]\n",
      "Valid--Epoch [247/400]: 100%|██████████| 44/44 [00:08<00:00,  4.99it/s, acc=67.3, loss=0.662]"
     ]
    },
    {
     "name": "stdout",
     "output_type": "stream",
     "text": [
      "\n",
      " epoch: 248/400\n"
     ]
    },
    {
     "name": "stderr",
     "output_type": "stream",
     "text": [
      "\n",
      "Train--Epoch [248/400]: 100%|██████████| 187/187 [01:23<00:00,  2.23it/s, acc=69.1, loss=0.569]\n",
      "Valid--Epoch [248/400]: 100%|██████████| 44/44 [00:08<00:00,  5.19it/s, acc=65.8, loss=0.688]"
     ]
    },
    {
     "name": "stdout",
     "output_type": "stream",
     "text": [
      "\n",
      " epoch: 249/400\n"
     ]
    },
    {
     "name": "stderr",
     "output_type": "stream",
     "text": [
      "\n",
      "Train--Epoch [249/400]: 100%|██████████| 187/187 [01:23<00:00,  2.24it/s, acc=69, loss=0.568]  \n",
      "Valid--Epoch [249/400]: 100%|██████████| 44/44 [00:08<00:00,  5.08it/s, acc=65.8, loss=0.683]"
     ]
    },
    {
     "name": "stdout",
     "output_type": "stream",
     "text": [
      "\n",
      " epoch: 250/400\n"
     ]
    },
    {
     "name": "stderr",
     "output_type": "stream",
     "text": [
      "\n",
      "Train--Epoch [250/400]: 100%|██████████| 187/187 [01:24<00:00,  2.22it/s, acc=69.2, loss=0.568]\n",
      "Valid--Epoch [250/400]: 100%|██████████| 44/44 [00:08<00:00,  5.07it/s, acc=67.2, loss=0.654]"
     ]
    },
    {
     "name": "stdout",
     "output_type": "stream",
     "text": [
      "\n",
      " epoch: 251/400\n"
     ]
    },
    {
     "name": "stderr",
     "output_type": "stream",
     "text": [
      "\n",
      "Train--Epoch [251/400]: 100%|██████████| 187/187 [01:23<00:00,  2.24it/s, acc=69.2, loss=0.566]\n",
      "Valid--Epoch [251/400]: 100%|██████████| 44/44 [00:08<00:00,  5.21it/s, acc=68, loss=0.635]  "
     ]
    },
    {
     "name": "stdout",
     "output_type": "stream",
     "text": [
      "\n",
      " epoch: 252/400\n"
     ]
    },
    {
     "name": "stderr",
     "output_type": "stream",
     "text": [
      "\n",
      "Train--Epoch [252/400]: 100%|██████████| 187/187 [01:24<00:00,  2.22it/s, acc=69.1, loss=0.567]\n",
      "Valid--Epoch [252/400]: 100%|██████████| 44/44 [00:08<00:00,  4.97it/s, acc=65.8, loss=0.688]"
     ]
    },
    {
     "name": "stdout",
     "output_type": "stream",
     "text": [
      "\n",
      " epoch: 253/400\n"
     ]
    },
    {
     "name": "stderr",
     "output_type": "stream",
     "text": [
      "\n",
      "Train--Epoch [253/400]: 100%|██████████| 187/187 [01:23<00:00,  2.23it/s, acc=69.1, loss=0.569]\n",
      "Valid--Epoch [253/400]: 100%|██████████| 44/44 [00:08<00:00,  5.09it/s, acc=67.6, loss=0.648]"
     ]
    },
    {
     "name": "stdout",
     "output_type": "stream",
     "text": [
      "\n",
      " epoch: 254/400\n"
     ]
    },
    {
     "name": "stderr",
     "output_type": "stream",
     "text": [
      "\n",
      "Train--Epoch [254/400]: 100%|██████████| 187/187 [01:23<00:00,  2.23it/s, acc=69.1, loss=0.567]\n",
      "Valid--Epoch [254/400]: 100%|██████████| 44/44 [00:08<00:00,  5.05it/s, acc=68, loss=0.633]  "
     ]
    },
    {
     "name": "stdout",
     "output_type": "stream",
     "text": [
      "\n",
      " epoch: 255/400\n"
     ]
    },
    {
     "name": "stderr",
     "output_type": "stream",
     "text": [
      "\n",
      "Train--Epoch [255/400]: 100%|██████████| 187/187 [01:23<00:00,  2.24it/s, acc=69.4, loss=0.567]\n",
      "Valid--Epoch [255/400]: 100%|██████████| 44/44 [00:08<00:00,  5.07it/s, acc=66.4, loss=0.668]"
     ]
    },
    {
     "name": "stdout",
     "output_type": "stream",
     "text": [
      "\n",
      " epoch: 256/400\n"
     ]
    },
    {
     "name": "stderr",
     "output_type": "stream",
     "text": [
      "\n",
      "Train--Epoch [256/400]: 100%|██████████| 187/187 [01:23<00:00,  2.23it/s, acc=69.1, loss=0.569]\n",
      "Valid--Epoch [256/400]: 100%|██████████| 44/44 [00:09<00:00,  4.76it/s, acc=68.8, loss=0.618]\n"
     ]
    },
    {
     "name": "stdout",
     "output_type": "stream",
     "text": [
      "Saving..\n",
      "\n",
      " epoch: 257/400\n"
     ]
    },
    {
     "name": "stderr",
     "output_type": "stream",
     "text": [
      "Train--Epoch [257/400]: 100%|██████████| 187/187 [01:23<00:00,  2.24it/s, acc=69.2, loss=0.567]\n",
      "Valid--Epoch [257/400]: 100%|██████████| 44/44 [00:08<00:00,  5.31it/s, acc=65.7, loss=0.682]"
     ]
    },
    {
     "name": "stdout",
     "output_type": "stream",
     "text": [
      "\n",
      " epoch: 258/400\n"
     ]
    },
    {
     "name": "stderr",
     "output_type": "stream",
     "text": [
      "\n",
      "Train--Epoch [258/400]: 100%|██████████| 187/187 [01:23<00:00,  2.24it/s, acc=69.6, loss=0.564]\n",
      "Valid--Epoch [258/400]: 100%|██████████| 44/44 [00:08<00:00,  5.14it/s, acc=66.4, loss=0.67] "
     ]
    },
    {
     "name": "stdout",
     "output_type": "stream",
     "text": [
      "\n",
      " epoch: 259/400\n"
     ]
    },
    {
     "name": "stderr",
     "output_type": "stream",
     "text": [
      "\n",
      "Train--Epoch [259/400]: 100%|██████████| 187/187 [01:23<00:00,  2.23it/s, acc=69.3, loss=0.566]\n",
      "Valid--Epoch [259/400]: 100%|██████████| 44/44 [00:08<00:00,  5.18it/s, acc=66.9, loss=0.653]"
     ]
    },
    {
     "name": "stdout",
     "output_type": "stream",
     "text": [
      "\n",
      " epoch: 260/400\n"
     ]
    },
    {
     "name": "stderr",
     "output_type": "stream",
     "text": [
      "\n",
      "Train--Epoch [260/400]: 100%|██████████| 187/187 [01:23<00:00,  2.25it/s, acc=69.3, loss=0.565]\n",
      "Valid--Epoch [260/400]: 100%|██████████| 44/44 [00:08<00:00,  5.24it/s, acc=66, loss=0.677]  "
     ]
    },
    {
     "name": "stdout",
     "output_type": "stream",
     "text": [
      "\n",
      " epoch: 261/400\n"
     ]
    },
    {
     "name": "stderr",
     "output_type": "stream",
     "text": [
      "\n",
      "Train--Epoch [261/400]: 100%|██████████| 187/187 [01:23<00:00,  2.23it/s, acc=69.3, loss=0.565]\n",
      "Valid--Epoch [261/400]: 100%|██████████| 44/44 [00:09<00:00,  4.82it/s, acc=64.8, loss=0.705]"
     ]
    },
    {
     "name": "stdout",
     "output_type": "stream",
     "text": [
      "\n",
      " epoch: 262/400\n"
     ]
    },
    {
     "name": "stderr",
     "output_type": "stream",
     "text": [
      "\n",
      "Train--Epoch [262/400]: 100%|██████████| 187/187 [01:23<00:00,  2.24it/s, acc=69.7, loss=0.562]\n",
      "Valid--Epoch [262/400]: 100%|██████████| 44/44 [00:08<00:00,  5.13it/s, acc=66.6, loss=0.661]"
     ]
    },
    {
     "name": "stdout",
     "output_type": "stream",
     "text": [
      "\n",
      " epoch: 263/400\n"
     ]
    },
    {
     "name": "stderr",
     "output_type": "stream",
     "text": [
      "\n",
      "Train--Epoch [263/400]: 100%|██████████| 187/187 [01:23<00:00,  2.24it/s, acc=69.4, loss=0.563]\n",
      "Valid--Epoch [263/400]: 100%|██████████| 44/44 [00:08<00:00,  5.04it/s, acc=66.8, loss=0.658]"
     ]
    },
    {
     "name": "stdout",
     "output_type": "stream",
     "text": [
      "\n",
      " epoch: 264/400\n"
     ]
    },
    {
     "name": "stderr",
     "output_type": "stream",
     "text": [
      "\n",
      "Train--Epoch [264/400]: 100%|██████████| 187/187 [01:23<00:00,  2.23it/s, acc=69.4, loss=0.564]\n",
      "Valid--Epoch [264/400]: 100%|██████████| 44/44 [00:08<00:00,  4.92it/s, acc=67.5, loss=0.645]"
     ]
    },
    {
     "name": "stdout",
     "output_type": "stream",
     "text": [
      "\n",
      " epoch: 265/400\n"
     ]
    },
    {
     "name": "stderr",
     "output_type": "stream",
     "text": [
      "\n",
      "Train--Epoch [265/400]: 100%|██████████| 187/187 [01:23<00:00,  2.23it/s, acc=69.5, loss=0.564]\n",
      "Valid--Epoch [265/400]: 100%|██████████| 44/44 [00:09<00:00,  4.87it/s, acc=66.4, loss=0.665]"
     ]
    },
    {
     "name": "stdout",
     "output_type": "stream",
     "text": [
      "\n",
      " epoch: 266/400\n"
     ]
    },
    {
     "name": "stderr",
     "output_type": "stream",
     "text": [
      "\n",
      "Train--Epoch [266/400]: 100%|██████████| 187/187 [01:23<00:00,  2.24it/s, acc=69.7, loss=0.561]\n",
      "Valid--Epoch [266/400]: 100%|██████████| 44/44 [00:08<00:00,  4.96it/s, acc=66.5, loss=0.664]"
     ]
    },
    {
     "name": "stdout",
     "output_type": "stream",
     "text": [
      "\n",
      " epoch: 267/400\n"
     ]
    },
    {
     "name": "stderr",
     "output_type": "stream",
     "text": [
      "\n",
      "Train--Epoch [267/400]: 100%|██████████| 187/187 [01:24<00:00,  2.23it/s, acc=69.7, loss=0.561]\n",
      "Valid--Epoch [267/400]: 100%|██████████| 44/44 [00:08<00:00,  5.14it/s, acc=65.9, loss=0.68] "
     ]
    },
    {
     "name": "stdout",
     "output_type": "stream",
     "text": [
      "\n",
      " epoch: 268/400\n"
     ]
    },
    {
     "name": "stderr",
     "output_type": "stream",
     "text": [
      "\n",
      "Train--Epoch [268/400]: 100%|██████████| 187/187 [01:23<00:00,  2.25it/s, acc=69.6, loss=0.563]\n",
      "Valid--Epoch [268/400]: 100%|██████████| 44/44 [00:08<00:00,  5.21it/s, acc=66.4, loss=0.668]"
     ]
    },
    {
     "name": "stdout",
     "output_type": "stream",
     "text": [
      "\n",
      " epoch: 269/400\n"
     ]
    },
    {
     "name": "stderr",
     "output_type": "stream",
     "text": [
      "\n",
      "Train--Epoch [269/400]: 100%|██████████| 187/187 [01:23<00:00,  2.24it/s, acc=69.8, loss=0.562]\n",
      "Valid--Epoch [269/400]: 100%|██████████| 44/44 [00:09<00:00,  4.86it/s, acc=66.9, loss=0.654]"
     ]
    },
    {
     "name": "stdout",
     "output_type": "stream",
     "text": [
      "\n",
      " epoch: 270/400\n"
     ]
    },
    {
     "name": "stderr",
     "output_type": "stream",
     "text": [
      "\n",
      "Train--Epoch [270/400]: 100%|██████████| 187/187 [01:23<00:00,  2.25it/s, acc=69.6, loss=0.562]\n",
      "Valid--Epoch [270/400]: 100%|██████████| 44/44 [00:08<00:00,  5.12it/s, acc=65, loss=0.69]   "
     ]
    },
    {
     "name": "stdout",
     "output_type": "stream",
     "text": [
      "\n",
      " epoch: 271/400\n"
     ]
    },
    {
     "name": "stderr",
     "output_type": "stream",
     "text": [
      "\n",
      "Train--Epoch [271/400]: 100%|██████████| 187/187 [01:23<00:00,  2.24it/s, acc=69.8, loss=0.561]\n",
      "Valid--Epoch [271/400]: 100%|██████████| 44/44 [00:08<00:00,  4.89it/s, acc=66.8, loss=0.652]"
     ]
    },
    {
     "name": "stdout",
     "output_type": "stream",
     "text": [
      "\n",
      " epoch: 272/400\n"
     ]
    },
    {
     "name": "stderr",
     "output_type": "stream",
     "text": [
      "\n",
      "Train--Epoch [272/400]: 100%|██████████| 187/187 [01:23<00:00,  2.24it/s, acc=69.8, loss=0.56] \n",
      "Valid--Epoch [272/400]: 100%|██████████| 44/44 [00:09<00:00,  4.85it/s, acc=68.5, loss=0.624]"
     ]
    },
    {
     "name": "stdout",
     "output_type": "stream",
     "text": [
      "\n",
      " epoch: 273/400\n"
     ]
    },
    {
     "name": "stderr",
     "output_type": "stream",
     "text": [
      "\n",
      "Train--Epoch [273/400]: 100%|██████████| 187/187 [01:23<00:00,  2.24it/s, acc=69.8, loss=0.56] \n",
      "Valid--Epoch [273/400]: 100%|██████████| 44/44 [00:08<00:00,  4.91it/s, acc=67.5, loss=0.637]"
     ]
    },
    {
     "name": "stdout",
     "output_type": "stream",
     "text": [
      "\n",
      " epoch: 274/400\n"
     ]
    },
    {
     "name": "stderr",
     "output_type": "stream",
     "text": [
      "\n",
      "Train--Epoch [274/400]: 100%|██████████| 187/187 [01:23<00:00,  2.24it/s, acc=69.8, loss=0.561]\n",
      "Valid--Epoch [274/400]: 100%|██████████| 44/44 [00:08<00:00,  4.96it/s, acc=66.9, loss=0.642]"
     ]
    },
    {
     "name": "stdout",
     "output_type": "stream",
     "text": [
      "\n",
      " epoch: 275/400\n"
     ]
    },
    {
     "name": "stderr",
     "output_type": "stream",
     "text": [
      "\n",
      "Train--Epoch [275/400]: 100%|██████████| 187/187 [01:23<00:00,  2.24it/s, acc=69.9, loss=0.559]\n",
      "Valid--Epoch [275/400]: 100%|██████████| 44/44 [00:08<00:00,  5.06it/s, acc=67.2, loss=0.638]"
     ]
    },
    {
     "name": "stdout",
     "output_type": "stream",
     "text": [
      "\n",
      " epoch: 276/400\n"
     ]
    },
    {
     "name": "stderr",
     "output_type": "stream",
     "text": [
      "\n",
      "Train--Epoch [276/400]: 100%|██████████| 187/187 [01:23<00:00,  2.24it/s, acc=69.9, loss=0.559]\n",
      "Valid--Epoch [276/400]: 100%|██████████| 44/44 [00:09<00:00,  4.89it/s, acc=65.8, loss=0.676]"
     ]
    },
    {
     "name": "stdout",
     "output_type": "stream",
     "text": [
      "\n",
      " epoch: 277/400\n"
     ]
    },
    {
     "name": "stderr",
     "output_type": "stream",
     "text": [
      "\n",
      "Train--Epoch [277/400]: 100%|██████████| 187/187 [01:23<00:00,  2.23it/s, acc=69.8, loss=0.559]\n",
      "Valid--Epoch [277/400]: 100%|██████████| 44/44 [00:08<00:00,  5.16it/s, acc=67.2, loss=0.641]"
     ]
    },
    {
     "name": "stdout",
     "output_type": "stream",
     "text": [
      "\n",
      " epoch: 278/400\n"
     ]
    },
    {
     "name": "stderr",
     "output_type": "stream",
     "text": [
      "\n",
      "Train--Epoch [278/400]: 100%|██████████| 187/187 [01:23<00:00,  2.24it/s, acc=69.9, loss=0.558]\n",
      "Valid--Epoch [278/400]: 100%|██████████| 44/44 [00:08<00:00,  4.91it/s, acc=65.1, loss=0.701]"
     ]
    },
    {
     "name": "stdout",
     "output_type": "stream",
     "text": [
      "\n",
      " epoch: 279/400\n"
     ]
    },
    {
     "name": "stderr",
     "output_type": "stream",
     "text": [
      "\n",
      "Train--Epoch [279/400]: 100%|██████████| 187/187 [01:24<00:00,  2.22it/s, acc=69.9, loss=0.56] \n",
      "Valid--Epoch [279/400]: 100%|██████████| 44/44 [00:08<00:00,  5.04it/s, acc=67.7, loss=0.627]"
     ]
    },
    {
     "name": "stdout",
     "output_type": "stream",
     "text": [
      "\n",
      " epoch: 280/400\n"
     ]
    },
    {
     "name": "stderr",
     "output_type": "stream",
     "text": [
      "\n",
      "Train--Epoch [280/400]: 100%|██████████| 187/187 [01:23<00:00,  2.24it/s, acc=70, loss=0.558]  \n",
      "Valid--Epoch [280/400]: 100%|██████████| 44/44 [00:08<00:00,  5.27it/s, acc=66.1, loss=0.667]"
     ]
    },
    {
     "name": "stdout",
     "output_type": "stream",
     "text": [
      "\n",
      " epoch: 281/400\n"
     ]
    },
    {
     "name": "stderr",
     "output_type": "stream",
     "text": [
      "\n",
      "Train--Epoch [281/400]: 100%|██████████| 187/187 [01:23<00:00,  2.24it/s, acc=70, loss=0.557]  \n",
      "Valid--Epoch [281/400]: 100%|██████████| 44/44 [00:08<00:00,  5.01it/s, acc=64, loss=0.726]  "
     ]
    },
    {
     "name": "stdout",
     "output_type": "stream",
     "text": [
      "\n",
      " epoch: 282/400\n"
     ]
    },
    {
     "name": "stderr",
     "output_type": "stream",
     "text": [
      "\n",
      "Train--Epoch [282/400]: 100%|██████████| 187/187 [01:24<00:00,  2.23it/s, acc=70, loss=0.559]  \n",
      "Valid--Epoch [282/400]: 100%|██████████| 44/44 [00:08<00:00,  5.06it/s, acc=65.5, loss=0.683]"
     ]
    },
    {
     "name": "stdout",
     "output_type": "stream",
     "text": [
      "\n",
      " epoch: 283/400\n"
     ]
    },
    {
     "name": "stderr",
     "output_type": "stream",
     "text": [
      "\n",
      "Train--Epoch [283/400]: 100%|██████████| 187/187 [01:23<00:00,  2.24it/s, acc=70.1, loss=0.556]\n",
      "Valid--Epoch [283/400]: 100%|██████████| 44/44 [00:08<00:00,  4.96it/s, acc=66.1, loss=0.661]"
     ]
    },
    {
     "name": "stdout",
     "output_type": "stream",
     "text": [
      "\n",
      " epoch: 284/400\n"
     ]
    },
    {
     "name": "stderr",
     "output_type": "stream",
     "text": [
      "\n",
      "Train--Epoch [284/400]: 100%|██████████| 187/187 [01:23<00:00,  2.24it/s, acc=70, loss=0.557]  \n",
      "Valid--Epoch [284/400]: 100%|██████████| 44/44 [00:08<00:00,  5.13it/s, acc=67.5, loss=0.633]"
     ]
    },
    {
     "name": "stdout",
     "output_type": "stream",
     "text": [
      "\n",
      " epoch: 285/400\n"
     ]
    },
    {
     "name": "stderr",
     "output_type": "stream",
     "text": [
      "\n",
      "Train--Epoch [285/400]: 100%|██████████| 187/187 [01:23<00:00,  2.24it/s, acc=70.3, loss=0.556]\n",
      "Valid--Epoch [285/400]: 100%|██████████| 44/44 [00:08<00:00,  4.96it/s, acc=65.3, loss=0.691]"
     ]
    },
    {
     "name": "stdout",
     "output_type": "stream",
     "text": [
      "\n",
      " epoch: 286/400\n"
     ]
    },
    {
     "name": "stderr",
     "output_type": "stream",
     "text": [
      "\n",
      "Train--Epoch [286/400]: 100%|██████████| 187/187 [01:23<00:00,  2.23it/s, acc=70.1, loss=0.558]\n",
      "Valid--Epoch [286/400]: 100%|██████████| 44/44 [00:09<00:00,  4.73it/s, acc=67.8, loss=0.629]"
     ]
    },
    {
     "name": "stdout",
     "output_type": "stream",
     "text": [
      "\n",
      " epoch: 287/400\n"
     ]
    },
    {
     "name": "stderr",
     "output_type": "stream",
     "text": [
      "\n",
      "Train--Epoch [287/400]: 100%|██████████| 187/187 [01:23<00:00,  2.24it/s, acc=70.2, loss=0.556]\n",
      "Valid--Epoch [287/400]: 100%|██████████| 44/44 [00:08<00:00,  5.01it/s, acc=65.2, loss=0.689]"
     ]
    },
    {
     "name": "stdout",
     "output_type": "stream",
     "text": [
      "\n",
      " epoch: 288/400\n"
     ]
    },
    {
     "name": "stderr",
     "output_type": "stream",
     "text": [
      "\n",
      "Train--Epoch [288/400]: 100%|██████████| 187/187 [01:23<00:00,  2.24it/s, acc=70, loss=0.557]  \n",
      "Valid--Epoch [288/400]: 100%|██████████| 44/44 [00:09<00:00,  4.77it/s, acc=65.8, loss=0.67] "
     ]
    },
    {
     "name": "stdout",
     "output_type": "stream",
     "text": [
      "\n",
      " epoch: 289/400\n"
     ]
    },
    {
     "name": "stderr",
     "output_type": "stream",
     "text": [
      "\n",
      "Train--Epoch [289/400]: 100%|██████████| 187/187 [01:23<00:00,  2.25it/s, acc=70.2, loss=0.555]\n",
      "Valid--Epoch [289/400]: 100%|██████████| 44/44 [00:08<00:00,  5.01it/s, acc=65.3, loss=0.68] "
     ]
    },
    {
     "name": "stdout",
     "output_type": "stream",
     "text": [
      "\n",
      " epoch: 290/400\n"
     ]
    },
    {
     "name": "stderr",
     "output_type": "stream",
     "text": [
      "\n",
      "Train--Epoch [290/400]: 100%|██████████| 187/187 [01:23<00:00,  2.25it/s, acc=70.2, loss=0.555]\n",
      "Valid--Epoch [290/400]: 100%|██████████| 44/44 [00:08<00:00,  5.23it/s, acc=66.7, loss=0.651]"
     ]
    },
    {
     "name": "stdout",
     "output_type": "stream",
     "text": [
      "\n",
      " epoch: 291/400\n"
     ]
    },
    {
     "name": "stderr",
     "output_type": "stream",
     "text": [
      "\n",
      "Train--Epoch [291/400]: 100%|██████████| 187/187 [01:23<00:00,  2.24it/s, acc=70.5, loss=0.553]\n",
      "Valid--Epoch [291/400]: 100%|██████████| 44/44 [00:08<00:00,  5.00it/s, acc=65.3, loss=0.69] "
     ]
    },
    {
     "name": "stdout",
     "output_type": "stream",
     "text": [
      "\n",
      " epoch: 292/400\n"
     ]
    },
    {
     "name": "stderr",
     "output_type": "stream",
     "text": [
      "\n",
      "Train--Epoch [292/400]: 100%|██████████| 187/187 [01:23<00:00,  2.24it/s, acc=70.3, loss=0.554]\n",
      "Valid--Epoch [292/400]: 100%|██████████| 44/44 [00:08<00:00,  5.17it/s, acc=66.2, loss=0.661]"
     ]
    },
    {
     "name": "stdout",
     "output_type": "stream",
     "text": [
      "\n",
      " epoch: 293/400\n"
     ]
    },
    {
     "name": "stderr",
     "output_type": "stream",
     "text": [
      "\n",
      "Train--Epoch [293/400]: 100%|██████████| 187/187 [01:23<00:00,  2.25it/s, acc=70.3, loss=0.552]\n",
      "Valid--Epoch [293/400]: 100%|██████████| 44/44 [00:08<00:00,  4.98it/s, acc=65, loss=0.691]  "
     ]
    },
    {
     "name": "stdout",
     "output_type": "stream",
     "text": [
      "\n",
      " epoch: 294/400\n"
     ]
    },
    {
     "name": "stderr",
     "output_type": "stream",
     "text": [
      "\n",
      "Train--Epoch [294/400]: 100%|██████████| 187/187 [01:23<00:00,  2.23it/s, acc=70.5, loss=0.553]\n",
      "Valid--Epoch [294/400]: 100%|██████████| 44/44 [00:09<00:00,  4.86it/s, acc=65.9, loss=0.666]"
     ]
    },
    {
     "name": "stdout",
     "output_type": "stream",
     "text": [
      "\n",
      " epoch: 295/400\n"
     ]
    },
    {
     "name": "stderr",
     "output_type": "stream",
     "text": [
      "\n",
      "Train--Epoch [295/400]: 100%|██████████| 187/187 [01:23<00:00,  2.25it/s, acc=70.4, loss=0.554]\n",
      "Valid--Epoch [295/400]: 100%|██████████| 44/44 [00:08<00:00,  5.15it/s, acc=65.2, loss=0.682]"
     ]
    },
    {
     "name": "stdout",
     "output_type": "stream",
     "text": [
      "\n",
      " epoch: 296/400\n"
     ]
    },
    {
     "name": "stderr",
     "output_type": "stream",
     "text": [
      "\n",
      "Train--Epoch [296/400]: 100%|██████████| 187/187 [01:23<00:00,  2.23it/s, acc=70.6, loss=0.552]\n",
      "Valid--Epoch [296/400]: 100%|██████████| 44/44 [00:08<00:00,  4.99it/s, acc=66.6, loss=0.654]"
     ]
    },
    {
     "name": "stdout",
     "output_type": "stream",
     "text": [
      "\n",
      " epoch: 297/400\n"
     ]
    },
    {
     "name": "stderr",
     "output_type": "stream",
     "text": [
      "\n",
      "Train--Epoch [297/400]: 100%|██████████| 187/187 [01:23<00:00,  2.24it/s, acc=70.3, loss=0.554]\n",
      "Valid--Epoch [297/400]: 100%|██████████| 44/44 [00:09<00:00,  4.88it/s, acc=66.5, loss=0.654]"
     ]
    },
    {
     "name": "stdout",
     "output_type": "stream",
     "text": [
      "\n",
      " epoch: 298/400\n"
     ]
    },
    {
     "name": "stderr",
     "output_type": "stream",
     "text": [
      "\n",
      "Train--Epoch [298/400]: 100%|██████████| 187/187 [01:23<00:00,  2.23it/s, acc=70.5, loss=0.552]\n",
      "Valid--Epoch [298/400]: 100%|██████████| 44/44 [00:08<00:00,  4.92it/s, acc=64.4, loss=0.717]"
     ]
    },
    {
     "name": "stdout",
     "output_type": "stream",
     "text": [
      "\n",
      " epoch: 299/400\n"
     ]
    },
    {
     "name": "stderr",
     "output_type": "stream",
     "text": [
      "\n",
      "Train--Epoch [299/400]: 100%|██████████| 187/187 [01:24<00:00,  2.22it/s, acc=70.5, loss=0.551]\n",
      "Valid--Epoch [299/400]: 100%|██████████| 44/44 [00:08<00:00,  4.96it/s, acc=65, loss=0.688]  "
     ]
    },
    {
     "name": "stdout",
     "output_type": "stream",
     "text": [
      "\n",
      " epoch: 300/400\n"
     ]
    },
    {
     "name": "stderr",
     "output_type": "stream",
     "text": [
      "\n",
      "Train--Epoch [300/400]: 100%|██████████| 187/187 [01:23<00:00,  2.24it/s, acc=70.5, loss=0.551]\n",
      "Valid--Epoch [300/400]: 100%|██████████| 44/44 [00:09<00:00,  4.84it/s, acc=65.3, loss=0.687]"
     ]
    },
    {
     "name": "stdout",
     "output_type": "stream",
     "text": [
      "\n",
      " epoch: 301/400\n"
     ]
    },
    {
     "name": "stderr",
     "output_type": "stream",
     "text": [
      "\n",
      "Train--Epoch [301/400]: 100%|██████████| 187/187 [01:23<00:00,  2.24it/s, acc=70.6, loss=0.55] \n",
      "Valid--Epoch [301/400]: 100%|██████████| 44/44 [00:08<00:00,  4.91it/s, acc=65.4, loss=0.69] "
     ]
    },
    {
     "name": "stdout",
     "output_type": "stream",
     "text": [
      "\n",
      " epoch: 302/400\n"
     ]
    },
    {
     "name": "stderr",
     "output_type": "stream",
     "text": [
      "\n",
      "Train--Epoch [302/400]: 100%|██████████| 187/187 [01:23<00:00,  2.24it/s, acc=70.4, loss=0.553]\n",
      "Valid--Epoch [302/400]: 100%|██████████| 44/44 [00:09<00:00,  4.83it/s, acc=63.1, loss=0.758]"
     ]
    },
    {
     "name": "stdout",
     "output_type": "stream",
     "text": [
      "\n",
      " epoch: 303/400\n"
     ]
    },
    {
     "name": "stderr",
     "output_type": "stream",
     "text": [
      "\n",
      "Train--Epoch [303/400]: 100%|██████████| 187/187 [01:23<00:00,  2.24it/s, acc=70.7, loss=0.55] \n",
      "Valid--Epoch [303/400]: 100%|██████████| 44/44 [00:08<00:00,  5.05it/s, acc=63.5, loss=0.742]"
     ]
    },
    {
     "name": "stdout",
     "output_type": "stream",
     "text": [
      "\n",
      " epoch: 304/400\n"
     ]
    },
    {
     "name": "stderr",
     "output_type": "stream",
     "text": [
      "\n",
      "Train--Epoch [304/400]: 100%|██████████| 187/187 [01:23<00:00,  2.24it/s, acc=70.8, loss=0.55] \n",
      "Valid--Epoch [304/400]: 100%|██████████| 44/44 [00:09<00:00,  4.86it/s, acc=63.3, loss=0.74] "
     ]
    },
    {
     "name": "stdout",
     "output_type": "stream",
     "text": [
      "\n",
      " epoch: 305/400\n"
     ]
    },
    {
     "name": "stderr",
     "output_type": "stream",
     "text": [
      "\n",
      "Train--Epoch [305/400]: 100%|██████████| 187/187 [01:23<00:00,  2.24it/s, acc=70.7, loss=0.551]\n",
      "Valid--Epoch [305/400]: 100%|██████████| 44/44 [00:09<00:00,  4.79it/s, acc=64, loss=0.731]  "
     ]
    },
    {
     "name": "stdout",
     "output_type": "stream",
     "text": [
      "\n",
      " epoch: 306/400\n"
     ]
    },
    {
     "name": "stderr",
     "output_type": "stream",
     "text": [
      "\n",
      "Train--Epoch [306/400]: 100%|██████████| 187/187 [01:23<00:00,  2.24it/s, acc=70.4, loss=0.552]\n",
      "Valid--Epoch [306/400]: 100%|██████████| 44/44 [00:09<00:00,  4.80it/s, acc=63.3, loss=0.739]"
     ]
    },
    {
     "name": "stdout",
     "output_type": "stream",
     "text": [
      "\n",
      " epoch: 307/400\n"
     ]
    },
    {
     "name": "stderr",
     "output_type": "stream",
     "text": [
      "\n",
      "Train--Epoch [307/400]: 100%|██████████| 187/187 [01:23<00:00,  2.24it/s, acc=70.8, loss=0.548]\n",
      "Valid--Epoch [307/400]: 100%|██████████| 44/44 [00:08<00:00,  4.90it/s, acc=64.1, loss=0.723]"
     ]
    },
    {
     "name": "stdout",
     "output_type": "stream",
     "text": [
      "\n",
      " epoch: 308/400\n"
     ]
    },
    {
     "name": "stderr",
     "output_type": "stream",
     "text": [
      "\n",
      "Train--Epoch [308/400]: 100%|██████████| 187/187 [01:23<00:00,  2.24it/s, acc=70.7, loss=0.55] \n",
      "Valid--Epoch [308/400]: 100%|██████████| 44/44 [00:08<00:00,  4.98it/s, acc=65, loss=0.7]    "
     ]
    },
    {
     "name": "stdout",
     "output_type": "stream",
     "text": [
      "\n",
      " epoch: 309/400\n"
     ]
    },
    {
     "name": "stderr",
     "output_type": "stream",
     "text": [
      "\n",
      "Train--Epoch [309/400]: 100%|██████████| 187/187 [01:23<00:00,  2.24it/s, acc=70.6, loss=0.548]\n",
      "Valid--Epoch [309/400]: 100%|██████████| 44/44 [00:09<00:00,  4.71it/s, acc=66.9, loss=0.653]"
     ]
    },
    {
     "name": "stdout",
     "output_type": "stream",
     "text": [
      "\n",
      " epoch: 310/400\n"
     ]
    },
    {
     "name": "stderr",
     "output_type": "stream",
     "text": [
      "\n",
      "Train--Epoch [310/400]: 100%|██████████| 187/187 [01:23<00:00,  2.24it/s, acc=70.8, loss=0.548]\n",
      "Valid--Epoch [310/400]: 100%|██████████| 44/44 [00:09<00:00,  4.82it/s, acc=62.6, loss=0.778]"
     ]
    },
    {
     "name": "stdout",
     "output_type": "stream",
     "text": [
      "\n",
      " epoch: 311/400\n"
     ]
    },
    {
     "name": "stderr",
     "output_type": "stream",
     "text": [
      "\n",
      "Train--Epoch [311/400]: 100%|██████████| 187/187 [01:23<00:00,  2.24it/s, acc=70.8, loss=0.548]\n",
      "Valid--Epoch [311/400]: 100%|██████████| 44/44 [00:08<00:00,  4.99it/s, acc=66.8, loss=0.648]"
     ]
    },
    {
     "name": "stdout",
     "output_type": "stream",
     "text": [
      "\n",
      " epoch: 312/400\n"
     ]
    },
    {
     "name": "stderr",
     "output_type": "stream",
     "text": [
      "\n",
      "Train--Epoch [312/400]: 100%|██████████| 187/187 [01:23<00:00,  2.23it/s, acc=70.9, loss=0.547]\n",
      "Valid--Epoch [312/400]: 100%|██████████| 44/44 [00:09<00:00,  4.78it/s, acc=65.5, loss=0.688]"
     ]
    },
    {
     "name": "stdout",
     "output_type": "stream",
     "text": [
      "\n",
      " epoch: 313/400\n"
     ]
    },
    {
     "name": "stderr",
     "output_type": "stream",
     "text": [
      "\n",
      "Train--Epoch [313/400]: 100%|██████████| 187/187 [01:23<00:00,  2.23it/s, acc=71, loss=0.545]  \n",
      "Valid--Epoch [313/400]: 100%|██████████| 44/44 [00:08<00:00,  4.95it/s, acc=66.4, loss=0.662]"
     ]
    },
    {
     "name": "stdout",
     "output_type": "stream",
     "text": [
      "\n",
      " epoch: 314/400\n"
     ]
    },
    {
     "name": "stderr",
     "output_type": "stream",
     "text": [
      "\n",
      "Train--Epoch [314/400]: 100%|██████████| 187/187 [01:23<00:00,  2.25it/s, acc=71, loss=0.546]  \n",
      "Valid--Epoch [314/400]: 100%|██████████| 44/44 [00:09<00:00,  4.84it/s, acc=66.5, loss=0.655]"
     ]
    },
    {
     "name": "stdout",
     "output_type": "stream",
     "text": [
      "\n",
      " epoch: 315/400\n"
     ]
    },
    {
     "name": "stderr",
     "output_type": "stream",
     "text": [
      "\n",
      "Train--Epoch [315/400]: 100%|██████████| 187/187 [01:23<00:00,  2.23it/s, acc=71.1, loss=0.545]\n",
      "Valid--Epoch [315/400]: 100%|██████████| 44/44 [00:09<00:00,  4.87it/s, acc=64.8, loss=0.709]"
     ]
    },
    {
     "name": "stdout",
     "output_type": "stream",
     "text": [
      "\n",
      " epoch: 316/400\n"
     ]
    },
    {
     "name": "stderr",
     "output_type": "stream",
     "text": [
      "\n",
      "Train--Epoch [316/400]: 100%|██████████| 187/187 [01:23<00:00,  2.23it/s, acc=70.9, loss=0.545]\n",
      "Valid--Epoch [316/400]: 100%|██████████| 44/44 [00:09<00:00,  4.82it/s, acc=64.9, loss=0.703]"
     ]
    },
    {
     "name": "stdout",
     "output_type": "stream",
     "text": [
      "\n",
      " epoch: 317/400\n"
     ]
    },
    {
     "name": "stderr",
     "output_type": "stream",
     "text": [
      "\n",
      "Train--Epoch [317/400]: 100%|██████████| 187/187 [01:23<00:00,  2.24it/s, acc=70.9, loss=0.546]\n",
      "Valid--Epoch [317/400]: 100%|██████████| 44/44 [00:09<00:00,  4.55it/s, acc=65.1, loss=0.693]"
     ]
    },
    {
     "name": "stdout",
     "output_type": "stream",
     "text": [
      "\n",
      " epoch: 318/400\n"
     ]
    },
    {
     "name": "stderr",
     "output_type": "stream",
     "text": [
      "\n",
      "Train--Epoch [318/400]: 100%|██████████| 187/187 [01:24<00:00,  2.21it/s, acc=71, loss=0.546]  \n",
      "Valid--Epoch [318/400]: 100%|██████████| 44/44 [00:09<00:00,  4.70it/s, acc=65.2, loss=0.693]"
     ]
    },
    {
     "name": "stdout",
     "output_type": "stream",
     "text": [
      "\n",
      " epoch: 319/400\n"
     ]
    },
    {
     "name": "stderr",
     "output_type": "stream",
     "text": [
      "\n",
      "Train--Epoch [319/400]: 100%|██████████| 187/187 [01:23<00:00,  2.23it/s, acc=71.1, loss=0.545]\n",
      "Valid--Epoch [319/400]: 100%|██████████| 44/44 [00:08<00:00,  5.03it/s, acc=65, loss=0.709]  "
     ]
    },
    {
     "name": "stdout",
     "output_type": "stream",
     "text": [
      "\n",
      " epoch: 320/400\n"
     ]
    },
    {
     "name": "stderr",
     "output_type": "stream",
     "text": [
      "\n",
      "Train--Epoch [320/400]: 100%|██████████| 187/187 [01:22<00:00,  2.26it/s, acc=71.1, loss=0.544]\n",
      "Valid--Epoch [320/400]: 100%|██████████| 44/44 [00:08<00:00,  4.92it/s, acc=63.4, loss=0.763]"
     ]
    },
    {
     "name": "stdout",
     "output_type": "stream",
     "text": [
      "\n",
      " epoch: 321/400\n"
     ]
    },
    {
     "name": "stderr",
     "output_type": "stream",
     "text": [
      "\n",
      "Train--Epoch [321/400]: 100%|██████████| 187/187 [01:23<00:00,  2.25it/s, acc=71.1, loss=0.544]\n",
      "Valid--Epoch [321/400]: 100%|██████████| 44/44 [00:08<00:00,  4.89it/s, acc=65, loss=0.711]  \n"
     ]
    },
    {
     "name": "stdout",
     "output_type": "stream",
     "text": [
      "\n",
      " epoch: 322/400\n"
     ]
    },
    {
     "name": "stderr",
     "output_type": "stream",
     "text": [
      "Train--Epoch [322/400]: 100%|██████████| 187/187 [01:23<00:00,  2.25it/s, acc=71, loss=0.544]  \n",
      "Valid--Epoch [322/400]: 100%|██████████| 44/44 [00:09<00:00,  4.82it/s, acc=65, loss=0.694]  "
     ]
    },
    {
     "name": "stdout",
     "output_type": "stream",
     "text": [
      "\n",
      " epoch: 323/400\n"
     ]
    },
    {
     "name": "stderr",
     "output_type": "stream",
     "text": [
      "\n",
      "Train--Epoch [323/400]: 100%|██████████| 187/187 [01:23<00:00,  2.24it/s, acc=71.4, loss=0.543]\n",
      "Valid--Epoch [323/400]: 100%|██████████| 44/44 [00:08<00:00,  5.32it/s, acc=65.1, loss=0.701]"
     ]
    },
    {
     "name": "stdout",
     "output_type": "stream",
     "text": [
      "\n",
      " epoch: 324/400\n"
     ]
    },
    {
     "name": "stderr",
     "output_type": "stream",
     "text": [
      "\n",
      "Train--Epoch [324/400]: 100%|██████████| 187/187 [01:23<00:00,  2.25it/s, acc=71.2, loss=0.542]\n",
      "Valid--Epoch [324/400]: 100%|██████████| 44/44 [00:08<00:00,  5.05it/s, acc=65.7, loss=0.677]"
     ]
    },
    {
     "name": "stdout",
     "output_type": "stream",
     "text": [
      "\n",
      " epoch: 325/400\n"
     ]
    },
    {
     "name": "stderr",
     "output_type": "stream",
     "text": [
      "\n",
      "Train--Epoch [325/400]: 100%|██████████| 187/187 [01:23<00:00,  2.24it/s, acc=71.4, loss=0.541]\n",
      "Valid--Epoch [325/400]: 100%|██████████| 44/44 [00:08<00:00,  4.96it/s, acc=66.2, loss=0.673]"
     ]
    },
    {
     "name": "stdout",
     "output_type": "stream",
     "text": [
      "\n",
      " epoch: 326/400\n"
     ]
    },
    {
     "name": "stderr",
     "output_type": "stream",
     "text": [
      "\n",
      "Train--Epoch [326/400]: 100%|██████████| 187/187 [01:23<00:00,  2.24it/s, acc=71.4, loss=0.542]\n",
      "Valid--Epoch [326/400]: 100%|██████████| 44/44 [00:08<00:00,  5.16it/s, acc=64.9, loss=0.701]"
     ]
    },
    {
     "name": "stdout",
     "output_type": "stream",
     "text": [
      "\n",
      " epoch: 327/400\n"
     ]
    },
    {
     "name": "stderr",
     "output_type": "stream",
     "text": [
      "\n",
      "Train--Epoch [327/400]: 100%|██████████| 187/187 [01:23<00:00,  2.25it/s, acc=71.4, loss=0.543]\n",
      "Valid--Epoch [327/400]: 100%|██████████| 44/44 [00:08<00:00,  5.13it/s, acc=63.7, loss=0.747]"
     ]
    },
    {
     "name": "stdout",
     "output_type": "stream",
     "text": [
      "\n",
      " epoch: 328/400\n"
     ]
    },
    {
     "name": "stderr",
     "output_type": "stream",
     "text": [
      "\n",
      "Train--Epoch [328/400]: 100%|██████████| 187/187 [01:23<00:00,  2.25it/s, acc=71.4, loss=0.542]\n",
      "Valid--Epoch [328/400]: 100%|██████████| 44/44 [00:08<00:00,  5.18it/s, acc=65, loss=0.706]  "
     ]
    },
    {
     "name": "stdout",
     "output_type": "stream",
     "text": [
      "\n",
      " epoch: 329/400\n"
     ]
    },
    {
     "name": "stderr",
     "output_type": "stream",
     "text": [
      "\n",
      "Train--Epoch [329/400]: 100%|██████████| 187/187 [01:23<00:00,  2.25it/s, acc=71.4, loss=0.541]\n",
      "Valid--Epoch [329/400]: 100%|██████████| 44/44 [00:08<00:00,  5.02it/s, acc=64.3, loss=0.729]"
     ]
    },
    {
     "name": "stdout",
     "output_type": "stream",
     "text": [
      "\n",
      " epoch: 330/400\n"
     ]
    },
    {
     "name": "stderr",
     "output_type": "stream",
     "text": [
      "\n",
      "Train--Epoch [330/400]: 100%|██████████| 187/187 [01:23<00:00,  2.24it/s, acc=71.6, loss=0.539]\n",
      "Valid--Epoch [330/400]: 100%|██████████| 44/44 [00:08<00:00,  4.99it/s, acc=63, loss=0.78]   "
     ]
    },
    {
     "name": "stdout",
     "output_type": "stream",
     "text": [
      "\n",
      " epoch: 331/400\n"
     ]
    },
    {
     "name": "stderr",
     "output_type": "stream",
     "text": [
      "\n",
      "Train--Epoch [331/400]: 100%|██████████| 187/187 [01:23<00:00,  2.24it/s, acc=71.5, loss=0.54] \n",
      "Valid--Epoch [331/400]: 100%|██████████| 44/44 [00:08<00:00,  4.91it/s, acc=65.5, loss=0.69] "
     ]
    },
    {
     "name": "stdout",
     "output_type": "stream",
     "text": [
      "\n",
      " epoch: 332/400\n"
     ]
    },
    {
     "name": "stderr",
     "output_type": "stream",
     "text": [
      "\n",
      "Train--Epoch [332/400]: 100%|██████████| 187/187 [01:23<00:00,  2.25it/s, acc=71.7, loss=0.538]\n",
      "Valid--Epoch [332/400]: 100%|██████████| 44/44 [00:08<00:00,  5.24it/s, acc=64.4, loss=0.734]"
     ]
    },
    {
     "name": "stdout",
     "output_type": "stream",
     "text": [
      "\n",
      " epoch: 333/400\n"
     ]
    },
    {
     "name": "stderr",
     "output_type": "stream",
     "text": [
      "\n",
      "Train--Epoch [333/400]: 100%|██████████| 187/187 [01:24<00:00,  2.21it/s, acc=71.4, loss=0.539]\n",
      "Valid--Epoch [333/400]: 100%|██████████| 44/44 [00:08<00:00,  5.11it/s, acc=67.2, loss=0.646]"
     ]
    },
    {
     "name": "stdout",
     "output_type": "stream",
     "text": [
      "\n",
      " epoch: 334/400\n"
     ]
    },
    {
     "name": "stderr",
     "output_type": "stream",
     "text": [
      "\n",
      "Train--Epoch [334/400]: 100%|██████████| 187/187 [01:23<00:00,  2.25it/s, acc=71.6, loss=0.539]\n",
      "Valid--Epoch [334/400]: 100%|██████████| 44/44 [00:09<00:00,  4.63it/s, acc=63.9, loss=0.743]"
     ]
    },
    {
     "name": "stdout",
     "output_type": "stream",
     "text": [
      "\n",
      " epoch: 335/400\n"
     ]
    },
    {
     "name": "stderr",
     "output_type": "stream",
     "text": [
      "\n",
      "Train--Epoch [335/400]: 100%|██████████| 187/187 [01:23<00:00,  2.24it/s, acc=71.6, loss=0.54] \n",
      "Valid--Epoch [335/400]: 100%|██████████| 44/44 [00:08<00:00,  4.89it/s, acc=65.1, loss=0.701]"
     ]
    },
    {
     "name": "stdout",
     "output_type": "stream",
     "text": [
      "\n",
      " epoch: 336/400\n"
     ]
    },
    {
     "name": "stderr",
     "output_type": "stream",
     "text": [
      "\n",
      "Train--Epoch [336/400]: 100%|██████████| 187/187 [01:23<00:00,  2.25it/s, acc=71.5, loss=0.539]\n",
      "Valid--Epoch [336/400]: 100%|██████████| 44/44 [00:08<00:00,  5.26it/s, acc=64.9, loss=0.714]"
     ]
    },
    {
     "name": "stdout",
     "output_type": "stream",
     "text": [
      "\n",
      " epoch: 337/400\n"
     ]
    },
    {
     "name": "stderr",
     "output_type": "stream",
     "text": [
      "\n",
      "Train--Epoch [337/400]: 100%|██████████| 187/187 [01:23<00:00,  2.25it/s, acc=71.7, loss=0.536]\n",
      "Valid--Epoch [337/400]: 100%|██████████| 44/44 [00:08<00:00,  5.24it/s, acc=64.9, loss=0.721]"
     ]
    },
    {
     "name": "stdout",
     "output_type": "stream",
     "text": [
      "\n",
      " epoch: 338/400\n"
     ]
    },
    {
     "name": "stderr",
     "output_type": "stream",
     "text": [
      "\n",
      "Train--Epoch [338/400]: 100%|██████████| 187/187 [01:23<00:00,  2.25it/s, acc=71.8, loss=0.537]\n",
      "Valid--Epoch [338/400]: 100%|██████████| 44/44 [00:08<00:00,  5.22it/s, acc=63.6, loss=0.755]"
     ]
    },
    {
     "name": "stdout",
     "output_type": "stream",
     "text": [
      "\n",
      " epoch: 339/400\n"
     ]
    },
    {
     "name": "stderr",
     "output_type": "stream",
     "text": [
      "\n",
      "Train--Epoch [339/400]: 100%|██████████| 187/187 [01:23<00:00,  2.24it/s, acc=71.7, loss=0.536]\n",
      "Valid--Epoch [339/400]: 100%|██████████| 44/44 [00:09<00:00,  4.86it/s, acc=65.3, loss=0.704]"
     ]
    },
    {
     "name": "stdout",
     "output_type": "stream",
     "text": [
      "\n",
      " epoch: 340/400\n"
     ]
    },
    {
     "name": "stderr",
     "output_type": "stream",
     "text": [
      "\n",
      "Train--Epoch [340/400]: 100%|██████████| 187/187 [01:22<00:00,  2.26it/s, acc=71.6, loss=0.538]\n",
      "Valid--Epoch [340/400]: 100%|██████████| 44/44 [00:08<00:00,  5.26it/s, acc=64.7, loss=0.714]"
     ]
    },
    {
     "name": "stdout",
     "output_type": "stream",
     "text": [
      "\n",
      " epoch: 341/400\n"
     ]
    },
    {
     "name": "stderr",
     "output_type": "stream",
     "text": [
      "\n",
      "Train--Epoch [341/400]: 100%|██████████| 187/187 [01:23<00:00,  2.23it/s, acc=71.7, loss=0.537]\n",
      "Valid--Epoch [341/400]: 100%|██████████| 44/44 [00:08<00:00,  5.14it/s, acc=66.8, loss=0.663]"
     ]
    },
    {
     "name": "stdout",
     "output_type": "stream",
     "text": [
      "\n",
      " epoch: 342/400\n"
     ]
    },
    {
     "name": "stderr",
     "output_type": "stream",
     "text": [
      "\n",
      "Train--Epoch [342/400]: 100%|██████████| 187/187 [01:23<00:00,  2.24it/s, acc=71.9, loss=0.536]\n",
      "Valid--Epoch [342/400]: 100%|██████████| 44/44 [00:08<00:00,  5.13it/s, acc=66.1, loss=0.683]"
     ]
    },
    {
     "name": "stdout",
     "output_type": "stream",
     "text": [
      "\n",
      " epoch: 343/400\n"
     ]
    },
    {
     "name": "stderr",
     "output_type": "stream",
     "text": [
      "\n",
      "Train--Epoch [343/400]: 100%|██████████| 187/187 [01:23<00:00,  2.24it/s, acc=72, loss=0.534]  \n",
      "Valid--Epoch [343/400]: 100%|██████████| 44/44 [00:09<00:00,  4.69it/s, acc=65, loss=0.716]  "
     ]
    },
    {
     "name": "stdout",
     "output_type": "stream",
     "text": [
      "\n",
      " epoch: 344/400\n"
     ]
    },
    {
     "name": "stderr",
     "output_type": "stream",
     "text": [
      "\n",
      "Train--Epoch [344/400]: 100%|██████████| 187/187 [01:23<00:00,  2.25it/s, acc=71.7, loss=0.536]\n",
      "Valid--Epoch [344/400]: 100%|██████████| 44/44 [00:08<00:00,  5.15it/s, acc=65.9, loss=0.684]"
     ]
    },
    {
     "name": "stdout",
     "output_type": "stream",
     "text": [
      "\n",
      " epoch: 345/400\n"
     ]
    },
    {
     "name": "stderr",
     "output_type": "stream",
     "text": [
      "\n",
      "Train--Epoch [345/400]: 100%|██████████| 187/187 [01:23<00:00,  2.24it/s, acc=71.9, loss=0.535]\n",
      "Valid--Epoch [345/400]: 100%|██████████| 44/44 [00:08<00:00,  5.22it/s, acc=66.1, loss=0.679]"
     ]
    },
    {
     "name": "stdout",
     "output_type": "stream",
     "text": [
      "\n",
      " epoch: 346/400\n"
     ]
    },
    {
     "name": "stderr",
     "output_type": "stream",
     "text": [
      "\n",
      "Train--Epoch [346/400]: 100%|██████████| 187/187 [01:22<00:00,  2.26it/s, acc=72, loss=0.534]  \n",
      "Valid--Epoch [346/400]: 100%|██████████| 44/44 [00:08<00:00,  5.03it/s, acc=64.7, loss=0.719]"
     ]
    },
    {
     "name": "stdout",
     "output_type": "stream",
     "text": [
      "\n",
      " epoch: 347/400\n"
     ]
    },
    {
     "name": "stderr",
     "output_type": "stream",
     "text": [
      "\n",
      "Train--Epoch [347/400]: 100%|██████████| 187/187 [01:22<00:00,  2.25it/s, acc=72.1, loss=0.532]\n",
      "Valid--Epoch [347/400]: 100%|██████████| 44/44 [00:08<00:00,  5.29it/s, acc=64.3, loss=0.733]"
     ]
    },
    {
     "name": "stdout",
     "output_type": "stream",
     "text": [
      "\n",
      " epoch: 348/400\n"
     ]
    },
    {
     "name": "stderr",
     "output_type": "stream",
     "text": [
      "\n",
      "Train--Epoch [348/400]: 100%|██████████| 187/187 [01:23<00:00,  2.25it/s, acc=72.1, loss=0.535]\n",
      "Valid--Epoch [348/400]: 100%|██████████| 44/44 [00:08<00:00,  5.18it/s, acc=66.7, loss=0.661]"
     ]
    },
    {
     "name": "stdout",
     "output_type": "stream",
     "text": [
      "\n",
      " epoch: 349/400\n"
     ]
    },
    {
     "name": "stderr",
     "output_type": "stream",
     "text": [
      "\n",
      "Train--Epoch [349/400]: 100%|██████████| 187/187 [01:23<00:00,  2.25it/s, acc=72.1, loss=0.533]\n",
      "Valid--Epoch [349/400]: 100%|██████████| 44/44 [00:09<00:00,  4.80it/s, acc=65.1, loss=0.705]"
     ]
    },
    {
     "name": "stdout",
     "output_type": "stream",
     "text": [
      "\n",
      " epoch: 350/400\n"
     ]
    },
    {
     "name": "stderr",
     "output_type": "stream",
     "text": [
      "\n",
      "Train--Epoch [350/400]: 100%|██████████| 187/187 [01:22<00:00,  2.26it/s, acc=71.9, loss=0.534]\n",
      "Valid--Epoch [350/400]: 100%|██████████| 44/44 [00:08<00:00,  5.15it/s, acc=66.6, loss=0.667]"
     ]
    },
    {
     "name": "stdout",
     "output_type": "stream",
     "text": [
      "\n",
      " epoch: 351/400\n"
     ]
    },
    {
     "name": "stderr",
     "output_type": "stream",
     "text": [
      "\n",
      "Train--Epoch [351/400]: 100%|██████████| 187/187 [01:23<00:00,  2.25it/s, acc=72.1, loss=0.532]\n",
      "Valid--Epoch [351/400]: 100%|██████████| 44/44 [00:08<00:00,  5.21it/s, acc=66.1, loss=0.679]"
     ]
    },
    {
     "name": "stdout",
     "output_type": "stream",
     "text": [
      "\n",
      " epoch: 352/400\n"
     ]
    },
    {
     "name": "stderr",
     "output_type": "stream",
     "text": [
      "\n",
      "Train--Epoch [352/400]: 100%|██████████| 187/187 [01:22<00:00,  2.26it/s, acc=72.1, loss=0.533]\n",
      "Valid--Epoch [352/400]: 100%|██████████| 44/44 [00:08<00:00,  5.29it/s, acc=65.5, loss=0.696]"
     ]
    },
    {
     "name": "stdout",
     "output_type": "stream",
     "text": [
      "\n",
      " epoch: 353/400\n"
     ]
    },
    {
     "name": "stderr",
     "output_type": "stream",
     "text": [
      "\n",
      "Train--Epoch [353/400]: 100%|██████████| 187/187 [01:23<00:00,  2.25it/s, acc=72.2, loss=0.531]\n",
      "Valid--Epoch [353/400]: 100%|██████████| 44/44 [00:08<00:00,  5.17it/s, acc=65.9, loss=0.693]"
     ]
    },
    {
     "name": "stdout",
     "output_type": "stream",
     "text": [
      "\n",
      " epoch: 354/400\n"
     ]
    },
    {
     "name": "stderr",
     "output_type": "stream",
     "text": [
      "\n",
      "Train--Epoch [354/400]: 100%|██████████| 187/187 [01:23<00:00,  2.25it/s, acc=72.4, loss=0.531]\n",
      "Valid--Epoch [354/400]: 100%|██████████| 44/44 [00:08<00:00,  4.99it/s, acc=64.1, loss=0.756]"
     ]
    },
    {
     "name": "stdout",
     "output_type": "stream",
     "text": [
      "\n",
      " epoch: 355/400\n"
     ]
    },
    {
     "name": "stderr",
     "output_type": "stream",
     "text": [
      "\n",
      "Train--Epoch [355/400]: 100%|██████████| 187/187 [01:22<00:00,  2.26it/s, acc=72.4, loss=0.53] \n",
      "Valid--Epoch [355/400]: 100%|██████████| 44/44 [00:08<00:00,  4.99it/s, acc=65.3, loss=0.714]"
     ]
    },
    {
     "name": "stdout",
     "output_type": "stream",
     "text": [
      "\n",
      " epoch: 356/400\n"
     ]
    },
    {
     "name": "stderr",
     "output_type": "stream",
     "text": [
      "\n",
      "Train--Epoch [356/400]: 100%|██████████| 187/187 [01:22<00:00,  2.25it/s, acc=72.4, loss=0.529]\n",
      "Valid--Epoch [356/400]: 100%|██████████| 44/44 [00:08<00:00,  5.17it/s, acc=64.6, loss=0.722]"
     ]
    },
    {
     "name": "stdout",
     "output_type": "stream",
     "text": [
      "\n",
      " epoch: 357/400\n"
     ]
    },
    {
     "name": "stderr",
     "output_type": "stream",
     "text": [
      "\n",
      "Train--Epoch [357/400]: 100%|██████████| 187/187 [01:22<00:00,  2.25it/s, acc=72.6, loss=0.53] \n",
      "Valid--Epoch [357/400]: 100%|██████████| 44/44 [00:08<00:00,  5.11it/s, acc=65.8, loss=0.689]"
     ]
    },
    {
     "name": "stdout",
     "output_type": "stream",
     "text": [
      "\n",
      " epoch: 358/400\n"
     ]
    },
    {
     "name": "stderr",
     "output_type": "stream",
     "text": [
      "\n",
      "Train--Epoch [358/400]: 100%|██████████| 187/187 [01:23<00:00,  2.25it/s, acc=72.3, loss=0.529]\n",
      "Valid--Epoch [358/400]: 100%|██████████| 44/44 [00:08<00:00,  5.01it/s, acc=65.7, loss=0.693]"
     ]
    },
    {
     "name": "stdout",
     "output_type": "stream",
     "text": [
      "\n",
      " epoch: 359/400\n"
     ]
    },
    {
     "name": "stderr",
     "output_type": "stream",
     "text": [
      "\n",
      "Train--Epoch [359/400]: 100%|██████████| 187/187 [01:22<00:00,  2.26it/s, acc=72.5, loss=0.528]\n",
      "Valid--Epoch [359/400]: 100%|██████████| 44/44 [00:08<00:00,  5.31it/s, acc=66.7, loss=0.66] "
     ]
    },
    {
     "name": "stdout",
     "output_type": "stream",
     "text": [
      "\n",
      " epoch: 360/400\n"
     ]
    },
    {
     "name": "stderr",
     "output_type": "stream",
     "text": [
      "\n",
      "Train--Epoch [360/400]: 100%|██████████| 187/187 [01:22<00:00,  2.26it/s, acc=72.3, loss=0.529]\n",
      "Valid--Epoch [360/400]: 100%|██████████| 44/44 [00:08<00:00,  5.04it/s, acc=66.8, loss=0.658]"
     ]
    },
    {
     "name": "stdout",
     "output_type": "stream",
     "text": [
      "\n",
      " epoch: 361/400\n"
     ]
    },
    {
     "name": "stderr",
     "output_type": "stream",
     "text": [
      "\n",
      "Train--Epoch [361/400]: 100%|██████████| 187/187 [01:22<00:00,  2.26it/s, acc=72.4, loss=0.529]\n",
      "Valid--Epoch [361/400]: 100%|██████████| 44/44 [00:08<00:00,  5.26it/s, acc=65.7, loss=0.689]"
     ]
    },
    {
     "name": "stdout",
     "output_type": "stream",
     "text": [
      "\n",
      " epoch: 362/400\n"
     ]
    },
    {
     "name": "stderr",
     "output_type": "stream",
     "text": [
      "\n",
      "Train--Epoch [362/400]: 100%|██████████| 187/187 [01:23<00:00,  2.25it/s, acc=72.5, loss=0.529]\n",
      "Valid--Epoch [362/400]: 100%|██████████| 44/44 [00:08<00:00,  5.12it/s, acc=65.2, loss=0.707]"
     ]
    },
    {
     "name": "stdout",
     "output_type": "stream",
     "text": [
      "\n",
      " epoch: 363/400\n"
     ]
    },
    {
     "name": "stderr",
     "output_type": "stream",
     "text": [
      "\n",
      "Train--Epoch [363/400]: 100%|██████████| 187/187 [01:22<00:00,  2.26it/s, acc=72.6, loss=0.528]\n",
      "Valid--Epoch [363/400]: 100%|██████████| 44/44 [00:08<00:00,  5.28it/s, acc=67.7, loss=0.638]"
     ]
    },
    {
     "name": "stdout",
     "output_type": "stream",
     "text": [
      "\n",
      " epoch: 364/400\n"
     ]
    },
    {
     "name": "stderr",
     "output_type": "stream",
     "text": [
      "\n",
      "Train--Epoch [364/400]: 100%|██████████| 187/187 [01:22<00:00,  2.26it/s, acc=72.3, loss=0.529]\n",
      "Valid--Epoch [364/400]: 100%|██████████| 44/44 [00:08<00:00,  5.15it/s, acc=66.2, loss=0.675]"
     ]
    },
    {
     "name": "stdout",
     "output_type": "stream",
     "text": [
      "\n",
      " epoch: 365/400\n"
     ]
    },
    {
     "name": "stderr",
     "output_type": "stream",
     "text": [
      "\n",
      "Train--Epoch [365/400]: 100%|██████████| 187/187 [01:22<00:00,  2.26it/s, acc=72.5, loss=0.527]\n",
      "Valid--Epoch [365/400]: 100%|██████████| 44/44 [00:08<00:00,  5.21it/s, acc=65.6, loss=0.697]"
     ]
    },
    {
     "name": "stdout",
     "output_type": "stream",
     "text": [
      "\n",
      " epoch: 366/400\n"
     ]
    },
    {
     "name": "stderr",
     "output_type": "stream",
     "text": [
      "\n",
      "Train--Epoch [366/400]: 100%|██████████| 187/187 [01:23<00:00,  2.25it/s, acc=72.5, loss=0.527]\n",
      "Valid--Epoch [366/400]: 100%|██████████| 44/44 [00:08<00:00,  4.98it/s, acc=66.3, loss=0.668]"
     ]
    },
    {
     "name": "stdout",
     "output_type": "stream",
     "text": [
      "\n",
      " epoch: 367/400\n"
     ]
    },
    {
     "name": "stderr",
     "output_type": "stream",
     "text": [
      "\n",
      "Train--Epoch [367/400]: 100%|██████████| 187/187 [01:23<00:00,  2.25it/s, acc=72.6, loss=0.528]\n",
      "Valid--Epoch [367/400]: 100%|██████████| 44/44 [00:08<00:00,  5.04it/s, acc=65.2, loss=0.708]"
     ]
    },
    {
     "name": "stdout",
     "output_type": "stream",
     "text": [
      "\n",
      " epoch: 368/400\n"
     ]
    },
    {
     "name": "stderr",
     "output_type": "stream",
     "text": [
      "\n",
      "Train--Epoch [368/400]: 100%|██████████| 187/187 [01:22<00:00,  2.26it/s, acc=72.7, loss=0.525]\n",
      "Valid--Epoch [368/400]: 100%|██████████| 44/44 [00:08<00:00,  5.13it/s, acc=66.3, loss=0.675]"
     ]
    },
    {
     "name": "stdout",
     "output_type": "stream",
     "text": [
      "\n",
      " epoch: 369/400\n"
     ]
    },
    {
     "name": "stderr",
     "output_type": "stream",
     "text": [
      "\n",
      "Train--Epoch [369/400]: 100%|██████████| 187/187 [01:23<00:00,  2.25it/s, acc=72.6, loss=0.526]\n",
      "Valid--Epoch [369/400]: 100%|██████████| 44/44 [00:08<00:00,  5.16it/s, acc=65.9, loss=0.682]"
     ]
    },
    {
     "name": "stdout",
     "output_type": "stream",
     "text": [
      "\n",
      " epoch: 370/400\n"
     ]
    },
    {
     "name": "stderr",
     "output_type": "stream",
     "text": [
      "\n",
      "Train--Epoch [370/400]: 100%|██████████| 187/187 [01:22<00:00,  2.27it/s, acc=72.4, loss=0.527]\n",
      "Valid--Epoch [370/400]: 100%|██████████| 44/44 [00:08<00:00,  4.95it/s, acc=65.5, loss=0.694]"
     ]
    },
    {
     "name": "stdout",
     "output_type": "stream",
     "text": [
      "\n",
      " epoch: 371/400\n"
     ]
    },
    {
     "name": "stderr",
     "output_type": "stream",
     "text": [
      "\n",
      "Train--Epoch [371/400]: 100%|██████████| 187/187 [01:22<00:00,  2.27it/s, acc=72.7, loss=0.525]\n",
      "Valid--Epoch [371/400]: 100%|██████████| 44/44 [00:08<00:00,  5.13it/s, acc=65.1, loss=0.706]"
     ]
    },
    {
     "name": "stdout",
     "output_type": "stream",
     "text": [
      "\n",
      " epoch: 372/400\n"
     ]
    },
    {
     "name": "stderr",
     "output_type": "stream",
     "text": [
      "\n",
      "Train--Epoch [372/400]: 100%|██████████| 187/187 [01:22<00:00,  2.27it/s, acc=72.6, loss=0.526]\n",
      "Valid--Epoch [372/400]: 100%|██████████| 44/44 [00:08<00:00,  5.32it/s, acc=65.6, loss=0.691]"
     ]
    },
    {
     "name": "stdout",
     "output_type": "stream",
     "text": [
      "\n",
      " epoch: 373/400\n"
     ]
    },
    {
     "name": "stderr",
     "output_type": "stream",
     "text": [
      "\n",
      "Train--Epoch [373/400]: 100%|██████████| 187/187 [01:22<00:00,  2.26it/s, acc=72.5, loss=0.526]\n",
      "Valid--Epoch [373/400]: 100%|██████████| 44/44 [00:08<00:00,  5.20it/s, acc=66.9, loss=0.653]"
     ]
    },
    {
     "name": "stdout",
     "output_type": "stream",
     "text": [
      "\n",
      " epoch: 374/400\n"
     ]
    },
    {
     "name": "stderr",
     "output_type": "stream",
     "text": [
      "\n",
      "Train--Epoch [374/400]: 100%|██████████| 187/187 [01:22<00:00,  2.26it/s, acc=72.7, loss=0.524]\n",
      "Valid--Epoch [374/400]: 100%|██████████| 44/44 [00:08<00:00,  5.15it/s, acc=65.6, loss=0.689]"
     ]
    },
    {
     "name": "stdout",
     "output_type": "stream",
     "text": [
      "\n",
      " epoch: 375/400\n"
     ]
    },
    {
     "name": "stderr",
     "output_type": "stream",
     "text": [
      "\n",
      "Train--Epoch [375/400]: 100%|██████████| 187/187 [01:23<00:00,  2.25it/s, acc=73.1, loss=0.521]\n",
      "Valid--Epoch [375/400]: 100%|██████████| 44/44 [00:08<00:00,  5.14it/s, acc=67.1, loss=0.654]"
     ]
    },
    {
     "name": "stdout",
     "output_type": "stream",
     "text": [
      "\n",
      " epoch: 376/400\n"
     ]
    },
    {
     "name": "stderr",
     "output_type": "stream",
     "text": [
      "\n",
      "Train--Epoch [376/400]: 100%|██████████| 187/187 [01:22<00:00,  2.26it/s, acc=72.8, loss=0.524]\n",
      "Valid--Epoch [376/400]: 100%|██████████| 44/44 [00:08<00:00,  4.95it/s, acc=66.6, loss=0.662]"
     ]
    },
    {
     "name": "stdout",
     "output_type": "stream",
     "text": [
      "\n",
      " epoch: 377/400\n"
     ]
    },
    {
     "name": "stderr",
     "output_type": "stream",
     "text": [
      "\n",
      "Train--Epoch [377/400]: 100%|██████████| 187/187 [01:22<00:00,  2.26it/s, acc=73, loss=0.524]  \n",
      "Valid--Epoch [377/400]: 100%|██████████| 44/44 [00:08<00:00,  5.02it/s, acc=65.3, loss=0.7]  "
     ]
    },
    {
     "name": "stdout",
     "output_type": "stream",
     "text": [
      "\n",
      " epoch: 378/400\n"
     ]
    },
    {
     "name": "stderr",
     "output_type": "stream",
     "text": [
      "\n",
      "Train--Epoch [378/400]: 100%|██████████| 187/187 [01:22<00:00,  2.25it/s, acc=72.8, loss=0.522]\n",
      "Valid--Epoch [378/400]: 100%|██████████| 44/44 [00:08<00:00,  5.18it/s, acc=65.5, loss=0.692]"
     ]
    },
    {
     "name": "stdout",
     "output_type": "stream",
     "text": [
      "\n",
      " epoch: 379/400\n"
     ]
    },
    {
     "name": "stderr",
     "output_type": "stream",
     "text": [
      "\n",
      "Train--Epoch [379/400]: 100%|██████████| 187/187 [01:23<00:00,  2.24it/s, acc=73.2, loss=0.521]\n",
      "Valid--Epoch [379/400]: 100%|██████████| 44/44 [00:08<00:00,  5.30it/s, acc=68.5, loss=0.614]"
     ]
    },
    {
     "name": "stdout",
     "output_type": "stream",
     "text": [
      "\n",
      " epoch: 380/400\n"
     ]
    },
    {
     "name": "stderr",
     "output_type": "stream",
     "text": [
      "\n",
      "Train--Epoch [380/400]: 100%|██████████| 187/187 [01:23<00:00,  2.25it/s, acc=73.1, loss=0.521]\n",
      "Valid--Epoch [380/400]: 100%|██████████| 44/44 [00:08<00:00,  5.11it/s, acc=65, loss=0.713]  "
     ]
    },
    {
     "name": "stdout",
     "output_type": "stream",
     "text": [
      "\n",
      " epoch: 381/400\n"
     ]
    },
    {
     "name": "stderr",
     "output_type": "stream",
     "text": [
      "\n",
      "Train--Epoch [381/400]: 100%|██████████| 187/187 [01:22<00:00,  2.27it/s, acc=73, loss=0.522]  \n",
      "Valid--Epoch [381/400]: 100%|██████████| 44/44 [00:08<00:00,  5.31it/s, acc=65.8, loss=0.682]"
     ]
    },
    {
     "name": "stdout",
     "output_type": "stream",
     "text": [
      "\n",
      " epoch: 382/400\n"
     ]
    },
    {
     "name": "stderr",
     "output_type": "stream",
     "text": [
      "\n",
      "Train--Epoch [382/400]: 100%|██████████| 187/187 [01:23<00:00,  2.25it/s, acc=73.3, loss=0.519]\n",
      "Valid--Epoch [382/400]: 100%|██████████| 44/44 [00:08<00:00,  5.07it/s, acc=65.5, loss=0.694]"
     ]
    },
    {
     "name": "stdout",
     "output_type": "stream",
     "text": [
      "\n",
      " epoch: 383/400\n"
     ]
    },
    {
     "name": "stderr",
     "output_type": "stream",
     "text": [
      "\n",
      "Train--Epoch [383/400]: 100%|██████████| 187/187 [01:22<00:00,  2.27it/s, acc=72.9, loss=0.522]\n",
      "Valid--Epoch [383/400]: 100%|██████████| 44/44 [00:08<00:00,  5.23it/s, acc=65, loss=0.714]  "
     ]
    },
    {
     "name": "stdout",
     "output_type": "stream",
     "text": [
      "\n",
      " epoch: 384/400\n"
     ]
    },
    {
     "name": "stderr",
     "output_type": "stream",
     "text": [
      "\n",
      "Train--Epoch [384/400]: 100%|██████████| 187/187 [01:22<00:00,  2.26it/s, acc=73, loss=0.521]  \n",
      "Valid--Epoch [384/400]: 100%|██████████| 44/44 [00:08<00:00,  5.02it/s, acc=65.1, loss=0.709]"
     ]
    },
    {
     "name": "stdout",
     "output_type": "stream",
     "text": [
      "\n",
      " epoch: 385/400\n"
     ]
    },
    {
     "name": "stderr",
     "output_type": "stream",
     "text": [
      "\n",
      "Train--Epoch [385/400]: 100%|██████████| 187/187 [01:22<00:00,  2.26it/s, acc=73.1, loss=0.521]\n",
      "Valid--Epoch [385/400]: 100%|██████████| 44/44 [00:08<00:00,  5.27it/s, acc=65.9, loss=0.673]"
     ]
    },
    {
     "name": "stdout",
     "output_type": "stream",
     "text": [
      "\n",
      " epoch: 386/400\n"
     ]
    },
    {
     "name": "stderr",
     "output_type": "stream",
     "text": [
      "\n",
      "Train--Epoch [386/400]: 100%|██████████| 187/187 [01:22<00:00,  2.25it/s, acc=73.3, loss=0.52] \n",
      "Valid--Epoch [386/400]: 100%|██████████| 44/44 [00:08<00:00,  5.09it/s, acc=65.5, loss=0.691]"
     ]
    },
    {
     "name": "stdout",
     "output_type": "stream",
     "text": [
      "\n",
      " epoch: 387/400\n"
     ]
    },
    {
     "name": "stderr",
     "output_type": "stream",
     "text": [
      "\n",
      "Train--Epoch [387/400]: 100%|██████████| 187/187 [01:22<00:00,  2.27it/s, acc=72.9, loss=0.521]\n",
      "Valid--Epoch [387/400]: 100%|██████████| 44/44 [00:08<00:00,  5.32it/s, acc=66.1, loss=0.672]"
     ]
    },
    {
     "name": "stdout",
     "output_type": "stream",
     "text": [
      "\n",
      " epoch: 388/400\n"
     ]
    },
    {
     "name": "stderr",
     "output_type": "stream",
     "text": [
      "\n",
      "Train--Epoch [388/400]: 100%|██████████| 187/187 [01:18<00:00,  2.37it/s, acc=73.1, loss=0.519]\n",
      "Valid--Epoch [388/400]: 100%|██████████| 44/44 [00:08<00:00,  5.32it/s, acc=65.4, loss=0.689]"
     ]
    },
    {
     "name": "stdout",
     "output_type": "stream",
     "text": [
      "\n",
      " epoch: 389/400\n"
     ]
    },
    {
     "name": "stderr",
     "output_type": "stream",
     "text": [
      "\n",
      "Train--Epoch [389/400]: 100%|██████████| 187/187 [01:18<00:00,  2.37it/s, acc=73.1, loss=0.52] \n",
      "Valid--Epoch [389/400]: 100%|██████████| 44/44 [00:08<00:00,  5.36it/s, acc=65.8, loss=0.682]"
     ]
    },
    {
     "name": "stdout",
     "output_type": "stream",
     "text": [
      "\n",
      " epoch: 390/400\n"
     ]
    },
    {
     "name": "stderr",
     "output_type": "stream",
     "text": [
      "\n",
      "Train--Epoch [390/400]: 100%|██████████| 187/187 [01:18<00:00,  2.38it/s, acc=73.1, loss=0.52] \n",
      "Valid--Epoch [390/400]: 100%|██████████| 44/44 [00:08<00:00,  5.19it/s, acc=65.9, loss=0.684]\n"
     ]
    },
    {
     "name": "stdout",
     "output_type": "stream",
     "text": [
      "\n",
      " epoch: 391/400\n"
     ]
    },
    {
     "name": "stderr",
     "output_type": "stream",
     "text": [
      "Train--Epoch [391/400]: 100%|██████████| 187/187 [01:19<00:00,  2.36it/s, acc=73.2, loss=0.519]\n",
      "Valid--Epoch [391/400]: 100%|██████████| 44/44 [00:08<00:00,  5.32it/s, acc=65.9, loss=0.669]"
     ]
    },
    {
     "name": "stdout",
     "output_type": "stream",
     "text": [
      "\n",
      " epoch: 392/400\n"
     ]
    },
    {
     "name": "stderr",
     "output_type": "stream",
     "text": [
      "\n",
      "Train--Epoch [392/400]: 100%|██████████| 187/187 [01:18<00:00,  2.39it/s, acc=73.2, loss=0.519]\n",
      "Valid--Epoch [392/400]: 100%|██████████| 44/44 [00:08<00:00,  5.19it/s, acc=65.9, loss=0.676]"
     ]
    },
    {
     "name": "stdout",
     "output_type": "stream",
     "text": [
      "\n",
      " epoch: 393/400\n"
     ]
    },
    {
     "name": "stderr",
     "output_type": "stream",
     "text": [
      "\n",
      "Train--Epoch [393/400]: 100%|██████████| 187/187 [01:18<00:00,  2.38it/s, acc=73.4, loss=0.517]\n",
      "Valid--Epoch [393/400]: 100%|██████████| 44/44 [00:08<00:00,  5.03it/s, acc=65.9, loss=0.678]"
     ]
    },
    {
     "name": "stdout",
     "output_type": "stream",
     "text": [
      "\n",
      " epoch: 394/400\n"
     ]
    },
    {
     "name": "stderr",
     "output_type": "stream",
     "text": [
      "\n",
      "Train--Epoch [394/400]: 100%|██████████| 187/187 [01:18<00:00,  2.37it/s, acc=73.2, loss=0.519]\n",
      "Valid--Epoch [394/400]: 100%|██████████| 44/44 [00:08<00:00,  5.40it/s, acc=66, loss=0.668]  "
     ]
    },
    {
     "name": "stdout",
     "output_type": "stream",
     "text": [
      "\n",
      " epoch: 395/400\n"
     ]
    },
    {
     "name": "stderr",
     "output_type": "stream",
     "text": [
      "\n",
      "Train--Epoch [395/400]: 100%|██████████| 187/187 [01:18<00:00,  2.37it/s, acc=73.2, loss=0.518]\n",
      "Valid--Epoch [395/400]: 100%|██████████| 44/44 [00:08<00:00,  5.03it/s, acc=65.8, loss=0.684]"
     ]
    },
    {
     "name": "stdout",
     "output_type": "stream",
     "text": [
      "\n",
      " epoch: 396/400\n"
     ]
    },
    {
     "name": "stderr",
     "output_type": "stream",
     "text": [
      "\n",
      "Train--Epoch [396/400]: 100%|██████████| 187/187 [01:18<00:00,  2.38it/s, acc=73.2, loss=0.52] \n",
      "Valid--Epoch [396/400]: 100%|██████████| 44/44 [00:08<00:00,  5.10it/s, acc=65.2, loss=0.699]"
     ]
    },
    {
     "name": "stdout",
     "output_type": "stream",
     "text": [
      "\n",
      " epoch: 397/400\n"
     ]
    },
    {
     "name": "stderr",
     "output_type": "stream",
     "text": [
      "\n",
      "Train--Epoch [397/400]: 100%|██████████| 187/187 [01:18<00:00,  2.39it/s, acc=73.3, loss=0.517]\n",
      "Valid--Epoch [397/400]: 100%|██████████| 44/44 [00:08<00:00,  5.34it/s, acc=65.1, loss=0.701]"
     ]
    },
    {
     "name": "stdout",
     "output_type": "stream",
     "text": [
      "\n",
      " epoch: 398/400\n"
     ]
    },
    {
     "name": "stderr",
     "output_type": "stream",
     "text": [
      "\n",
      "Train--Epoch [398/400]: 100%|██████████| 187/187 [01:18<00:00,  2.39it/s, acc=73.5, loss=0.516]\n",
      "Valid--Epoch [398/400]: 100%|██████████| 44/44 [00:08<00:00,  5.02it/s, acc=65.9, loss=0.674]"
     ]
    },
    {
     "name": "stdout",
     "output_type": "stream",
     "text": [
      "\n",
      " epoch: 399/400\n"
     ]
    },
    {
     "name": "stderr",
     "output_type": "stream",
     "text": [
      "\n",
      "Train--Epoch [399/400]: 100%|██████████| 187/187 [01:18<00:00,  2.38it/s, acc=73.3, loss=0.516]\n",
      "Valid--Epoch [399/400]: 100%|██████████| 44/44 [00:08<00:00,  5.26it/s, acc=65.4, loss=0.691]\n"
     ]
    },
    {
     "name": "stdout",
     "output_type": "stream",
     "text": [
      "\n",
      " epoch: 400/400\n"
     ]
    },
    {
     "name": "stderr",
     "output_type": "stream",
     "text": [
      "Train--Epoch [400/400]: 100%|██████████| 187/187 [01:18<00:00,  2.39it/s, acc=73.4, loss=0.516]\n",
      "Valid--Epoch [400/400]: 100%|██████████| 44/44 [00:08<00:00,  5.18it/s, acc=65.5, loss=0.687]\n"
     ]
    }
   ],
   "source": [
    "model.to(device)\n",
    "for epoch in range(start_epoch, end_epoch):\n",
    "\n",
    "    print(f'\\n epoch: {epoch+1}/{end_epoch}')\n",
    "\n",
    "    ##########################################################\n",
    "    model.train(True)\n",
    "    tr_loss = 0\n",
    "    correct = 0\n",
    "    total = 0\n",
    "    running_lr = 0\n",
    "\n",
    "    loop1 = tqdm(enumerate(train_loader), total=len(train_loader))\n",
    "    for batch_idx, (*_, inputs, targets) in loop1:\n",
    "        inputs, targets = inputs.to(device), targets.to(device)\n",
    "\n",
    "        outputs = model(inputs)\n",
    "        loss = criterion(outputs, targets)\n",
    "\n",
    "        # Zero gradients for every batch\n",
    "        optimizer.zero_grad()\n",
    "        # Backward path\n",
    "        loss.backward()\n",
    "\n",
    "        running_lr += optimizer.param_groups[-1]['lr']\n",
    "\n",
    "        # Optimizer Step\n",
    "        optimizer.step()\n",
    "\n",
    "        tr_loss += loss.item()\n",
    "        _, predicted = outputs.max(1)\n",
    "        total += targets.size(0)\n",
    "        correct += predicted.eq(targets).sum().item()\n",
    "\n",
    "        avg_tr_loss = tr_loss/(batch_idx+1)\n",
    "        avg_tr_accuracy = 100.*correct/total\n",
    "        avg_running_lr = running_lr/(batch_idx+1)\n",
    "\n",
    "        loop1.set_description(f\"Train--Epoch [{epoch+1}/{end_epoch}]\")\n",
    "        loop1.set_postfix(loss=avg_tr_loss, acc=avg_tr_accuracy)\n",
    "\n",
    "    ##########################################################\n",
    "    model.eval()\n",
    "    val_loss = 0\n",
    "    correct = 0\n",
    "    total = 0\n",
    "    with torch.no_grad():\n",
    "\n",
    "        loop2 = tqdm(enumerate(valid_loader), total=len(valid_loader))\n",
    "        for batch_idx, (*_, inputs, targets) in loop2:\n",
    "            inputs, targets = inputs.to(device), targets.to(device)\n",
    "\n",
    "            outputs = model(inputs)\n",
    "            loss = criterion(outputs, targets)\n",
    "\n",
    "            val_loss += loss.item()\n",
    "            _, predicted = outputs.max(1)\n",
    "            total += targets.size(0)\n",
    "            correct += predicted.eq(targets).sum().item()\n",
    "\n",
    "            avg_val_loss = val_loss/(batch_idx+1)\n",
    "            avg_val_accuracy = 100.*correct/total\n",
    "\n",
    "            loop2.set_description(f\"Valid--Epoch [{epoch+1}/{end_epoch}]\")\n",
    "            loop2.set_postfix(loss=avg_val_loss, acc=avg_val_accuracy)\n",
    "    ##########################################################\n",
    "\n",
    "    tr_loss_lst.append(avg_tr_loss)\n",
    "    tr_acc_lst.append(avg_tr_accuracy)\n",
    "    val_loss_lst.append(avg_val_loss)\n",
    "    val_acc_lst.append(avg_val_accuracy)\n",
    "    optimizer_lst.append(type(optimizer).__name__)\n",
    "    running_lr_lst.append(avg_running_lr)\n",
    "    training_phase_lst.append(training_phase)\n",
    "    hyper_parameters_lst.append(hyper_parameters)\n",
    "\n",
    "    # Save checkpoint.\n",
    "    if avg_val_accuracy > best_acc:\n",
    "        best_acc = avg_val_accuracy\n",
    "\n",
    "        print('Saving..')\n",
    "        state = {\"model\": model.state_dict(),\n",
    "                 \"optimizer\": optimizer.state_dict(),\n",
    "                 \"epoch\": epoch,\n",
    "                 \"best_acc\": best_acc,\n",
    "                 \"tr_loss_lst\": tr_loss_lst,\n",
    "                 \"tr_acc_lst\": tr_acc_lst,\n",
    "                 \"val_loss_lst\": val_loss_lst,\n",
    "                 \"val_acc_lst\": val_acc_lst,\n",
    "                 \"optimizer_lst\": optimizer_lst,\n",
    "                 \"running_lr_lst\": running_lr_lst,\n",
    "                 \"training_phase_lst\":training_phase_lst,\n",
    "                 \"hyper_parameters_lst\": hyper_parameters_lst\n",
    "                 }\n",
    "        torch.save(state, model_state_path +\n",
    "                   f'{model_type}_wpt_cifak_ph{training_phase}_Epoch{epoch}_acc{best_acc:.2f}')\n",
    "\n",
    "    ##########################################################\n",
    "\n",
    "    if use_scheduler:\n",
    "        scheduler.step()  # step scheduling"
   ]
  },
  {
   "cell_type": "code",
   "execution_count": 43,
   "metadata": {},
   "outputs": [],
   "source": [
    "state = {\"model\": model.state_dict(),\n",
    "            \"optimizer\": optimizer.state_dict(),\n",
    "            \"epoch\": epoch,\n",
    "            \"best_acc\": best_acc,\n",
    "            \"tr_loss_lst\": tr_loss_lst,\n",
    "            \"tr_acc_lst\": tr_acc_lst,\n",
    "            \"val_loss_lst\": val_loss_lst,\n",
    "            \"val_acc_lst\": val_acc_lst,\n",
    "            \"optimizer_lst\": optimizer_lst,\n",
    "            \"running_lr_lst\": running_lr_lst,\n",
    "            \"training_phase_lst\":training_phase_lst,\n",
    "            \"hyper_parameters_lst\": hyper_parameters_lst\n",
    "            }\n",
    "torch.save(state, model_state_path +\n",
    "            f'{model_type}_wpt_cifak_ph{training_phase}_lastEpoch{epoch}_acc{avg_val_accuracy:.2f}')"
   ]
  },
  {
   "cell_type": "code",
   "execution_count": 40,
   "metadata": {},
   "outputs": [
    {
     "data": {
      "image/png": "[encoded data removed]",
      "text/plain": [
       "<Figure size 640x480 with 2 Axes>"
      ]
     },
     "metadata": {},
     "output_type": "display_data"
    }
   ],
   "source": [
    "fig, axs = plt.subplots(2, 1)\n",
    "\n",
    "axs[0].plot(range(len(tr_loss_lst )), tr_loss_lst , label='Train Loss')\n",
    "axs[0].plot(range(len(val_loss_lst)), val_loss_lst, label='Validation Loss')\n",
    "axs[0].set_ylim([0,2])\n",
    "\n",
    "axs[1].plot(range(len(tr_acc_lst)), tr_acc_lst, label='Train Accuracy')\n",
    "axs[1].plot(range(len(val_acc_lst)), val_acc_lst, label='Validation Accuracy')\n",
    "axs[1].set_ylim([40,80])\n",
    "\n",
    "axs[0].legend()\n",
    "axs[1].legend()\n",
    "plt.show()"
   ]
  },
  {
   "cell_type": "code",
   "execution_count": 38,
   "metadata": {},
   "outputs": [
    {
     "name": "stdout",
     "output_type": "stream",
     "text": [
      "Best Validation Accuracy is: 68.77%\n"
     ]
    }
   ],
   "source": [
    "print(f\"Best Validation Accuracy is: {best_acc:.2f}%\")"
   ]
  },
  {
   "cell_type": "code",
   "execution_count": 39,
   "metadata": {},
   "outputs": [
    {
     "data": {
      "image/png": "[encoded data removed]",
      "text/plain": [
       "<Figure size 640x480 with 1 Axes>"
      ]
     },
     "metadata": {},
     "output_type": "display_data"
    }
   ],
   "source": [
    "fig, axs = plt.subplots(1, 1)\n",
    "\n",
    "axs.plot(tr_loss_lst, running_lr_lst, label=f'lr change for the {optimizer_lst[-1]} optimizer')\n",
    "axs.set_xlabel('Training_Loss')\n",
    "axs.set_ylabel('Running Learning Rate')\n",
    "axs.legend()\n",
    "plt.show()"
   ]
  }
 ],
 "metadata": {
  "kernelspec": {
   "display_name": "timmvenv11",
   "language": "python",
   "name": "python3"
  },
  "language_info": {
   "codemirror_mode": {
    "name": "ipython",
    "version": 3
   },
   "file_extension": ".py",
   "mimetype": "text/x-python",
   "name": "python",
   "nbconvert_exporter": "python",
   "pygments_lexer": "ipython3",
   "version": "3.11.0rc1"
  }
 },
 "nbformat": 4,
 "nbformat_minor": 2
}
