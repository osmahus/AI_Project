{
 "cells": [
  {
   "cell_type": "code",
   "execution_count": 1,
   "metadata": {},
   "outputs": [
    {
     "data": {
      "text/plain": [
       "<torch._C.Generator at 0x7f3869683d50>"
      ]
     },
     "execution_count": 1,
     "metadata": {},
     "output_type": "execute_result"
    }
   ],
   "source": [
    "import os\n",
    "import cv2\n",
    "\n",
    "import numpy as np\n",
    "import pandas as pd\n",
    "from tqdm import tqdm, trange\n",
    "\n",
    "import matplotlib.pyplot as plt\n",
    "from mpl_toolkits.axes_grid1 import ImageGrid\n",
    "\n",
    "import torch\n",
    "import torch.nn as nn\n",
    "\n",
    "\n",
    "# The cross-entropy loss penalizes the model more when it is more confident in the incorrect class\n",
    "# which makes intuitive sense.\n",
    "from torch.nn import CrossEntropyLoss\n",
    "\n",
    "# Adam is an optimization algorithm that can be used instead of the classical SGD procedure\n",
    "# to update network weights iterative based in training data.\n",
    "from torch.optim import Adam\n",
    "from torch.utils.data import Dataset, DataLoader\n",
    "\n",
    "import torch.multiprocessing as mp\n",
    "\n",
    "from torchvision import transforms, datasets, models\n",
    "from torchvision.io import read_image\n",
    "\n",
    "from torchinfo import summary\n",
    "\n",
    "np.random.seed(0)\n",
    "torch.manual_seed(0)"
   ]
  },
  {
   "cell_type": "code",
   "execution_count": 2,
   "metadata": {},
   "outputs": [
    {
     "name": "stdout",
     "output_type": "stream",
     "text": [
      "Torch is using device: cuda:0\n"
     ]
    },
    {
     "data": {
      "text/plain": [
       "'NVIDIA GeForce RTX 3070 Ti Laptop GPU'"
      ]
     },
     "execution_count": 2,
     "metadata": {},
     "output_type": "execute_result"
    }
   ],
   "source": [
    "# torch.cuda.current_device()\n",
    "# torch.cuda.get_device_name(0)\n",
    "# torch.cuda.device_count()\n",
    "device = torch.device('cuda:0' if torch.cuda.is_available() else 'cpu')\n",
    "print('Torch is using device:', device)\n",
    "torch.cuda.get_device_name(device)"
   ]
  },
  {
   "cell_type": "code",
   "execution_count": 3,
   "metadata": {},
   "outputs": [],
   "source": [
    "path_tr = '../../data/CIFAK/train'\n",
    "path_tst = '../../data/CIFAK/test'"
   ]
  },
  {
   "cell_type": "markdown",
   "metadata": {},
   "source": [
    "#### Remove Spaces from the Dataset folder to simplify reading from it"
   ]
  },
  {
   "cell_type": "code",
   "execution_count": 4,
   "metadata": {},
   "outputs": [],
   "source": [
    "# def remove_fname_space(path):\n",
    "#     for filename in os.listdir(path):\n",
    "#         my_source = path + \"/\" + filename\n",
    "#         my_dest = path + \"/\" + filename.strip().replace(\" \", \"\")\n",
    "#         os.rename(my_source, my_dest)\n",
    "\n",
    "\n",
    "# remove_fname_space(path_tr + \"/REAL\")\n",
    "# remove_fname_space(path_tr + \"/FAKE\")\n",
    "# remove_fname_space(path_tst + \"/REAL\")\n",
    "# remove_fname_space(path_tst + \"/FAKE\")"
   ]
  },
  {
   "cell_type": "markdown",
   "metadata": {},
   "source": [
    "#### Gather all the data from the \"CIFAK\" dataset to be used later"
   ]
  },
  {
   "cell_type": "code",
   "execution_count": 5,
   "metadata": {},
   "outputs": [],
   "source": [
    "def dataset_data(img_path, folder_name, img_class):\n",
    "    fname = os.listdir(img_path + \"/\"+folder_name)\n",
    "    fname.sort()\n",
    "    fpath = [img_path + \"/\"+folder_name+\"/\" + f for f in fname]\n",
    "    print(fpath[0])\n",
    "    labels = [img_class]*len(fname)\n",
    "    return fpath, labels"
   ]
  },
  {
   "cell_type": "code",
   "execution_count": 6,
   "metadata": {},
   "outputs": [
    {
     "name": "stdout",
     "output_type": "stream",
     "text": [
      "../../data/CIFAK/train/REAL/0000(10).jpg\n",
      "../../data/CIFAK/train/FAKE/1000(10).jpg\n",
      "../../data/CIFAK/test/REAL/0000(10).jpg\n",
      "../../data/CIFAK/test/FAKE/0(10).jpg\n"
     ]
    }
   ],
   "source": [
    "fpath_tr_real, labels_tr_real = dataset_data(path_tr, \"REAL\", 1)\n",
    "fpath_tr_fake, labels_tr_fake = dataset_data(path_tr, \"FAKE\", 0)\n",
    "fpath_tr = fpath_tr_real + fpath_tr_fake\n",
    "labels_tr = labels_tr_real+labels_tr_fake\n",
    "tr_dict = {'Image_path': fpath_tr, 'True?': labels_tr}\n",
    "tr_df = pd.DataFrame(tr_dict)\n",
    "tr_df.to_csv(path_tr+\"/tr_annotation.csv\")\n",
    "\n",
    "fpath_tst_real, labels_tst_real = dataset_data(path_tst, \"REAL\", 1)\n",
    "fpath_tst_fake, labels_tst_fake = dataset_data(path_tst, \"FAKE\", 0)\n",
    "fpath_tst = fpath_tst_real + fpath_tst_fake\n",
    "labels_tst = labels_tst_real+labels_tst_fake\n",
    "tst_dict = {'Image_path': fpath_tst, 'True?': labels_tst}\n",
    "tst_df = pd.DataFrame(tst_dict)\n",
    "tst_df.to_csv(path_tst+\"/tst_annotation.csv\")"
   ]
  },
  {
   "cell_type": "markdown",
   "metadata": {},
   "source": [
    "#### Determine the number of slices (patches) of the image"
   ]
  },
  {
   "cell_type": "code",
   "execution_count": 7,
   "metadata": {},
   "outputs": [
    {
     "data": {
      "text/plain": [
       "8"
      ]
     },
     "execution_count": 7,
     "metadata": {},
     "output_type": "execute_result"
    }
   ],
   "source": [
    "img_size = cv2.imread(fpath_tr[0]).shape[0]\n",
    "\n",
    "horizontal_slides= 4\n",
    "num_loader_images = 16\n",
    "\n",
    "slice_width = img_size//horizontal_slides\n",
    "total_img_slices = horizontal_slides**2\n",
    "\n",
    "slice_width"
   ]
  },
  {
   "cell_type": "code",
   "execution_count": 8,
   "metadata": {},
   "outputs": [],
   "source": [
    "class SliceImage:\n",
    "    def __init__(self, slice_width):\n",
    "        self.slice_width = slice_width\n",
    "\n",
    "    def slice(self, img):\n",
    "        # img: is a tensor of the shape (Color_Channels x Rows (Hight) x Columns (Width))\n",
    "        #\n",
    "        # Make a slice every \"slice_width\" as we are moving across dimension 1 (as we are moving\n",
    "        # vertically across rows)\n",
    "        img = img.unfold(1, self.slice_width, self.slice_width)\n",
    "        # Make a slice every slice_width as we are moving across dimension 2,\n",
    "        # Note that previous operation has added new dimension at the beginning\n",
    "        # refers to no. of vertical slices, hence 2 here still refers to the rows.\n",
    "        img = img.unfold(2, self.slice_width, self.slice_width)\n",
    "        return img\n",
    "\n",
    "    def __call__(self, img):\n",
    "        img = self.slice(img)\n",
    "        channels = img.size(0)\n",
    "\n",
    "        return img.reshape(-1, self.slice_width * self.slice_width * channels)\n",
    "\n",
    "    plt.show()"
   ]
  },
  {
   "cell_type": "code",
   "execution_count": 9,
   "metadata": {},
   "outputs": [],
   "source": [
    "# Define the transforms on the input data (x) tensor\n",
    "data_transform = transforms.Compose([\n",
    "    transforms.ToPILImage(),\n",
    "    # transforms.Resize((32, 32)),\n",
    "    # transforms.CenterCrop(224),\n",
    "    transforms.ToTensor(),\n",
    "    transforms.Normalize(mean=[0.5, 0.5, 0.5], std=[0.5, 0.5, 0.5]),\n",
    "    SliceImage(slice_width=slice_width)\n",
    "])"
   ]
  },
  {
   "cell_type": "code",
   "execution_count": 10,
   "metadata": {},
   "outputs": [],
   "source": [
    "# Custom Dataset Class\n",
    "class Images_Dataset(Dataset):\n",
    "    def __init__(self, annotations_file, transform=None):\n",
    "        \n",
    "        self.annotation = pd.read_csv(annotations_file)\n",
    "        self.transform = transform\n",
    "\n",
    "    def __getitem__(self, index):\n",
    "        \n",
    "        img = read_image(self.annotation.iloc[index, 1])\n",
    "        # img.to(device)\n",
    "        labels = self.annotation.iloc[index, 2]\n",
    "\n",
    "        if self.transform:\n",
    "            img_t = self.transform(img)\n",
    "\n",
    "        return img, img_t, labels\n",
    "\n",
    "    def __len__(self):\n",
    "        # To return the length of the dataset\n",
    "        return self.annotation.shape[0]"
   ]
  },
  {
   "cell_type": "code",
   "execution_count": 11,
   "metadata": {},
   "outputs": [],
   "source": [
    "# Define the dataset object and configure the Data Loader\n",
    "tr_annotation_file = path_tr+\"/tr_annotation.csv\"\n",
    "tst_annotation_file = path_tst+\"/tst_annotation.csv\"\n",
    "\n",
    "Im_tr_dataset = Images_Dataset(tr_annotation_file, data_transform)\n",
    "\n",
    "Im_tr_loader = DataLoader(dataset=Im_tr_dataset,\n",
    "                          batch_size=num_loader_images,\n",
    "                          # Drops the last mini batch if less than the batch size (could enhance the model accuracy)\n",
    "                          drop_last=True,\n",
    "                          shuffle=True,\n",
    "                          num_workers=4)\n",
    "\n",
    "\n",
    "Im_tst_dataset = Images_Dataset(tst_annotation_file, data_transform)\n",
    "\n",
    "Im_tst_loader = DataLoader(dataset=Im_tst_dataset,\n",
    "                          batch_size=num_loader_images,\n",
    "                          # Drops the last mini batch if less than the batch size (could enhance the model accuracy)\n",
    "                          drop_last=True,\n",
    "                          shuffle=True,\n",
    "                          num_workers=4)"
   ]
  },
  {
   "cell_type": "markdown",
   "metadata": {},
   "source": [
    "#### Plot the original Image and the slices Image"
   ]
  },
  {
   "cell_type": "code",
   "execution_count": 12,
   "metadata": {},
   "outputs": [],
   "source": [
    "def img_data(Img_train_loader, index):\n",
    "\n",
    "    img = Img_train_loader.dataset[index][0]\n",
    "    img_t = Img_train_loader.dataset[index][1]\n",
    "\n",
    "    channels = img.size(0)\n",
    "    img_size = img.size(1)\n",
    "\n",
    "    total_img_slices = img_t.size(0)\n",
    "    slice_flat = img_t.size(1)\n",
    "\n",
    "    imgs_per_batch = Im_tr_loader.batch_size\n",
    "\n",
    "    slice_width = int(np.sqrt(slice_flat/channels))\n",
    "\n",
    "    return img, channels, img_size, slice_width, total_img_slices, slice_flat, imgs_per_batch"
   ]
  },
  {
   "cell_type": "code",
   "execution_count": 13,
   "metadata": {},
   "outputs": [],
   "source": [
    "def img_plot(img, slice_width):\n",
    "    slice = SliceImage(slice_width)\n",
    "    sliced_img = slice.slice(img).permute(1, 2, 0, 3, 4)\n",
    "\n",
    "    fig = plt.figure(layout=\"constrained\", figsize=(4, 4))\n",
    "    subfigs = fig.subfigures(2, 1,height_ratios=[1., 1.])\n",
    "    \n",
    "    axs0 = subfigs[0].subplots(1, 1)\n",
    "    axs0.imshow(img.permute(1, 2, 0))\n",
    "    axs0.axis('off')\n",
    "\n",
    "    grid = ImageGrid(subfigs[1], 111, nrows_ncols=(\n",
    "        sliced_img.size(0), sliced_img.size(1)), axes_pad=0.03)\n",
    "\n",
    "    for i, ax in enumerate(grid):\n",
    "        i_b4 = str(np.base_repr(i, sliced_img.size(0))).zfill(2)\n",
    "        row = int(i_b4[0])\n",
    "        column = int(i_b4[1])\n",
    "        patch = sliced_img[row][column].permute(1, 2, 0).numpy()\n",
    "        ax.imshow(patch)\n",
    "        ax.axis('off')"
   ]
  },
  {
   "cell_type": "code",
   "execution_count": 14,
   "metadata": {},
   "outputs": [
    {
     "data": {
      "image/png": "[encoded data removed]",
      "text/plain": [
       "<Figure size 400x400 with 33 Axes>"
      ]
     },
     "metadata": {},
     "output_type": "display_data"
    }
   ],
   "source": [
    "img, ch, img_size, slice_width, slices, slice_flat, batch_size = img_data(\n",
    "    Im_tr_loader, 2)\n",
    "img_plot(img, slice_width)"
   ]
  },
  {
   "cell_type": "markdown",
   "metadata": {},
   "source": [
    "### Build the VIT Model : Embedding &rarr; Transformer Encoder &rarr; MLP_Head"
   ]
  },
  {
   "cell_type": "code",
   "execution_count": 15,
   "metadata": {},
   "outputs": [],
   "source": [
    "class ImageEmbedding(nn.Module):\n",
    "\n",
    "    def __init__(self, slice_input_size, slice_embed_size, img_slices, dropout_ratio=0.2):\n",
    "        super().__init__()\n",
    "\n",
    "        self.img_to_embed = nn.Linear(slice_input_size, slice_embed_size)\n",
    "        self.cls_to_embed = nn.Parameter(torch.rand(1, slice_embed_size))\n",
    "        self.pos_to_embed = nn.Parameter(\n",
    "            torch.rand(1, img_slices + 1, slice_embed_size))\n",
    "\n",
    "        self.dropout = nn.Dropout(dropout_ratio)\n",
    "\n",
    "    def forward(self, flattened_imgs):\n",
    "        # the input is a batch of images each has been sliced to patches and each slice\n",
    "        # has been flattened. i.e. the shape of the input is:\n",
    "        # [no. of images ,no. of slices per image, size of the flattened image slice]\n",
    "        #\n",
    "        img_embedding = self.img_to_embed(flattened_imgs)\n",
    "\n",
    "        cls_embedding = self.cls_to_embed.repeat(img_embedding.size(0), 1, 1)\n",
    "        img_embedding = torch.concat([cls_embedding, img_embedding], dim=1)\n",
    "\n",
    "        position_embedding = self.pos_to_embed.repeat(\n",
    "            img_embedding.size(0), 1, 1)\n",
    "\n",
    "        img_and_pos_embedding = img_embedding + position_embedding\n",
    "        embedding = self.dropout(img_and_pos_embedding)\n",
    "        return embedding"
   ]
  },
  {
   "cell_type": "code",
   "execution_count": 16,
   "metadata": {},
   "outputs": [
    {
     "name": "stdout",
     "output_type": "stream",
     "text": [
      "Input Shape:  torch.Size([16, 16, 192])\n",
      "Output Shape:  torch.Size([16, 17, 192])\n"
     ]
    },
    {
     "data": {
      "text/plain": [
       "========================================================================================================================\n",
       "Layer (type (var_name))                  Input Shape          Output Shape         Param #              Trainable\n",
       "========================================================================================================================\n",
       "ImageEmbedding (ImageEmbedding)          [16, 16, 192]        [16, 17, 192]        3,456                True\n",
       "├─Linear (img_to_embed)                  [16, 16, 192]        [16, 16, 192]        37,056               True\n",
       "├─Dropout (dropout)                      [16, 17, 192]        [16, 17, 192]        --                   --\n",
       "========================================================================================================================\n",
       "Total params: 40,512\n",
       "Trainable params: 40,512\n",
       "Non-trainable params: 0\n",
       "Total mult-adds (Units.MEGABYTES): 0.59\n",
       "========================================================================================================================\n",
       "Input size (MB): 0.20\n",
       "Forward/backward pass size (MB): 0.39\n",
       "Params size (MB): 0.15\n",
       "Estimated Total Size (MB): 0.74\n",
       "========================================================================================================================"
      ]
     },
     "execution_count": 16,
     "metadata": {},
     "output_type": "execute_result"
    }
   ],
   "source": [
    "_, tr_img_t, _ = next(iter(Im_tr_loader))\n",
    "\n",
    "slice_embed = slice_flat\n",
    "\n",
    "embedding_layer = ImageEmbedding(slice_input_size=slice_flat,\n",
    "                                 slice_embed_size=slice_embed,\n",
    "                                 img_slices=slices,\n",
    "                                 dropout_ratio=0.2)\n",
    "\n",
    "embedding_output = embedding_layer(tr_img_t)\n",
    "\n",
    "print(\"Input Shape: \", tr_img_t.size())\n",
    "print(\"Output Shape: \", embedding_output.size())\n",
    "# print(embedding_output)\n",
    "\n",
    "summary(model=embedding_layer,\n",
    "        input_size=(16, 16, 192),\n",
    "        col_names=[\"input_size\", \"output_size\", \"num_params\", \"trainable\"],\n",
    "        col_width=20,\n",
    "        row_settings=[\"var_names\"])"
   ]
  },
  {
   "cell_type": "code",
   "execution_count": 17,
   "metadata": {},
   "outputs": [],
   "source": [
    "class Encoder(nn.Module):\n",
    "\n",
    "    def __init__(self, size, num_heads, dropout=0.1):\n",
    "        super().__init__()\n",
    "\n",
    "        self.norm_attention = nn.LayerNorm(size)\n",
    "        self.attention = nn.MultiheadAttention(\n",
    "            embed_dim=size,\n",
    "            num_heads=num_heads,\n",
    "            dropout=0.0,\n",
    "            bias=True,\n",
    "            batch_first=True)\n",
    "\n",
    "        self.norm_feed_forward = nn.LayerNorm(size)\n",
    "        self.feed_forward = nn.Sequential(\n",
    "            nn.Linear(size, 4 * size),\n",
    "            nn.Dropout(dropout),\n",
    "            nn.GELU(),\n",
    "            nn.Linear(4 * size, size),\n",
    "            nn.Dropout(dropout))\n",
    "\n",
    "    def forward(self, input_tensor):\n",
    "        attn_input = self.norm_attention(input_tensor)\n",
    "        query = key = value = attn_input\n",
    "        attn_output,_=self.attention(query=query, key=key, value=value)\n",
    "\n",
    "        attn_plus_norm = input_tensor + attn_output\n",
    "        \n",
    "        mlp_input = self.norm_feed_forward(attn_plus_norm)\n",
    "        output = attn_plus_norm + self.feed_forward(mlp_input)\n",
    "        \n",
    "        return output"
   ]
  },
  {
   "cell_type": "code",
   "execution_count": 18,
   "metadata": {},
   "outputs": [
    {
     "name": "stdout",
     "output_type": "stream",
     "text": [
      "Output Shape:  torch.Size([16, 17, 192])\n"
     ]
    },
    {
     "data": {
      "text/plain": [
       "========================================================================================================================\n",
       "Layer (type (var_name))                  Input Shape          Output Shape         Param #              Trainable\n",
       "========================================================================================================================\n",
       "Encoder (Encoder)                        [16, 17, 192]        [16, 17, 192]        --                   True\n",
       "├─LayerNorm (norm_attention)             [16, 17, 192]        [16, 17, 192]        384                  True\n",
       "├─MultiheadAttention (attention)         --                   [16, 17, 192]        148,224              True\n",
       "├─LayerNorm (norm_feed_forward)          [16, 17, 192]        [16, 17, 192]        384                  True\n",
       "├─Sequential (feed_forward)              [16, 17, 192]        [16, 17, 192]        --                   True\n",
       "│    └─Linear (0)                        [16, 17, 192]        [16, 17, 768]        148,224              True\n",
       "│    └─Dropout (1)                       [16, 17, 768]        [16, 17, 768]        --                   --\n",
       "│    └─GELU (2)                          [16, 17, 768]        [16, 17, 768]        --                   --\n",
       "│    └─Linear (3)                        [16, 17, 768]        [16, 17, 192]        147,648              True\n",
       "│    └─Dropout (4)                       [16, 17, 192]        [16, 17, 192]        --                   --\n",
       "========================================================================================================================\n",
       "Total params: 444,864\n",
       "Trainable params: 444,864\n",
       "Non-trainable params: 0\n",
       "Total mult-adds (Units.MEGABYTES): 4.75\n",
       "========================================================================================================================\n",
       "Input size (MB): 0.21\n",
       "Forward/backward pass size (MB): 2.92\n",
       "Params size (MB): 1.19\n",
       "Estimated Total Size (MB): 4.32\n",
       "========================================================================================================================"
      ]
     },
     "execution_count": 18,
     "metadata": {},
     "output_type": "execute_result"
    }
   ],
   "source": [
    "encoder_layer = Encoder(size=slice_flat, num_heads=12, dropout=0.1)\n",
    "encoder_output = encoder_layer(embedding_output)\n",
    "\n",
    "print(\"Output Shape: \", encoder_output.size())\n",
    "\n",
    "summary(model=encoder_layer,\n",
    "        input_size=(16, 17, 192),\n",
    "        col_names=[\"input_size\", \"output_size\", \"num_params\", \"trainable\"],\n",
    "        col_width=20,\n",
    "        row_settings=[\"var_names\"])\n"
   ]
  },
  {
   "cell_type": "code",
   "execution_count": 19,
   "metadata": {},
   "outputs": [],
   "source": [
    "class VIT(nn.Module):\n",
    "    def __init__(self,\n",
    "                 slice_input_size,\n",
    "                 slice_embed_size,\n",
    "                 img_slices,\n",
    "                 num_classes,\n",
    "                 num_heads,\n",
    "                 num_encoders=1,\n",
    "                 emb_dropout=0.1,\n",
    "                 enc_dropout=0.1,\n",
    "                 lr=1e-4, min_lr=4e-5,\n",
    "                 weight_decay=0.1,\n",
    "                 epochs=200):\n",
    "        super().__init__()\n",
    "\n",
    "        self.embedding = ImageEmbedding(\n",
    "            slice_input_size=slice_input_size,\n",
    "            slice_embed_size=slice_embed_size,\n",
    "            img_slices=img_slices,\n",
    "            dropout_ratio=emb_dropout)\n",
    "        \n",
    "        self.encoders = nn.Sequential(\n",
    "            *[Encoder(slice_embed_size, num_heads, dropout=enc_dropout) for _ in range(num_encoders)],)\n",
    "        \n",
    "        self.mlp_head = nn.Linear(slice_embed_size, num_classes)\n",
    "\n",
    "        self.lr = lr\n",
    "        self.min_lr = min_lr\n",
    "        self.weight_decay = weight_decay\n",
    "        self.epochs = epochs\n",
    "\n",
    "    def forward(self, flattened_img):\n",
    "        emb = self.embedding(flattened_img)\n",
    "        attn = self.encoders(emb)\n",
    "        output = self.mlp_head(attn[:, 0, :])\n",
    "\n",
    "        return output"
   ]
  },
  {
   "cell_type": "code",
   "execution_count": 20,
   "metadata": {},
   "outputs": [
    {
     "name": "stdout",
     "output_type": "stream",
     "text": [
      "Input Shape:  torch.Size([16, 16, 192])\n",
      "Output Shape:  torch.Size([16, 2])\n"
     ]
    },
    {
     "data": {
      "text/plain": [
       "==================================================================================================================================\n",
       "Layer (type (var_name))                            Input Shape          Output Shape         Param #              Trainable\n",
       "==================================================================================================================================\n",
       "VIT (VIT)                                          [16, 16, 192]        [16, 2]              --                   True\n",
       "├─ImageEmbedding (embedding)                       [16, 16, 192]        [16, 17, 192]        3,456                True\n",
       "│    └─Linear (img_to_embed)                       [16, 16, 192]        [16, 16, 192]        37,056               True\n",
       "│    └─Dropout (dropout)                           [16, 17, 192]        [16, 17, 192]        --                   --\n",
       "├─Sequential (encoders)                            [16, 17, 192]        [16, 17, 192]        --                   True\n",
       "│    └─Encoder (0)                                 [16, 17, 192]        [16, 17, 192]        --                   True\n",
       "│    │    └─LayerNorm (norm_attention)             [16, 17, 192]        [16, 17, 192]        384                  True\n",
       "│    │    └─MultiheadAttention (attention)         --                   [16, 17, 192]        148,224              True\n",
       "│    │    └─LayerNorm (norm_feed_forward)          [16, 17, 192]        [16, 17, 192]        384                  True\n",
       "│    │    └─Sequential (feed_forward)              [16, 17, 192]        [16, 17, 192]        295,872              True\n",
       "│    └─Encoder (1)                                 [16, 17, 192]        [16, 17, 192]        --                   True\n",
       "│    │    └─LayerNorm (norm_attention)             [16, 17, 192]        [16, 17, 192]        384                  True\n",
       "│    │    └─MultiheadAttention (attention)         --                   [16, 17, 192]        148,224              True\n",
       "│    │    └─LayerNorm (norm_feed_forward)          [16, 17, 192]        [16, 17, 192]        384                  True\n",
       "│    │    └─Sequential (feed_forward)              [16, 17, 192]        [16, 17, 192]        295,872              True\n",
       "├─Linear (mlp_head)                                [16, 192]            [16, 2]              386                  True\n",
       "==================================================================================================================================\n",
       "Total params: 930,626\n",
       "Trainable params: 930,626\n",
       "Non-trainable params: 0\n",
       "Total mult-adds (Units.MEGABYTES): 10.09\n",
       "==================================================================================================================================\n",
       "Input size (MB): 0.20\n",
       "Forward/backward pass size (MB): 6.24\n",
       "Params size (MB): 2.52\n",
       "Estimated Total Size (MB): 8.96\n",
       "=================================================================================================================================="
      ]
     },
     "execution_count": 20,
     "metadata": {},
     "output_type": "execute_result"
    }
   ],
   "source": [
    "slice_embed = slice_flat\n",
    "\n",
    "vit_layer = VIT(slice_input_size=slice_flat,\n",
    "                slice_embed_size=slice_embed,\n",
    "                img_slices=slices,\n",
    "                num_classes=2,\n",
    "                num_heads=12,\n",
    "                num_encoders=2,\n",
    "                emb_dropout=0.1,\n",
    "                enc_dropout=0.1,\n",
    "                lr=1e-4, min_lr=4e-5,\n",
    "                weight_decay=0.1,\n",
    "                epochs=200)\n",
    "\n",
    "vit_output = vit_layer (tr_img_t)\n",
    "\n",
    "print(\"Input Shape: \", tr_img_t.size())\n",
    "print(\"Output Shape: \", vit_output.size())\n",
    "\n",
    "summary(model=vit_layer,\n",
    "        input_size=(16, 16, 192),\n",
    "        col_names=[\"input_size\", \"output_size\", \"num_params\", \"trainable\"],\n",
    "        col_width=20,\n",
    "        row_settings=[\"var_names\"])"
   ]
  },
  {
   "cell_type": "code",
   "execution_count": 21,
   "metadata": {},
   "outputs": [],
   "source": [
    "# a1= torch.tensor([[[1,2],[3,4],[5,6]]])\n",
    "# print(a1.size())\n",
    "# a2= torch.tensor([[[10,20],[30,40]]])\n",
    "# torch.bmm(a1,a2)"
   ]
  }
 ],
 "metadata": {
  "kernelspec": {
   "display_name": "pytVenv",
   "language": "python",
   "name": "python3"
  },
  "language_info": {
   "codemirror_mode": {
    "name": "ipython",
    "version": 3
   },
   "file_extension": ".py",
   "mimetype": "text/x-python",
   "name": "python",
   "nbconvert_exporter": "python",
   "pygments_lexer": "ipython3",
   "version": "3.11.0rc1"
  }
 },
 "nbformat": 4,
 "nbformat_minor": 2
}
